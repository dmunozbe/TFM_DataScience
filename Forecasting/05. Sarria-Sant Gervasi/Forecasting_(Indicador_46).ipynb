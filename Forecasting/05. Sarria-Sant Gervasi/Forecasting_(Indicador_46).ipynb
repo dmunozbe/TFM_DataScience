{
  "cells": [
    {
      "cell_type": "markdown",
      "metadata": {
        "id": "view-in-github",
        "colab_type": "text"
      },
      "source": [
        "<a href=\"https://colab.research.google.com/github/dmunozbe/TFM_DataScience/blob/main/Forecasting/05.%20Sarria-Sant%20Gervasi/Forecasting_(Indicador_46).ipynb\" target=\"_parent\"><img src=\"https://colab.research.google.com/assets/colab-badge.svg\" alt=\"Open In Colab\"/></a>"
      ]
    },
    {
      "cell_type": "markdown",
      "metadata": {
        "id": "0p7EJF28yyC8"
      },
      "source": [
        "# **Forecasting**\n",
        "\n",
        "\n"
      ]
    },
    {
      "cell_type": "markdown",
      "metadata": {
        "id": "ioTGaiCDEb5i"
      },
      "source": [
        "**Forecasting** es el proceso de predecir eventos futuros basados en patrones históricos y datos existentes.\n",
        "\n",
        "El objetivo principal es el de hacer predicciones precisas sobre el futuro utilizando datos pasados y presentes y se utiliza en una amplia variaedad de constextos, como en finanzas, meteorologia, ventas entre otros\n",
        "\n",
        "Se realizaran comprobaciones de cointegracion, estacionariedad, para determinar que modelo aplicar entre los seleccionados:\n",
        "\n",
        "* Modelos VAR (Vector Autoregressive)\n",
        "* Modelos VARMA (Vector Autoregressive Moving Average)\n",
        "* Modelos VARMAx (VARMA con Variables Exógenas)\n",
        "* Modelos VECM (Vector Error Correlation Model)"
      ]
    },
    {
      "cell_type": "markdown",
      "metadata": {
        "id": "AV9FZlYWReGR"
      },
      "source": [
        "##Importar bibliotecas"
      ]
    },
    {
      "cell_type": "code",
      "execution_count": 1,
      "metadata": {
        "id": "nQ5PEOwwytuT"
      },
      "outputs": [],
      "source": [
        "import pandas as pd\n",
        "import numpy as np\n",
        "%matplotlib inline\n",
        "import seaborn as sns\n",
        "import matplotlib.pyplot as plt\n",
        "from matplotlib.pyplot import figure\n",
        "from sklearn import metrics\n",
        "\n",
        "\n",
        "import warnings\n",
        "warnings.filterwarnings(\"ignore\")"
      ]
    },
    {
      "cell_type": "markdown",
      "metadata": {
        "id": "7MJ6Iz9XRYGi"
      },
      "source": [
        "##Carga de datos"
      ]
    },
    {
      "cell_type": "code",
      "execution_count": 2,
      "metadata": {
        "colab": {
          "base_uri": "https://localhost:8080/",
          "height": 243
        },
        "id": "sqL1iuYSLMXK",
        "outputId": "be1a9c92-91fc-47a8-f18b-8d3a3897c3f4"
      },
      "outputs": [
        {
          "output_type": "execute_result",
          "data": {
            "text/plain": [
              "    Any  Trimestre  Mes  Codi_Districte Nom_Districte  Codi_Barri Nom_Barri  \\\n",
              "0  2014          1    1               1  Ciutat Vella           1  el Raval   \n",
              "1  2014          1    2               1  Ciutat Vella           1  el Raval   \n",
              "2  2014          1    3               1  Ciutat Vella           1  el Raval   \n",
              "3  2014          2    4               1  Ciutat Vella           1  el Raval   \n",
              "4  2014          2    5               1  Ciutat Vella           1  el Raval   \n",
              "\n",
              "   Compraventa_Unitario  ParadosReg  Estudios_Obligatorios  ConsumResidencial  \\\n",
              "0                2813.0        4588                    NaN                NaN   \n",
              "1                2813.0        4539                    NaN                NaN   \n",
              "2                2813.0        4572                    NaN                NaN   \n",
              "3                2948.8        4510                    NaN                NaN   \n",
              "4                2948.8        4379                    NaN                NaN   \n",
              "\n",
              "   Pm25  Pm10  Participacion  AñosEspVida  Internet  Movil  Index_Turisme  \\\n",
              "0   NaN   NaN           41.8         80.7       NaN    NaN            NaN   \n",
              "1   NaN   NaN           41.8         80.7       NaN    NaN            NaN   \n",
              "2   NaN   NaN           41.8         80.7       NaN    NaN            NaN   \n",
              "3   NaN   NaN           41.8         80.7       NaN    NaN            NaN   \n",
              "4   NaN   NaN           41.8         80.7       NaN    NaN            NaN   \n",
              "\n",
              "   m² por habitante  \n",
              "0               6.2  \n",
              "1               6.2  \n",
              "2               6.2  \n",
              "3               6.2  \n",
              "4               6.2  "
            ],
            "text/html": [
              "\n",
              "  <div id=\"df-b51be983-dcea-4fe2-96fa-a0209155e01b\" class=\"colab-df-container\">\n",
              "    <div>\n",
              "<style scoped>\n",
              "    .dataframe tbody tr th:only-of-type {\n",
              "        vertical-align: middle;\n",
              "    }\n",
              "\n",
              "    .dataframe tbody tr th {\n",
              "        vertical-align: top;\n",
              "    }\n",
              "\n",
              "    .dataframe thead th {\n",
              "        text-align: right;\n",
              "    }\n",
              "</style>\n",
              "<table border=\"1\" class=\"dataframe\">\n",
              "  <thead>\n",
              "    <tr style=\"text-align: right;\">\n",
              "      <th></th>\n",
              "      <th>Any</th>\n",
              "      <th>Trimestre</th>\n",
              "      <th>Mes</th>\n",
              "      <th>Codi_Districte</th>\n",
              "      <th>Nom_Districte</th>\n",
              "      <th>Codi_Barri</th>\n",
              "      <th>Nom_Barri</th>\n",
              "      <th>Compraventa_Unitario</th>\n",
              "      <th>ParadosReg</th>\n",
              "      <th>Estudios_Obligatorios</th>\n",
              "      <th>ConsumResidencial</th>\n",
              "      <th>Pm25</th>\n",
              "      <th>Pm10</th>\n",
              "      <th>Participacion</th>\n",
              "      <th>AñosEspVida</th>\n",
              "      <th>Internet</th>\n",
              "      <th>Movil</th>\n",
              "      <th>Index_Turisme</th>\n",
              "      <th>m² por habitante</th>\n",
              "    </tr>\n",
              "  </thead>\n",
              "  <tbody>\n",
              "    <tr>\n",
              "      <th>0</th>\n",
              "      <td>2014</td>\n",
              "      <td>1</td>\n",
              "      <td>1</td>\n",
              "      <td>1</td>\n",
              "      <td>Ciutat Vella</td>\n",
              "      <td>1</td>\n",
              "      <td>el Raval</td>\n",
              "      <td>2813.0</td>\n",
              "      <td>4588</td>\n",
              "      <td>NaN</td>\n",
              "      <td>NaN</td>\n",
              "      <td>NaN</td>\n",
              "      <td>NaN</td>\n",
              "      <td>41.8</td>\n",
              "      <td>80.7</td>\n",
              "      <td>NaN</td>\n",
              "      <td>NaN</td>\n",
              "      <td>NaN</td>\n",
              "      <td>6.2</td>\n",
              "    </tr>\n",
              "    <tr>\n",
              "      <th>1</th>\n",
              "      <td>2014</td>\n",
              "      <td>1</td>\n",
              "      <td>2</td>\n",
              "      <td>1</td>\n",
              "      <td>Ciutat Vella</td>\n",
              "      <td>1</td>\n",
              "      <td>el Raval</td>\n",
              "      <td>2813.0</td>\n",
              "      <td>4539</td>\n",
              "      <td>NaN</td>\n",
              "      <td>NaN</td>\n",
              "      <td>NaN</td>\n",
              "      <td>NaN</td>\n",
              "      <td>41.8</td>\n",
              "      <td>80.7</td>\n",
              "      <td>NaN</td>\n",
              "      <td>NaN</td>\n",
              "      <td>NaN</td>\n",
              "      <td>6.2</td>\n",
              "    </tr>\n",
              "    <tr>\n",
              "      <th>2</th>\n",
              "      <td>2014</td>\n",
              "      <td>1</td>\n",
              "      <td>3</td>\n",
              "      <td>1</td>\n",
              "      <td>Ciutat Vella</td>\n",
              "      <td>1</td>\n",
              "      <td>el Raval</td>\n",
              "      <td>2813.0</td>\n",
              "      <td>4572</td>\n",
              "      <td>NaN</td>\n",
              "      <td>NaN</td>\n",
              "      <td>NaN</td>\n",
              "      <td>NaN</td>\n",
              "      <td>41.8</td>\n",
              "      <td>80.7</td>\n",
              "      <td>NaN</td>\n",
              "      <td>NaN</td>\n",
              "      <td>NaN</td>\n",
              "      <td>6.2</td>\n",
              "    </tr>\n",
              "    <tr>\n",
              "      <th>3</th>\n",
              "      <td>2014</td>\n",
              "      <td>2</td>\n",
              "      <td>4</td>\n",
              "      <td>1</td>\n",
              "      <td>Ciutat Vella</td>\n",
              "      <td>1</td>\n",
              "      <td>el Raval</td>\n",
              "      <td>2948.8</td>\n",
              "      <td>4510</td>\n",
              "      <td>NaN</td>\n",
              "      <td>NaN</td>\n",
              "      <td>NaN</td>\n",
              "      <td>NaN</td>\n",
              "      <td>41.8</td>\n",
              "      <td>80.7</td>\n",
              "      <td>NaN</td>\n",
              "      <td>NaN</td>\n",
              "      <td>NaN</td>\n",
              "      <td>6.2</td>\n",
              "    </tr>\n",
              "    <tr>\n",
              "      <th>4</th>\n",
              "      <td>2014</td>\n",
              "      <td>2</td>\n",
              "      <td>5</td>\n",
              "      <td>1</td>\n",
              "      <td>Ciutat Vella</td>\n",
              "      <td>1</td>\n",
              "      <td>el Raval</td>\n",
              "      <td>2948.8</td>\n",
              "      <td>4379</td>\n",
              "      <td>NaN</td>\n",
              "      <td>NaN</td>\n",
              "      <td>NaN</td>\n",
              "      <td>NaN</td>\n",
              "      <td>41.8</td>\n",
              "      <td>80.7</td>\n",
              "      <td>NaN</td>\n",
              "      <td>NaN</td>\n",
              "      <td>NaN</td>\n",
              "      <td>6.2</td>\n",
              "    </tr>\n",
              "  </tbody>\n",
              "</table>\n",
              "</div>\n",
              "    <div class=\"colab-df-buttons\">\n",
              "\n",
              "  <div class=\"colab-df-container\">\n",
              "    <button class=\"colab-df-convert\" onclick=\"convertToInteractive('df-b51be983-dcea-4fe2-96fa-a0209155e01b')\"\n",
              "            title=\"Convert this dataframe to an interactive table.\"\n",
              "            style=\"display:none;\">\n",
              "\n",
              "  <svg xmlns=\"http://www.w3.org/2000/svg\" height=\"24px\" viewBox=\"0 -960 960 960\">\n",
              "    <path d=\"M120-120v-720h720v720H120Zm60-500h600v-160H180v160Zm220 220h160v-160H400v160Zm0 220h160v-160H400v160ZM180-400h160v-160H180v160Zm440 0h160v-160H620v160ZM180-180h160v-160H180v160Zm440 0h160v-160H620v160Z\"/>\n",
              "  </svg>\n",
              "    </button>\n",
              "\n",
              "  <style>\n",
              "    .colab-df-container {\n",
              "      display:flex;\n",
              "      gap: 12px;\n",
              "    }\n",
              "\n",
              "    .colab-df-convert {\n",
              "      background-color: #E8F0FE;\n",
              "      border: none;\n",
              "      border-radius: 50%;\n",
              "      cursor: pointer;\n",
              "      display: none;\n",
              "      fill: #1967D2;\n",
              "      height: 32px;\n",
              "      padding: 0 0 0 0;\n",
              "      width: 32px;\n",
              "    }\n",
              "\n",
              "    .colab-df-convert:hover {\n",
              "      background-color: #E2EBFA;\n",
              "      box-shadow: 0px 1px 2px rgba(60, 64, 67, 0.3), 0px 1px 3px 1px rgba(60, 64, 67, 0.15);\n",
              "      fill: #174EA6;\n",
              "    }\n",
              "\n",
              "    .colab-df-buttons div {\n",
              "      margin-bottom: 4px;\n",
              "    }\n",
              "\n",
              "    [theme=dark] .colab-df-convert {\n",
              "      background-color: #3B4455;\n",
              "      fill: #D2E3FC;\n",
              "    }\n",
              "\n",
              "    [theme=dark] .colab-df-convert:hover {\n",
              "      background-color: #434B5C;\n",
              "      box-shadow: 0px 1px 3px 1px rgba(0, 0, 0, 0.15);\n",
              "      filter: drop-shadow(0px 1px 2px rgba(0, 0, 0, 0.3));\n",
              "      fill: #FFFFFF;\n",
              "    }\n",
              "  </style>\n",
              "\n",
              "    <script>\n",
              "      const buttonEl =\n",
              "        document.querySelector('#df-b51be983-dcea-4fe2-96fa-a0209155e01b button.colab-df-convert');\n",
              "      buttonEl.style.display =\n",
              "        google.colab.kernel.accessAllowed ? 'block' : 'none';\n",
              "\n",
              "      async function convertToInteractive(key) {\n",
              "        const element = document.querySelector('#df-b51be983-dcea-4fe2-96fa-a0209155e01b');\n",
              "        const dataTable =\n",
              "          await google.colab.kernel.invokeFunction('convertToInteractive',\n",
              "                                                    [key], {});\n",
              "        if (!dataTable) return;\n",
              "\n",
              "        const docLinkHtml = 'Like what you see? Visit the ' +\n",
              "          '<a target=\"_blank\" href=https://colab.research.google.com/notebooks/data_table.ipynb>data table notebook</a>'\n",
              "          + ' to learn more about interactive tables.';\n",
              "        element.innerHTML = '';\n",
              "        dataTable['output_type'] = 'display_data';\n",
              "        await google.colab.output.renderOutput(dataTable, element);\n",
              "        const docLink = document.createElement('div');\n",
              "        docLink.innerHTML = docLinkHtml;\n",
              "        element.appendChild(docLink);\n",
              "      }\n",
              "    </script>\n",
              "  </div>\n",
              "\n",
              "\n",
              "<div id=\"df-fdd38ea7-999d-4a59-8127-51a41df6d3db\">\n",
              "  <button class=\"colab-df-quickchart\" onclick=\"quickchart('df-fdd38ea7-999d-4a59-8127-51a41df6d3db')\"\n",
              "            title=\"Suggest charts\"\n",
              "            style=\"display:none;\">\n",
              "\n",
              "<svg xmlns=\"http://www.w3.org/2000/svg\" height=\"24px\"viewBox=\"0 0 24 24\"\n",
              "     width=\"24px\">\n",
              "    <g>\n",
              "        <path d=\"M19 3H5c-1.1 0-2 .9-2 2v14c0 1.1.9 2 2 2h14c1.1 0 2-.9 2-2V5c0-1.1-.9-2-2-2zM9 17H7v-7h2v7zm4 0h-2V7h2v10zm4 0h-2v-4h2v4z\"/>\n",
              "    </g>\n",
              "</svg>\n",
              "  </button>\n",
              "\n",
              "<style>\n",
              "  .colab-df-quickchart {\n",
              "      --bg-color: #E8F0FE;\n",
              "      --fill-color: #1967D2;\n",
              "      --hover-bg-color: #E2EBFA;\n",
              "      --hover-fill-color: #174EA6;\n",
              "      --disabled-fill-color: #AAA;\n",
              "      --disabled-bg-color: #DDD;\n",
              "  }\n",
              "\n",
              "  [theme=dark] .colab-df-quickchart {\n",
              "      --bg-color: #3B4455;\n",
              "      --fill-color: #D2E3FC;\n",
              "      --hover-bg-color: #434B5C;\n",
              "      --hover-fill-color: #FFFFFF;\n",
              "      --disabled-bg-color: #3B4455;\n",
              "      --disabled-fill-color: #666;\n",
              "  }\n",
              "\n",
              "  .colab-df-quickchart {\n",
              "    background-color: var(--bg-color);\n",
              "    border: none;\n",
              "    border-radius: 50%;\n",
              "    cursor: pointer;\n",
              "    display: none;\n",
              "    fill: var(--fill-color);\n",
              "    height: 32px;\n",
              "    padding: 0;\n",
              "    width: 32px;\n",
              "  }\n",
              "\n",
              "  .colab-df-quickchart:hover {\n",
              "    background-color: var(--hover-bg-color);\n",
              "    box-shadow: 0 1px 2px rgba(60, 64, 67, 0.3), 0 1px 3px 1px rgba(60, 64, 67, 0.15);\n",
              "    fill: var(--button-hover-fill-color);\n",
              "  }\n",
              "\n",
              "  .colab-df-quickchart-complete:disabled,\n",
              "  .colab-df-quickchart-complete:disabled:hover {\n",
              "    background-color: var(--disabled-bg-color);\n",
              "    fill: var(--disabled-fill-color);\n",
              "    box-shadow: none;\n",
              "  }\n",
              "\n",
              "  .colab-df-spinner {\n",
              "    border: 2px solid var(--fill-color);\n",
              "    border-color: transparent;\n",
              "    border-bottom-color: var(--fill-color);\n",
              "    animation:\n",
              "      spin 1s steps(1) infinite;\n",
              "  }\n",
              "\n",
              "  @keyframes spin {\n",
              "    0% {\n",
              "      border-color: transparent;\n",
              "      border-bottom-color: var(--fill-color);\n",
              "      border-left-color: var(--fill-color);\n",
              "    }\n",
              "    20% {\n",
              "      border-color: transparent;\n",
              "      border-left-color: var(--fill-color);\n",
              "      border-top-color: var(--fill-color);\n",
              "    }\n",
              "    30% {\n",
              "      border-color: transparent;\n",
              "      border-left-color: var(--fill-color);\n",
              "      border-top-color: var(--fill-color);\n",
              "      border-right-color: var(--fill-color);\n",
              "    }\n",
              "    40% {\n",
              "      border-color: transparent;\n",
              "      border-right-color: var(--fill-color);\n",
              "      border-top-color: var(--fill-color);\n",
              "    }\n",
              "    60% {\n",
              "      border-color: transparent;\n",
              "      border-right-color: var(--fill-color);\n",
              "    }\n",
              "    80% {\n",
              "      border-color: transparent;\n",
              "      border-right-color: var(--fill-color);\n",
              "      border-bottom-color: var(--fill-color);\n",
              "    }\n",
              "    90% {\n",
              "      border-color: transparent;\n",
              "      border-bottom-color: var(--fill-color);\n",
              "    }\n",
              "  }\n",
              "</style>\n",
              "\n",
              "  <script>\n",
              "    async function quickchart(key) {\n",
              "      const quickchartButtonEl =\n",
              "        document.querySelector('#' + key + ' button');\n",
              "      quickchartButtonEl.disabled = true;  // To prevent multiple clicks.\n",
              "      quickchartButtonEl.classList.add('colab-df-spinner');\n",
              "      try {\n",
              "        const charts = await google.colab.kernel.invokeFunction(\n",
              "            'suggestCharts', [key], {});\n",
              "      } catch (error) {\n",
              "        console.error('Error during call to suggestCharts:', error);\n",
              "      }\n",
              "      quickchartButtonEl.classList.remove('colab-df-spinner');\n",
              "      quickchartButtonEl.classList.add('colab-df-quickchart-complete');\n",
              "    }\n",
              "    (() => {\n",
              "      let quickchartButtonEl =\n",
              "        document.querySelector('#df-fdd38ea7-999d-4a59-8127-51a41df6d3db button');\n",
              "      quickchartButtonEl.style.display =\n",
              "        google.colab.kernel.accessAllowed ? 'block' : 'none';\n",
              "    })();\n",
              "  </script>\n",
              "</div>\n",
              "    </div>\n",
              "  </div>\n"
            ],
            "application/vnd.google.colaboratory.intrinsic+json": {
              "type": "dataframe",
              "variable_name": "data",
              "summary": "{\n  \"name\": \"data\",\n  \"rows\": 8541,\n  \"fields\": [\n    {\n      \"column\": \"Any\",\n      \"properties\": {\n        \"dtype\": \"number\",\n        \"std\": 2,\n        \"min\": 2014,\n        \"max\": 2023,\n        \"num_unique_values\": 10,\n        \"samples\": [\n          2022,\n          2015,\n          2019\n        ],\n        \"semantic_type\": \"\",\n        \"description\": \"\"\n      }\n    },\n    {\n      \"column\": \"Trimestre\",\n      \"properties\": {\n        \"dtype\": \"number\",\n        \"std\": 1,\n        \"min\": 1,\n        \"max\": 4,\n        \"num_unique_values\": 4,\n        \"samples\": [\n          2,\n          4,\n          1\n        ],\n        \"semantic_type\": \"\",\n        \"description\": \"\"\n      }\n    },\n    {\n      \"column\": \"Mes\",\n      \"properties\": {\n        \"dtype\": \"number\",\n        \"std\": 3,\n        \"min\": 1,\n        \"max\": 12,\n        \"num_unique_values\": 12,\n        \"samples\": [\n          11,\n          10,\n          1\n        ],\n        \"semantic_type\": \"\",\n        \"description\": \"\"\n      }\n    },\n    {\n      \"column\": \"Codi_Districte\",\n      \"properties\": {\n        \"dtype\": \"number\",\n        \"std\": 2,\n        \"min\": 1,\n        \"max\": 10,\n        \"num_unique_values\": 10,\n        \"samples\": [\n          9,\n          2,\n          6\n        ],\n        \"semantic_type\": \"\",\n        \"description\": \"\"\n      }\n    },\n    {\n      \"column\": \"Nom_Districte\",\n      \"properties\": {\n        \"dtype\": \"category\",\n        \"num_unique_values\": 10,\n        \"samples\": [\n          \"Sant Andreu\",\n          \"Eixample\",\n          \"Gr\\u00e0cia\"\n        ],\n        \"semantic_type\": \"\",\n        \"description\": \"\"\n      }\n    },\n    {\n      \"column\": \"Codi_Barri\",\n      \"properties\": {\n        \"dtype\": \"number\",\n        \"std\": 21,\n        \"min\": 1,\n        \"max\": 73,\n        \"num_unique_values\": 73,\n        \"samples\": [\n          5,\n          64,\n          19\n        ],\n        \"semantic_type\": \"\",\n        \"description\": \"\"\n      }\n    },\n    {\n      \"column\": \"Nom_Barri\",\n      \"properties\": {\n        \"dtype\": \"category\",\n        \"num_unique_values\": 73,\n        \"samples\": [\n          \"el Fort Pienc\",\n          \"el Camp de l'Arpa del Clot\",\n          \"les Corts\"\n        ],\n        \"semantic_type\": \"\",\n        \"description\": \"\"\n      }\n    },\n    {\n      \"column\": \"Compraventa_Unitario\",\n      \"properties\": {\n        \"dtype\": \"number\",\n        \"std\": 1275.0461526307304,\n        \"min\": 217.2,\n        \"max\": 10961.2,\n        \"num_unique_values\": 2170,\n        \"samples\": [\n          4807.2,\n          4193.4,\n          3508.0\n        ],\n        \"semantic_type\": \"\",\n        \"description\": \"\"\n      }\n    },\n    {\n      \"column\": \"ParadosReg\",\n      \"properties\": {\n        \"dtype\": \"number\",\n        \"std\": 748,\n        \"min\": 15,\n        \"max\": 5295,\n        \"num_unique_values\": 2514,\n        \"samples\": [\n          4093,\n          551,\n          1466\n        ],\n        \"semantic_type\": \"\",\n        \"description\": \"\"\n      }\n    },\n    {\n      \"column\": \"Estudios_Obligatorios\",\n      \"properties\": {\n        \"dtype\": \"number\",\n        \"std\": 1.2766390800732295,\n        \"min\": 94.1,\n        \"max\": 99.6,\n        \"num_unique_values\": 37,\n        \"samples\": [\n          98.5,\n          96.0,\n          97.8\n        ],\n        \"semantic_type\": \"\",\n        \"description\": \"\"\n      }\n    },\n    {\n      \"column\": \"ConsumResidencial\",\n      \"properties\": {\n        \"dtype\": \"number\",\n        \"std\": 6641961.276555788,\n        \"min\": 1599307.0,\n        \"max\": 46411373.0,\n        \"num_unique_values\": 3534,\n        \"samples\": [\n          22420192.0,\n          4441625.0,\n          8597173.0\n        ],\n        \"semantic_type\": \"\",\n        \"description\": \"\"\n      }\n    },\n    {\n      \"column\": \"Pm25\",\n      \"properties\": {\n        \"dtype\": \"number\",\n        \"std\": 0.3742695994049139,\n        \"min\": 1.81763826606876,\n        \"max\": 3.4377394636015324,\n        \"num_unique_values\": 50,\n        \"samples\": [\n          2.4966622162883847,\n          2.0293819655521785,\n          2.0183591508892715\n        ],\n        \"semantic_type\": \"\",\n        \"description\": \"\"\n      }\n    },\n    {\n      \"column\": \"Pm10\",\n      \"properties\": {\n        \"dtype\": \"number\",\n        \"std\": 0.23211619238920075,\n        \"min\": 1.379671150971599,\n        \"max\": 2.2308429118773945,\n        \"num_unique_values\": 41,\n        \"samples\": [\n          1.379671150971599,\n          2.0654205607476634,\n          2.020864381520119\n        ],\n        \"semantic_type\": \"\",\n        \"description\": \"\"\n      }\n    },\n    {\n      \"column\": \"Participacion\",\n      \"properties\": {\n        \"dtype\": \"number\",\n        \"std\": 6.123557392018656,\n        \"min\": 41.8,\n        \"max\": 72.5,\n        \"num_unique_values\": 39,\n        \"samples\": [\n          67.8,\n          57.8,\n          61.6\n        ],\n        \"semantic_type\": \"\",\n        \"description\": \"\"\n      }\n    },\n    {\n      \"column\": \"A\\u00f1osEspVida\",\n      \"properties\": {\n        \"dtype\": \"number\",\n        \"std\": 1.7485719359049254,\n        \"min\": 76.4,\n        \"max\": 87.7,\n        \"num_unique_values\": 78,\n        \"samples\": [\n          81.9,\n          80.7,\n          83.2\n        ],\n        \"semantic_type\": \"\",\n        \"description\": \"\"\n      }\n    },\n    {\n      \"column\": \"Internet\",\n      \"properties\": {\n        \"dtype\": \"number\",\n        \"std\": 5.658005470236122,\n        \"min\": 71.5,\n        \"max\": 97.0,\n        \"num_unique_values\": 66,\n        \"samples\": [\n          91.15,\n          97.0,\n          82.8\n        ],\n        \"semantic_type\": \"\",\n        \"description\": \"\"\n      }\n    },\n    {\n      \"column\": \"Movil\",\n      \"properties\": {\n        \"dtype\": \"number\",\n        \"std\": 1.5280518004995411,\n        \"min\": 91.2,\n        \"max\": 99.8,\n        \"num_unique_values\": 30,\n        \"samples\": [\n          98.6,\n          98.8,\n          98.5\n        ],\n        \"semantic_type\": \"\",\n        \"description\": \"\"\n      }\n    },\n    {\n      \"column\": \"Index_Turisme\",\n      \"properties\": {\n        \"dtype\": \"number\",\n        \"std\": 279.99953997435307,\n        \"min\": 120.60571428571428,\n        \"max\": 3241.03,\n        \"num_unique_values\": 219,\n        \"samples\": [\n          295.46500000000003,\n          504.8442857142857,\n          313.5733333333333\n        ],\n        \"semantic_type\": \"\",\n        \"description\": \"\"\n      }\n    },\n    {\n      \"column\": \"m\\u00b2 por habitante\",\n      \"properties\": {\n        \"dtype\": \"number\",\n        \"std\": 4.073146396218761,\n        \"min\": 1.9,\n        \"max\": 18.0,\n        \"num_unique_values\": 36,\n        \"samples\": [\n          8.15,\n          6.4,\n          8.3\n        ],\n        \"semantic_type\": \"\",\n        \"description\": \"\"\n      }\n    }\n  ]\n}"
            }
          },
          "metadata": {},
          "execution_count": 2
        }
      ],
      "source": [
        "# Cargar datos\n",
        "data = pd.read_csv('/content/drive/MyDrive/UOC/TFM/Datasets definitivos/Final.csv')\n",
        "data.head()"
      ]
    },
    {
      "cell_type": "code",
      "source": [
        "print(data.dtypes)"
      ],
      "metadata": {
        "colab": {
          "base_uri": "https://localhost:8080/"
        },
        "id": "eOy5K7SuiIMI",
        "outputId": "45ca6a98-d41e-4532-938c-0e495bf11486"
      },
      "execution_count": 3,
      "outputs": [
        {
          "output_type": "stream",
          "name": "stdout",
          "text": [
            "Any                        int64\n",
            "Trimestre                  int64\n",
            "Mes                        int64\n",
            "Codi_Districte             int64\n",
            "Nom_Districte             object\n",
            "Codi_Barri                 int64\n",
            "Nom_Barri                 object\n",
            "Compraventa_Unitario     float64\n",
            "ParadosReg                 int64\n",
            "Estudios_Obligatorios    float64\n",
            "ConsumResidencial        float64\n",
            "Pm25                     float64\n",
            "Pm10                     float64\n",
            "Participacion            float64\n",
            "AñosEspVida              float64\n",
            "Internet                 float64\n",
            "Movil                    float64\n",
            "Index_Turisme            float64\n",
            "m² por habitante         float64\n",
            "dtype: object\n"
          ]
        }
      ]
    },
    {
      "cell_type": "markdown",
      "source": [
        "## Analisis por grupo de indicadores (Esperanza de vida)"
      ],
      "metadata": {
        "id": "9W-lGuXhz2Sc"
      }
    },
    {
      "cell_type": "markdown",
      "source": [
        "### Preparacion de datos"
      ],
      "metadata": {
        "id": "ABOQVXNI0F0F"
      }
    },
    {
      "cell_type": "code",
      "source": [
        "df_sel = data[['Any','Trimestre','Mes','Codi_Districte','Nom_Districte','Codi_Barri','Nom_Barri','Compraventa_Unitario','AñosEspVida']]"
      ],
      "metadata": {
        "id": "m9UKVzU9i2SY"
      },
      "execution_count": 4,
      "outputs": []
    },
    {
      "cell_type": "code",
      "source": [
        "df_var = df_sel.dropna()"
      ],
      "metadata": {
        "id": "lGWxPwYE5HPP"
      },
      "execution_count": 5,
      "outputs": []
    },
    {
      "cell_type": "code",
      "source": [
        "df_var.info()"
      ],
      "metadata": {
        "colab": {
          "base_uri": "https://localhost:8080/"
        },
        "id": "tGxdmjiE5QzX",
        "outputId": "741bfc93-ae91-45f7-aadb-b55242408c01"
      },
      "execution_count": 6,
      "outputs": [
        {
          "output_type": "stream",
          "name": "stdout",
          "text": [
            "<class 'pandas.core.frame.DataFrame'>\n",
            "Index: 4968 entries, 0 to 5255\n",
            "Data columns (total 9 columns):\n",
            " #   Column                Non-Null Count  Dtype  \n",
            "---  ------                --------------  -----  \n",
            " 0   Any                   4968 non-null   int64  \n",
            " 1   Trimestre             4968 non-null   int64  \n",
            " 2   Mes                   4968 non-null   int64  \n",
            " 3   Codi_Districte        4968 non-null   int64  \n",
            " 4   Nom_Districte         4968 non-null   object \n",
            " 5   Codi_Barri            4968 non-null   int64  \n",
            " 6   Nom_Barri             4968 non-null   object \n",
            " 7   Compraventa_Unitario  4968 non-null   float64\n",
            " 8   AñosEspVida           4968 non-null   float64\n",
            "dtypes: float64(2), int64(5), object(2)\n",
            "memory usage: 388.1+ KB\n"
          ]
        }
      ]
    },
    {
      "cell_type": "code",
      "source": [
        "# Creamos la variable de fecha de la siguiente manera:\n",
        "# Agregar un día fijo para cada mes, por ejemplo, el día 1\n",
        "df_var['Fecha'] = pd.to_datetime(df_var['Any'].astype(str) + '-' + df_var['Mes'].astype(str) + '-1')"
      ],
      "metadata": {
        "id": "EcbK5L-5iX6z"
      },
      "execution_count": 7,
      "outputs": []
    },
    {
      "cell_type": "code",
      "source": [
        "# Modificamos el indice del dataset por la fecha\n",
        "df_varI = df_var.set_index('Fecha')"
      ],
      "metadata": {
        "id": "bXI9WXEqvfwN"
      },
      "execution_count": 8,
      "outputs": []
    },
    {
      "cell_type": "code",
      "source": [
        "df_varI.head()"
      ],
      "metadata": {
        "colab": {
          "base_uri": "https://localhost:8080/",
          "height": 237
        },
        "id": "B5r0mDv6r1gC",
        "outputId": "963a4b99-2121-47cd-b0ee-389ab12838c7"
      },
      "execution_count": 9,
      "outputs": [
        {
          "output_type": "execute_result",
          "data": {
            "text/plain": [
              "             Any  Trimestre  Mes  Codi_Districte Nom_Districte  Codi_Barri  \\\n",
              "Fecha                                                                        \n",
              "2014-01-01  2014          1    1               1  Ciutat Vella           1   \n",
              "2014-02-01  2014          1    2               1  Ciutat Vella           1   \n",
              "2014-03-01  2014          1    3               1  Ciutat Vella           1   \n",
              "2014-04-01  2014          2    4               1  Ciutat Vella           1   \n",
              "2014-05-01  2014          2    5               1  Ciutat Vella           1   \n",
              "\n",
              "           Nom_Barri  Compraventa_Unitario  AñosEspVida  \n",
              "Fecha                                                    \n",
              "2014-01-01  el Raval                2813.0         80.7  \n",
              "2014-02-01  el Raval                2813.0         80.7  \n",
              "2014-03-01  el Raval                2813.0         80.7  \n",
              "2014-04-01  el Raval                2948.8         80.7  \n",
              "2014-05-01  el Raval                2948.8         80.7  "
            ],
            "text/html": [
              "\n",
              "  <div id=\"df-41d358b8-e57a-41cf-b3e1-7568f2144d70\" class=\"colab-df-container\">\n",
              "    <div>\n",
              "<style scoped>\n",
              "    .dataframe tbody tr th:only-of-type {\n",
              "        vertical-align: middle;\n",
              "    }\n",
              "\n",
              "    .dataframe tbody tr th {\n",
              "        vertical-align: top;\n",
              "    }\n",
              "\n",
              "    .dataframe thead th {\n",
              "        text-align: right;\n",
              "    }\n",
              "</style>\n",
              "<table border=\"1\" class=\"dataframe\">\n",
              "  <thead>\n",
              "    <tr style=\"text-align: right;\">\n",
              "      <th></th>\n",
              "      <th>Any</th>\n",
              "      <th>Trimestre</th>\n",
              "      <th>Mes</th>\n",
              "      <th>Codi_Districte</th>\n",
              "      <th>Nom_Districte</th>\n",
              "      <th>Codi_Barri</th>\n",
              "      <th>Nom_Barri</th>\n",
              "      <th>Compraventa_Unitario</th>\n",
              "      <th>AñosEspVida</th>\n",
              "    </tr>\n",
              "    <tr>\n",
              "      <th>Fecha</th>\n",
              "      <th></th>\n",
              "      <th></th>\n",
              "      <th></th>\n",
              "      <th></th>\n",
              "      <th></th>\n",
              "      <th></th>\n",
              "      <th></th>\n",
              "      <th></th>\n",
              "      <th></th>\n",
              "    </tr>\n",
              "  </thead>\n",
              "  <tbody>\n",
              "    <tr>\n",
              "      <th>2014-01-01</th>\n",
              "      <td>2014</td>\n",
              "      <td>1</td>\n",
              "      <td>1</td>\n",
              "      <td>1</td>\n",
              "      <td>Ciutat Vella</td>\n",
              "      <td>1</td>\n",
              "      <td>el Raval</td>\n",
              "      <td>2813.0</td>\n",
              "      <td>80.7</td>\n",
              "    </tr>\n",
              "    <tr>\n",
              "      <th>2014-02-01</th>\n",
              "      <td>2014</td>\n",
              "      <td>1</td>\n",
              "      <td>2</td>\n",
              "      <td>1</td>\n",
              "      <td>Ciutat Vella</td>\n",
              "      <td>1</td>\n",
              "      <td>el Raval</td>\n",
              "      <td>2813.0</td>\n",
              "      <td>80.7</td>\n",
              "    </tr>\n",
              "    <tr>\n",
              "      <th>2014-03-01</th>\n",
              "      <td>2014</td>\n",
              "      <td>1</td>\n",
              "      <td>3</td>\n",
              "      <td>1</td>\n",
              "      <td>Ciutat Vella</td>\n",
              "      <td>1</td>\n",
              "      <td>el Raval</td>\n",
              "      <td>2813.0</td>\n",
              "      <td>80.7</td>\n",
              "    </tr>\n",
              "    <tr>\n",
              "      <th>2014-04-01</th>\n",
              "      <td>2014</td>\n",
              "      <td>2</td>\n",
              "      <td>4</td>\n",
              "      <td>1</td>\n",
              "      <td>Ciutat Vella</td>\n",
              "      <td>1</td>\n",
              "      <td>el Raval</td>\n",
              "      <td>2948.8</td>\n",
              "      <td>80.7</td>\n",
              "    </tr>\n",
              "    <tr>\n",
              "      <th>2014-05-01</th>\n",
              "      <td>2014</td>\n",
              "      <td>2</td>\n",
              "      <td>5</td>\n",
              "      <td>1</td>\n",
              "      <td>Ciutat Vella</td>\n",
              "      <td>1</td>\n",
              "      <td>el Raval</td>\n",
              "      <td>2948.8</td>\n",
              "      <td>80.7</td>\n",
              "    </tr>\n",
              "  </tbody>\n",
              "</table>\n",
              "</div>\n",
              "    <div class=\"colab-df-buttons\">\n",
              "\n",
              "  <div class=\"colab-df-container\">\n",
              "    <button class=\"colab-df-convert\" onclick=\"convertToInteractive('df-41d358b8-e57a-41cf-b3e1-7568f2144d70')\"\n",
              "            title=\"Convert this dataframe to an interactive table.\"\n",
              "            style=\"display:none;\">\n",
              "\n",
              "  <svg xmlns=\"http://www.w3.org/2000/svg\" height=\"24px\" viewBox=\"0 -960 960 960\">\n",
              "    <path d=\"M120-120v-720h720v720H120Zm60-500h600v-160H180v160Zm220 220h160v-160H400v160Zm0 220h160v-160H400v160ZM180-400h160v-160H180v160Zm440 0h160v-160H620v160ZM180-180h160v-160H180v160Zm440 0h160v-160H620v160Z\"/>\n",
              "  </svg>\n",
              "    </button>\n",
              "\n",
              "  <style>\n",
              "    .colab-df-container {\n",
              "      display:flex;\n",
              "      gap: 12px;\n",
              "    }\n",
              "\n",
              "    .colab-df-convert {\n",
              "      background-color: #E8F0FE;\n",
              "      border: none;\n",
              "      border-radius: 50%;\n",
              "      cursor: pointer;\n",
              "      display: none;\n",
              "      fill: #1967D2;\n",
              "      height: 32px;\n",
              "      padding: 0 0 0 0;\n",
              "      width: 32px;\n",
              "    }\n",
              "\n",
              "    .colab-df-convert:hover {\n",
              "      background-color: #E2EBFA;\n",
              "      box-shadow: 0px 1px 2px rgba(60, 64, 67, 0.3), 0px 1px 3px 1px rgba(60, 64, 67, 0.15);\n",
              "      fill: #174EA6;\n",
              "    }\n",
              "\n",
              "    .colab-df-buttons div {\n",
              "      margin-bottom: 4px;\n",
              "    }\n",
              "\n",
              "    [theme=dark] .colab-df-convert {\n",
              "      background-color: #3B4455;\n",
              "      fill: #D2E3FC;\n",
              "    }\n",
              "\n",
              "    [theme=dark] .colab-df-convert:hover {\n",
              "      background-color: #434B5C;\n",
              "      box-shadow: 0px 1px 3px 1px rgba(0, 0, 0, 0.15);\n",
              "      filter: drop-shadow(0px 1px 2px rgba(0, 0, 0, 0.3));\n",
              "      fill: #FFFFFF;\n",
              "    }\n",
              "  </style>\n",
              "\n",
              "    <script>\n",
              "      const buttonEl =\n",
              "        document.querySelector('#df-41d358b8-e57a-41cf-b3e1-7568f2144d70 button.colab-df-convert');\n",
              "      buttonEl.style.display =\n",
              "        google.colab.kernel.accessAllowed ? 'block' : 'none';\n",
              "\n",
              "      async function convertToInteractive(key) {\n",
              "        const element = document.querySelector('#df-41d358b8-e57a-41cf-b3e1-7568f2144d70');\n",
              "        const dataTable =\n",
              "          await google.colab.kernel.invokeFunction('convertToInteractive',\n",
              "                                                    [key], {});\n",
              "        if (!dataTable) return;\n",
              "\n",
              "        const docLinkHtml = 'Like what you see? Visit the ' +\n",
              "          '<a target=\"_blank\" href=https://colab.research.google.com/notebooks/data_table.ipynb>data table notebook</a>'\n",
              "          + ' to learn more about interactive tables.';\n",
              "        element.innerHTML = '';\n",
              "        dataTable['output_type'] = 'display_data';\n",
              "        await google.colab.output.renderOutput(dataTable, element);\n",
              "        const docLink = document.createElement('div');\n",
              "        docLink.innerHTML = docLinkHtml;\n",
              "        element.appendChild(docLink);\n",
              "      }\n",
              "    </script>\n",
              "  </div>\n",
              "\n",
              "\n",
              "<div id=\"df-27cd4000-1a35-42bf-84f7-1ca12dc01ab8\">\n",
              "  <button class=\"colab-df-quickchart\" onclick=\"quickchart('df-27cd4000-1a35-42bf-84f7-1ca12dc01ab8')\"\n",
              "            title=\"Suggest charts\"\n",
              "            style=\"display:none;\">\n",
              "\n",
              "<svg xmlns=\"http://www.w3.org/2000/svg\" height=\"24px\"viewBox=\"0 0 24 24\"\n",
              "     width=\"24px\">\n",
              "    <g>\n",
              "        <path d=\"M19 3H5c-1.1 0-2 .9-2 2v14c0 1.1.9 2 2 2h14c1.1 0 2-.9 2-2V5c0-1.1-.9-2-2-2zM9 17H7v-7h2v7zm4 0h-2V7h2v10zm4 0h-2v-4h2v4z\"/>\n",
              "    </g>\n",
              "</svg>\n",
              "  </button>\n",
              "\n",
              "<style>\n",
              "  .colab-df-quickchart {\n",
              "      --bg-color: #E8F0FE;\n",
              "      --fill-color: #1967D2;\n",
              "      --hover-bg-color: #E2EBFA;\n",
              "      --hover-fill-color: #174EA6;\n",
              "      --disabled-fill-color: #AAA;\n",
              "      --disabled-bg-color: #DDD;\n",
              "  }\n",
              "\n",
              "  [theme=dark] .colab-df-quickchart {\n",
              "      --bg-color: #3B4455;\n",
              "      --fill-color: #D2E3FC;\n",
              "      --hover-bg-color: #434B5C;\n",
              "      --hover-fill-color: #FFFFFF;\n",
              "      --disabled-bg-color: #3B4455;\n",
              "      --disabled-fill-color: #666;\n",
              "  }\n",
              "\n",
              "  .colab-df-quickchart {\n",
              "    background-color: var(--bg-color);\n",
              "    border: none;\n",
              "    border-radius: 50%;\n",
              "    cursor: pointer;\n",
              "    display: none;\n",
              "    fill: var(--fill-color);\n",
              "    height: 32px;\n",
              "    padding: 0;\n",
              "    width: 32px;\n",
              "  }\n",
              "\n",
              "  .colab-df-quickchart:hover {\n",
              "    background-color: var(--hover-bg-color);\n",
              "    box-shadow: 0 1px 2px rgba(60, 64, 67, 0.3), 0 1px 3px 1px rgba(60, 64, 67, 0.15);\n",
              "    fill: var(--button-hover-fill-color);\n",
              "  }\n",
              "\n",
              "  .colab-df-quickchart-complete:disabled,\n",
              "  .colab-df-quickchart-complete:disabled:hover {\n",
              "    background-color: var(--disabled-bg-color);\n",
              "    fill: var(--disabled-fill-color);\n",
              "    box-shadow: none;\n",
              "  }\n",
              "\n",
              "  .colab-df-spinner {\n",
              "    border: 2px solid var(--fill-color);\n",
              "    border-color: transparent;\n",
              "    border-bottom-color: var(--fill-color);\n",
              "    animation:\n",
              "      spin 1s steps(1) infinite;\n",
              "  }\n",
              "\n",
              "  @keyframes spin {\n",
              "    0% {\n",
              "      border-color: transparent;\n",
              "      border-bottom-color: var(--fill-color);\n",
              "      border-left-color: var(--fill-color);\n",
              "    }\n",
              "    20% {\n",
              "      border-color: transparent;\n",
              "      border-left-color: var(--fill-color);\n",
              "      border-top-color: var(--fill-color);\n",
              "    }\n",
              "    30% {\n",
              "      border-color: transparent;\n",
              "      border-left-color: var(--fill-color);\n",
              "      border-top-color: var(--fill-color);\n",
              "      border-right-color: var(--fill-color);\n",
              "    }\n",
              "    40% {\n",
              "      border-color: transparent;\n",
              "      border-right-color: var(--fill-color);\n",
              "      border-top-color: var(--fill-color);\n",
              "    }\n",
              "    60% {\n",
              "      border-color: transparent;\n",
              "      border-right-color: var(--fill-color);\n",
              "    }\n",
              "    80% {\n",
              "      border-color: transparent;\n",
              "      border-right-color: var(--fill-color);\n",
              "      border-bottom-color: var(--fill-color);\n",
              "    }\n",
              "    90% {\n",
              "      border-color: transparent;\n",
              "      border-bottom-color: var(--fill-color);\n",
              "    }\n",
              "  }\n",
              "</style>\n",
              "\n",
              "  <script>\n",
              "    async function quickchart(key) {\n",
              "      const quickchartButtonEl =\n",
              "        document.querySelector('#' + key + ' button');\n",
              "      quickchartButtonEl.disabled = true;  // To prevent multiple clicks.\n",
              "      quickchartButtonEl.classList.add('colab-df-spinner');\n",
              "      try {\n",
              "        const charts = await google.colab.kernel.invokeFunction(\n",
              "            'suggestCharts', [key], {});\n",
              "      } catch (error) {\n",
              "        console.error('Error during call to suggestCharts:', error);\n",
              "      }\n",
              "      quickchartButtonEl.classList.remove('colab-df-spinner');\n",
              "      quickchartButtonEl.classList.add('colab-df-quickchart-complete');\n",
              "    }\n",
              "    (() => {\n",
              "      let quickchartButtonEl =\n",
              "        document.querySelector('#df-27cd4000-1a35-42bf-84f7-1ca12dc01ab8 button');\n",
              "      quickchartButtonEl.style.display =\n",
              "        google.colab.kernel.accessAllowed ? 'block' : 'none';\n",
              "    })();\n",
              "  </script>\n",
              "</div>\n",
              "    </div>\n",
              "  </div>\n"
            ],
            "application/vnd.google.colaboratory.intrinsic+json": {
              "type": "dataframe",
              "variable_name": "df_varI",
              "summary": "{\n  \"name\": \"df_varI\",\n  \"rows\": 4968,\n  \"fields\": [\n    {\n      \"column\": \"Fecha\",\n      \"properties\": {\n        \"dtype\": \"date\",\n        \"min\": \"2014-01-01 00:00:00\",\n        \"max\": \"2019-12-01 00:00:00\",\n        \"num_unique_values\": 72,\n        \"samples\": [\n          \"2014-05-01 00:00:00\",\n          \"2019-03-01 00:00:00\",\n          \"2015-07-01 00:00:00\"\n        ],\n        \"semantic_type\": \"\",\n        \"description\": \"\"\n      }\n    },\n    {\n      \"column\": \"Any\",\n      \"properties\": {\n        \"dtype\": \"number\",\n        \"std\": 1,\n        \"min\": 2014,\n        \"max\": 2019,\n        \"num_unique_values\": 6,\n        \"samples\": [\n          2014,\n          2015,\n          2019\n        ],\n        \"semantic_type\": \"\",\n        \"description\": \"\"\n      }\n    },\n    {\n      \"column\": \"Trimestre\",\n      \"properties\": {\n        \"dtype\": \"number\",\n        \"std\": 1,\n        \"min\": 1,\n        \"max\": 4,\n        \"num_unique_values\": 4,\n        \"samples\": [\n          2,\n          4,\n          1\n        ],\n        \"semantic_type\": \"\",\n        \"description\": \"\"\n      }\n    },\n    {\n      \"column\": \"Mes\",\n      \"properties\": {\n        \"dtype\": \"number\",\n        \"std\": 3,\n        \"min\": 1,\n        \"max\": 12,\n        \"num_unique_values\": 12,\n        \"samples\": [\n          11,\n          10,\n          1\n        ],\n        \"semantic_type\": \"\",\n        \"description\": \"\"\n      }\n    },\n    {\n      \"column\": \"Codi_Districte\",\n      \"properties\": {\n        \"dtype\": \"number\",\n        \"std\": 2,\n        \"min\": 1,\n        \"max\": 10,\n        \"num_unique_values\": 10,\n        \"samples\": [\n          9,\n          2,\n          6\n        ],\n        \"semantic_type\": \"\",\n        \"description\": \"\"\n      }\n    },\n    {\n      \"column\": \"Nom_Districte\",\n      \"properties\": {\n        \"dtype\": \"category\",\n        \"num_unique_values\": 10,\n        \"samples\": [\n          \"Sant Andreu\",\n          \"Eixample\",\n          \"Gr\\u00e0cia\"\n        ],\n        \"semantic_type\": \"\",\n        \"description\": \"\"\n      }\n    },\n    {\n      \"column\": \"Codi_Barri\",\n      \"properties\": {\n        \"dtype\": \"number\",\n        \"std\": 21,\n        \"min\": 1,\n        \"max\": 73,\n        \"num_unique_values\": 73,\n        \"samples\": [\n          5,\n          67,\n          20\n        ],\n        \"semantic_type\": \"\",\n        \"description\": \"\"\n      }\n    },\n    {\n      \"column\": \"Nom_Barri\",\n      \"properties\": {\n        \"dtype\": \"category\",\n        \"num_unique_values\": 73,\n        \"samples\": [\n          \"el Fort Pienc\",\n          \"la Vila Ol\\u00edmpica del Poblenou\",\n          \"la Maternitat i Sant Ramon\"\n        ],\n        \"semantic_type\": \"\",\n        \"description\": \"\"\n      }\n    },\n    {\n      \"column\": \"Compraventa_Unitario\",\n      \"properties\": {\n        \"dtype\": \"number\",\n        \"std\": 1221.799275811925,\n        \"min\": 217.2,\n        \"max\": 9763.4,\n        \"num_unique_values\": 1054,\n        \"samples\": [\n          3393.3,\n          3577.5,\n          2816.3\n        ],\n        \"semantic_type\": \"\",\n        \"description\": \"\"\n      }\n    },\n    {\n      \"column\": \"A\\u00f1osEspVida\",\n      \"properties\": {\n        \"dtype\": \"number\",\n        \"std\": 1.7485719359049254,\n        \"min\": 76.4,\n        \"max\": 87.7,\n        \"num_unique_values\": 78,\n        \"samples\": [\n          81.9,\n          80.7,\n          83.2\n        ],\n        \"semantic_type\": \"\",\n        \"description\": \"\"\n      }\n    }\n  ]\n}"
            }
          },
          "metadata": {},
          "execution_count": 9
        }
      ]
    },
    {
      "cell_type": "markdown",
      "source": [
        "### Analisis Exploratorio"
      ],
      "metadata": {
        "id": "a_2OfFZCr-f1"
      }
    },
    {
      "cell_type": "markdown",
      "source": [
        "Filtramos los datos por el distrito de Sarrià-Sant Gervasi -> Codi_Districte = 5"
      ],
      "metadata": {
        "id": "hqyBpeYNQb-z"
      }
    },
    {
      "cell_type": "code",
      "source": [
        "df_varFiltrado = df_varI[df_varI['Codi_Districte'] == 5]"
      ],
      "metadata": {
        "id": "H1D-pGGuQgKv"
      },
      "execution_count": 10,
      "outputs": []
    },
    {
      "cell_type": "code",
      "source": [
        "# Agrupamos los datos\n",
        "df =df_varFiltrado.drop(columns=['Any','Trimestre','Mes','Codi_Districte','Nom_Districte','Codi_Barri','Nom_Barri']).groupby('Fecha').mean()"
      ],
      "metadata": {
        "id": "IqKIcChGWsd4"
      },
      "execution_count": 11,
      "outputs": []
    },
    {
      "cell_type": "code",
      "source": [
        "df.head()"
      ],
      "metadata": {
        "colab": {
          "base_uri": "https://localhost:8080/",
          "height": 237
        },
        "id": "crqUQcqQXROb",
        "outputId": "d9685289-689e-4b59-8c14-b0855244862e"
      },
      "execution_count": 12,
      "outputs": [
        {
          "output_type": "execute_result",
          "data": {
            "text/plain": [
              "            Compraventa_Unitario  AñosEspVida\n",
              "Fecha                                        \n",
              "2014-01-01           4198.150000    84.416667\n",
              "2014-02-01           4198.150000    84.416667\n",
              "2014-03-01           4198.150000    84.416667\n",
              "2014-04-01           4246.083333    84.416667\n",
              "2014-05-01           4246.083333    84.416667"
            ],
            "text/html": [
              "\n",
              "  <div id=\"df-e6eb5bcc-70a5-4c93-9154-85bcb0ebf2cb\" class=\"colab-df-container\">\n",
              "    <div>\n",
              "<style scoped>\n",
              "    .dataframe tbody tr th:only-of-type {\n",
              "        vertical-align: middle;\n",
              "    }\n",
              "\n",
              "    .dataframe tbody tr th {\n",
              "        vertical-align: top;\n",
              "    }\n",
              "\n",
              "    .dataframe thead th {\n",
              "        text-align: right;\n",
              "    }\n",
              "</style>\n",
              "<table border=\"1\" class=\"dataframe\">\n",
              "  <thead>\n",
              "    <tr style=\"text-align: right;\">\n",
              "      <th></th>\n",
              "      <th>Compraventa_Unitario</th>\n",
              "      <th>AñosEspVida</th>\n",
              "    </tr>\n",
              "    <tr>\n",
              "      <th>Fecha</th>\n",
              "      <th></th>\n",
              "      <th></th>\n",
              "    </tr>\n",
              "  </thead>\n",
              "  <tbody>\n",
              "    <tr>\n",
              "      <th>2014-01-01</th>\n",
              "      <td>4198.150000</td>\n",
              "      <td>84.416667</td>\n",
              "    </tr>\n",
              "    <tr>\n",
              "      <th>2014-02-01</th>\n",
              "      <td>4198.150000</td>\n",
              "      <td>84.416667</td>\n",
              "    </tr>\n",
              "    <tr>\n",
              "      <th>2014-03-01</th>\n",
              "      <td>4198.150000</td>\n",
              "      <td>84.416667</td>\n",
              "    </tr>\n",
              "    <tr>\n",
              "      <th>2014-04-01</th>\n",
              "      <td>4246.083333</td>\n",
              "      <td>84.416667</td>\n",
              "    </tr>\n",
              "    <tr>\n",
              "      <th>2014-05-01</th>\n",
              "      <td>4246.083333</td>\n",
              "      <td>84.416667</td>\n",
              "    </tr>\n",
              "  </tbody>\n",
              "</table>\n",
              "</div>\n",
              "    <div class=\"colab-df-buttons\">\n",
              "\n",
              "  <div class=\"colab-df-container\">\n",
              "    <button class=\"colab-df-convert\" onclick=\"convertToInteractive('df-e6eb5bcc-70a5-4c93-9154-85bcb0ebf2cb')\"\n",
              "            title=\"Convert this dataframe to an interactive table.\"\n",
              "            style=\"display:none;\">\n",
              "\n",
              "  <svg xmlns=\"http://www.w3.org/2000/svg\" height=\"24px\" viewBox=\"0 -960 960 960\">\n",
              "    <path d=\"M120-120v-720h720v720H120Zm60-500h600v-160H180v160Zm220 220h160v-160H400v160Zm0 220h160v-160H400v160ZM180-400h160v-160H180v160Zm440 0h160v-160H620v160ZM180-180h160v-160H180v160Zm440 0h160v-160H620v160Z\"/>\n",
              "  </svg>\n",
              "    </button>\n",
              "\n",
              "  <style>\n",
              "    .colab-df-container {\n",
              "      display:flex;\n",
              "      gap: 12px;\n",
              "    }\n",
              "\n",
              "    .colab-df-convert {\n",
              "      background-color: #E8F0FE;\n",
              "      border: none;\n",
              "      border-radius: 50%;\n",
              "      cursor: pointer;\n",
              "      display: none;\n",
              "      fill: #1967D2;\n",
              "      height: 32px;\n",
              "      padding: 0 0 0 0;\n",
              "      width: 32px;\n",
              "    }\n",
              "\n",
              "    .colab-df-convert:hover {\n",
              "      background-color: #E2EBFA;\n",
              "      box-shadow: 0px 1px 2px rgba(60, 64, 67, 0.3), 0px 1px 3px 1px rgba(60, 64, 67, 0.15);\n",
              "      fill: #174EA6;\n",
              "    }\n",
              "\n",
              "    .colab-df-buttons div {\n",
              "      margin-bottom: 4px;\n",
              "    }\n",
              "\n",
              "    [theme=dark] .colab-df-convert {\n",
              "      background-color: #3B4455;\n",
              "      fill: #D2E3FC;\n",
              "    }\n",
              "\n",
              "    [theme=dark] .colab-df-convert:hover {\n",
              "      background-color: #434B5C;\n",
              "      box-shadow: 0px 1px 3px 1px rgba(0, 0, 0, 0.15);\n",
              "      filter: drop-shadow(0px 1px 2px rgba(0, 0, 0, 0.3));\n",
              "      fill: #FFFFFF;\n",
              "    }\n",
              "  </style>\n",
              "\n",
              "    <script>\n",
              "      const buttonEl =\n",
              "        document.querySelector('#df-e6eb5bcc-70a5-4c93-9154-85bcb0ebf2cb button.colab-df-convert');\n",
              "      buttonEl.style.display =\n",
              "        google.colab.kernel.accessAllowed ? 'block' : 'none';\n",
              "\n",
              "      async function convertToInteractive(key) {\n",
              "        const element = document.querySelector('#df-e6eb5bcc-70a5-4c93-9154-85bcb0ebf2cb');\n",
              "        const dataTable =\n",
              "          await google.colab.kernel.invokeFunction('convertToInteractive',\n",
              "                                                    [key], {});\n",
              "        if (!dataTable) return;\n",
              "\n",
              "        const docLinkHtml = 'Like what you see? Visit the ' +\n",
              "          '<a target=\"_blank\" href=https://colab.research.google.com/notebooks/data_table.ipynb>data table notebook</a>'\n",
              "          + ' to learn more about interactive tables.';\n",
              "        element.innerHTML = '';\n",
              "        dataTable['output_type'] = 'display_data';\n",
              "        await google.colab.output.renderOutput(dataTable, element);\n",
              "        const docLink = document.createElement('div');\n",
              "        docLink.innerHTML = docLinkHtml;\n",
              "        element.appendChild(docLink);\n",
              "      }\n",
              "    </script>\n",
              "  </div>\n",
              "\n",
              "\n",
              "<div id=\"df-904f0f21-bbb5-4d3e-a92e-a6b467da9a60\">\n",
              "  <button class=\"colab-df-quickchart\" onclick=\"quickchart('df-904f0f21-bbb5-4d3e-a92e-a6b467da9a60')\"\n",
              "            title=\"Suggest charts\"\n",
              "            style=\"display:none;\">\n",
              "\n",
              "<svg xmlns=\"http://www.w3.org/2000/svg\" height=\"24px\"viewBox=\"0 0 24 24\"\n",
              "     width=\"24px\">\n",
              "    <g>\n",
              "        <path d=\"M19 3H5c-1.1 0-2 .9-2 2v14c0 1.1.9 2 2 2h14c1.1 0 2-.9 2-2V5c0-1.1-.9-2-2-2zM9 17H7v-7h2v7zm4 0h-2V7h2v10zm4 0h-2v-4h2v4z\"/>\n",
              "    </g>\n",
              "</svg>\n",
              "  </button>\n",
              "\n",
              "<style>\n",
              "  .colab-df-quickchart {\n",
              "      --bg-color: #E8F0FE;\n",
              "      --fill-color: #1967D2;\n",
              "      --hover-bg-color: #E2EBFA;\n",
              "      --hover-fill-color: #174EA6;\n",
              "      --disabled-fill-color: #AAA;\n",
              "      --disabled-bg-color: #DDD;\n",
              "  }\n",
              "\n",
              "  [theme=dark] .colab-df-quickchart {\n",
              "      --bg-color: #3B4455;\n",
              "      --fill-color: #D2E3FC;\n",
              "      --hover-bg-color: #434B5C;\n",
              "      --hover-fill-color: #FFFFFF;\n",
              "      --disabled-bg-color: #3B4455;\n",
              "      --disabled-fill-color: #666;\n",
              "  }\n",
              "\n",
              "  .colab-df-quickchart {\n",
              "    background-color: var(--bg-color);\n",
              "    border: none;\n",
              "    border-radius: 50%;\n",
              "    cursor: pointer;\n",
              "    display: none;\n",
              "    fill: var(--fill-color);\n",
              "    height: 32px;\n",
              "    padding: 0;\n",
              "    width: 32px;\n",
              "  }\n",
              "\n",
              "  .colab-df-quickchart:hover {\n",
              "    background-color: var(--hover-bg-color);\n",
              "    box-shadow: 0 1px 2px rgba(60, 64, 67, 0.3), 0 1px 3px 1px rgba(60, 64, 67, 0.15);\n",
              "    fill: var(--button-hover-fill-color);\n",
              "  }\n",
              "\n",
              "  .colab-df-quickchart-complete:disabled,\n",
              "  .colab-df-quickchart-complete:disabled:hover {\n",
              "    background-color: var(--disabled-bg-color);\n",
              "    fill: var(--disabled-fill-color);\n",
              "    box-shadow: none;\n",
              "  }\n",
              "\n",
              "  .colab-df-spinner {\n",
              "    border: 2px solid var(--fill-color);\n",
              "    border-color: transparent;\n",
              "    border-bottom-color: var(--fill-color);\n",
              "    animation:\n",
              "      spin 1s steps(1) infinite;\n",
              "  }\n",
              "\n",
              "  @keyframes spin {\n",
              "    0% {\n",
              "      border-color: transparent;\n",
              "      border-bottom-color: var(--fill-color);\n",
              "      border-left-color: var(--fill-color);\n",
              "    }\n",
              "    20% {\n",
              "      border-color: transparent;\n",
              "      border-left-color: var(--fill-color);\n",
              "      border-top-color: var(--fill-color);\n",
              "    }\n",
              "    30% {\n",
              "      border-color: transparent;\n",
              "      border-left-color: var(--fill-color);\n",
              "      border-top-color: var(--fill-color);\n",
              "      border-right-color: var(--fill-color);\n",
              "    }\n",
              "    40% {\n",
              "      border-color: transparent;\n",
              "      border-right-color: var(--fill-color);\n",
              "      border-top-color: var(--fill-color);\n",
              "    }\n",
              "    60% {\n",
              "      border-color: transparent;\n",
              "      border-right-color: var(--fill-color);\n",
              "    }\n",
              "    80% {\n",
              "      border-color: transparent;\n",
              "      border-right-color: var(--fill-color);\n",
              "      border-bottom-color: var(--fill-color);\n",
              "    }\n",
              "    90% {\n",
              "      border-color: transparent;\n",
              "      border-bottom-color: var(--fill-color);\n",
              "    }\n",
              "  }\n",
              "</style>\n",
              "\n",
              "  <script>\n",
              "    async function quickchart(key) {\n",
              "      const quickchartButtonEl =\n",
              "        document.querySelector('#' + key + ' button');\n",
              "      quickchartButtonEl.disabled = true;  // To prevent multiple clicks.\n",
              "      quickchartButtonEl.classList.add('colab-df-spinner');\n",
              "      try {\n",
              "        const charts = await google.colab.kernel.invokeFunction(\n",
              "            'suggestCharts', [key], {});\n",
              "      } catch (error) {\n",
              "        console.error('Error during call to suggestCharts:', error);\n",
              "      }\n",
              "      quickchartButtonEl.classList.remove('colab-df-spinner');\n",
              "      quickchartButtonEl.classList.add('colab-df-quickchart-complete');\n",
              "    }\n",
              "    (() => {\n",
              "      let quickchartButtonEl =\n",
              "        document.querySelector('#df-904f0f21-bbb5-4d3e-a92e-a6b467da9a60 button');\n",
              "      quickchartButtonEl.style.display =\n",
              "        google.colab.kernel.accessAllowed ? 'block' : 'none';\n",
              "    })();\n",
              "  </script>\n",
              "</div>\n",
              "    </div>\n",
              "  </div>\n"
            ],
            "application/vnd.google.colaboratory.intrinsic+json": {
              "type": "dataframe",
              "variable_name": "df",
              "summary": "{\n  \"name\": \"df\",\n  \"rows\": 72,\n  \"fields\": [\n    {\n      \"column\": \"Fecha\",\n      \"properties\": {\n        \"dtype\": \"date\",\n        \"min\": \"2014-01-01 00:00:00\",\n        \"max\": \"2019-12-01 00:00:00\",\n        \"num_unique_values\": 72,\n        \"samples\": [\n          \"2014-05-01 00:00:00\",\n          \"2019-03-01 00:00:00\",\n          \"2015-07-01 00:00:00\"\n        ],\n        \"semantic_type\": \"\",\n        \"description\": \"\"\n      }\n    },\n    {\n      \"column\": \"Compraventa_Unitario\",\n      \"properties\": {\n        \"dtype\": \"number\",\n        \"std\": 483.68836258125697,\n        \"min\": 4198.150000000001,\n        \"max\": 5455.166666666667,\n        \"num_unique_values\": 16,\n        \"samples\": [\n          4198.150000000001,\n          4246.083333333333,\n          5017.3\n        ],\n        \"semantic_type\": \"\",\n        \"description\": \"\"\n      }\n    },\n    {\n      \"column\": \"A\\u00f1osEspVida\",\n      \"properties\": {\n        \"dtype\": \"number\",\n        \"std\": 0.1959687624815398,\n        \"min\": 84.36666666666666,\n        \"max\": 84.91666666666667,\n        \"num_unique_values\": 6,\n        \"samples\": [\n          84.41666666666667,\n          84.36666666666666,\n          84.91666666666667\n        ],\n        \"semantic_type\": \"\",\n        \"description\": \"\"\n      }\n    }\n  ]\n}"
            }
          },
          "metadata": {},
          "execution_count": 12
        }
      ]
    },
    {
      "cell_type": "code",
      "source": [
        "df.info()"
      ],
      "metadata": {
        "colab": {
          "base_uri": "https://localhost:8080/"
        },
        "id": "KijazICXVtTA",
        "outputId": "ac3fd5df-af89-4fb7-9356-7837ff76662e"
      },
      "execution_count": 13,
      "outputs": [
        {
          "output_type": "stream",
          "name": "stdout",
          "text": [
            "<class 'pandas.core.frame.DataFrame'>\n",
            "DatetimeIndex: 72 entries, 2014-01-01 to 2019-12-01\n",
            "Data columns (total 2 columns):\n",
            " #   Column                Non-Null Count  Dtype  \n",
            "---  ------                --------------  -----  \n",
            " 0   Compraventa_Unitario  72 non-null     float64\n",
            " 1   AñosEspVida           72 non-null     float64\n",
            "dtypes: float64(2)\n",
            "memory usage: 1.7 KB\n"
          ]
        }
      ]
    },
    {
      "cell_type": "code",
      "source": [
        "fig, axes = plt.subplots(nrows = int(len(df.columns)), ncols = 1, dpi = 100, figsize = (14,10))\n",
        "unidades = ['€/m²', 'Años']\n",
        "colores = ['#FF5733', '#3498DB']\n",
        "\n",
        "for i, (col,ax) in enumerate(zip(df.columns, axes.flatten())):\n",
        "    df[col].plot(color = colores[i], legend = True, ax = ax)\n",
        "    ax.set_ylabel(unidades[i])  # Establecer etiqueta del eje y\n",
        "plt.show()"
      ],
      "metadata": {
        "colab": {
          "base_uri": "https://localhost:8080/",
          "height": 850
        },
        "id": "fGqh8sGPU0l3",
        "outputId": "4d3b478f-70b7-447a-f195-17c927530cfc"
      },
      "execution_count": 14,
      "outputs": [
        {
          "output_type": "display_data",
          "data": {
            "text/plain": [
              "<Figure size 1400x1000 with 2 Axes>"
            ],
            "image/png": "[encoded data removed]"
          },
          "metadata": {}
        }
      ]
    },
    {
      "cell_type": "markdown",
      "source": [
        "Cada una de las series tiene patrones de tendencia muy diferentes entre si"
      ],
      "metadata": {
        "id": "pQPjDjNRN8PE"
      }
    },
    {
      "cell_type": "code",
      "source": [
        "corr=df.corr()\n",
        "corr"
      ],
      "metadata": {
        "colab": {
          "base_uri": "https://localhost:8080/",
          "height": 112
        },
        "id": "levxFlFsrUpd",
        "outputId": "d3ffb22d-b9e1-418a-818e-63caa801b168"
      },
      "execution_count": 15,
      "outputs": [
        {
          "output_type": "execute_result",
          "data": {
            "text/plain": [
              "                      Compraventa_Unitario  AñosEspVida\n",
              "Compraventa_Unitario              1.000000     0.895532\n",
              "AñosEspVida                       0.895532     1.000000"
            ],
            "text/html": [
              "\n",
              "  <div id=\"df-1fd5b07f-6ec8-432e-9381-2f1e86af35e8\" class=\"colab-df-container\">\n",
              "    <div>\n",
              "<style scoped>\n",
              "    .dataframe tbody tr th:only-of-type {\n",
              "        vertical-align: middle;\n",
              "    }\n",
              "\n",
              "    .dataframe tbody tr th {\n",
              "        vertical-align: top;\n",
              "    }\n",
              "\n",
              "    .dataframe thead th {\n",
              "        text-align: right;\n",
              "    }\n",
              "</style>\n",
              "<table border=\"1\" class=\"dataframe\">\n",
              "  <thead>\n",
              "    <tr style=\"text-align: right;\">\n",
              "      <th></th>\n",
              "      <th>Compraventa_Unitario</th>\n",
              "      <th>AñosEspVida</th>\n",
              "    </tr>\n",
              "  </thead>\n",
              "  <tbody>\n",
              "    <tr>\n",
              "      <th>Compraventa_Unitario</th>\n",
              "      <td>1.000000</td>\n",
              "      <td>0.895532</td>\n",
              "    </tr>\n",
              "    <tr>\n",
              "      <th>AñosEspVida</th>\n",
              "      <td>0.895532</td>\n",
              "      <td>1.000000</td>\n",
              "    </tr>\n",
              "  </tbody>\n",
              "</table>\n",
              "</div>\n",
              "    <div class=\"colab-df-buttons\">\n",
              "\n",
              "  <div class=\"colab-df-container\">\n",
              "    <button class=\"colab-df-convert\" onclick=\"convertToInteractive('df-1fd5b07f-6ec8-432e-9381-2f1e86af35e8')\"\n",
              "            title=\"Convert this dataframe to an interactive table.\"\n",
              "            style=\"display:none;\">\n",
              "\n",
              "  <svg xmlns=\"http://www.w3.org/2000/svg\" height=\"24px\" viewBox=\"0 -960 960 960\">\n",
              "    <path d=\"M120-120v-720h720v720H120Zm60-500h600v-160H180v160Zm220 220h160v-160H400v160Zm0 220h160v-160H400v160ZM180-400h160v-160H180v160Zm440 0h160v-160H620v160ZM180-180h160v-160H180v160Zm440 0h160v-160H620v160Z\"/>\n",
              "  </svg>\n",
              "    </button>\n",
              "\n",
              "  <style>\n",
              "    .colab-df-container {\n",
              "      display:flex;\n",
              "      gap: 12px;\n",
              "    }\n",
              "\n",
              "    .colab-df-convert {\n",
              "      background-color: #E8F0FE;\n",
              "      border: none;\n",
              "      border-radius: 50%;\n",
              "      cursor: pointer;\n",
              "      display: none;\n",
              "      fill: #1967D2;\n",
              "      height: 32px;\n",
              "      padding: 0 0 0 0;\n",
              "      width: 32px;\n",
              "    }\n",
              "\n",
              "    .colab-df-convert:hover {\n",
              "      background-color: #E2EBFA;\n",
              "      box-shadow: 0px 1px 2px rgba(60, 64, 67, 0.3), 0px 1px 3px 1px rgba(60, 64, 67, 0.15);\n",
              "      fill: #174EA6;\n",
              "    }\n",
              "\n",
              "    .colab-df-buttons div {\n",
              "      margin-bottom: 4px;\n",
              "    }\n",
              "\n",
              "    [theme=dark] .colab-df-convert {\n",
              "      background-color: #3B4455;\n",
              "      fill: #D2E3FC;\n",
              "    }\n",
              "\n",
              "    [theme=dark] .colab-df-convert:hover {\n",
              "      background-color: #434B5C;\n",
              "      box-shadow: 0px 1px 3px 1px rgba(0, 0, 0, 0.15);\n",
              "      filter: drop-shadow(0px 1px 2px rgba(0, 0, 0, 0.3));\n",
              "      fill: #FFFFFF;\n",
              "    }\n",
              "  </style>\n",
              "\n",
              "    <script>\n",
              "      const buttonEl =\n",
              "        document.querySelector('#df-1fd5b07f-6ec8-432e-9381-2f1e86af35e8 button.colab-df-convert');\n",
              "      buttonEl.style.display =\n",
              "        google.colab.kernel.accessAllowed ? 'block' : 'none';\n",
              "\n",
              "      async function convertToInteractive(key) {\n",
              "        const element = document.querySelector('#df-1fd5b07f-6ec8-432e-9381-2f1e86af35e8');\n",
              "        const dataTable =\n",
              "          await google.colab.kernel.invokeFunction('convertToInteractive',\n",
              "                                                    [key], {});\n",
              "        if (!dataTable) return;\n",
              "\n",
              "        const docLinkHtml = 'Like what you see? Visit the ' +\n",
              "          '<a target=\"_blank\" href=https://colab.research.google.com/notebooks/data_table.ipynb>data table notebook</a>'\n",
              "          + ' to learn more about interactive tables.';\n",
              "        element.innerHTML = '';\n",
              "        dataTable['output_type'] = 'display_data';\n",
              "        await google.colab.output.renderOutput(dataTable, element);\n",
              "        const docLink = document.createElement('div');\n",
              "        docLink.innerHTML = docLinkHtml;\n",
              "        element.appendChild(docLink);\n",
              "      }\n",
              "    </script>\n",
              "  </div>\n",
              "\n",
              "\n",
              "<div id=\"df-58ddeed2-942e-417b-895b-27486a7bfb73\">\n",
              "  <button class=\"colab-df-quickchart\" onclick=\"quickchart('df-58ddeed2-942e-417b-895b-27486a7bfb73')\"\n",
              "            title=\"Suggest charts\"\n",
              "            style=\"display:none;\">\n",
              "\n",
              "<svg xmlns=\"http://www.w3.org/2000/svg\" height=\"24px\"viewBox=\"0 0 24 24\"\n",
              "     width=\"24px\">\n",
              "    <g>\n",
              "        <path d=\"M19 3H5c-1.1 0-2 .9-2 2v14c0 1.1.9 2 2 2h14c1.1 0 2-.9 2-2V5c0-1.1-.9-2-2-2zM9 17H7v-7h2v7zm4 0h-2V7h2v10zm4 0h-2v-4h2v4z\"/>\n",
              "    </g>\n",
              "</svg>\n",
              "  </button>\n",
              "\n",
              "<style>\n",
              "  .colab-df-quickchart {\n",
              "      --bg-color: #E8F0FE;\n",
              "      --fill-color: #1967D2;\n",
              "      --hover-bg-color: #E2EBFA;\n",
              "      --hover-fill-color: #174EA6;\n",
              "      --disabled-fill-color: #AAA;\n",
              "      --disabled-bg-color: #DDD;\n",
              "  }\n",
              "\n",
              "  [theme=dark] .colab-df-quickchart {\n",
              "      --bg-color: #3B4455;\n",
              "      --fill-color: #D2E3FC;\n",
              "      --hover-bg-color: #434B5C;\n",
              "      --hover-fill-color: #FFFFFF;\n",
              "      --disabled-bg-color: #3B4455;\n",
              "      --disabled-fill-color: #666;\n",
              "  }\n",
              "\n",
              "  .colab-df-quickchart {\n",
              "    background-color: var(--bg-color);\n",
              "    border: none;\n",
              "    border-radius: 50%;\n",
              "    cursor: pointer;\n",
              "    display: none;\n",
              "    fill: var(--fill-color);\n",
              "    height: 32px;\n",
              "    padding: 0;\n",
              "    width: 32px;\n",
              "  }\n",
              "\n",
              "  .colab-df-quickchart:hover {\n",
              "    background-color: var(--hover-bg-color);\n",
              "    box-shadow: 0 1px 2px rgba(60, 64, 67, 0.3), 0 1px 3px 1px rgba(60, 64, 67, 0.15);\n",
              "    fill: var(--button-hover-fill-color);\n",
              "  }\n",
              "\n",
              "  .colab-df-quickchart-complete:disabled,\n",
              "  .colab-df-quickchart-complete:disabled:hover {\n",
              "    background-color: var(--disabled-bg-color);\n",
              "    fill: var(--disabled-fill-color);\n",
              "    box-shadow: none;\n",
              "  }\n",
              "\n",
              "  .colab-df-spinner {\n",
              "    border: 2px solid var(--fill-color);\n",
              "    border-color: transparent;\n",
              "    border-bottom-color: var(--fill-color);\n",
              "    animation:\n",
              "      spin 1s steps(1) infinite;\n",
              "  }\n",
              "\n",
              "  @keyframes spin {\n",
              "    0% {\n",
              "      border-color: transparent;\n",
              "      border-bottom-color: var(--fill-color);\n",
              "      border-left-color: var(--fill-color);\n",
              "    }\n",
              "    20% {\n",
              "      border-color: transparent;\n",
              "      border-left-color: var(--fill-color);\n",
              "      border-top-color: var(--fill-color);\n",
              "    }\n",
              "    30% {\n",
              "      border-color: transparent;\n",
              "      border-left-color: var(--fill-color);\n",
              "      border-top-color: var(--fill-color);\n",
              "      border-right-color: var(--fill-color);\n",
              "    }\n",
              "    40% {\n",
              "      border-color: transparent;\n",
              "      border-right-color: var(--fill-color);\n",
              "      border-top-color: var(--fill-color);\n",
              "    }\n",
              "    60% {\n",
              "      border-color: transparent;\n",
              "      border-right-color: var(--fill-color);\n",
              "    }\n",
              "    80% {\n",
              "      border-color: transparent;\n",
              "      border-right-color: var(--fill-color);\n",
              "      border-bottom-color: var(--fill-color);\n",
              "    }\n",
              "    90% {\n",
              "      border-color: transparent;\n",
              "      border-bottom-color: var(--fill-color);\n",
              "    }\n",
              "  }\n",
              "</style>\n",
              "\n",
              "  <script>\n",
              "    async function quickchart(key) {\n",
              "      const quickchartButtonEl =\n",
              "        document.querySelector('#' + key + ' button');\n",
              "      quickchartButtonEl.disabled = true;  // To prevent multiple clicks.\n",
              "      quickchartButtonEl.classList.add('colab-df-spinner');\n",
              "      try {\n",
              "        const charts = await google.colab.kernel.invokeFunction(\n",
              "            'suggestCharts', [key], {});\n",
              "      } catch (error) {\n",
              "        console.error('Error during call to suggestCharts:', error);\n",
              "      }\n",
              "      quickchartButtonEl.classList.remove('colab-df-spinner');\n",
              "      quickchartButtonEl.classList.add('colab-df-quickchart-complete');\n",
              "    }\n",
              "    (() => {\n",
              "      let quickchartButtonEl =\n",
              "        document.querySelector('#df-58ddeed2-942e-417b-895b-27486a7bfb73 button');\n",
              "      quickchartButtonEl.style.display =\n",
              "        google.colab.kernel.accessAllowed ? 'block' : 'none';\n",
              "    })();\n",
              "  </script>\n",
              "</div>\n",
              "    </div>\n",
              "  </div>\n"
            ],
            "application/vnd.google.colaboratory.intrinsic+json": {
              "type": "dataframe",
              "variable_name": "corr",
              "summary": "{\n  \"name\": \"corr\",\n  \"rows\": 2,\n  \"fields\": [\n    {\n      \"column\": \"Compraventa_Unitario\",\n      \"properties\": {\n        \"dtype\": \"number\",\n        \"std\": 0.07386977220975816,\n        \"min\": 0.8955323662915489,\n        \"max\": 1.0,\n        \"num_unique_values\": 2,\n        \"samples\": [\n          0.8955323662915489,\n          1.0\n        ],\n        \"semantic_type\": \"\",\n        \"description\": \"\"\n      }\n    },\n    {\n      \"column\": \"A\\u00f1osEspVida\",\n      \"properties\": {\n        \"dtype\": \"number\",\n        \"std\": 0.07386977220975816,\n        \"min\": 0.8955323662915489,\n        \"max\": 1.0,\n        \"num_unique_values\": 2,\n        \"samples\": [\n          1.0,\n          0.8955323662915489\n        ],\n        \"semantic_type\": \"\",\n        \"description\": \"\"\n      }\n    }\n  ]\n}"
            }
          },
          "metadata": {},
          "execution_count": 15
        }
      ]
    },
    {
      "cell_type": "code",
      "source": [
        "import seaborn as sb\n",
        "fig, ax = plt.subplots(figsize=(12, 10))\n",
        "\n",
        "sb.heatmap(corr, xticklabels=corr.columns.values, yticklabels=corr.columns.values, annot=True,vmax=1, vmin=-1, cmap =sb.diverging_palette(220, 10, as_cmap=True),center=0,ax=ax )\n",
        "plt.show()"
      ],
      "metadata": {
        "colab": {
          "base_uri": "https://localhost:8080/",
          "height": 836
        },
        "id": "-snhTk3AzH69",
        "outputId": "f7ea6400-8aa8-403b-82ce-ecde2db886af"
      },
      "execution_count": 16,
      "outputs": [
        {
          "output_type": "display_data",
          "data": {
            "text/plain": [
              "<Figure size 1200x1000 with 2 Axes>"
            ],
            "image/png": "[encoded data removed]"
          },
          "metadata": {}
        }
      ]
    },
    {
      "cell_type": "markdown",
      "source": [
        "Tambien podemos observar como las 2 variables tienen una alta correlacion, concretamente un 89.5532% de correlacion"
      ],
      "metadata": {
        "id": "17ib49lFVZX-"
      }
    },
    {
      "cell_type": "markdown",
      "source": [
        "### Dividir los datos en conjunto de Entrenamiento y Prueba\n"
      ],
      "metadata": {
        "id": "qP8l4Q_dFG7V"
      }
    },
    {
      "cell_type": "markdown",
      "source": [
        "El modelo VAR se ajustará al conjunto de entrenamiento X_train y luego se utilizará el modelo para pronosticar las observaciones futuras. Estos pronósticos se compararán con los datos reales del conjunto de prueba.\n",
        "\n",
        "\n",
        "\n",
        "---\n",
        "\n"
      ],
      "metadata": {
        "id": "E-9zuK7GFG7V"
      }
    },
    {
      "cell_type": "code",
      "source": [
        "fecha_division = '2019-01-01'\n",
        "\n",
        "X_train, X_test = df[df.index<fecha_division], df[df.index>=fecha_division]\n",
        "print(X_train.shape, X_test.shape)"
      ],
      "metadata": {
        "colab": {
          "base_uri": "https://localhost:8080/"
        },
        "outputId": "cedf2863-b9f6-43ce-f63e-9df7fe684c60",
        "id": "jcDwBQ1-FG7V"
      },
      "execution_count": 17,
      "outputs": [
        {
          "output_type": "stream",
          "name": "stdout",
          "text": [
            "(60, 2) (12, 2)\n"
          ]
        }
      ]
    },
    {
      "cell_type": "markdown",
      "source": [
        "###Test de Cointegracion"
      ],
      "metadata": {
        "id": "o4hEHLVzFVg8"
      }
    },
    {
      "cell_type": "markdown",
      "source": [
        "Determinaremos si las dos variables estan relacionadas entre si y si esa relacion es duradera o no"
      ],
      "metadata": {
        "id": "mTSJfy6aFVhB"
      }
    },
    {
      "cell_type": "code",
      "source": [
        "from statsmodels.tsa.vector_ar.vecm import coint_johansen\n",
        "\n",
        "def cointegration_test(df):\n",
        "    res = coint_johansen(df,-1,5)\n",
        "    d = {'0.90':0, '0.95':1, '0.99':2}\n",
        "    traces = res.lr1\n",
        "    cvts = res.cvt[:, d[str(1-0.05)]]\n",
        "    def adjust(val, length= 6):\n",
        "        return str(val).ljust(length)\n",
        "    print('Column Name   >  Test Stat > C(95%)    =>   Signif  \\n', '--'*20)\n",
        "    for col, trace, cvt in zip(df.columns, traces, cvts):\n",
        "        print(adjust(col), '> ', adjust(round(trace,2), 9), \">\", adjust(cvt, 8), ' =>  ' , trace > cvt)"
      ],
      "metadata": {
        "id": "9KtefU_jFVhB"
      },
      "execution_count": 18,
      "outputs": []
    },
    {
      "cell_type": "code",
      "source": [
        "cointegration_test(X_train[['Compraventa_Unitario', 'AñosEspVida']])"
      ],
      "metadata": {
        "colab": {
          "base_uri": "https://localhost:8080/"
        },
        "outputId": "b366aa4c-6dcf-41f1-c28a-2dc2e95214ec",
        "id": "y5sZdM-RFVhC"
      },
      "execution_count": 19,
      "outputs": [
        {
          "output_type": "stream",
          "name": "stdout",
          "text": [
            "Column Name   >  Test Stat > C(95%)    =>   Signif  \n",
            " ----------------------------------------\n",
            "Compraventa_Unitario >  3.42      > 12.3212   =>   False\n",
            "AñosEspVida >  0.32      > 4.1296    =>   False\n"
          ]
        }
      ]
    },
    {
      "cell_type": "markdown",
      "source": [
        "* **Compraventa_Unitario**: No hay suficiente evidencia estadística para rechazar la hipótesis nula de no cointegración. Esto sugiere que \"Compraventa_Unitario\" no tiene una relación de equilibrio estacionario de largo plazo con las otras series en el sistema.\n",
        "* **AñosEspVida**: Similarmente, \"AñosEspVida\" tampoco muestra evidencia de cointegración. No existe una combinación lineal estacionaria que vincule esta serie con otras en el sistema a largo plazo."
      ],
      "metadata": {
        "id": "lsq2KBQgFVhC"
      }
    },
    {
      "cell_type": "markdown",
      "source": [
        "Para un análisis conjunto que aún considera las interacciones entre múltiples series no cointegradas, usaremos un modelo VAR (Vector Autoregressive) o VARMA (Vector Autoregressive Moving Average) y descartaremos el modelo VECM (Vector Error Correlation Model), pero primero transformaremos comprobaremos y transformaremos por diferenciacion las veces necesrarias para convertir las series en estacionarias"
      ],
      "metadata": {
        "id": "oYPrSp1jFkHQ"
      }
    },
    {
      "cell_type": "markdown",
      "source": [
        "### Prueba de estacionariedad"
      ],
      "metadata": {
        "id": "vGuryetSFM9l"
      }
    },
    {
      "cell_type": "markdown",
      "source": [
        "Necesitamos que los datos sean estacionarios para poder usar el modelo VAR. Vamos a averiguarlo haciendo un Test de Dickey-Fuller aumentado, a cada variable univariante que tiene nuestro dataset."
      ],
      "metadata": {
        "id": "KY51pb-yFM9s"
      }
    },
    {
      "cell_type": "code",
      "source": [
        "import statsmodels.tsa.stattools as sts"
      ],
      "metadata": {
        "id": "kDqJjQj8FM9s"
      },
      "execution_count": 20,
      "outputs": []
    },
    {
      "cell_type": "code",
      "source": [
        "def augmented_dickey_fuller_statistics(time_series):\n",
        "  result = sts.adfuller(time_series.values)\n",
        "  print('p-value: %f' % result[1])\n",
        "\n",
        "print('Test de Dickey-Fuller Aumentado:')\n",
        "for i in range(len(X_train.columns)):\n",
        "  print('Serie de tiempo',X_train.columns[i])\n",
        "  augmented_dickey_fuller_statistics(X_train.iloc[:,i])"
      ],
      "metadata": {
        "colab": {
          "base_uri": "https://localhost:8080/"
        },
        "outputId": "714363db-9e37-4f78-8170-39d254ee04f5",
        "id": "FDiOmf3WFM9s"
      },
      "execution_count": 21,
      "outputs": [
        {
          "output_type": "stream",
          "name": "stdout",
          "text": [
            "Test de Dickey-Fuller Aumentado:\n",
            "Serie de tiempo Compraventa_Unitario\n",
            "p-value: 0.913691\n",
            "Serie de tiempo AñosEspVida\n",
            "p-value: 0.790090\n"
          ]
        }
      ]
    },
    {
      "cell_type": "markdown",
      "source": [
        "Los p-valores son mayores que 0.05, con lo cual no se rechaza la hipótesis nula de que la serie no es estacionaria. Habría que transformar los datos porque no se puede confirmar estacionariedad."
      ],
      "metadata": {
        "id": "ctbWOqeSFM9s"
      }
    },
    {
      "cell_type": "code",
      "source": [
        "#Diferenciando por primera vez\n",
        "X_train_transformed=X_train.diff().dropna()\n",
        "X_train_transformed.head()"
      ],
      "metadata": {
        "colab": {
          "base_uri": "https://localhost:8080/",
          "height": 237
        },
        "outputId": "a15498fc-db7d-4c22-d80a-e537b9a5a3c8",
        "id": "Y2s4b_k4FM9t"
      },
      "execution_count": 22,
      "outputs": [
        {
          "output_type": "execute_result",
          "data": {
            "text/plain": [
              "            Compraventa_Unitario  AñosEspVida\n",
              "Fecha                                        \n",
              "2014-02-01              0.000000          0.0\n",
              "2014-03-01              0.000000          0.0\n",
              "2014-04-01             47.933333          0.0\n",
              "2014-05-01              0.000000          0.0\n",
              "2014-06-01              0.000000          0.0"
            ],
            "text/html": [
              "\n",
              "  <div id=\"df-65aca626-6d97-40ab-b703-c4a7d085c696\" class=\"colab-df-container\">\n",
              "    <div>\n",
              "<style scoped>\n",
              "    .dataframe tbody tr th:only-of-type {\n",
              "        vertical-align: middle;\n",
              "    }\n",
              "\n",
              "    .dataframe tbody tr th {\n",
              "        vertical-align: top;\n",
              "    }\n",
              "\n",
              "    .dataframe thead th {\n",
              "        text-align: right;\n",
              "    }\n",
              "</style>\n",
              "<table border=\"1\" class=\"dataframe\">\n",
              "  <thead>\n",
              "    <tr style=\"text-align: right;\">\n",
              "      <th></th>\n",
              "      <th>Compraventa_Unitario</th>\n",
              "      <th>AñosEspVida</th>\n",
              "    </tr>\n",
              "    <tr>\n",
              "      <th>Fecha</th>\n",
              "      <th></th>\n",
              "      <th></th>\n",
              "    </tr>\n",
              "  </thead>\n",
              "  <tbody>\n",
              "    <tr>\n",
              "      <th>2014-02-01</th>\n",
              "      <td>0.000000</td>\n",
              "      <td>0.0</td>\n",
              "    </tr>\n",
              "    <tr>\n",
              "      <th>2014-03-01</th>\n",
              "      <td>0.000000</td>\n",
              "      <td>0.0</td>\n",
              "    </tr>\n",
              "    <tr>\n",
              "      <th>2014-04-01</th>\n",
              "      <td>47.933333</td>\n",
              "      <td>0.0</td>\n",
              "    </tr>\n",
              "    <tr>\n",
              "      <th>2014-05-01</th>\n",
              "      <td>0.000000</td>\n",
              "      <td>0.0</td>\n",
              "    </tr>\n",
              "    <tr>\n",
              "      <th>2014-06-01</th>\n",
              "      <td>0.000000</td>\n",
              "      <td>0.0</td>\n",
              "    </tr>\n",
              "  </tbody>\n",
              "</table>\n",
              "</div>\n",
              "    <div class=\"colab-df-buttons\">\n",
              "\n",
              "  <div class=\"colab-df-container\">\n",
              "    <button class=\"colab-df-convert\" onclick=\"convertToInteractive('df-65aca626-6d97-40ab-b703-c4a7d085c696')\"\n",
              "            title=\"Convert this dataframe to an interactive table.\"\n",
              "            style=\"display:none;\">\n",
              "\n",
              "  <svg xmlns=\"http://www.w3.org/2000/svg\" height=\"24px\" viewBox=\"0 -960 960 960\">\n",
              "    <path d=\"M120-120v-720h720v720H120Zm60-500h600v-160H180v160Zm220 220h160v-160H400v160Zm0 220h160v-160H400v160ZM180-400h160v-160H180v160Zm440 0h160v-160H620v160ZM180-180h160v-160H180v160Zm440 0h160v-160H620v160Z\"/>\n",
              "  </svg>\n",
              "    </button>\n",
              "\n",
              "  <style>\n",
              "    .colab-df-container {\n",
              "      display:flex;\n",
              "      gap: 12px;\n",
              "    }\n",
              "\n",
              "    .colab-df-convert {\n",
              "      background-color: #E8F0FE;\n",
              "      border: none;\n",
              "      border-radius: 50%;\n",
              "      cursor: pointer;\n",
              "      display: none;\n",
              "      fill: #1967D2;\n",
              "      height: 32px;\n",
              "      padding: 0 0 0 0;\n",
              "      width: 32px;\n",
              "    }\n",
              "\n",
              "    .colab-df-convert:hover {\n",
              "      background-color: #E2EBFA;\n",
              "      box-shadow: 0px 1px 2px rgba(60, 64, 67, 0.3), 0px 1px 3px 1px rgba(60, 64, 67, 0.15);\n",
              "      fill: #174EA6;\n",
              "    }\n",
              "\n",
              "    .colab-df-buttons div {\n",
              "      margin-bottom: 4px;\n",
              "    }\n",
              "\n",
              "    [theme=dark] .colab-df-convert {\n",
              "      background-color: #3B4455;\n",
              "      fill: #D2E3FC;\n",
              "    }\n",
              "\n",
              "    [theme=dark] .colab-df-convert:hover {\n",
              "      background-color: #434B5C;\n",
              "      box-shadow: 0px 1px 3px 1px rgba(0, 0, 0, 0.15);\n",
              "      filter: drop-shadow(0px 1px 2px rgba(0, 0, 0, 0.3));\n",
              "      fill: #FFFFFF;\n",
              "    }\n",
              "  </style>\n",
              "\n",
              "    <script>\n",
              "      const buttonEl =\n",
              "        document.querySelector('#df-65aca626-6d97-40ab-b703-c4a7d085c696 button.colab-df-convert');\n",
              "      buttonEl.style.display =\n",
              "        google.colab.kernel.accessAllowed ? 'block' : 'none';\n",
              "\n",
              "      async function convertToInteractive(key) {\n",
              "        const element = document.querySelector('#df-65aca626-6d97-40ab-b703-c4a7d085c696');\n",
              "        const dataTable =\n",
              "          await google.colab.kernel.invokeFunction('convertToInteractive',\n",
              "                                                    [key], {});\n",
              "        if (!dataTable) return;\n",
              "\n",
              "        const docLinkHtml = 'Like what you see? Visit the ' +\n",
              "          '<a target=\"_blank\" href=https://colab.research.google.com/notebooks/data_table.ipynb>data table notebook</a>'\n",
              "          + ' to learn more about interactive tables.';\n",
              "        element.innerHTML = '';\n",
              "        dataTable['output_type'] = 'display_data';\n",
              "        await google.colab.output.renderOutput(dataTable, element);\n",
              "        const docLink = document.createElement('div');\n",
              "        docLink.innerHTML = docLinkHtml;\n",
              "        element.appendChild(docLink);\n",
              "      }\n",
              "    </script>\n",
              "  </div>\n",
              "\n",
              "\n",
              "<div id=\"df-1156bb3b-18a0-403f-8bef-0d670408338d\">\n",
              "  <button class=\"colab-df-quickchart\" onclick=\"quickchart('df-1156bb3b-18a0-403f-8bef-0d670408338d')\"\n",
              "            title=\"Suggest charts\"\n",
              "            style=\"display:none;\">\n",
              "\n",
              "<svg xmlns=\"http://www.w3.org/2000/svg\" height=\"24px\"viewBox=\"0 0 24 24\"\n",
              "     width=\"24px\">\n",
              "    <g>\n",
              "        <path d=\"M19 3H5c-1.1 0-2 .9-2 2v14c0 1.1.9 2 2 2h14c1.1 0 2-.9 2-2V5c0-1.1-.9-2-2-2zM9 17H7v-7h2v7zm4 0h-2V7h2v10zm4 0h-2v-4h2v4z\"/>\n",
              "    </g>\n",
              "</svg>\n",
              "  </button>\n",
              "\n",
              "<style>\n",
              "  .colab-df-quickchart {\n",
              "      --bg-color: #E8F0FE;\n",
              "      --fill-color: #1967D2;\n",
              "      --hover-bg-color: #E2EBFA;\n",
              "      --hover-fill-color: #174EA6;\n",
              "      --disabled-fill-color: #AAA;\n",
              "      --disabled-bg-color: #DDD;\n",
              "  }\n",
              "\n",
              "  [theme=dark] .colab-df-quickchart {\n",
              "      --bg-color: #3B4455;\n",
              "      --fill-color: #D2E3FC;\n",
              "      --hover-bg-color: #434B5C;\n",
              "      --hover-fill-color: #FFFFFF;\n",
              "      --disabled-bg-color: #3B4455;\n",
              "      --disabled-fill-color: #666;\n",
              "  }\n",
              "\n",
              "  .colab-df-quickchart {\n",
              "    background-color: var(--bg-color);\n",
              "    border: none;\n",
              "    border-radius: 50%;\n",
              "    cursor: pointer;\n",
              "    display: none;\n",
              "    fill: var(--fill-color);\n",
              "    height: 32px;\n",
              "    padding: 0;\n",
              "    width: 32px;\n",
              "  }\n",
              "\n",
              "  .colab-df-quickchart:hover {\n",
              "    background-color: var(--hover-bg-color);\n",
              "    box-shadow: 0 1px 2px rgba(60, 64, 67, 0.3), 0 1px 3px 1px rgba(60, 64, 67, 0.15);\n",
              "    fill: var(--button-hover-fill-color);\n",
              "  }\n",
              "\n",
              "  .colab-df-quickchart-complete:disabled,\n",
              "  .colab-df-quickchart-complete:disabled:hover {\n",
              "    background-color: var(--disabled-bg-color);\n",
              "    fill: var(--disabled-fill-color);\n",
              "    box-shadow: none;\n",
              "  }\n",
              "\n",
              "  .colab-df-spinner {\n",
              "    border: 2px solid var(--fill-color);\n",
              "    border-color: transparent;\n",
              "    border-bottom-color: var(--fill-color);\n",
              "    animation:\n",
              "      spin 1s steps(1) infinite;\n",
              "  }\n",
              "\n",
              "  @keyframes spin {\n",
              "    0% {\n",
              "      border-color: transparent;\n",
              "      border-bottom-color: var(--fill-color);\n",
              "      border-left-color: var(--fill-color);\n",
              "    }\n",
              "    20% {\n",
              "      border-color: transparent;\n",
              "      border-left-color: var(--fill-color);\n",
              "      border-top-color: var(--fill-color);\n",
              "    }\n",
              "    30% {\n",
              "      border-color: transparent;\n",
              "      border-left-color: var(--fill-color);\n",
              "      border-top-color: var(--fill-color);\n",
              "      border-right-color: var(--fill-color);\n",
              "    }\n",
              "    40% {\n",
              "      border-color: transparent;\n",
              "      border-right-color: var(--fill-color);\n",
              "      border-top-color: var(--fill-color);\n",
              "    }\n",
              "    60% {\n",
              "      border-color: transparent;\n",
              "      border-right-color: var(--fill-color);\n",
              "    }\n",
              "    80% {\n",
              "      border-color: transparent;\n",
              "      border-right-color: var(--fill-color);\n",
              "      border-bottom-color: var(--fill-color);\n",
              "    }\n",
              "    90% {\n",
              "      border-color: transparent;\n",
              "      border-bottom-color: var(--fill-color);\n",
              "    }\n",
              "  }\n",
              "</style>\n",
              "\n",
              "  <script>\n",
              "    async function quickchart(key) {\n",
              "      const quickchartButtonEl =\n",
              "        document.querySelector('#' + key + ' button');\n",
              "      quickchartButtonEl.disabled = true;  // To prevent multiple clicks.\n",
              "      quickchartButtonEl.classList.add('colab-df-spinner');\n",
              "      try {\n",
              "        const charts = await google.colab.kernel.invokeFunction(\n",
              "            'suggestCharts', [key], {});\n",
              "      } catch (error) {\n",
              "        console.error('Error during call to suggestCharts:', error);\n",
              "      }\n",
              "      quickchartButtonEl.classList.remove('colab-df-spinner');\n",
              "      quickchartButtonEl.classList.add('colab-df-quickchart-complete');\n",
              "    }\n",
              "    (() => {\n",
              "      let quickchartButtonEl =\n",
              "        document.querySelector('#df-1156bb3b-18a0-403f-8bef-0d670408338d button');\n",
              "      quickchartButtonEl.style.display =\n",
              "        google.colab.kernel.accessAllowed ? 'block' : 'none';\n",
              "    })();\n",
              "  </script>\n",
              "</div>\n",
              "    </div>\n",
              "  </div>\n"
            ],
            "application/vnd.google.colaboratory.intrinsic+json": {
              "type": "dataframe",
              "variable_name": "X_train_transformed",
              "summary": "{\n  \"name\": \"X_train_transformed\",\n  \"rows\": 59,\n  \"fields\": [\n    {\n      \"column\": \"Fecha\",\n      \"properties\": {\n        \"dtype\": \"date\",\n        \"min\": \"2014-02-01 00:00:00\",\n        \"max\": \"2018-12-01 00:00:00\",\n        \"num_unique_values\": 59,\n        \"samples\": [\n          \"2014-02-01 00:00:00\",\n          \"2014-07-01 00:00:00\",\n          \"2016-12-01 00:00:00\"\n        ],\n        \"semantic_type\": \"\",\n        \"description\": \"\"\n      }\n    },\n    {\n      \"column\": \"Compraventa_Unitario\",\n      \"properties\": {\n        \"dtype\": \"number\",\n        \"std\": 112.29288286505773,\n        \"min\": -167.84999999999945,\n        \"max\": 450.96666666666624,\n        \"num_unique_values\": 13,\n        \"samples\": [\n          70.96666666666624,\n          -167.84999999999945,\n          0.0\n        ],\n        \"semantic_type\": \"\",\n        \"description\": \"\"\n      }\n    },\n    {\n      \"column\": \"A\\u00f1osEspVida\",\n      \"properties\": {\n        \"dtype\": \"number\",\n        \"std\": 0.03596877591875646,\n        \"min\": -0.05000000000001137,\n        \"max\": 0.26666666666667993,\n        \"num_unique_values\": 5,\n        \"samples\": [\n          -0.05000000000001137,\n          -0.03333333333333144,\n          0.03333333333333144\n        ],\n        \"semantic_type\": \"\",\n        \"description\": \"\"\n      }\n    }\n  ]\n}"
            }
          },
          "metadata": {},
          "execution_count": 22
        }
      ]
    },
    {
      "cell_type": "code",
      "source": [
        "# Plot\n",
        "fig, axes = plt.subplots(nrows=2, ncols=1, dpi=120, figsize=(12,6))\n",
        "for i, ax in enumerate(axes.flatten()):\n",
        "    data = X_train_transformed[X_train_transformed.columns[i]]\n",
        "    ax.plot(data, color='red', linewidth=1)\n",
        "    # Decorations\n",
        "    ax.set_title(X_train_transformed.columns[i])\n",
        "    ax.xaxis.set_ticks_position('none')\n",
        "    ax.yaxis.set_ticks_position('none')\n",
        "    ax.spines[\"top\"].set_alpha(0)\n",
        "    ax.tick_params(labelsize=6)\n",
        "\n",
        "plt.tight_layout();"
      ],
      "metadata": {
        "colab": {
          "base_uri": "https://localhost:8080/",
          "height": 724
        },
        "outputId": "4aa349b5-466c-43c1-cdf6-7090757debd8",
        "id": "gYOKlb8oFM9t"
      },
      "execution_count": 23,
      "outputs": [
        {
          "output_type": "display_data",
          "data": {
            "text/plain": [
              "<Figure size 1440x720 with 2 Axes>"
            ],
            "image/png": "[encoded data removed]"
          },
          "metadata": {}
        }
      ]
    },
    {
      "cell_type": "code",
      "source": [
        "print('Test de Dickey-Fuller Aumentado 2da vez:')\n",
        "for i in range(len(X_train_transformed.columns)):\n",
        "  print('Serie de tiempo transformada', 'Variable', X_train_transformed.columns[i])\n",
        "  augmented_dickey_fuller_statistics(X_train_transformed.iloc[:,i])"
      ],
      "metadata": {
        "colab": {
          "base_uri": "https://localhost:8080/"
        },
        "outputId": "7085f273-c65d-4514-d626-a883b2530525",
        "id": "xkk9GhHuFM9t"
      },
      "execution_count": 24,
      "outputs": [
        {
          "output_type": "stream",
          "name": "stdout",
          "text": [
            "Test de Dickey-Fuller Aumentado 2da vez:\n",
            "Serie de tiempo transformada Variable Compraventa_Unitario\n",
            "p-value: 0.000000\n",
            "Serie de tiempo transformada Variable AñosEspVida\n",
            "p-value: 0.000000\n"
          ]
        }
      ]
    },
    {
      "cell_type": "markdown",
      "source": [
        "Todos los p-valores son < 0.05 por lo tanto se podría concluir que con 2 ordenes de diferenciación se obtienen series estacionarias."
      ],
      "metadata": {
        "id": "76R5_sOgFM9u"
      }
    },
    {
      "cell_type": "markdown",
      "source": [
        "### Modelo VAR"
      ],
      "metadata": {
        "id": "NwY4i2qnaNTw"
      }
    },
    {
      "cell_type": "markdown",
      "source": [
        "El modelo VAR es una extension del modelo ARIMA para multiples series temporales, es decir en vez de modelar una sola srie temporal, el VAR modela simultaneamente todas las series temporales de un sistema.\n",
        "Cada serie temporal se regresa en función de usus propios valores pasados y de los valores pasados de las otras series temporales.\n",
        "\n",
        "\n",
        "\n"
      ],
      "metadata": {
        "id": "0VwfWqC6aSvt"
      }
    },
    {
      "cell_type": "code",
      "source": [
        "from statsmodels.tsa.api import VAR"
      ],
      "metadata": {
        "id": "PbDLTIA4hgY_"
      },
      "execution_count": 25,
      "outputs": []
    },
    {
      "cell_type": "code",
      "source": [
        "model = VAR(X_train_transformed)"
      ],
      "metadata": {
        "colab": {
          "base_uri": "https://localhost:8080/"
        },
        "id": "F5i_E3FdhhwA",
        "outputId": "86e42d35-73bd-48c1-edf1-a59ed47901ac"
      },
      "execution_count": 26,
      "outputs": [
        {
          "output_type": "stream",
          "name": "stderr",
          "text": [
            "/usr/local/lib/python3.10/dist-packages/statsmodels/tsa/base/tsa_model.py:473: ValueWarning: No frequency information was provided, so inferred frequency MS will be used.\n",
            "  self._init_dates(dates, freq)\n"
          ]
        }
      ]
    },
    {
      "cell_type": "markdown",
      "source": [
        "#### Seleccionando el orden del modelo"
      ],
      "metadata": {
        "id": "kDdnofXtacuY"
      }
    },
    {
      "cell_type": "code",
      "source": [
        "modelsel=model.select_order(12)\n",
        "modelsel.summary()"
      ],
      "metadata": {
        "colab": {
          "base_uri": "https://localhost:8080/",
          "height": 339
        },
        "id": "vwWHPsSUamSH",
        "outputId": "6a641f39-469a-4b36-d647-8787607fdce0"
      },
      "execution_count": 28,
      "outputs": [
        {
          "output_type": "execute_result",
          "data": {
            "text/plain": [
              "<class 'statsmodels.iolib.table.SimpleTable'>"
            ],
            "text/html": [
              "<table class=\"simpletable\">\n",
              "<caption>VAR Order Selection (* highlights the minimums)</caption>\n",
              "<tr>\n",
              "   <td></td>      <th>AIC</th>         <th>BIC</th>         <th>FPE</th>        <th>HQIC</th>    \n",
              "</tr>\n",
              "<tr>\n",
              "  <th>0</th>  <td>     2.834</td>  <td>     2.912*</td> <td>     17.01</td>  <td>     2.863*</td>\n",
              "</tr>\n",
              "<tr>\n",
              "  <th>1</th>  <td>     3.002</td>  <td>     3.238</td>  <td>     20.13</td>  <td>     3.091</td> \n",
              "</tr>\n",
              "<tr>\n",
              "  <th>2</th>  <td>     3.170</td>  <td>     3.563</td>  <td>     23.84</td>  <td>     3.318</td> \n",
              "</tr>\n",
              "<tr>\n",
              "  <th>3</th>  <td>     3.138</td>  <td>     3.689</td>  <td>     23.15</td>  <td>     3.345</td> \n",
              "</tr>\n",
              "<tr>\n",
              "  <th>4</th>  <td>     3.305</td>  <td>     4.013</td>  <td>     27.50</td>  <td>     3.571</td> \n",
              "</tr>\n",
              "<tr>\n",
              "  <th>5</th>  <td>     3.472</td>  <td>     4.338</td>  <td>     32.76</td>  <td>     3.797</td> \n",
              "</tr>\n",
              "<tr>\n",
              "  <th>6</th>  <td>     3.471</td>  <td>     4.495</td>  <td>     33.14</td>  <td>     3.856</td> \n",
              "</tr>\n",
              "<tr>\n",
              "  <th>7</th>  <td>     3.636</td>  <td>     4.817</td>  <td>     39.75</td>  <td>     4.081</td> \n",
              "</tr>\n",
              "<tr>\n",
              "  <th>8</th>  <td>     3.801</td>  <td>     5.139</td>  <td>     47.91</td>  <td>     4.305</td> \n",
              "</tr>\n",
              "<tr>\n",
              "  <th>9</th>  <td>     3.809</td>  <td>     5.305</td>  <td>     49.73</td>  <td>     4.372</td> \n",
              "</tr>\n",
              "<tr>\n",
              "  <th>10</th> <td>     3.968</td>  <td>     5.622</td>  <td>     60.59</td>  <td>     4.591</td> \n",
              "</tr>\n",
              "<tr>\n",
              "  <th>11</th> <td>     4.126</td>  <td>     5.937</td>  <td>     74.41</td>  <td>     4.807</td> \n",
              "</tr>\n",
              "<tr>\n",
              "  <th>12</th> <td>     2.384*</td> <td>     4.352</td>  <td>     13.84*</td> <td>     3.125</td> \n",
              "</tr>\n",
              "</table>"
            ],
            "text/latex": "\\begin{center}\n\\begin{tabular}{lcccc}\n\\toprule\n            & \\textbf{AIC} & \\textbf{BIC} & \\textbf{FPE} & \\textbf{HQIC}  \\\\\n\\midrule\n\\textbf{0}  &       2.834  &      2.912*  &       17.01  &       2.863*   \\\\\n\\textbf{1}  &       3.002  &       3.238  &       20.13  &        3.091   \\\\\n\\textbf{2}  &       3.170  &       3.563  &       23.84  &        3.318   \\\\\n\\textbf{3}  &       3.138  &       3.689  &       23.15  &        3.345   \\\\\n\\textbf{4}  &       3.305  &       4.013  &       27.50  &        3.571   \\\\\n\\textbf{5}  &       3.472  &       4.338  &       32.76  &        3.797   \\\\\n\\textbf{6}  &       3.471  &       4.495  &       33.14  &        3.856   \\\\\n\\textbf{7}  &       3.636  &       4.817  &       39.75  &        4.081   \\\\\n\\textbf{8}  &       3.801  &       5.139  &       47.91  &        4.305   \\\\\n\\textbf{9}  &       3.809  &       5.305  &       49.73  &        4.372   \\\\\n\\textbf{10} &       3.968  &       5.622  &       60.59  &        4.591   \\\\\n\\textbf{11} &       4.126  &       5.937  &       74.41  &        4.807   \\\\\n\\textbf{12} &      2.384*  &       4.352  &      13.84*  &        3.125   \\\\\n\\bottomrule\n\\end{tabular}\n%\\caption{VAR Order Selection (* highlights the minimums)}\n\\end{center}"
          },
          "metadata": {},
          "execution_count": 28
        }
      ]
    },
    {
      "cell_type": "markdown",
      "source": [
        "El criterio AIC y el FPE sugieren que el mejor modelo es con 12 rezagos, mientras que el BIC y el HQIC prefieren 0 rezagos. La elección del criterio depende del equilibrio deseado entre precisión predictiva (AIC y FPE) y simplicidad del modelo (BIC y HQIC)."
      ],
      "metadata": {
        "id": "LI0xxNINd-pl"
      }
    },
    {
      "cell_type": "markdown",
      "source": [
        "#### Ajustando el modelo"
      ],
      "metadata": {
        "id": "hAeKlnonlm_N"
      }
    },
    {
      "cell_type": "code",
      "source": [
        "res = model.fit(maxlags=12)\n",
        "res.summary()"
      ],
      "metadata": {
        "colab": {
          "base_uri": "https://localhost:8080/"
        },
        "id": "fCWBWJIolkt7",
        "outputId": "34123b58-fd6c-4f56-c32b-4ba42cf4386a"
      },
      "execution_count": 33,
      "outputs": [
        {
          "output_type": "execute_result",
          "data": {
            "text/plain": [
              "  Summary of Regression Results   \n",
              "==================================\n",
              "Model:                         VAR\n",
              "Method:                        OLS\n",
              "Date:           Fri, 17, May, 2024\n",
              "Time:                     17:10:51\n",
              "--------------------------------------------------------------------\n",
              "No. of Equations:         2.00000    BIC:                    4.35246\n",
              "Nobs:                     47.0000    HQIC:                   3.12488\n",
              "Log likelihood:          -139.409    FPE:                    13.8433\n",
              "AIC:                      2.38421    Det(Omega_mle):         5.89889\n",
              "--------------------------------------------------------------------\n",
              "Results for equation Compraventa_Unitario\n",
              "===========================================================================================\n",
              "                              coefficient       std. error           t-stat            prob\n",
              "-------------------------------------------------------------------------------------------\n",
              "const                           31.012920        26.321057            1.178           0.239\n",
              "L1.Compraventa_Unitario         -0.081386         0.220282           -0.369           0.712\n",
              "L1.AñosEspVida                  63.764895       614.646800            0.104           0.917\n",
              "L2.Compraventa_Unitario         -0.081386         0.220282           -0.369           0.712\n",
              "L2.AñosEspVida                  63.764895       614.646800            0.104           0.917\n",
              "L3.Compraventa_Unitario         -0.229248         0.238271           -0.962           0.336\n",
              "L3.AñosEspVida                1101.064675       682.649221            1.613           0.107\n",
              "L4.Compraventa_Unitario         -0.082842         0.222131           -0.373           0.709\n",
              "L4.AñosEspVida                 134.234203       681.751454            0.197           0.844\n",
              "L5.Compraventa_Unitario         -0.082842         0.222131           -0.373           0.709\n",
              "L5.AñosEspVida                 134.234203       681.751454            0.197           0.844\n",
              "L6.Compraventa_Unitario          0.115221         0.236401            0.487           0.626\n",
              "L6.AñosEspVida                -875.505462       687.663306           -1.273           0.203\n",
              "L7.Compraventa_Unitario         -0.085454         0.224730           -0.380           0.704\n",
              "L7.AñosEspVida                  40.644802       588.104639            0.069           0.945\n",
              "L8.Compraventa_Unitario         -0.085454         0.224730           -0.380           0.704\n",
              "L8.AñosEspVida                  40.644802       588.104639            0.069           0.945\n",
              "L9.Compraventa_Unitario         -0.042306         0.341269           -0.124           0.901\n",
              "L9.AñosEspVida                 505.296092       721.860151            0.700           0.484\n",
              "L10.Compraventa_Unitario        -0.098868         0.279780           -0.353           0.724\n",
              "L10.AñosEspVida                136.504108       695.337559            0.196           0.844\n",
              "L11.Compraventa_Unitario        -0.098868         0.279780           -0.353           0.724\n",
              "L11.AñosEspVida                136.504108       695.337559            0.196           0.844\n",
              "L12.Compraventa_Unitario         0.747584         0.282635            2.645           0.008\n",
              "L12.AñosEspVida              -1421.929676       782.326631           -1.818           0.069\n",
              "===========================================================================================\n",
              "\n",
              "Results for equation AñosEspVida\n",
              "===========================================================================================\n",
              "                              coefficient       std. error           t-stat            prob\n",
              "-------------------------------------------------------------------------------------------\n",
              "const                            0.014478         0.009496            1.525           0.127\n",
              "L1.Compraventa_Unitario         -0.000038         0.000079           -0.478           0.633\n",
              "L1.AñosEspVida                   0.029768         0.221748            0.134           0.893\n",
              "L2.Compraventa_Unitario         -0.000038         0.000079           -0.478           0.633\n",
              "L2.AñosEspVida                   0.029768         0.221748            0.134           0.893\n",
              "L3.Compraventa_Unitario         -0.000153         0.000086           -1.779           0.075\n",
              "L3.AñosEspVida                   0.281972         0.246281            1.145           0.252\n",
              "L4.Compraventa_Unitario         -0.000039         0.000080           -0.483           0.629\n",
              "L4.AñosEspVida                   0.062665         0.245957            0.255           0.799\n",
              "L5.Compraventa_Unitario         -0.000039         0.000080           -0.483           0.629\n",
              "L5.AñosEspVida                   0.062665         0.245957            0.255           0.799\n",
              "L6.Compraventa_Unitario          0.000066         0.000085            0.774           0.439\n",
              "L6.AñosEspVida                   0.103349         0.248090            0.417           0.677\n",
              "L7.Compraventa_Unitario         -0.000040         0.000081           -0.492           0.623\n",
              "L7.AñosEspVida                   0.018974         0.212172            0.089           0.929\n",
              "L8.Compraventa_Unitario         -0.000040         0.000081           -0.492           0.623\n",
              "L8.AñosEspVida                   0.018974         0.212172            0.089           0.929\n",
              "L9.Compraventa_Unitario         -0.000059         0.000123           -0.479           0.632\n",
              "L9.AñosEspVida                  -0.135821         0.260427           -0.522           0.602\n",
              "L10.Compraventa_Unitario        -0.000046         0.000101           -0.457           0.647\n",
              "L10.AñosEspVida                  0.063725         0.250859            0.254           0.799\n",
              "L11.Compraventa_Unitario        -0.000046         0.000101           -0.457           0.647\n",
              "L11.AñosEspVida                  0.063725         0.250859            0.254           0.799\n",
              "L12.Compraventa_Unitario        -0.000205         0.000102           -2.009           0.045\n",
              "L12.AñosEspVida                  0.345486         0.282242            1.224           0.221\n",
              "===========================================================================================\n",
              "\n",
              "Correlation matrix of residuals\n",
              "                        Compraventa_Unitario  AñosEspVida\n",
              "Compraventa_Unitario                1.000000     0.914434\n",
              "AñosEspVida                         0.914434     1.000000\n",
              "\n"
            ]
          },
          "metadata": {},
          "execution_count": 33
        }
      ]
    },
    {
      "cell_type": "markdown",
      "source": [
        "La correlación entre los residuos de \"Compraventa_Unitario\" y \"AñosEspVida\" es bastante alta, con un valor de 0.914434. Esto sugiere una correlación muy fuerte entre los residuos de estas dos variables en tu modelo."
      ],
      "metadata": {
        "id": "LlwVbfzwNuUz"
      }
    },
    {
      "cell_type": "code",
      "source": [
        "res.is_stable()"
      ],
      "metadata": {
        "colab": {
          "base_uri": "https://localhost:8080/"
        },
        "id": "KKqBnUrViD9q",
        "outputId": "7028052d-9cb7-4d45-828f-5d2b4ba23442"
      },
      "execution_count": 34,
      "outputs": [
        {
          "output_type": "execute_result",
          "data": {
            "text/plain": [
              "False"
            ]
          },
          "metadata": {},
          "execution_count": 34
        }
      ]
    },
    {
      "cell_type": "code",
      "source": [
        "res = model.fit(maxlags=11)\n",
        "res.summary()"
      ],
      "metadata": {
        "colab": {
          "base_uri": "https://localhost:8080/"
        },
        "id": "GHFs4iAJiGAE",
        "outputId": "55431192-bae1-48f8-e7b8-83f1457385a0"
      },
      "execution_count": 35,
      "outputs": [
        {
          "output_type": "execute_result",
          "data": {
            "text/plain": [
              "  Summary of Regression Results   \n",
              "==================================\n",
              "Model:                         VAR\n",
              "Method:                        OLS\n",
              "Date:           Fri, 17, May, 2024\n",
              "Time:                     17:10:55\n",
              "--------------------------------------------------------------------\n",
              "No. of Equations:         2.00000    BIC:                    5.99405\n",
              "Nobs:                     48.0000    HQIC:                   4.87848\n",
              "Log likelihood:          -191.038    FPE:                    79.1829\n",
              "AIC:                      4.20082    Det(Omega_mle):         36.1907\n",
              "--------------------------------------------------------------------\n",
              "Results for equation Compraventa_Unitario\n",
              "===========================================================================================\n",
              "                              coefficient       std. error           t-stat            prob\n",
              "-------------------------------------------------------------------------------------------\n",
              "const                           47.018416        27.570184            1.705           0.088\n",
              "L1.Compraventa_Unitario         -0.123389         0.243494           -0.507           0.612\n",
              "L1.AñosEspVida                  96.673397       682.886702            0.142           0.887\n",
              "L2.Compraventa_Unitario         -0.123389         0.243494           -0.507           0.612\n",
              "L2.AñosEspVida                  96.673397       682.886702            0.142           0.887\n",
              "L3.Compraventa_Unitario         -0.418083         0.232048           -1.802           0.072\n",
              "L3.AñosEspVida                1478.196506       688.363026            2.147           0.032\n",
              "L4.Compraventa_Unitario         -0.125597         0.245512           -0.512           0.609\n",
              "L4.AñosEspVida                 203.511295       756.585194            0.269           0.788\n",
              "L5.Compraventa_Unitario         -0.125597         0.245512           -0.512           0.609\n",
              "L5.AñosEspVida                 203.511295       756.585194            0.269           0.788\n",
              "L6.Compraventa_Unitario         -0.251499         0.222283           -1.131           0.258\n",
              "L6.AñosEspVida                 173.349021       645.047688            0.269           0.788\n",
              "L7.Compraventa_Unitario         -0.129556         0.248328           -0.522           0.602\n",
              "L7.AñosEspVida                  61.621227       653.555535            0.094           0.925\n",
              "L8.Compraventa_Unitario         -0.129556         0.248328           -0.522           0.602\n",
              "L8.AñosEspVida                  61.621227       653.555535            0.094           0.925\n",
              "L9.Compraventa_Unitario         -0.422610         0.292558           -1.445           0.149\n",
              "L9.AñosEspVida                 904.748375       722.986957            1.251           0.211\n",
              "L10.Compraventa_Unitario        -0.149892         0.309408           -0.484           0.628\n",
              "L10.AñosEspVida                206.952678       771.669752            0.268           0.789\n",
              "L11.Compraventa_Unitario        -0.149892         0.309408           -0.484           0.628\n",
              "L11.AñosEspVida                206.952678       771.669752            0.268           0.789\n",
              "===========================================================================================\n",
              "\n",
              "Results for equation AñosEspVida\n",
              "===========================================================================================\n",
              "                              coefficient       std. error           t-stat            prob\n",
              "-------------------------------------------------------------------------------------------\n",
              "const                            0.005952         0.009880            0.602           0.547\n",
              "L1.Compraventa_Unitario         -0.000016         0.000087           -0.179           0.858\n",
              "L1.AñosEspVida                   0.012238         0.244729            0.050           0.960\n",
              "L2.Compraventa_Unitario         -0.000016         0.000087           -0.179           0.858\n",
              "L2.AñosEspVida                   0.012238         0.244729            0.050           0.960\n",
              "L3.Compraventa_Unitario         -0.000071         0.000083           -0.849           0.396\n",
              "L3.AñosEspVida                   0.138955         0.246691            0.563           0.573\n",
              "L4.Compraventa_Unitario         -0.000016         0.000088           -0.181           0.857\n",
              "L4.AñosEspVida                   0.025763         0.271140            0.095           0.924\n",
              "L5.Compraventa_Unitario         -0.000016         0.000088           -0.181           0.857\n",
              "L5.AñosEspVida                   0.025763         0.271140            0.095           0.924\n",
              "L6.Compraventa_Unitario          0.000098         0.000080            1.226           0.220\n",
              "L6.AñosEspVida                  -0.110611         0.231168           -0.478           0.632\n",
              "L7.Compraventa_Unitario         -0.000016         0.000089           -0.184           0.854\n",
              "L7.AñosEspVida                   0.007801         0.234217            0.033           0.973\n",
              "L8.Compraventa_Unitario         -0.000016         0.000089           -0.184           0.854\n",
              "L8.AñosEspVida                   0.007801         0.234217            0.033           0.973\n",
              "L9.Compraventa_Unitario          0.000005         0.000105            0.046           0.963\n",
              "L9.AñosEspVida                  -0.112464         0.259100           -0.434           0.664\n",
              "L10.Compraventa_Unitario        -0.000019         0.000111           -0.171           0.864\n",
              "L10.AñosEspVida                  0.026198         0.276546            0.095           0.925\n",
              "L11.Compraventa_Unitario        -0.000019         0.000111           -0.171           0.864\n",
              "L11.AñosEspVida                  0.026198         0.276546            0.095           0.925\n",
              "===========================================================================================\n",
              "\n",
              "Correlation matrix of residuals\n",
              "                        Compraventa_Unitario  AñosEspVida\n",
              "Compraventa_Unitario                1.000000     0.576809\n",
              "AñosEspVida                         0.576809     1.000000\n",
              "\n"
            ]
          },
          "metadata": {},
          "execution_count": 35
        }
      ]
    },
    {
      "cell_type": "code",
      "source": [
        "res.is_stable()"
      ],
      "metadata": {
        "colab": {
          "base_uri": "https://localhost:8080/"
        },
        "id": "sP_pQbPWiMuD",
        "outputId": "ccc80900-5acb-47d1-c825-06b50d9b0e22"
      },
      "execution_count": 36,
      "outputs": [
        {
          "output_type": "execute_result",
          "data": {
            "text/plain": [
              "True"
            ]
          },
          "metadata": {},
          "execution_count": 36
        }
      ]
    },
    {
      "cell_type": "code",
      "source": [
        "X_train.columns"
      ],
      "metadata": {
        "colab": {
          "base_uri": "https://localhost:8080/"
        },
        "id": "7tDQSMh_mGv5",
        "outputId": "ebf5a118-9354-49c8-c710-d0beaa347fe1"
      },
      "execution_count": 37,
      "outputs": [
        {
          "output_type": "execute_result",
          "data": {
            "text/plain": [
              "Index(['Compraventa_Unitario', 'AñosEspVida'], dtype='object')"
            ]
          },
          "metadata": {},
          "execution_count": 37
        }
      ]
    },
    {
      "cell_type": "markdown",
      "source": [
        "###### Causalidad de Granger"
      ],
      "metadata": {
        "id": "UeWh9NUMmOsp"
      }
    },
    {
      "cell_type": "code",
      "source": [
        "grangercaus=res.test_causality(['AñosEspVida'],['Compraventa_Unitario'],kind='f')\n",
        "grangercaus.summary()"
      ],
      "metadata": {
        "colab": {
          "base_uri": "https://localhost:8080/",
          "height": 128
        },
        "id": "FFpAEu7nmN73",
        "outputId": "32c5b1d3-eca0-4522-e699-f306cbff043a"
      },
      "execution_count": 38,
      "outputs": [
        {
          "output_type": "execute_result",
          "data": {
            "text/plain": [
              "<class 'statsmodels.iolib.table.SimpleTable'>"
            ],
            "text/html": [
              "<table class=\"simpletable\">\n",
              "<caption>Granger causality F-test. H_0: Compraventa_Unitario does not Granger-cause AñosEspVida. Conclusion: fail to reject H_0 at 5% significance level.</caption>\n",
              "<tr>\n",
              "  <th>Test statistic</th> <th>Critical value</th> <th>p-value</th>    <th>df</th>   \n",
              "</tr>\n",
              "<tr>\n",
              "      <td>0.3001</td>          <td>1.986</td>      <td>0.983</td>  <td>(11, 50)</td>\n",
              "</tr>\n",
              "</table>"
            ],
            "text/latex": "\\begin{center}\n\\begin{tabular}{cccc}\n\\toprule\n\\textbf{Test statistic} & \\textbf{Critical value} & \\textbf{p-value} & \\textbf{df}  \\\\\n\\midrule\n         0.3001         &          1.986          &      0.983       &   (11, 50)   \\\\\n\\bottomrule\n\\end{tabular}\n%\\caption{Granger causality F-test. H_0: Compraventa_Unitario does not Granger-cause AñosEspVida. Conclusion: fail to reject H_0 at 5% significance level.}\n\\end{center}"
          },
          "metadata": {},
          "execution_count": 38
        }
      ]
    },
    {
      "cell_type": "code",
      "source": [
        "grangercaus=res.test_causality(['Compraventa_Unitario'],['AñosEspVida'],kind='f')\n",
        "grangercaus.summary()"
      ],
      "metadata": {
        "colab": {
          "base_uri": "https://localhost:8080/",
          "height": 128
        },
        "id": "d_xNfS2umz-Y",
        "outputId": "b82929eb-906d-46db-d3d0-bf1e27fce65a"
      },
      "execution_count": 39,
      "outputs": [
        {
          "output_type": "execute_result",
          "data": {
            "text/plain": [
              "<class 'statsmodels.iolib.table.SimpleTable'>"
            ],
            "text/html": [
              "<table class=\"simpletable\">\n",
              "<caption>Granger causality F-test. H_0: AñosEspVida does not Granger-cause Compraventa_Unitario. Conclusion: fail to reject H_0 at 5% significance level.</caption>\n",
              "<tr>\n",
              "  <th>Test statistic</th> <th>Critical value</th> <th>p-value</th>    <th>df</th>   \n",
              "</tr>\n",
              "<tr>\n",
              "      <td>0.4833</td>          <td>1.986</td>      <td>0.905</td>  <td>(11, 50)</td>\n",
              "</tr>\n",
              "</table>"
            ],
            "text/latex": "\\begin{center}\n\\begin{tabular}{cccc}\n\\toprule\n\\textbf{Test statistic} & \\textbf{Critical value} & \\textbf{p-value} & \\textbf{df}  \\\\\n\\midrule\n         0.4833         &          1.986          &      0.905       &   (11, 50)   \\\\\n\\bottomrule\n\\end{tabular}\n%\\caption{Granger causality F-test. H_0: AñosEspVida does not Granger-cause Compraventa_Unitario. Conclusion: fail to reject H_0 at 5% significance level.}\n\\end{center}"
          },
          "metadata": {},
          "execution_count": 39
        }
      ]
    },
    {
      "cell_type": "markdown",
      "source": [
        "Como se puede observar, la causalidad de Granger nos indica que ninguna de las series temporales puede causar la otra serie temporal"
      ],
      "metadata": {
        "id": "deyfDA4UeXxJ"
      }
    },
    {
      "cell_type": "markdown",
      "source": [
        "###### Matriz de causalidad de Granger\n"
      ],
      "metadata": {
        "id": "WNGM-fVxm8bh"
      }
    },
    {
      "cell_type": "code",
      "source": [
        "import pandas as pd\n",
        "import numpy as np\n",
        "from statsmodels.tsa.stattools import grangercausalitytests\n",
        "import warnings\n",
        "warnings.filterwarnings(\"ignore\")\n",
        "maxlag=12\n",
        "test = 'ssr_chi2test'\n",
        "def grangers_causality_matrix(X_train_transformed, variables, test = 'ssr_chi2test', verbose=False):\n",
        "  dataset = pd.DataFrame(np.zeros((len(variables), len(variables))), columns=variables, index=variables)\n",
        "  for c in dataset.columns:\n",
        "    for r in dataset.index:\n",
        "      test_result = grangercausalitytests(X_train_transformed[[r,c]], maxlag=maxlag, verbose=False)\n",
        "      p_values = [round(test_result[i+1][0][test][1],4) for i in range(maxlag)]\n",
        "      if verbose:\n",
        "        print(f'Y = {r}, X = {c}, P Values = {p_values}')\n",
        "      min_p_value = np.min(p_values)\n",
        "      dataset.loc[r,c] = min_p_value\n",
        "  dataset.columns = [var + '_x' for var in variables]\n",
        "  dataset.index = [var + '_y' for var in variables]\n",
        "  return dataset\n",
        "grangers_causality_matrix(X_train_transformed, variables = X_train_transformed.columns)"
      ],
      "metadata": {
        "colab": {
          "base_uri": "https://localhost:8080/",
          "height": 112
        },
        "id": "EsRJys5vnAGl",
        "outputId": "928337e3-9705-4ff4-f3de-d0a65cfba653"
      },
      "execution_count": 40,
      "outputs": [
        {
          "output_type": "execute_result",
          "data": {
            "text/plain": [
              "                        Compraventa_Unitario_x  AñosEspVida_x\n",
              "Compraventa_Unitario_y                   1.000         0.0159\n",
              "AñosEspVida_y                            0.024         1.0000"
            ],
            "text/html": [
              "\n",
              "  <div id=\"df-cce57ed3-9082-4c09-82c3-e44baaac95de\" class=\"colab-df-container\">\n",
              "    <div>\n",
              "<style scoped>\n",
              "    .dataframe tbody tr th:only-of-type {\n",
              "        vertical-align: middle;\n",
              "    }\n",
              "\n",
              "    .dataframe tbody tr th {\n",
              "        vertical-align: top;\n",
              "    }\n",
              "\n",
              "    .dataframe thead th {\n",
              "        text-align: right;\n",
              "    }\n",
              "</style>\n",
              "<table border=\"1\" class=\"dataframe\">\n",
              "  <thead>\n",
              "    <tr style=\"text-align: right;\">\n",
              "      <th></th>\n",
              "      <th>Compraventa_Unitario_x</th>\n",
              "      <th>AñosEspVida_x</th>\n",
              "    </tr>\n",
              "  </thead>\n",
              "  <tbody>\n",
              "    <tr>\n",
              "      <th>Compraventa_Unitario_y</th>\n",
              "      <td>1.000</td>\n",
              "      <td>0.0159</td>\n",
              "    </tr>\n",
              "    <tr>\n",
              "      <th>AñosEspVida_y</th>\n",
              "      <td>0.024</td>\n",
              "      <td>1.0000</td>\n",
              "    </tr>\n",
              "  </tbody>\n",
              "</table>\n",
              "</div>\n",
              "    <div class=\"colab-df-buttons\">\n",
              "\n",
              "  <div class=\"colab-df-container\">\n",
              "    <button class=\"colab-df-convert\" onclick=\"convertToInteractive('df-cce57ed3-9082-4c09-82c3-e44baaac95de')\"\n",
              "            title=\"Convert this dataframe to an interactive table.\"\n",
              "            style=\"display:none;\">\n",
              "\n",
              "  <svg xmlns=\"http://www.w3.org/2000/svg\" height=\"24px\" viewBox=\"0 -960 960 960\">\n",
              "    <path d=\"M120-120v-720h720v720H120Zm60-500h600v-160H180v160Zm220 220h160v-160H400v160Zm0 220h160v-160H400v160ZM180-400h160v-160H180v160Zm440 0h160v-160H620v160ZM180-180h160v-160H180v160Zm440 0h160v-160H620v160Z\"/>\n",
              "  </svg>\n",
              "    </button>\n",
              "\n",
              "  <style>\n",
              "    .colab-df-container {\n",
              "      display:flex;\n",
              "      gap: 12px;\n",
              "    }\n",
              "\n",
              "    .colab-df-convert {\n",
              "      background-color: #E8F0FE;\n",
              "      border: none;\n",
              "      border-radius: 50%;\n",
              "      cursor: pointer;\n",
              "      display: none;\n",
              "      fill: #1967D2;\n",
              "      height: 32px;\n",
              "      padding: 0 0 0 0;\n",
              "      width: 32px;\n",
              "    }\n",
              "\n",
              "    .colab-df-convert:hover {\n",
              "      background-color: #E2EBFA;\n",
              "      box-shadow: 0px 1px 2px rgba(60, 64, 67, 0.3), 0px 1px 3px 1px rgba(60, 64, 67, 0.15);\n",
              "      fill: #174EA6;\n",
              "    }\n",
              "\n",
              "    .colab-df-buttons div {\n",
              "      margin-bottom: 4px;\n",
              "    }\n",
              "\n",
              "    [theme=dark] .colab-df-convert {\n",
              "      background-color: #3B4455;\n",
              "      fill: #D2E3FC;\n",
              "    }\n",
              "\n",
              "    [theme=dark] .colab-df-convert:hover {\n",
              "      background-color: #434B5C;\n",
              "      box-shadow: 0px 1px 3px 1px rgba(0, 0, 0, 0.15);\n",
              "      filter: drop-shadow(0px 1px 2px rgba(0, 0, 0, 0.3));\n",
              "      fill: #FFFFFF;\n",
              "    }\n",
              "  </style>\n",
              "\n",
              "    <script>\n",
              "      const buttonEl =\n",
              "        document.querySelector('#df-cce57ed3-9082-4c09-82c3-e44baaac95de button.colab-df-convert');\n",
              "      buttonEl.style.display =\n",
              "        google.colab.kernel.accessAllowed ? 'block' : 'none';\n",
              "\n",
              "      async function convertToInteractive(key) {\n",
              "        const element = document.querySelector('#df-cce57ed3-9082-4c09-82c3-e44baaac95de');\n",
              "        const dataTable =\n",
              "          await google.colab.kernel.invokeFunction('convertToInteractive',\n",
              "                                                    [key], {});\n",
              "        if (!dataTable) return;\n",
              "\n",
              "        const docLinkHtml = 'Like what you see? Visit the ' +\n",
              "          '<a target=\"_blank\" href=https://colab.research.google.com/notebooks/data_table.ipynb>data table notebook</a>'\n",
              "          + ' to learn more about interactive tables.';\n",
              "        element.innerHTML = '';\n",
              "        dataTable['output_type'] = 'display_data';\n",
              "        await google.colab.output.renderOutput(dataTable, element);\n",
              "        const docLink = document.createElement('div');\n",
              "        docLink.innerHTML = docLinkHtml;\n",
              "        element.appendChild(docLink);\n",
              "      }\n",
              "    </script>\n",
              "  </div>\n",
              "\n",
              "\n",
              "<div id=\"df-461894c5-b125-46ef-b046-a1112c86ffd3\">\n",
              "  <button class=\"colab-df-quickchart\" onclick=\"quickchart('df-461894c5-b125-46ef-b046-a1112c86ffd3')\"\n",
              "            title=\"Suggest charts\"\n",
              "            style=\"display:none;\">\n",
              "\n",
              "<svg xmlns=\"http://www.w3.org/2000/svg\" height=\"24px\"viewBox=\"0 0 24 24\"\n",
              "     width=\"24px\">\n",
              "    <g>\n",
              "        <path d=\"M19 3H5c-1.1 0-2 .9-2 2v14c0 1.1.9 2 2 2h14c1.1 0 2-.9 2-2V5c0-1.1-.9-2-2-2zM9 17H7v-7h2v7zm4 0h-2V7h2v10zm4 0h-2v-4h2v4z\"/>\n",
              "    </g>\n",
              "</svg>\n",
              "  </button>\n",
              "\n",
              "<style>\n",
              "  .colab-df-quickchart {\n",
              "      --bg-color: #E8F0FE;\n",
              "      --fill-color: #1967D2;\n",
              "      --hover-bg-color: #E2EBFA;\n",
              "      --hover-fill-color: #174EA6;\n",
              "      --disabled-fill-color: #AAA;\n",
              "      --disabled-bg-color: #DDD;\n",
              "  }\n",
              "\n",
              "  [theme=dark] .colab-df-quickchart {\n",
              "      --bg-color: #3B4455;\n",
              "      --fill-color: #D2E3FC;\n",
              "      --hover-bg-color: #434B5C;\n",
              "      --hover-fill-color: #FFFFFF;\n",
              "      --disabled-bg-color: #3B4455;\n",
              "      --disabled-fill-color: #666;\n",
              "  }\n",
              "\n",
              "  .colab-df-quickchart {\n",
              "    background-color: var(--bg-color);\n",
              "    border: none;\n",
              "    border-radius: 50%;\n",
              "    cursor: pointer;\n",
              "    display: none;\n",
              "    fill: var(--fill-color);\n",
              "    height: 32px;\n",
              "    padding: 0;\n",
              "    width: 32px;\n",
              "  }\n",
              "\n",
              "  .colab-df-quickchart:hover {\n",
              "    background-color: var(--hover-bg-color);\n",
              "    box-shadow: 0 1px 2px rgba(60, 64, 67, 0.3), 0 1px 3px 1px rgba(60, 64, 67, 0.15);\n",
              "    fill: var(--button-hover-fill-color);\n",
              "  }\n",
              "\n",
              "  .colab-df-quickchart-complete:disabled,\n",
              "  .colab-df-quickchart-complete:disabled:hover {\n",
              "    background-color: var(--disabled-bg-color);\n",
              "    fill: var(--disabled-fill-color);\n",
              "    box-shadow: none;\n",
              "  }\n",
              "\n",
              "  .colab-df-spinner {\n",
              "    border: 2px solid var(--fill-color);\n",
              "    border-color: transparent;\n",
              "    border-bottom-color: var(--fill-color);\n",
              "    animation:\n",
              "      spin 1s steps(1) infinite;\n",
              "  }\n",
              "\n",
              "  @keyframes spin {\n",
              "    0% {\n",
              "      border-color: transparent;\n",
              "      border-bottom-color: var(--fill-color);\n",
              "      border-left-color: var(--fill-color);\n",
              "    }\n",
              "    20% {\n",
              "      border-color: transparent;\n",
              "      border-left-color: var(--fill-color);\n",
              "      border-top-color: var(--fill-color);\n",
              "    }\n",
              "    30% {\n",
              "      border-color: transparent;\n",
              "      border-left-color: var(--fill-color);\n",
              "      border-top-color: var(--fill-color);\n",
              "      border-right-color: var(--fill-color);\n",
              "    }\n",
              "    40% {\n",
              "      border-color: transparent;\n",
              "      border-right-color: var(--fill-color);\n",
              "      border-top-color: var(--fill-color);\n",
              "    }\n",
              "    60% {\n",
              "      border-color: transparent;\n",
              "      border-right-color: var(--fill-color);\n",
              "    }\n",
              "    80% {\n",
              "      border-color: transparent;\n",
              "      border-right-color: var(--fill-color);\n",
              "      border-bottom-color: var(--fill-color);\n",
              "    }\n",
              "    90% {\n",
              "      border-color: transparent;\n",
              "      border-bottom-color: var(--fill-color);\n",
              "    }\n",
              "  }\n",
              "</style>\n",
              "\n",
              "  <script>\n",
              "    async function quickchart(key) {\n",
              "      const quickchartButtonEl =\n",
              "        document.querySelector('#' + key + ' button');\n",
              "      quickchartButtonEl.disabled = true;  // To prevent multiple clicks.\n",
              "      quickchartButtonEl.classList.add('colab-df-spinner');\n",
              "      try {\n",
              "        const charts = await google.colab.kernel.invokeFunction(\n",
              "            'suggestCharts', [key], {});\n",
              "      } catch (error) {\n",
              "        console.error('Error during call to suggestCharts:', error);\n",
              "      }\n",
              "      quickchartButtonEl.classList.remove('colab-df-spinner');\n",
              "      quickchartButtonEl.classList.add('colab-df-quickchart-complete');\n",
              "    }\n",
              "    (() => {\n",
              "      let quickchartButtonEl =\n",
              "        document.querySelector('#df-461894c5-b125-46ef-b046-a1112c86ffd3 button');\n",
              "      quickchartButtonEl.style.display =\n",
              "        google.colab.kernel.accessAllowed ? 'block' : 'none';\n",
              "    })();\n",
              "  </script>\n",
              "</div>\n",
              "    </div>\n",
              "  </div>\n"
            ],
            "application/vnd.google.colaboratory.intrinsic+json": {
              "type": "dataframe",
              "summary": "{\n  \"name\": \"grangers_causality_matrix(X_train_transformed, variables = X_train_transformed\",\n  \"rows\": 2,\n  \"fields\": [\n    {\n      \"column\": \"Compraventa_Unitario_x\",\n      \"properties\": {\n        \"dtype\": \"number\",\n        \"std\": 0.6901362184380704,\n        \"min\": 0.024,\n        \"max\": 1.0,\n        \"num_unique_values\": 2,\n        \"samples\": [\n          0.024,\n          1.0\n        ],\n        \"semantic_type\": \"\",\n        \"description\": \"\"\n      }\n    },\n    {\n      \"column\": \"A\\u00f1osEspVida_x\",\n      \"properties\": {\n        \"dtype\": \"number\",\n        \"std\": 0.6958637833656814,\n        \"min\": 0.0159,\n        \"max\": 1.0,\n        \"num_unique_values\": 2,\n        \"samples\": [\n          1.0,\n          0.0159\n        ],\n        \"semantic_type\": \"\",\n        \"description\": \"\"\n      }\n    }\n  ]\n}"
            }
          },
          "metadata": {},
          "execution_count": 40
        }
      ]
    },
    {
      "cell_type": "markdown",
      "source": [
        "Como se puede ver en la matriz de causalidad de Granger, podemos considerar que la serie de Compraventa_Unitario causa cambios en la serie de AñosEspVida y viceversa."
      ],
      "metadata": {
        "id": "wQiupwVinPkB"
      }
    },
    {
      "cell_type": "markdown",
      "source": [
        "####Diagnosis del modelo\n"
      ],
      "metadata": {
        "id": "nDy2YsunnwBq"
      }
    },
    {
      "cell_type": "markdown",
      "source": [
        "###### Residuos"
      ],
      "metadata": {
        "id": "NGg_mAjNn0qr"
      }
    },
    {
      "cell_type": "code",
      "source": [
        "residuals=res.resid"
      ],
      "metadata": {
        "id": "HBSMx97gn4Hz"
      },
      "execution_count": 41,
      "outputs": []
    },
    {
      "cell_type": "code",
      "source": [
        "fig, axs = plt.subplots(2)\n",
        "fig.suptitle('Gráficos de los residuos',fontsize=20)\n",
        "fig.set_size_inches(18, 10)\n",
        "[axs[i].plot(residuals.iloc[:,i]) for i in range(2)]\n",
        "plt.show()"
      ],
      "metadata": {
        "colab": {
          "base_uri": "https://localhost:8080/",
          "height": 930
        },
        "id": "NfzCXKkYn6Gr",
        "outputId": "c8984d94-4f52-4f51-ce5b-eedaef3ba574"
      },
      "execution_count": 42,
      "outputs": [
        {
          "output_type": "display_data",
          "data": {
            "text/plain": [
              "<Figure size 1800x1000 with 2 Axes>"
            ],
            "image/png": "[encoded data removed]"
          },
          "metadata": {}
        }
      ]
    },
    {
      "cell_type": "markdown",
      "source": [
        "###### Dickey - Fuller a los residuos\n"
      ],
      "metadata": {
        "id": "t4CKXz8ooG8x"
      }
    },
    {
      "cell_type": "code",
      "source": [
        "print('ADF de los Residuos, p-valores:')\n",
        "[sts.adfuller(residuals.iloc[:,i])[1] for i in range(2)]"
      ],
      "metadata": {
        "colab": {
          "base_uri": "https://localhost:8080/"
        },
        "id": "DLdcLlT6oM4-",
        "outputId": "772c1ea9-0ac3-47d3-d39a-7d4d5e180861"
      },
      "execution_count": 43,
      "outputs": [
        {
          "output_type": "stream",
          "name": "stdout",
          "text": [
            "ADF de los Residuos, p-valores:\n"
          ]
        },
        {
          "output_type": "execute_result",
          "data": {
            "text/plain": [
              "[4.930900522338176e-09, 1.3520586774220204e-10]"
            ]
          },
          "metadata": {},
          "execution_count": 43
        }
      ]
    },
    {
      "cell_type": "markdown",
      "source": [
        "Todos los p-valores son < 0.05 por tanto se rechaza la hipótesis nula de que las 2 series de residuos no son estacionarias, por lo cual con un 90% de confianza se cree que son estacionarias.\n",
        "\n"
      ],
      "metadata": {
        "id": "0qESiPJaoRNc"
      }
    },
    {
      "cell_type": "markdown",
      "source": [
        "###### ACF de los Residuos\n"
      ],
      "metadata": {
        "id": "kYU0qFiLohWE"
      }
    },
    {
      "cell_type": "code",
      "source": [
        "import statsmodels.graphics.tsaplots as sgt\n",
        "[sgt.plot_acf(residuals.iloc[:,i], zero = False, lags = 12) for i in range(2)]\n",
        "plt.show()"
      ],
      "metadata": {
        "colab": {
          "base_uri": "https://localhost:8080/",
          "height": 887
        },
        "id": "mZ837R2AolcE",
        "outputId": "1c73d7b5-b854-4824-98dd-608fabe2024c"
      },
      "execution_count": 44,
      "outputs": [
        {
          "output_type": "display_data",
          "data": {
            "text/plain": [
              "<Figure size 640x480 with 1 Axes>"
            ],
            "image/png": "[encoded data removed]"
          },
          "metadata": {}
        },
        {
          "output_type": "display_data",
          "data": {
            "text/plain": [
              "<Figure size 640x480 with 1 Axes>"
            ],
            "image/png": "[encoded data removed]"
          },
          "metadata": {}
        }
      ]
    },
    {
      "cell_type": "markdown",
      "source": [
        "Conclusión: Los residuos del modelo no presentan estructura de autocorrelación, son estacionarios según los resultados de la prueba de Dickey - Fuller aumentada y en los gráficos se puede comprobar esto visualmente, entonces puede concluirse que son ruido blanco como es deseable.\n",
        "\n"
      ],
      "metadata": {
        "id": "M2QR5u5jowwd"
      }
    },
    {
      "cell_type": "markdown",
      "source": [
        "#### Valores predichos\n"
      ],
      "metadata": {
        "id": "9-N1tR5Ao5-p"
      }
    },
    {
      "cell_type": "code",
      "source": [
        "y_fitted = res.fittedvalues\n",
        "fig, axs = plt.subplots(2)\n",
        "fig.suptitle('Gráficos de los valores predichos por el modelo',fontsize=15)\n",
        "fig.set_size_inches(18, 10)\n",
        "[axs[i].plot(y_fitted.iloc[:,i]) for i in range(2)]\n",
        "plt.show()"
      ],
      "metadata": {
        "colab": {
          "base_uri": "https://localhost:8080/",
          "height": 930
        },
        "id": "Szcd4nT5o5Mc",
        "outputId": "11b4b9ef-ab78-4b27-97a3-0c8b72a9dbd9"
      },
      "execution_count": 45,
      "outputs": [
        {
          "output_type": "display_data",
          "data": {
            "text/plain": [
              "<Figure size 1800x1000 with 2 Axes>"
            ],
            "image/png": "[encoded data removed]"
          },
          "metadata": {}
        }
      ]
    },
    {
      "cell_type": "markdown",
      "source": [
        "#### Pronósticos a futuro\n"
      ],
      "metadata": {
        "id": "JsbNOfsKpOUQ"
      }
    },
    {
      "cell_type": "markdown",
      "source": [
        "Para pronosticar, al modelo VAR le podemos pasar hasta el número de orden de retraso de observaciones de los datos pasados. Esto se debe a que los términos en el modelo VAR son esencialmente los retrasos de las diversas series de tiempo en el conjunto de datos, por lo que debemos proporcionar tantos valores anteriores como lo indique el orden de retraso utilizado por el modelo. De lo contrario estaríamos introduciendo poca fiabilidad.\n",
        "\n"
      ],
      "metadata": {
        "id": "Hqj6dbVEpvIJ"
      }
    },
    {
      "cell_type": "code",
      "source": [
        "# Obtener el orden del modelo\n",
        "lag_order = res.k_ar\n",
        "print('Orden del modelo:', lag_order)\n",
        "# Input data para hacer forecasting (pronósticos a futuro)\n",
        "input_data = X_train_transformed.values[-lag_order:]\n",
        "# Forecasting\n",
        "pred = res.forecast(y=input_data, steps=12)\n",
        "pred = (pd.DataFrame(pred, index=X_test.index, columns=X_test.columns + '_pred'))\n",
        "print('Predicciones:')\n",
        "pred"
      ],
      "metadata": {
        "colab": {
          "base_uri": "https://localhost:8080/",
          "height": 492
        },
        "id": "9FK3DAUTp6hb",
        "outputId": "3a270f5f-8d54-4675-ca8c-c563ff0221fb"
      },
      "execution_count": 46,
      "outputs": [
        {
          "output_type": "stream",
          "name": "stdout",
          "text": [
            "Orden del modelo: 11\n",
            "Predicciones:\n"
          ]
        },
        {
          "output_type": "execute_result",
          "data": {
            "text/plain": [
              "            Compraventa_Unitario_pred  AñosEspVida_pred\n",
              "Fecha                                                  \n",
              "2019-01-01                -168.749823          0.013812\n",
              "2019-02-01                  -9.819155         -0.001243\n",
              "2019-03-01                  -8.727742         -0.001105\n",
              "2019-04-01                 105.642669          0.022108\n",
              "2019-05-01                  50.452504          0.006621\n",
              "2019-06-01                  44.625357          0.005857\n",
              "2019-07-01                  64.274374         -0.017455\n",
              "2019-08-01                  35.592508          0.002187\n",
              "2019-09-01                  32.744024          0.002089\n",
              "2019-10-01                  40.256328          0.002570\n",
              "2019-11-01                  19.150160          0.007053\n",
              "2019-12-01                  17.761894          0.006311"
            ],
            "text/html": [
              "\n",
              "  <div id=\"df-b4ad7c1b-fc34-4f6b-97cd-213001fc0690\" class=\"colab-df-container\">\n",
              "    <div>\n",
              "<style scoped>\n",
              "    .dataframe tbody tr th:only-of-type {\n",
              "        vertical-align: middle;\n",
              "    }\n",
              "\n",
              "    .dataframe tbody tr th {\n",
              "        vertical-align: top;\n",
              "    }\n",
              "\n",
              "    .dataframe thead th {\n",
              "        text-align: right;\n",
              "    }\n",
              "</style>\n",
              "<table border=\"1\" class=\"dataframe\">\n",
              "  <thead>\n",
              "    <tr style=\"text-align: right;\">\n",
              "      <th></th>\n",
              "      <th>Compraventa_Unitario_pred</th>\n",
              "      <th>AñosEspVida_pred</th>\n",
              "    </tr>\n",
              "    <tr>\n",
              "      <th>Fecha</th>\n",
              "      <th></th>\n",
              "      <th></th>\n",
              "    </tr>\n",
              "  </thead>\n",
              "  <tbody>\n",
              "    <tr>\n",
              "      <th>2019-01-01</th>\n",
              "      <td>-168.749823</td>\n",
              "      <td>0.013812</td>\n",
              "    </tr>\n",
              "    <tr>\n",
              "      <th>2019-02-01</th>\n",
              "      <td>-9.819155</td>\n",
              "      <td>-0.001243</td>\n",
              "    </tr>\n",
              "    <tr>\n",
              "      <th>2019-03-01</th>\n",
              "      <td>-8.727742</td>\n",
              "      <td>-0.001105</td>\n",
              "    </tr>\n",
              "    <tr>\n",
              "      <th>2019-04-01</th>\n",
              "      <td>105.642669</td>\n",
              "      <td>0.022108</td>\n",
              "    </tr>\n",
              "    <tr>\n",
              "      <th>2019-05-01</th>\n",
              "      <td>50.452504</td>\n",
              "      <td>0.006621</td>\n",
              "    </tr>\n",
              "    <tr>\n",
              "      <th>2019-06-01</th>\n",
              "      <td>44.625357</td>\n",
              "      <td>0.005857</td>\n",
              "    </tr>\n",
              "    <tr>\n",
              "      <th>2019-07-01</th>\n",
              "      <td>64.274374</td>\n",
              "      <td>-0.017455</td>\n",
              "    </tr>\n",
              "    <tr>\n",
              "      <th>2019-08-01</th>\n",
              "      <td>35.592508</td>\n",
              "      <td>0.002187</td>\n",
              "    </tr>\n",
              "    <tr>\n",
              "      <th>2019-09-01</th>\n",
              "      <td>32.744024</td>\n",
              "      <td>0.002089</td>\n",
              "    </tr>\n",
              "    <tr>\n",
              "      <th>2019-10-01</th>\n",
              "      <td>40.256328</td>\n",
              "      <td>0.002570</td>\n",
              "    </tr>\n",
              "    <tr>\n",
              "      <th>2019-11-01</th>\n",
              "      <td>19.150160</td>\n",
              "      <td>0.007053</td>\n",
              "    </tr>\n",
              "    <tr>\n",
              "      <th>2019-12-01</th>\n",
              "      <td>17.761894</td>\n",
              "      <td>0.006311</td>\n",
              "    </tr>\n",
              "  </tbody>\n",
              "</table>\n",
              "</div>\n",
              "    <div class=\"colab-df-buttons\">\n",
              "\n",
              "  <div class=\"colab-df-container\">\n",
              "    <button class=\"colab-df-convert\" onclick=\"convertToInteractive('df-b4ad7c1b-fc34-4f6b-97cd-213001fc0690')\"\n",
              "            title=\"Convert this dataframe to an interactive table.\"\n",
              "            style=\"display:none;\">\n",
              "\n",
              "  <svg xmlns=\"http://www.w3.org/2000/svg\" height=\"24px\" viewBox=\"0 -960 960 960\">\n",
              "    <path d=\"M120-120v-720h720v720H120Zm60-500h600v-160H180v160Zm220 220h160v-160H400v160Zm0 220h160v-160H400v160ZM180-400h160v-160H180v160Zm440 0h160v-160H620v160ZM180-180h160v-160H180v160Zm440 0h160v-160H620v160Z\"/>\n",
              "  </svg>\n",
              "    </button>\n",
              "\n",
              "  <style>\n",
              "    .colab-df-container {\n",
              "      display:flex;\n",
              "      gap: 12px;\n",
              "    }\n",
              "\n",
              "    .colab-df-convert {\n",
              "      background-color: #E8F0FE;\n",
              "      border: none;\n",
              "      border-radius: 50%;\n",
              "      cursor: pointer;\n",
              "      display: none;\n",
              "      fill: #1967D2;\n",
              "      height: 32px;\n",
              "      padding: 0 0 0 0;\n",
              "      width: 32px;\n",
              "    }\n",
              "\n",
              "    .colab-df-convert:hover {\n",
              "      background-color: #E2EBFA;\n",
              "      box-shadow: 0px 1px 2px rgba(60, 64, 67, 0.3), 0px 1px 3px 1px rgba(60, 64, 67, 0.15);\n",
              "      fill: #174EA6;\n",
              "    }\n",
              "\n",
              "    .colab-df-buttons div {\n",
              "      margin-bottom: 4px;\n",
              "    }\n",
              "\n",
              "    [theme=dark] .colab-df-convert {\n",
              "      background-color: #3B4455;\n",
              "      fill: #D2E3FC;\n",
              "    }\n",
              "\n",
              "    [theme=dark] .colab-df-convert:hover {\n",
              "      background-color: #434B5C;\n",
              "      box-shadow: 0px 1px 3px 1px rgba(0, 0, 0, 0.15);\n",
              "      filter: drop-shadow(0px 1px 2px rgba(0, 0, 0, 0.3));\n",
              "      fill: #FFFFFF;\n",
              "    }\n",
              "  </style>\n",
              "\n",
              "    <script>\n",
              "      const buttonEl =\n",
              "        document.querySelector('#df-b4ad7c1b-fc34-4f6b-97cd-213001fc0690 button.colab-df-convert');\n",
              "      buttonEl.style.display =\n",
              "        google.colab.kernel.accessAllowed ? 'block' : 'none';\n",
              "\n",
              "      async function convertToInteractive(key) {\n",
              "        const element = document.querySelector('#df-b4ad7c1b-fc34-4f6b-97cd-213001fc0690');\n",
              "        const dataTable =\n",
              "          await google.colab.kernel.invokeFunction('convertToInteractive',\n",
              "                                                    [key], {});\n",
              "        if (!dataTable) return;\n",
              "\n",
              "        const docLinkHtml = 'Like what you see? Visit the ' +\n",
              "          '<a target=\"_blank\" href=https://colab.research.google.com/notebooks/data_table.ipynb>data table notebook</a>'\n",
              "          + ' to learn more about interactive tables.';\n",
              "        element.innerHTML = '';\n",
              "        dataTable['output_type'] = 'display_data';\n",
              "        await google.colab.output.renderOutput(dataTable, element);\n",
              "        const docLink = document.createElement('div');\n",
              "        docLink.innerHTML = docLinkHtml;\n",
              "        element.appendChild(docLink);\n",
              "      }\n",
              "    </script>\n",
              "  </div>\n",
              "\n",
              "\n",
              "<div id=\"df-987be40d-1789-4117-86b2-05fb50368f8d\">\n",
              "  <button class=\"colab-df-quickchart\" onclick=\"quickchart('df-987be40d-1789-4117-86b2-05fb50368f8d')\"\n",
              "            title=\"Suggest charts\"\n",
              "            style=\"display:none;\">\n",
              "\n",
              "<svg xmlns=\"http://www.w3.org/2000/svg\" height=\"24px\"viewBox=\"0 0 24 24\"\n",
              "     width=\"24px\">\n",
              "    <g>\n",
              "        <path d=\"M19 3H5c-1.1 0-2 .9-2 2v14c0 1.1.9 2 2 2h14c1.1 0 2-.9 2-2V5c0-1.1-.9-2-2-2zM9 17H7v-7h2v7zm4 0h-2V7h2v10zm4 0h-2v-4h2v4z\"/>\n",
              "    </g>\n",
              "</svg>\n",
              "  </button>\n",
              "\n",
              "<style>\n",
              "  .colab-df-quickchart {\n",
              "      --bg-color: #E8F0FE;\n",
              "      --fill-color: #1967D2;\n",
              "      --hover-bg-color: #E2EBFA;\n",
              "      --hover-fill-color: #174EA6;\n",
              "      --disabled-fill-color: #AAA;\n",
              "      --disabled-bg-color: #DDD;\n",
              "  }\n",
              "\n",
              "  [theme=dark] .colab-df-quickchart {\n",
              "      --bg-color: #3B4455;\n",
              "      --fill-color: #D2E3FC;\n",
              "      --hover-bg-color: #434B5C;\n",
              "      --hover-fill-color: #FFFFFF;\n",
              "      --disabled-bg-color: #3B4455;\n",
              "      --disabled-fill-color: #666;\n",
              "  }\n",
              "\n",
              "  .colab-df-quickchart {\n",
              "    background-color: var(--bg-color);\n",
              "    border: none;\n",
              "    border-radius: 50%;\n",
              "    cursor: pointer;\n",
              "    display: none;\n",
              "    fill: var(--fill-color);\n",
              "    height: 32px;\n",
              "    padding: 0;\n",
              "    width: 32px;\n",
              "  }\n",
              "\n",
              "  .colab-df-quickchart:hover {\n",
              "    background-color: var(--hover-bg-color);\n",
              "    box-shadow: 0 1px 2px rgba(60, 64, 67, 0.3), 0 1px 3px 1px rgba(60, 64, 67, 0.15);\n",
              "    fill: var(--button-hover-fill-color);\n",
              "  }\n",
              "\n",
              "  .colab-df-quickchart-complete:disabled,\n",
              "  .colab-df-quickchart-complete:disabled:hover {\n",
              "    background-color: var(--disabled-bg-color);\n",
              "    fill: var(--disabled-fill-color);\n",
              "    box-shadow: none;\n",
              "  }\n",
              "\n",
              "  .colab-df-spinner {\n",
              "    border: 2px solid var(--fill-color);\n",
              "    border-color: transparent;\n",
              "    border-bottom-color: var(--fill-color);\n",
              "    animation:\n",
              "      spin 1s steps(1) infinite;\n",
              "  }\n",
              "\n",
              "  @keyframes spin {\n",
              "    0% {\n",
              "      border-color: transparent;\n",
              "      border-bottom-color: var(--fill-color);\n",
              "      border-left-color: var(--fill-color);\n",
              "    }\n",
              "    20% {\n",
              "      border-color: transparent;\n",
              "      border-left-color: var(--fill-color);\n",
              "      border-top-color: var(--fill-color);\n",
              "    }\n",
              "    30% {\n",
              "      border-color: transparent;\n",
              "      border-left-color: var(--fill-color);\n",
              "      border-top-color: var(--fill-color);\n",
              "      border-right-color: var(--fill-color);\n",
              "    }\n",
              "    40% {\n",
              "      border-color: transparent;\n",
              "      border-right-color: var(--fill-color);\n",
              "      border-top-color: var(--fill-color);\n",
              "    }\n",
              "    60% {\n",
              "      border-color: transparent;\n",
              "      border-right-color: var(--fill-color);\n",
              "    }\n",
              "    80% {\n",
              "      border-color: transparent;\n",
              "      border-right-color: var(--fill-color);\n",
              "      border-bottom-color: var(--fill-color);\n",
              "    }\n",
              "    90% {\n",
              "      border-color: transparent;\n",
              "      border-bottom-color: var(--fill-color);\n",
              "    }\n",
              "  }\n",
              "</style>\n",
              "\n",
              "  <script>\n",
              "    async function quickchart(key) {\n",
              "      const quickchartButtonEl =\n",
              "        document.querySelector('#' + key + ' button');\n",
              "      quickchartButtonEl.disabled = true;  // To prevent multiple clicks.\n",
              "      quickchartButtonEl.classList.add('colab-df-spinner');\n",
              "      try {\n",
              "        const charts = await google.colab.kernel.invokeFunction(\n",
              "            'suggestCharts', [key], {});\n",
              "      } catch (error) {\n",
              "        console.error('Error during call to suggestCharts:', error);\n",
              "      }\n",
              "      quickchartButtonEl.classList.remove('colab-df-spinner');\n",
              "      quickchartButtonEl.classList.add('colab-df-quickchart-complete');\n",
              "    }\n",
              "    (() => {\n",
              "      let quickchartButtonEl =\n",
              "        document.querySelector('#df-987be40d-1789-4117-86b2-05fb50368f8d button');\n",
              "      quickchartButtonEl.style.display =\n",
              "        google.colab.kernel.accessAllowed ? 'block' : 'none';\n",
              "    })();\n",
              "  </script>\n",
              "</div>\n",
              "    </div>\n",
              "  </div>\n"
            ],
            "application/vnd.google.colaboratory.intrinsic+json": {
              "type": "dataframe",
              "variable_name": "pred",
              "summary": "{\n  \"name\": \"pred\",\n  \"rows\": 12,\n  \"fields\": [\n    {\n      \"column\": \"Fecha\",\n      \"properties\": {\n        \"dtype\": \"date\",\n        \"min\": \"2019-01-01 00:00:00\",\n        \"max\": \"2019-12-01 00:00:00\",\n        \"num_unique_values\": 12,\n        \"samples\": [\n          \"2019-11-01 00:00:00\",\n          \"2019-10-01 00:00:00\",\n          \"2019-01-01 00:00:00\"\n        ],\n        \"semantic_type\": \"\",\n        \"description\": \"\"\n      }\n    },\n    {\n      \"column\": \"Compraventa_Unitario_pred\",\n      \"properties\": {\n        \"dtype\": \"number\",\n        \"std\": 66.7203705039476,\n        \"min\": -168.74982266799614,\n        \"max\": 105.6426693629147,\n        \"num_unique_values\": 12,\n        \"samples\": [\n          19.150160140352973,\n          40.256327615853955,\n          -168.74982266799614\n        ],\n        \"semantic_type\": \"\",\n        \"description\": \"\"\n      }\n    },\n    {\n      \"column\": \"A\\u00f1osEspVida_pred\",\n      \"properties\": {\n        \"dtype\": \"number\",\n        \"std\": 0.00939985142428867,\n        \"min\": -0.01745515506217203,\n        \"max\": 0.022107525927726298,\n        \"num_unique_values\": 12,\n        \"samples\": [\n          0.007052568923939951,\n          0.0025703013308506213,\n          0.013811644618338684\n        ],\n        \"semantic_type\": \"\",\n        \"description\": \"\"\n      }\n    }\n  ]\n}"
            }
          },
          "metadata": {},
          "execution_count": 46
        }
      ]
    },
    {
      "cell_type": "code",
      "source": [
        "import matplotlib.pyplot as plt\n",
        "plt.figure(figsize = (12, 10))\n",
        "res.plot_forecast(lag_order)\n",
        "plt.tight_layout(h_pad = 1.15)\n",
        "plt.show()\n"
      ],
      "metadata": {
        "colab": {
          "base_uri": "https://localhost:8080/",
          "height": 1000
        },
        "id": "SokaM9c5qyRn",
        "outputId": "58fe3abf-8915-421f-bd79-e992f81aa832"
      },
      "execution_count": 47,
      "outputs": [
        {
          "output_type": "display_data",
          "data": {
            "text/plain": [
              "<Figure size 1200x1000 with 0 Axes>"
            ]
          },
          "metadata": {}
        },
        {
          "output_type": "display_data",
          "data": {
            "text/plain": [
              "<Figure size 1000x1000 with 2 Axes>"
            ],
            "image/png": "[encoded data removed]"
          },
          "metadata": {}
        }
      ]
    },
    {
      "cell_type": "markdown",
      "source": [
        "#### Invirtiendo la transformación de los pronósticos a la escala original\n"
      ],
      "metadata": {
        "id": "3QbukMdrq62v"
      }
    },
    {
      "cell_type": "markdown",
      "source": [
        "Los pronósticos se generan en la escala de los datos de entrenamiento utilizados por el modelo, es decir, son datos transformados. Entonces, para volver a ponerlos en su escala original, necesitamos des-diferenciarlos. La forma de invertir la diferenciación es sumar estas diferencias consecutivamente al número base. Una forma sencilla de hacerlo es determinar primero la suma acumulada y luego sumarla al número base. Este proceso se puede revertir agregando la observación en el paso de tiempo anterior al difference value. inverted(ts) = differenced(ts) + observation(ts-1)\n",
        "\n"
      ],
      "metadata": {
        "id": "Z6w8yKYyq-jF"
      }
    },
    {
      "cell_type": "code",
      "source": [
        "# Invirtiendo la transformación teniendo en cuenta que hemos diferenciado dos veces\n",
        "def invert_transformation(ds, df_forecast, second_diff=False):\n",
        "    for col in ds.columns:\n",
        "        # Undo the 2nd Differencing\n",
        "        if second_diff:\n",
        "            df_forecast[str(col)] = (ds[col].iloc[-1] - ds[col].iloc[-2]) + df_forecast[str(col)].cumsum()\n",
        "\n",
        "        # Undo the 1st Differencing\n",
        "        df_forecast[str(col)] = ds[col].iloc[-1] + df_forecast[str(col)].cumsum()\n",
        "\n",
        "    return df_forecast"
      ],
      "metadata": {
        "id": "fnVeKvm_rIbE"
      },
      "execution_count": 48,
      "outputs": []
    },
    {
      "cell_type": "code",
      "source": [
        "pred.columns=X_test.columns\n",
        "output = invert_transformation(X_train, pred, second_diff=False)\n",
        "output"
      ],
      "metadata": {
        "colab": {
          "base_uri": "https://localhost:8080/",
          "height": 457
        },
        "id": "EYQA2HSNrWuQ",
        "outputId": "7f5711a9-4abc-4ec1-ad91-7123f05bdc3b"
      },
      "execution_count": 49,
      "outputs": [
        {
          "output_type": "execute_result",
          "data": {
            "text/plain": [
              "            Compraventa_Unitario  AñosEspVida\n",
              "Fecha                                        \n",
              "2019-01-01           5261.516844    84.647145\n",
              "2019-02-01           5251.697689    84.645902\n",
              "2019-03-01           5242.969947    84.644797\n",
              "2019-04-01           5348.612616    84.666905\n",
              "2019-05-01           5399.065121    84.673525\n",
              "2019-06-01           5443.690478    84.679382\n",
              "2019-07-01           5507.964852    84.661927\n",
              "2019-08-01           5543.557360    84.664114\n",
              "2019-09-01           5576.301384    84.666203\n",
              "2019-10-01           5616.557711    84.668773\n",
              "2019-11-01           5635.707872    84.675826\n",
              "2019-12-01           5653.469765    84.682137"
            ],
            "text/html": [
              "\n",
              "  <div id=\"df-e896130f-8bb2-4ca1-b9e6-2b69316e4a07\" class=\"colab-df-container\">\n",
              "    <div>\n",
              "<style scoped>\n",
              "    .dataframe tbody tr th:only-of-type {\n",
              "        vertical-align: middle;\n",
              "    }\n",
              "\n",
              "    .dataframe tbody tr th {\n",
              "        vertical-align: top;\n",
              "    }\n",
              "\n",
              "    .dataframe thead th {\n",
              "        text-align: right;\n",
              "    }\n",
              "</style>\n",
              "<table border=\"1\" class=\"dataframe\">\n",
              "  <thead>\n",
              "    <tr style=\"text-align: right;\">\n",
              "      <th></th>\n",
              "      <th>Compraventa_Unitario</th>\n",
              "      <th>AñosEspVida</th>\n",
              "    </tr>\n",
              "    <tr>\n",
              "      <th>Fecha</th>\n",
              "      <th></th>\n",
              "      <th></th>\n",
              "    </tr>\n",
              "  </thead>\n",
              "  <tbody>\n",
              "    <tr>\n",
              "      <th>2019-01-01</th>\n",
              "      <td>5261.516844</td>\n",
              "      <td>84.647145</td>\n",
              "    </tr>\n",
              "    <tr>\n",
              "      <th>2019-02-01</th>\n",
              "      <td>5251.697689</td>\n",
              "      <td>84.645902</td>\n",
              "    </tr>\n",
              "    <tr>\n",
              "      <th>2019-03-01</th>\n",
              "      <td>5242.969947</td>\n",
              "      <td>84.644797</td>\n",
              "    </tr>\n",
              "    <tr>\n",
              "      <th>2019-04-01</th>\n",
              "      <td>5348.612616</td>\n",
              "      <td>84.666905</td>\n",
              "    </tr>\n",
              "    <tr>\n",
              "      <th>2019-05-01</th>\n",
              "      <td>5399.065121</td>\n",
              "      <td>84.673525</td>\n",
              "    </tr>\n",
              "    <tr>\n",
              "      <th>2019-06-01</th>\n",
              "      <td>5443.690478</td>\n",
              "      <td>84.679382</td>\n",
              "    </tr>\n",
              "    <tr>\n",
              "      <th>2019-07-01</th>\n",
              "      <td>5507.964852</td>\n",
              "      <td>84.661927</td>\n",
              "    </tr>\n",
              "    <tr>\n",
              "      <th>2019-08-01</th>\n",
              "      <td>5543.557360</td>\n",
              "      <td>84.664114</td>\n",
              "    </tr>\n",
              "    <tr>\n",
              "      <th>2019-09-01</th>\n",
              "      <td>5576.301384</td>\n",
              "      <td>84.666203</td>\n",
              "    </tr>\n",
              "    <tr>\n",
              "      <th>2019-10-01</th>\n",
              "      <td>5616.557711</td>\n",
              "      <td>84.668773</td>\n",
              "    </tr>\n",
              "    <tr>\n",
              "      <th>2019-11-01</th>\n",
              "      <td>5635.707872</td>\n",
              "      <td>84.675826</td>\n",
              "    </tr>\n",
              "    <tr>\n",
              "      <th>2019-12-01</th>\n",
              "      <td>5653.469765</td>\n",
              "      <td>84.682137</td>\n",
              "    </tr>\n",
              "  </tbody>\n",
              "</table>\n",
              "</div>\n",
              "    <div class=\"colab-df-buttons\">\n",
              "\n",
              "  <div class=\"colab-df-container\">\n",
              "    <button class=\"colab-df-convert\" onclick=\"convertToInteractive('df-e896130f-8bb2-4ca1-b9e6-2b69316e4a07')\"\n",
              "            title=\"Convert this dataframe to an interactive table.\"\n",
              "            style=\"display:none;\">\n",
              "\n",
              "  <svg xmlns=\"http://www.w3.org/2000/svg\" height=\"24px\" viewBox=\"0 -960 960 960\">\n",
              "    <path d=\"M120-120v-720h720v720H120Zm60-500h600v-160H180v160Zm220 220h160v-160H400v160Zm0 220h160v-160H400v160ZM180-400h160v-160H180v160Zm440 0h160v-160H620v160ZM180-180h160v-160H180v160Zm440 0h160v-160H620v160Z\"/>\n",
              "  </svg>\n",
              "    </button>\n",
              "\n",
              "  <style>\n",
              "    .colab-df-container {\n",
              "      display:flex;\n",
              "      gap: 12px;\n",
              "    }\n",
              "\n",
              "    .colab-df-convert {\n",
              "      background-color: #E8F0FE;\n",
              "      border: none;\n",
              "      border-radius: 50%;\n",
              "      cursor: pointer;\n",
              "      display: none;\n",
              "      fill: #1967D2;\n",
              "      height: 32px;\n",
              "      padding: 0 0 0 0;\n",
              "      width: 32px;\n",
              "    }\n",
              "\n",
              "    .colab-df-convert:hover {\n",
              "      background-color: #E2EBFA;\n",
              "      box-shadow: 0px 1px 2px rgba(60, 64, 67, 0.3), 0px 1px 3px 1px rgba(60, 64, 67, 0.15);\n",
              "      fill: #174EA6;\n",
              "    }\n",
              "\n",
              "    .colab-df-buttons div {\n",
              "      margin-bottom: 4px;\n",
              "    }\n",
              "\n",
              "    [theme=dark] .colab-df-convert {\n",
              "      background-color: #3B4455;\n",
              "      fill: #D2E3FC;\n",
              "    }\n",
              "\n",
              "    [theme=dark] .colab-df-convert:hover {\n",
              "      background-color: #434B5C;\n",
              "      box-shadow: 0px 1px 3px 1px rgba(0, 0, 0, 0.15);\n",
              "      filter: drop-shadow(0px 1px 2px rgba(0, 0, 0, 0.3));\n",
              "      fill: #FFFFFF;\n",
              "    }\n",
              "  </style>\n",
              "\n",
              "    <script>\n",
              "      const buttonEl =\n",
              "        document.querySelector('#df-e896130f-8bb2-4ca1-b9e6-2b69316e4a07 button.colab-df-convert');\n",
              "      buttonEl.style.display =\n",
              "        google.colab.kernel.accessAllowed ? 'block' : 'none';\n",
              "\n",
              "      async function convertToInteractive(key) {\n",
              "        const element = document.querySelector('#df-e896130f-8bb2-4ca1-b9e6-2b69316e4a07');\n",
              "        const dataTable =\n",
              "          await google.colab.kernel.invokeFunction('convertToInteractive',\n",
              "                                                    [key], {});\n",
              "        if (!dataTable) return;\n",
              "\n",
              "        const docLinkHtml = 'Like what you see? Visit the ' +\n",
              "          '<a target=\"_blank\" href=https://colab.research.google.com/notebooks/data_table.ipynb>data table notebook</a>'\n",
              "          + ' to learn more about interactive tables.';\n",
              "        element.innerHTML = '';\n",
              "        dataTable['output_type'] = 'display_data';\n",
              "        await google.colab.output.renderOutput(dataTable, element);\n",
              "        const docLink = document.createElement('div');\n",
              "        docLink.innerHTML = docLinkHtml;\n",
              "        element.appendChild(docLink);\n",
              "      }\n",
              "    </script>\n",
              "  </div>\n",
              "\n",
              "\n",
              "<div id=\"df-e93628b4-8183-4ac7-aedd-e3e2d46d34c1\">\n",
              "  <button class=\"colab-df-quickchart\" onclick=\"quickchart('df-e93628b4-8183-4ac7-aedd-e3e2d46d34c1')\"\n",
              "            title=\"Suggest charts\"\n",
              "            style=\"display:none;\">\n",
              "\n",
              "<svg xmlns=\"http://www.w3.org/2000/svg\" height=\"24px\"viewBox=\"0 0 24 24\"\n",
              "     width=\"24px\">\n",
              "    <g>\n",
              "        <path d=\"M19 3H5c-1.1 0-2 .9-2 2v14c0 1.1.9 2 2 2h14c1.1 0 2-.9 2-2V5c0-1.1-.9-2-2-2zM9 17H7v-7h2v7zm4 0h-2V7h2v10zm4 0h-2v-4h2v4z\"/>\n",
              "    </g>\n",
              "</svg>\n",
              "  </button>\n",
              "\n",
              "<style>\n",
              "  .colab-df-quickchart {\n",
              "      --bg-color: #E8F0FE;\n",
              "      --fill-color: #1967D2;\n",
              "      --hover-bg-color: #E2EBFA;\n",
              "      --hover-fill-color: #174EA6;\n",
              "      --disabled-fill-color: #AAA;\n",
              "      --disabled-bg-color: #DDD;\n",
              "  }\n",
              "\n",
              "  [theme=dark] .colab-df-quickchart {\n",
              "      --bg-color: #3B4455;\n",
              "      --fill-color: #D2E3FC;\n",
              "      --hover-bg-color: #434B5C;\n",
              "      --hover-fill-color: #FFFFFF;\n",
              "      --disabled-bg-color: #3B4455;\n",
              "      --disabled-fill-color: #666;\n",
              "  }\n",
              "\n",
              "  .colab-df-quickchart {\n",
              "    background-color: var(--bg-color);\n",
              "    border: none;\n",
              "    border-radius: 50%;\n",
              "    cursor: pointer;\n",
              "    display: none;\n",
              "    fill: var(--fill-color);\n",
              "    height: 32px;\n",
              "    padding: 0;\n",
              "    width: 32px;\n",
              "  }\n",
              "\n",
              "  .colab-df-quickchart:hover {\n",
              "    background-color: var(--hover-bg-color);\n",
              "    box-shadow: 0 1px 2px rgba(60, 64, 67, 0.3), 0 1px 3px 1px rgba(60, 64, 67, 0.15);\n",
              "    fill: var(--button-hover-fill-color);\n",
              "  }\n",
              "\n",
              "  .colab-df-quickchart-complete:disabled,\n",
              "  .colab-df-quickchart-complete:disabled:hover {\n",
              "    background-color: var(--disabled-bg-color);\n",
              "    fill: var(--disabled-fill-color);\n",
              "    box-shadow: none;\n",
              "  }\n",
              "\n",
              "  .colab-df-spinner {\n",
              "    border: 2px solid var(--fill-color);\n",
              "    border-color: transparent;\n",
              "    border-bottom-color: var(--fill-color);\n",
              "    animation:\n",
              "      spin 1s steps(1) infinite;\n",
              "  }\n",
              "\n",
              "  @keyframes spin {\n",
              "    0% {\n",
              "      border-color: transparent;\n",
              "      border-bottom-color: var(--fill-color);\n",
              "      border-left-color: var(--fill-color);\n",
              "    }\n",
              "    20% {\n",
              "      border-color: transparent;\n",
              "      border-left-color: var(--fill-color);\n",
              "      border-top-color: var(--fill-color);\n",
              "    }\n",
              "    30% {\n",
              "      border-color: transparent;\n",
              "      border-left-color: var(--fill-color);\n",
              "      border-top-color: var(--fill-color);\n",
              "      border-right-color: var(--fill-color);\n",
              "    }\n",
              "    40% {\n",
              "      border-color: transparent;\n",
              "      border-right-color: var(--fill-color);\n",
              "      border-top-color: var(--fill-color);\n",
              "    }\n",
              "    60% {\n",
              "      border-color: transparent;\n",
              "      border-right-color: var(--fill-color);\n",
              "    }\n",
              "    80% {\n",
              "      border-color: transparent;\n",
              "      border-right-color: var(--fill-color);\n",
              "      border-bottom-color: var(--fill-color);\n",
              "    }\n",
              "    90% {\n",
              "      border-color: transparent;\n",
              "      border-bottom-color: var(--fill-color);\n",
              "    }\n",
              "  }\n",
              "</style>\n",
              "\n",
              "  <script>\n",
              "    async function quickchart(key) {\n",
              "      const quickchartButtonEl =\n",
              "        document.querySelector('#' + key + ' button');\n",
              "      quickchartButtonEl.disabled = true;  // To prevent multiple clicks.\n",
              "      quickchartButtonEl.classList.add('colab-df-spinner');\n",
              "      try {\n",
              "        const charts = await google.colab.kernel.invokeFunction(\n",
              "            'suggestCharts', [key], {});\n",
              "      } catch (error) {\n",
              "        console.error('Error during call to suggestCharts:', error);\n",
              "      }\n",
              "      quickchartButtonEl.classList.remove('colab-df-spinner');\n",
              "      quickchartButtonEl.classList.add('colab-df-quickchart-complete');\n",
              "    }\n",
              "    (() => {\n",
              "      let quickchartButtonEl =\n",
              "        document.querySelector('#df-e93628b4-8183-4ac7-aedd-e3e2d46d34c1 button');\n",
              "      quickchartButtonEl.style.display =\n",
              "        google.colab.kernel.accessAllowed ? 'block' : 'none';\n",
              "    })();\n",
              "  </script>\n",
              "</div>\n",
              "    </div>\n",
              "  </div>\n"
            ],
            "application/vnd.google.colaboratory.intrinsic+json": {
              "type": "dataframe",
              "variable_name": "pred",
              "summary": "{\n  \"name\": \"pred\",\n  \"rows\": 12,\n  \"fields\": [\n    {\n      \"column\": \"Fecha\",\n      \"properties\": {\n        \"dtype\": \"date\",\n        \"min\": \"2019-01-01 00:00:00\",\n        \"max\": \"2019-12-01 00:00:00\",\n        \"num_unique_values\": 12,\n        \"samples\": [\n          \"2019-11-01 00:00:00\",\n          \"2019-10-01 00:00:00\",\n          \"2019-01-01 00:00:00\"\n        ],\n        \"semantic_type\": \"\",\n        \"description\": \"\"\n      }\n    },\n    {\n      \"column\": \"Compraventa_Unitario\",\n      \"properties\": {\n        \"dtype\": \"number\",\n        \"std\": 154.26371699186748,\n        \"min\": 5242.969947025,\n        \"max\": 5653.469765361268,\n        \"num_unique_values\": 12,\n        \"samples\": [\n          5635.707871640236,\n          5616.557711499882,\n          5261.51684399867\n        ],\n        \"semantic_type\": \"\",\n        \"description\": \"\"\n      }\n    },\n    {\n      \"column\": \"A\\u00f1osEspVida\",\n      \"properties\": {\n        \"dtype\": \"number\",\n        \"std\": 0.012829921259962187,\n        \"min\": 84.6447971032934,\n        \"max\": 84.68213662905755,\n        \"num_unique_values\": 12,\n        \"samples\": [\n          84.675825584354,\n          84.66877301543006,\n          84.64714497795168\n        ],\n        \"semantic_type\": \"\",\n        \"description\": \"\"\n      }\n    }\n  ]\n}"
            }
          },
          "metadata": {},
          "execution_count": 49
        }
      ]
    },
    {
      "cell_type": "code",
      "source": [
        "# Actual vs Forecasted Plots\n",
        "fig, axes = plt.subplots(nrows = int(len(X_train.columns)), ncols = 1, dpi = 100, figsize = (14,10))\n",
        "mi_lista = ['€/m²', 'Años']\n",
        "\n",
        "for i, (col,ax) in enumerate(zip(X_train.columns, axes.flatten())):\n",
        "    output[col].plot(color = '#00FF00', legend = True, ax = ax).autoscale(axis =' x',tight = True)\n",
        "    X_test[col].plot(color = '#F4511E', legend = True, ax = ax)\n",
        "    X_train[col].plot(color = '#3949AB', legend = True, ax = ax)\n",
        "\n",
        "    ax.set_title('Variable: ' + col + ' - Actual vs Forecast')\n",
        "    ax.set_ylabel(mi_lista[i])  # Establecer etiqueta del eje y\n",
        "    ax.xaxis.set_ticks_position('none')\n",
        "    ax.yaxis.set_ticks_position('none')\n",
        "\n",
        "    ax.spines[\"top\"].set_alpha(0)\n",
        "    ax.tick_params(labelsize = 6)\n",
        "\n",
        "plt.tight_layout()\n",
        "plt.savefig('actual_forecast.png')\n",
        "plt.show()"
      ],
      "metadata": {
        "colab": {
          "base_uri": "https://localhost:8080/",
          "height": 1000
        },
        "id": "21T4tXbArzmD",
        "outputId": "f94813f1-9ca0-4f93-ab6f-ddccb894d0aa"
      },
      "execution_count": 50,
      "outputs": [
        {
          "output_type": "display_data",
          "data": {
            "text/plain": [
              "<Figure size 1400x1000 with 2 Axes>"
            ],
            "image/png": "[encoded data removed]"
          },
          "metadata": {}
        }
      ]
    },
    {
      "cell_type": "markdown",
      "source": [
        "#### Evaluando el modelo\n"
      ],
      "metadata": {
        "id": "g7XKm5vYsRXL"
      }
    },
    {
      "cell_type": "code",
      "source": [
        "def timeseries_evaluation_metrics_func(y_true, y_pred):\n",
        "\n",
        "    def mean_absolute_percentage_error(y_true, y_pred):\n",
        "        y_true, y_pred = np.array(y_true), np.array(y_pred)\n",
        "        return np.mean(np.abs((y_true - y_pred) / y_true)) * 100\n",
        "    print('Evaluation metric results:-')\n",
        "    print(f'MSE is : {metrics.mean_squared_error(y_true, y_pred)}')\n",
        "    print(f'MAE is : {metrics.mean_absolute_error(y_true, y_pred)}')\n",
        "    print(f'RMSE is : {np.sqrt(metrics.mean_squared_error(y_true, y_pred))}')\n",
        "    print(f'MAPE is : {mean_absolute_percentage_error(y_true, y_pred)}')\n",
        "    print(f'R2 is : {metrics.r2_score(y_true, y_pred)}',end='\\n\\n')"
      ],
      "metadata": {
        "id": "tZlif6BVyDXn"
      },
      "execution_count": 51,
      "outputs": []
    },
    {
      "cell_type": "code",
      "source": [
        "for i in ['Compraventa_Unitario','AñosEspVida']:\n",
        "    print(f'Evaluation metric for {i}')\n",
        "    timeseries_evaluation_metrics_func(X_test[str(i)] , output[str(i)])"
      ],
      "metadata": {
        "colab": {
          "base_uri": "https://localhost:8080/"
        },
        "id": "1ooDzvgfxqv8",
        "outputId": "a2965000-d717-4adb-86c8-cf49eb84e8b9"
      },
      "execution_count": 52,
      "outputs": [
        {
          "output_type": "stream",
          "name": "stdout",
          "text": [
            "Evaluation metric for Compraventa_Unitario\n",
            "Evaluation metric results:-\n",
            "MSE is : 35627.71587391022\n",
            "MAE is : 174.54522327555014\n",
            "RMSE is : 188.7530552703988\n",
            "MAPE is : 3.235871515106218\n",
            "R2 is : -14.59812670697706\n",
            "\n",
            "Evaluation metric for AñosEspVida\n",
            "Evaluation metric results:-\n",
            "MSE is : 0.0636282229004918\n",
            "MAE is : 0.25194708424769746\n",
            "RMSE is : 0.2522463535920625\n",
            "MAPE is : 0.296699215993363\n",
            "R2 is : -3.15071699028375e+26\n",
            "\n"
          ]
        }
      ]
    },
    {
      "cell_type": "markdown",
      "source": [
        "Los resultados de las métricas de evaluación para Compraventa_Unitario indican un desempeño deficiente del modelo. Con un MSE de 35627.72, MAE de 174.55, RMSE de 188.75 y un R2 negativo de -14.60, se evidencia que las predicciones son poco precisas y el modelo no explica bien la variabilidad de los datos.\n",
        "\n",
        "Para AñosEspVida, aunque el MSE y MAE son bajos (0.0636 y 0.2519 respectivamente), el R2 es extremadamente negativo (-3.15e+26), lo cual sugiere una mala capacidad del modelo para explicar los datos y posiblemente problemas graves en el ajuste del modelo. En resumen, ambos modelos necesitan mejoras significativas para ser útiles."
      ],
      "metadata": {
        "id": "Gw6OA4qUO-eU"
      }
    },
    {
      "cell_type": "code",
      "source": [
        "from sklearn.metrics import mean_absolute_error, mean_squared_error\n",
        "print('Mean absolute error:', mean_absolute_error(X_test, output))\n",
        "print('Root mean squared error:', np.sqrt(mean_squared_error(X_test, output)))"
      ],
      "metadata": {
        "colab": {
          "base_uri": "https://localhost:8080/"
        },
        "id": "jJEaSX0EsQLR",
        "outputId": "f136edb7-63a9-42f6-8d8b-1945c5946967"
      },
      "execution_count": 53,
      "outputs": [
        {
          "output_type": "stream",
          "name": "stdout",
          "text": [
            "Mean absolute error: 87.39858517989892\n",
            "Root mean squared error: 133.46868453336373\n"
          ]
        }
      ]
    },
    {
      "cell_type": "markdown",
      "source": [
        "### Modelo VARMA (Auto Arima)"
      ],
      "metadata": {
        "id": "YlcNq7Vxjgdp"
      }
    },
    {
      "cell_type": "markdown",
      "source": [
        "El modelo VARMA (Vector Autoregressive Moving Average) es una técnica estadística utilizada en análisis de series temporales que combina los modelos VAR (Vector Autoregressive) y MA (Moving Average). Es especialmente útil cuando se trata de series temporales múltiples, permitiendo modelar la interdependencia entre varias series a lo largo del tiempo junto con términos de error autocorrelacionados.\n"
      ],
      "metadata": {
        "id": "eDHgPQ8HXXL3"
      }
    },
    {
      "cell_type": "code",
      "source": [
        "!pip install pmdarima"
      ],
      "metadata": {
        "colab": {
          "base_uri": "https://localhost:8080/"
        },
        "id": "uEX49EBAkjO0",
        "outputId": "e835efba-4f50-4987-92e8-f731ed86651e"
      },
      "execution_count": 54,
      "outputs": [
        {
          "output_type": "stream",
          "name": "stdout",
          "text": [
            "Collecting pmdarima\n",
            "  Downloading pmdarima-2.0.4-cp310-cp310-manylinux_2_17_x86_64.manylinux2014_x86_64.manylinux_2_28_x86_64.whl (2.1 MB)\n",
            "\u001b[2K     \u001b[90m━━━━━━━━━━━━━━━━━━━━━━━━━━━━━━━━━━━━━━━━\u001b[0m \u001b[32m2.1/2.1 MB\u001b[0m \u001b[31m8.0 MB/s\u001b[0m eta \u001b[36m0:00:00\u001b[0m\n",
            "\u001b[?25hRequirement already satisfied: joblib>=0.11 in /usr/local/lib/python3.10/dist-packages (from pmdarima) (1.4.2)\n",
            "Requirement already satisfied: Cython!=0.29.18,!=0.29.31,>=0.29 in /usr/local/lib/python3.10/dist-packages (from pmdarima) (3.0.10)\n",
            "Requirement already satisfied: numpy>=1.21.2 in /usr/local/lib/python3.10/dist-packages (from pmdarima) (1.25.2)\n",
            "Requirement already satisfied: pandas>=0.19 in /usr/local/lib/python3.10/dist-packages (from pmdarima) (2.0.3)\n",
            "Requirement already satisfied: scikit-learn>=0.22 in /usr/local/lib/python3.10/dist-packages (from pmdarima) (1.2.2)\n",
            "Requirement already satisfied: scipy>=1.3.2 in /usr/local/lib/python3.10/dist-packages (from pmdarima) (1.11.4)\n",
            "Requirement already satisfied: statsmodels>=0.13.2 in /usr/local/lib/python3.10/dist-packages (from pmdarima) (0.14.2)\n",
            "Requirement already satisfied: urllib3 in /usr/local/lib/python3.10/dist-packages (from pmdarima) (2.0.7)\n",
            "Requirement already satisfied: setuptools!=50.0.0,>=38.6.0 in /usr/local/lib/python3.10/dist-packages (from pmdarima) (67.7.2)\n",
            "Requirement already satisfied: packaging>=17.1 in /usr/local/lib/python3.10/dist-packages (from pmdarima) (24.0)\n",
            "Requirement already satisfied: python-dateutil>=2.8.2 in /usr/local/lib/python3.10/dist-packages (from pandas>=0.19->pmdarima) (2.8.2)\n",
            "Requirement already satisfied: pytz>=2020.1 in /usr/local/lib/python3.10/dist-packages (from pandas>=0.19->pmdarima) (2023.4)\n",
            "Requirement already satisfied: tzdata>=2022.1 in /usr/local/lib/python3.10/dist-packages (from pandas>=0.19->pmdarima) (2024.1)\n",
            "Requirement already satisfied: threadpoolctl>=2.0.0 in /usr/local/lib/python3.10/dist-packages (from scikit-learn>=0.22->pmdarima) (3.5.0)\n",
            "Requirement already satisfied: patsy>=0.5.6 in /usr/local/lib/python3.10/dist-packages (from statsmodels>=0.13.2->pmdarima) (0.5.6)\n",
            "Requirement already satisfied: six in /usr/local/lib/python3.10/dist-packages (from patsy>=0.5.6->statsmodels>=0.13.2->pmdarima) (1.16.0)\n",
            "Installing collected packages: pmdarima\n",
            "Successfully installed pmdarima-2.0.4\n"
          ]
        }
      ]
    },
    {
      "cell_type": "markdown",
      "source": [
        "#### Ajustando el modelo"
      ],
      "metadata": {
        "id": "HTxVjAs4Sv4A"
      }
    },
    {
      "cell_type": "markdown",
      "source": [
        "#####Auto Arima"
      ],
      "metadata": {
        "id": "E0a5wSe3tGaG"
      }
    },
    {
      "cell_type": "markdown",
      "source": [
        "Aplicaremos autoarima, para determinar los valores de p, q y d"
      ],
      "metadata": {
        "id": "gyKuUdCETgCb"
      }
    },
    {
      "cell_type": "code",
      "source": [
        "import pmdarima as pm"
      ],
      "metadata": {
        "id": "6Nq7wePOkpAw"
      },
      "execution_count": 55,
      "outputs": []
    },
    {
      "cell_type": "code",
      "source": [
        "pq = []\n",
        "for name in ['Compraventa_Unitario', 'AñosEspVida']:\n",
        "    print(f'Searching order of p and q for : {name}')\n",
        "    # Ajusta un modelo ARIMA para cada columna\n",
        "    stepwise_model = pm.auto_arima(X_train_transformed[name],\n",
        "                                start_p=0, start_q=0,\n",
        "                                max_p=4, max_q=4,\n",
        "                                seasonal=False,\n",
        "                                trace=True,\n",
        "                                error_action='ignore',\n",
        "                                suppress_warnings=True,\n",
        "                                stepwise=True,\n",
        "                                maxiter=1000)\n",
        "    # Obtiene los parámetros óptimos de p y q del modelo\n",
        "    parameter = stepwise_model.get_params().get('order')\n",
        "    print(f'optimal order for:{name} is: {parameter} \\n\\n')\n",
        "    # Agrega los parámetros óptimos a la lista pq\n",
        "    pq.append(stepwise_model.get_params().get('order'))"
      ],
      "metadata": {
        "colab": {
          "base_uri": "https://localhost:8080/"
        },
        "id": "HR5DfxULokMK",
        "outputId": "2017a3c6-a4d6-46c8-a0b7-6737fb4ef3ea"
      },
      "execution_count": 56,
      "outputs": [
        {
          "output_type": "stream",
          "name": "stdout",
          "text": [
            "Searching order of p and q for : Compraventa_Unitario\n",
            "Performing stepwise search to minimize aic\n",
            " ARIMA(0,0,0)(0,0,0)[0]             : AIC=727.557, Time=0.08 sec\n",
            " ARIMA(1,0,0)(0,0,0)[0]             : AIC=729.557, Time=0.03 sec\n",
            " ARIMA(0,0,1)(0,0,0)[0]             : AIC=729.557, Time=0.06 sec\n",
            " ARIMA(1,0,1)(0,0,0)[0]             : AIC=731.557, Time=0.10 sec\n",
            " ARIMA(0,0,0)(0,0,0)[0] intercept   : AIC=727.517, Time=0.06 sec\n",
            " ARIMA(1,0,0)(0,0,0)[0] intercept   : AIC=729.443, Time=0.05 sec\n",
            " ARIMA(0,0,1)(0,0,0)[0] intercept   : AIC=729.437, Time=0.06 sec\n",
            " ARIMA(1,0,1)(0,0,0)[0] intercept   : AIC=731.437, Time=0.10 sec\n",
            "\n",
            "Best model:  ARIMA(0,0,0)(0,0,0)[0] intercept\n",
            "Total fit time: 0.573 seconds\n",
            "optimal order for:Compraventa_Unitario is: (0, 0, 0) \n",
            "\n",
            "\n",
            "Searching order of p and q for : AñosEspVida\n",
            "Performing stepwise search to minimize aic\n",
            " ARIMA(0,0,0)(0,0,0)[0]             : AIC=-223.314, Time=0.03 sec\n",
            " ARIMA(1,0,0)(0,0,0)[0]             : AIC=-221.314, Time=0.04 sec\n",
            " ARIMA(0,0,1)(0,0,0)[0]             : AIC=-221.314, Time=0.05 sec\n",
            " ARIMA(1,0,1)(0,0,0)[0]             : AIC=-219.314, Time=0.06 sec\n",
            " ARIMA(0,0,0)(0,0,0)[0] intercept   : AIC=-221.936, Time=0.05 sec\n",
            "\n",
            "Best model:  ARIMA(0,0,0)(0,0,0)[0]          \n",
            "Total fit time: 0.246 seconds\n",
            "optimal order for:AñosEspVida is: (0, 0, 0) \n",
            "\n",
            "\n"
          ]
        }
      ]
    },
    {
      "cell_type": "code",
      "source": [
        "pq"
      ],
      "metadata": {
        "colab": {
          "base_uri": "https://localhost:8080/"
        },
        "id": "P3tgzd5hreCa",
        "outputId": "18493779-4fac-4831-c0ec-fec32a2df3a9"
      },
      "execution_count": 57,
      "outputs": [
        {
          "output_type": "execute_result",
          "data": {
            "text/plain": [
              "[(0, 0, 0), (0, 0, 0)]"
            ]
          },
          "metadata": {},
          "execution_count": 57
        }
      ]
    },
    {
      "cell_type": "markdown",
      "source": [
        "- *p=0:* Indica que no hay términos autoregresivos en el modelo. En otras palabras, el modelo VARMAX no incluye dependencia de los valores pasados de las variables en sí mismas.\n",
        "\n",
        "- *q=0:* Indica que no hay términos de medias móviles en el modelo. Esto significa que no hay dependencia de los errores pasados del modelo en sí mismo.\n",
        "\n",
        "En este caso no se puede aplicar el modelo VARMA, ya que el modelo esta considerando unicamente la tendencia lineal y no esta incorporando autocorrelacion en los residuos del modelo.\n"
      ],
      "metadata": {
        "id": "3-gIbodeQtkK"
      }
    },
    {
      "cell_type": "markdown",
      "source": [
        "##Conclusiones"
      ],
      "metadata": {
        "id": "jupEV8ues2bR"
      }
    },
    {
      "cell_type": "markdown",
      "source": [
        "El análisis se centró en predecir eventos futuros relacionados con la compraventa de inmuebles y la esperanza de vida en el distrito de Sarrià-Sant Gervasi en Barcelona, utilizando modelos econométricos de series temporales multivariantes (VAR, VARMA, y VECM).\n",
        "\n",
        "Importación y Preparación de Datos: Se cargaron y filtraron los datos, creando una variable de fecha y agrupándolos para el análisis.\n",
        "\n",
        "Análisis Exploratorio: Se observó una alta correlación (89.5532%) entre la compraventa de unidades y la esperanza de vida.\n",
        "\n",
        "Test de Cointegración: Las series no mostraron evidencia de estar cointegradas.\n",
        "Prueba de Estacionariedad: Las series no eran estacionarias; se aplicó diferenciación hasta obtener series estacionarias.\n",
        "\n",
        "Modelo VAR:\n",
        "Se ajustó el modelo y se seleccionó el orden óptimo.\n",
        "Las pruebas de causalidad de Granger indicaron que ninguna serie causa a la otra.\n",
        "Los residuos del modelo eran ruido blanco, indicativo de un buen ajuste.\n",
        "Evaluación del Modelo VAR:\n",
        "Las métricas de evaluación (MSE, MAE, RMSE, R2) mostraron un mal desempeño.\n",
        "Compraventa_Unitario: R2 de -14.60, indicando poca precisión.\n",
        "AñosEspVida: R2 extremadamente negativo, sugiriendo problemas graves en el ajuste.\n",
        "\n",
        "Modelo VARMA:\n",
        "Auto Arima determinó que los valores óptimos de p y q no incluían autocorrelación, invalidando la aplicación del modelo VARMA.\n",
        "En conclusión, los modelos utilizados mostraron limitaciones en su capacidad predictiva, indicando la necesidad de explorar otros enfoques para mejorar la precisión de las predicciones."
      ],
      "metadata": {
        "id": "tih-GQeKd6yp"
      }
    }
  ],
  "metadata": {
    "colab": {
      "provenance": [],
      "toc_visible": true,
      "mount_file_id": "1RZQuq5zL96ej6lReUx4f-ZJJK_Hl0r37",
      "authorship_tag": "ABX9TyNZXTicJQt2GQQAdKiDcsqh",
      "include_colab_link": true
    },
    "kernelspec": {
      "display_name": "Python 3",
      "name": "python3"
    },
    "language_info": {
      "name": "python"
    }
  },
  "nbformat": 4,
  "nbformat_minor": 0
}