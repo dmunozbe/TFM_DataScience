{
  "cells": [
    {
      "cell_type": "markdown",
      "metadata": {
        "id": "view-in-github",
        "colab_type": "text"
      },
      "source": [
        "<a href=\"https://colab.research.google.com/github/dmunozbe/TFM_DataScience/blob/main/Forecasting/05.%20Sarria-Sant%20Gervasi/Forecasting_(Indicador_22).ipynb\" target=\"_parent\"><img src=\"https://colab.research.google.com/assets/colab-badge.svg\" alt=\"Open In Colab\"/></a>"
      ]
    },
    {
      "cell_type": "markdown",
      "metadata": {
        "id": "0p7EJF28yyC8"
      },
      "source": [
        "# **Forecasting**\n",
        "\n"
      ]
    },
    {
      "cell_type": "markdown",
      "metadata": {
        "id": "ioTGaiCDEb5i"
      },
      "source": [
        "**Forecasting** es el proceso de predecir eventos futuros basados en patrones históricos y datos existentes.\n",
        "\n",
        "El objetivo principal es el de hacer predicciones precisas sobre el futuro utilizando datos pasados y presentes y se utiliza en una amplia variaedad de constextos, como en finanzas, meteorologia, ventas entre otros\n",
        "\n",
        "\n",
        "Se realizaran comprobaciones de cointegracion, estacionariedad, para determinar que modelo aplicar entre los seleccionados:\n",
        "\n",
        "* Modelos VAR (Vector Autoregressive)\n",
        "* Modelos VARMA (Vector Autoregressive Moving Average)\n",
        "* Modelos VARMAx (VARMA con Variables Exógenas)\n",
        "* Modelos VECM (Vector Error Correlation Model)"
      ]
    },
    {
      "cell_type": "markdown",
      "metadata": {
        "id": "AV9FZlYWReGR"
      },
      "source": [
        "##Importar bibliotecas"
      ]
    },
    {
      "cell_type": "code",
      "execution_count": 1,
      "metadata": {
        "id": "nQ5PEOwwytuT"
      },
      "outputs": [],
      "source": [
        "import pandas as pd\n",
        "import numpy as np\n",
        "%matplotlib inline\n",
        "import seaborn as sns\n",
        "import matplotlib.pyplot as plt\n",
        "from matplotlib.pyplot import figure\n",
        "from sklearn import metrics\n",
        "\n",
        "\n",
        "import warnings\n",
        "warnings.filterwarnings(\"ignore\")"
      ]
    },
    {
      "cell_type": "markdown",
      "metadata": {
        "id": "7MJ6Iz9XRYGi"
      },
      "source": [
        "##Carga de datos"
      ]
    },
    {
      "cell_type": "code",
      "execution_count": 2,
      "metadata": {
        "colab": {
          "base_uri": "https://localhost:8080/",
          "height": 243
        },
        "id": "sqL1iuYSLMXK",
        "outputId": "5501e9b1-b7f8-40e6-ec50-d98f35195839"
      },
      "outputs": [
        {
          "output_type": "execute_result",
          "data": {
            "text/plain": [
              "    Any  Trimestre  Mes  Codi_Districte Nom_Districte  Codi_Barri Nom_Barri  \\\n",
              "0  2014          1    1               1  Ciutat Vella           1  el Raval   \n",
              "1  2014          1    2               1  Ciutat Vella           1  el Raval   \n",
              "2  2014          1    3               1  Ciutat Vella           1  el Raval   \n",
              "3  2014          2    4               1  Ciutat Vella           1  el Raval   \n",
              "4  2014          2    5               1  Ciutat Vella           1  el Raval   \n",
              "\n",
              "   Compraventa_Unitario  ParadosReg  Estudios_Obligatorios  ConsumResidencial  \\\n",
              "0                2813.0        4588                    NaN                NaN   \n",
              "1                2813.0        4539                    NaN                NaN   \n",
              "2                2813.0        4572                    NaN                NaN   \n",
              "3                2948.8        4510                    NaN                NaN   \n",
              "4                2948.8        4379                    NaN                NaN   \n",
              "\n",
              "   Pm25  Pm10  Participacion  AñosEspVida  Internet  Movil  Index_Turisme  \\\n",
              "0   NaN   NaN           41.8         80.7       NaN    NaN            NaN   \n",
              "1   NaN   NaN           41.8         80.7       NaN    NaN            NaN   \n",
              "2   NaN   NaN           41.8         80.7       NaN    NaN            NaN   \n",
              "3   NaN   NaN           41.8         80.7       NaN    NaN            NaN   \n",
              "4   NaN   NaN           41.8         80.7       NaN    NaN            NaN   \n",
              "\n",
              "   m² por habitante  \n",
              "0               6.2  \n",
              "1               6.2  \n",
              "2               6.2  \n",
              "3               6.2  \n",
              "4               6.2  "
            ],
            "text/html": [
              "\n",
              "  <div id=\"df-4e2f397d-02e5-46b1-aa5d-ba7b3012715b\" class=\"colab-df-container\">\n",
              "    <div>\n",
              "<style scoped>\n",
              "    .dataframe tbody tr th:only-of-type {\n",
              "        vertical-align: middle;\n",
              "    }\n",
              "\n",
              "    .dataframe tbody tr th {\n",
              "        vertical-align: top;\n",
              "    }\n",
              "\n",
              "    .dataframe thead th {\n",
              "        text-align: right;\n",
              "    }\n",
              "</style>\n",
              "<table border=\"1\" class=\"dataframe\">\n",
              "  <thead>\n",
              "    <tr style=\"text-align: right;\">\n",
              "      <th></th>\n",
              "      <th>Any</th>\n",
              "      <th>Trimestre</th>\n",
              "      <th>Mes</th>\n",
              "      <th>Codi_Districte</th>\n",
              "      <th>Nom_Districte</th>\n",
              "      <th>Codi_Barri</th>\n",
              "      <th>Nom_Barri</th>\n",
              "      <th>Compraventa_Unitario</th>\n",
              "      <th>ParadosReg</th>\n",
              "      <th>Estudios_Obligatorios</th>\n",
              "      <th>ConsumResidencial</th>\n",
              "      <th>Pm25</th>\n",
              "      <th>Pm10</th>\n",
              "      <th>Participacion</th>\n",
              "      <th>AñosEspVida</th>\n",
              "      <th>Internet</th>\n",
              "      <th>Movil</th>\n",
              "      <th>Index_Turisme</th>\n",
              "      <th>m² por habitante</th>\n",
              "    </tr>\n",
              "  </thead>\n",
              "  <tbody>\n",
              "    <tr>\n",
              "      <th>0</th>\n",
              "      <td>2014</td>\n",
              "      <td>1</td>\n",
              "      <td>1</td>\n",
              "      <td>1</td>\n",
              "      <td>Ciutat Vella</td>\n",
              "      <td>1</td>\n",
              "      <td>el Raval</td>\n",
              "      <td>2813.0</td>\n",
              "      <td>4588</td>\n",
              "      <td>NaN</td>\n",
              "      <td>NaN</td>\n",
              "      <td>NaN</td>\n",
              "      <td>NaN</td>\n",
              "      <td>41.8</td>\n",
              "      <td>80.7</td>\n",
              "      <td>NaN</td>\n",
              "      <td>NaN</td>\n",
              "      <td>NaN</td>\n",
              "      <td>6.2</td>\n",
              "    </tr>\n",
              "    <tr>\n",
              "      <th>1</th>\n",
              "      <td>2014</td>\n",
              "      <td>1</td>\n",
              "      <td>2</td>\n",
              "      <td>1</td>\n",
              "      <td>Ciutat Vella</td>\n",
              "      <td>1</td>\n",
              "      <td>el Raval</td>\n",
              "      <td>2813.0</td>\n",
              "      <td>4539</td>\n",
              "      <td>NaN</td>\n",
              "      <td>NaN</td>\n",
              "      <td>NaN</td>\n",
              "      <td>NaN</td>\n",
              "      <td>41.8</td>\n",
              "      <td>80.7</td>\n",
              "      <td>NaN</td>\n",
              "      <td>NaN</td>\n",
              "      <td>NaN</td>\n",
              "      <td>6.2</td>\n",
              "    </tr>\n",
              "    <tr>\n",
              "      <th>2</th>\n",
              "      <td>2014</td>\n",
              "      <td>1</td>\n",
              "      <td>3</td>\n",
              "      <td>1</td>\n",
              "      <td>Ciutat Vella</td>\n",
              "      <td>1</td>\n",
              "      <td>el Raval</td>\n",
              "      <td>2813.0</td>\n",
              "      <td>4572</td>\n",
              "      <td>NaN</td>\n",
              "      <td>NaN</td>\n",
              "      <td>NaN</td>\n",
              "      <td>NaN</td>\n",
              "      <td>41.8</td>\n",
              "      <td>80.7</td>\n",
              "      <td>NaN</td>\n",
              "      <td>NaN</td>\n",
              "      <td>NaN</td>\n",
              "      <td>6.2</td>\n",
              "    </tr>\n",
              "    <tr>\n",
              "      <th>3</th>\n",
              "      <td>2014</td>\n",
              "      <td>2</td>\n",
              "      <td>4</td>\n",
              "      <td>1</td>\n",
              "      <td>Ciutat Vella</td>\n",
              "      <td>1</td>\n",
              "      <td>el Raval</td>\n",
              "      <td>2948.8</td>\n",
              "      <td>4510</td>\n",
              "      <td>NaN</td>\n",
              "      <td>NaN</td>\n",
              "      <td>NaN</td>\n",
              "      <td>NaN</td>\n",
              "      <td>41.8</td>\n",
              "      <td>80.7</td>\n",
              "      <td>NaN</td>\n",
              "      <td>NaN</td>\n",
              "      <td>NaN</td>\n",
              "      <td>6.2</td>\n",
              "    </tr>\n",
              "    <tr>\n",
              "      <th>4</th>\n",
              "      <td>2014</td>\n",
              "      <td>2</td>\n",
              "      <td>5</td>\n",
              "      <td>1</td>\n",
              "      <td>Ciutat Vella</td>\n",
              "      <td>1</td>\n",
              "      <td>el Raval</td>\n",
              "      <td>2948.8</td>\n",
              "      <td>4379</td>\n",
              "      <td>NaN</td>\n",
              "      <td>NaN</td>\n",
              "      <td>NaN</td>\n",
              "      <td>NaN</td>\n",
              "      <td>41.8</td>\n",
              "      <td>80.7</td>\n",
              "      <td>NaN</td>\n",
              "      <td>NaN</td>\n",
              "      <td>NaN</td>\n",
              "      <td>6.2</td>\n",
              "    </tr>\n",
              "  </tbody>\n",
              "</table>\n",
              "</div>\n",
              "    <div class=\"colab-df-buttons\">\n",
              "\n",
              "  <div class=\"colab-df-container\">\n",
              "    <button class=\"colab-df-convert\" onclick=\"convertToInteractive('df-4e2f397d-02e5-46b1-aa5d-ba7b3012715b')\"\n",
              "            title=\"Convert this dataframe to an interactive table.\"\n",
              "            style=\"display:none;\">\n",
              "\n",
              "  <svg xmlns=\"http://www.w3.org/2000/svg\" height=\"24px\" viewBox=\"0 -960 960 960\">\n",
              "    <path d=\"M120-120v-720h720v720H120Zm60-500h600v-160H180v160Zm220 220h160v-160H400v160Zm0 220h160v-160H400v160ZM180-400h160v-160H180v160Zm440 0h160v-160H620v160ZM180-180h160v-160H180v160Zm440 0h160v-160H620v160Z\"/>\n",
              "  </svg>\n",
              "    </button>\n",
              "\n",
              "  <style>\n",
              "    .colab-df-container {\n",
              "      display:flex;\n",
              "      gap: 12px;\n",
              "    }\n",
              "\n",
              "    .colab-df-convert {\n",
              "      background-color: #E8F0FE;\n",
              "      border: none;\n",
              "      border-radius: 50%;\n",
              "      cursor: pointer;\n",
              "      display: none;\n",
              "      fill: #1967D2;\n",
              "      height: 32px;\n",
              "      padding: 0 0 0 0;\n",
              "      width: 32px;\n",
              "    }\n",
              "\n",
              "    .colab-df-convert:hover {\n",
              "      background-color: #E2EBFA;\n",
              "      box-shadow: 0px 1px 2px rgba(60, 64, 67, 0.3), 0px 1px 3px 1px rgba(60, 64, 67, 0.15);\n",
              "      fill: #174EA6;\n",
              "    }\n",
              "\n",
              "    .colab-df-buttons div {\n",
              "      margin-bottom: 4px;\n",
              "    }\n",
              "\n",
              "    [theme=dark] .colab-df-convert {\n",
              "      background-color: #3B4455;\n",
              "      fill: #D2E3FC;\n",
              "    }\n",
              "\n",
              "    [theme=dark] .colab-df-convert:hover {\n",
              "      background-color: #434B5C;\n",
              "      box-shadow: 0px 1px 3px 1px rgba(0, 0, 0, 0.15);\n",
              "      filter: drop-shadow(0px 1px 2px rgba(0, 0, 0, 0.3));\n",
              "      fill: #FFFFFF;\n",
              "    }\n",
              "  </style>\n",
              "\n",
              "    <script>\n",
              "      const buttonEl =\n",
              "        document.querySelector('#df-4e2f397d-02e5-46b1-aa5d-ba7b3012715b button.colab-df-convert');\n",
              "      buttonEl.style.display =\n",
              "        google.colab.kernel.accessAllowed ? 'block' : 'none';\n",
              "\n",
              "      async function convertToInteractive(key) {\n",
              "        const element = document.querySelector('#df-4e2f397d-02e5-46b1-aa5d-ba7b3012715b');\n",
              "        const dataTable =\n",
              "          await google.colab.kernel.invokeFunction('convertToInteractive',\n",
              "                                                    [key], {});\n",
              "        if (!dataTable) return;\n",
              "\n",
              "        const docLinkHtml = 'Like what you see? Visit the ' +\n",
              "          '<a target=\"_blank\" href=https://colab.research.google.com/notebooks/data_table.ipynb>data table notebook</a>'\n",
              "          + ' to learn more about interactive tables.';\n",
              "        element.innerHTML = '';\n",
              "        dataTable['output_type'] = 'display_data';\n",
              "        await google.colab.output.renderOutput(dataTable, element);\n",
              "        const docLink = document.createElement('div');\n",
              "        docLink.innerHTML = docLinkHtml;\n",
              "        element.appendChild(docLink);\n",
              "      }\n",
              "    </script>\n",
              "  </div>\n",
              "\n",
              "\n",
              "<div id=\"df-16373d10-346a-4dd5-8609-07af578af0e8\">\n",
              "  <button class=\"colab-df-quickchart\" onclick=\"quickchart('df-16373d10-346a-4dd5-8609-07af578af0e8')\"\n",
              "            title=\"Suggest charts\"\n",
              "            style=\"display:none;\">\n",
              "\n",
              "<svg xmlns=\"http://www.w3.org/2000/svg\" height=\"24px\"viewBox=\"0 0 24 24\"\n",
              "     width=\"24px\">\n",
              "    <g>\n",
              "        <path d=\"M19 3H5c-1.1 0-2 .9-2 2v14c0 1.1.9 2 2 2h14c1.1 0 2-.9 2-2V5c0-1.1-.9-2-2-2zM9 17H7v-7h2v7zm4 0h-2V7h2v10zm4 0h-2v-4h2v4z\"/>\n",
              "    </g>\n",
              "</svg>\n",
              "  </button>\n",
              "\n",
              "<style>\n",
              "  .colab-df-quickchart {\n",
              "      --bg-color: #E8F0FE;\n",
              "      --fill-color: #1967D2;\n",
              "      --hover-bg-color: #E2EBFA;\n",
              "      --hover-fill-color: #174EA6;\n",
              "      --disabled-fill-color: #AAA;\n",
              "      --disabled-bg-color: #DDD;\n",
              "  }\n",
              "\n",
              "  [theme=dark] .colab-df-quickchart {\n",
              "      --bg-color: #3B4455;\n",
              "      --fill-color: #D2E3FC;\n",
              "      --hover-bg-color: #434B5C;\n",
              "      --hover-fill-color: #FFFFFF;\n",
              "      --disabled-bg-color: #3B4455;\n",
              "      --disabled-fill-color: #666;\n",
              "  }\n",
              "\n",
              "  .colab-df-quickchart {\n",
              "    background-color: var(--bg-color);\n",
              "    border: none;\n",
              "    border-radius: 50%;\n",
              "    cursor: pointer;\n",
              "    display: none;\n",
              "    fill: var(--fill-color);\n",
              "    height: 32px;\n",
              "    padding: 0;\n",
              "    width: 32px;\n",
              "  }\n",
              "\n",
              "  .colab-df-quickchart:hover {\n",
              "    background-color: var(--hover-bg-color);\n",
              "    box-shadow: 0 1px 2px rgba(60, 64, 67, 0.3), 0 1px 3px 1px rgba(60, 64, 67, 0.15);\n",
              "    fill: var(--button-hover-fill-color);\n",
              "  }\n",
              "\n",
              "  .colab-df-quickchart-complete:disabled,\n",
              "  .colab-df-quickchart-complete:disabled:hover {\n",
              "    background-color: var(--disabled-bg-color);\n",
              "    fill: var(--disabled-fill-color);\n",
              "    box-shadow: none;\n",
              "  }\n",
              "\n",
              "  .colab-df-spinner {\n",
              "    border: 2px solid var(--fill-color);\n",
              "    border-color: transparent;\n",
              "    border-bottom-color: var(--fill-color);\n",
              "    animation:\n",
              "      spin 1s steps(1) infinite;\n",
              "  }\n",
              "\n",
              "  @keyframes spin {\n",
              "    0% {\n",
              "      border-color: transparent;\n",
              "      border-bottom-color: var(--fill-color);\n",
              "      border-left-color: var(--fill-color);\n",
              "    }\n",
              "    20% {\n",
              "      border-color: transparent;\n",
              "      border-left-color: var(--fill-color);\n",
              "      border-top-color: var(--fill-color);\n",
              "    }\n",
              "    30% {\n",
              "      border-color: transparent;\n",
              "      border-left-color: var(--fill-color);\n",
              "      border-top-color: var(--fill-color);\n",
              "      border-right-color: var(--fill-color);\n",
              "    }\n",
              "    40% {\n",
              "      border-color: transparent;\n",
              "      border-right-color: var(--fill-color);\n",
              "      border-top-color: var(--fill-color);\n",
              "    }\n",
              "    60% {\n",
              "      border-color: transparent;\n",
              "      border-right-color: var(--fill-color);\n",
              "    }\n",
              "    80% {\n",
              "      border-color: transparent;\n",
              "      border-right-color: var(--fill-color);\n",
              "      border-bottom-color: var(--fill-color);\n",
              "    }\n",
              "    90% {\n",
              "      border-color: transparent;\n",
              "      border-bottom-color: var(--fill-color);\n",
              "    }\n",
              "  }\n",
              "</style>\n",
              "\n",
              "  <script>\n",
              "    async function quickchart(key) {\n",
              "      const quickchartButtonEl =\n",
              "        document.querySelector('#' + key + ' button');\n",
              "      quickchartButtonEl.disabled = true;  // To prevent multiple clicks.\n",
              "      quickchartButtonEl.classList.add('colab-df-spinner');\n",
              "      try {\n",
              "        const charts = await google.colab.kernel.invokeFunction(\n",
              "            'suggestCharts', [key], {});\n",
              "      } catch (error) {\n",
              "        console.error('Error during call to suggestCharts:', error);\n",
              "      }\n",
              "      quickchartButtonEl.classList.remove('colab-df-spinner');\n",
              "      quickchartButtonEl.classList.add('colab-df-quickchart-complete');\n",
              "    }\n",
              "    (() => {\n",
              "      let quickchartButtonEl =\n",
              "        document.querySelector('#df-16373d10-346a-4dd5-8609-07af578af0e8 button');\n",
              "      quickchartButtonEl.style.display =\n",
              "        google.colab.kernel.accessAllowed ? 'block' : 'none';\n",
              "    })();\n",
              "  </script>\n",
              "</div>\n",
              "    </div>\n",
              "  </div>\n"
            ],
            "application/vnd.google.colaboratory.intrinsic+json": {
              "type": "dataframe",
              "variable_name": "data",
              "summary": "{\n  \"name\": \"data\",\n  \"rows\": 8541,\n  \"fields\": [\n    {\n      \"column\": \"Any\",\n      \"properties\": {\n        \"dtype\": \"number\",\n        \"std\": 2,\n        \"min\": 2014,\n        \"max\": 2023,\n        \"num_unique_values\": 10,\n        \"samples\": [\n          2022,\n          2015,\n          2019\n        ],\n        \"semantic_type\": \"\",\n        \"description\": \"\"\n      }\n    },\n    {\n      \"column\": \"Trimestre\",\n      \"properties\": {\n        \"dtype\": \"number\",\n        \"std\": 1,\n        \"min\": 1,\n        \"max\": 4,\n        \"num_unique_values\": 4,\n        \"samples\": [\n          2,\n          4,\n          1\n        ],\n        \"semantic_type\": \"\",\n        \"description\": \"\"\n      }\n    },\n    {\n      \"column\": \"Mes\",\n      \"properties\": {\n        \"dtype\": \"number\",\n        \"std\": 3,\n        \"min\": 1,\n        \"max\": 12,\n        \"num_unique_values\": 12,\n        \"samples\": [\n          11,\n          10,\n          1\n        ],\n        \"semantic_type\": \"\",\n        \"description\": \"\"\n      }\n    },\n    {\n      \"column\": \"Codi_Districte\",\n      \"properties\": {\n        \"dtype\": \"number\",\n        \"std\": 2,\n        \"min\": 1,\n        \"max\": 10,\n        \"num_unique_values\": 10,\n        \"samples\": [\n          9,\n          2,\n          6\n        ],\n        \"semantic_type\": \"\",\n        \"description\": \"\"\n      }\n    },\n    {\n      \"column\": \"Nom_Districte\",\n      \"properties\": {\n        \"dtype\": \"category\",\n        \"num_unique_values\": 10,\n        \"samples\": [\n          \"Sant Andreu\",\n          \"Eixample\",\n          \"Gr\\u00e0cia\"\n        ],\n        \"semantic_type\": \"\",\n        \"description\": \"\"\n      }\n    },\n    {\n      \"column\": \"Codi_Barri\",\n      \"properties\": {\n        \"dtype\": \"number\",\n        \"std\": 21,\n        \"min\": 1,\n        \"max\": 73,\n        \"num_unique_values\": 73,\n        \"samples\": [\n          5,\n          64,\n          19\n        ],\n        \"semantic_type\": \"\",\n        \"description\": \"\"\n      }\n    },\n    {\n      \"column\": \"Nom_Barri\",\n      \"properties\": {\n        \"dtype\": \"category\",\n        \"num_unique_values\": 73,\n        \"samples\": [\n          \"el Fort Pienc\",\n          \"el Camp de l'Arpa del Clot\",\n          \"les Corts\"\n        ],\n        \"semantic_type\": \"\",\n        \"description\": \"\"\n      }\n    },\n    {\n      \"column\": \"Compraventa_Unitario\",\n      \"properties\": {\n        \"dtype\": \"number\",\n        \"std\": 1275.0461526307304,\n        \"min\": 217.2,\n        \"max\": 10961.2,\n        \"num_unique_values\": 2170,\n        \"samples\": [\n          4807.2,\n          4193.4,\n          3508.0\n        ],\n        \"semantic_type\": \"\",\n        \"description\": \"\"\n      }\n    },\n    {\n      \"column\": \"ParadosReg\",\n      \"properties\": {\n        \"dtype\": \"number\",\n        \"std\": 748,\n        \"min\": 15,\n        \"max\": 5295,\n        \"num_unique_values\": 2514,\n        \"samples\": [\n          4093,\n          551,\n          1466\n        ],\n        \"semantic_type\": \"\",\n        \"description\": \"\"\n      }\n    },\n    {\n      \"column\": \"Estudios_Obligatorios\",\n      \"properties\": {\n        \"dtype\": \"number\",\n        \"std\": 1.2766390800732295,\n        \"min\": 94.1,\n        \"max\": 99.6,\n        \"num_unique_values\": 37,\n        \"samples\": [\n          98.5,\n          96.0,\n          97.8\n        ],\n        \"semantic_type\": \"\",\n        \"description\": \"\"\n      }\n    },\n    {\n      \"column\": \"ConsumResidencial\",\n      \"properties\": {\n        \"dtype\": \"number\",\n        \"std\": 6641961.276555788,\n        \"min\": 1599307.0,\n        \"max\": 46411373.0,\n        \"num_unique_values\": 3534,\n        \"samples\": [\n          22420192.0,\n          4441625.0,\n          8597173.0\n        ],\n        \"semantic_type\": \"\",\n        \"description\": \"\"\n      }\n    },\n    {\n      \"column\": \"Pm25\",\n      \"properties\": {\n        \"dtype\": \"number\",\n        \"std\": 0.3742695994049139,\n        \"min\": 1.81763826606876,\n        \"max\": 3.4377394636015324,\n        \"num_unique_values\": 50,\n        \"samples\": [\n          2.4966622162883847,\n          2.0293819655521785,\n          2.0183591508892715\n        ],\n        \"semantic_type\": \"\",\n        \"description\": \"\"\n      }\n    },\n    {\n      \"column\": \"Pm10\",\n      \"properties\": {\n        \"dtype\": \"number\",\n        \"std\": 0.23211619238920075,\n        \"min\": 1.379671150971599,\n        \"max\": 2.2308429118773945,\n        \"num_unique_values\": 41,\n        \"samples\": [\n          1.379671150971599,\n          2.0654205607476634,\n          2.020864381520119\n        ],\n        \"semantic_type\": \"\",\n        \"description\": \"\"\n      }\n    },\n    {\n      \"column\": \"Participacion\",\n      \"properties\": {\n        \"dtype\": \"number\",\n        \"std\": 6.123557392018656,\n        \"min\": 41.8,\n        \"max\": 72.5,\n        \"num_unique_values\": 39,\n        \"samples\": [\n          67.8,\n          57.8,\n          61.6\n        ],\n        \"semantic_type\": \"\",\n        \"description\": \"\"\n      }\n    },\n    {\n      \"column\": \"A\\u00f1osEspVida\",\n      \"properties\": {\n        \"dtype\": \"number\",\n        \"std\": 1.7485719359049254,\n        \"min\": 76.4,\n        \"max\": 87.7,\n        \"num_unique_values\": 78,\n        \"samples\": [\n          81.9,\n          80.7,\n          83.2\n        ],\n        \"semantic_type\": \"\",\n        \"description\": \"\"\n      }\n    },\n    {\n      \"column\": \"Internet\",\n      \"properties\": {\n        \"dtype\": \"number\",\n        \"std\": 5.658005470236122,\n        \"min\": 71.5,\n        \"max\": 97.0,\n        \"num_unique_values\": 66,\n        \"samples\": [\n          91.15,\n          97.0,\n          82.8\n        ],\n        \"semantic_type\": \"\",\n        \"description\": \"\"\n      }\n    },\n    {\n      \"column\": \"Movil\",\n      \"properties\": {\n        \"dtype\": \"number\",\n        \"std\": 1.5280518004995411,\n        \"min\": 91.2,\n        \"max\": 99.8,\n        \"num_unique_values\": 30,\n        \"samples\": [\n          98.6,\n          98.8,\n          98.5\n        ],\n        \"semantic_type\": \"\",\n        \"description\": \"\"\n      }\n    },\n    {\n      \"column\": \"Index_Turisme\",\n      \"properties\": {\n        \"dtype\": \"number\",\n        \"std\": 279.99953997435307,\n        \"min\": 120.60571428571428,\n        \"max\": 3241.03,\n        \"num_unique_values\": 219,\n        \"samples\": [\n          295.46500000000003,\n          504.8442857142857,\n          313.5733333333333\n        ],\n        \"semantic_type\": \"\",\n        \"description\": \"\"\n      }\n    },\n    {\n      \"column\": \"m\\u00b2 por habitante\",\n      \"properties\": {\n        \"dtype\": \"number\",\n        \"std\": 4.073146396218761,\n        \"min\": 1.9,\n        \"max\": 18.0,\n        \"num_unique_values\": 36,\n        \"samples\": [\n          8.15,\n          6.4,\n          8.3\n        ],\n        \"semantic_type\": \"\",\n        \"description\": \"\"\n      }\n    }\n  ]\n}"
            }
          },
          "metadata": {},
          "execution_count": 2
        }
      ],
      "source": [
        "# Cargar datos\n",
        "data = pd.read_csv('/content/drive/MyDrive/UOC/TFM/Datasets definitivos/Final.csv')\n",
        "data.head()"
      ]
    },
    {
      "cell_type": "code",
      "source": [
        "print(data.dtypes)"
      ],
      "metadata": {
        "colab": {
          "base_uri": "https://localhost:8080/"
        },
        "id": "eOy5K7SuiIMI",
        "outputId": "61118245-040a-4835-ee66-f24c1246dabb"
      },
      "execution_count": 3,
      "outputs": [
        {
          "output_type": "stream",
          "name": "stdout",
          "text": [
            "Any                        int64\n",
            "Trimestre                  int64\n",
            "Mes                        int64\n",
            "Codi_Districte             int64\n",
            "Nom_Districte             object\n",
            "Codi_Barri                 int64\n",
            "Nom_Barri                 object\n",
            "Compraventa_Unitario     float64\n",
            "ParadosReg                 int64\n",
            "Estudios_Obligatorios    float64\n",
            "ConsumResidencial        float64\n",
            "Pm25                     float64\n",
            "Pm10                     float64\n",
            "Participacion            float64\n",
            "AñosEspVida              float64\n",
            "Internet                 float64\n",
            "Movil                    float64\n",
            "Index_Turisme            float64\n",
            "m² por habitante         float64\n",
            "dtype: object\n"
          ]
        }
      ]
    },
    {
      "cell_type": "markdown",
      "source": [
        "## Analisis por grupo de indicadores (Pm 2.5)"
      ],
      "metadata": {
        "id": "9W-lGuXhz2Sc"
      }
    },
    {
      "cell_type": "markdown",
      "source": [
        "### Preparacion de datos"
      ],
      "metadata": {
        "id": "ABOQVXNI0F0F"
      }
    },
    {
      "cell_type": "code",
      "source": [
        "df_sel = data[['Any','Trimestre','Mes','Codi_Districte','Nom_Districte','Codi_Barri','Nom_Barri','Compraventa_Unitario','Pm25']]"
      ],
      "metadata": {
        "id": "m9UKVzU9i2SY"
      },
      "execution_count": 4,
      "outputs": []
    },
    {
      "cell_type": "code",
      "source": [
        "df_cont = df_sel.dropna()"
      ],
      "metadata": {
        "id": "lGWxPwYE5HPP"
      },
      "execution_count": 5,
      "outputs": []
    },
    {
      "cell_type": "code",
      "source": [
        "df_cont.info()"
      ],
      "metadata": {
        "colab": {
          "base_uri": "https://localhost:8080/"
        },
        "id": "tGxdmjiE5QzX",
        "outputId": "b4ca3342-9114-4f24-9777-692904203d41"
      },
      "execution_count": 6,
      "outputs": [
        {
          "output_type": "stream",
          "name": "stdout",
          "text": [
            "<class 'pandas.core.frame.DataFrame'>\n",
            "Index: 4380 entries, 3504 to 7883\n",
            "Data columns (total 9 columns):\n",
            " #   Column                Non-Null Count  Dtype  \n",
            "---  ------                --------------  -----  \n",
            " 0   Any                   4380 non-null   int64  \n",
            " 1   Trimestre             4380 non-null   int64  \n",
            " 2   Mes                   4380 non-null   int64  \n",
            " 3   Codi_Districte        4380 non-null   int64  \n",
            " 4   Nom_Districte         4380 non-null   object \n",
            " 5   Codi_Barri            4380 non-null   int64  \n",
            " 6   Nom_Barri             4380 non-null   object \n",
            " 7   Compraventa_Unitario  4380 non-null   float64\n",
            " 8   Pm25                  4380 non-null   float64\n",
            "dtypes: float64(2), int64(5), object(2)\n",
            "memory usage: 342.2+ KB\n"
          ]
        }
      ]
    },
    {
      "cell_type": "code",
      "source": [
        "# Creamos la variable de fecha de la siguiente manera:\n",
        "# Agregar un día fijo para cada mes, por ejemplo, el día 1\n",
        "df_cont['Fecha'] = pd.to_datetime(df_cont['Any'].astype(str) + '-' + df_cont['Mes'].astype(str) + '-1')"
      ],
      "metadata": {
        "id": "EcbK5L-5iX6z"
      },
      "execution_count": 7,
      "outputs": []
    },
    {
      "cell_type": "code",
      "source": [
        "# Modificamos el indice del dataset por la fecha\n",
        "df_contI = df_cont.set_index('Fecha')"
      ],
      "metadata": {
        "id": "bXI9WXEqvfwN"
      },
      "execution_count": 8,
      "outputs": []
    },
    {
      "cell_type": "code",
      "source": [
        "df_contI.head()"
      ],
      "metadata": {
        "colab": {
          "base_uri": "https://localhost:8080/",
          "height": 237
        },
        "id": "B5r0mDv6r1gC",
        "outputId": "3caaeca4-eec4-499f-bcb2-95393aae10bb"
      },
      "execution_count": 9,
      "outputs": [
        {
          "output_type": "execute_result",
          "data": {
            "text/plain": [
              "             Any  Trimestre  Mes  Codi_Districte Nom_Districte  Codi_Barri  \\\n",
              "Fecha                                                                        \n",
              "2018-01-01  2018          1    1               1  Ciutat Vella           1   \n",
              "2018-02-01  2018          1    2               1  Ciutat Vella           1   \n",
              "2018-03-01  2018          1    3               1  Ciutat Vella           1   \n",
              "2018-04-01  2018          2    4               1  Ciutat Vella           1   \n",
              "2018-05-01  2018          2    5               1  Ciutat Vella           1   \n",
              "\n",
              "           Nom_Barri  Compraventa_Unitario      Pm25  \n",
              "Fecha                                                 \n",
              "2018-01-01  el Raval                3534.3  2.282272  \n",
              "2018-02-01  el Raval                3534.3  2.282272  \n",
              "2018-03-01  el Raval                3534.3  2.282272  \n",
              "2018-04-01  el Raval                4675.2  2.282272  \n",
              "2018-05-01  el Raval                4675.2  2.282272  "
            ],
            "text/html": [
              "\n",
              "  <div id=\"df-92d8a6a4-453f-4bbd-bc28-b8bc1651901f\" class=\"colab-df-container\">\n",
              "    <div>\n",
              "<style scoped>\n",
              "    .dataframe tbody tr th:only-of-type {\n",
              "        vertical-align: middle;\n",
              "    }\n",
              "\n",
              "    .dataframe tbody tr th {\n",
              "        vertical-align: top;\n",
              "    }\n",
              "\n",
              "    .dataframe thead th {\n",
              "        text-align: right;\n",
              "    }\n",
              "</style>\n",
              "<table border=\"1\" class=\"dataframe\">\n",
              "  <thead>\n",
              "    <tr style=\"text-align: right;\">\n",
              "      <th></th>\n",
              "      <th>Any</th>\n",
              "      <th>Trimestre</th>\n",
              "      <th>Mes</th>\n",
              "      <th>Codi_Districte</th>\n",
              "      <th>Nom_Districte</th>\n",
              "      <th>Codi_Barri</th>\n",
              "      <th>Nom_Barri</th>\n",
              "      <th>Compraventa_Unitario</th>\n",
              "      <th>Pm25</th>\n",
              "    </tr>\n",
              "    <tr>\n",
              "      <th>Fecha</th>\n",
              "      <th></th>\n",
              "      <th></th>\n",
              "      <th></th>\n",
              "      <th></th>\n",
              "      <th></th>\n",
              "      <th></th>\n",
              "      <th></th>\n",
              "      <th></th>\n",
              "      <th></th>\n",
              "    </tr>\n",
              "  </thead>\n",
              "  <tbody>\n",
              "    <tr>\n",
              "      <th>2018-01-01</th>\n",
              "      <td>2018</td>\n",
              "      <td>1</td>\n",
              "      <td>1</td>\n",
              "      <td>1</td>\n",
              "      <td>Ciutat Vella</td>\n",
              "      <td>1</td>\n",
              "      <td>el Raval</td>\n",
              "      <td>3534.3</td>\n",
              "      <td>2.282272</td>\n",
              "    </tr>\n",
              "    <tr>\n",
              "      <th>2018-02-01</th>\n",
              "      <td>2018</td>\n",
              "      <td>1</td>\n",
              "      <td>2</td>\n",
              "      <td>1</td>\n",
              "      <td>Ciutat Vella</td>\n",
              "      <td>1</td>\n",
              "      <td>el Raval</td>\n",
              "      <td>3534.3</td>\n",
              "      <td>2.282272</td>\n",
              "    </tr>\n",
              "    <tr>\n",
              "      <th>2018-03-01</th>\n",
              "      <td>2018</td>\n",
              "      <td>1</td>\n",
              "      <td>3</td>\n",
              "      <td>1</td>\n",
              "      <td>Ciutat Vella</td>\n",
              "      <td>1</td>\n",
              "      <td>el Raval</td>\n",
              "      <td>3534.3</td>\n",
              "      <td>2.282272</td>\n",
              "    </tr>\n",
              "    <tr>\n",
              "      <th>2018-04-01</th>\n",
              "      <td>2018</td>\n",
              "      <td>2</td>\n",
              "      <td>4</td>\n",
              "      <td>1</td>\n",
              "      <td>Ciutat Vella</td>\n",
              "      <td>1</td>\n",
              "      <td>el Raval</td>\n",
              "      <td>4675.2</td>\n",
              "      <td>2.282272</td>\n",
              "    </tr>\n",
              "    <tr>\n",
              "      <th>2018-05-01</th>\n",
              "      <td>2018</td>\n",
              "      <td>2</td>\n",
              "      <td>5</td>\n",
              "      <td>1</td>\n",
              "      <td>Ciutat Vella</td>\n",
              "      <td>1</td>\n",
              "      <td>el Raval</td>\n",
              "      <td>4675.2</td>\n",
              "      <td>2.282272</td>\n",
              "    </tr>\n",
              "  </tbody>\n",
              "</table>\n",
              "</div>\n",
              "    <div class=\"colab-df-buttons\">\n",
              "\n",
              "  <div class=\"colab-df-container\">\n",
              "    <button class=\"colab-df-convert\" onclick=\"convertToInteractive('df-92d8a6a4-453f-4bbd-bc28-b8bc1651901f')\"\n",
              "            title=\"Convert this dataframe to an interactive table.\"\n",
              "            style=\"display:none;\">\n",
              "\n",
              "  <svg xmlns=\"http://www.w3.org/2000/svg\" height=\"24px\" viewBox=\"0 -960 960 960\">\n",
              "    <path d=\"M120-120v-720h720v720H120Zm60-500h600v-160H180v160Zm220 220h160v-160H400v160Zm0 220h160v-160H400v160ZM180-400h160v-160H180v160Zm440 0h160v-160H620v160ZM180-180h160v-160H180v160Zm440 0h160v-160H620v160Z\"/>\n",
              "  </svg>\n",
              "    </button>\n",
              "\n",
              "  <style>\n",
              "    .colab-df-container {\n",
              "      display:flex;\n",
              "      gap: 12px;\n",
              "    }\n",
              "\n",
              "    .colab-df-convert {\n",
              "      background-color: #E8F0FE;\n",
              "      border: none;\n",
              "      border-radius: 50%;\n",
              "      cursor: pointer;\n",
              "      display: none;\n",
              "      fill: #1967D2;\n",
              "      height: 32px;\n",
              "      padding: 0 0 0 0;\n",
              "      width: 32px;\n",
              "    }\n",
              "\n",
              "    .colab-df-convert:hover {\n",
              "      background-color: #E2EBFA;\n",
              "      box-shadow: 0px 1px 2px rgba(60, 64, 67, 0.3), 0px 1px 3px 1px rgba(60, 64, 67, 0.15);\n",
              "      fill: #174EA6;\n",
              "    }\n",
              "\n",
              "    .colab-df-buttons div {\n",
              "      margin-bottom: 4px;\n",
              "    }\n",
              "\n",
              "    [theme=dark] .colab-df-convert {\n",
              "      background-color: #3B4455;\n",
              "      fill: #D2E3FC;\n",
              "    }\n",
              "\n",
              "    [theme=dark] .colab-df-convert:hover {\n",
              "      background-color: #434B5C;\n",
              "      box-shadow: 0px 1px 3px 1px rgba(0, 0, 0, 0.15);\n",
              "      filter: drop-shadow(0px 1px 2px rgba(0, 0, 0, 0.3));\n",
              "      fill: #FFFFFF;\n",
              "    }\n",
              "  </style>\n",
              "\n",
              "    <script>\n",
              "      const buttonEl =\n",
              "        document.querySelector('#df-92d8a6a4-453f-4bbd-bc28-b8bc1651901f button.colab-df-convert');\n",
              "      buttonEl.style.display =\n",
              "        google.colab.kernel.accessAllowed ? 'block' : 'none';\n",
              "\n",
              "      async function convertToInteractive(key) {\n",
              "        const element = document.querySelector('#df-92d8a6a4-453f-4bbd-bc28-b8bc1651901f');\n",
              "        const dataTable =\n",
              "          await google.colab.kernel.invokeFunction('convertToInteractive',\n",
              "                                                    [key], {});\n",
              "        if (!dataTable) return;\n",
              "\n",
              "        const docLinkHtml = 'Like what you see? Visit the ' +\n",
              "          '<a target=\"_blank\" href=https://colab.research.google.com/notebooks/data_table.ipynb>data table notebook</a>'\n",
              "          + ' to learn more about interactive tables.';\n",
              "        element.innerHTML = '';\n",
              "        dataTable['output_type'] = 'display_data';\n",
              "        await google.colab.output.renderOutput(dataTable, element);\n",
              "        const docLink = document.createElement('div');\n",
              "        docLink.innerHTML = docLinkHtml;\n",
              "        element.appendChild(docLink);\n",
              "      }\n",
              "    </script>\n",
              "  </div>\n",
              "\n",
              "\n",
              "<div id=\"df-ccef0eb1-7601-4ece-ab2f-ee875c9bacd7\">\n",
              "  <button class=\"colab-df-quickchart\" onclick=\"quickchart('df-ccef0eb1-7601-4ece-ab2f-ee875c9bacd7')\"\n",
              "            title=\"Suggest charts\"\n",
              "            style=\"display:none;\">\n",
              "\n",
              "<svg xmlns=\"http://www.w3.org/2000/svg\" height=\"24px\"viewBox=\"0 0 24 24\"\n",
              "     width=\"24px\">\n",
              "    <g>\n",
              "        <path d=\"M19 3H5c-1.1 0-2 .9-2 2v14c0 1.1.9 2 2 2h14c1.1 0 2-.9 2-2V5c0-1.1-.9-2-2-2zM9 17H7v-7h2v7zm4 0h-2V7h2v10zm4 0h-2v-4h2v4z\"/>\n",
              "    </g>\n",
              "</svg>\n",
              "  </button>\n",
              "\n",
              "<style>\n",
              "  .colab-df-quickchart {\n",
              "      --bg-color: #E8F0FE;\n",
              "      --fill-color: #1967D2;\n",
              "      --hover-bg-color: #E2EBFA;\n",
              "      --hover-fill-color: #174EA6;\n",
              "      --disabled-fill-color: #AAA;\n",
              "      --disabled-bg-color: #DDD;\n",
              "  }\n",
              "\n",
              "  [theme=dark] .colab-df-quickchart {\n",
              "      --bg-color: #3B4455;\n",
              "      --fill-color: #D2E3FC;\n",
              "      --hover-bg-color: #434B5C;\n",
              "      --hover-fill-color: #FFFFFF;\n",
              "      --disabled-bg-color: #3B4455;\n",
              "      --disabled-fill-color: #666;\n",
              "  }\n",
              "\n",
              "  .colab-df-quickchart {\n",
              "    background-color: var(--bg-color);\n",
              "    border: none;\n",
              "    border-radius: 50%;\n",
              "    cursor: pointer;\n",
              "    display: none;\n",
              "    fill: var(--fill-color);\n",
              "    height: 32px;\n",
              "    padding: 0;\n",
              "    width: 32px;\n",
              "  }\n",
              "\n",
              "  .colab-df-quickchart:hover {\n",
              "    background-color: var(--hover-bg-color);\n",
              "    box-shadow: 0 1px 2px rgba(60, 64, 67, 0.3), 0 1px 3px 1px rgba(60, 64, 67, 0.15);\n",
              "    fill: var(--button-hover-fill-color);\n",
              "  }\n",
              "\n",
              "  .colab-df-quickchart-complete:disabled,\n",
              "  .colab-df-quickchart-complete:disabled:hover {\n",
              "    background-color: var(--disabled-bg-color);\n",
              "    fill: var(--disabled-fill-color);\n",
              "    box-shadow: none;\n",
              "  }\n",
              "\n",
              "  .colab-df-spinner {\n",
              "    border: 2px solid var(--fill-color);\n",
              "    border-color: transparent;\n",
              "    border-bottom-color: var(--fill-color);\n",
              "    animation:\n",
              "      spin 1s steps(1) infinite;\n",
              "  }\n",
              "\n",
              "  @keyframes spin {\n",
              "    0% {\n",
              "      border-color: transparent;\n",
              "      border-bottom-color: var(--fill-color);\n",
              "      border-left-color: var(--fill-color);\n",
              "    }\n",
              "    20% {\n",
              "      border-color: transparent;\n",
              "      border-left-color: var(--fill-color);\n",
              "      border-top-color: var(--fill-color);\n",
              "    }\n",
              "    30% {\n",
              "      border-color: transparent;\n",
              "      border-left-color: var(--fill-color);\n",
              "      border-top-color: var(--fill-color);\n",
              "      border-right-color: var(--fill-color);\n",
              "    }\n",
              "    40% {\n",
              "      border-color: transparent;\n",
              "      border-right-color: var(--fill-color);\n",
              "      border-top-color: var(--fill-color);\n",
              "    }\n",
              "    60% {\n",
              "      border-color: transparent;\n",
              "      border-right-color: var(--fill-color);\n",
              "    }\n",
              "    80% {\n",
              "      border-color: transparent;\n",
              "      border-right-color: var(--fill-color);\n",
              "      border-bottom-color: var(--fill-color);\n",
              "    }\n",
              "    90% {\n",
              "      border-color: transparent;\n",
              "      border-bottom-color: var(--fill-color);\n",
              "    }\n",
              "  }\n",
              "</style>\n",
              "\n",
              "  <script>\n",
              "    async function quickchart(key) {\n",
              "      const quickchartButtonEl =\n",
              "        document.querySelector('#' + key + ' button');\n",
              "      quickchartButtonEl.disabled = true;  // To prevent multiple clicks.\n",
              "      quickchartButtonEl.classList.add('colab-df-spinner');\n",
              "      try {\n",
              "        const charts = await google.colab.kernel.invokeFunction(\n",
              "            'suggestCharts', [key], {});\n",
              "      } catch (error) {\n",
              "        console.error('Error during call to suggestCharts:', error);\n",
              "      }\n",
              "      quickchartButtonEl.classList.remove('colab-df-spinner');\n",
              "      quickchartButtonEl.classList.add('colab-df-quickchart-complete');\n",
              "    }\n",
              "    (() => {\n",
              "      let quickchartButtonEl =\n",
              "        document.querySelector('#df-ccef0eb1-7601-4ece-ab2f-ee875c9bacd7 button');\n",
              "      quickchartButtonEl.style.display =\n",
              "        google.colab.kernel.accessAllowed ? 'block' : 'none';\n",
              "    })();\n",
              "  </script>\n",
              "</div>\n",
              "    </div>\n",
              "  </div>\n"
            ],
            "application/vnd.google.colaboratory.intrinsic+json": {
              "type": "dataframe",
              "variable_name": "df_contI",
              "summary": "{\n  \"name\": \"df_contI\",\n  \"rows\": 4380,\n  \"fields\": [\n    {\n      \"column\": \"Fecha\",\n      \"properties\": {\n        \"dtype\": \"date\",\n        \"min\": \"2018-01-01 00:00:00\",\n        \"max\": \"2022-12-01 00:00:00\",\n        \"num_unique_values\": 60,\n        \"samples\": [\n          \"2018-01-01 00:00:00\",\n          \"2018-06-01 00:00:00\",\n          \"2021-01-01 00:00:00\"\n        ],\n        \"semantic_type\": \"\",\n        \"description\": \"\"\n      }\n    },\n    {\n      \"column\": \"Any\",\n      \"properties\": {\n        \"dtype\": \"number\",\n        \"std\": 1,\n        \"min\": 2018,\n        \"max\": 2022,\n        \"num_unique_values\": 5,\n        \"samples\": [\n          2019,\n          2022,\n          2020\n        ],\n        \"semantic_type\": \"\",\n        \"description\": \"\"\n      }\n    },\n    {\n      \"column\": \"Trimestre\",\n      \"properties\": {\n        \"dtype\": \"number\",\n        \"std\": 1,\n        \"min\": 1,\n        \"max\": 4,\n        \"num_unique_values\": 4,\n        \"samples\": [\n          2,\n          4,\n          1\n        ],\n        \"semantic_type\": \"\",\n        \"description\": \"\"\n      }\n    },\n    {\n      \"column\": \"Mes\",\n      \"properties\": {\n        \"dtype\": \"number\",\n        \"std\": 3,\n        \"min\": 1,\n        \"max\": 12,\n        \"num_unique_values\": 12,\n        \"samples\": [\n          11,\n          10,\n          1\n        ],\n        \"semantic_type\": \"\",\n        \"description\": \"\"\n      }\n    },\n    {\n      \"column\": \"Codi_Districte\",\n      \"properties\": {\n        \"dtype\": \"number\",\n        \"std\": 2,\n        \"min\": 1,\n        \"max\": 10,\n        \"num_unique_values\": 10,\n        \"samples\": [\n          9,\n          2,\n          6\n        ],\n        \"semantic_type\": \"\",\n        \"description\": \"\"\n      }\n    },\n    {\n      \"column\": \"Nom_Districte\",\n      \"properties\": {\n        \"dtype\": \"category\",\n        \"num_unique_values\": 10,\n        \"samples\": [\n          \"Sant Andreu\",\n          \"Eixample\",\n          \"Gr\\u00e0cia\"\n        ],\n        \"semantic_type\": \"\",\n        \"description\": \"\"\n      }\n    },\n    {\n      \"column\": \"Codi_Barri\",\n      \"properties\": {\n        \"dtype\": \"number\",\n        \"std\": 21,\n        \"min\": 1,\n        \"max\": 73,\n        \"num_unique_values\": 73,\n        \"samples\": [\n          5,\n          64,\n          19\n        ],\n        \"semantic_type\": \"\",\n        \"description\": \"\"\n      }\n    },\n    {\n      \"column\": \"Nom_Barri\",\n      \"properties\": {\n        \"dtype\": \"category\",\n        \"num_unique_values\": 73,\n        \"samples\": [\n          \"el Fort Pienc\",\n          \"el Camp de l'Arpa del Clot\",\n          \"les Corts\"\n        ],\n        \"semantic_type\": \"\",\n        \"description\": \"\"\n      }\n    },\n    {\n      \"column\": \"Compraventa_Unitario\",\n      \"properties\": {\n        \"dtype\": \"number\",\n        \"std\": 1259.7953381376688,\n        \"min\": 471.4,\n        \"max\": 10961.2,\n        \"num_unique_values\": 1436,\n        \"samples\": [\n          3014.3,\n          3406.3,\n          5270.6\n        ],\n        \"semantic_type\": \"\",\n        \"description\": \"\"\n      }\n    },\n    {\n      \"column\": \"Pm25\",\n      \"properties\": {\n        \"dtype\": \"number\",\n        \"std\": 0.3742695994049139,\n        \"min\": 1.81763826606876,\n        \"max\": 3.4377394636015324,\n        \"num_unique_values\": 50,\n        \"samples\": [\n          2.4966622162883847,\n          2.0293819655521785,\n          2.0183591508892715\n        ],\n        \"semantic_type\": \"\",\n        \"description\": \"\"\n      }\n    }\n  ]\n}"
            }
          },
          "metadata": {},
          "execution_count": 9
        }
      ]
    },
    {
      "cell_type": "markdown",
      "source": [
        "### Analisis Exploratorio"
      ],
      "metadata": {
        "id": "a_2OfFZCr-f1"
      }
    },
    {
      "cell_type": "markdown",
      "source": [
        "Filtramos los datos por el distrito de Sarrà-Sant Gervasi -> Codi_Districte = 5"
      ],
      "metadata": {
        "id": "hqyBpeYNQb-z"
      }
    },
    {
      "cell_type": "code",
      "source": [
        "df_contFiltrado = df_contI[df_contI['Codi_Districte'] == 5]"
      ],
      "metadata": {
        "id": "H1D-pGGuQgKv"
      },
      "execution_count": 10,
      "outputs": []
    },
    {
      "cell_type": "code",
      "source": [
        "# Agrupamos los datos\n",
        "df =df_contFiltrado.drop(columns=['Any','Trimestre','Mes','Codi_Districte','Nom_Districte','Codi_Barri','Nom_Barri']).groupby('Fecha').mean()"
      ],
      "metadata": {
        "id": "IqKIcChGWsd4"
      },
      "execution_count": 11,
      "outputs": []
    },
    {
      "cell_type": "code",
      "source": [
        "df.head()"
      ],
      "metadata": {
        "colab": {
          "base_uri": "https://localhost:8080/",
          "height": 237
        },
        "id": "crqUQcqQXROb",
        "outputId": "b7c0ebc7-36fd-41a8-d4d5-77489c48831a"
      },
      "execution_count": 12,
      "outputs": [
        {
          "output_type": "execute_result",
          "data": {
            "text/plain": [
              "            Compraventa_Unitario      Pm25\n",
              "Fecha                                     \n",
              "2018-01-01           4890.783333  2.327853\n",
              "2018-02-01           4890.783333  2.327853\n",
              "2018-03-01           4890.783333  2.327853\n",
              "2018-04-01           5341.750000  2.327853\n",
              "2018-05-01           5341.750000  2.327853"
            ],
            "text/html": [
              "\n",
              "  <div id=\"df-fa1c703c-c91c-4c53-bc52-f5c9c415058d\" class=\"colab-df-container\">\n",
              "    <div>\n",
              "<style scoped>\n",
              "    .dataframe tbody tr th:only-of-type {\n",
              "        vertical-align: middle;\n",
              "    }\n",
              "\n",
              "    .dataframe tbody tr th {\n",
              "        vertical-align: top;\n",
              "    }\n",
              "\n",
              "    .dataframe thead th {\n",
              "        text-align: right;\n",
              "    }\n",
              "</style>\n",
              "<table border=\"1\" class=\"dataframe\">\n",
              "  <thead>\n",
              "    <tr style=\"text-align: right;\">\n",
              "      <th></th>\n",
              "      <th>Compraventa_Unitario</th>\n",
              "      <th>Pm25</th>\n",
              "    </tr>\n",
              "    <tr>\n",
              "      <th>Fecha</th>\n",
              "      <th></th>\n",
              "      <th></th>\n",
              "    </tr>\n",
              "  </thead>\n",
              "  <tbody>\n",
              "    <tr>\n",
              "      <th>2018-01-01</th>\n",
              "      <td>4890.783333</td>\n",
              "      <td>2.327853</td>\n",
              "    </tr>\n",
              "    <tr>\n",
              "      <th>2018-02-01</th>\n",
              "      <td>4890.783333</td>\n",
              "      <td>2.327853</td>\n",
              "    </tr>\n",
              "    <tr>\n",
              "      <th>2018-03-01</th>\n",
              "      <td>4890.783333</td>\n",
              "      <td>2.327853</td>\n",
              "    </tr>\n",
              "    <tr>\n",
              "      <th>2018-04-01</th>\n",
              "      <td>5341.750000</td>\n",
              "      <td>2.327853</td>\n",
              "    </tr>\n",
              "    <tr>\n",
              "      <th>2018-05-01</th>\n",
              "      <td>5341.750000</td>\n",
              "      <td>2.327853</td>\n",
              "    </tr>\n",
              "  </tbody>\n",
              "</table>\n",
              "</div>\n",
              "    <div class=\"colab-df-buttons\">\n",
              "\n",
              "  <div class=\"colab-df-container\">\n",
              "    <button class=\"colab-df-convert\" onclick=\"convertToInteractive('df-fa1c703c-c91c-4c53-bc52-f5c9c415058d')\"\n",
              "            title=\"Convert this dataframe to an interactive table.\"\n",
              "            style=\"display:none;\">\n",
              "\n",
              "  <svg xmlns=\"http://www.w3.org/2000/svg\" height=\"24px\" viewBox=\"0 -960 960 960\">\n",
              "    <path d=\"M120-120v-720h720v720H120Zm60-500h600v-160H180v160Zm220 220h160v-160H400v160Zm0 220h160v-160H400v160ZM180-400h160v-160H180v160Zm440 0h160v-160H620v160ZM180-180h160v-160H180v160Zm440 0h160v-160H620v160Z\"/>\n",
              "  </svg>\n",
              "    </button>\n",
              "\n",
              "  <style>\n",
              "    .colab-df-container {\n",
              "      display:flex;\n",
              "      gap: 12px;\n",
              "    }\n",
              "\n",
              "    .colab-df-convert {\n",
              "      background-color: #E8F0FE;\n",
              "      border: none;\n",
              "      border-radius: 50%;\n",
              "      cursor: pointer;\n",
              "      display: none;\n",
              "      fill: #1967D2;\n",
              "      height: 32px;\n",
              "      padding: 0 0 0 0;\n",
              "      width: 32px;\n",
              "    }\n",
              "\n",
              "    .colab-df-convert:hover {\n",
              "      background-color: #E2EBFA;\n",
              "      box-shadow: 0px 1px 2px rgba(60, 64, 67, 0.3), 0px 1px 3px 1px rgba(60, 64, 67, 0.15);\n",
              "      fill: #174EA6;\n",
              "    }\n",
              "\n",
              "    .colab-df-buttons div {\n",
              "      margin-bottom: 4px;\n",
              "    }\n",
              "\n",
              "    [theme=dark] .colab-df-convert {\n",
              "      background-color: #3B4455;\n",
              "      fill: #D2E3FC;\n",
              "    }\n",
              "\n",
              "    [theme=dark] .colab-df-convert:hover {\n",
              "      background-color: #434B5C;\n",
              "      box-shadow: 0px 1px 3px 1px rgba(0, 0, 0, 0.15);\n",
              "      filter: drop-shadow(0px 1px 2px rgba(0, 0, 0, 0.3));\n",
              "      fill: #FFFFFF;\n",
              "    }\n",
              "  </style>\n",
              "\n",
              "    <script>\n",
              "      const buttonEl =\n",
              "        document.querySelector('#df-fa1c703c-c91c-4c53-bc52-f5c9c415058d button.colab-df-convert');\n",
              "      buttonEl.style.display =\n",
              "        google.colab.kernel.accessAllowed ? 'block' : 'none';\n",
              "\n",
              "      async function convertToInteractive(key) {\n",
              "        const element = document.querySelector('#df-fa1c703c-c91c-4c53-bc52-f5c9c415058d');\n",
              "        const dataTable =\n",
              "          await google.colab.kernel.invokeFunction('convertToInteractive',\n",
              "                                                    [key], {});\n",
              "        if (!dataTable) return;\n",
              "\n",
              "        const docLinkHtml = 'Like what you see? Visit the ' +\n",
              "          '<a target=\"_blank\" href=https://colab.research.google.com/notebooks/data_table.ipynb>data table notebook</a>'\n",
              "          + ' to learn more about interactive tables.';\n",
              "        element.innerHTML = '';\n",
              "        dataTable['output_type'] = 'display_data';\n",
              "        await google.colab.output.renderOutput(dataTable, element);\n",
              "        const docLink = document.createElement('div');\n",
              "        docLink.innerHTML = docLinkHtml;\n",
              "        element.appendChild(docLink);\n",
              "      }\n",
              "    </script>\n",
              "  </div>\n",
              "\n",
              "\n",
              "<div id=\"df-c9153440-3382-4938-a94a-412f0a8e2e3a\">\n",
              "  <button class=\"colab-df-quickchart\" onclick=\"quickchart('df-c9153440-3382-4938-a94a-412f0a8e2e3a')\"\n",
              "            title=\"Suggest charts\"\n",
              "            style=\"display:none;\">\n",
              "\n",
              "<svg xmlns=\"http://www.w3.org/2000/svg\" height=\"24px\"viewBox=\"0 0 24 24\"\n",
              "     width=\"24px\">\n",
              "    <g>\n",
              "        <path d=\"M19 3H5c-1.1 0-2 .9-2 2v14c0 1.1.9 2 2 2h14c1.1 0 2-.9 2-2V5c0-1.1-.9-2-2-2zM9 17H7v-7h2v7zm4 0h-2V7h2v10zm4 0h-2v-4h2v4z\"/>\n",
              "    </g>\n",
              "</svg>\n",
              "  </button>\n",
              "\n",
              "<style>\n",
              "  .colab-df-quickchart {\n",
              "      --bg-color: #E8F0FE;\n",
              "      --fill-color: #1967D2;\n",
              "      --hover-bg-color: #E2EBFA;\n",
              "      --hover-fill-color: #174EA6;\n",
              "      --disabled-fill-color: #AAA;\n",
              "      --disabled-bg-color: #DDD;\n",
              "  }\n",
              "\n",
              "  [theme=dark] .colab-df-quickchart {\n",
              "      --bg-color: #3B4455;\n",
              "      --fill-color: #D2E3FC;\n",
              "      --hover-bg-color: #434B5C;\n",
              "      --hover-fill-color: #FFFFFF;\n",
              "      --disabled-bg-color: #3B4455;\n",
              "      --disabled-fill-color: #666;\n",
              "  }\n",
              "\n",
              "  .colab-df-quickchart {\n",
              "    background-color: var(--bg-color);\n",
              "    border: none;\n",
              "    border-radius: 50%;\n",
              "    cursor: pointer;\n",
              "    display: none;\n",
              "    fill: var(--fill-color);\n",
              "    height: 32px;\n",
              "    padding: 0;\n",
              "    width: 32px;\n",
              "  }\n",
              "\n",
              "  .colab-df-quickchart:hover {\n",
              "    background-color: var(--hover-bg-color);\n",
              "    box-shadow: 0 1px 2px rgba(60, 64, 67, 0.3), 0 1px 3px 1px rgba(60, 64, 67, 0.15);\n",
              "    fill: var(--button-hover-fill-color);\n",
              "  }\n",
              "\n",
              "  .colab-df-quickchart-complete:disabled,\n",
              "  .colab-df-quickchart-complete:disabled:hover {\n",
              "    background-color: var(--disabled-bg-color);\n",
              "    fill: var(--disabled-fill-color);\n",
              "    box-shadow: none;\n",
              "  }\n",
              "\n",
              "  .colab-df-spinner {\n",
              "    border: 2px solid var(--fill-color);\n",
              "    border-color: transparent;\n",
              "    border-bottom-color: var(--fill-color);\n",
              "    animation:\n",
              "      spin 1s steps(1) infinite;\n",
              "  }\n",
              "\n",
              "  @keyframes spin {\n",
              "    0% {\n",
              "      border-color: transparent;\n",
              "      border-bottom-color: var(--fill-color);\n",
              "      border-left-color: var(--fill-color);\n",
              "    }\n",
              "    20% {\n",
              "      border-color: transparent;\n",
              "      border-left-color: var(--fill-color);\n",
              "      border-top-color: var(--fill-color);\n",
              "    }\n",
              "    30% {\n",
              "      border-color: transparent;\n",
              "      border-left-color: var(--fill-color);\n",
              "      border-top-color: var(--fill-color);\n",
              "      border-right-color: var(--fill-color);\n",
              "    }\n",
              "    40% {\n",
              "      border-color: transparent;\n",
              "      border-right-color: var(--fill-color);\n",
              "      border-top-color: var(--fill-color);\n",
              "    }\n",
              "    60% {\n",
              "      border-color: transparent;\n",
              "      border-right-color: var(--fill-color);\n",
              "    }\n",
              "    80% {\n",
              "      border-color: transparent;\n",
              "      border-right-color: var(--fill-color);\n",
              "      border-bottom-color: var(--fill-color);\n",
              "    }\n",
              "    90% {\n",
              "      border-color: transparent;\n",
              "      border-bottom-color: var(--fill-color);\n",
              "    }\n",
              "  }\n",
              "</style>\n",
              "\n",
              "  <script>\n",
              "    async function quickchart(key) {\n",
              "      const quickchartButtonEl =\n",
              "        document.querySelector('#' + key + ' button');\n",
              "      quickchartButtonEl.disabled = true;  // To prevent multiple clicks.\n",
              "      quickchartButtonEl.classList.add('colab-df-spinner');\n",
              "      try {\n",
              "        const charts = await google.colab.kernel.invokeFunction(\n",
              "            'suggestCharts', [key], {});\n",
              "      } catch (error) {\n",
              "        console.error('Error during call to suggestCharts:', error);\n",
              "      }\n",
              "      quickchartButtonEl.classList.remove('colab-df-spinner');\n",
              "      quickchartButtonEl.classList.add('colab-df-quickchart-complete');\n",
              "    }\n",
              "    (() => {\n",
              "      let quickchartButtonEl =\n",
              "        document.querySelector('#df-c9153440-3382-4938-a94a-412f0a8e2e3a button');\n",
              "      quickchartButtonEl.style.display =\n",
              "        google.colab.kernel.accessAllowed ? 'block' : 'none';\n",
              "    })();\n",
              "  </script>\n",
              "</div>\n",
              "    </div>\n",
              "  </div>\n"
            ],
            "application/vnd.google.colaboratory.intrinsic+json": {
              "type": "dataframe",
              "variable_name": "df",
              "summary": "{\n  \"name\": \"df\",\n  \"rows\": 60,\n  \"fields\": [\n    {\n      \"column\": \"Fecha\",\n      \"properties\": {\n        \"dtype\": \"date\",\n        \"min\": \"2018-01-01 00:00:00\",\n        \"max\": \"2022-12-01 00:00:00\",\n        \"num_unique_values\": 60,\n        \"samples\": [\n          \"2018-01-01 00:00:00\",\n          \"2018-06-01 00:00:00\",\n          \"2021-01-01 00:00:00\"\n        ],\n        \"semantic_type\": \"\",\n        \"description\": \"\"\n      }\n    },\n    {\n      \"column\": \"Compraventa_Unitario\",\n      \"properties\": {\n        \"dtype\": \"number\",\n        \"std\": 328.96529456931074,\n        \"min\": 4810.7,\n        \"max\": 6013.583333333333,\n        \"num_unique_values\": 20,\n        \"samples\": [\n          4890.783333333334,\n          6013.583333333333,\n          5874.216666666667\n        ],\n        \"semantic_type\": \"\",\n        \"description\": \"\"\n      }\n    },\n    {\n      \"column\": \"Pm25\",\n      \"properties\": {\n        \"dtype\": \"number\",\n        \"std\": 0.2321148217911752,\n        \"min\": 1.8176382660687598,\n        \"max\": 2.3617339312406576,\n        \"num_unique_values\": 5,\n        \"samples\": [\n          2.3617339312406576,\n          2.128550074738416,\n          1.8470353761833584\n        ],\n        \"semantic_type\": \"\",\n        \"description\": \"\"\n      }\n    }\n  ]\n}"
            }
          },
          "metadata": {},
          "execution_count": 12
        }
      ]
    },
    {
      "cell_type": "code",
      "source": [
        "df.info()"
      ],
      "metadata": {
        "colab": {
          "base_uri": "https://localhost:8080/"
        },
        "id": "uhQMgsgaLmhN",
        "outputId": "0233e864-7898-45a8-b235-ef7a4dc80387"
      },
      "execution_count": 13,
      "outputs": [
        {
          "output_type": "stream",
          "name": "stdout",
          "text": [
            "<class 'pandas.core.frame.DataFrame'>\n",
            "DatetimeIndex: 60 entries, 2018-01-01 to 2022-12-01\n",
            "Data columns (total 2 columns):\n",
            " #   Column                Non-Null Count  Dtype  \n",
            "---  ------                --------------  -----  \n",
            " 0   Compraventa_Unitario  60 non-null     float64\n",
            " 1   Pm25                  60 non-null     float64\n",
            "dtypes: float64(2)\n",
            "memory usage: 1.4 KB\n"
          ]
        }
      ]
    },
    {
      "cell_type": "code",
      "source": [
        "fig, axes = plt.subplots(nrows = int(len(df.columns)), ncols = 1, dpi = 100, figsize = (14,10))\n",
        "unidades = ['€/m²', '']\n",
        "colores = ['#FF5733', '#3498DB']\n",
        "\n",
        "for i, (col,ax) in enumerate(zip(df.columns, axes.flatten())):\n",
        "    df[col].plot(color = colores[i], legend = True, ax = ax)\n",
        "    ax.set_ylabel(unidades[i])  # Establecer etiqueta del eje y\n",
        "plt.show()"
      ],
      "metadata": {
        "colab": {
          "base_uri": "https://localhost:8080/",
          "height": 850
        },
        "id": "fGqh8sGPU0l3",
        "outputId": "d63b4579-c431-4c27-bdde-db264055c4bc"
      },
      "execution_count": 14,
      "outputs": [
        {
          "output_type": "display_data",
          "data": {
            "text/plain": [
              "<Figure size 1400x1000 with 2 Axes>"
            ],
            "image/png": "[encoded data removed]"
          },
          "metadata": {}
        }
      ]
    },
    {
      "cell_type": "markdown",
      "source": [
        "Cada una de las series tiene patrones de tendencia muy diferentes entre si"
      ],
      "metadata": {
        "id": "pQPjDjNRN8PE"
      }
    },
    {
      "cell_type": "code",
      "source": [
        "corr=df.corr()\n",
        "corr"
      ],
      "metadata": {
        "colab": {
          "base_uri": "https://localhost:8080/",
          "height": 112
        },
        "id": "levxFlFsrUpd",
        "outputId": "3d0657b4-4a58-4ea5-dc44-bbf496296a19"
      },
      "execution_count": 15,
      "outputs": [
        {
          "output_type": "execute_result",
          "data": {
            "text/plain": [
              "                      Compraventa_Unitario     Pm25\n",
              "Compraventa_Unitario               1.00000 -0.07949\n",
              "Pm25                              -0.07949  1.00000"
            ],
            "text/html": [
              "\n",
              "  <div id=\"df-f1283d49-adca-42f2-9e37-19da9bb1fc06\" class=\"colab-df-container\">\n",
              "    <div>\n",
              "<style scoped>\n",
              "    .dataframe tbody tr th:only-of-type {\n",
              "        vertical-align: middle;\n",
              "    }\n",
              "\n",
              "    .dataframe tbody tr th {\n",
              "        vertical-align: top;\n",
              "    }\n",
              "\n",
              "    .dataframe thead th {\n",
              "        text-align: right;\n",
              "    }\n",
              "</style>\n",
              "<table border=\"1\" class=\"dataframe\">\n",
              "  <thead>\n",
              "    <tr style=\"text-align: right;\">\n",
              "      <th></th>\n",
              "      <th>Compraventa_Unitario</th>\n",
              "      <th>Pm25</th>\n",
              "    </tr>\n",
              "  </thead>\n",
              "  <tbody>\n",
              "    <tr>\n",
              "      <th>Compraventa_Unitario</th>\n",
              "      <td>1.00000</td>\n",
              "      <td>-0.07949</td>\n",
              "    </tr>\n",
              "    <tr>\n",
              "      <th>Pm25</th>\n",
              "      <td>-0.07949</td>\n",
              "      <td>1.00000</td>\n",
              "    </tr>\n",
              "  </tbody>\n",
              "</table>\n",
              "</div>\n",
              "    <div class=\"colab-df-buttons\">\n",
              "\n",
              "  <div class=\"colab-df-container\">\n",
              "    <button class=\"colab-df-convert\" onclick=\"convertToInteractive('df-f1283d49-adca-42f2-9e37-19da9bb1fc06')\"\n",
              "            title=\"Convert this dataframe to an interactive table.\"\n",
              "            style=\"display:none;\">\n",
              "\n",
              "  <svg xmlns=\"http://www.w3.org/2000/svg\" height=\"24px\" viewBox=\"0 -960 960 960\">\n",
              "    <path d=\"M120-120v-720h720v720H120Zm60-500h600v-160H180v160Zm220 220h160v-160H400v160Zm0 220h160v-160H400v160ZM180-400h160v-160H180v160Zm440 0h160v-160H620v160ZM180-180h160v-160H180v160Zm440 0h160v-160H620v160Z\"/>\n",
              "  </svg>\n",
              "    </button>\n",
              "\n",
              "  <style>\n",
              "    .colab-df-container {\n",
              "      display:flex;\n",
              "      gap: 12px;\n",
              "    }\n",
              "\n",
              "    .colab-df-convert {\n",
              "      background-color: #E8F0FE;\n",
              "      border: none;\n",
              "      border-radius: 50%;\n",
              "      cursor: pointer;\n",
              "      display: none;\n",
              "      fill: #1967D2;\n",
              "      height: 32px;\n",
              "      padding: 0 0 0 0;\n",
              "      width: 32px;\n",
              "    }\n",
              "\n",
              "    .colab-df-convert:hover {\n",
              "      background-color: #E2EBFA;\n",
              "      box-shadow: 0px 1px 2px rgba(60, 64, 67, 0.3), 0px 1px 3px 1px rgba(60, 64, 67, 0.15);\n",
              "      fill: #174EA6;\n",
              "    }\n",
              "\n",
              "    .colab-df-buttons div {\n",
              "      margin-bottom: 4px;\n",
              "    }\n",
              "\n",
              "    [theme=dark] .colab-df-convert {\n",
              "      background-color: #3B4455;\n",
              "      fill: #D2E3FC;\n",
              "    }\n",
              "\n",
              "    [theme=dark] .colab-df-convert:hover {\n",
              "      background-color: #434B5C;\n",
              "      box-shadow: 0px 1px 3px 1px rgba(0, 0, 0, 0.15);\n",
              "      filter: drop-shadow(0px 1px 2px rgba(0, 0, 0, 0.3));\n",
              "      fill: #FFFFFF;\n",
              "    }\n",
              "  </style>\n",
              "\n",
              "    <script>\n",
              "      const buttonEl =\n",
              "        document.querySelector('#df-f1283d49-adca-42f2-9e37-19da9bb1fc06 button.colab-df-convert');\n",
              "      buttonEl.style.display =\n",
              "        google.colab.kernel.accessAllowed ? 'block' : 'none';\n",
              "\n",
              "      async function convertToInteractive(key) {\n",
              "        const element = document.querySelector('#df-f1283d49-adca-42f2-9e37-19da9bb1fc06');\n",
              "        const dataTable =\n",
              "          await google.colab.kernel.invokeFunction('convertToInteractive',\n",
              "                                                    [key], {});\n",
              "        if (!dataTable) return;\n",
              "\n",
              "        const docLinkHtml = 'Like what you see? Visit the ' +\n",
              "          '<a target=\"_blank\" href=https://colab.research.google.com/notebooks/data_table.ipynb>data table notebook</a>'\n",
              "          + ' to learn more about interactive tables.';\n",
              "        element.innerHTML = '';\n",
              "        dataTable['output_type'] = 'display_data';\n",
              "        await google.colab.output.renderOutput(dataTable, element);\n",
              "        const docLink = document.createElement('div');\n",
              "        docLink.innerHTML = docLinkHtml;\n",
              "        element.appendChild(docLink);\n",
              "      }\n",
              "    </script>\n",
              "  </div>\n",
              "\n",
              "\n",
              "<div id=\"df-0fa1d351-eaea-449a-b56d-810ddc173819\">\n",
              "  <button class=\"colab-df-quickchart\" onclick=\"quickchart('df-0fa1d351-eaea-449a-b56d-810ddc173819')\"\n",
              "            title=\"Suggest charts\"\n",
              "            style=\"display:none;\">\n",
              "\n",
              "<svg xmlns=\"http://www.w3.org/2000/svg\" height=\"24px\"viewBox=\"0 0 24 24\"\n",
              "     width=\"24px\">\n",
              "    <g>\n",
              "        <path d=\"M19 3H5c-1.1 0-2 .9-2 2v14c0 1.1.9 2 2 2h14c1.1 0 2-.9 2-2V5c0-1.1-.9-2-2-2zM9 17H7v-7h2v7zm4 0h-2V7h2v10zm4 0h-2v-4h2v4z\"/>\n",
              "    </g>\n",
              "</svg>\n",
              "  </button>\n",
              "\n",
              "<style>\n",
              "  .colab-df-quickchart {\n",
              "      --bg-color: #E8F0FE;\n",
              "      --fill-color: #1967D2;\n",
              "      --hover-bg-color: #E2EBFA;\n",
              "      --hover-fill-color: #174EA6;\n",
              "      --disabled-fill-color: #AAA;\n",
              "      --disabled-bg-color: #DDD;\n",
              "  }\n",
              "\n",
              "  [theme=dark] .colab-df-quickchart {\n",
              "      --bg-color: #3B4455;\n",
              "      --fill-color: #D2E3FC;\n",
              "      --hover-bg-color: #434B5C;\n",
              "      --hover-fill-color: #FFFFFF;\n",
              "      --disabled-bg-color: #3B4455;\n",
              "      --disabled-fill-color: #666;\n",
              "  }\n",
              "\n",
              "  .colab-df-quickchart {\n",
              "    background-color: var(--bg-color);\n",
              "    border: none;\n",
              "    border-radius: 50%;\n",
              "    cursor: pointer;\n",
              "    display: none;\n",
              "    fill: var(--fill-color);\n",
              "    height: 32px;\n",
              "    padding: 0;\n",
              "    width: 32px;\n",
              "  }\n",
              "\n",
              "  .colab-df-quickchart:hover {\n",
              "    background-color: var(--hover-bg-color);\n",
              "    box-shadow: 0 1px 2px rgba(60, 64, 67, 0.3), 0 1px 3px 1px rgba(60, 64, 67, 0.15);\n",
              "    fill: var(--button-hover-fill-color);\n",
              "  }\n",
              "\n",
              "  .colab-df-quickchart-complete:disabled,\n",
              "  .colab-df-quickchart-complete:disabled:hover {\n",
              "    background-color: var(--disabled-bg-color);\n",
              "    fill: var(--disabled-fill-color);\n",
              "    box-shadow: none;\n",
              "  }\n",
              "\n",
              "  .colab-df-spinner {\n",
              "    border: 2px solid var(--fill-color);\n",
              "    border-color: transparent;\n",
              "    border-bottom-color: var(--fill-color);\n",
              "    animation:\n",
              "      spin 1s steps(1) infinite;\n",
              "  }\n",
              "\n",
              "  @keyframes spin {\n",
              "    0% {\n",
              "      border-color: transparent;\n",
              "      border-bottom-color: var(--fill-color);\n",
              "      border-left-color: var(--fill-color);\n",
              "    }\n",
              "    20% {\n",
              "      border-color: transparent;\n",
              "      border-left-color: var(--fill-color);\n",
              "      border-top-color: var(--fill-color);\n",
              "    }\n",
              "    30% {\n",
              "      border-color: transparent;\n",
              "      border-left-color: var(--fill-color);\n",
              "      border-top-color: var(--fill-color);\n",
              "      border-right-color: var(--fill-color);\n",
              "    }\n",
              "    40% {\n",
              "      border-color: transparent;\n",
              "      border-right-color: var(--fill-color);\n",
              "      border-top-color: var(--fill-color);\n",
              "    }\n",
              "    60% {\n",
              "      border-color: transparent;\n",
              "      border-right-color: var(--fill-color);\n",
              "    }\n",
              "    80% {\n",
              "      border-color: transparent;\n",
              "      border-right-color: var(--fill-color);\n",
              "      border-bottom-color: var(--fill-color);\n",
              "    }\n",
              "    90% {\n",
              "      border-color: transparent;\n",
              "      border-bottom-color: var(--fill-color);\n",
              "    }\n",
              "  }\n",
              "</style>\n",
              "\n",
              "  <script>\n",
              "    async function quickchart(key) {\n",
              "      const quickchartButtonEl =\n",
              "        document.querySelector('#' + key + ' button');\n",
              "      quickchartButtonEl.disabled = true;  // To prevent multiple clicks.\n",
              "      quickchartButtonEl.classList.add('colab-df-spinner');\n",
              "      try {\n",
              "        const charts = await google.colab.kernel.invokeFunction(\n",
              "            'suggestCharts', [key], {});\n",
              "      } catch (error) {\n",
              "        console.error('Error during call to suggestCharts:', error);\n",
              "      }\n",
              "      quickchartButtonEl.classList.remove('colab-df-spinner');\n",
              "      quickchartButtonEl.classList.add('colab-df-quickchart-complete');\n",
              "    }\n",
              "    (() => {\n",
              "      let quickchartButtonEl =\n",
              "        document.querySelector('#df-0fa1d351-eaea-449a-b56d-810ddc173819 button');\n",
              "      quickchartButtonEl.style.display =\n",
              "        google.colab.kernel.accessAllowed ? 'block' : 'none';\n",
              "    })();\n",
              "  </script>\n",
              "</div>\n",
              "    </div>\n",
              "  </div>\n"
            ],
            "application/vnd.google.colaboratory.intrinsic+json": {
              "type": "dataframe",
              "variable_name": "corr",
              "summary": "{\n  \"name\": \"corr\",\n  \"rows\": 2,\n  \"fields\": [\n    {\n      \"column\": \"Compraventa_Unitario\",\n      \"properties\": {\n        \"dtype\": \"number\",\n        \"std\": 0.7633149462034471,\n        \"min\": -0.07949034928300429,\n        \"max\": 1.0,\n        \"num_unique_values\": 2,\n        \"samples\": [\n          -0.07949034928300429,\n          1.0\n        ],\n        \"semantic_type\": \"\",\n        \"description\": \"\"\n      }\n    },\n    {\n      \"column\": \"Pm25\",\n      \"properties\": {\n        \"dtype\": \"number\",\n        \"std\": 0.7633149462034471,\n        \"min\": -0.07949034928300429,\n        \"max\": 1.0,\n        \"num_unique_values\": 2,\n        \"samples\": [\n          1.0,\n          -0.07949034928300429\n        ],\n        \"semantic_type\": \"\",\n        \"description\": \"\"\n      }\n    }\n  ]\n}"
            }
          },
          "metadata": {},
          "execution_count": 15
        }
      ]
    },
    {
      "cell_type": "code",
      "source": [
        "import seaborn as sb\n",
        "fig, ax = plt.subplots(figsize=(12, 10))\n",
        "\n",
        "sb.heatmap(corr, xticklabels=corr.columns.values, yticklabels=corr.columns.values, annot=True,vmax=1, vmin=-1, cmap =sb.diverging_palette(220, 10, as_cmap=True),center=0,ax=ax )\n",
        "plt.show()"
      ],
      "metadata": {
        "colab": {
          "base_uri": "https://localhost:8080/",
          "height": 836
        },
        "id": "-snhTk3AzH69",
        "outputId": "b128ad02-93e0-4c21-bbb6-726f57ae510d"
      },
      "execution_count": 16,
      "outputs": [
        {
          "output_type": "display_data",
          "data": {
            "text/plain": [
              "<Figure size 1200x1000 with 2 Axes>"
            ],
            "image/png": "[encoded data removed]"
          },
          "metadata": {}
        }
      ]
    },
    {
      "cell_type": "markdown",
      "source": [
        "La correlación entre \"Compraventa_Unitario\" y \"Pm25\" es de -0.079, lo que sugiere que apenas hay correlacionentre estas dos variables en tu modelo."
      ],
      "metadata": {
        "id": "17ib49lFVZX-"
      }
    },
    {
      "cell_type": "markdown",
      "source": [
        "### Dividir los datos en conjunto de Entrenamiento y Prueba\n"
      ],
      "metadata": {
        "id": "wadXdhff2KpG"
      }
    },
    {
      "cell_type": "markdown",
      "source": [
        "El modelo VAR se ajustará al conjunto de entrenamiento X_train y luego se utilizará el modelo para pronosticar las observaciones futuras. Estos pronósticos se compararán con los datos reales del conjunto de prueba.\n",
        "\n",
        "\n",
        "\n",
        "---\n",
        "\n"
      ],
      "metadata": {
        "id": "LN-cV0wS2KpH"
      }
    },
    {
      "cell_type": "code",
      "source": [
        "fecha_division = '2022-07-01'\n",
        "\n",
        "X_train, X_test = df[df.index<fecha_division], df[df.index>=fecha_division]\n",
        "print(X_train.shape, X_test.shape)"
      ],
      "metadata": {
        "colab": {
          "base_uri": "https://localhost:8080/"
        },
        "outputId": "bc9a32d6-193c-4ba8-bf6c-5b39b15f846a",
        "id": "h9KDJGu62KpH"
      },
      "execution_count": 17,
      "outputs": [
        {
          "output_type": "stream",
          "name": "stdout",
          "text": [
            "(54, 2) (6, 2)\n"
          ]
        }
      ]
    },
    {
      "cell_type": "markdown",
      "source": [
        "###Test de Cointegracion"
      ],
      "metadata": {
        "id": "_6ar_Kz-2Tsw"
      }
    },
    {
      "cell_type": "markdown",
      "source": [
        "Determinaremos si las dos variables estan relacionadas entre si y si esa relacion es duradera o no"
      ],
      "metadata": {
        "id": "LsZPz3V62Tsx"
      }
    },
    {
      "cell_type": "code",
      "source": [
        "from statsmodels.tsa.vector_ar.vecm import coint_johansen\n",
        "\n",
        "def cointegration_test(df):\n",
        "    res = coint_johansen(df,-1,5)\n",
        "    d = {'0.90':0, '0.95':1, '0.99':2}\n",
        "    traces = res.lr1\n",
        "    cvts = res.cvt[:, d[str(1-0.05)]]\n",
        "    def adjust(val, length= 6):\n",
        "        return str(val).ljust(length)\n",
        "    print('Column Name   >  Test Stat > C(95%)    =>   Signif  \\n', '--'*20)\n",
        "    for col, trace, cvt in zip(df.columns, traces, cvts):\n",
        "        print(adjust(col), '> ', adjust(round(trace,2), 9), \">\", adjust(cvt, 8), ' =>  ' , trace > cvt)"
      ],
      "metadata": {
        "id": "lZV46i6y2Tsx"
      },
      "execution_count": 18,
      "outputs": []
    },
    {
      "cell_type": "code",
      "source": [
        "cointegration_test(X_train[['Compraventa_Unitario', 'Pm25']])"
      ],
      "metadata": {
        "colab": {
          "base_uri": "https://localhost:8080/"
        },
        "outputId": "152a54cb-f0b9-458c-855f-39fb8d041720",
        "id": "mjxU5sLY2Tsx"
      },
      "execution_count": 19,
      "outputs": [
        {
          "output_type": "stream",
          "name": "stdout",
          "text": [
            "Column Name   >  Test Stat > C(95%)    =>   Signif  \n",
            " ----------------------------------------\n",
            "Compraventa_Unitario >  4.13      > 12.3212   =>   False\n",
            "Pm25   >  0.78      > 4.1296    =>   False\n"
          ]
        }
      ]
    },
    {
      "cell_type": "markdown",
      "source": [
        "* **Compraventa_Unitario**: No hay suficiente evidencia estadística para rechazar la hipótesis nula de no cointegración. Esto sugiere que \"Compraventa_Unitario\" no tiene una relación de equilibrio estacionario de largo plazo con las otras series en el sistema.\n",
        "* **Pm25**: Similarmente, \"Pm25\" tampoco muestra evidencia de cointegración. No existe una combinación lineal estacionaria que vincule esta serie con otras en el sistema a largo plazo."
      ],
      "metadata": {
        "id": "kr5Cm8Z32Tsx"
      }
    },
    {
      "cell_type": "markdown",
      "source": [
        "Para un análisis conjunto que aún considera las interacciones entre múltiples series no cointegradas, usaremos un modelo VAR (Vector Autoregressive) o VARMA (Vector Autoregressive Moving Average) y descartaremos el modelo VECM (Vector Error Correlation Model), pero primero transformaremos comprobaremos y transformaremos por diferenciacion las veces necesrarias para convertir las series en estacionarias\n",
        "\n"
      ],
      "metadata": {
        "id": "dfAocubH20-h"
      }
    },
    {
      "cell_type": "markdown",
      "source": [
        "### Prueba de estacionariedad"
      ],
      "metadata": {
        "id": "E6iFo_qi2eTh"
      }
    },
    {
      "cell_type": "markdown",
      "source": [
        "Necesitamos que los datos sean estacionarios para poder usar el modelo VAR. Vamos a averiguarlo haciendo un Test de Dickey-Fuller aumentado, a cada variable univariante que tiene nuestro dataset."
      ],
      "metadata": {
        "id": "8z-FWJMW2eTi"
      }
    },
    {
      "cell_type": "code",
      "source": [
        "import statsmodels.tsa.stattools as sts"
      ],
      "metadata": {
        "id": "GqIqYTxW2eTi"
      },
      "execution_count": 20,
      "outputs": []
    },
    {
      "cell_type": "code",
      "source": [
        "def augmented_dickey_fuller_statistics(time_series):\n",
        "  result = sts.adfuller(time_series.values)\n",
        "  print('p-value: %f' % result[1])\n",
        "\n",
        "print('Test de Dickey-Fuller Aumentado:')\n",
        "for i in range(len(X_train.columns)):\n",
        "  print('Serie de tiempo',X_train.columns[i])\n",
        "  augmented_dickey_fuller_statistics(X_train.iloc[:,i])"
      ],
      "metadata": {
        "colab": {
          "base_uri": "https://localhost:8080/"
        },
        "outputId": "a63d178a-1564-4c25-8786-44f1dcaefb3c",
        "id": "SqNm-uao2eTi"
      },
      "execution_count": 21,
      "outputs": [
        {
          "output_type": "stream",
          "name": "stdout",
          "text": [
            "Test de Dickey-Fuller Aumentado:\n",
            "Serie de tiempo Compraventa_Unitario\n",
            "p-value: 0.358208\n",
            "Serie de tiempo Pm25\n",
            "p-value: 0.573687\n"
          ]
        }
      ]
    },
    {
      "cell_type": "markdown",
      "source": [
        "Los p-valores son mayores que 0.05, con lo cual no se rechaza la hipótesis nula de que la serie no es estacionaria. Habría que transformar los datos porque no se puede confirmar estacionariedad."
      ],
      "metadata": {
        "id": "uYHzRc4f2eTi"
      }
    },
    {
      "cell_type": "code",
      "source": [
        "#Diferenciando por primera vez\n",
        "X_train_transformed=X_train.diff().dropna()\n",
        "X_train_transformed.head()"
      ],
      "metadata": {
        "colab": {
          "base_uri": "https://localhost:8080/",
          "height": 237
        },
        "outputId": "d04fcf12-2e9c-4c78-f997-5c4626f32769",
        "id": "bue0YjqX2eTi"
      },
      "execution_count": 22,
      "outputs": [
        {
          "output_type": "execute_result",
          "data": {
            "text/plain": [
              "            Compraventa_Unitario  Pm25\n",
              "Fecha                                 \n",
              "2018-02-01              0.000000   0.0\n",
              "2018-03-01              0.000000   0.0\n",
              "2018-04-01            450.966667   0.0\n",
              "2018-05-01              0.000000   0.0\n",
              "2018-06-01              0.000000   0.0"
            ],
            "text/html": [
              "\n",
              "  <div id=\"df-9da44ecd-df94-4604-ae1e-9357ad3095a7\" class=\"colab-df-container\">\n",
              "    <div>\n",
              "<style scoped>\n",
              "    .dataframe tbody tr th:only-of-type {\n",
              "        vertical-align: middle;\n",
              "    }\n",
              "\n",
              "    .dataframe tbody tr th {\n",
              "        vertical-align: top;\n",
              "    }\n",
              "\n",
              "    .dataframe thead th {\n",
              "        text-align: right;\n",
              "    }\n",
              "</style>\n",
              "<table border=\"1\" class=\"dataframe\">\n",
              "  <thead>\n",
              "    <tr style=\"text-align: right;\">\n",
              "      <th></th>\n",
              "      <th>Compraventa_Unitario</th>\n",
              "      <th>Pm25</th>\n",
              "    </tr>\n",
              "    <tr>\n",
              "      <th>Fecha</th>\n",
              "      <th></th>\n",
              "      <th></th>\n",
              "    </tr>\n",
              "  </thead>\n",
              "  <tbody>\n",
              "    <tr>\n",
              "      <th>2018-02-01</th>\n",
              "      <td>0.000000</td>\n",
              "      <td>0.0</td>\n",
              "    </tr>\n",
              "    <tr>\n",
              "      <th>2018-03-01</th>\n",
              "      <td>0.000000</td>\n",
              "      <td>0.0</td>\n",
              "    </tr>\n",
              "    <tr>\n",
              "      <th>2018-04-01</th>\n",
              "      <td>450.966667</td>\n",
              "      <td>0.0</td>\n",
              "    </tr>\n",
              "    <tr>\n",
              "      <th>2018-05-01</th>\n",
              "      <td>0.000000</td>\n",
              "      <td>0.0</td>\n",
              "    </tr>\n",
              "    <tr>\n",
              "      <th>2018-06-01</th>\n",
              "      <td>0.000000</td>\n",
              "      <td>0.0</td>\n",
              "    </tr>\n",
              "  </tbody>\n",
              "</table>\n",
              "</div>\n",
              "    <div class=\"colab-df-buttons\">\n",
              "\n",
              "  <div class=\"colab-df-container\">\n",
              "    <button class=\"colab-df-convert\" onclick=\"convertToInteractive('df-9da44ecd-df94-4604-ae1e-9357ad3095a7')\"\n",
              "            title=\"Convert this dataframe to an interactive table.\"\n",
              "            style=\"display:none;\">\n",
              "\n",
              "  <svg xmlns=\"http://www.w3.org/2000/svg\" height=\"24px\" viewBox=\"0 -960 960 960\">\n",
              "    <path d=\"M120-120v-720h720v720H120Zm60-500h600v-160H180v160Zm220 220h160v-160H400v160Zm0 220h160v-160H400v160ZM180-400h160v-160H180v160Zm440 0h160v-160H620v160ZM180-180h160v-160H180v160Zm440 0h160v-160H620v160Z\"/>\n",
              "  </svg>\n",
              "    </button>\n",
              "\n",
              "  <style>\n",
              "    .colab-df-container {\n",
              "      display:flex;\n",
              "      gap: 12px;\n",
              "    }\n",
              "\n",
              "    .colab-df-convert {\n",
              "      background-color: #E8F0FE;\n",
              "      border: none;\n",
              "      border-radius: 50%;\n",
              "      cursor: pointer;\n",
              "      display: none;\n",
              "      fill: #1967D2;\n",
              "      height: 32px;\n",
              "      padding: 0 0 0 0;\n",
              "      width: 32px;\n",
              "    }\n",
              "\n",
              "    .colab-df-convert:hover {\n",
              "      background-color: #E2EBFA;\n",
              "      box-shadow: 0px 1px 2px rgba(60, 64, 67, 0.3), 0px 1px 3px 1px rgba(60, 64, 67, 0.15);\n",
              "      fill: #174EA6;\n",
              "    }\n",
              "\n",
              "    .colab-df-buttons div {\n",
              "      margin-bottom: 4px;\n",
              "    }\n",
              "\n",
              "    [theme=dark] .colab-df-convert {\n",
              "      background-color: #3B4455;\n",
              "      fill: #D2E3FC;\n",
              "    }\n",
              "\n",
              "    [theme=dark] .colab-df-convert:hover {\n",
              "      background-color: #434B5C;\n",
              "      box-shadow: 0px 1px 3px 1px rgba(0, 0, 0, 0.15);\n",
              "      filter: drop-shadow(0px 1px 2px rgba(0, 0, 0, 0.3));\n",
              "      fill: #FFFFFF;\n",
              "    }\n",
              "  </style>\n",
              "\n",
              "    <script>\n",
              "      const buttonEl =\n",
              "        document.querySelector('#df-9da44ecd-df94-4604-ae1e-9357ad3095a7 button.colab-df-convert');\n",
              "      buttonEl.style.display =\n",
              "        google.colab.kernel.accessAllowed ? 'block' : 'none';\n",
              "\n",
              "      async function convertToInteractive(key) {\n",
              "        const element = document.querySelector('#df-9da44ecd-df94-4604-ae1e-9357ad3095a7');\n",
              "        const dataTable =\n",
              "          await google.colab.kernel.invokeFunction('convertToInteractive',\n",
              "                                                    [key], {});\n",
              "        if (!dataTable) return;\n",
              "\n",
              "        const docLinkHtml = 'Like what you see? Visit the ' +\n",
              "          '<a target=\"_blank\" href=https://colab.research.google.com/notebooks/data_table.ipynb>data table notebook</a>'\n",
              "          + ' to learn more about interactive tables.';\n",
              "        element.innerHTML = '';\n",
              "        dataTable['output_type'] = 'display_data';\n",
              "        await google.colab.output.renderOutput(dataTable, element);\n",
              "        const docLink = document.createElement('div');\n",
              "        docLink.innerHTML = docLinkHtml;\n",
              "        element.appendChild(docLink);\n",
              "      }\n",
              "    </script>\n",
              "  </div>\n",
              "\n",
              "\n",
              "<div id=\"df-347ba237-bf5a-4a82-b256-67ec62a6c03e\">\n",
              "  <button class=\"colab-df-quickchart\" onclick=\"quickchart('df-347ba237-bf5a-4a82-b256-67ec62a6c03e')\"\n",
              "            title=\"Suggest charts\"\n",
              "            style=\"display:none;\">\n",
              "\n",
              "<svg xmlns=\"http://www.w3.org/2000/svg\" height=\"24px\"viewBox=\"0 0 24 24\"\n",
              "     width=\"24px\">\n",
              "    <g>\n",
              "        <path d=\"M19 3H5c-1.1 0-2 .9-2 2v14c0 1.1.9 2 2 2h14c1.1 0 2-.9 2-2V5c0-1.1-.9-2-2-2zM9 17H7v-7h2v7zm4 0h-2V7h2v10zm4 0h-2v-4h2v4z\"/>\n",
              "    </g>\n",
              "</svg>\n",
              "  </button>\n",
              "\n",
              "<style>\n",
              "  .colab-df-quickchart {\n",
              "      --bg-color: #E8F0FE;\n",
              "      --fill-color: #1967D2;\n",
              "      --hover-bg-color: #E2EBFA;\n",
              "      --hover-fill-color: #174EA6;\n",
              "      --disabled-fill-color: #AAA;\n",
              "      --disabled-bg-color: #DDD;\n",
              "  }\n",
              "\n",
              "  [theme=dark] .colab-df-quickchart {\n",
              "      --bg-color: #3B4455;\n",
              "      --fill-color: #D2E3FC;\n",
              "      --hover-bg-color: #434B5C;\n",
              "      --hover-fill-color: #FFFFFF;\n",
              "      --disabled-bg-color: #3B4455;\n",
              "      --disabled-fill-color: #666;\n",
              "  }\n",
              "\n",
              "  .colab-df-quickchart {\n",
              "    background-color: var(--bg-color);\n",
              "    border: none;\n",
              "    border-radius: 50%;\n",
              "    cursor: pointer;\n",
              "    display: none;\n",
              "    fill: var(--fill-color);\n",
              "    height: 32px;\n",
              "    padding: 0;\n",
              "    width: 32px;\n",
              "  }\n",
              "\n",
              "  .colab-df-quickchart:hover {\n",
              "    background-color: var(--hover-bg-color);\n",
              "    box-shadow: 0 1px 2px rgba(60, 64, 67, 0.3), 0 1px 3px 1px rgba(60, 64, 67, 0.15);\n",
              "    fill: var(--button-hover-fill-color);\n",
              "  }\n",
              "\n",
              "  .colab-df-quickchart-complete:disabled,\n",
              "  .colab-df-quickchart-complete:disabled:hover {\n",
              "    background-color: var(--disabled-bg-color);\n",
              "    fill: var(--disabled-fill-color);\n",
              "    box-shadow: none;\n",
              "  }\n",
              "\n",
              "  .colab-df-spinner {\n",
              "    border: 2px solid var(--fill-color);\n",
              "    border-color: transparent;\n",
              "    border-bottom-color: var(--fill-color);\n",
              "    animation:\n",
              "      spin 1s steps(1) infinite;\n",
              "  }\n",
              "\n",
              "  @keyframes spin {\n",
              "    0% {\n",
              "      border-color: transparent;\n",
              "      border-bottom-color: var(--fill-color);\n",
              "      border-left-color: var(--fill-color);\n",
              "    }\n",
              "    20% {\n",
              "      border-color: transparent;\n",
              "      border-left-color: var(--fill-color);\n",
              "      border-top-color: var(--fill-color);\n",
              "    }\n",
              "    30% {\n",
              "      border-color: transparent;\n",
              "      border-left-color: var(--fill-color);\n",
              "      border-top-color: var(--fill-color);\n",
              "      border-right-color: var(--fill-color);\n",
              "    }\n",
              "    40% {\n",
              "      border-color: transparent;\n",
              "      border-right-color: var(--fill-color);\n",
              "      border-top-color: var(--fill-color);\n",
              "    }\n",
              "    60% {\n",
              "      border-color: transparent;\n",
              "      border-right-color: var(--fill-color);\n",
              "    }\n",
              "    80% {\n",
              "      border-color: transparent;\n",
              "      border-right-color: var(--fill-color);\n",
              "      border-bottom-color: var(--fill-color);\n",
              "    }\n",
              "    90% {\n",
              "      border-color: transparent;\n",
              "      border-bottom-color: var(--fill-color);\n",
              "    }\n",
              "  }\n",
              "</style>\n",
              "\n",
              "  <script>\n",
              "    async function quickchart(key) {\n",
              "      const quickchartButtonEl =\n",
              "        document.querySelector('#' + key + ' button');\n",
              "      quickchartButtonEl.disabled = true;  // To prevent multiple clicks.\n",
              "      quickchartButtonEl.classList.add('colab-df-spinner');\n",
              "      try {\n",
              "        const charts = await google.colab.kernel.invokeFunction(\n",
              "            'suggestCharts', [key], {});\n",
              "      } catch (error) {\n",
              "        console.error('Error during call to suggestCharts:', error);\n",
              "      }\n",
              "      quickchartButtonEl.classList.remove('colab-df-spinner');\n",
              "      quickchartButtonEl.classList.add('colab-df-quickchart-complete');\n",
              "    }\n",
              "    (() => {\n",
              "      let quickchartButtonEl =\n",
              "        document.querySelector('#df-347ba237-bf5a-4a82-b256-67ec62a6c03e button');\n",
              "      quickchartButtonEl.style.display =\n",
              "        google.colab.kernel.accessAllowed ? 'block' : 'none';\n",
              "    })();\n",
              "  </script>\n",
              "</div>\n",
              "    </div>\n",
              "  </div>\n"
            ],
            "application/vnd.google.colaboratory.intrinsic+json": {
              "type": "dataframe",
              "variable_name": "X_train_transformed",
              "summary": "{\n  \"name\": \"X_train_transformed\",\n  \"rows\": 53,\n  \"fields\": [\n    {\n      \"column\": \"Fecha\",\n      \"properties\": {\n        \"dtype\": \"date\",\n        \"min\": \"2018-02-01 00:00:00\",\n        \"max\": \"2022-06-01 00:00:00\",\n        \"num_unique_values\": 53,\n        \"samples\": [\n          \"2019-09-01 00:00:00\",\n          \"2021-07-01 00:00:00\",\n          \"2022-01-01 00:00:00\"\n        ],\n        \"semantic_type\": \"\",\n        \"description\": \"\"\n      }\n    },\n    {\n      \"column\": \"Compraventa_Unitario\",\n      \"properties\": {\n        \"dtype\": \"number\",\n        \"std\": 168.90370433561313,\n        \"min\": -588.4666666666672,\n        \"max\": 551.1666666666661,\n        \"num_unique_values\": 18,\n        \"samples\": [\n          0.0,\n          450.96666666666624,\n          -588.4666666666672\n        ],\n        \"semantic_type\": \"\",\n        \"description\": \"\"\n      }\n    },\n    {\n      \"column\": \"Pm25\",\n      \"properties\": {\n        \"dtype\": \"number\",\n        \"std\": 0.08353297761360767,\n        \"min\": -0.5146985550572991,\n        \"max\": 0.3109118086696563,\n        \"num_unique_values\": 5,\n        \"samples\": [\n          0.03388141504733433,\n          0.3109118086696563,\n          -0.5146985550572991\n        ],\n        \"semantic_type\": \"\",\n        \"description\": \"\"\n      }\n    }\n  ]\n}"
            }
          },
          "metadata": {},
          "execution_count": 22
        }
      ]
    },
    {
      "cell_type": "code",
      "source": [
        "# Plot\n",
        "fig, axes = plt.subplots(nrows=2, ncols=1, dpi=120, figsize=(12,6))\n",
        "for i, ax in enumerate(axes.flatten()):\n",
        "    data = X_train_transformed[X_train_transformed.columns[i]]\n",
        "    ax.plot(data, color='red', linewidth=1)\n",
        "    # Decorations\n",
        "    ax.set_title(X_train_transformed.columns[i])\n",
        "    ax.xaxis.set_ticks_position('none')\n",
        "    ax.yaxis.set_ticks_position('none')\n",
        "    ax.spines[\"top\"].set_alpha(0)\n",
        "    ax.tick_params(labelsize=6)\n",
        "\n",
        "plt.tight_layout();"
      ],
      "metadata": {
        "colab": {
          "base_uri": "https://localhost:8080/",
          "height": 724
        },
        "outputId": "4d8bcc8e-85a7-471e-eb4c-70194d82296b",
        "id": "uNAzRfy52eTi"
      },
      "execution_count": 23,
      "outputs": [
        {
          "output_type": "display_data",
          "data": {
            "text/plain": [
              "<Figure size 1440x720 with 2 Axes>"
            ],
            "image/png": "[encoded data removed]"
          },
          "metadata": {}
        }
      ]
    },
    {
      "cell_type": "code",
      "source": [
        "print('Test de Dickey-Fuller Aumentado 2da vez:')\n",
        "for i in range(len(X_train_transformed.columns)):\n",
        "  print('Serie de tiempo transformada', 'Variable', X_train_transformed.columns[i])\n",
        "  augmented_dickey_fuller_statistics(X_train_transformed.iloc[:,i])"
      ],
      "metadata": {
        "colab": {
          "base_uri": "https://localhost:8080/"
        },
        "outputId": "f05689fb-53b6-43a4-ee9e-afa2efae379f",
        "id": "avuQh79F2eTj"
      },
      "execution_count": 24,
      "outputs": [
        {
          "output_type": "stream",
          "name": "stdout",
          "text": [
            "Test de Dickey-Fuller Aumentado 2da vez:\n",
            "Serie de tiempo transformada Variable Compraventa_Unitario\n",
            "p-value: 0.000000\n",
            "Serie de tiempo transformada Variable Pm25\n",
            "p-value: 0.000000\n"
          ]
        }
      ]
    },
    {
      "cell_type": "markdown",
      "source": [
        "Todos los p-valores son < 0.05 por lo tanto se podría concluir que con 1 orden de diferenciación se obtienen series estacionarias."
      ],
      "metadata": {
        "id": "GjcPS80V2eTj"
      }
    },
    {
      "cell_type": "markdown",
      "source": [
        "### Modelo VAR"
      ],
      "metadata": {
        "id": "NwY4i2qnaNTw"
      }
    },
    {
      "cell_type": "markdown",
      "source": [
        "El modelo VAR es una extension del modelo ARIMA para multiples series temporales, es decir en vez de modelar una sola srie temporal, el VAR modela simultaneamente todas las series temporales de un sistema.\n",
        "Cada serie temporal se regresa en función de usus propios valores pasados y de los valores pasados de las otras series temporales.\n",
        "\n",
        "\n",
        "\n"
      ],
      "metadata": {
        "id": "0VwfWqC6aSvt"
      }
    },
    {
      "cell_type": "code",
      "source": [
        "from statsmodels.tsa.api import VAR"
      ],
      "metadata": {
        "id": "QxGyonaXNP7g"
      },
      "execution_count": 25,
      "outputs": []
    },
    {
      "cell_type": "code",
      "source": [
        "model = VAR(X_train_transformed)"
      ],
      "metadata": {
        "id": "fOh-XBdpNTl_",
        "colab": {
          "base_uri": "https://localhost:8080/"
        },
        "outputId": "073b3952-4946-4ad8-c138-040347efb63a"
      },
      "execution_count": 26,
      "outputs": [
        {
          "output_type": "stream",
          "name": "stderr",
          "text": [
            "/usr/local/lib/python3.10/dist-packages/statsmodels/tsa/base/tsa_model.py:473: ValueWarning: No frequency information was provided, so inferred frequency MS will be used.\n",
            "  self._init_dates(dates, freq)\n"
          ]
        }
      ]
    },
    {
      "cell_type": "markdown",
      "source": [
        "#### Seleccionando el orden del modelo"
      ],
      "metadata": {
        "id": "kDdnofXtacuY"
      }
    },
    {
      "cell_type": "code",
      "source": [
        "modelsel=model.select_order(8)\n",
        "modelsel.summary()"
      ],
      "metadata": {
        "colab": {
          "base_uri": "https://localhost:8080/",
          "height": 257
        },
        "id": "vwWHPsSUamSH",
        "outputId": "0d089b58-2e24-423f-e82e-61a6fb2e6e63"
      },
      "execution_count": 27,
      "outputs": [
        {
          "output_type": "execute_result",
          "data": {
            "text/plain": [
              "<class 'statsmodels.iolib.table.SimpleTable'>"
            ],
            "text/html": [
              "<table class=\"simpletable\">\n",
              "<caption>VAR Order Selection (* highlights the minimums)</caption>\n",
              "<tr>\n",
              "  <td></td>      <th>AIC</th>         <th>BIC</th>         <th>FPE</th>        <th>HQIC</th>    \n",
              "</tr>\n",
              "<tr>\n",
              "  <th>0</th> <td>     5.456*</td> <td>     5.536*</td> <td>     234.2*</td> <td>     5.486*</td>\n",
              "</tr>\n",
              "<tr>\n",
              "  <th>1</th> <td>     5.634</td>  <td>     5.875</td>  <td>     279.8</td>  <td>     5.724</td> \n",
              "</tr>\n",
              "<tr>\n",
              "  <th>2</th> <td>     5.811</td>  <td>     6.213</td>  <td>     334.7</td>  <td>     5.961</td> \n",
              "</tr>\n",
              "<tr>\n",
              "  <th>3</th> <td>     5.859</td>  <td>     6.421</td>  <td>     352.0</td>  <td>     6.068</td> \n",
              "</tr>\n",
              "<tr>\n",
              "  <th>4</th> <td>     6.036</td>  <td>     6.759</td>  <td>     422.9</td>  <td>     6.306</td> \n",
              "</tr>\n",
              "<tr>\n",
              "  <th>5</th> <td>     6.214</td>  <td>     7.097</td>  <td>     509.8</td>  <td>     6.543</td> \n",
              "</tr>\n",
              "<tr>\n",
              "  <th>6</th> <td>     6.189</td>  <td>     7.233</td>  <td>     504.0</td>  <td>     6.578</td> \n",
              "</tr>\n",
              "<tr>\n",
              "  <th>7</th> <td>     6.362</td>  <td>     7.567</td>  <td>     611.1</td>  <td>     6.811</td> \n",
              "</tr>\n",
              "<tr>\n",
              "  <th>8</th> <td>     6.534</td>  <td>     7.899</td>  <td>     744.8</td>  <td>     7.043</td> \n",
              "</tr>\n",
              "</table>"
            ],
            "text/latex": "\\begin{center}\n\\begin{tabular}{lcccc}\n\\toprule\n           & \\textbf{AIC} & \\textbf{BIC} & \\textbf{FPE} & \\textbf{HQIC}  \\\\\n\\midrule\n\\textbf{0} &      5.456*  &      5.536*  &      234.2*  &       5.486*   \\\\\n\\textbf{1} &       5.634  &       5.875  &       279.8  &        5.724   \\\\\n\\textbf{2} &       5.811  &       6.213  &       334.7  &        5.961   \\\\\n\\textbf{3} &       5.859  &       6.421  &       352.0  &        6.068   \\\\\n\\textbf{4} &       6.036  &       6.759  &       422.9  &        6.306   \\\\\n\\textbf{5} &       6.214  &       7.097  &       509.8  &        6.543   \\\\\n\\textbf{6} &       6.189  &       7.233  &       504.0  &        6.578   \\\\\n\\textbf{7} &       6.362  &       7.567  &       611.1  &        6.811   \\\\\n\\textbf{8} &       6.534  &       7.899  &       744.8  &        7.043   \\\\\n\\bottomrule\n\\end{tabular}\n%\\caption{VAR Order Selection (* highlights the minimums)}\n\\end{center}"
          },
          "metadata": {},
          "execution_count": 27
        }
      ]
    },
    {
      "cell_type": "markdown",
      "source": [
        "Basado en todos estos criterios, el modelo VAR de orden 0 sería el seleccionado. Esto podría sugerir que las variables no presentan dependencias significativas de sus propios valores pasados o entre sí a intervalos de tiempo anteriores. Sin embargo, este resultado es inusual por lo que se probara con otro select_order. Este resultado tampoco es extraño, dada que la longitud de las series temporales es muy reducida."
      ],
      "metadata": {
        "id": "wozzizEsMQZS"
      }
    },
    {
      "cell_type": "code",
      "source": [
        "modelsel=model.select_order(12)\n",
        "modelsel.summary()"
      ],
      "metadata": {
        "colab": {
          "base_uri": "https://localhost:8080/",
          "height": 339
        },
        "id": "vQsF32BnGW8u",
        "outputId": "c348b763-4931-4669-e546-a12db86c129d"
      },
      "execution_count": 28,
      "outputs": [
        {
          "output_type": "execute_result",
          "data": {
            "text/plain": [
              "<class 'statsmodels.iolib.table.SimpleTable'>"
            ],
            "text/html": [
              "<table class=\"simpletable\">\n",
              "<caption>VAR Order Selection (* highlights the minimums)</caption>\n",
              "<tr>\n",
              "   <td></td>      <th>AIC</th>         <th>BIC</th>         <th>FPE</th>        <th>HQIC</th>    \n",
              "</tr>\n",
              "<tr>\n",
              "  <th>0</th>  <td>     5.646*</td> <td>     5.730*</td> <td>     283.2*</td> <td>     5.677*</td>\n",
              "</tr>\n",
              "<tr>\n",
              "  <th>1</th>  <td>     5.841</td>  <td>     6.092</td>  <td>     344.3</td>  <td>     5.932</td> \n",
              "</tr>\n",
              "<tr>\n",
              "  <th>2</th>  <td>     6.036</td>  <td>     6.454</td>  <td>     419.2</td>  <td>     6.188</td> \n",
              "</tr>\n",
              "<tr>\n",
              "  <th>3</th>  <td>     6.100</td>  <td>     6.685</td>  <td>     448.8</td>  <td>     6.313</td> \n",
              "</tr>\n",
              "<tr>\n",
              "  <th>4</th>  <td>     6.295</td>  <td>     7.047</td>  <td>     549.7</td>  <td>     6.569</td> \n",
              "</tr>\n",
              "<tr>\n",
              "  <th>5</th>  <td>     6.490</td>  <td>     7.409</td>  <td>     676.3</td>  <td>     6.825</td> \n",
              "</tr>\n",
              "<tr>\n",
              "  <th>6</th>  <td>     6.445</td>  <td>     7.531</td>  <td>     658.4</td>  <td>     6.840</td> \n",
              "</tr>\n",
              "<tr>\n",
              "  <th>7</th>  <td>     6.636</td>  <td>     7.889</td>  <td>     817.8</td>  <td>     7.092</td> \n",
              "</tr>\n",
              "<tr>\n",
              "  <th>8</th>  <td>     6.825</td>  <td>     8.246</td>  <td>     1024.</td>  <td>     7.343</td> \n",
              "</tr>\n",
              "<tr>\n",
              "  <th>9</th>  <td>     6.293</td>  <td>     7.882</td>  <td>     630.4</td>  <td>     6.872</td> \n",
              "</tr>\n",
              "<tr>\n",
              "  <th>10</th> <td>     6.484</td>  <td>     8.239</td>  <td>     810.6</td>  <td>     7.123</td> \n",
              "</tr>\n",
              "<tr>\n",
              "  <th>11</th> <td>     6.673</td>  <td>     8.595</td>  <td>     1060.</td>  <td>     7.373</td> \n",
              "</tr>\n",
              "<tr>\n",
              "  <th>12</th> <td>     6.438</td>  <td>     8.528</td>  <td>     928.2</td>  <td>     7.199</td> \n",
              "</tr>\n",
              "</table>"
            ],
            "text/latex": "\\begin{center}\n\\begin{tabular}{lcccc}\n\\toprule\n            & \\textbf{AIC} & \\textbf{BIC} & \\textbf{FPE} & \\textbf{HQIC}  \\\\\n\\midrule\n\\textbf{0}  &      5.646*  &      5.730*  &      283.2*  &       5.677*   \\\\\n\\textbf{1}  &       5.841  &       6.092  &       344.3  &        5.932   \\\\\n\\textbf{2}  &       6.036  &       6.454  &       419.2  &        6.188   \\\\\n\\textbf{3}  &       6.100  &       6.685  &       448.8  &        6.313   \\\\\n\\textbf{4}  &       6.295  &       7.047  &       549.7  &        6.569   \\\\\n\\textbf{5}  &       6.490  &       7.409  &       676.3  &        6.825   \\\\\n\\textbf{6}  &       6.445  &       7.531  &       658.4  &        6.840   \\\\\n\\textbf{7}  &       6.636  &       7.889  &       817.8  &        7.092   \\\\\n\\textbf{8}  &       6.825  &       8.246  &       1024.  &        7.343   \\\\\n\\textbf{9}  &       6.293  &       7.882  &       630.4  &        6.872   \\\\\n\\textbf{10} &       6.484  &       8.239  &       810.6  &        7.123   \\\\\n\\textbf{11} &       6.673  &       8.595  &       1060.  &        7.373   \\\\\n\\textbf{12} &       6.438  &       8.528  &       928.2  &        7.199   \\\\\n\\bottomrule\n\\end{tabular}\n%\\caption{VAR Order Selection (* highlights the minimums)}\n\\end{center}"
          },
          "metadata": {},
          "execution_count": 28
        }
      ]
    },
    {
      "cell_type": "markdown",
      "source": [
        "#### Ajustando el modelo"
      ],
      "metadata": {
        "id": "hAeKlnonlm_N"
      }
    },
    {
      "cell_type": "code",
      "source": [
        "res = model.fit(maxlags=6)\n",
        "res.summary()"
      ],
      "metadata": {
        "colab": {
          "base_uri": "https://localhost:8080/"
        },
        "id": "fCWBWJIolkt7",
        "outputId": "1abf006f-a13f-4999-c2ee-663d2f9a23f4"
      },
      "execution_count": 29,
      "outputs": [
        {
          "output_type": "execute_result",
          "data": {
            "text/plain": [
              "  Summary of Regression Results   \n",
              "==================================\n",
              "Model:                         VAR\n",
              "Method:                        OLS\n",
              "Date:           Sat, 18, May, 2024\n",
              "Time:                     09:48:16\n",
              "--------------------------------------------------------------------\n",
              "No. of Equations:         2.00000    BIC:                    7.07668\n",
              "Nobs:                     47.0000    HQIC:                   6.43834\n",
              "Log likelihood:          -249.630    FPE:                    438.245\n",
              "AIC:                      6.05319    Det(Omega_mle):         268.912\n",
              "--------------------------------------------------------------------\n",
              "Results for equation Compraventa_Unitario\n",
              "==========================================================================================\n",
              "                             coefficient       std. error           t-stat            prob\n",
              "------------------------------------------------------------------------------------------\n",
              "const                          14.942369        27.231793            0.549           0.583\n",
              "L1.Compraventa_Unitario        -0.013466         0.164195           -0.082           0.935\n",
              "L1.Pm25                        14.108445       295.114624            0.048           0.962\n",
              "L2.Compraventa_Unitario        -0.013466         0.164195           -0.082           0.935\n",
              "L2.Pm25                        14.108445       295.114624            0.048           0.962\n",
              "L3.Compraventa_Unitario        -0.342759         0.180580           -1.898           0.058\n",
              "L3.Pm25                       540.670696       298.166486            1.813           0.070\n",
              "L4.Compraventa_Unitario        -0.011911         0.167513           -0.071           0.943\n",
              "L4.Pm25                        19.184223       306.825571            0.063           0.950\n",
              "L5.Compraventa_Unitario        -0.011911         0.167513           -0.071           0.943\n",
              "L5.Pm25                        19.184223       306.825571            0.063           0.950\n",
              "L6.Compraventa_Unitario        -0.167253         0.219051           -0.764           0.445\n",
              "L6.Pm25                      -504.016431       431.738951           -1.167           0.243\n",
              "==========================================================================================\n",
              "\n",
              "Results for equation Pm25\n",
              "==========================================================================================\n",
              "                             coefficient       std. error           t-stat            prob\n",
              "------------------------------------------------------------------------------------------\n",
              "const                          -0.009572         0.016198           -0.591           0.555\n",
              "L1.Compraventa_Unitario         0.000009         0.000098            0.088           0.930\n",
              "L1.Pm25                        -0.009038         0.175539           -0.051           0.959\n",
              "L2.Compraventa_Unitario         0.000009         0.000098            0.088           0.930\n",
              "L2.Pm25                        -0.009038         0.175539           -0.051           0.959\n",
              "L3.Compraventa_Unitario        -0.000040         0.000107           -0.372           0.710\n",
              "L3.Pm25                         0.024678         0.177355            0.139           0.889\n",
              "L4.Compraventa_Unitario         0.000008         0.000100            0.077           0.939\n",
              "L4.Pm25                        -0.012290         0.182505           -0.067           0.946\n",
              "L5.Compraventa_Unitario         0.000008         0.000100            0.077           0.939\n",
              "L5.Pm25                        -0.012290         0.182505           -0.067           0.946\n",
              "L6.Compraventa_Unitario         0.000139         0.000130            1.068           0.286\n",
              "L6.Pm25                        -0.185590         0.256806           -0.723           0.470\n",
              "==========================================================================================\n",
              "\n",
              "Correlation matrix of residuals\n",
              "                        Compraventa_Unitario      Pm25\n",
              "Compraventa_Unitario                1.000000  0.321431\n",
              "Pm25                                0.321431  1.000000\n",
              "\n"
            ]
          },
          "metadata": {},
          "execution_count": 29
        }
      ]
    },
    {
      "cell_type": "markdown",
      "source": [
        "La correlación entre los residuos de \"Compraventa_Unitario\" y los residuos de \"Pm25\" es de 0.628909, lo que sugiere una correlación positiva alta entre los residuos de estas dos variables en el modelo."
      ],
      "metadata": {
        "id": "St6EOWfjZgYw"
      }
    },
    {
      "cell_type": "code",
      "source": [
        "res.is_stable()"
      ],
      "metadata": {
        "colab": {
          "base_uri": "https://localhost:8080/"
        },
        "id": "xlEorsdSNltI",
        "outputId": "4f7f4c41-2679-4d06-b0e3-1b812ccf5028"
      },
      "execution_count": 30,
      "outputs": [
        {
          "output_type": "execute_result",
          "data": {
            "text/plain": [
              "True"
            ]
          },
          "metadata": {},
          "execution_count": 30
        }
      ]
    },
    {
      "cell_type": "code",
      "source": [
        "X_train.columns"
      ],
      "metadata": {
        "colab": {
          "base_uri": "https://localhost:8080/"
        },
        "id": "7tDQSMh_mGv5",
        "outputId": "8159bde4-4941-4361-94c5-a6f3f1060365"
      },
      "execution_count": 31,
      "outputs": [
        {
          "output_type": "execute_result",
          "data": {
            "text/plain": [
              "Index(['Compraventa_Unitario', 'Pm25'], dtype='object')"
            ]
          },
          "metadata": {},
          "execution_count": 31
        }
      ]
    },
    {
      "cell_type": "markdown",
      "source": [
        "###### Causalidad de Granger"
      ],
      "metadata": {
        "id": "UeWh9NUMmOsp"
      }
    },
    {
      "cell_type": "code",
      "source": [
        "grangercaus=res.test_causality(['Pm25'],['Compraventa_Unitario'],kind='f')\n",
        "grangercaus.summary()"
      ],
      "metadata": {
        "colab": {
          "base_uri": "https://localhost:8080/",
          "height": 128
        },
        "id": "FFpAEu7nmN73",
        "outputId": "602a4e5f-231f-4fd9-d65d-88ab60e559b8"
      },
      "execution_count": 32,
      "outputs": [
        {
          "output_type": "execute_result",
          "data": {
            "text/plain": [
              "<class 'statsmodels.iolib.table.SimpleTable'>"
            ],
            "text/html": [
              "<table class=\"simpletable\">\n",
              "<caption>Granger causality F-test. H_0: Compraventa_Unitario does not Granger-cause Pm25. Conclusion: fail to reject H_0 at 5% significance level.</caption>\n",
              "<tr>\n",
              "  <th>Test statistic</th> <th>Critical value</th> <th>p-value</th>   <th>df</th>   \n",
              "</tr>\n",
              "<tr>\n",
              "      <td>0.2021</td>          <td>2.235</td>      <td>0.975</td>  <td>(6, 68)</td>\n",
              "</tr>\n",
              "</table>"
            ],
            "text/latex": "\\begin{center}\n\\begin{tabular}{cccc}\n\\toprule\n\\textbf{Test statistic} & \\textbf{Critical value} & \\textbf{p-value} & \\textbf{df}  \\\\\n\\midrule\n         0.2021         &          2.235          &      0.975       &   (6, 68)    \\\\\n\\bottomrule\n\\end{tabular}\n%\\caption{Granger causality F-test. H_0: Compraventa_Unitario does not Granger-cause Pm25. Conclusion: fail to reject H_0 at 5% significance level.}\n\\end{center}"
          },
          "metadata": {},
          "execution_count": 32
        }
      ]
    },
    {
      "cell_type": "code",
      "source": [
        "grangercaus=res.test_causality(['Compraventa_Unitario'],['Pm25'],kind='f')\n",
        "grangercaus.summary()"
      ],
      "metadata": {
        "colab": {
          "base_uri": "https://localhost:8080/",
          "height": 128
        },
        "id": "d_xNfS2umz-Y",
        "outputId": "e23a3b68-c632-4fe5-de9a-ebf50df55604"
      },
      "execution_count": 33,
      "outputs": [
        {
          "output_type": "execute_result",
          "data": {
            "text/plain": [
              "<class 'statsmodels.iolib.table.SimpleTable'>"
            ],
            "text/html": [
              "<table class=\"simpletable\">\n",
              "<caption>Granger causality F-test. H_0: Pm25 does not Granger-cause Compraventa_Unitario. Conclusion: fail to reject H_0 at 5% significance level.</caption>\n",
              "<tr>\n",
              "  <th>Test statistic</th> <th>Critical value</th> <th>p-value</th>   <th>df</th>   \n",
              "</tr>\n",
              "<tr>\n",
              "      <td>0.7428</td>          <td>2.235</td>      <td>0.617</td>  <td>(6, 68)</td>\n",
              "</tr>\n",
              "</table>"
            ],
            "text/latex": "\\begin{center}\n\\begin{tabular}{cccc}\n\\toprule\n\\textbf{Test statistic} & \\textbf{Critical value} & \\textbf{p-value} & \\textbf{df}  \\\\\n\\midrule\n         0.7428         &          2.235          &      0.617       &   (6, 68)    \\\\\n\\bottomrule\n\\end{tabular}\n%\\caption{Granger causality F-test. H_0: Pm25 does not Granger-cause Compraventa_Unitario. Conclusion: fail to reject H_0 at 5% significance level.}\n\\end{center}"
          },
          "metadata": {},
          "execution_count": 33
        }
      ]
    },
    {
      "cell_type": "markdown",
      "source": [
        "Como se puede observar, la causalidad de Granger nos indica que ninguna de las series temporales puede predecir la otra serie temporal"
      ],
      "metadata": {
        "id": "deyfDA4UeXxJ"
      }
    },
    {
      "cell_type": "markdown",
      "source": [
        "###### Matriz de causalidad de Granger\n"
      ],
      "metadata": {
        "id": "WNGM-fVxm8bh"
      }
    },
    {
      "cell_type": "code",
      "source": [
        "import pandas as pd\n",
        "import numpy as np\n",
        "from statsmodels.tsa.stattools import grangercausalitytests\n",
        "import warnings\n",
        "warnings.filterwarnings(\"ignore\")\n",
        "maxlag=12\n",
        "test = 'ssr_chi2test'\n",
        "def grangers_causality_matrix(X_train_transformed, variables, test = 'ssr_chi2test', verbose=False):\n",
        "  dataset = pd.DataFrame(np.zeros((len(variables), len(variables))), columns=variables, index=variables)\n",
        "  for c in dataset.columns:\n",
        "    for r in dataset.index:\n",
        "      test_result = grangercausalitytests(X_train_transformed[[r,c]], maxlag=maxlag, verbose=False)\n",
        "      p_values = [round(test_result[i+1][0][test][1],4) for i in range(maxlag)]\n",
        "      if verbose:\n",
        "        print(f'Y = {r}, X = {c}, P Values = {p_values}')\n",
        "      min_p_value = np.min(p_values)\n",
        "      dataset.loc[r,c] = min_p_value\n",
        "  dataset.columns = [var + '_x' for var in variables]\n",
        "  dataset.index = [var + '_y' for var in variables]\n",
        "  return dataset\n",
        "grangers_causality_matrix(X_train_transformed, variables = X_train_transformed.columns)"
      ],
      "metadata": {
        "colab": {
          "base_uri": "https://localhost:8080/",
          "height": 112
        },
        "id": "EsRJys5vnAGl",
        "outputId": "360e39fd-3a1c-4c94-dd5b-b8acf0664bed"
      },
      "execution_count": 34,
      "outputs": [
        {
          "output_type": "execute_result",
          "data": {
            "text/plain": [
              "                        Compraventa_Unitario_x  Pm25_x\n",
              "Compraventa_Unitario_y                  1.0000     0.0\n",
              "Pm25_y                                  0.8072     1.0"
            ],
            "text/html": [
              "\n",
              "  <div id=\"df-bbdfaf5c-76d0-4184-bac1-c6a65fa9fdeb\" class=\"colab-df-container\">\n",
              "    <div>\n",
              "<style scoped>\n",
              "    .dataframe tbody tr th:only-of-type {\n",
              "        vertical-align: middle;\n",
              "    }\n",
              "\n",
              "    .dataframe tbody tr th {\n",
              "        vertical-align: top;\n",
              "    }\n",
              "\n",
              "    .dataframe thead th {\n",
              "        text-align: right;\n",
              "    }\n",
              "</style>\n",
              "<table border=\"1\" class=\"dataframe\">\n",
              "  <thead>\n",
              "    <tr style=\"text-align: right;\">\n",
              "      <th></th>\n",
              "      <th>Compraventa_Unitario_x</th>\n",
              "      <th>Pm25_x</th>\n",
              "    </tr>\n",
              "  </thead>\n",
              "  <tbody>\n",
              "    <tr>\n",
              "      <th>Compraventa_Unitario_y</th>\n",
              "      <td>1.0000</td>\n",
              "      <td>0.0</td>\n",
              "    </tr>\n",
              "    <tr>\n",
              "      <th>Pm25_y</th>\n",
              "      <td>0.8072</td>\n",
              "      <td>1.0</td>\n",
              "    </tr>\n",
              "  </tbody>\n",
              "</table>\n",
              "</div>\n",
              "    <div class=\"colab-df-buttons\">\n",
              "\n",
              "  <div class=\"colab-df-container\">\n",
              "    <button class=\"colab-df-convert\" onclick=\"convertToInteractive('df-bbdfaf5c-76d0-4184-bac1-c6a65fa9fdeb')\"\n",
              "            title=\"Convert this dataframe to an interactive table.\"\n",
              "            style=\"display:none;\">\n",
              "\n",
              "  <svg xmlns=\"http://www.w3.org/2000/svg\" height=\"24px\" viewBox=\"0 -960 960 960\">\n",
              "    <path d=\"M120-120v-720h720v720H120Zm60-500h600v-160H180v160Zm220 220h160v-160H400v160Zm0 220h160v-160H400v160ZM180-400h160v-160H180v160Zm440 0h160v-160H620v160ZM180-180h160v-160H180v160Zm440 0h160v-160H620v160Z\"/>\n",
              "  </svg>\n",
              "    </button>\n",
              "\n",
              "  <style>\n",
              "    .colab-df-container {\n",
              "      display:flex;\n",
              "      gap: 12px;\n",
              "    }\n",
              "\n",
              "    .colab-df-convert {\n",
              "      background-color: #E8F0FE;\n",
              "      border: none;\n",
              "      border-radius: 50%;\n",
              "      cursor: pointer;\n",
              "      display: none;\n",
              "      fill: #1967D2;\n",
              "      height: 32px;\n",
              "      padding: 0 0 0 0;\n",
              "      width: 32px;\n",
              "    }\n",
              "\n",
              "    .colab-df-convert:hover {\n",
              "      background-color: #E2EBFA;\n",
              "      box-shadow: 0px 1px 2px rgba(60, 64, 67, 0.3), 0px 1px 3px 1px rgba(60, 64, 67, 0.15);\n",
              "      fill: #174EA6;\n",
              "    }\n",
              "\n",
              "    .colab-df-buttons div {\n",
              "      margin-bottom: 4px;\n",
              "    }\n",
              "\n",
              "    [theme=dark] .colab-df-convert {\n",
              "      background-color: #3B4455;\n",
              "      fill: #D2E3FC;\n",
              "    }\n",
              "\n",
              "    [theme=dark] .colab-df-convert:hover {\n",
              "      background-color: #434B5C;\n",
              "      box-shadow: 0px 1px 3px 1px rgba(0, 0, 0, 0.15);\n",
              "      filter: drop-shadow(0px 1px 2px rgba(0, 0, 0, 0.3));\n",
              "      fill: #FFFFFF;\n",
              "    }\n",
              "  </style>\n",
              "\n",
              "    <script>\n",
              "      const buttonEl =\n",
              "        document.querySelector('#df-bbdfaf5c-76d0-4184-bac1-c6a65fa9fdeb button.colab-df-convert');\n",
              "      buttonEl.style.display =\n",
              "        google.colab.kernel.accessAllowed ? 'block' : 'none';\n",
              "\n",
              "      async function convertToInteractive(key) {\n",
              "        const element = document.querySelector('#df-bbdfaf5c-76d0-4184-bac1-c6a65fa9fdeb');\n",
              "        const dataTable =\n",
              "          await google.colab.kernel.invokeFunction('convertToInteractive',\n",
              "                                                    [key], {});\n",
              "        if (!dataTable) return;\n",
              "\n",
              "        const docLinkHtml = 'Like what you see? Visit the ' +\n",
              "          '<a target=\"_blank\" href=https://colab.research.google.com/notebooks/data_table.ipynb>data table notebook</a>'\n",
              "          + ' to learn more about interactive tables.';\n",
              "        element.innerHTML = '';\n",
              "        dataTable['output_type'] = 'display_data';\n",
              "        await google.colab.output.renderOutput(dataTable, element);\n",
              "        const docLink = document.createElement('div');\n",
              "        docLink.innerHTML = docLinkHtml;\n",
              "        element.appendChild(docLink);\n",
              "      }\n",
              "    </script>\n",
              "  </div>\n",
              "\n",
              "\n",
              "<div id=\"df-5f4ed90e-9ad3-4cf1-8fac-2401d9a1763a\">\n",
              "  <button class=\"colab-df-quickchart\" onclick=\"quickchart('df-5f4ed90e-9ad3-4cf1-8fac-2401d9a1763a')\"\n",
              "            title=\"Suggest charts\"\n",
              "            style=\"display:none;\">\n",
              "\n",
              "<svg xmlns=\"http://www.w3.org/2000/svg\" height=\"24px\"viewBox=\"0 0 24 24\"\n",
              "     width=\"24px\">\n",
              "    <g>\n",
              "        <path d=\"M19 3H5c-1.1 0-2 .9-2 2v14c0 1.1.9 2 2 2h14c1.1 0 2-.9 2-2V5c0-1.1-.9-2-2-2zM9 17H7v-7h2v7zm4 0h-2V7h2v10zm4 0h-2v-4h2v4z\"/>\n",
              "    </g>\n",
              "</svg>\n",
              "  </button>\n",
              "\n",
              "<style>\n",
              "  .colab-df-quickchart {\n",
              "      --bg-color: #E8F0FE;\n",
              "      --fill-color: #1967D2;\n",
              "      --hover-bg-color: #E2EBFA;\n",
              "      --hover-fill-color: #174EA6;\n",
              "      --disabled-fill-color: #AAA;\n",
              "      --disabled-bg-color: #DDD;\n",
              "  }\n",
              "\n",
              "  [theme=dark] .colab-df-quickchart {\n",
              "      --bg-color: #3B4455;\n",
              "      --fill-color: #D2E3FC;\n",
              "      --hover-bg-color: #434B5C;\n",
              "      --hover-fill-color: #FFFFFF;\n",
              "      --disabled-bg-color: #3B4455;\n",
              "      --disabled-fill-color: #666;\n",
              "  }\n",
              "\n",
              "  .colab-df-quickchart {\n",
              "    background-color: var(--bg-color);\n",
              "    border: none;\n",
              "    border-radius: 50%;\n",
              "    cursor: pointer;\n",
              "    display: none;\n",
              "    fill: var(--fill-color);\n",
              "    height: 32px;\n",
              "    padding: 0;\n",
              "    width: 32px;\n",
              "  }\n",
              "\n",
              "  .colab-df-quickchart:hover {\n",
              "    background-color: var(--hover-bg-color);\n",
              "    box-shadow: 0 1px 2px rgba(60, 64, 67, 0.3), 0 1px 3px 1px rgba(60, 64, 67, 0.15);\n",
              "    fill: var(--button-hover-fill-color);\n",
              "  }\n",
              "\n",
              "  .colab-df-quickchart-complete:disabled,\n",
              "  .colab-df-quickchart-complete:disabled:hover {\n",
              "    background-color: var(--disabled-bg-color);\n",
              "    fill: var(--disabled-fill-color);\n",
              "    box-shadow: none;\n",
              "  }\n",
              "\n",
              "  .colab-df-spinner {\n",
              "    border: 2px solid var(--fill-color);\n",
              "    border-color: transparent;\n",
              "    border-bottom-color: var(--fill-color);\n",
              "    animation:\n",
              "      spin 1s steps(1) infinite;\n",
              "  }\n",
              "\n",
              "  @keyframes spin {\n",
              "    0% {\n",
              "      border-color: transparent;\n",
              "      border-bottom-color: var(--fill-color);\n",
              "      border-left-color: var(--fill-color);\n",
              "    }\n",
              "    20% {\n",
              "      border-color: transparent;\n",
              "      border-left-color: var(--fill-color);\n",
              "      border-top-color: var(--fill-color);\n",
              "    }\n",
              "    30% {\n",
              "      border-color: transparent;\n",
              "      border-left-color: var(--fill-color);\n",
              "      border-top-color: var(--fill-color);\n",
              "      border-right-color: var(--fill-color);\n",
              "    }\n",
              "    40% {\n",
              "      border-color: transparent;\n",
              "      border-right-color: var(--fill-color);\n",
              "      border-top-color: var(--fill-color);\n",
              "    }\n",
              "    60% {\n",
              "      border-color: transparent;\n",
              "      border-right-color: var(--fill-color);\n",
              "    }\n",
              "    80% {\n",
              "      border-color: transparent;\n",
              "      border-right-color: var(--fill-color);\n",
              "      border-bottom-color: var(--fill-color);\n",
              "    }\n",
              "    90% {\n",
              "      border-color: transparent;\n",
              "      border-bottom-color: var(--fill-color);\n",
              "    }\n",
              "  }\n",
              "</style>\n",
              "\n",
              "  <script>\n",
              "    async function quickchart(key) {\n",
              "      const quickchartButtonEl =\n",
              "        document.querySelector('#' + key + ' button');\n",
              "      quickchartButtonEl.disabled = true;  // To prevent multiple clicks.\n",
              "      quickchartButtonEl.classList.add('colab-df-spinner');\n",
              "      try {\n",
              "        const charts = await google.colab.kernel.invokeFunction(\n",
              "            'suggestCharts', [key], {});\n",
              "      } catch (error) {\n",
              "        console.error('Error during call to suggestCharts:', error);\n",
              "      }\n",
              "      quickchartButtonEl.classList.remove('colab-df-spinner');\n",
              "      quickchartButtonEl.classList.add('colab-df-quickchart-complete');\n",
              "    }\n",
              "    (() => {\n",
              "      let quickchartButtonEl =\n",
              "        document.querySelector('#df-5f4ed90e-9ad3-4cf1-8fac-2401d9a1763a button');\n",
              "      quickchartButtonEl.style.display =\n",
              "        google.colab.kernel.accessAllowed ? 'block' : 'none';\n",
              "    })();\n",
              "  </script>\n",
              "</div>\n",
              "    </div>\n",
              "  </div>\n"
            ],
            "application/vnd.google.colaboratory.intrinsic+json": {
              "type": "dataframe",
              "summary": "{\n  \"name\": \"grangers_causality_matrix(X_train_transformed, variables = X_train_transformed\",\n  \"rows\": 2,\n  \"fields\": [\n    {\n      \"column\": \"Compraventa_Unitario_x\",\n      \"properties\": {\n        \"dtype\": \"number\",\n        \"std\": 0.13633018741276634,\n        \"min\": 0.8072,\n        \"max\": 1.0,\n        \"num_unique_values\": 2,\n        \"samples\": [\n          0.8072,\n          1.0\n        ],\n        \"semantic_type\": \"\",\n        \"description\": \"\"\n      }\n    },\n    {\n      \"column\": \"Pm25_x\",\n      \"properties\": {\n        \"dtype\": \"number\",\n        \"std\": 0.7071067811865476,\n        \"min\": 0.0,\n        \"max\": 1.0,\n        \"num_unique_values\": 2,\n        \"samples\": [\n          1.0,\n          0.0\n        ],\n        \"semantic_type\": \"\",\n        \"description\": \"\"\n      }\n    }\n  ]\n}"
            }
          },
          "metadata": {},
          "execution_count": 34
        }
      ]
    },
    {
      "cell_type": "markdown",
      "source": [
        "Con esta matriz queda claro que la serie temporal de Compraventa_Unitario no causa ni es causada por la otra serie temporal de Pm 2.5"
      ],
      "metadata": {
        "id": "wQiupwVinPkB"
      }
    },
    {
      "cell_type": "markdown",
      "source": [
        "#### Diagnosis del modelo\n"
      ],
      "metadata": {
        "id": "nDy2YsunnwBq"
      }
    },
    {
      "cell_type": "markdown",
      "source": [
        "###### Residuos"
      ],
      "metadata": {
        "id": "NGg_mAjNn0qr"
      }
    },
    {
      "cell_type": "code",
      "source": [
        "residuals=res.resid"
      ],
      "metadata": {
        "id": "HBSMx97gn4Hz"
      },
      "execution_count": 35,
      "outputs": []
    },
    {
      "cell_type": "code",
      "source": [
        "fig, axs = plt.subplots(2)\n",
        "fig.suptitle('Gráficos de los residuos',fontsize=20)\n",
        "fig.set_size_inches(18, 10)\n",
        "[axs[i].plot(residuals.iloc[:,i]) for i in range(2)]\n",
        "plt.show()"
      ],
      "metadata": {
        "colab": {
          "base_uri": "https://localhost:8080/",
          "height": 930
        },
        "id": "NfzCXKkYn6Gr",
        "outputId": "f6d064d0-8f51-4f0f-904f-84b39315f871"
      },
      "execution_count": 36,
      "outputs": [
        {
          "output_type": "display_data",
          "data": {
            "text/plain": [
              "<Figure size 1800x1000 with 2 Axes>"
            ],
            "image/png": "[encoded data removed]"
          },
          "metadata": {}
        }
      ]
    },
    {
      "cell_type": "markdown",
      "source": [
        "###### Dickey - Fuller a los residuos\n"
      ],
      "metadata": {
        "id": "t4CKXz8ooG8x"
      }
    },
    {
      "cell_type": "code",
      "source": [
        "print('ADF de los Residuos, p-valores:')\n",
        "[sts.adfuller(residuals.iloc[:,i])[1] for i in range(2)]"
      ],
      "metadata": {
        "colab": {
          "base_uri": "https://localhost:8080/"
        },
        "id": "DLdcLlT6oM4-",
        "outputId": "9fe63669-c32b-4657-e2a2-e20abaf398b1"
      },
      "execution_count": 37,
      "outputs": [
        {
          "output_type": "stream",
          "name": "stdout",
          "text": [
            "ADF de los Residuos, p-valores:\n"
          ]
        },
        {
          "output_type": "execute_result",
          "data": {
            "text/plain": [
              "[5.874406031447765e-09, 4.394549599315821e-09]"
            ]
          },
          "metadata": {},
          "execution_count": 37
        }
      ]
    },
    {
      "cell_type": "markdown",
      "source": [
        "Todos los p-valores son < 0.1 por tanto se rechaza la hipótesis nula de que las 2 series de residuos no son estacionarias, por lo cual con un 90% de confianza se cree que son estacionarias.\n",
        "\n"
      ],
      "metadata": {
        "id": "0qESiPJaoRNc"
      }
    },
    {
      "cell_type": "markdown",
      "source": [
        "###### ACF de los Residuos\n"
      ],
      "metadata": {
        "id": "kYU0qFiLohWE"
      }
    },
    {
      "cell_type": "code",
      "source": [
        "import statsmodels.graphics.tsaplots as sgt\n",
        "[sgt.plot_acf(residuals.iloc[:,i], zero = False, lags = 12) for i in range(2)]\n",
        "plt.show()"
      ],
      "metadata": {
        "colab": {
          "base_uri": "https://localhost:8080/",
          "height": 887
        },
        "id": "mZ837R2AolcE",
        "outputId": "df282bf9-d4c4-4fee-f633-350d458187e8"
      },
      "execution_count": 38,
      "outputs": [
        {
          "output_type": "display_data",
          "data": {
            "text/plain": [
              "<Figure size 640x480 with 1 Axes>"
            ],
            "image/png": "[encoded data removed]"
          },
          "metadata": {}
        },
        {
          "output_type": "display_data",
          "data": {
            "text/plain": [
              "<Figure size 640x480 with 1 Axes>"
            ],
            "image/png": "[encoded data removed]"
          },
          "metadata": {}
        }
      ]
    },
    {
      "cell_type": "markdown",
      "source": [
        "Conclusión: Los residuos del modelo no presentan estructura de autocorrelación, son estacionarios según los resultados de la prueba de Dickey - Fuller aumentada y en los gráficos se puede comprobar esto visualmente, entonces puede concluirse que son ruido blanco como es deseable.\n",
        "\n"
      ],
      "metadata": {
        "id": "M2QR5u5jowwd"
      }
    },
    {
      "cell_type": "markdown",
      "source": [
        "#### Valores predichos\n"
      ],
      "metadata": {
        "id": "9-N1tR5Ao5-p"
      }
    },
    {
      "cell_type": "code",
      "source": [
        "y_fitted = res.fittedvalues\n",
        "fig, axs = plt.subplots(2)\n",
        "fig.suptitle('Gráficos de los valores predichos por el modelo',fontsize=15)\n",
        "fig.set_size_inches(18, 10)\n",
        "[axs[i].plot(y_fitted.iloc[:,i]) for i in range(2)]\n",
        "plt.show()"
      ],
      "metadata": {
        "colab": {
          "base_uri": "https://localhost:8080/",
          "height": 930
        },
        "id": "Szcd4nT5o5Mc",
        "outputId": "38d4728b-d87e-47b9-caef-29c191aaa3fb"
      },
      "execution_count": 39,
      "outputs": [
        {
          "output_type": "display_data",
          "data": {
            "text/plain": [
              "<Figure size 1800x1000 with 2 Axes>"
            ],
            "image/png": "[encoded data removed]"
          },
          "metadata": {}
        }
      ]
    },
    {
      "cell_type": "markdown",
      "source": [
        "#### Pronósticos a futuro\n"
      ],
      "metadata": {
        "id": "JsbNOfsKpOUQ"
      }
    },
    {
      "cell_type": "markdown",
      "source": [
        "Para pronosticar, al modelo VAR le podemos pasar hasta el número de orden de retraso de observaciones de los datos pasados. Esto se debe a que los términos en el modelo VAR son esencialmente los retrasos de las diversas series de tiempo en el conjunto de datos, por lo que debemos proporcionar tantos valores anteriores como lo indique el orden de retraso utilizado por el modelo. De lo contrario estaríamos introduciendo poca fiabilidad.\n",
        "\n"
      ],
      "metadata": {
        "id": "Hqj6dbVEpvIJ"
      }
    },
    {
      "cell_type": "code",
      "source": [
        "# Obtener el orden del modelo\n",
        "lag_order = res.k_ar\n",
        "print('Orden del modelo:', lag_order)\n",
        "# Input data para hacer forecasting (pronósticos a futuro)\n",
        "input_data = X_train_transformed.values[-lag_order:]\n",
        "# Forecasting\n",
        "pred = res.forecast(y=input_data, steps=6)\n",
        "pred = (pd.DataFrame(pred, index=X_test.index, columns=X_test.columns + '_pred'))\n",
        "print('Predicciones:')\n",
        "pred"
      ],
      "metadata": {
        "colab": {
          "base_uri": "https://localhost:8080/",
          "height": 303
        },
        "id": "9FK3DAUTp6hb",
        "outputId": "21e039d0-13fa-4f00-f390-4acb5fddb778"
      },
      "execution_count": 40,
      "outputs": [
        {
          "output_type": "stream",
          "name": "stdout",
          "text": [
            "Orden del modelo: 6\n",
            "Predicciones:\n"
          ]
        },
        {
          "output_type": "execute_result",
          "data": {
            "text/plain": [
              "            Compraventa_Unitario_pred  Pm25_pred\n",
              "Fecha                                           \n",
              "2022-07-01                -261.804922  -0.146591\n",
              "2022-08-01                   9.834700  -0.006300\n",
              "2022-09-01                   9.613376  -0.006158\n",
              "2022-10-01                 -67.201018   0.074236\n",
              "2022-11-01                  10.207238  -0.011429\n",
              "2022-12-01                  10.039393  -0.011211"
            ],
            "text/html": [
              "\n",
              "  <div id=\"df-b3c13304-0010-4174-9b92-1821128db762\" class=\"colab-df-container\">\n",
              "    <div>\n",
              "<style scoped>\n",
              "    .dataframe tbody tr th:only-of-type {\n",
              "        vertical-align: middle;\n",
              "    }\n",
              "\n",
              "    .dataframe tbody tr th {\n",
              "        vertical-align: top;\n",
              "    }\n",
              "\n",
              "    .dataframe thead th {\n",
              "        text-align: right;\n",
              "    }\n",
              "</style>\n",
              "<table border=\"1\" class=\"dataframe\">\n",
              "  <thead>\n",
              "    <tr style=\"text-align: right;\">\n",
              "      <th></th>\n",
              "      <th>Compraventa_Unitario_pred</th>\n",
              "      <th>Pm25_pred</th>\n",
              "    </tr>\n",
              "    <tr>\n",
              "      <th>Fecha</th>\n",
              "      <th></th>\n",
              "      <th></th>\n",
              "    </tr>\n",
              "  </thead>\n",
              "  <tbody>\n",
              "    <tr>\n",
              "      <th>2022-07-01</th>\n",
              "      <td>-261.804922</td>\n",
              "      <td>-0.146591</td>\n",
              "    </tr>\n",
              "    <tr>\n",
              "      <th>2022-08-01</th>\n",
              "      <td>9.834700</td>\n",
              "      <td>-0.006300</td>\n",
              "    </tr>\n",
              "    <tr>\n",
              "      <th>2022-09-01</th>\n",
              "      <td>9.613376</td>\n",
              "      <td>-0.006158</td>\n",
              "    </tr>\n",
              "    <tr>\n",
              "      <th>2022-10-01</th>\n",
              "      <td>-67.201018</td>\n",
              "      <td>0.074236</td>\n",
              "    </tr>\n",
              "    <tr>\n",
              "      <th>2022-11-01</th>\n",
              "      <td>10.207238</td>\n",
              "      <td>-0.011429</td>\n",
              "    </tr>\n",
              "    <tr>\n",
              "      <th>2022-12-01</th>\n",
              "      <td>10.039393</td>\n",
              "      <td>-0.011211</td>\n",
              "    </tr>\n",
              "  </tbody>\n",
              "</table>\n",
              "</div>\n",
              "    <div class=\"colab-df-buttons\">\n",
              "\n",
              "  <div class=\"colab-df-container\">\n",
              "    <button class=\"colab-df-convert\" onclick=\"convertToInteractive('df-b3c13304-0010-4174-9b92-1821128db762')\"\n",
              "            title=\"Convert this dataframe to an interactive table.\"\n",
              "            style=\"display:none;\">\n",
              "\n",
              "  <svg xmlns=\"http://www.w3.org/2000/svg\" height=\"24px\" viewBox=\"0 -960 960 960\">\n",
              "    <path d=\"M120-120v-720h720v720H120Zm60-500h600v-160H180v160Zm220 220h160v-160H400v160Zm0 220h160v-160H400v160ZM180-400h160v-160H180v160Zm440 0h160v-160H620v160ZM180-180h160v-160H180v160Zm440 0h160v-160H620v160Z\"/>\n",
              "  </svg>\n",
              "    </button>\n",
              "\n",
              "  <style>\n",
              "    .colab-df-container {\n",
              "      display:flex;\n",
              "      gap: 12px;\n",
              "    }\n",
              "\n",
              "    .colab-df-convert {\n",
              "      background-color: #E8F0FE;\n",
              "      border: none;\n",
              "      border-radius: 50%;\n",
              "      cursor: pointer;\n",
              "      display: none;\n",
              "      fill: #1967D2;\n",
              "      height: 32px;\n",
              "      padding: 0 0 0 0;\n",
              "      width: 32px;\n",
              "    }\n",
              "\n",
              "    .colab-df-convert:hover {\n",
              "      background-color: #E2EBFA;\n",
              "      box-shadow: 0px 1px 2px rgba(60, 64, 67, 0.3), 0px 1px 3px 1px rgba(60, 64, 67, 0.15);\n",
              "      fill: #174EA6;\n",
              "    }\n",
              "\n",
              "    .colab-df-buttons div {\n",
              "      margin-bottom: 4px;\n",
              "    }\n",
              "\n",
              "    [theme=dark] .colab-df-convert {\n",
              "      background-color: #3B4455;\n",
              "      fill: #D2E3FC;\n",
              "    }\n",
              "\n",
              "    [theme=dark] .colab-df-convert:hover {\n",
              "      background-color: #434B5C;\n",
              "      box-shadow: 0px 1px 3px 1px rgba(0, 0, 0, 0.15);\n",
              "      filter: drop-shadow(0px 1px 2px rgba(0, 0, 0, 0.3));\n",
              "      fill: #FFFFFF;\n",
              "    }\n",
              "  </style>\n",
              "\n",
              "    <script>\n",
              "      const buttonEl =\n",
              "        document.querySelector('#df-b3c13304-0010-4174-9b92-1821128db762 button.colab-df-convert');\n",
              "      buttonEl.style.display =\n",
              "        google.colab.kernel.accessAllowed ? 'block' : 'none';\n",
              "\n",
              "      async function convertToInteractive(key) {\n",
              "        const element = document.querySelector('#df-b3c13304-0010-4174-9b92-1821128db762');\n",
              "        const dataTable =\n",
              "          await google.colab.kernel.invokeFunction('convertToInteractive',\n",
              "                                                    [key], {});\n",
              "        if (!dataTable) return;\n",
              "\n",
              "        const docLinkHtml = 'Like what you see? Visit the ' +\n",
              "          '<a target=\"_blank\" href=https://colab.research.google.com/notebooks/data_table.ipynb>data table notebook</a>'\n",
              "          + ' to learn more about interactive tables.';\n",
              "        element.innerHTML = '';\n",
              "        dataTable['output_type'] = 'display_data';\n",
              "        await google.colab.output.renderOutput(dataTable, element);\n",
              "        const docLink = document.createElement('div');\n",
              "        docLink.innerHTML = docLinkHtml;\n",
              "        element.appendChild(docLink);\n",
              "      }\n",
              "    </script>\n",
              "  </div>\n",
              "\n",
              "\n",
              "<div id=\"df-16c35d9f-cede-44a0-8c25-d7f351b4aa55\">\n",
              "  <button class=\"colab-df-quickchart\" onclick=\"quickchart('df-16c35d9f-cede-44a0-8c25-d7f351b4aa55')\"\n",
              "            title=\"Suggest charts\"\n",
              "            style=\"display:none;\">\n",
              "\n",
              "<svg xmlns=\"http://www.w3.org/2000/svg\" height=\"24px\"viewBox=\"0 0 24 24\"\n",
              "     width=\"24px\">\n",
              "    <g>\n",
              "        <path d=\"M19 3H5c-1.1 0-2 .9-2 2v14c0 1.1.9 2 2 2h14c1.1 0 2-.9 2-2V5c0-1.1-.9-2-2-2zM9 17H7v-7h2v7zm4 0h-2V7h2v10zm4 0h-2v-4h2v4z\"/>\n",
              "    </g>\n",
              "</svg>\n",
              "  </button>\n",
              "\n",
              "<style>\n",
              "  .colab-df-quickchart {\n",
              "      --bg-color: #E8F0FE;\n",
              "      --fill-color: #1967D2;\n",
              "      --hover-bg-color: #E2EBFA;\n",
              "      --hover-fill-color: #174EA6;\n",
              "      --disabled-fill-color: #AAA;\n",
              "      --disabled-bg-color: #DDD;\n",
              "  }\n",
              "\n",
              "  [theme=dark] .colab-df-quickchart {\n",
              "      --bg-color: #3B4455;\n",
              "      --fill-color: #D2E3FC;\n",
              "      --hover-bg-color: #434B5C;\n",
              "      --hover-fill-color: #FFFFFF;\n",
              "      --disabled-bg-color: #3B4455;\n",
              "      --disabled-fill-color: #666;\n",
              "  }\n",
              "\n",
              "  .colab-df-quickchart {\n",
              "    background-color: var(--bg-color);\n",
              "    border: none;\n",
              "    border-radius: 50%;\n",
              "    cursor: pointer;\n",
              "    display: none;\n",
              "    fill: var(--fill-color);\n",
              "    height: 32px;\n",
              "    padding: 0;\n",
              "    width: 32px;\n",
              "  }\n",
              "\n",
              "  .colab-df-quickchart:hover {\n",
              "    background-color: var(--hover-bg-color);\n",
              "    box-shadow: 0 1px 2px rgba(60, 64, 67, 0.3), 0 1px 3px 1px rgba(60, 64, 67, 0.15);\n",
              "    fill: var(--button-hover-fill-color);\n",
              "  }\n",
              "\n",
              "  .colab-df-quickchart-complete:disabled,\n",
              "  .colab-df-quickchart-complete:disabled:hover {\n",
              "    background-color: var(--disabled-bg-color);\n",
              "    fill: var(--disabled-fill-color);\n",
              "    box-shadow: none;\n",
              "  }\n",
              "\n",
              "  .colab-df-spinner {\n",
              "    border: 2px solid var(--fill-color);\n",
              "    border-color: transparent;\n",
              "    border-bottom-color: var(--fill-color);\n",
              "    animation:\n",
              "      spin 1s steps(1) infinite;\n",
              "  }\n",
              "\n",
              "  @keyframes spin {\n",
              "    0% {\n",
              "      border-color: transparent;\n",
              "      border-bottom-color: var(--fill-color);\n",
              "      border-left-color: var(--fill-color);\n",
              "    }\n",
              "    20% {\n",
              "      border-color: transparent;\n",
              "      border-left-color: var(--fill-color);\n",
              "      border-top-color: var(--fill-color);\n",
              "    }\n",
              "    30% {\n",
              "      border-color: transparent;\n",
              "      border-left-color: var(--fill-color);\n",
              "      border-top-color: var(--fill-color);\n",
              "      border-right-color: var(--fill-color);\n",
              "    }\n",
              "    40% {\n",
              "      border-color: transparent;\n",
              "      border-right-color: var(--fill-color);\n",
              "      border-top-color: var(--fill-color);\n",
              "    }\n",
              "    60% {\n",
              "      border-color: transparent;\n",
              "      border-right-color: var(--fill-color);\n",
              "    }\n",
              "    80% {\n",
              "      border-color: transparent;\n",
              "      border-right-color: var(--fill-color);\n",
              "      border-bottom-color: var(--fill-color);\n",
              "    }\n",
              "    90% {\n",
              "      border-color: transparent;\n",
              "      border-bottom-color: var(--fill-color);\n",
              "    }\n",
              "  }\n",
              "</style>\n",
              "\n",
              "  <script>\n",
              "    async function quickchart(key) {\n",
              "      const quickchartButtonEl =\n",
              "        document.querySelector('#' + key + ' button');\n",
              "      quickchartButtonEl.disabled = true;  // To prevent multiple clicks.\n",
              "      quickchartButtonEl.classList.add('colab-df-spinner');\n",
              "      try {\n",
              "        const charts = await google.colab.kernel.invokeFunction(\n",
              "            'suggestCharts', [key], {});\n",
              "      } catch (error) {\n",
              "        console.error('Error during call to suggestCharts:', error);\n",
              "      }\n",
              "      quickchartButtonEl.classList.remove('colab-df-spinner');\n",
              "      quickchartButtonEl.classList.add('colab-df-quickchart-complete');\n",
              "    }\n",
              "    (() => {\n",
              "      let quickchartButtonEl =\n",
              "        document.querySelector('#df-16c35d9f-cede-44a0-8c25-d7f351b4aa55 button');\n",
              "      quickchartButtonEl.style.display =\n",
              "        google.colab.kernel.accessAllowed ? 'block' : 'none';\n",
              "    })();\n",
              "  </script>\n",
              "</div>\n",
              "    </div>\n",
              "  </div>\n"
            ],
            "application/vnd.google.colaboratory.intrinsic+json": {
              "type": "dataframe",
              "variable_name": "pred",
              "summary": "{\n  \"name\": \"pred\",\n  \"rows\": 6,\n  \"fields\": [\n    {\n      \"column\": \"Fecha\",\n      \"properties\": {\n        \"dtype\": \"date\",\n        \"min\": \"2022-07-01 00:00:00\",\n        \"max\": \"2022-12-01 00:00:00\",\n        \"num_unique_values\": 6,\n        \"samples\": [\n          \"2022-07-01 00:00:00\",\n          \"2022-08-01 00:00:00\",\n          \"2022-12-01 00:00:00\"\n        ],\n        \"semantic_type\": \"\",\n        \"description\": \"\"\n      }\n    },\n    {\n      \"column\": \"Compraventa_Unitario_pred\",\n      \"properties\": {\n        \"dtype\": \"number\",\n        \"std\": 109.08872048224889,\n        \"min\": -261.8049223471085,\n        \"max\": 10.207237974874488,\n        \"num_unique_values\": 6,\n        \"samples\": [\n          -261.8049223471085,\n          9.834700247834924,\n          10.039393306498344\n        ],\n        \"semantic_type\": \"\",\n        \"description\": \"\"\n      }\n    },\n    {\n      \"column\": \"Pm25_pred\",\n      \"properties\": {\n        \"dtype\": \"number\",\n        \"std\": 0.07128747501117454,\n        \"min\": -0.14659130597770348,\n        \"max\": 0.07423596783710096,\n        \"num_unique_values\": 6,\n        \"samples\": [\n          -0.14659130597770348,\n          -0.006300222642460877,\n          -0.011211343378728577\n        ],\n        \"semantic_type\": \"\",\n        \"description\": \"\"\n      }\n    }\n  ]\n}"
            }
          },
          "metadata": {},
          "execution_count": 40
        }
      ]
    },
    {
      "cell_type": "code",
      "source": [
        "import matplotlib.pyplot as plt\n",
        "plt.figure(figsize = (12, 10))\n",
        "res.plot_forecast(lag_order)\n",
        "plt.tight_layout(h_pad = 1.15)\n",
        "plt.show()\n"
      ],
      "metadata": {
        "colab": {
          "base_uri": "https://localhost:8080/",
          "height": 1000
        },
        "id": "SokaM9c5qyRn",
        "outputId": "54976d37-7f93-40d8-ff4d-e3fde7041706"
      },
      "execution_count": 41,
      "outputs": [
        {
          "output_type": "display_data",
          "data": {
            "text/plain": [
              "<Figure size 1200x1000 with 0 Axes>"
            ]
          },
          "metadata": {}
        },
        {
          "output_type": "display_data",
          "data": {
            "text/plain": [
              "<Figure size 1000x1000 with 2 Axes>"
            ],
            "image/png": "[encoded data removed]"
          },
          "metadata": {}
        }
      ]
    },
    {
      "cell_type": "markdown",
      "source": [
        "#### Invirtiendo la transformación de los pronósticos a la escala original\n"
      ],
      "metadata": {
        "id": "3QbukMdrq62v"
      }
    },
    {
      "cell_type": "markdown",
      "source": [
        "Los pronósticos se generan en la escala de los datos de entrenamiento utilizados por el modelo, es decir, son datos transformados. Entonces, para volver a ponerlos en su escala original, necesitamos des-diferenciarlos. La forma de invertir la diferenciación es sumar estas diferencias consecutivamente al número base. Una forma sencilla de hacerlo es determinar primero la suma acumulada y luego sumarla al número base. Este proceso se puede revertir agregando la observación en el paso de tiempo anterior al difference value. inverted(ts) = differenced(ts) + observation(ts-1)\n",
        "\n"
      ],
      "metadata": {
        "id": "Z6w8yKYyq-jF"
      }
    },
    {
      "cell_type": "code",
      "source": [
        "# Invirtiendo la transformación teniendo en cuenta que hemos diferenciado dos veces\n",
        "def invert_transformation(ds, df_forecast, second_diff=False):\n",
        "    for col in ds.columns:\n",
        "        # Undo the 2nd Differencing\n",
        "        if second_diff:\n",
        "            df_forecast[str(col)] = (ds[col].iloc[-1] - ds[col].iloc[-2]) + df_forecast[str(col)].cumsum()\n",
        "\n",
        "        # Undo the 1st Differencing\n",
        "        df_forecast[str(col)] = ds[col].iloc[-1] + df_forecast[str(col)].cumsum()\n",
        "\n",
        "    return df_forecast"
      ],
      "metadata": {
        "id": "fnVeKvm_rIbE"
      },
      "execution_count": 42,
      "outputs": []
    },
    {
      "cell_type": "code",
      "source": [
        "pred.columns=X_test.columns\n",
        "output = invert_transformation(X_train, pred, second_diff=False)\n",
        "output"
      ],
      "metadata": {
        "colab": {
          "base_uri": "https://localhost:8080/",
          "height": 269
        },
        "id": "EYQA2HSNrWuQ",
        "outputId": "df2a3f90-17a4-4687-c65a-45689900e764"
      },
      "execution_count": 43,
      "outputs": [
        {
          "output_type": "execute_result",
          "data": {
            "text/plain": [
              "            Compraventa_Unitario      Pm25\n",
              "Fecha                                     \n",
              "2022-07-01           5751.778411  1.981959\n",
              "2022-08-01           5761.613111  1.975659\n",
              "2022-09-01           5771.226487  1.969500\n",
              "2022-10-01           5704.025469  2.043736\n",
              "2022-11-01           5714.232707  2.032307\n",
              "2022-12-01           5724.272100  2.021096"
            ],
            "text/html": [
              "\n",
              "  <div id=\"df-3fddc7aa-1ee3-4eb3-aa9b-21f99236c985\" class=\"colab-df-container\">\n",
              "    <div>\n",
              "<style scoped>\n",
              "    .dataframe tbody tr th:only-of-type {\n",
              "        vertical-align: middle;\n",
              "    }\n",
              "\n",
              "    .dataframe tbody tr th {\n",
              "        vertical-align: top;\n",
              "    }\n",
              "\n",
              "    .dataframe thead th {\n",
              "        text-align: right;\n",
              "    }\n",
              "</style>\n",
              "<table border=\"1\" class=\"dataframe\">\n",
              "  <thead>\n",
              "    <tr style=\"text-align: right;\">\n",
              "      <th></th>\n",
              "      <th>Compraventa_Unitario</th>\n",
              "      <th>Pm25</th>\n",
              "    </tr>\n",
              "    <tr>\n",
              "      <th>Fecha</th>\n",
              "      <th></th>\n",
              "      <th></th>\n",
              "    </tr>\n",
              "  </thead>\n",
              "  <tbody>\n",
              "    <tr>\n",
              "      <th>2022-07-01</th>\n",
              "      <td>5751.778411</td>\n",
              "      <td>1.981959</td>\n",
              "    </tr>\n",
              "    <tr>\n",
              "      <th>2022-08-01</th>\n",
              "      <td>5761.613111</td>\n",
              "      <td>1.975659</td>\n",
              "    </tr>\n",
              "    <tr>\n",
              "      <th>2022-09-01</th>\n",
              "      <td>5771.226487</td>\n",
              "      <td>1.969500</td>\n",
              "    </tr>\n",
              "    <tr>\n",
              "      <th>2022-10-01</th>\n",
              "      <td>5704.025469</td>\n",
              "      <td>2.043736</td>\n",
              "    </tr>\n",
              "    <tr>\n",
              "      <th>2022-11-01</th>\n",
              "      <td>5714.232707</td>\n",
              "      <td>2.032307</td>\n",
              "    </tr>\n",
              "    <tr>\n",
              "      <th>2022-12-01</th>\n",
              "      <td>5724.272100</td>\n",
              "      <td>2.021096</td>\n",
              "    </tr>\n",
              "  </tbody>\n",
              "</table>\n",
              "</div>\n",
              "    <div class=\"colab-df-buttons\">\n",
              "\n",
              "  <div class=\"colab-df-container\">\n",
              "    <button class=\"colab-df-convert\" onclick=\"convertToInteractive('df-3fddc7aa-1ee3-4eb3-aa9b-21f99236c985')\"\n",
              "            title=\"Convert this dataframe to an interactive table.\"\n",
              "            style=\"display:none;\">\n",
              "\n",
              "  <svg xmlns=\"http://www.w3.org/2000/svg\" height=\"24px\" viewBox=\"0 -960 960 960\">\n",
              "    <path d=\"M120-120v-720h720v720H120Zm60-500h600v-160H180v160Zm220 220h160v-160H400v160Zm0 220h160v-160H400v160ZM180-400h160v-160H180v160Zm440 0h160v-160H620v160ZM180-180h160v-160H180v160Zm440 0h160v-160H620v160Z\"/>\n",
              "  </svg>\n",
              "    </button>\n",
              "\n",
              "  <style>\n",
              "    .colab-df-container {\n",
              "      display:flex;\n",
              "      gap: 12px;\n",
              "    }\n",
              "\n",
              "    .colab-df-convert {\n",
              "      background-color: #E8F0FE;\n",
              "      border: none;\n",
              "      border-radius: 50%;\n",
              "      cursor: pointer;\n",
              "      display: none;\n",
              "      fill: #1967D2;\n",
              "      height: 32px;\n",
              "      padding: 0 0 0 0;\n",
              "      width: 32px;\n",
              "    }\n",
              "\n",
              "    .colab-df-convert:hover {\n",
              "      background-color: #E2EBFA;\n",
              "      box-shadow: 0px 1px 2px rgba(60, 64, 67, 0.3), 0px 1px 3px 1px rgba(60, 64, 67, 0.15);\n",
              "      fill: #174EA6;\n",
              "    }\n",
              "\n",
              "    .colab-df-buttons div {\n",
              "      margin-bottom: 4px;\n",
              "    }\n",
              "\n",
              "    [theme=dark] .colab-df-convert {\n",
              "      background-color: #3B4455;\n",
              "      fill: #D2E3FC;\n",
              "    }\n",
              "\n",
              "    [theme=dark] .colab-df-convert:hover {\n",
              "      background-color: #434B5C;\n",
              "      box-shadow: 0px 1px 3px 1px rgba(0, 0, 0, 0.15);\n",
              "      filter: drop-shadow(0px 1px 2px rgba(0, 0, 0, 0.3));\n",
              "      fill: #FFFFFF;\n",
              "    }\n",
              "  </style>\n",
              "\n",
              "    <script>\n",
              "      const buttonEl =\n",
              "        document.querySelector('#df-3fddc7aa-1ee3-4eb3-aa9b-21f99236c985 button.colab-df-convert');\n",
              "      buttonEl.style.display =\n",
              "        google.colab.kernel.accessAllowed ? 'block' : 'none';\n",
              "\n",
              "      async function convertToInteractive(key) {\n",
              "        const element = document.querySelector('#df-3fddc7aa-1ee3-4eb3-aa9b-21f99236c985');\n",
              "        const dataTable =\n",
              "          await google.colab.kernel.invokeFunction('convertToInteractive',\n",
              "                                                    [key], {});\n",
              "        if (!dataTable) return;\n",
              "\n",
              "        const docLinkHtml = 'Like what you see? Visit the ' +\n",
              "          '<a target=\"_blank\" href=https://colab.research.google.com/notebooks/data_table.ipynb>data table notebook</a>'\n",
              "          + ' to learn more about interactive tables.';\n",
              "        element.innerHTML = '';\n",
              "        dataTable['output_type'] = 'display_data';\n",
              "        await google.colab.output.renderOutput(dataTable, element);\n",
              "        const docLink = document.createElement('div');\n",
              "        docLink.innerHTML = docLinkHtml;\n",
              "        element.appendChild(docLink);\n",
              "      }\n",
              "    </script>\n",
              "  </div>\n",
              "\n",
              "\n",
              "<div id=\"df-10d63ebc-c2b7-4797-ab3c-dbb57d25d7fd\">\n",
              "  <button class=\"colab-df-quickchart\" onclick=\"quickchart('df-10d63ebc-c2b7-4797-ab3c-dbb57d25d7fd')\"\n",
              "            title=\"Suggest charts\"\n",
              "            style=\"display:none;\">\n",
              "\n",
              "<svg xmlns=\"http://www.w3.org/2000/svg\" height=\"24px\"viewBox=\"0 0 24 24\"\n",
              "     width=\"24px\">\n",
              "    <g>\n",
              "        <path d=\"M19 3H5c-1.1 0-2 .9-2 2v14c0 1.1.9 2 2 2h14c1.1 0 2-.9 2-2V5c0-1.1-.9-2-2-2zM9 17H7v-7h2v7zm4 0h-2V7h2v10zm4 0h-2v-4h2v4z\"/>\n",
              "    </g>\n",
              "</svg>\n",
              "  </button>\n",
              "\n",
              "<style>\n",
              "  .colab-df-quickchart {\n",
              "      --bg-color: #E8F0FE;\n",
              "      --fill-color: #1967D2;\n",
              "      --hover-bg-color: #E2EBFA;\n",
              "      --hover-fill-color: #174EA6;\n",
              "      --disabled-fill-color: #AAA;\n",
              "      --disabled-bg-color: #DDD;\n",
              "  }\n",
              "\n",
              "  [theme=dark] .colab-df-quickchart {\n",
              "      --bg-color: #3B4455;\n",
              "      --fill-color: #D2E3FC;\n",
              "      --hover-bg-color: #434B5C;\n",
              "      --hover-fill-color: #FFFFFF;\n",
              "      --disabled-bg-color: #3B4455;\n",
              "      --disabled-fill-color: #666;\n",
              "  }\n",
              "\n",
              "  .colab-df-quickchart {\n",
              "    background-color: var(--bg-color);\n",
              "    border: none;\n",
              "    border-radius: 50%;\n",
              "    cursor: pointer;\n",
              "    display: none;\n",
              "    fill: var(--fill-color);\n",
              "    height: 32px;\n",
              "    padding: 0;\n",
              "    width: 32px;\n",
              "  }\n",
              "\n",
              "  .colab-df-quickchart:hover {\n",
              "    background-color: var(--hover-bg-color);\n",
              "    box-shadow: 0 1px 2px rgba(60, 64, 67, 0.3), 0 1px 3px 1px rgba(60, 64, 67, 0.15);\n",
              "    fill: var(--button-hover-fill-color);\n",
              "  }\n",
              "\n",
              "  .colab-df-quickchart-complete:disabled,\n",
              "  .colab-df-quickchart-complete:disabled:hover {\n",
              "    background-color: var(--disabled-bg-color);\n",
              "    fill: var(--disabled-fill-color);\n",
              "    box-shadow: none;\n",
              "  }\n",
              "\n",
              "  .colab-df-spinner {\n",
              "    border: 2px solid var(--fill-color);\n",
              "    border-color: transparent;\n",
              "    border-bottom-color: var(--fill-color);\n",
              "    animation:\n",
              "      spin 1s steps(1) infinite;\n",
              "  }\n",
              "\n",
              "  @keyframes spin {\n",
              "    0% {\n",
              "      border-color: transparent;\n",
              "      border-bottom-color: var(--fill-color);\n",
              "      border-left-color: var(--fill-color);\n",
              "    }\n",
              "    20% {\n",
              "      border-color: transparent;\n",
              "      border-left-color: var(--fill-color);\n",
              "      border-top-color: var(--fill-color);\n",
              "    }\n",
              "    30% {\n",
              "      border-color: transparent;\n",
              "      border-left-color: var(--fill-color);\n",
              "      border-top-color: var(--fill-color);\n",
              "      border-right-color: var(--fill-color);\n",
              "    }\n",
              "    40% {\n",
              "      border-color: transparent;\n",
              "      border-right-color: var(--fill-color);\n",
              "      border-top-color: var(--fill-color);\n",
              "    }\n",
              "    60% {\n",
              "      border-color: transparent;\n",
              "      border-right-color: var(--fill-color);\n",
              "    }\n",
              "    80% {\n",
              "      border-color: transparent;\n",
              "      border-right-color: var(--fill-color);\n",
              "      border-bottom-color: var(--fill-color);\n",
              "    }\n",
              "    90% {\n",
              "      border-color: transparent;\n",
              "      border-bottom-color: var(--fill-color);\n",
              "    }\n",
              "  }\n",
              "</style>\n",
              "\n",
              "  <script>\n",
              "    async function quickchart(key) {\n",
              "      const quickchartButtonEl =\n",
              "        document.querySelector('#' + key + ' button');\n",
              "      quickchartButtonEl.disabled = true;  // To prevent multiple clicks.\n",
              "      quickchartButtonEl.classList.add('colab-df-spinner');\n",
              "      try {\n",
              "        const charts = await google.colab.kernel.invokeFunction(\n",
              "            'suggestCharts', [key], {});\n",
              "      } catch (error) {\n",
              "        console.error('Error during call to suggestCharts:', error);\n",
              "      }\n",
              "      quickchartButtonEl.classList.remove('colab-df-spinner');\n",
              "      quickchartButtonEl.classList.add('colab-df-quickchart-complete');\n",
              "    }\n",
              "    (() => {\n",
              "      let quickchartButtonEl =\n",
              "        document.querySelector('#df-10d63ebc-c2b7-4797-ab3c-dbb57d25d7fd button');\n",
              "      quickchartButtonEl.style.display =\n",
              "        google.colab.kernel.accessAllowed ? 'block' : 'none';\n",
              "    })();\n",
              "  </script>\n",
              "</div>\n",
              "    </div>\n",
              "  </div>\n"
            ],
            "application/vnd.google.colaboratory.intrinsic+json": {
              "type": "dataframe",
              "variable_name": "pred",
              "summary": "{\n  \"name\": \"pred\",\n  \"rows\": 6,\n  \"fields\": [\n    {\n      \"column\": \"Fecha\",\n      \"properties\": {\n        \"dtype\": \"date\",\n        \"min\": \"2022-07-01 00:00:00\",\n        \"max\": \"2022-12-01 00:00:00\",\n        \"num_unique_values\": 6,\n        \"samples\": [\n          \"2022-07-01 00:00:00\",\n          \"2022-08-01 00:00:00\",\n          \"2022-12-01 00:00:00\"\n        ],\n        \"semantic_type\": \"\",\n        \"description\": \"\"\n      }\n    },\n    {\n      \"column\": \"Compraventa_Unitario\",\n      \"properties\": {\n        \"dtype\": \"number\",\n        \"std\": 27.418644645357542,\n        \"min\": 5704.025468930697,\n        \"max\": 5771.2264868369375,\n        \"num_unique_values\": 6,\n        \"samples\": [\n          5751.778410986224,\n          5761.613111234059,\n          5724.27210021207\n        ],\n        \"semantic_type\": \"\",\n        \"description\": \"\"\n      }\n    },\n    {\n      \"column\": \"Pm25\",\n      \"properties\": {\n        \"dtype\": \"number\",\n        \"std\": 0.032099231888083446,\n        \"min\": 1.9695001066012803,\n        \"max\": 2.0437360744383812,\n        \"num_unique_values\": 6,\n        \"samples\": [\n          1.9819587687607125,\n          1.9756585461182516,\n          2.0210958167301443\n        ],\n        \"semantic_type\": \"\",\n        \"description\": \"\"\n      }\n    }\n  ]\n}"
            }
          },
          "metadata": {},
          "execution_count": 43
        }
      ]
    },
    {
      "cell_type": "code",
      "source": [
        "# Actual vs Forecasted Plots\n",
        "fig, axes = plt.subplots(nrows = int(len(X_train.columns)), ncols = 1, dpi = 100, figsize = (14,10))\n",
        "mi_lista = ['€/m²', '']\n",
        "\n",
        "for i, (col,ax) in enumerate(zip(X_train.columns, axes.flatten())):\n",
        "    output[col].plot(color = '#00FF00', legend = True, ax = ax).autoscale(axis =' x',tight = True)\n",
        "    X_test[col].plot(color = '#F4511E', legend = True, ax = ax)\n",
        "    X_train[col].plot(color = '#3949AB', legend = True, ax = ax)\n",
        "\n",
        "    ax.set_title('Variable: ' + col + ' - Actual vs Forecast')\n",
        "    ax.set_ylabel(mi_lista[i])  # Establecer etiqueta del eje y\n",
        "    ax.xaxis.set_ticks_position('none')\n",
        "    ax.yaxis.set_ticks_position('none')\n",
        "\n",
        "    ax.spines[\"top\"].set_alpha(0)\n",
        "    ax.tick_params(labelsize = 6)\n",
        "\n",
        "plt.tight_layout()\n",
        "plt.savefig('actual_forecast.png')\n",
        "plt.show()"
      ],
      "metadata": {
        "colab": {
          "base_uri": "https://localhost:8080/",
          "height": 1000
        },
        "id": "21T4tXbArzmD",
        "outputId": "502de660-22e3-468b-daac-e94ddfaa5852"
      },
      "execution_count": 44,
      "outputs": [
        {
          "output_type": "display_data",
          "data": {
            "text/plain": [
              "<Figure size 1400x1000 with 2 Axes>"
            ],
            "image/png": "[encoded data removed]"
          },
          "metadata": {}
        }
      ]
    },
    {
      "cell_type": "markdown",
      "source": [
        "#### Evaluando el modelo\n"
      ],
      "metadata": {
        "id": "g7XKm5vYsRXL"
      }
    },
    {
      "cell_type": "code",
      "source": [
        "def timeseries_evaluation_metrics_func(y_true, y_pred):\n",
        "\n",
        "    def mean_absolute_percentage_error(y_true, y_pred):\n",
        "        y_true, y_pred = np.array(y_true), np.array(y_pred)\n",
        "        return np.mean(np.abs((y_true - y_pred) / y_true)) * 100\n",
        "    print('Evaluation metric results:-')\n",
        "    print(f'MSE is : {metrics.mean_squared_error(y_true, y_pred)}')\n",
        "    print(f'MAE is : {metrics.mean_absolute_error(y_true, y_pred)}')\n",
        "    print(f'RMSE is : {np.sqrt(metrics.mean_squared_error(y_true, y_pred))}')\n",
        "    print(f'MAPE is : {mean_absolute_percentage_error(y_true, y_pred)}')\n",
        "    print(f'R2 is : {metrics.r2_score(y_true, y_pred)}',end='\\n\\n')"
      ],
      "metadata": {
        "id": "tZlif6BVyDXn"
      },
      "execution_count": 45,
      "outputs": []
    },
    {
      "cell_type": "code",
      "source": [
        "for i in ['Compraventa_Unitario','Pm25']:\n",
        "    print(f'Evaluation metric for {i}')\n",
        "    timeseries_evaluation_metrics_func(X_test[str(i)] , output[str(i)])"
      ],
      "metadata": {
        "colab": {
          "base_uri": "https://localhost:8080/"
        },
        "id": "1ooDzvgfxqv8",
        "outputId": "c8594926-140e-4895-d881-a5702c683ffd"
      },
      "execution_count": 46,
      "outputs": [
        {
          "output_type": "stream",
          "name": "stdout",
          "text": [
            "Evaluation metric for Compraventa_Unitario\n",
            "Evaluation metric results:-\n",
            "MSE is : 64336.657790525554\n",
            "MAE is : 251.38537783185225\n",
            "RMSE is : 253.64671846985436\n",
            "MAPE is : 4.4444243991254355\n",
            "R2 is : 0.14967966150198075\n",
            "\n",
            "Evaluation metric for Pm25\n",
            "Evaluation metric results:-\n",
            "MSE is : 0.016360708950645873\n",
            "MAE is : 0.12450732927880888\n",
            "RMSE is : 0.12790898698154823\n",
            "MAPE is : 5.8493962982811185\n",
            "R2 is : -8.295865008578242e+28\n",
            "\n"
          ]
        }
      ]
    },
    {
      "cell_type": "markdown",
      "source": [
        "Para Compraventa_Unitario, los valores de las métricas de error como el MSE (157,609.85), MAE (310.89) y RMSE (397.00) son significativamente altos, lo cual indica errores grandes en las predicciones del modelo para esta variable un MAPE del 5.67% muestra que, en promedio, las predicciones del modelo se desvían en aproximadamente 5.67% del valor real, lo cual podría considerarse moderadamente aceptable en algunos contextos, pero no en todos el coeficiente de determinación (R²) de -1.08 es una señal clara de que el modelo no logra explicar la variabilidad de los datos y puede estar peor que un modelo simple de media constante\n",
        "\n",
        "Para Pm25, las métricas de error como MSE (0.00063), MAE (0.0244) y RMSE (0.0251) son muy bajas, lo que en situaciones normales sugeriría un buen rendimiento del modelo sin embargo, un MAPE del 1.15% y especialmente un R² de -3.21e+27 destacan problemas graves en el modelo un R² tan negativo sugiere errores en la especificación del modelo, problemas con los datos de prueba o un ajuste extremadamente pobre que resulta en predicciones mucho peores que un modelo nulo"
      ],
      "metadata": {
        "id": "X3gBk6yZxW4d"
      }
    },
    {
      "cell_type": "code",
      "source": [
        "from sklearn.metrics import mean_absolute_error, mean_squared_error\n",
        "print('Mean absolute error:', mean_absolute_error(X_test, output))\n",
        "print('Root mean squared error:', np.sqrt(mean_squared_error(X_test, output)))"
      ],
      "metadata": {
        "colab": {
          "base_uri": "https://localhost:8080/"
        },
        "id": "jJEaSX0EsQLR",
        "outputId": "f4c4a978-31db-46b8-f6ec-66e42cb3dc4e"
      },
      "execution_count": 47,
      "outputs": [
        {
          "output_type": "stream",
          "name": "stdout",
          "text": [
            "Mean absolute error: 125.75494258056553\n",
            "Root mean squared error: 179.3553374606322\n"
          ]
        }
      ]
    },
    {
      "cell_type": "markdown",
      "source": [
        "### Modelo VARMA (Auto Arima)"
      ],
      "metadata": {
        "id": "YlcNq7Vxjgdp"
      }
    },
    {
      "cell_type": "markdown",
      "source": [
        "El modelo VARMA (Vector Autoregressive Moving Average) es una técnica estadística utilizada en análisis de series temporales que combina los modelos VAR (Vector Autoregressive) y MA (Moving Average). Es especialmente útil cuando se trata de series temporales múltiples, permitiendo modelar la interdependencia entre varias series a lo largo del tiempo junto con términos de error autocorrelacionados.\n"
      ],
      "metadata": {
        "id": "eDHgPQ8HXXL3"
      }
    },
    {
      "cell_type": "code",
      "source": [
        "!pip install pmdarima"
      ],
      "metadata": {
        "colab": {
          "base_uri": "https://localhost:8080/"
        },
        "id": "uEX49EBAkjO0",
        "outputId": "e2cab95b-80c3-41b5-ae06-18fe133810ca"
      },
      "execution_count": 48,
      "outputs": [
        {
          "output_type": "stream",
          "name": "stdout",
          "text": [
            "Collecting pmdarima\n",
            "  Downloading pmdarima-2.0.4-cp310-cp310-manylinux_2_17_x86_64.manylinux2014_x86_64.manylinux_2_28_x86_64.whl (2.1 MB)\n",
            "\u001b[2K     \u001b[90m━━━━━━━━━━━━━━━━━━━━━━━━━━━━━━━━━━━━━━━━\u001b[0m \u001b[32m2.1/2.1 MB\u001b[0m \u001b[31m7.8 MB/s\u001b[0m eta \u001b[36m0:00:00\u001b[0m\n",
            "\u001b[?25hRequirement already satisfied: joblib>=0.11 in /usr/local/lib/python3.10/dist-packages (from pmdarima) (1.4.2)\n",
            "Requirement already satisfied: Cython!=0.29.18,!=0.29.31,>=0.29 in /usr/local/lib/python3.10/dist-packages (from pmdarima) (3.0.10)\n",
            "Requirement already satisfied: numpy>=1.21.2 in /usr/local/lib/python3.10/dist-packages (from pmdarima) (1.25.2)\n",
            "Requirement already satisfied: pandas>=0.19 in /usr/local/lib/python3.10/dist-packages (from pmdarima) (2.0.3)\n",
            "Requirement already satisfied: scikit-learn>=0.22 in /usr/local/lib/python3.10/dist-packages (from pmdarima) (1.2.2)\n",
            "Requirement already satisfied: scipy>=1.3.2 in /usr/local/lib/python3.10/dist-packages (from pmdarima) (1.11.4)\n",
            "Requirement already satisfied: statsmodels>=0.13.2 in /usr/local/lib/python3.10/dist-packages (from pmdarima) (0.14.2)\n",
            "Requirement already satisfied: urllib3 in /usr/local/lib/python3.10/dist-packages (from pmdarima) (2.0.7)\n",
            "Requirement already satisfied: setuptools!=50.0.0,>=38.6.0 in /usr/local/lib/python3.10/dist-packages (from pmdarima) (67.7.2)\n",
            "Requirement already satisfied: packaging>=17.1 in /usr/local/lib/python3.10/dist-packages (from pmdarima) (24.0)\n",
            "Requirement already satisfied: python-dateutil>=2.8.2 in /usr/local/lib/python3.10/dist-packages (from pandas>=0.19->pmdarima) (2.8.2)\n",
            "Requirement already satisfied: pytz>=2020.1 in /usr/local/lib/python3.10/dist-packages (from pandas>=0.19->pmdarima) (2023.4)\n",
            "Requirement already satisfied: tzdata>=2022.1 in /usr/local/lib/python3.10/dist-packages (from pandas>=0.19->pmdarima) (2024.1)\n",
            "Requirement already satisfied: threadpoolctl>=2.0.0 in /usr/local/lib/python3.10/dist-packages (from scikit-learn>=0.22->pmdarima) (3.5.0)\n",
            "Requirement already satisfied: patsy>=0.5.6 in /usr/local/lib/python3.10/dist-packages (from statsmodels>=0.13.2->pmdarima) (0.5.6)\n",
            "Requirement already satisfied: six in /usr/local/lib/python3.10/dist-packages (from patsy>=0.5.6->statsmodels>=0.13.2->pmdarima) (1.16.0)\n",
            "Installing collected packages: pmdarima\n",
            "Successfully installed pmdarima-2.0.4\n"
          ]
        }
      ]
    },
    {
      "cell_type": "markdown",
      "source": [
        "#### Ajustando el modelo"
      ],
      "metadata": {
        "id": "HTxVjAs4Sv4A"
      }
    },
    {
      "cell_type": "markdown",
      "source": [
        "#####Auto Arima"
      ],
      "metadata": {
        "id": "E0a5wSe3tGaG"
      }
    },
    {
      "cell_type": "markdown",
      "source": [
        "Aplicaremos autoarima, para determinar los valores de p, q y d"
      ],
      "metadata": {
        "id": "gyKuUdCETgCb"
      }
    },
    {
      "cell_type": "code",
      "source": [
        "import pmdarima as pm"
      ],
      "metadata": {
        "id": "6Nq7wePOkpAw"
      },
      "execution_count": 49,
      "outputs": []
    },
    {
      "cell_type": "code",
      "source": [
        "\n",
        "pq = []\n",
        "for name in ['Compraventa_Unitario', 'Pm25']:\n",
        "    print(f'Searching order of p and q for : {name}')\n",
        "    # Ajusta un modelo ARIMA para cada columna\n",
        "    stepwise_model = pm.auto_arima(X_train_transformed[name],\n",
        "                                start_p=0, start_q=0,\n",
        "                                max_p=4, max_q=4,\n",
        "                                seasonal=False,\n",
        "                                trace=True,\n",
        "                                error_action='ignore',\n",
        "                                suppress_warnings=True,\n",
        "                                stepwise=True,\n",
        "                                maxiter=1000)\n",
        "    # Obtiene los parámetros óptimos de p y q del modelo\n",
        "    parameter = stepwise_model.get_params().get('order')\n",
        "    print(f'optimal order for:{name} is: {parameter} \\n\\n')\n",
        "    # Agrega los parámetros óptimos a la lista pq\n",
        "    pq.append(stepwise_model.get_params().get('order'))"
      ],
      "metadata": {
        "colab": {
          "base_uri": "https://localhost:8080/"
        },
        "id": "HR5DfxULokMK",
        "outputId": "33a6ff95-b388-44dc-b0e6-0489fa97a9af"
      },
      "execution_count": 52,
      "outputs": [
        {
          "output_type": "stream",
          "name": "stdout",
          "text": [
            "Searching order of p and q for : Compraventa_Unitario\n",
            "Performing stepwise search to minimize aic\n",
            " ARIMA(0,0,0)(0,0,0)[0]             : AIC=695.950, Time=0.08 sec\n",
            " ARIMA(1,0,0)(0,0,0)[0]             : AIC=697.950, Time=0.11 sec\n",
            " ARIMA(0,0,1)(0,0,0)[0]             : AIC=697.950, Time=0.19 sec\n",
            " ARIMA(1,0,1)(0,0,0)[0]             : AIC=699.950, Time=0.36 sec\n",
            " ARIMA(0,0,0)(0,0,0)[0] intercept   : AIC=697.107, Time=0.13 sec\n",
            "\n",
            "Best model:  ARIMA(0,0,0)(0,0,0)[0]          \n",
            "Total fit time: 0.945 seconds\n",
            "optimal order for:Compraventa_Unitario is: (0, 0, 0) \n",
            "\n",
            "\n",
            "Searching order of p and q for : Pm25\n",
            "Performing stepwise search to minimize aic\n",
            " ARIMA(0,0,0)(0,0,0)[0]             : AIC=-111.639, Time=0.14 sec\n",
            " ARIMA(1,0,0)(0,0,0)[0]             : AIC=-109.639, Time=0.29 sec\n",
            " ARIMA(0,0,1)(0,0,0)[0]             : AIC=-109.639, Time=0.19 sec\n",
            " ARIMA(1,0,1)(0,0,0)[0]             : AIC=-107.639, Time=0.31 sec\n",
            " ARIMA(0,0,0)(0,0,0)[0] intercept   : AIC=-109.749, Time=0.14 sec\n",
            "\n",
            "Best model:  ARIMA(0,0,0)(0,0,0)[0]          \n",
            "Total fit time: 1.106 seconds\n",
            "optimal order for:Pm25 is: (0, 0, 0) \n",
            "\n",
            "\n"
          ]
        }
      ]
    },
    {
      "cell_type": "code",
      "source": [
        "pq"
      ],
      "metadata": {
        "colab": {
          "base_uri": "https://localhost:8080/"
        },
        "id": "P3tgzd5hreCa",
        "outputId": "a6a1a893-3c82-4870-ee5b-5ac263ddffb6"
      },
      "execution_count": 53,
      "outputs": [
        {
          "output_type": "execute_result",
          "data": {
            "text/plain": [
              "[(0, 0, 0), (0, 0, 0)]"
            ]
          },
          "metadata": {},
          "execution_count": 53
        }
      ]
    },
    {
      "cell_type": "markdown",
      "source": [
        "- *p=0:* Indica que no hay términos autoregresivos en el modelo. En otras palabras, el modelo VARMA no incluye dependencia de los valores pasados de las variables en sí mismas.\n",
        "\n",
        "- *q=0:* Indica que no hay términos de medias móviles en el modelo. Esto significa que no hay dependencia de los errores pasados del modelo en sí mismo."
      ],
      "metadata": {
        "id": "2NHmaXDXaAad"
      }
    },
    {
      "cell_type": "markdown",
      "source": [
        "En este caso no se puede aplicar el modelo VARMA, ya que el modelo esta considerando unicamente la tendencia lineal y no esta incorporando autocorrelacion en los residuos del modelo."
      ],
      "metadata": {
        "id": "cBmU2HBNNdtE"
      }
    },
    {
      "cell_type": "markdown",
      "source": [],
      "metadata": {
        "id": "FFSbKhrRYFkD"
      }
    },
    {
      "cell_type": "markdown",
      "source": [
        "##Conclusiones"
      ],
      "metadata": {
        "id": "jupEV8ues2bR"
      }
    },
    {
      "cell_type": "markdown",
      "source": [
        "Como conclusiones de realizar un analisis de datos forecasting a los datos de distrito de **Sarrià-Sant Gervasi** de Barcelona entre las dos series temporales de Compraventa_Unitario y concentracion de particulas Pm 2.5 tenemos que:\n",
        "\n",
        "1. Para Compraventa_Unitario, las métricas de error como el MSE (157,609.85), MAE (310.89), y RMSE (397.00) indican grandes errores en las predicciones. Un MAPE de 5.67% sugiere una desviación moderada, pero el R² negativo (-1.08) señala un modelo inadecuado, incapaz de explicar la variabilidad de los datos.\n",
        "Para Pm25, aunque los errores son bajos (MSE: 0.00063, MAE: 0.0244, RMSE: 0.0251), el R² extremadamente negativo (-3.21e+27) indica serios problemas en la especificación del modelo, posiblemente debido a datos de prueba inadecuados o un ajuste incorrecto.\n",
        "\n",
        "\n",
        "2. Las pruebas de cointegración sugieren que no hay una relación duradera entre Compraventa_Unitario y Pm25. La falta de cointegración llevó a la elección de un modelo VAR en lugar de un VECM.\n",
        "Tras la diferenciación, las series temporales se volvieron estacionarias, permitiendo el uso del modelo VAR.\n",
        "Causalidad de Granger:\n",
        "\n",
        "3. La prueba de causalidad de Granger mostró que ninguna de las series temporales puede predecir a la otra, lo que respalda la falta de relación significativa entre Compraventa_Unitario y Pm25.\n",
        "Residuos del Modelo:\n",
        "\n",
        "4. Los residuos del modelo VAR son estacionarios y no presentan autocorrelación, lo que indica que el modelo ajusta adecuadamente las características de los datos, aunque los resultados de predicción sean pobres.\n",
        "\n",
        "\n",
        "5. La aplicación de auto_arima para determinar los valores de p, q y d sugirió que no hay términos autoregresivos ni de medias móviles significativos, descartando la necesidad de un modelo VARMA.\n",
        "\n"
      ],
      "metadata": {
        "id": "tih-GQeKd6yp"
      }
    }
  ],
  "metadata": {
    "colab": {
      "provenance": [],
      "mount_file_id": "1DF4QwXvuLuuK07H2Fxm-R4ZdocIHcaSf",
      "authorship_tag": "ABX9TyNU97fyTW6V740Tpnz4N8Ke",
      "include_colab_link": true
    },
    "kernelspec": {
      "display_name": "Python 3",
      "name": "python3"
    },
    "language_info": {
      "name": "python"
    }
  },
  "nbformat": 4,
  "nbformat_minor": 0
}