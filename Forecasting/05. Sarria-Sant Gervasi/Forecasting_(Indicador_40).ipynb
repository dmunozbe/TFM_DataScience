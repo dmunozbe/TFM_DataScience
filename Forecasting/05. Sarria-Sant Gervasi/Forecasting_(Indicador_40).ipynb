{
  "cells": [
    {
      "cell_type": "markdown",
      "metadata": {
        "id": "view-in-github",
        "colab_type": "text"
      },
      "source": [
        "<a href=\"https://colab.research.google.com/github/dmunozbe/TFM_DataScience/blob/main/Forecasting/05.%20Sarria-Sant%20Gervasi/Forecasting_(Indicador_40).ipynb\" target=\"_parent\"><img src=\"https://colab.research.google.com/assets/colab-badge.svg\" alt=\"Open In Colab\"/></a>"
      ]
    },
    {
      "cell_type": "markdown",
      "metadata": {
        "id": "0p7EJF28yyC8"
      },
      "source": [
        "# **Forecasting**\n",
        "\n",
        "\n",
        "1. [Importar bibliotecas](#Importar-bibliotecas)\n",
        "2. [Carga de datos](#Carga-de-datos)\n",
        "3. [Preparacion de los datos](#Preparacion-de-los-datos)\n",
        "4. [Analisis por grupo de indicadores (Participacion electoral)](#Analisis-por-grupo-de-indicadores-(esperanza-de-vida))\n",
        "  - [Preparacion de datos](#Preparacion-de-datos)\n",
        "  - [Analisis Exploratorio](#Analisis-Exploratorio)\n",
        "  - [Modelo VAR](#Modelo-VAR)\n",
        "  - [Modelo VARMAX](#Modelo-VARMAX)\n",
        "5. [Conclusiones](#Conclusiones)\n",
        "\n"
      ]
    },
    {
      "cell_type": "markdown",
      "metadata": {
        "id": "ioTGaiCDEb5i"
      },
      "source": [
        "**Forecasting** es el proceso de predecir eventos futuros basados en patrones históricos y datos existentes.\n",
        "\n",
        "El objetivo principal es el de hacer predicciones precisas sobre el futuro utilizando datos pasados y presentes y se utiliza en una amplia variaedad de constextos, como en finanzas, meteorologia, ventas entre otros"
      ]
    },
    {
      "cell_type": "markdown",
      "metadata": {
        "id": "AV9FZlYWReGR"
      },
      "source": [
        "##Importar bibliotecas"
      ]
    },
    {
      "cell_type": "code",
      "execution_count": 1,
      "metadata": {
        "id": "nQ5PEOwwytuT"
      },
      "outputs": [],
      "source": [
        "import pandas as pd\n",
        "import numpy as np\n",
        "%matplotlib inline\n",
        "import seaborn as sns\n",
        "import matplotlib.pyplot as plt\n",
        "from matplotlib.pyplot import figure\n",
        "from sklearn import metrics\n",
        "\n",
        "\n",
        "import warnings\n",
        "warnings.filterwarnings(\"ignore\")"
      ]
    },
    {
      "cell_type": "markdown",
      "metadata": {
        "id": "7MJ6Iz9XRYGi"
      },
      "source": [
        "##Carga de datos"
      ]
    },
    {
      "cell_type": "code",
      "execution_count": 2,
      "metadata": {
        "colab": {
          "base_uri": "https://localhost:8080/",
          "height": 243
        },
        "id": "sqL1iuYSLMXK",
        "outputId": "e36b0b81-cd55-4b1e-cb82-83d504409309"
      },
      "outputs": [
        {
          "output_type": "execute_result",
          "data": {
            "text/plain": [
              "    Any  Trimestre  Mes  Codi_Districte Nom_Districte  Codi_Barri Nom_Barri  \\\n",
              "0  2014          1    1               1  Ciutat Vella           1  el Raval   \n",
              "1  2014          1    2               1  Ciutat Vella           1  el Raval   \n",
              "2  2014          1    3               1  Ciutat Vella           1  el Raval   \n",
              "3  2014          2    4               1  Ciutat Vella           1  el Raval   \n",
              "4  2014          2    5               1  Ciutat Vella           1  el Raval   \n",
              "\n",
              "   Compraventa_Unitario  ParadosReg  Estudios_Obligatorios  ConsumResidencial  \\\n",
              "0                2813.0        4588                    NaN                NaN   \n",
              "1                2813.0        4539                    NaN                NaN   \n",
              "2                2813.0        4572                    NaN                NaN   \n",
              "3                2948.8        4510                    NaN                NaN   \n",
              "4                2948.8        4379                    NaN                NaN   \n",
              "\n",
              "   Pm25  Pm10  Participacion  AñosEspVida  Internet  Movil  Index_Turisme  \\\n",
              "0   NaN   NaN           41.8         80.7       NaN    NaN            NaN   \n",
              "1   NaN   NaN           41.8         80.7       NaN    NaN            NaN   \n",
              "2   NaN   NaN           41.8         80.7       NaN    NaN            NaN   \n",
              "3   NaN   NaN           41.8         80.7       NaN    NaN            NaN   \n",
              "4   NaN   NaN           41.8         80.7       NaN    NaN            NaN   \n",
              "\n",
              "   m² por habitante  \n",
              "0               6.2  \n",
              "1               6.2  \n",
              "2               6.2  \n",
              "3               6.2  \n",
              "4               6.2  "
            ],
            "text/html": [
              "\n",
              "  <div id=\"df-b2416ec4-6170-4052-ba58-2ec05b4ebf88\" class=\"colab-df-container\">\n",
              "    <div>\n",
              "<style scoped>\n",
              "    .dataframe tbody tr th:only-of-type {\n",
              "        vertical-align: middle;\n",
              "    }\n",
              "\n",
              "    .dataframe tbody tr th {\n",
              "        vertical-align: top;\n",
              "    }\n",
              "\n",
              "    .dataframe thead th {\n",
              "        text-align: right;\n",
              "    }\n",
              "</style>\n",
              "<table border=\"1\" class=\"dataframe\">\n",
              "  <thead>\n",
              "    <tr style=\"text-align: right;\">\n",
              "      <th></th>\n",
              "      <th>Any</th>\n",
              "      <th>Trimestre</th>\n",
              "      <th>Mes</th>\n",
              "      <th>Codi_Districte</th>\n",
              "      <th>Nom_Districte</th>\n",
              "      <th>Codi_Barri</th>\n",
              "      <th>Nom_Barri</th>\n",
              "      <th>Compraventa_Unitario</th>\n",
              "      <th>ParadosReg</th>\n",
              "      <th>Estudios_Obligatorios</th>\n",
              "      <th>ConsumResidencial</th>\n",
              "      <th>Pm25</th>\n",
              "      <th>Pm10</th>\n",
              "      <th>Participacion</th>\n",
              "      <th>AñosEspVida</th>\n",
              "      <th>Internet</th>\n",
              "      <th>Movil</th>\n",
              "      <th>Index_Turisme</th>\n",
              "      <th>m² por habitante</th>\n",
              "    </tr>\n",
              "  </thead>\n",
              "  <tbody>\n",
              "    <tr>\n",
              "      <th>0</th>\n",
              "      <td>2014</td>\n",
              "      <td>1</td>\n",
              "      <td>1</td>\n",
              "      <td>1</td>\n",
              "      <td>Ciutat Vella</td>\n",
              "      <td>1</td>\n",
              "      <td>el Raval</td>\n",
              "      <td>2813.0</td>\n",
              "      <td>4588</td>\n",
              "      <td>NaN</td>\n",
              "      <td>NaN</td>\n",
              "      <td>NaN</td>\n",
              "      <td>NaN</td>\n",
              "      <td>41.8</td>\n",
              "      <td>80.7</td>\n",
              "      <td>NaN</td>\n",
              "      <td>NaN</td>\n",
              "      <td>NaN</td>\n",
              "      <td>6.2</td>\n",
              "    </tr>\n",
              "    <tr>\n",
              "      <th>1</th>\n",
              "      <td>2014</td>\n",
              "      <td>1</td>\n",
              "      <td>2</td>\n",
              "      <td>1</td>\n",
              "      <td>Ciutat Vella</td>\n",
              "      <td>1</td>\n",
              "      <td>el Raval</td>\n",
              "      <td>2813.0</td>\n",
              "      <td>4539</td>\n",
              "      <td>NaN</td>\n",
              "      <td>NaN</td>\n",
              "      <td>NaN</td>\n",
              "      <td>NaN</td>\n",
              "      <td>41.8</td>\n",
              "      <td>80.7</td>\n",
              "      <td>NaN</td>\n",
              "      <td>NaN</td>\n",
              "      <td>NaN</td>\n",
              "      <td>6.2</td>\n",
              "    </tr>\n",
              "    <tr>\n",
              "      <th>2</th>\n",
              "      <td>2014</td>\n",
              "      <td>1</td>\n",
              "      <td>3</td>\n",
              "      <td>1</td>\n",
              "      <td>Ciutat Vella</td>\n",
              "      <td>1</td>\n",
              "      <td>el Raval</td>\n",
              "      <td>2813.0</td>\n",
              "      <td>4572</td>\n",
              "      <td>NaN</td>\n",
              "      <td>NaN</td>\n",
              "      <td>NaN</td>\n",
              "      <td>NaN</td>\n",
              "      <td>41.8</td>\n",
              "      <td>80.7</td>\n",
              "      <td>NaN</td>\n",
              "      <td>NaN</td>\n",
              "      <td>NaN</td>\n",
              "      <td>6.2</td>\n",
              "    </tr>\n",
              "    <tr>\n",
              "      <th>3</th>\n",
              "      <td>2014</td>\n",
              "      <td>2</td>\n",
              "      <td>4</td>\n",
              "      <td>1</td>\n",
              "      <td>Ciutat Vella</td>\n",
              "      <td>1</td>\n",
              "      <td>el Raval</td>\n",
              "      <td>2948.8</td>\n",
              "      <td>4510</td>\n",
              "      <td>NaN</td>\n",
              "      <td>NaN</td>\n",
              "      <td>NaN</td>\n",
              "      <td>NaN</td>\n",
              "      <td>41.8</td>\n",
              "      <td>80.7</td>\n",
              "      <td>NaN</td>\n",
              "      <td>NaN</td>\n",
              "      <td>NaN</td>\n",
              "      <td>6.2</td>\n",
              "    </tr>\n",
              "    <tr>\n",
              "      <th>4</th>\n",
              "      <td>2014</td>\n",
              "      <td>2</td>\n",
              "      <td>5</td>\n",
              "      <td>1</td>\n",
              "      <td>Ciutat Vella</td>\n",
              "      <td>1</td>\n",
              "      <td>el Raval</td>\n",
              "      <td>2948.8</td>\n",
              "      <td>4379</td>\n",
              "      <td>NaN</td>\n",
              "      <td>NaN</td>\n",
              "      <td>NaN</td>\n",
              "      <td>NaN</td>\n",
              "      <td>41.8</td>\n",
              "      <td>80.7</td>\n",
              "      <td>NaN</td>\n",
              "      <td>NaN</td>\n",
              "      <td>NaN</td>\n",
              "      <td>6.2</td>\n",
              "    </tr>\n",
              "  </tbody>\n",
              "</table>\n",
              "</div>\n",
              "    <div class=\"colab-df-buttons\">\n",
              "\n",
              "  <div class=\"colab-df-container\">\n",
              "    <button class=\"colab-df-convert\" onclick=\"convertToInteractive('df-b2416ec4-6170-4052-ba58-2ec05b4ebf88')\"\n",
              "            title=\"Convert this dataframe to an interactive table.\"\n",
              "            style=\"display:none;\">\n",
              "\n",
              "  <svg xmlns=\"http://www.w3.org/2000/svg\" height=\"24px\" viewBox=\"0 -960 960 960\">\n",
              "    <path d=\"M120-120v-720h720v720H120Zm60-500h600v-160H180v160Zm220 220h160v-160H400v160Zm0 220h160v-160H400v160ZM180-400h160v-160H180v160Zm440 0h160v-160H620v160ZM180-180h160v-160H180v160Zm440 0h160v-160H620v160Z\"/>\n",
              "  </svg>\n",
              "    </button>\n",
              "\n",
              "  <style>\n",
              "    .colab-df-container {\n",
              "      display:flex;\n",
              "      gap: 12px;\n",
              "    }\n",
              "\n",
              "    .colab-df-convert {\n",
              "      background-color: #E8F0FE;\n",
              "      border: none;\n",
              "      border-radius: 50%;\n",
              "      cursor: pointer;\n",
              "      display: none;\n",
              "      fill: #1967D2;\n",
              "      height: 32px;\n",
              "      padding: 0 0 0 0;\n",
              "      width: 32px;\n",
              "    }\n",
              "\n",
              "    .colab-df-convert:hover {\n",
              "      background-color: #E2EBFA;\n",
              "      box-shadow: 0px 1px 2px rgba(60, 64, 67, 0.3), 0px 1px 3px 1px rgba(60, 64, 67, 0.15);\n",
              "      fill: #174EA6;\n",
              "    }\n",
              "\n",
              "    .colab-df-buttons div {\n",
              "      margin-bottom: 4px;\n",
              "    }\n",
              "\n",
              "    [theme=dark] .colab-df-convert {\n",
              "      background-color: #3B4455;\n",
              "      fill: #D2E3FC;\n",
              "    }\n",
              "\n",
              "    [theme=dark] .colab-df-convert:hover {\n",
              "      background-color: #434B5C;\n",
              "      box-shadow: 0px 1px 3px 1px rgba(0, 0, 0, 0.15);\n",
              "      filter: drop-shadow(0px 1px 2px rgba(0, 0, 0, 0.3));\n",
              "      fill: #FFFFFF;\n",
              "    }\n",
              "  </style>\n",
              "\n",
              "    <script>\n",
              "      const buttonEl =\n",
              "        document.querySelector('#df-b2416ec4-6170-4052-ba58-2ec05b4ebf88 button.colab-df-convert');\n",
              "      buttonEl.style.display =\n",
              "        google.colab.kernel.accessAllowed ? 'block' : 'none';\n",
              "\n",
              "      async function convertToInteractive(key) {\n",
              "        const element = document.querySelector('#df-b2416ec4-6170-4052-ba58-2ec05b4ebf88');\n",
              "        const dataTable =\n",
              "          await google.colab.kernel.invokeFunction('convertToInteractive',\n",
              "                                                    [key], {});\n",
              "        if (!dataTable) return;\n",
              "\n",
              "        const docLinkHtml = 'Like what you see? Visit the ' +\n",
              "          '<a target=\"_blank\" href=https://colab.research.google.com/notebooks/data_table.ipynb>data table notebook</a>'\n",
              "          + ' to learn more about interactive tables.';\n",
              "        element.innerHTML = '';\n",
              "        dataTable['output_type'] = 'display_data';\n",
              "        await google.colab.output.renderOutput(dataTable, element);\n",
              "        const docLink = document.createElement('div');\n",
              "        docLink.innerHTML = docLinkHtml;\n",
              "        element.appendChild(docLink);\n",
              "      }\n",
              "    </script>\n",
              "  </div>\n",
              "\n",
              "\n",
              "<div id=\"df-15395290-bcd2-4381-96cf-bf44d2e0cea5\">\n",
              "  <button class=\"colab-df-quickchart\" onclick=\"quickchart('df-15395290-bcd2-4381-96cf-bf44d2e0cea5')\"\n",
              "            title=\"Suggest charts\"\n",
              "            style=\"display:none;\">\n",
              "\n",
              "<svg xmlns=\"http://www.w3.org/2000/svg\" height=\"24px\"viewBox=\"0 0 24 24\"\n",
              "     width=\"24px\">\n",
              "    <g>\n",
              "        <path d=\"M19 3H5c-1.1 0-2 .9-2 2v14c0 1.1.9 2 2 2h14c1.1 0 2-.9 2-2V5c0-1.1-.9-2-2-2zM9 17H7v-7h2v7zm4 0h-2V7h2v10zm4 0h-2v-4h2v4z\"/>\n",
              "    </g>\n",
              "</svg>\n",
              "  </button>\n",
              "\n",
              "<style>\n",
              "  .colab-df-quickchart {\n",
              "      --bg-color: #E8F0FE;\n",
              "      --fill-color: #1967D2;\n",
              "      --hover-bg-color: #E2EBFA;\n",
              "      --hover-fill-color: #174EA6;\n",
              "      --disabled-fill-color: #AAA;\n",
              "      --disabled-bg-color: #DDD;\n",
              "  }\n",
              "\n",
              "  [theme=dark] .colab-df-quickchart {\n",
              "      --bg-color: #3B4455;\n",
              "      --fill-color: #D2E3FC;\n",
              "      --hover-bg-color: #434B5C;\n",
              "      --hover-fill-color: #FFFFFF;\n",
              "      --disabled-bg-color: #3B4455;\n",
              "      --disabled-fill-color: #666;\n",
              "  }\n",
              "\n",
              "  .colab-df-quickchart {\n",
              "    background-color: var(--bg-color);\n",
              "    border: none;\n",
              "    border-radius: 50%;\n",
              "    cursor: pointer;\n",
              "    display: none;\n",
              "    fill: var(--fill-color);\n",
              "    height: 32px;\n",
              "    padding: 0;\n",
              "    width: 32px;\n",
              "  }\n",
              "\n",
              "  .colab-df-quickchart:hover {\n",
              "    background-color: var(--hover-bg-color);\n",
              "    box-shadow: 0 1px 2px rgba(60, 64, 67, 0.3), 0 1px 3px 1px rgba(60, 64, 67, 0.15);\n",
              "    fill: var(--button-hover-fill-color);\n",
              "  }\n",
              "\n",
              "  .colab-df-quickchart-complete:disabled,\n",
              "  .colab-df-quickchart-complete:disabled:hover {\n",
              "    background-color: var(--disabled-bg-color);\n",
              "    fill: var(--disabled-fill-color);\n",
              "    box-shadow: none;\n",
              "  }\n",
              "\n",
              "  .colab-df-spinner {\n",
              "    border: 2px solid var(--fill-color);\n",
              "    border-color: transparent;\n",
              "    border-bottom-color: var(--fill-color);\n",
              "    animation:\n",
              "      spin 1s steps(1) infinite;\n",
              "  }\n",
              "\n",
              "  @keyframes spin {\n",
              "    0% {\n",
              "      border-color: transparent;\n",
              "      border-bottom-color: var(--fill-color);\n",
              "      border-left-color: var(--fill-color);\n",
              "    }\n",
              "    20% {\n",
              "      border-color: transparent;\n",
              "      border-left-color: var(--fill-color);\n",
              "      border-top-color: var(--fill-color);\n",
              "    }\n",
              "    30% {\n",
              "      border-color: transparent;\n",
              "      border-left-color: var(--fill-color);\n",
              "      border-top-color: var(--fill-color);\n",
              "      border-right-color: var(--fill-color);\n",
              "    }\n",
              "    40% {\n",
              "      border-color: transparent;\n",
              "      border-right-color: var(--fill-color);\n",
              "      border-top-color: var(--fill-color);\n",
              "    }\n",
              "    60% {\n",
              "      border-color: transparent;\n",
              "      border-right-color: var(--fill-color);\n",
              "    }\n",
              "    80% {\n",
              "      border-color: transparent;\n",
              "      border-right-color: var(--fill-color);\n",
              "      border-bottom-color: var(--fill-color);\n",
              "    }\n",
              "    90% {\n",
              "      border-color: transparent;\n",
              "      border-bottom-color: var(--fill-color);\n",
              "    }\n",
              "  }\n",
              "</style>\n",
              "\n",
              "  <script>\n",
              "    async function quickchart(key) {\n",
              "      const quickchartButtonEl =\n",
              "        document.querySelector('#' + key + ' button');\n",
              "      quickchartButtonEl.disabled = true;  // To prevent multiple clicks.\n",
              "      quickchartButtonEl.classList.add('colab-df-spinner');\n",
              "      try {\n",
              "        const charts = await google.colab.kernel.invokeFunction(\n",
              "            'suggestCharts', [key], {});\n",
              "      } catch (error) {\n",
              "        console.error('Error during call to suggestCharts:', error);\n",
              "      }\n",
              "      quickchartButtonEl.classList.remove('colab-df-spinner');\n",
              "      quickchartButtonEl.classList.add('colab-df-quickchart-complete');\n",
              "    }\n",
              "    (() => {\n",
              "      let quickchartButtonEl =\n",
              "        document.querySelector('#df-15395290-bcd2-4381-96cf-bf44d2e0cea5 button');\n",
              "      quickchartButtonEl.style.display =\n",
              "        google.colab.kernel.accessAllowed ? 'block' : 'none';\n",
              "    })();\n",
              "  </script>\n",
              "</div>\n",
              "    </div>\n",
              "  </div>\n"
            ],
            "application/vnd.google.colaboratory.intrinsic+json": {
              "type": "dataframe",
              "variable_name": "data",
              "summary": "{\n  \"name\": \"data\",\n  \"rows\": 8541,\n  \"fields\": [\n    {\n      \"column\": \"Any\",\n      \"properties\": {\n        \"dtype\": \"number\",\n        \"std\": 2,\n        \"min\": 2014,\n        \"max\": 2023,\n        \"num_unique_values\": 10,\n        \"samples\": [\n          2022,\n          2015,\n          2019\n        ],\n        \"semantic_type\": \"\",\n        \"description\": \"\"\n      }\n    },\n    {\n      \"column\": \"Trimestre\",\n      \"properties\": {\n        \"dtype\": \"number\",\n        \"std\": 1,\n        \"min\": 1,\n        \"max\": 4,\n        \"num_unique_values\": 4,\n        \"samples\": [\n          2,\n          4,\n          1\n        ],\n        \"semantic_type\": \"\",\n        \"description\": \"\"\n      }\n    },\n    {\n      \"column\": \"Mes\",\n      \"properties\": {\n        \"dtype\": \"number\",\n        \"std\": 3,\n        \"min\": 1,\n        \"max\": 12,\n        \"num_unique_values\": 12,\n        \"samples\": [\n          11,\n          10,\n          1\n        ],\n        \"semantic_type\": \"\",\n        \"description\": \"\"\n      }\n    },\n    {\n      \"column\": \"Codi_Districte\",\n      \"properties\": {\n        \"dtype\": \"number\",\n        \"std\": 2,\n        \"min\": 1,\n        \"max\": 10,\n        \"num_unique_values\": 10,\n        \"samples\": [\n          9,\n          2,\n          6\n        ],\n        \"semantic_type\": \"\",\n        \"description\": \"\"\n      }\n    },\n    {\n      \"column\": \"Nom_Districte\",\n      \"properties\": {\n        \"dtype\": \"category\",\n        \"num_unique_values\": 10,\n        \"samples\": [\n          \"Sant Andreu\",\n          \"Eixample\",\n          \"Gr\\u00e0cia\"\n        ],\n        \"semantic_type\": \"\",\n        \"description\": \"\"\n      }\n    },\n    {\n      \"column\": \"Codi_Barri\",\n      \"properties\": {\n        \"dtype\": \"number\",\n        \"std\": 21,\n        \"min\": 1,\n        \"max\": 73,\n        \"num_unique_values\": 73,\n        \"samples\": [\n          5,\n          64,\n          19\n        ],\n        \"semantic_type\": \"\",\n        \"description\": \"\"\n      }\n    },\n    {\n      \"column\": \"Nom_Barri\",\n      \"properties\": {\n        \"dtype\": \"category\",\n        \"num_unique_values\": 73,\n        \"samples\": [\n          \"el Fort Pienc\",\n          \"el Camp de l'Arpa del Clot\",\n          \"les Corts\"\n        ],\n        \"semantic_type\": \"\",\n        \"description\": \"\"\n      }\n    },\n    {\n      \"column\": \"Compraventa_Unitario\",\n      \"properties\": {\n        \"dtype\": \"number\",\n        \"std\": 1275.0461526307304,\n        \"min\": 217.2,\n        \"max\": 10961.2,\n        \"num_unique_values\": 2170,\n        \"samples\": [\n          4807.2,\n          4193.4,\n          3508.0\n        ],\n        \"semantic_type\": \"\",\n        \"description\": \"\"\n      }\n    },\n    {\n      \"column\": \"ParadosReg\",\n      \"properties\": {\n        \"dtype\": \"number\",\n        \"std\": 748,\n        \"min\": 15,\n        \"max\": 5295,\n        \"num_unique_values\": 2514,\n        \"samples\": [\n          4093,\n          551,\n          1466\n        ],\n        \"semantic_type\": \"\",\n        \"description\": \"\"\n      }\n    },\n    {\n      \"column\": \"Estudios_Obligatorios\",\n      \"properties\": {\n        \"dtype\": \"number\",\n        \"std\": 1.2766390800732295,\n        \"min\": 94.1,\n        \"max\": 99.6,\n        \"num_unique_values\": 37,\n        \"samples\": [\n          98.5,\n          96.0,\n          97.8\n        ],\n        \"semantic_type\": \"\",\n        \"description\": \"\"\n      }\n    },\n    {\n      \"column\": \"ConsumResidencial\",\n      \"properties\": {\n        \"dtype\": \"number\",\n        \"std\": 6641961.276555788,\n        \"min\": 1599307.0,\n        \"max\": 46411373.0,\n        \"num_unique_values\": 3534,\n        \"samples\": [\n          22420192.0,\n          4441625.0,\n          8597173.0\n        ],\n        \"semantic_type\": \"\",\n        \"description\": \"\"\n      }\n    },\n    {\n      \"column\": \"Pm25\",\n      \"properties\": {\n        \"dtype\": \"number\",\n        \"std\": 0.3742695994049139,\n        \"min\": 1.81763826606876,\n        \"max\": 3.4377394636015324,\n        \"num_unique_values\": 50,\n        \"samples\": [\n          2.4966622162883847,\n          2.0293819655521785,\n          2.0183591508892715\n        ],\n        \"semantic_type\": \"\",\n        \"description\": \"\"\n      }\n    },\n    {\n      \"column\": \"Pm10\",\n      \"properties\": {\n        \"dtype\": \"number\",\n        \"std\": 0.23211619238920075,\n        \"min\": 1.379671150971599,\n        \"max\": 2.2308429118773945,\n        \"num_unique_values\": 41,\n        \"samples\": [\n          1.379671150971599,\n          2.0654205607476634,\n          2.020864381520119\n        ],\n        \"semantic_type\": \"\",\n        \"description\": \"\"\n      }\n    },\n    {\n      \"column\": \"Participacion\",\n      \"properties\": {\n        \"dtype\": \"number\",\n        \"std\": 6.123557392018656,\n        \"min\": 41.8,\n        \"max\": 72.5,\n        \"num_unique_values\": 39,\n        \"samples\": [\n          67.8,\n          57.8,\n          61.6\n        ],\n        \"semantic_type\": \"\",\n        \"description\": \"\"\n      }\n    },\n    {\n      \"column\": \"A\\u00f1osEspVida\",\n      \"properties\": {\n        \"dtype\": \"number\",\n        \"std\": 1.7485719359049254,\n        \"min\": 76.4,\n        \"max\": 87.7,\n        \"num_unique_values\": 78,\n        \"samples\": [\n          81.9,\n          80.7,\n          83.2\n        ],\n        \"semantic_type\": \"\",\n        \"description\": \"\"\n      }\n    },\n    {\n      \"column\": \"Internet\",\n      \"properties\": {\n        \"dtype\": \"number\",\n        \"std\": 5.658005470236122,\n        \"min\": 71.5,\n        \"max\": 97.0,\n        \"num_unique_values\": 66,\n        \"samples\": [\n          91.15,\n          97.0,\n          82.8\n        ],\n        \"semantic_type\": \"\",\n        \"description\": \"\"\n      }\n    },\n    {\n      \"column\": \"Movil\",\n      \"properties\": {\n        \"dtype\": \"number\",\n        \"std\": 1.5280518004995411,\n        \"min\": 91.2,\n        \"max\": 99.8,\n        \"num_unique_values\": 30,\n        \"samples\": [\n          98.6,\n          98.8,\n          98.5\n        ],\n        \"semantic_type\": \"\",\n        \"description\": \"\"\n      }\n    },\n    {\n      \"column\": \"Index_Turisme\",\n      \"properties\": {\n        \"dtype\": \"number\",\n        \"std\": 279.99953997435307,\n        \"min\": 120.60571428571428,\n        \"max\": 3241.03,\n        \"num_unique_values\": 219,\n        \"samples\": [\n          295.46500000000003,\n          504.8442857142857,\n          313.5733333333333\n        ],\n        \"semantic_type\": \"\",\n        \"description\": \"\"\n      }\n    },\n    {\n      \"column\": \"m\\u00b2 por habitante\",\n      \"properties\": {\n        \"dtype\": \"number\",\n        \"std\": 4.073146396218761,\n        \"min\": 1.9,\n        \"max\": 18.0,\n        \"num_unique_values\": 36,\n        \"samples\": [\n          8.15,\n          6.4,\n          8.3\n        ],\n        \"semantic_type\": \"\",\n        \"description\": \"\"\n      }\n    }\n  ]\n}"
            }
          },
          "metadata": {},
          "execution_count": 2
        }
      ],
      "source": [
        "# Cargar datos\n",
        "data = pd.read_csv('/content/drive/MyDrive/UOC/TFM/Datasets definitivos/Final.csv')\n",
        "data.head()"
      ]
    },
    {
      "cell_type": "code",
      "source": [
        "print(data.dtypes)"
      ],
      "metadata": {
        "colab": {
          "base_uri": "https://localhost:8080/"
        },
        "id": "eOy5K7SuiIMI",
        "outputId": "d406be76-eb34-4239-d2c1-e8381e7aa321"
      },
      "execution_count": 3,
      "outputs": [
        {
          "output_type": "stream",
          "name": "stdout",
          "text": [
            "Any                        int64\n",
            "Trimestre                  int64\n",
            "Mes                        int64\n",
            "Codi_Districte             int64\n",
            "Nom_Districte             object\n",
            "Codi_Barri                 int64\n",
            "Nom_Barri                 object\n",
            "Compraventa_Unitario     float64\n",
            "ParadosReg                 int64\n",
            "Estudios_Obligatorios    float64\n",
            "ConsumResidencial        float64\n",
            "Pm25                     float64\n",
            "Pm10                     float64\n",
            "Participacion            float64\n",
            "AñosEspVida              float64\n",
            "Internet                 float64\n",
            "Movil                    float64\n",
            "Index_Turisme            float64\n",
            "m² por habitante         float64\n",
            "dtype: object\n"
          ]
        }
      ]
    },
    {
      "cell_type": "markdown",
      "source": [
        "## Analisis por grupo de indicadores (Participacion electoral)"
      ],
      "metadata": {
        "id": "9W-lGuXhz2Sc"
      }
    },
    {
      "cell_type": "markdown",
      "source": [
        "### Preparacion de datos"
      ],
      "metadata": {
        "id": "ABOQVXNI0F0F"
      }
    },
    {
      "cell_type": "code",
      "source": [
        "df_sel = data[['Any','Trimestre','Mes','Codi_Districte','Nom_Districte','Codi_Barri','Nom_Barri','Compraventa_Unitario','Participacion']]"
      ],
      "metadata": {
        "id": "m9UKVzU9i2SY"
      },
      "execution_count": 4,
      "outputs": []
    },
    {
      "cell_type": "code",
      "source": [
        "df_var = df_sel.dropna()"
      ],
      "metadata": {
        "id": "lGWxPwYE5HPP"
      },
      "execution_count": 5,
      "outputs": []
    },
    {
      "cell_type": "code",
      "source": [
        "df_var.info()"
      ],
      "metadata": {
        "colab": {
          "base_uri": "https://localhost:8080/"
        },
        "id": "tGxdmjiE5QzX",
        "outputId": "1e39fd6c-3642-4f2e-dbb7-ffff1d408838"
      },
      "execution_count": 6,
      "outputs": [
        {
          "output_type": "stream",
          "name": "stdout",
          "text": [
            "<class 'pandas.core.frame.DataFrame'>\n",
            "RangeIndex: 8541 entries, 0 to 8540\n",
            "Data columns (total 9 columns):\n",
            " #   Column                Non-Null Count  Dtype  \n",
            "---  ------                --------------  -----  \n",
            " 0   Any                   8541 non-null   int64  \n",
            " 1   Trimestre             8541 non-null   int64  \n",
            " 2   Mes                   8541 non-null   int64  \n",
            " 3   Codi_Districte        8541 non-null   int64  \n",
            " 4   Nom_Districte         8541 non-null   object \n",
            " 5   Codi_Barri            8541 non-null   int64  \n",
            " 6   Nom_Barri             8541 non-null   object \n",
            " 7   Compraventa_Unitario  8541 non-null   float64\n",
            " 8   Participacion         8541 non-null   float64\n",
            "dtypes: float64(2), int64(5), object(2)\n",
            "memory usage: 600.7+ KB\n"
          ]
        }
      ]
    },
    {
      "cell_type": "code",
      "source": [
        "# Creamos la variable de fecha de la siguiente manera:\n",
        "# Agregar un día fijo para cada mes, por ejemplo, el día 1\n",
        "df_var['Fecha'] = pd.to_datetime(df_var['Any'].astype(str) + '-' + df_var['Mes'].astype(str) + '-1')"
      ],
      "metadata": {
        "id": "EcbK5L-5iX6z"
      },
      "execution_count": 7,
      "outputs": []
    },
    {
      "cell_type": "code",
      "source": [
        "# Modificamos el indice del dataset por la fecha\n",
        "df_varI = df_var.set_index('Fecha')"
      ],
      "metadata": {
        "id": "bXI9WXEqvfwN"
      },
      "execution_count": 8,
      "outputs": []
    },
    {
      "cell_type": "code",
      "source": [
        "df_varI.head()"
      ],
      "metadata": {
        "colab": {
          "base_uri": "https://localhost:8080/",
          "height": 237
        },
        "id": "B5r0mDv6r1gC",
        "outputId": "d0cdd037-f81e-4f6d-903e-89ac7afaf0b7"
      },
      "execution_count": 9,
      "outputs": [
        {
          "output_type": "execute_result",
          "data": {
            "text/plain": [
              "             Any  Trimestre  Mes  Codi_Districte Nom_Districte  Codi_Barri  \\\n",
              "Fecha                                                                        \n",
              "2014-01-01  2014          1    1               1  Ciutat Vella           1   \n",
              "2014-02-01  2014          1    2               1  Ciutat Vella           1   \n",
              "2014-03-01  2014          1    3               1  Ciutat Vella           1   \n",
              "2014-04-01  2014          2    4               1  Ciutat Vella           1   \n",
              "2014-05-01  2014          2    5               1  Ciutat Vella           1   \n",
              "\n",
              "           Nom_Barri  Compraventa_Unitario  Participacion  \n",
              "Fecha                                                      \n",
              "2014-01-01  el Raval                2813.0           41.8  \n",
              "2014-02-01  el Raval                2813.0           41.8  \n",
              "2014-03-01  el Raval                2813.0           41.8  \n",
              "2014-04-01  el Raval                2948.8           41.8  \n",
              "2014-05-01  el Raval                2948.8           41.8  "
            ],
            "text/html": [
              "\n",
              "  <div id=\"df-8ea8b134-9c3c-44c9-aa25-cf426763e2f8\" class=\"colab-df-container\">\n",
              "    <div>\n",
              "<style scoped>\n",
              "    .dataframe tbody tr th:only-of-type {\n",
              "        vertical-align: middle;\n",
              "    }\n",
              "\n",
              "    .dataframe tbody tr th {\n",
              "        vertical-align: top;\n",
              "    }\n",
              "\n",
              "    .dataframe thead th {\n",
              "        text-align: right;\n",
              "    }\n",
              "</style>\n",
              "<table border=\"1\" class=\"dataframe\">\n",
              "  <thead>\n",
              "    <tr style=\"text-align: right;\">\n",
              "      <th></th>\n",
              "      <th>Any</th>\n",
              "      <th>Trimestre</th>\n",
              "      <th>Mes</th>\n",
              "      <th>Codi_Districte</th>\n",
              "      <th>Nom_Districte</th>\n",
              "      <th>Codi_Barri</th>\n",
              "      <th>Nom_Barri</th>\n",
              "      <th>Compraventa_Unitario</th>\n",
              "      <th>Participacion</th>\n",
              "    </tr>\n",
              "    <tr>\n",
              "      <th>Fecha</th>\n",
              "      <th></th>\n",
              "      <th></th>\n",
              "      <th></th>\n",
              "      <th></th>\n",
              "      <th></th>\n",
              "      <th></th>\n",
              "      <th></th>\n",
              "      <th></th>\n",
              "      <th></th>\n",
              "    </tr>\n",
              "  </thead>\n",
              "  <tbody>\n",
              "    <tr>\n",
              "      <th>2014-01-01</th>\n",
              "      <td>2014</td>\n",
              "      <td>1</td>\n",
              "      <td>1</td>\n",
              "      <td>1</td>\n",
              "      <td>Ciutat Vella</td>\n",
              "      <td>1</td>\n",
              "      <td>el Raval</td>\n",
              "      <td>2813.0</td>\n",
              "      <td>41.8</td>\n",
              "    </tr>\n",
              "    <tr>\n",
              "      <th>2014-02-01</th>\n",
              "      <td>2014</td>\n",
              "      <td>1</td>\n",
              "      <td>2</td>\n",
              "      <td>1</td>\n",
              "      <td>Ciutat Vella</td>\n",
              "      <td>1</td>\n",
              "      <td>el Raval</td>\n",
              "      <td>2813.0</td>\n",
              "      <td>41.8</td>\n",
              "    </tr>\n",
              "    <tr>\n",
              "      <th>2014-03-01</th>\n",
              "      <td>2014</td>\n",
              "      <td>1</td>\n",
              "      <td>3</td>\n",
              "      <td>1</td>\n",
              "      <td>Ciutat Vella</td>\n",
              "      <td>1</td>\n",
              "      <td>el Raval</td>\n",
              "      <td>2813.0</td>\n",
              "      <td>41.8</td>\n",
              "    </tr>\n",
              "    <tr>\n",
              "      <th>2014-04-01</th>\n",
              "      <td>2014</td>\n",
              "      <td>2</td>\n",
              "      <td>4</td>\n",
              "      <td>1</td>\n",
              "      <td>Ciutat Vella</td>\n",
              "      <td>1</td>\n",
              "      <td>el Raval</td>\n",
              "      <td>2948.8</td>\n",
              "      <td>41.8</td>\n",
              "    </tr>\n",
              "    <tr>\n",
              "      <th>2014-05-01</th>\n",
              "      <td>2014</td>\n",
              "      <td>2</td>\n",
              "      <td>5</td>\n",
              "      <td>1</td>\n",
              "      <td>Ciutat Vella</td>\n",
              "      <td>1</td>\n",
              "      <td>el Raval</td>\n",
              "      <td>2948.8</td>\n",
              "      <td>41.8</td>\n",
              "    </tr>\n",
              "  </tbody>\n",
              "</table>\n",
              "</div>\n",
              "    <div class=\"colab-df-buttons\">\n",
              "\n",
              "  <div class=\"colab-df-container\">\n",
              "    <button class=\"colab-df-convert\" onclick=\"convertToInteractive('df-8ea8b134-9c3c-44c9-aa25-cf426763e2f8')\"\n",
              "            title=\"Convert this dataframe to an interactive table.\"\n",
              "            style=\"display:none;\">\n",
              "\n",
              "  <svg xmlns=\"http://www.w3.org/2000/svg\" height=\"24px\" viewBox=\"0 -960 960 960\">\n",
              "    <path d=\"M120-120v-720h720v720H120Zm60-500h600v-160H180v160Zm220 220h160v-160H400v160Zm0 220h160v-160H400v160ZM180-400h160v-160H180v160Zm440 0h160v-160H620v160ZM180-180h160v-160H180v160Zm440 0h160v-160H620v160Z\"/>\n",
              "  </svg>\n",
              "    </button>\n",
              "\n",
              "  <style>\n",
              "    .colab-df-container {\n",
              "      display:flex;\n",
              "      gap: 12px;\n",
              "    }\n",
              "\n",
              "    .colab-df-convert {\n",
              "      background-color: #E8F0FE;\n",
              "      border: none;\n",
              "      border-radius: 50%;\n",
              "      cursor: pointer;\n",
              "      display: none;\n",
              "      fill: #1967D2;\n",
              "      height: 32px;\n",
              "      padding: 0 0 0 0;\n",
              "      width: 32px;\n",
              "    }\n",
              "\n",
              "    .colab-df-convert:hover {\n",
              "      background-color: #E2EBFA;\n",
              "      box-shadow: 0px 1px 2px rgba(60, 64, 67, 0.3), 0px 1px 3px 1px rgba(60, 64, 67, 0.15);\n",
              "      fill: #174EA6;\n",
              "    }\n",
              "\n",
              "    .colab-df-buttons div {\n",
              "      margin-bottom: 4px;\n",
              "    }\n",
              "\n",
              "    [theme=dark] .colab-df-convert {\n",
              "      background-color: #3B4455;\n",
              "      fill: #D2E3FC;\n",
              "    }\n",
              "\n",
              "    [theme=dark] .colab-df-convert:hover {\n",
              "      background-color: #434B5C;\n",
              "      box-shadow: 0px 1px 3px 1px rgba(0, 0, 0, 0.15);\n",
              "      filter: drop-shadow(0px 1px 2px rgba(0, 0, 0, 0.3));\n",
              "      fill: #FFFFFF;\n",
              "    }\n",
              "  </style>\n",
              "\n",
              "    <script>\n",
              "      const buttonEl =\n",
              "        document.querySelector('#df-8ea8b134-9c3c-44c9-aa25-cf426763e2f8 button.colab-df-convert');\n",
              "      buttonEl.style.display =\n",
              "        google.colab.kernel.accessAllowed ? 'block' : 'none';\n",
              "\n",
              "      async function convertToInteractive(key) {\n",
              "        const element = document.querySelector('#df-8ea8b134-9c3c-44c9-aa25-cf426763e2f8');\n",
              "        const dataTable =\n",
              "          await google.colab.kernel.invokeFunction('convertToInteractive',\n",
              "                                                    [key], {});\n",
              "        if (!dataTable) return;\n",
              "\n",
              "        const docLinkHtml = 'Like what you see? Visit the ' +\n",
              "          '<a target=\"_blank\" href=https://colab.research.google.com/notebooks/data_table.ipynb>data table notebook</a>'\n",
              "          + ' to learn more about interactive tables.';\n",
              "        element.innerHTML = '';\n",
              "        dataTable['output_type'] = 'display_data';\n",
              "        await google.colab.output.renderOutput(dataTable, element);\n",
              "        const docLink = document.createElement('div');\n",
              "        docLink.innerHTML = docLinkHtml;\n",
              "        element.appendChild(docLink);\n",
              "      }\n",
              "    </script>\n",
              "  </div>\n",
              "\n",
              "\n",
              "<div id=\"df-59089b3a-8699-4603-863b-b8aec8f83993\">\n",
              "  <button class=\"colab-df-quickchart\" onclick=\"quickchart('df-59089b3a-8699-4603-863b-b8aec8f83993')\"\n",
              "            title=\"Suggest charts\"\n",
              "            style=\"display:none;\">\n",
              "\n",
              "<svg xmlns=\"http://www.w3.org/2000/svg\" height=\"24px\"viewBox=\"0 0 24 24\"\n",
              "     width=\"24px\">\n",
              "    <g>\n",
              "        <path d=\"M19 3H5c-1.1 0-2 .9-2 2v14c0 1.1.9 2 2 2h14c1.1 0 2-.9 2-2V5c0-1.1-.9-2-2-2zM9 17H7v-7h2v7zm4 0h-2V7h2v10zm4 0h-2v-4h2v4z\"/>\n",
              "    </g>\n",
              "</svg>\n",
              "  </button>\n",
              "\n",
              "<style>\n",
              "  .colab-df-quickchart {\n",
              "      --bg-color: #E8F0FE;\n",
              "      --fill-color: #1967D2;\n",
              "      --hover-bg-color: #E2EBFA;\n",
              "      --hover-fill-color: #174EA6;\n",
              "      --disabled-fill-color: #AAA;\n",
              "      --disabled-bg-color: #DDD;\n",
              "  }\n",
              "\n",
              "  [theme=dark] .colab-df-quickchart {\n",
              "      --bg-color: #3B4455;\n",
              "      --fill-color: #D2E3FC;\n",
              "      --hover-bg-color: #434B5C;\n",
              "      --hover-fill-color: #FFFFFF;\n",
              "      --disabled-bg-color: #3B4455;\n",
              "      --disabled-fill-color: #666;\n",
              "  }\n",
              "\n",
              "  .colab-df-quickchart {\n",
              "    background-color: var(--bg-color);\n",
              "    border: none;\n",
              "    border-radius: 50%;\n",
              "    cursor: pointer;\n",
              "    display: none;\n",
              "    fill: var(--fill-color);\n",
              "    height: 32px;\n",
              "    padding: 0;\n",
              "    width: 32px;\n",
              "  }\n",
              "\n",
              "  .colab-df-quickchart:hover {\n",
              "    background-color: var(--hover-bg-color);\n",
              "    box-shadow: 0 1px 2px rgba(60, 64, 67, 0.3), 0 1px 3px 1px rgba(60, 64, 67, 0.15);\n",
              "    fill: var(--button-hover-fill-color);\n",
              "  }\n",
              "\n",
              "  .colab-df-quickchart-complete:disabled,\n",
              "  .colab-df-quickchart-complete:disabled:hover {\n",
              "    background-color: var(--disabled-bg-color);\n",
              "    fill: var(--disabled-fill-color);\n",
              "    box-shadow: none;\n",
              "  }\n",
              "\n",
              "  .colab-df-spinner {\n",
              "    border: 2px solid var(--fill-color);\n",
              "    border-color: transparent;\n",
              "    border-bottom-color: var(--fill-color);\n",
              "    animation:\n",
              "      spin 1s steps(1) infinite;\n",
              "  }\n",
              "\n",
              "  @keyframes spin {\n",
              "    0% {\n",
              "      border-color: transparent;\n",
              "      border-bottom-color: var(--fill-color);\n",
              "      border-left-color: var(--fill-color);\n",
              "    }\n",
              "    20% {\n",
              "      border-color: transparent;\n",
              "      border-left-color: var(--fill-color);\n",
              "      border-top-color: var(--fill-color);\n",
              "    }\n",
              "    30% {\n",
              "      border-color: transparent;\n",
              "      border-left-color: var(--fill-color);\n",
              "      border-top-color: var(--fill-color);\n",
              "      border-right-color: var(--fill-color);\n",
              "    }\n",
              "    40% {\n",
              "      border-color: transparent;\n",
              "      border-right-color: var(--fill-color);\n",
              "      border-top-color: var(--fill-color);\n",
              "    }\n",
              "    60% {\n",
              "      border-color: transparent;\n",
              "      border-right-color: var(--fill-color);\n",
              "    }\n",
              "    80% {\n",
              "      border-color: transparent;\n",
              "      border-right-color: var(--fill-color);\n",
              "      border-bottom-color: var(--fill-color);\n",
              "    }\n",
              "    90% {\n",
              "      border-color: transparent;\n",
              "      border-bottom-color: var(--fill-color);\n",
              "    }\n",
              "  }\n",
              "</style>\n",
              "\n",
              "  <script>\n",
              "    async function quickchart(key) {\n",
              "      const quickchartButtonEl =\n",
              "        document.querySelector('#' + key + ' button');\n",
              "      quickchartButtonEl.disabled = true;  // To prevent multiple clicks.\n",
              "      quickchartButtonEl.classList.add('colab-df-spinner');\n",
              "      try {\n",
              "        const charts = await google.colab.kernel.invokeFunction(\n",
              "            'suggestCharts', [key], {});\n",
              "      } catch (error) {\n",
              "        console.error('Error during call to suggestCharts:', error);\n",
              "      }\n",
              "      quickchartButtonEl.classList.remove('colab-df-spinner');\n",
              "      quickchartButtonEl.classList.add('colab-df-quickchart-complete');\n",
              "    }\n",
              "    (() => {\n",
              "      let quickchartButtonEl =\n",
              "        document.querySelector('#df-59089b3a-8699-4603-863b-b8aec8f83993 button');\n",
              "      quickchartButtonEl.style.display =\n",
              "        google.colab.kernel.accessAllowed ? 'block' : 'none';\n",
              "    })();\n",
              "  </script>\n",
              "</div>\n",
              "    </div>\n",
              "  </div>\n"
            ],
            "application/vnd.google.colaboratory.intrinsic+json": {
              "type": "dataframe",
              "variable_name": "df_varI",
              "summary": "{\n  \"name\": \"df_varI\",\n  \"rows\": 8541,\n  \"fields\": [\n    {\n      \"column\": \"Fecha\",\n      \"properties\": {\n        \"dtype\": \"date\",\n        \"min\": \"2014-01-01 00:00:00\",\n        \"max\": \"2023-09-01 00:00:00\",\n        \"num_unique_values\": 117,\n        \"samples\": [\n          \"2017-09-01 00:00:00\",\n          \"2014-05-01 00:00:00\",\n          \"2018-06-01 00:00:00\"\n        ],\n        \"semantic_type\": \"\",\n        \"description\": \"\"\n      }\n    },\n    {\n      \"column\": \"Any\",\n      \"properties\": {\n        \"dtype\": \"number\",\n        \"std\": 2,\n        \"min\": 2014,\n        \"max\": 2023,\n        \"num_unique_values\": 10,\n        \"samples\": [\n          2022,\n          2015,\n          2019\n        ],\n        \"semantic_type\": \"\",\n        \"description\": \"\"\n      }\n    },\n    {\n      \"column\": \"Trimestre\",\n      \"properties\": {\n        \"dtype\": \"number\",\n        \"std\": 1,\n        \"min\": 1,\n        \"max\": 4,\n        \"num_unique_values\": 4,\n        \"samples\": [\n          2,\n          4,\n          1\n        ],\n        \"semantic_type\": \"\",\n        \"description\": \"\"\n      }\n    },\n    {\n      \"column\": \"Mes\",\n      \"properties\": {\n        \"dtype\": \"number\",\n        \"std\": 3,\n        \"min\": 1,\n        \"max\": 12,\n        \"num_unique_values\": 12,\n        \"samples\": [\n          11,\n          10,\n          1\n        ],\n        \"semantic_type\": \"\",\n        \"description\": \"\"\n      }\n    },\n    {\n      \"column\": \"Codi_Districte\",\n      \"properties\": {\n        \"dtype\": \"number\",\n        \"std\": 2,\n        \"min\": 1,\n        \"max\": 10,\n        \"num_unique_values\": 10,\n        \"samples\": [\n          9,\n          2,\n          6\n        ],\n        \"semantic_type\": \"\",\n        \"description\": \"\"\n      }\n    },\n    {\n      \"column\": \"Nom_Districte\",\n      \"properties\": {\n        \"dtype\": \"category\",\n        \"num_unique_values\": 10,\n        \"samples\": [\n          \"Sant Andreu\",\n          \"Eixample\",\n          \"Gr\\u00e0cia\"\n        ],\n        \"semantic_type\": \"\",\n        \"description\": \"\"\n      }\n    },\n    {\n      \"column\": \"Codi_Barri\",\n      \"properties\": {\n        \"dtype\": \"number\",\n        \"std\": 21,\n        \"min\": 1,\n        \"max\": 73,\n        \"num_unique_values\": 73,\n        \"samples\": [\n          5,\n          64,\n          19\n        ],\n        \"semantic_type\": \"\",\n        \"description\": \"\"\n      }\n    },\n    {\n      \"column\": \"Nom_Barri\",\n      \"properties\": {\n        \"dtype\": \"category\",\n        \"num_unique_values\": 73,\n        \"samples\": [\n          \"el Fort Pienc\",\n          \"el Camp de l'Arpa del Clot\",\n          \"les Corts\"\n        ],\n        \"semantic_type\": \"\",\n        \"description\": \"\"\n      }\n    },\n    {\n      \"column\": \"Compraventa_Unitario\",\n      \"properties\": {\n        \"dtype\": \"number\",\n        \"std\": 1275.0461526307304,\n        \"min\": 217.2,\n        \"max\": 10961.2,\n        \"num_unique_values\": 2170,\n        \"samples\": [\n          4807.2,\n          4193.4,\n          3508.0\n        ],\n        \"semantic_type\": \"\",\n        \"description\": \"\"\n      }\n    },\n    {\n      \"column\": \"Participacion\",\n      \"properties\": {\n        \"dtype\": \"number\",\n        \"std\": 6.123557392018656,\n        \"min\": 41.8,\n        \"max\": 72.5,\n        \"num_unique_values\": 39,\n        \"samples\": [\n          67.8,\n          57.8,\n          61.6\n        ],\n        \"semantic_type\": \"\",\n        \"description\": \"\"\n      }\n    }\n  ]\n}"
            }
          },
          "metadata": {},
          "execution_count": 9
        }
      ]
    },
    {
      "cell_type": "markdown",
      "source": [
        "### Analisis Exploratorio"
      ],
      "metadata": {
        "id": "a_2OfFZCr-f1"
      }
    },
    {
      "cell_type": "markdown",
      "source": [
        "Filtramos los datos por el distrito de Sarrià-Sant Gervasi -> Codi_Districte = 5"
      ],
      "metadata": {
        "id": "hqyBpeYNQb-z"
      }
    },
    {
      "cell_type": "code",
      "source": [
        "df_varFiltrado = df_varI[df_varI['Codi_Districte'] == 5]"
      ],
      "metadata": {
        "id": "H1D-pGGuQgKv"
      },
      "execution_count": 10,
      "outputs": []
    },
    {
      "cell_type": "code",
      "source": [
        "# Agrupamos los datos\n",
        "df =df_varFiltrado.drop(columns=['Any','Trimestre','Mes','Codi_Districte','Nom_Districte','Codi_Barri','Nom_Barri']).groupby('Fecha').mean()"
      ],
      "metadata": {
        "id": "IqKIcChGWsd4"
      },
      "execution_count": 11,
      "outputs": []
    },
    {
      "cell_type": "code",
      "source": [
        "df.head()"
      ],
      "metadata": {
        "colab": {
          "base_uri": "https://localhost:8080/",
          "height": 237
        },
        "id": "crqUQcqQXROb",
        "outputId": "fbc46276-6ab3-485b-e3e4-0000c044b1c2"
      },
      "execution_count": 12,
      "outputs": [
        {
          "output_type": "execute_result",
          "data": {
            "text/plain": [
              "            Compraventa_Unitario  Participacion\n",
              "Fecha                                          \n",
              "2014-01-01           4198.150000           61.6\n",
              "2014-02-01           4198.150000           61.6\n",
              "2014-03-01           4198.150000           61.6\n",
              "2014-04-01           4246.083333           61.6\n",
              "2014-05-01           4246.083333           61.6"
            ],
            "text/html": [
              "\n",
              "  <div id=\"df-5ef2169b-e1bb-4418-b7e1-2b2d23aefae4\" class=\"colab-df-container\">\n",
              "    <div>\n",
              "<style scoped>\n",
              "    .dataframe tbody tr th:only-of-type {\n",
              "        vertical-align: middle;\n",
              "    }\n",
              "\n",
              "    .dataframe tbody tr th {\n",
              "        vertical-align: top;\n",
              "    }\n",
              "\n",
              "    .dataframe thead th {\n",
              "        text-align: right;\n",
              "    }\n",
              "</style>\n",
              "<table border=\"1\" class=\"dataframe\">\n",
              "  <thead>\n",
              "    <tr style=\"text-align: right;\">\n",
              "      <th></th>\n",
              "      <th>Compraventa_Unitario</th>\n",
              "      <th>Participacion</th>\n",
              "    </tr>\n",
              "    <tr>\n",
              "      <th>Fecha</th>\n",
              "      <th></th>\n",
              "      <th></th>\n",
              "    </tr>\n",
              "  </thead>\n",
              "  <tbody>\n",
              "    <tr>\n",
              "      <th>2014-01-01</th>\n",
              "      <td>4198.150000</td>\n",
              "      <td>61.6</td>\n",
              "    </tr>\n",
              "    <tr>\n",
              "      <th>2014-02-01</th>\n",
              "      <td>4198.150000</td>\n",
              "      <td>61.6</td>\n",
              "    </tr>\n",
              "    <tr>\n",
              "      <th>2014-03-01</th>\n",
              "      <td>4198.150000</td>\n",
              "      <td>61.6</td>\n",
              "    </tr>\n",
              "    <tr>\n",
              "      <th>2014-04-01</th>\n",
              "      <td>4246.083333</td>\n",
              "      <td>61.6</td>\n",
              "    </tr>\n",
              "    <tr>\n",
              "      <th>2014-05-01</th>\n",
              "      <td>4246.083333</td>\n",
              "      <td>61.6</td>\n",
              "    </tr>\n",
              "  </tbody>\n",
              "</table>\n",
              "</div>\n",
              "    <div class=\"colab-df-buttons\">\n",
              "\n",
              "  <div class=\"colab-df-container\">\n",
              "    <button class=\"colab-df-convert\" onclick=\"convertToInteractive('df-5ef2169b-e1bb-4418-b7e1-2b2d23aefae4')\"\n",
              "            title=\"Convert this dataframe to an interactive table.\"\n",
              "            style=\"display:none;\">\n",
              "\n",
              "  <svg xmlns=\"http://www.w3.org/2000/svg\" height=\"24px\" viewBox=\"0 -960 960 960\">\n",
              "    <path d=\"M120-120v-720h720v720H120Zm60-500h600v-160H180v160Zm220 220h160v-160H400v160Zm0 220h160v-160H400v160ZM180-400h160v-160H180v160Zm440 0h160v-160H620v160ZM180-180h160v-160H180v160Zm440 0h160v-160H620v160Z\"/>\n",
              "  </svg>\n",
              "    </button>\n",
              "\n",
              "  <style>\n",
              "    .colab-df-container {\n",
              "      display:flex;\n",
              "      gap: 12px;\n",
              "    }\n",
              "\n",
              "    .colab-df-convert {\n",
              "      background-color: #E8F0FE;\n",
              "      border: none;\n",
              "      border-radius: 50%;\n",
              "      cursor: pointer;\n",
              "      display: none;\n",
              "      fill: #1967D2;\n",
              "      height: 32px;\n",
              "      padding: 0 0 0 0;\n",
              "      width: 32px;\n",
              "    }\n",
              "\n",
              "    .colab-df-convert:hover {\n",
              "      background-color: #E2EBFA;\n",
              "      box-shadow: 0px 1px 2px rgba(60, 64, 67, 0.3), 0px 1px 3px 1px rgba(60, 64, 67, 0.15);\n",
              "      fill: #174EA6;\n",
              "    }\n",
              "\n",
              "    .colab-df-buttons div {\n",
              "      margin-bottom: 4px;\n",
              "    }\n",
              "\n",
              "    [theme=dark] .colab-df-convert {\n",
              "      background-color: #3B4455;\n",
              "      fill: #D2E3FC;\n",
              "    }\n",
              "\n",
              "    [theme=dark] .colab-df-convert:hover {\n",
              "      background-color: #434B5C;\n",
              "      box-shadow: 0px 1px 3px 1px rgba(0, 0, 0, 0.15);\n",
              "      filter: drop-shadow(0px 1px 2px rgba(0, 0, 0, 0.3));\n",
              "      fill: #FFFFFF;\n",
              "    }\n",
              "  </style>\n",
              "\n",
              "    <script>\n",
              "      const buttonEl =\n",
              "        document.querySelector('#df-5ef2169b-e1bb-4418-b7e1-2b2d23aefae4 button.colab-df-convert');\n",
              "      buttonEl.style.display =\n",
              "        google.colab.kernel.accessAllowed ? 'block' : 'none';\n",
              "\n",
              "      async function convertToInteractive(key) {\n",
              "        const element = document.querySelector('#df-5ef2169b-e1bb-4418-b7e1-2b2d23aefae4');\n",
              "        const dataTable =\n",
              "          await google.colab.kernel.invokeFunction('convertToInteractive',\n",
              "                                                    [key], {});\n",
              "        if (!dataTable) return;\n",
              "\n",
              "        const docLinkHtml = 'Like what you see? Visit the ' +\n",
              "          '<a target=\"_blank\" href=https://colab.research.google.com/notebooks/data_table.ipynb>data table notebook</a>'\n",
              "          + ' to learn more about interactive tables.';\n",
              "        element.innerHTML = '';\n",
              "        dataTable['output_type'] = 'display_data';\n",
              "        await google.colab.output.renderOutput(dataTable, element);\n",
              "        const docLink = document.createElement('div');\n",
              "        docLink.innerHTML = docLinkHtml;\n",
              "        element.appendChild(docLink);\n",
              "      }\n",
              "    </script>\n",
              "  </div>\n",
              "\n",
              "\n",
              "<div id=\"df-8bd5c813-98ef-40ae-9e4f-888ec8a09bb8\">\n",
              "  <button class=\"colab-df-quickchart\" onclick=\"quickchart('df-8bd5c813-98ef-40ae-9e4f-888ec8a09bb8')\"\n",
              "            title=\"Suggest charts\"\n",
              "            style=\"display:none;\">\n",
              "\n",
              "<svg xmlns=\"http://www.w3.org/2000/svg\" height=\"24px\"viewBox=\"0 0 24 24\"\n",
              "     width=\"24px\">\n",
              "    <g>\n",
              "        <path d=\"M19 3H5c-1.1 0-2 .9-2 2v14c0 1.1.9 2 2 2h14c1.1 0 2-.9 2-2V5c0-1.1-.9-2-2-2zM9 17H7v-7h2v7zm4 0h-2V7h2v10zm4 0h-2v-4h2v4z\"/>\n",
              "    </g>\n",
              "</svg>\n",
              "  </button>\n",
              "\n",
              "<style>\n",
              "  .colab-df-quickchart {\n",
              "      --bg-color: #E8F0FE;\n",
              "      --fill-color: #1967D2;\n",
              "      --hover-bg-color: #E2EBFA;\n",
              "      --hover-fill-color: #174EA6;\n",
              "      --disabled-fill-color: #AAA;\n",
              "      --disabled-bg-color: #DDD;\n",
              "  }\n",
              "\n",
              "  [theme=dark] .colab-df-quickchart {\n",
              "      --bg-color: #3B4455;\n",
              "      --fill-color: #D2E3FC;\n",
              "      --hover-bg-color: #434B5C;\n",
              "      --hover-fill-color: #FFFFFF;\n",
              "      --disabled-bg-color: #3B4455;\n",
              "      --disabled-fill-color: #666;\n",
              "  }\n",
              "\n",
              "  .colab-df-quickchart {\n",
              "    background-color: var(--bg-color);\n",
              "    border: none;\n",
              "    border-radius: 50%;\n",
              "    cursor: pointer;\n",
              "    display: none;\n",
              "    fill: var(--fill-color);\n",
              "    height: 32px;\n",
              "    padding: 0;\n",
              "    width: 32px;\n",
              "  }\n",
              "\n",
              "  .colab-df-quickchart:hover {\n",
              "    background-color: var(--hover-bg-color);\n",
              "    box-shadow: 0 1px 2px rgba(60, 64, 67, 0.3), 0 1px 3px 1px rgba(60, 64, 67, 0.15);\n",
              "    fill: var(--button-hover-fill-color);\n",
              "  }\n",
              "\n",
              "  .colab-df-quickchart-complete:disabled,\n",
              "  .colab-df-quickchart-complete:disabled:hover {\n",
              "    background-color: var(--disabled-bg-color);\n",
              "    fill: var(--disabled-fill-color);\n",
              "    box-shadow: none;\n",
              "  }\n",
              "\n",
              "  .colab-df-spinner {\n",
              "    border: 2px solid var(--fill-color);\n",
              "    border-color: transparent;\n",
              "    border-bottom-color: var(--fill-color);\n",
              "    animation:\n",
              "      spin 1s steps(1) infinite;\n",
              "  }\n",
              "\n",
              "  @keyframes spin {\n",
              "    0% {\n",
              "      border-color: transparent;\n",
              "      border-bottom-color: var(--fill-color);\n",
              "      border-left-color: var(--fill-color);\n",
              "    }\n",
              "    20% {\n",
              "      border-color: transparent;\n",
              "      border-left-color: var(--fill-color);\n",
              "      border-top-color: var(--fill-color);\n",
              "    }\n",
              "    30% {\n",
              "      border-color: transparent;\n",
              "      border-left-color: var(--fill-color);\n",
              "      border-top-color: var(--fill-color);\n",
              "      border-right-color: var(--fill-color);\n",
              "    }\n",
              "    40% {\n",
              "      border-color: transparent;\n",
              "      border-right-color: var(--fill-color);\n",
              "      border-top-color: var(--fill-color);\n",
              "    }\n",
              "    60% {\n",
              "      border-color: transparent;\n",
              "      border-right-color: var(--fill-color);\n",
              "    }\n",
              "    80% {\n",
              "      border-color: transparent;\n",
              "      border-right-color: var(--fill-color);\n",
              "      border-bottom-color: var(--fill-color);\n",
              "    }\n",
              "    90% {\n",
              "      border-color: transparent;\n",
              "      border-bottom-color: var(--fill-color);\n",
              "    }\n",
              "  }\n",
              "</style>\n",
              "\n",
              "  <script>\n",
              "    async function quickchart(key) {\n",
              "      const quickchartButtonEl =\n",
              "        document.querySelector('#' + key + ' button');\n",
              "      quickchartButtonEl.disabled = true;  // To prevent multiple clicks.\n",
              "      quickchartButtonEl.classList.add('colab-df-spinner');\n",
              "      try {\n",
              "        const charts = await google.colab.kernel.invokeFunction(\n",
              "            'suggestCharts', [key], {});\n",
              "      } catch (error) {\n",
              "        console.error('Error during call to suggestCharts:', error);\n",
              "      }\n",
              "      quickchartButtonEl.classList.remove('colab-df-spinner');\n",
              "      quickchartButtonEl.classList.add('colab-df-quickchart-complete');\n",
              "    }\n",
              "    (() => {\n",
              "      let quickchartButtonEl =\n",
              "        document.querySelector('#df-8bd5c813-98ef-40ae-9e4f-888ec8a09bb8 button');\n",
              "      quickchartButtonEl.style.display =\n",
              "        google.colab.kernel.accessAllowed ? 'block' : 'none';\n",
              "    })();\n",
              "  </script>\n",
              "</div>\n",
              "    </div>\n",
              "  </div>\n"
            ],
            "application/vnd.google.colaboratory.intrinsic+json": {
              "type": "dataframe",
              "variable_name": "df",
              "summary": "{\n  \"name\": \"df\",\n  \"rows\": 117,\n  \"fields\": [\n    {\n      \"column\": \"Fecha\",\n      \"properties\": {\n        \"dtype\": \"date\",\n        \"min\": \"2014-01-01 00:00:00\",\n        \"max\": \"2023-09-01 00:00:00\",\n        \"num_unique_values\": 117,\n        \"samples\": [\n          \"2017-09-01 00:00:00\",\n          \"2014-05-01 00:00:00\",\n          \"2018-06-01 00:00:00\"\n        ],\n        \"semantic_type\": \"\",\n        \"description\": \"\"\n      }\n    },\n    {\n      \"column\": \"Compraventa_Unitario\",\n      \"properties\": {\n        \"dtype\": \"number\",\n        \"std\": 580.2439456635011,\n        \"min\": 4198.150000000001,\n        \"max\": 6058.083333333333,\n        \"num_unique_values\": 31,\n        \"samples\": [\n          5429.983333333334,\n          5399.166666666667,\n          5874.216666666667\n        ],\n        \"semantic_type\": \"\",\n        \"description\": \"\"\n      }\n    },\n    {\n      \"column\": \"Participacion\",\n      \"properties\": {\n        \"dtype\": \"number\",\n        \"std\": 3.707630671862962,\n        \"min\": 61.6,\n        \"max\": 72.5,\n        \"num_unique_values\": 4,\n        \"samples\": [\n          66.3,\n          70.2,\n          61.6\n        ],\n        \"semantic_type\": \"\",\n        \"description\": \"\"\n      }\n    }\n  ]\n}"
            }
          },
          "metadata": {},
          "execution_count": 12
        }
      ]
    },
    {
      "cell_type": "code",
      "source": [
        "df.info()"
      ],
      "metadata": {
        "colab": {
          "base_uri": "https://localhost:8080/"
        },
        "id": "Hh8S56mnQwCB",
        "outputId": "cf349f53-dbf7-4723-fbd6-3ac16689f90c"
      },
      "execution_count": 13,
      "outputs": [
        {
          "output_type": "stream",
          "name": "stdout",
          "text": [
            "<class 'pandas.core.frame.DataFrame'>\n",
            "DatetimeIndex: 117 entries, 2014-01-01 to 2023-09-01\n",
            "Data columns (total 2 columns):\n",
            " #   Column                Non-Null Count  Dtype  \n",
            "---  ------                --------------  -----  \n",
            " 0   Compraventa_Unitario  117 non-null    float64\n",
            " 1   Participacion         117 non-null    float64\n",
            "dtypes: float64(2)\n",
            "memory usage: 2.7 KB\n"
          ]
        }
      ]
    },
    {
      "cell_type": "code",
      "source": [
        "fig, axes = plt.subplots(nrows = int(len(df.columns)), ncols = 1, dpi = 100, figsize = (14,10))\n",
        "unidades = ['€/m²', '% participacion']\n",
        "colores = ['#FF5733', '#3498DB']\n",
        "\n",
        "for i, (col,ax) in enumerate(zip(df.columns, axes.flatten())):\n",
        "    df[col].plot(color = colores[i], legend = True, ax = ax)\n",
        "    ax.set_ylabel(unidades[i])  # Establecer etiqueta del eje y\n",
        "plt.show()"
      ],
      "metadata": {
        "colab": {
          "base_uri": "https://localhost:8080/",
          "height": 850
        },
        "id": "fGqh8sGPU0l3",
        "outputId": "cf0492bd-393c-4697-f384-cf92608fe48f"
      },
      "execution_count": 14,
      "outputs": [
        {
          "output_type": "display_data",
          "data": {
            "text/plain": [
              "<Figure size 1400x1000 with 2 Axes>"
            ],
            "image/png": "[encoded data removed]"
          },
          "metadata": {}
        }
      ]
    },
    {
      "cell_type": "markdown",
      "source": [
        "Cada una de las series tiene patrones de tendencia muy diferentes entre si"
      ],
      "metadata": {
        "id": "pQPjDjNRN8PE"
      }
    },
    {
      "cell_type": "code",
      "source": [
        "corr=df.corr()\n",
        "corr"
      ],
      "metadata": {
        "colab": {
          "base_uri": "https://localhost:8080/",
          "height": 112
        },
        "id": "levxFlFsrUpd",
        "outputId": "ab91cc25-7e03-4cbc-da89-b3870d428048"
      },
      "execution_count": 15,
      "outputs": [
        {
          "output_type": "execute_result",
          "data": {
            "text/plain": [
              "                      Compraventa_Unitario  Participacion\n",
              "Compraventa_Unitario              1.000000       0.746986\n",
              "Participacion                     0.746986       1.000000"
            ],
            "text/html": [
              "\n",
              "  <div id=\"df-ab068a73-b50c-4610-9b04-9dfde3796e3f\" class=\"colab-df-container\">\n",
              "    <div>\n",
              "<style scoped>\n",
              "    .dataframe tbody tr th:only-of-type {\n",
              "        vertical-align: middle;\n",
              "    }\n",
              "\n",
              "    .dataframe tbody tr th {\n",
              "        vertical-align: top;\n",
              "    }\n",
              "\n",
              "    .dataframe thead th {\n",
              "        text-align: right;\n",
              "    }\n",
              "</style>\n",
              "<table border=\"1\" class=\"dataframe\">\n",
              "  <thead>\n",
              "    <tr style=\"text-align: right;\">\n",
              "      <th></th>\n",
              "      <th>Compraventa_Unitario</th>\n",
              "      <th>Participacion</th>\n",
              "    </tr>\n",
              "  </thead>\n",
              "  <tbody>\n",
              "    <tr>\n",
              "      <th>Compraventa_Unitario</th>\n",
              "      <td>1.000000</td>\n",
              "      <td>0.746986</td>\n",
              "    </tr>\n",
              "    <tr>\n",
              "      <th>Participacion</th>\n",
              "      <td>0.746986</td>\n",
              "      <td>1.000000</td>\n",
              "    </tr>\n",
              "  </tbody>\n",
              "</table>\n",
              "</div>\n",
              "    <div class=\"colab-df-buttons\">\n",
              "\n",
              "  <div class=\"colab-df-container\">\n",
              "    <button class=\"colab-df-convert\" onclick=\"convertToInteractive('df-ab068a73-b50c-4610-9b04-9dfde3796e3f')\"\n",
              "            title=\"Convert this dataframe to an interactive table.\"\n",
              "            style=\"display:none;\">\n",
              "\n",
              "  <svg xmlns=\"http://www.w3.org/2000/svg\" height=\"24px\" viewBox=\"0 -960 960 960\">\n",
              "    <path d=\"M120-120v-720h720v720H120Zm60-500h600v-160H180v160Zm220 220h160v-160H400v160Zm0 220h160v-160H400v160ZM180-400h160v-160H180v160Zm440 0h160v-160H620v160ZM180-180h160v-160H180v160Zm440 0h160v-160H620v160Z\"/>\n",
              "  </svg>\n",
              "    </button>\n",
              "\n",
              "  <style>\n",
              "    .colab-df-container {\n",
              "      display:flex;\n",
              "      gap: 12px;\n",
              "    }\n",
              "\n",
              "    .colab-df-convert {\n",
              "      background-color: #E8F0FE;\n",
              "      border: none;\n",
              "      border-radius: 50%;\n",
              "      cursor: pointer;\n",
              "      display: none;\n",
              "      fill: #1967D2;\n",
              "      height: 32px;\n",
              "      padding: 0 0 0 0;\n",
              "      width: 32px;\n",
              "    }\n",
              "\n",
              "    .colab-df-convert:hover {\n",
              "      background-color: #E2EBFA;\n",
              "      box-shadow: 0px 1px 2px rgba(60, 64, 67, 0.3), 0px 1px 3px 1px rgba(60, 64, 67, 0.15);\n",
              "      fill: #174EA6;\n",
              "    }\n",
              "\n",
              "    .colab-df-buttons div {\n",
              "      margin-bottom: 4px;\n",
              "    }\n",
              "\n",
              "    [theme=dark] .colab-df-convert {\n",
              "      background-color: #3B4455;\n",
              "      fill: #D2E3FC;\n",
              "    }\n",
              "\n",
              "    [theme=dark] .colab-df-convert:hover {\n",
              "      background-color: #434B5C;\n",
              "      box-shadow: 0px 1px 3px 1px rgba(0, 0, 0, 0.15);\n",
              "      filter: drop-shadow(0px 1px 2px rgba(0, 0, 0, 0.3));\n",
              "      fill: #FFFFFF;\n",
              "    }\n",
              "  </style>\n",
              "\n",
              "    <script>\n",
              "      const buttonEl =\n",
              "        document.querySelector('#df-ab068a73-b50c-4610-9b04-9dfde3796e3f button.colab-df-convert');\n",
              "      buttonEl.style.display =\n",
              "        google.colab.kernel.accessAllowed ? 'block' : 'none';\n",
              "\n",
              "      async function convertToInteractive(key) {\n",
              "        const element = document.querySelector('#df-ab068a73-b50c-4610-9b04-9dfde3796e3f');\n",
              "        const dataTable =\n",
              "          await google.colab.kernel.invokeFunction('convertToInteractive',\n",
              "                                                    [key], {});\n",
              "        if (!dataTable) return;\n",
              "\n",
              "        const docLinkHtml = 'Like what you see? Visit the ' +\n",
              "          '<a target=\"_blank\" href=https://colab.research.google.com/notebooks/data_table.ipynb>data table notebook</a>'\n",
              "          + ' to learn more about interactive tables.';\n",
              "        element.innerHTML = '';\n",
              "        dataTable['output_type'] = 'display_data';\n",
              "        await google.colab.output.renderOutput(dataTable, element);\n",
              "        const docLink = document.createElement('div');\n",
              "        docLink.innerHTML = docLinkHtml;\n",
              "        element.appendChild(docLink);\n",
              "      }\n",
              "    </script>\n",
              "  </div>\n",
              "\n",
              "\n",
              "<div id=\"df-5e19f850-9263-4b9b-93a7-e207a8613809\">\n",
              "  <button class=\"colab-df-quickchart\" onclick=\"quickchart('df-5e19f850-9263-4b9b-93a7-e207a8613809')\"\n",
              "            title=\"Suggest charts\"\n",
              "            style=\"display:none;\">\n",
              "\n",
              "<svg xmlns=\"http://www.w3.org/2000/svg\" height=\"24px\"viewBox=\"0 0 24 24\"\n",
              "     width=\"24px\">\n",
              "    <g>\n",
              "        <path d=\"M19 3H5c-1.1 0-2 .9-2 2v14c0 1.1.9 2 2 2h14c1.1 0 2-.9 2-2V5c0-1.1-.9-2-2-2zM9 17H7v-7h2v7zm4 0h-2V7h2v10zm4 0h-2v-4h2v4z\"/>\n",
              "    </g>\n",
              "</svg>\n",
              "  </button>\n",
              "\n",
              "<style>\n",
              "  .colab-df-quickchart {\n",
              "      --bg-color: #E8F0FE;\n",
              "      --fill-color: #1967D2;\n",
              "      --hover-bg-color: #E2EBFA;\n",
              "      --hover-fill-color: #174EA6;\n",
              "      --disabled-fill-color: #AAA;\n",
              "      --disabled-bg-color: #DDD;\n",
              "  }\n",
              "\n",
              "  [theme=dark] .colab-df-quickchart {\n",
              "      --bg-color: #3B4455;\n",
              "      --fill-color: #D2E3FC;\n",
              "      --hover-bg-color: #434B5C;\n",
              "      --hover-fill-color: #FFFFFF;\n",
              "      --disabled-bg-color: #3B4455;\n",
              "      --disabled-fill-color: #666;\n",
              "  }\n",
              "\n",
              "  .colab-df-quickchart {\n",
              "    background-color: var(--bg-color);\n",
              "    border: none;\n",
              "    border-radius: 50%;\n",
              "    cursor: pointer;\n",
              "    display: none;\n",
              "    fill: var(--fill-color);\n",
              "    height: 32px;\n",
              "    padding: 0;\n",
              "    width: 32px;\n",
              "  }\n",
              "\n",
              "  .colab-df-quickchart:hover {\n",
              "    background-color: var(--hover-bg-color);\n",
              "    box-shadow: 0 1px 2px rgba(60, 64, 67, 0.3), 0 1px 3px 1px rgba(60, 64, 67, 0.15);\n",
              "    fill: var(--button-hover-fill-color);\n",
              "  }\n",
              "\n",
              "  .colab-df-quickchart-complete:disabled,\n",
              "  .colab-df-quickchart-complete:disabled:hover {\n",
              "    background-color: var(--disabled-bg-color);\n",
              "    fill: var(--disabled-fill-color);\n",
              "    box-shadow: none;\n",
              "  }\n",
              "\n",
              "  .colab-df-spinner {\n",
              "    border: 2px solid var(--fill-color);\n",
              "    border-color: transparent;\n",
              "    border-bottom-color: var(--fill-color);\n",
              "    animation:\n",
              "      spin 1s steps(1) infinite;\n",
              "  }\n",
              "\n",
              "  @keyframes spin {\n",
              "    0% {\n",
              "      border-color: transparent;\n",
              "      border-bottom-color: var(--fill-color);\n",
              "      border-left-color: var(--fill-color);\n",
              "    }\n",
              "    20% {\n",
              "      border-color: transparent;\n",
              "      border-left-color: var(--fill-color);\n",
              "      border-top-color: var(--fill-color);\n",
              "    }\n",
              "    30% {\n",
              "      border-color: transparent;\n",
              "      border-left-color: var(--fill-color);\n",
              "      border-top-color: var(--fill-color);\n",
              "      border-right-color: var(--fill-color);\n",
              "    }\n",
              "    40% {\n",
              "      border-color: transparent;\n",
              "      border-right-color: var(--fill-color);\n",
              "      border-top-color: var(--fill-color);\n",
              "    }\n",
              "    60% {\n",
              "      border-color: transparent;\n",
              "      border-right-color: var(--fill-color);\n",
              "    }\n",
              "    80% {\n",
              "      border-color: transparent;\n",
              "      border-right-color: var(--fill-color);\n",
              "      border-bottom-color: var(--fill-color);\n",
              "    }\n",
              "    90% {\n",
              "      border-color: transparent;\n",
              "      border-bottom-color: var(--fill-color);\n",
              "    }\n",
              "  }\n",
              "</style>\n",
              "\n",
              "  <script>\n",
              "    async function quickchart(key) {\n",
              "      const quickchartButtonEl =\n",
              "        document.querySelector('#' + key + ' button');\n",
              "      quickchartButtonEl.disabled = true;  // To prevent multiple clicks.\n",
              "      quickchartButtonEl.classList.add('colab-df-spinner');\n",
              "      try {\n",
              "        const charts = await google.colab.kernel.invokeFunction(\n",
              "            'suggestCharts', [key], {});\n",
              "      } catch (error) {\n",
              "        console.error('Error during call to suggestCharts:', error);\n",
              "      }\n",
              "      quickchartButtonEl.classList.remove('colab-df-spinner');\n",
              "      quickchartButtonEl.classList.add('colab-df-quickchart-complete');\n",
              "    }\n",
              "    (() => {\n",
              "      let quickchartButtonEl =\n",
              "        document.querySelector('#df-5e19f850-9263-4b9b-93a7-e207a8613809 button');\n",
              "      quickchartButtonEl.style.display =\n",
              "        google.colab.kernel.accessAllowed ? 'block' : 'none';\n",
              "    })();\n",
              "  </script>\n",
              "</div>\n",
              "    </div>\n",
              "  </div>\n"
            ],
            "application/vnd.google.colaboratory.intrinsic+json": {
              "type": "dataframe",
              "variable_name": "corr",
              "summary": "{\n  \"name\": \"corr\",\n  \"rows\": 2,\n  \"fields\": [\n    {\n      \"column\": \"Compraventa_Unitario\",\n      \"properties\": {\n        \"dtype\": \"number\",\n        \"std\": 0.17890803957558024,\n        \"min\": 0.746985824014632,\n        \"max\": 1.0,\n        \"num_unique_values\": 2,\n        \"samples\": [\n          0.746985824014632,\n          1.0\n        ],\n        \"semantic_type\": \"\",\n        \"description\": \"\"\n      }\n    },\n    {\n      \"column\": \"Participacion\",\n      \"properties\": {\n        \"dtype\": \"number\",\n        \"std\": 0.17890803957558024,\n        \"min\": 0.746985824014632,\n        \"max\": 1.0,\n        \"num_unique_values\": 2,\n        \"samples\": [\n          1.0,\n          0.746985824014632\n        ],\n        \"semantic_type\": \"\",\n        \"description\": \"\"\n      }\n    }\n  ]\n}"
            }
          },
          "metadata": {},
          "execution_count": 15
        }
      ]
    },
    {
      "cell_type": "code",
      "source": [
        "import seaborn as sb\n",
        "fig, ax = plt.subplots(figsize=(12, 10))\n",
        "\n",
        "sb.heatmap(corr, xticklabels=corr.columns.values, yticklabels=corr.columns.values, annot=True,vmax=1, vmin=-1, cmap =sb.diverging_palette(220, 10, as_cmap=True),center=0,ax=ax )\n",
        "plt.show()"
      ],
      "metadata": {
        "colab": {
          "base_uri": "https://localhost:8080/",
          "height": 836
        },
        "id": "-snhTk3AzH69",
        "outputId": "17628748-1189-4154-e949-a10abbffec64"
      },
      "execution_count": 16,
      "outputs": [
        {
          "output_type": "display_data",
          "data": {
            "text/plain": [
              "<Figure size 1200x1000 with 2 Axes>"
            ],
            "image/png": "[encoded data removed]"
          },
          "metadata": {}
        }
      ]
    },
    {
      "cell_type": "markdown",
      "source": [
        "La correlación entre \"Compraventa_Unitario\" y \"Participacion\" es de 0.746986, lo que sugiere una correlación positiva elevada entre estas dos variables en el modelo."
      ],
      "metadata": {
        "id": "17ib49lFVZX-"
      }
    },
    {
      "cell_type": "markdown",
      "source": [
        "### Modelo VAR"
      ],
      "metadata": {
        "id": "NwY4i2qnaNTw"
      }
    },
    {
      "cell_type": "markdown",
      "source": [
        "El modelo VAR es una extension del modelo ARIMA para multiples series temporales, es decir en vez de modelar una sola srie temporal, el VAR modela simultaneamente todas las series temporales de un sistema.\n",
        "Cada serie temporal se regresa en función de usus propios valores pasados y de los valores pasados de las otras series temporales.\n",
        "**Es util cuando las diferentes series temporales estan interrelacionadas y se influyen mutuamente.**\n",
        "\n",
        "\n"
      ],
      "metadata": {
        "id": "0VwfWqC6aSvt"
      }
    },
    {
      "cell_type": "markdown",
      "source": [
        "##### Dividir los datos en conjunto de Entrenamiento y Prueba\n"
      ],
      "metadata": {
        "id": "5NpmqItO11jH"
      }
    },
    {
      "cell_type": "markdown",
      "source": [
        "El modelo VAR se ajustará al conjunto de entrenamiento X_train y luego se utilizará el modelo para pronosticar las observaciones futuras. Estos pronósticos se compararán con los datos reales del conjunto de prueba.\n",
        "\n",
        "\n",
        "\n",
        "---\n",
        "\n"
      ],
      "metadata": {
        "id": "IMwi617mPp7g"
      }
    },
    {
      "cell_type": "code",
      "source": [
        "fecha_division = '2023-01-01'\n",
        "\n",
        "X_train, X_test = df[df.index<fecha_division], df[df.index>=fecha_division]\n",
        "print(X_train.shape, X_test.shape)\n"
      ],
      "metadata": {
        "colab": {
          "base_uri": "https://localhost:8080/"
        },
        "id": "zyaebvtrPnx_",
        "outputId": "12ffe3d0-bcd1-4f7e-ba14-432f9cd6e8c3"
      },
      "execution_count": 17,
      "outputs": [
        {
          "output_type": "stream",
          "name": "stdout",
          "text": [
            "(108, 2) (9, 2)\n"
          ]
        }
      ]
    },
    {
      "cell_type": "markdown",
      "source": [
        "##### Prueba de estacionariedad"
      ],
      "metadata": {
        "id": "5SVv-ZRJQyjz"
      }
    },
    {
      "cell_type": "markdown",
      "source": [
        "Necesitamos que los datos sean estacionarios para poder usar el modelo VAR. Vamos a averiguarlo haciendo un Test de Dickey-Fuller aumentado, a cada variable univariante que tiene nuestro dataset."
      ],
      "metadata": {
        "id": "_ono9B4fQ18F"
      }
    },
    {
      "cell_type": "code",
      "source": [
        "import statsmodels.tsa.stattools as sts"
      ],
      "metadata": {
        "id": "S4tuHEeYQyLb"
      },
      "execution_count": 18,
      "outputs": []
    },
    {
      "cell_type": "code",
      "source": [
        "def augmented_dickey_fuller_statistics(time_series):\n",
        "  result = sts.adfuller(time_series.values)\n",
        "  print('p-value: %f' % result[1])\n",
        "\n",
        "print('Test de Dickey-Fuller Aumentado:')\n",
        "for i in range(len(X_train.columns)):\n",
        "  print('Serie de tiempo',X_train.columns[i])\n",
        "  augmented_dickey_fuller_statistics(X_train.iloc[:,i])"
      ],
      "metadata": {
        "colab": {
          "base_uri": "https://localhost:8080/"
        },
        "id": "FD7cALeyQ9ci",
        "outputId": "1d90bd4c-2348-4836-fc5f-268e1c275b58"
      },
      "execution_count": 19,
      "outputs": [
        {
          "output_type": "stream",
          "name": "stdout",
          "text": [
            "Test de Dickey-Fuller Aumentado:\n",
            "Serie de tiempo Compraventa_Unitario\n",
            "p-value: 0.820608\n",
            "Serie de tiempo Participacion\n",
            "p-value: 0.498925\n"
          ]
        }
      ]
    },
    {
      "cell_type": "markdown",
      "source": [
        "Los p-valores son mayores que 0.05, con lo cual no se rechaza la hipótesis nula de que la serie no es estacionaria. Habría que transformar los datos porque no se puede confirmar estacionariedad."
      ],
      "metadata": {
        "id": "SeyX4SiHTwly"
      }
    },
    {
      "cell_type": "code",
      "source": [
        "#Diferenciando por primera vez\n",
        "X_train_transformed=X_train.diff().dropna()\n",
        "X_train_transformed.head()"
      ],
      "metadata": {
        "colab": {
          "base_uri": "https://localhost:8080/",
          "height": 237
        },
        "id": "kFiZxufeTvXa",
        "outputId": "7ad4a4d5-9214-47d7-a325-b3416b76c7c9"
      },
      "execution_count": 20,
      "outputs": [
        {
          "output_type": "execute_result",
          "data": {
            "text/plain": [
              "            Compraventa_Unitario  Participacion\n",
              "Fecha                                          \n",
              "2014-02-01              0.000000            0.0\n",
              "2014-03-01              0.000000            0.0\n",
              "2014-04-01             47.933333            0.0\n",
              "2014-05-01              0.000000            0.0\n",
              "2014-06-01              0.000000            0.0"
            ],
            "text/html": [
              "\n",
              "  <div id=\"df-49d0f653-c3a4-4055-be34-5fa5ea085d85\" class=\"colab-df-container\">\n",
              "    <div>\n",
              "<style scoped>\n",
              "    .dataframe tbody tr th:only-of-type {\n",
              "        vertical-align: middle;\n",
              "    }\n",
              "\n",
              "    .dataframe tbody tr th {\n",
              "        vertical-align: top;\n",
              "    }\n",
              "\n",
              "    .dataframe thead th {\n",
              "        text-align: right;\n",
              "    }\n",
              "</style>\n",
              "<table border=\"1\" class=\"dataframe\">\n",
              "  <thead>\n",
              "    <tr style=\"text-align: right;\">\n",
              "      <th></th>\n",
              "      <th>Compraventa_Unitario</th>\n",
              "      <th>Participacion</th>\n",
              "    </tr>\n",
              "    <tr>\n",
              "      <th>Fecha</th>\n",
              "      <th></th>\n",
              "      <th></th>\n",
              "    </tr>\n",
              "  </thead>\n",
              "  <tbody>\n",
              "    <tr>\n",
              "      <th>2014-02-01</th>\n",
              "      <td>0.000000</td>\n",
              "      <td>0.0</td>\n",
              "    </tr>\n",
              "    <tr>\n",
              "      <th>2014-03-01</th>\n",
              "      <td>0.000000</td>\n",
              "      <td>0.0</td>\n",
              "    </tr>\n",
              "    <tr>\n",
              "      <th>2014-04-01</th>\n",
              "      <td>47.933333</td>\n",
              "      <td>0.0</td>\n",
              "    </tr>\n",
              "    <tr>\n",
              "      <th>2014-05-01</th>\n",
              "      <td>0.000000</td>\n",
              "      <td>0.0</td>\n",
              "    </tr>\n",
              "    <tr>\n",
              "      <th>2014-06-01</th>\n",
              "      <td>0.000000</td>\n",
              "      <td>0.0</td>\n",
              "    </tr>\n",
              "  </tbody>\n",
              "</table>\n",
              "</div>\n",
              "    <div class=\"colab-df-buttons\">\n",
              "\n",
              "  <div class=\"colab-df-container\">\n",
              "    <button class=\"colab-df-convert\" onclick=\"convertToInteractive('df-49d0f653-c3a4-4055-be34-5fa5ea085d85')\"\n",
              "            title=\"Convert this dataframe to an interactive table.\"\n",
              "            style=\"display:none;\">\n",
              "\n",
              "  <svg xmlns=\"http://www.w3.org/2000/svg\" height=\"24px\" viewBox=\"0 -960 960 960\">\n",
              "    <path d=\"M120-120v-720h720v720H120Zm60-500h600v-160H180v160Zm220 220h160v-160H400v160Zm0 220h160v-160H400v160ZM180-400h160v-160H180v160Zm440 0h160v-160H620v160ZM180-180h160v-160H180v160Zm440 0h160v-160H620v160Z\"/>\n",
              "  </svg>\n",
              "    </button>\n",
              "\n",
              "  <style>\n",
              "    .colab-df-container {\n",
              "      display:flex;\n",
              "      gap: 12px;\n",
              "    }\n",
              "\n",
              "    .colab-df-convert {\n",
              "      background-color: #E8F0FE;\n",
              "      border: none;\n",
              "      border-radius: 50%;\n",
              "      cursor: pointer;\n",
              "      display: none;\n",
              "      fill: #1967D2;\n",
              "      height: 32px;\n",
              "      padding: 0 0 0 0;\n",
              "      width: 32px;\n",
              "    }\n",
              "\n",
              "    .colab-df-convert:hover {\n",
              "      background-color: #E2EBFA;\n",
              "      box-shadow: 0px 1px 2px rgba(60, 64, 67, 0.3), 0px 1px 3px 1px rgba(60, 64, 67, 0.15);\n",
              "      fill: #174EA6;\n",
              "    }\n",
              "\n",
              "    .colab-df-buttons div {\n",
              "      margin-bottom: 4px;\n",
              "    }\n",
              "\n",
              "    [theme=dark] .colab-df-convert {\n",
              "      background-color: #3B4455;\n",
              "      fill: #D2E3FC;\n",
              "    }\n",
              "\n",
              "    [theme=dark] .colab-df-convert:hover {\n",
              "      background-color: #434B5C;\n",
              "      box-shadow: 0px 1px 3px 1px rgba(0, 0, 0, 0.15);\n",
              "      filter: drop-shadow(0px 1px 2px rgba(0, 0, 0, 0.3));\n",
              "      fill: #FFFFFF;\n",
              "    }\n",
              "  </style>\n",
              "\n",
              "    <script>\n",
              "      const buttonEl =\n",
              "        document.querySelector('#df-49d0f653-c3a4-4055-be34-5fa5ea085d85 button.colab-df-convert');\n",
              "      buttonEl.style.display =\n",
              "        google.colab.kernel.accessAllowed ? 'block' : 'none';\n",
              "\n",
              "      async function convertToInteractive(key) {\n",
              "        const element = document.querySelector('#df-49d0f653-c3a4-4055-be34-5fa5ea085d85');\n",
              "        const dataTable =\n",
              "          await google.colab.kernel.invokeFunction('convertToInteractive',\n",
              "                                                    [key], {});\n",
              "        if (!dataTable) return;\n",
              "\n",
              "        const docLinkHtml = 'Like what you see? Visit the ' +\n",
              "          '<a target=\"_blank\" href=https://colab.research.google.com/notebooks/data_table.ipynb>data table notebook</a>'\n",
              "          + ' to learn more about interactive tables.';\n",
              "        element.innerHTML = '';\n",
              "        dataTable['output_type'] = 'display_data';\n",
              "        await google.colab.output.renderOutput(dataTable, element);\n",
              "        const docLink = document.createElement('div');\n",
              "        docLink.innerHTML = docLinkHtml;\n",
              "        element.appendChild(docLink);\n",
              "      }\n",
              "    </script>\n",
              "  </div>\n",
              "\n",
              "\n",
              "<div id=\"df-907b6843-5fc7-4291-8314-275ea8315a65\">\n",
              "  <button class=\"colab-df-quickchart\" onclick=\"quickchart('df-907b6843-5fc7-4291-8314-275ea8315a65')\"\n",
              "            title=\"Suggest charts\"\n",
              "            style=\"display:none;\">\n",
              "\n",
              "<svg xmlns=\"http://www.w3.org/2000/svg\" height=\"24px\"viewBox=\"0 0 24 24\"\n",
              "     width=\"24px\">\n",
              "    <g>\n",
              "        <path d=\"M19 3H5c-1.1 0-2 .9-2 2v14c0 1.1.9 2 2 2h14c1.1 0 2-.9 2-2V5c0-1.1-.9-2-2-2zM9 17H7v-7h2v7zm4 0h-2V7h2v10zm4 0h-2v-4h2v4z\"/>\n",
              "    </g>\n",
              "</svg>\n",
              "  </button>\n",
              "\n",
              "<style>\n",
              "  .colab-df-quickchart {\n",
              "      --bg-color: #E8F0FE;\n",
              "      --fill-color: #1967D2;\n",
              "      --hover-bg-color: #E2EBFA;\n",
              "      --hover-fill-color: #174EA6;\n",
              "      --disabled-fill-color: #AAA;\n",
              "      --disabled-bg-color: #DDD;\n",
              "  }\n",
              "\n",
              "  [theme=dark] .colab-df-quickchart {\n",
              "      --bg-color: #3B4455;\n",
              "      --fill-color: #D2E3FC;\n",
              "      --hover-bg-color: #434B5C;\n",
              "      --hover-fill-color: #FFFFFF;\n",
              "      --disabled-bg-color: #3B4455;\n",
              "      --disabled-fill-color: #666;\n",
              "  }\n",
              "\n",
              "  .colab-df-quickchart {\n",
              "    background-color: var(--bg-color);\n",
              "    border: none;\n",
              "    border-radius: 50%;\n",
              "    cursor: pointer;\n",
              "    display: none;\n",
              "    fill: var(--fill-color);\n",
              "    height: 32px;\n",
              "    padding: 0;\n",
              "    width: 32px;\n",
              "  }\n",
              "\n",
              "  .colab-df-quickchart:hover {\n",
              "    background-color: var(--hover-bg-color);\n",
              "    box-shadow: 0 1px 2px rgba(60, 64, 67, 0.3), 0 1px 3px 1px rgba(60, 64, 67, 0.15);\n",
              "    fill: var(--button-hover-fill-color);\n",
              "  }\n",
              "\n",
              "  .colab-df-quickchart-complete:disabled,\n",
              "  .colab-df-quickchart-complete:disabled:hover {\n",
              "    background-color: var(--disabled-bg-color);\n",
              "    fill: var(--disabled-fill-color);\n",
              "    box-shadow: none;\n",
              "  }\n",
              "\n",
              "  .colab-df-spinner {\n",
              "    border: 2px solid var(--fill-color);\n",
              "    border-color: transparent;\n",
              "    border-bottom-color: var(--fill-color);\n",
              "    animation:\n",
              "      spin 1s steps(1) infinite;\n",
              "  }\n",
              "\n",
              "  @keyframes spin {\n",
              "    0% {\n",
              "      border-color: transparent;\n",
              "      border-bottom-color: var(--fill-color);\n",
              "      border-left-color: var(--fill-color);\n",
              "    }\n",
              "    20% {\n",
              "      border-color: transparent;\n",
              "      border-left-color: var(--fill-color);\n",
              "      border-top-color: var(--fill-color);\n",
              "    }\n",
              "    30% {\n",
              "      border-color: transparent;\n",
              "      border-left-color: var(--fill-color);\n",
              "      border-top-color: var(--fill-color);\n",
              "      border-right-color: var(--fill-color);\n",
              "    }\n",
              "    40% {\n",
              "      border-color: transparent;\n",
              "      border-right-color: var(--fill-color);\n",
              "      border-top-color: var(--fill-color);\n",
              "    }\n",
              "    60% {\n",
              "      border-color: transparent;\n",
              "      border-right-color: var(--fill-color);\n",
              "    }\n",
              "    80% {\n",
              "      border-color: transparent;\n",
              "      border-right-color: var(--fill-color);\n",
              "      border-bottom-color: var(--fill-color);\n",
              "    }\n",
              "    90% {\n",
              "      border-color: transparent;\n",
              "      border-bottom-color: var(--fill-color);\n",
              "    }\n",
              "  }\n",
              "</style>\n",
              "\n",
              "  <script>\n",
              "    async function quickchart(key) {\n",
              "      const quickchartButtonEl =\n",
              "        document.querySelector('#' + key + ' button');\n",
              "      quickchartButtonEl.disabled = true;  // To prevent multiple clicks.\n",
              "      quickchartButtonEl.classList.add('colab-df-spinner');\n",
              "      try {\n",
              "        const charts = await google.colab.kernel.invokeFunction(\n",
              "            'suggestCharts', [key], {});\n",
              "      } catch (error) {\n",
              "        console.error('Error during call to suggestCharts:', error);\n",
              "      }\n",
              "      quickchartButtonEl.classList.remove('colab-df-spinner');\n",
              "      quickchartButtonEl.classList.add('colab-df-quickchart-complete');\n",
              "    }\n",
              "    (() => {\n",
              "      let quickchartButtonEl =\n",
              "        document.querySelector('#df-907b6843-5fc7-4291-8314-275ea8315a65 button');\n",
              "      quickchartButtonEl.style.display =\n",
              "        google.colab.kernel.accessAllowed ? 'block' : 'none';\n",
              "    })();\n",
              "  </script>\n",
              "</div>\n",
              "    </div>\n",
              "  </div>\n"
            ],
            "application/vnd.google.colaboratory.intrinsic+json": {
              "type": "dataframe",
              "variable_name": "X_train_transformed",
              "summary": "{\n  \"name\": \"X_train_transformed\",\n  \"rows\": 107,\n  \"fields\": [\n    {\n      \"column\": \"Fecha\",\n      \"properties\": {\n        \"dtype\": \"date\",\n        \"min\": \"2014-02-01 00:00:00\",\n        \"max\": \"2022-12-01 00:00:00\",\n        \"num_unique_values\": 107,\n        \"samples\": [\n          \"2020-06-01 00:00:00\",\n          \"2014-12-01 00:00:00\",\n          \"2014-06-01 00:00:00\"\n        ],\n        \"semantic_type\": \"\",\n        \"description\": \"\"\n      }\n    },\n    {\n      \"column\": \"Compraventa_Unitario\",\n      \"properties\": {\n        \"dtype\": \"number\",\n        \"std\": 148.74409068285175,\n        \"min\": -588.4666666666672,\n        \"max\": 551.1666666666661,\n        \"num_unique_values\": 29,\n        \"samples\": [\n          -33.46666666666715,\n          54.66666666666697,\n          17.550000000000182\n        ],\n        \"semantic_type\": \"\",\n        \"description\": \"\"\n      }\n    },\n    {\n      \"column\": \"Participacion\",\n      \"properties\": {\n        \"dtype\": \"number\",\n        \"std\": 0.7487072265051163,\n        \"min\": 0.0,\n        \"max\": 6.200000000000003,\n        \"num_unique_values\": 3,\n        \"samples\": [\n          0.0,\n          4.699999999999996,\n          6.200000000000003\n        ],\n        \"semantic_type\": \"\",\n        \"description\": \"\"\n      }\n    }\n  ]\n}"
            }
          },
          "metadata": {},
          "execution_count": 20
        }
      ]
    },
    {
      "cell_type": "code",
      "source": [
        "# Plot\n",
        "fig, axes = plt.subplots(nrows=1, ncols=2, dpi=120, figsize=(12,6))\n",
        "for i, ax in enumerate(axes.flatten()):\n",
        "    data = X_train_transformed[X_train_transformed.columns[i]]\n",
        "    ax.plot(data, color='red', linewidth=1)\n",
        "    # Decorations\n",
        "    ax.set_title(X_train_transformed.columns[i])\n",
        "    ax.xaxis.set_ticks_position('none')\n",
        "    ax.yaxis.set_ticks_position('none')\n",
        "    ax.spines[\"top\"].set_alpha(0)\n",
        "    ax.tick_params(labelsize=6)\n",
        "\n",
        "plt.tight_layout();"
      ],
      "metadata": {
        "colab": {
          "base_uri": "https://localhost:8080/",
          "height": 724
        },
        "id": "pxjCD3UiVntH",
        "outputId": "1506df17-b877-497b-9d35-80a582d24cab"
      },
      "execution_count": 21,
      "outputs": [
        {
          "output_type": "display_data",
          "data": {
            "text/plain": [
              "<Figure size 1440x720 with 2 Axes>"
            ],
            "image/png": "[encoded data removed]"
          },
          "metadata": {}
        }
      ]
    },
    {
      "cell_type": "code",
      "source": [
        "print('Test de Dickey-Fuller Aumentado 2da vez:')\n",
        "for i in range(len(X_train_transformed.columns)):\n",
        "  print('Serie de tiempo transformada', 'Variable', X_train_transformed.columns[i])\n",
        "  augmented_dickey_fuller_statistics(X_train_transformed.iloc[:,i])"
      ],
      "metadata": {
        "colab": {
          "base_uri": "https://localhost:8080/"
        },
        "id": "IpD-XMEyYlzG",
        "outputId": "f3b19aa4-4439-4330-a8c9-52b3cfc77f77"
      },
      "execution_count": 22,
      "outputs": [
        {
          "output_type": "stream",
          "name": "stdout",
          "text": [
            "Test de Dickey-Fuller Aumentado 2da vez:\n",
            "Serie de tiempo transformada Variable Compraventa_Unitario\n",
            "p-value: 0.000000\n",
            "Serie de tiempo transformada Variable Participacion\n",
            "p-value: 0.000000\n"
          ]
        }
      ]
    },
    {
      "cell_type": "markdown",
      "source": [
        "Todos los p-valores son < 0.05 por lo tanto se podría concluir que con 1 orden de diferenciación se obtienen series estacionarias."
      ],
      "metadata": {
        "id": "dOMQKGKvaFTC"
      }
    },
    {
      "cell_type": "code",
      "source": [
        "from statsmodels.tsa.api import VAR"
      ],
      "metadata": {
        "id": "coq_4K-UaWtz"
      },
      "execution_count": 23,
      "outputs": []
    },
    {
      "cell_type": "code",
      "source": [
        "model = VAR(X_train_transformed)"
      ],
      "metadata": {
        "colab": {
          "base_uri": "https://localhost:8080/"
        },
        "id": "eU2dchNIaX_2",
        "outputId": "3dfa8305-cb87-4028-a28a-d79b2b6b6109"
      },
      "execution_count": 24,
      "outputs": [
        {
          "output_type": "stream",
          "name": "stderr",
          "text": [
            "/usr/local/lib/python3.10/dist-packages/statsmodels/tsa/base/tsa_model.py:473: ValueWarning: No frequency information was provided, so inferred frequency MS will be used.\n",
            "  self._init_dates(dates, freq)\n"
          ]
        }
      ]
    },
    {
      "cell_type": "markdown",
      "source": [
        "#### Seleccionando el orden del modelo"
      ],
      "metadata": {
        "id": "kDdnofXtacuY"
      }
    },
    {
      "cell_type": "markdown",
      "source": [
        "El término \"select order\" se refiere al proceso de selección del orden óptimo del modelo, es decir, el número adecuado de lags para incluir en el modelo VAR."
      ],
      "metadata": {
        "id": "0ONN76q0FD8w"
      }
    },
    {
      "cell_type": "code",
      "source": [
        "modelsel=model.select_order(34)\n",
        "modelsel.summary()"
      ],
      "metadata": {
        "colab": {
          "base_uri": "https://localhost:8080/",
          "height": 788
        },
        "id": "vwWHPsSUamSH",
        "outputId": "6b690bae-1f41-4dcc-ccb0-7c3caf2de9e1"
      },
      "execution_count": 25,
      "outputs": [
        {
          "output_type": "execute_result",
          "data": {
            "text/plain": [
              "<class 'statsmodels.iolib.table.SimpleTable'>"
            ],
            "text/html": [
              "<table class=\"simpletable\">\n",
              "<caption>VAR Order Selection (* highlights the minimums)</caption>\n",
              "<tr>\n",
              "   <td></td>      <th>AIC</th>         <th>BIC</th>         <th>FPE</th>        <th>HQIC</th>    \n",
              "</tr>\n",
              "<tr>\n",
              "  <th>0</th>  <td>     9.654</td>  <td>     9.716*</td> <td> 1.558e+04*</td> <td>     9.679*</td>\n",
              "</tr>\n",
              "<tr>\n",
              "  <th>1</th>  <td>     9.763</td>  <td>     9.951</td>  <td> 1.738e+04</td>  <td>     9.838</td> \n",
              "</tr>\n",
              "<tr>\n",
              "  <th>2</th>  <td>     9.872</td>  <td>     10.19</td>  <td> 1.939e+04</td>  <td>     9.997</td> \n",
              "</tr>\n",
              "<tr>\n",
              "  <th>3</th>  <td>     9.953</td>  <td>     10.39</td>  <td> 2.104e+04</td>  <td>     10.13</td> \n",
              "</tr>\n",
              "<tr>\n",
              "  <th>4</th>  <td>     10.06</td>  <td>     10.63</td>  <td> 2.348e+04</td>  <td>     10.29</td> \n",
              "</tr>\n",
              "<tr>\n",
              "  <th>5</th>  <td>     10.17</td>  <td>     10.86</td>  <td> 2.622e+04</td>  <td>     10.44</td> \n",
              "</tr>\n",
              "<tr>\n",
              "  <th>6</th>  <td>     10.16</td>  <td>     10.98</td>  <td> 2.603e+04</td>  <td>     10.48</td> \n",
              "</tr>\n",
              "<tr>\n",
              "  <th>7</th>  <td>     10.26</td>  <td>     11.21</td>  <td> 2.904e+04</td>  <td>     10.64</td> \n",
              "</tr>\n",
              "<tr>\n",
              "  <th>8</th>  <td>     10.37</td>  <td>     11.44</td>  <td> 3.241e+04</td>  <td>     10.79</td> \n",
              "</tr>\n",
              "<tr>\n",
              "  <th>9</th>  <td>     10.32</td>  <td>     11.51</td>  <td> 3.104e+04</td>  <td>     10.79</td> \n",
              "</tr>\n",
              "<tr>\n",
              "  <th>10</th> <td>     10.43</td>  <td>     11.74</td>  <td> 3.488e+04</td>  <td>     10.95</td> \n",
              "</tr>\n",
              "<tr>\n",
              "  <th>11</th> <td>     10.53</td>  <td>     11.98</td>  <td> 3.926e+04</td>  <td>     11.11</td> \n",
              "</tr>\n",
              "<tr>\n",
              "  <th>12</th> <td>     10.32</td>  <td>     11.89</td>  <td> 3.228e+04</td>  <td>     10.95</td> \n",
              "</tr>\n",
              "<tr>\n",
              "  <th>13</th> <td>     10.43</td>  <td>     12.12</td>  <td> 3.631e+04</td>  <td>     11.10</td> \n",
              "</tr>\n",
              "<tr>\n",
              "  <th>14</th> <td>     10.53</td>  <td>     12.35</td>  <td> 4.092e+04</td>  <td>     11.25</td> \n",
              "</tr>\n",
              "<tr>\n",
              "  <th>15</th> <td>     10.53</td>  <td>     12.47</td>  <td> 4.191e+04</td>  <td>     11.30</td> \n",
              "</tr>\n",
              "<tr>\n",
              "  <th>16</th> <td>     10.62</td>  <td>     12.69</td>  <td> 4.703e+04</td>  <td>     11.44</td> \n",
              "</tr>\n",
              "<tr>\n",
              "  <th>17</th> <td>     10.69</td>  <td>     12.89</td>  <td> 5.235e+04</td>  <td>     11.57</td> \n",
              "</tr>\n",
              "<tr>\n",
              "  <th>18</th> <td>     10.78</td>  <td>     13.11</td>  <td> 5.928e+04</td>  <td>     11.71</td> \n",
              "</tr>\n",
              "<tr>\n",
              "  <th>19</th> <td>     10.85</td>  <td>     13.29</td>  <td> 6.582e+04</td>  <td>     11.82</td> \n",
              "</tr>\n",
              "<tr>\n",
              "  <th>20</th> <td>     10.87</td>  <td>     13.44</td>  <td> 7.040e+04</td>  <td>     11.89</td> \n",
              "</tr>\n",
              "<tr>\n",
              "  <th>21</th> <td>     10.68</td>  <td>     13.38</td>  <td> 6.168e+04</td>  <td>     11.76</td> \n",
              "</tr>\n",
              "<tr>\n",
              "  <th>22</th> <td>     10.78</td>  <td>     13.60</td>  <td> 7.244e+04</td>  <td>     11.90</td> \n",
              "</tr>\n",
              "<tr>\n",
              "  <th>23</th> <td>     10.86</td>  <td>     13.81</td>  <td> 8.447e+04</td>  <td>     12.04</td> \n",
              "</tr>\n",
              "<tr>\n",
              "  <th>24</th> <td>     10.24</td>  <td>     13.31</td>  <td> 4.921e+04</td>  <td>     11.46</td> \n",
              "</tr>\n",
              "<tr>\n",
              "  <th>25</th> <td>     10.33</td>  <td>     13.53</td>  <td> 5.964e+04</td>  <td>     11.61</td> \n",
              "</tr>\n",
              "<tr>\n",
              "  <th>26</th> <td>     10.41</td>  <td>     13.74</td>  <td> 7.229e+04</td>  <td>     11.74</td> \n",
              "</tr>\n",
              "<tr>\n",
              "  <th>27</th> <td>     10.27</td>  <td>     13.72</td>  <td> 7.133e+04</td>  <td>     11.64</td> \n",
              "</tr>\n",
              "<tr>\n",
              "  <th>28</th> <td>     10.36</td>  <td>     13.94</td>  <td> 9.201e+04</td>  <td>     11.79</td> \n",
              "</tr>\n",
              "<tr>\n",
              "  <th>29</th> <td>     10.45</td>  <td>     14.15</td>  <td> 1.210e+05</td>  <td>     11.92</td> \n",
              "</tr>\n",
              "<tr>\n",
              "  <th>30</th> <td>     9.967</td>  <td>     13.79</td>  <td> 9.392e+04</td>  <td>     11.49</td> \n",
              "</tr>\n",
              "<tr>\n",
              "  <th>31</th> <td>     10.07</td>  <td>     14.03</td>  <td> 1.389e+05</td>  <td>     11.65</td> \n",
              "</tr>\n",
              "<tr>\n",
              "  <th>32</th> <td>     10.18</td>  <td>     14.26</td>  <td> 2.228e+05</td>  <td>     11.81</td> \n",
              "</tr>\n",
              "<tr>\n",
              "  <th>33</th> <td>     8.024*</td> <td>     12.23</td>  <td> 4.232e+04</td>  <td>     9.700</td> \n",
              "</tr>\n",
              "<tr>\n",
              "  <th>34</th> <td>     8.046</td>  <td>     12.38</td>  <td> 8.968e+04</td>  <td>     9.771</td> \n",
              "</tr>\n",
              "</table>"
            ],
            "text/latex": "\\begin{center}\n\\begin{tabular}{lcccc}\n\\toprule\n            & \\textbf{AIC} & \\textbf{BIC} & \\textbf{FPE} & \\textbf{HQIC}  \\\\\n\\midrule\n\\textbf{0}  &       9.654  &      9.716*  &  1.558e+04*  &       9.679*   \\\\\n\\textbf{1}  &       9.763  &       9.951  &   1.738e+04  &        9.838   \\\\\n\\textbf{2}  &       9.872  &       10.19  &   1.939e+04  &        9.997   \\\\\n\\textbf{3}  &       9.953  &       10.39  &   2.104e+04  &        10.13   \\\\\n\\textbf{4}  &       10.06  &       10.63  &   2.348e+04  &        10.29   \\\\\n\\textbf{5}  &       10.17  &       10.86  &   2.622e+04  &        10.44   \\\\\n\\textbf{6}  &       10.16  &       10.98  &   2.603e+04  &        10.48   \\\\\n\\textbf{7}  &       10.26  &       11.21  &   2.904e+04  &        10.64   \\\\\n\\textbf{8}  &       10.37  &       11.44  &   3.241e+04  &        10.79   \\\\\n\\textbf{9}  &       10.32  &       11.51  &   3.104e+04  &        10.79   \\\\\n\\textbf{10} &       10.43  &       11.74  &   3.488e+04  &        10.95   \\\\\n\\textbf{11} &       10.53  &       11.98  &   3.926e+04  &        11.11   \\\\\n\\textbf{12} &       10.32  &       11.89  &   3.228e+04  &        10.95   \\\\\n\\textbf{13} &       10.43  &       12.12  &   3.631e+04  &        11.10   \\\\\n\\textbf{14} &       10.53  &       12.35  &   4.092e+04  &        11.25   \\\\\n\\textbf{15} &       10.53  &       12.47  &   4.191e+04  &        11.30   \\\\\n\\textbf{16} &       10.62  &       12.69  &   4.703e+04  &        11.44   \\\\\n\\textbf{17} &       10.69  &       12.89  &   5.235e+04  &        11.57   \\\\\n\\textbf{18} &       10.78  &       13.11  &   5.928e+04  &        11.71   \\\\\n\\textbf{19} &       10.85  &       13.29  &   6.582e+04  &        11.82   \\\\\n\\textbf{20} &       10.87  &       13.44  &   7.040e+04  &        11.89   \\\\\n\\textbf{21} &       10.68  &       13.38  &   6.168e+04  &        11.76   \\\\\n\\textbf{22} &       10.78  &       13.60  &   7.244e+04  &        11.90   \\\\\n\\textbf{23} &       10.86  &       13.81  &   8.447e+04  &        12.04   \\\\\n\\textbf{24} &       10.24  &       13.31  &   4.921e+04  &        11.46   \\\\\n\\textbf{25} &       10.33  &       13.53  &   5.964e+04  &        11.61   \\\\\n\\textbf{26} &       10.41  &       13.74  &   7.229e+04  &        11.74   \\\\\n\\textbf{27} &       10.27  &       13.72  &   7.133e+04  &        11.64   \\\\\n\\textbf{28} &       10.36  &       13.94  &   9.201e+04  &        11.79   \\\\\n\\textbf{29} &       10.45  &       14.15  &   1.210e+05  &        11.92   \\\\\n\\textbf{30} &       9.967  &       13.79  &   9.392e+04  &        11.49   \\\\\n\\textbf{31} &       10.07  &       14.03  &   1.389e+05  &        11.65   \\\\\n\\textbf{32} &       10.18  &       14.26  &   2.228e+05  &        11.81   \\\\\n\\textbf{33} &      8.024*  &       12.23  &   4.232e+04  &        9.700   \\\\\n\\textbf{34} &       8.046  &       12.38  &   8.968e+04  &        9.771   \\\\\n\\bottomrule\n\\end{tabular}\n%\\caption{VAR Order Selection (* highlights the minimums)}\n\\end{center}"
          },
          "metadata": {},
          "execution_count": 25
        }
      ]
    },
    {
      "cell_type": "markdown",
      "source": [
        "En la selección de órdenes VAR, el criterio AIC y BIC son mínimos para un orden de 33. Sin embargo, se debe tener cuidado al interpretar estos resultados, ya que elegir un modelo con un número tan alto de parámetros puede conducir a problemas de sobreajuste y dificultades en la interpretación de los resultados.\n",
        "\n",
        "Una estrategia prudente sería considerar también otros criterios, como el FPE y HQIC. Estos criterios también muestran mínimos para un orden de 33.\n",
        "\n",
        "Para este caso escogeremos VAR(10)"
      ],
      "metadata": {
        "id": "ZoD5sp8vRMY0"
      }
    },
    {
      "cell_type": "markdown",
      "source": [
        "#### Ajustando el modelo"
      ],
      "metadata": {
        "id": "hAeKlnonlm_N"
      }
    },
    {
      "cell_type": "code",
      "source": [
        "res = model.fit(maxlags=10)\n",
        "res.summary()"
      ],
      "metadata": {
        "colab": {
          "base_uri": "https://localhost:8080/"
        },
        "id": "fCWBWJIolkt7",
        "outputId": "4e0423c3-d896-49a9-8b61-bb20cc6419a7"
      },
      "execution_count": 73,
      "outputs": [
        {
          "output_type": "execute_result",
          "data": {
            "text/plain": [
              "  Summary of Regression Results   \n",
              "==================================\n",
              "Model:                         VAR\n",
              "Method:                        OLS\n",
              "Date:           Sat, 11, May, 2024\n",
              "Time:                     15:36:12\n",
              "--------------------------------------------------------------------\n",
              "No. of Equations:         2.00000    BIC:                    11.2284\n",
              "Nobs:                     97.0000    HQIC:                   10.5644\n",
              "Log likelihood:          -723.784    FPE:                    25022.6\n",
              "AIC:                      10.1136    Det(Omega_mle):         16908.7\n",
              "--------------------------------------------------------------------\n",
              "Results for equation Compraventa_Unitario\n",
              "===========================================================================================\n",
              "                              coefficient       std. error           t-stat            prob\n",
              "-------------------------------------------------------------------------------------------\n",
              "const                           31.423596        20.433705            1.538           0.124\n",
              "L1.Compraventa_Unitario         -0.030946         0.114826           -0.270           0.788\n",
              "L1.Participacion                -3.772637        21.706971           -0.174           0.862\n",
              "L2.Compraventa_Unitario         -0.031441         0.113875           -0.276           0.782\n",
              "L2.Participacion                -5.195140        20.648314           -0.252           0.801\n",
              "L3.Compraventa_Unitario         -0.195388         0.118972           -1.642           0.101\n",
              "L3.Participacion               -21.550266        20.708369           -1.041           0.298\n",
              "L4.Compraventa_Unitario         -0.041285         0.120942           -0.341           0.733\n",
              "L4.Participacion                -6.064902        20.882813           -0.290           0.771\n",
              "L5.Compraventa_Unitario         -0.041986         0.116471           -0.360           0.718\n",
              "L5.Participacion                -6.675286        20.736236           -0.322           0.748\n",
              "L6.Compraventa_Unitario         -0.389646         0.116548           -3.343           0.001\n",
              "L6.Participacion                 9.405249        20.734369            0.454           0.650\n",
              "L7.Compraventa_Unitario         -0.049100         0.125865           -0.390           0.696\n",
              "L7.Participacion                -6.050532        20.747068           -0.292           0.771\n",
              "L8.Compraventa_Unitario         -0.044006         0.122769           -0.358           0.720\n",
              "L8.Participacion                -5.757712        20.618147           -0.279           0.780\n",
              "L9.Compraventa_Unitario          0.084476         0.127425            0.663           0.507\n",
              "L9.Participacion               -10.555367        20.617670           -0.512           0.609\n",
              "L10.Compraventa_Unitario        -0.025704         0.134320           -0.191           0.848\n",
              "L10.Participacion               -5.675360        20.638366           -0.275           0.783\n",
              "===========================================================================================\n",
              "\n",
              "Results for equation Participacion\n",
              "===========================================================================================\n",
              "                              coefficient       std. error           t-stat            prob\n",
              "-------------------------------------------------------------------------------------------\n",
              "const                            0.101366         0.108134            0.937           0.349\n",
              "L1.Compraventa_Unitario         -0.000100         0.000608           -0.164           0.870\n",
              "L1.Participacion                -0.012170         0.114872           -0.106           0.916\n",
              "L2.Compraventa_Unitario         -0.000101         0.000603           -0.168           0.866\n",
              "L2.Participacion                -0.016758         0.109270           -0.153           0.878\n",
              "L3.Compraventa_Unitario          0.000138         0.000630            0.219           0.827\n",
              "L3.Participacion                -0.055878         0.109588           -0.510           0.610\n",
              "L4.Compraventa_Unitario         -0.000133         0.000640           -0.208           0.835\n",
              "L4.Participacion                -0.019564         0.110511           -0.177           0.859\n",
              "L5.Compraventa_Unitario         -0.000135         0.000616           -0.220           0.826\n",
              "L5.Participacion                -0.021533         0.109735           -0.196           0.844\n",
              "L6.Compraventa_Unitario          0.000928         0.000617            1.504           0.133\n",
              "L6.Participacion                 0.008395         0.109725            0.077           0.939\n",
              "L7.Compraventa_Unitario         -0.000158         0.000666           -0.238           0.812\n",
              "L7.Participacion                -0.019518         0.109793           -0.178           0.859\n",
              "L8.Compraventa_Unitario         -0.000142         0.000650           -0.218           0.827\n",
              "L8.Participacion                -0.018573         0.109110           -0.170           0.865\n",
              "L9.Compraventa_Unitario          0.001886         0.000674            2.796           0.005\n",
              "L9.Participacion                 0.001455         0.109108            0.013           0.989\n",
              "L10.Compraventa_Unitario        -0.000083         0.000711           -0.117           0.907\n",
              "L10.Participacion               -0.018308         0.109217           -0.168           0.867\n",
              "===========================================================================================\n",
              "\n",
              "Correlation matrix of residuals\n",
              "                        Compraventa_Unitario  Participacion\n",
              "Compraventa_Unitario                1.000000      -0.058628\n",
              "Participacion                      -0.058628       1.000000\n",
              "\n"
            ]
          },
          "metadata": {},
          "execution_count": 73
        }
      ]
    },
    {
      "cell_type": "markdown",
      "source": [
        "La correlación entre los residuos de \"Compraventa_Unitario\" y los residuos de \"Participacion\" es de -0.004970, lo que sugiere una correlación negativa fuerte entre los residuos de estas dos variables en el modelo."
      ],
      "metadata": {
        "id": "NBnQfzOxFL5p"
      }
    },
    {
      "cell_type": "code",
      "source": [
        "X_train.columns"
      ],
      "metadata": {
        "colab": {
          "base_uri": "https://localhost:8080/"
        },
        "id": "7tDQSMh_mGv5",
        "outputId": "025a22f9-95c8-4e87-f44c-9cda30f9bbc2"
      },
      "execution_count": 75,
      "outputs": [
        {
          "output_type": "execute_result",
          "data": {
            "text/plain": [
              "Index(['Compraventa_Unitario', 'Participacion'], dtype='object')"
            ]
          },
          "metadata": {},
          "execution_count": 75
        }
      ]
    },
    {
      "cell_type": "markdown",
      "source": [
        "###### Causalidad de Granger"
      ],
      "metadata": {
        "id": "UeWh9NUMmOsp"
      }
    },
    {
      "cell_type": "code",
      "source": [
        "grangercaus=res.test_causality(['Participacion'],['Compraventa_Unitario'],kind='f')\n",
        "grangercaus.summary()"
      ],
      "metadata": {
        "colab": {
          "base_uri": "https://localhost:8080/",
          "height": 128
        },
        "id": "FFpAEu7nmN73",
        "outputId": "10369f96-775d-4341-94cb-825bc2b75505"
      },
      "execution_count": 76,
      "outputs": [
        {
          "output_type": "execute_result",
          "data": {
            "text/plain": [
              "<class 'statsmodels.iolib.table.SimpleTable'>"
            ],
            "text/html": [
              "<table class=\"simpletable\">\n",
              "<caption>Granger causality F-test. H_0: Compraventa_Unitario does not Granger-cause Participacion. Conclusion: fail to reject H_0 at 5% significance level.</caption>\n",
              "<tr>\n",
              "  <th>Test statistic</th> <th>Critical value</th> <th>p-value</th>    <th>df</th>    \n",
              "</tr>\n",
              "<tr>\n",
              "      <td>0.9584</td>          <td>1.893</td>      <td>0.482</td>  <td>(10, 152)</td>\n",
              "</tr>\n",
              "</table>"
            ],
            "text/latex": "\\begin{center}\n\\begin{tabular}{cccc}\n\\toprule\n\\textbf{Test statistic} & \\textbf{Critical value} & \\textbf{p-value} & \\textbf{df}  \\\\\n\\midrule\n         0.9584         &          1.893          &      0.482       &  (10, 152)   \\\\\n\\bottomrule\n\\end{tabular}\n%\\caption{Granger causality F-test. H_0: Compraventa_Unitario does not Granger-cause Participacion. Conclusion: fail to reject H_0 at 5% significance level.}\n\\end{center}"
          },
          "metadata": {},
          "execution_count": 76
        }
      ]
    },
    {
      "cell_type": "code",
      "source": [
        "grangercaus=res.test_causality(['Compraventa_Unitario'],['Participacion'],kind='f')\n",
        "grangercaus.summary()"
      ],
      "metadata": {
        "colab": {
          "base_uri": "https://localhost:8080/",
          "height": 128
        },
        "id": "d_xNfS2umz-Y",
        "outputId": "c75b0abc-078e-44f5-deaa-a9c6354da739"
      },
      "execution_count": 77,
      "outputs": [
        {
          "output_type": "execute_result",
          "data": {
            "text/plain": [
              "<class 'statsmodels.iolib.table.SimpleTable'>"
            ],
            "text/html": [
              "<table class=\"simpletable\">\n",
              "<caption>Granger causality F-test. H_0: Participacion does not Granger-cause Compraventa_Unitario. Conclusion: fail to reject H_0 at 5% significance level.</caption>\n",
              "<tr>\n",
              "  <th>Test statistic</th> <th>Critical value</th> <th>p-value</th>    <th>df</th>    \n",
              "</tr>\n",
              "<tr>\n",
              "      <td>0.1935</td>          <td>1.893</td>      <td>0.997</td>  <td>(10, 152)</td>\n",
              "</tr>\n",
              "</table>"
            ],
            "text/latex": "\\begin{center}\n\\begin{tabular}{cccc}\n\\toprule\n\\textbf{Test statistic} & \\textbf{Critical value} & \\textbf{p-value} & \\textbf{df}  \\\\\n\\midrule\n         0.1935         &          1.893          &      0.997       &  (10, 152)   \\\\\n\\bottomrule\n\\end{tabular}\n%\\caption{Granger causality F-test. H_0: Participacion does not Granger-cause Compraventa_Unitario. Conclusion: fail to reject H_0 at 5% significance level.}\n\\end{center}"
          },
          "metadata": {},
          "execution_count": 77
        }
      ]
    },
    {
      "cell_type": "markdown",
      "source": [
        "Como se puede observar, la causalidad de Granger nos indica que ninguna de las series temporales puede causar la otra serie temporal"
      ],
      "metadata": {
        "id": "deyfDA4UeXxJ"
      }
    },
    {
      "cell_type": "markdown",
      "source": [
        "###### Matriz de causalidad de Granger\n"
      ],
      "metadata": {
        "id": "WNGM-fVxm8bh"
      }
    },
    {
      "cell_type": "code",
      "source": [
        "import pandas as pd\n",
        "import numpy as np\n",
        "from statsmodels.tsa.stattools import grangercausalitytests\n",
        "import warnings\n",
        "warnings.filterwarnings(\"ignore\")\n",
        "maxlag=10\n",
        "test = 'ssr_chi2test'\n",
        "def grangers_causality_matrix(X_train_transformed, variables, test = 'ssr_chi2test', verbose=False):\n",
        "  dataset = pd.DataFrame(np.zeros((len(variables), len(variables))), columns=variables, index=variables)\n",
        "  for c in dataset.columns:\n",
        "    for r in dataset.index:\n",
        "      test_result = grangercausalitytests(X_train_transformed[[r,c]], maxlag=maxlag, verbose=False)\n",
        "      p_values = [round(test_result[i+1][0][test][1],4) for i in range(maxlag)]\n",
        "      if verbose:\n",
        "        print(f'Y = {r}, X = {c}, P Values = {p_values}')\n",
        "      min_p_value = np.min(p_values)\n",
        "      dataset.loc[r,c] = min_p_value\n",
        "  dataset.columns = [var + '_x' for var in variables]\n",
        "  dataset.index = [var + '_y' for var in variables]\n",
        "  return dataset\n",
        "grangers_causality_matrix(X_train_transformed, variables = X_train_transformed.columns)"
      ],
      "metadata": {
        "colab": {
          "base_uri": "https://localhost:8080/",
          "height": 112
        },
        "id": "EsRJys5vnAGl",
        "outputId": "1e3fac53-c0c0-4c86-9797-5e763faa3b24"
      },
      "execution_count": 79,
      "outputs": [
        {
          "output_type": "execute_result",
          "data": {
            "text/plain": [
              "                        Compraventa_Unitario_x  Participacion_x\n",
              "Compraventa_Unitario_y                   1.000           0.9094\n",
              "Participacion_y                          0.192           1.0000"
            ],
            "text/html": [
              "\n",
              "  <div id=\"df-9ab9c77e-9cbe-4960-bb4b-a4a89efd2f95\" class=\"colab-df-container\">\n",
              "    <div>\n",
              "<style scoped>\n",
              "    .dataframe tbody tr th:only-of-type {\n",
              "        vertical-align: middle;\n",
              "    }\n",
              "\n",
              "    .dataframe tbody tr th {\n",
              "        vertical-align: top;\n",
              "    }\n",
              "\n",
              "    .dataframe thead th {\n",
              "        text-align: right;\n",
              "    }\n",
              "</style>\n",
              "<table border=\"1\" class=\"dataframe\">\n",
              "  <thead>\n",
              "    <tr style=\"text-align: right;\">\n",
              "      <th></th>\n",
              "      <th>Compraventa_Unitario_x</th>\n",
              "      <th>Participacion_x</th>\n",
              "    </tr>\n",
              "  </thead>\n",
              "  <tbody>\n",
              "    <tr>\n",
              "      <th>Compraventa_Unitario_y</th>\n",
              "      <td>1.000</td>\n",
              "      <td>0.9094</td>\n",
              "    </tr>\n",
              "    <tr>\n",
              "      <th>Participacion_y</th>\n",
              "      <td>0.192</td>\n",
              "      <td>1.0000</td>\n",
              "    </tr>\n",
              "  </tbody>\n",
              "</table>\n",
              "</div>\n",
              "    <div class=\"colab-df-buttons\">\n",
              "\n",
              "  <div class=\"colab-df-container\">\n",
              "    <button class=\"colab-df-convert\" onclick=\"convertToInteractive('df-9ab9c77e-9cbe-4960-bb4b-a4a89efd2f95')\"\n",
              "            title=\"Convert this dataframe to an interactive table.\"\n",
              "            style=\"display:none;\">\n",
              "\n",
              "  <svg xmlns=\"http://www.w3.org/2000/svg\" height=\"24px\" viewBox=\"0 -960 960 960\">\n",
              "    <path d=\"M120-120v-720h720v720H120Zm60-500h600v-160H180v160Zm220 220h160v-160H400v160Zm0 220h160v-160H400v160ZM180-400h160v-160H180v160Zm440 0h160v-160H620v160ZM180-180h160v-160H180v160Zm440 0h160v-160H620v160Z\"/>\n",
              "  </svg>\n",
              "    </button>\n",
              "\n",
              "  <style>\n",
              "    .colab-df-container {\n",
              "      display:flex;\n",
              "      gap: 12px;\n",
              "    }\n",
              "\n",
              "    .colab-df-convert {\n",
              "      background-color: #E8F0FE;\n",
              "      border: none;\n",
              "      border-radius: 50%;\n",
              "      cursor: pointer;\n",
              "      display: none;\n",
              "      fill: #1967D2;\n",
              "      height: 32px;\n",
              "      padding: 0 0 0 0;\n",
              "      width: 32px;\n",
              "    }\n",
              "\n",
              "    .colab-df-convert:hover {\n",
              "      background-color: #E2EBFA;\n",
              "      box-shadow: 0px 1px 2px rgba(60, 64, 67, 0.3), 0px 1px 3px 1px rgba(60, 64, 67, 0.15);\n",
              "      fill: #174EA6;\n",
              "    }\n",
              "\n",
              "    .colab-df-buttons div {\n",
              "      margin-bottom: 4px;\n",
              "    }\n",
              "\n",
              "    [theme=dark] .colab-df-convert {\n",
              "      background-color: #3B4455;\n",
              "      fill: #D2E3FC;\n",
              "    }\n",
              "\n",
              "    [theme=dark] .colab-df-convert:hover {\n",
              "      background-color: #434B5C;\n",
              "      box-shadow: 0px 1px 3px 1px rgba(0, 0, 0, 0.15);\n",
              "      filter: drop-shadow(0px 1px 2px rgba(0, 0, 0, 0.3));\n",
              "      fill: #FFFFFF;\n",
              "    }\n",
              "  </style>\n",
              "\n",
              "    <script>\n",
              "      const buttonEl =\n",
              "        document.querySelector('#df-9ab9c77e-9cbe-4960-bb4b-a4a89efd2f95 button.colab-df-convert');\n",
              "      buttonEl.style.display =\n",
              "        google.colab.kernel.accessAllowed ? 'block' : 'none';\n",
              "\n",
              "      async function convertToInteractive(key) {\n",
              "        const element = document.querySelector('#df-9ab9c77e-9cbe-4960-bb4b-a4a89efd2f95');\n",
              "        const dataTable =\n",
              "          await google.colab.kernel.invokeFunction('convertToInteractive',\n",
              "                                                    [key], {});\n",
              "        if (!dataTable) return;\n",
              "\n",
              "        const docLinkHtml = 'Like what you see? Visit the ' +\n",
              "          '<a target=\"_blank\" href=https://colab.research.google.com/notebooks/data_table.ipynb>data table notebook</a>'\n",
              "          + ' to learn more about interactive tables.';\n",
              "        element.innerHTML = '';\n",
              "        dataTable['output_type'] = 'display_data';\n",
              "        await google.colab.output.renderOutput(dataTable, element);\n",
              "        const docLink = document.createElement('div');\n",
              "        docLink.innerHTML = docLinkHtml;\n",
              "        element.appendChild(docLink);\n",
              "      }\n",
              "    </script>\n",
              "  </div>\n",
              "\n",
              "\n",
              "<div id=\"df-f90f57b3-2d3e-498f-85bc-92002db306b2\">\n",
              "  <button class=\"colab-df-quickchart\" onclick=\"quickchart('df-f90f57b3-2d3e-498f-85bc-92002db306b2')\"\n",
              "            title=\"Suggest charts\"\n",
              "            style=\"display:none;\">\n",
              "\n",
              "<svg xmlns=\"http://www.w3.org/2000/svg\" height=\"24px\"viewBox=\"0 0 24 24\"\n",
              "     width=\"24px\">\n",
              "    <g>\n",
              "        <path d=\"M19 3H5c-1.1 0-2 .9-2 2v14c0 1.1.9 2 2 2h14c1.1 0 2-.9 2-2V5c0-1.1-.9-2-2-2zM9 17H7v-7h2v7zm4 0h-2V7h2v10zm4 0h-2v-4h2v4z\"/>\n",
              "    </g>\n",
              "</svg>\n",
              "  </button>\n",
              "\n",
              "<style>\n",
              "  .colab-df-quickchart {\n",
              "      --bg-color: #E8F0FE;\n",
              "      --fill-color: #1967D2;\n",
              "      --hover-bg-color: #E2EBFA;\n",
              "      --hover-fill-color: #174EA6;\n",
              "      --disabled-fill-color: #AAA;\n",
              "      --disabled-bg-color: #DDD;\n",
              "  }\n",
              "\n",
              "  [theme=dark] .colab-df-quickchart {\n",
              "      --bg-color: #3B4455;\n",
              "      --fill-color: #D2E3FC;\n",
              "      --hover-bg-color: #434B5C;\n",
              "      --hover-fill-color: #FFFFFF;\n",
              "      --disabled-bg-color: #3B4455;\n",
              "      --disabled-fill-color: #666;\n",
              "  }\n",
              "\n",
              "  .colab-df-quickchart {\n",
              "    background-color: var(--bg-color);\n",
              "    border: none;\n",
              "    border-radius: 50%;\n",
              "    cursor: pointer;\n",
              "    display: none;\n",
              "    fill: var(--fill-color);\n",
              "    height: 32px;\n",
              "    padding: 0;\n",
              "    width: 32px;\n",
              "  }\n",
              "\n",
              "  .colab-df-quickchart:hover {\n",
              "    background-color: var(--hover-bg-color);\n",
              "    box-shadow: 0 1px 2px rgba(60, 64, 67, 0.3), 0 1px 3px 1px rgba(60, 64, 67, 0.15);\n",
              "    fill: var(--button-hover-fill-color);\n",
              "  }\n",
              "\n",
              "  .colab-df-quickchart-complete:disabled,\n",
              "  .colab-df-quickchart-complete:disabled:hover {\n",
              "    background-color: var(--disabled-bg-color);\n",
              "    fill: var(--disabled-fill-color);\n",
              "    box-shadow: none;\n",
              "  }\n",
              "\n",
              "  .colab-df-spinner {\n",
              "    border: 2px solid var(--fill-color);\n",
              "    border-color: transparent;\n",
              "    border-bottom-color: var(--fill-color);\n",
              "    animation:\n",
              "      spin 1s steps(1) infinite;\n",
              "  }\n",
              "\n",
              "  @keyframes spin {\n",
              "    0% {\n",
              "      border-color: transparent;\n",
              "      border-bottom-color: var(--fill-color);\n",
              "      border-left-color: var(--fill-color);\n",
              "    }\n",
              "    20% {\n",
              "      border-color: transparent;\n",
              "      border-left-color: var(--fill-color);\n",
              "      border-top-color: var(--fill-color);\n",
              "    }\n",
              "    30% {\n",
              "      border-color: transparent;\n",
              "      border-left-color: var(--fill-color);\n",
              "      border-top-color: var(--fill-color);\n",
              "      border-right-color: var(--fill-color);\n",
              "    }\n",
              "    40% {\n",
              "      border-color: transparent;\n",
              "      border-right-color: var(--fill-color);\n",
              "      border-top-color: var(--fill-color);\n",
              "    }\n",
              "    60% {\n",
              "      border-color: transparent;\n",
              "      border-right-color: var(--fill-color);\n",
              "    }\n",
              "    80% {\n",
              "      border-color: transparent;\n",
              "      border-right-color: var(--fill-color);\n",
              "      border-bottom-color: var(--fill-color);\n",
              "    }\n",
              "    90% {\n",
              "      border-color: transparent;\n",
              "      border-bottom-color: var(--fill-color);\n",
              "    }\n",
              "  }\n",
              "</style>\n",
              "\n",
              "  <script>\n",
              "    async function quickchart(key) {\n",
              "      const quickchartButtonEl =\n",
              "        document.querySelector('#' + key + ' button');\n",
              "      quickchartButtonEl.disabled = true;  // To prevent multiple clicks.\n",
              "      quickchartButtonEl.classList.add('colab-df-spinner');\n",
              "      try {\n",
              "        const charts = await google.colab.kernel.invokeFunction(\n",
              "            'suggestCharts', [key], {});\n",
              "      } catch (error) {\n",
              "        console.error('Error during call to suggestCharts:', error);\n",
              "      }\n",
              "      quickchartButtonEl.classList.remove('colab-df-spinner');\n",
              "      quickchartButtonEl.classList.add('colab-df-quickchart-complete');\n",
              "    }\n",
              "    (() => {\n",
              "      let quickchartButtonEl =\n",
              "        document.querySelector('#df-f90f57b3-2d3e-498f-85bc-92002db306b2 button');\n",
              "      quickchartButtonEl.style.display =\n",
              "        google.colab.kernel.accessAllowed ? 'block' : 'none';\n",
              "    })();\n",
              "  </script>\n",
              "</div>\n",
              "    </div>\n",
              "  </div>\n"
            ],
            "application/vnd.google.colaboratory.intrinsic+json": {
              "type": "dataframe",
              "summary": "{\n  \"name\": \"grangers_causality_matrix(X_train_transformed, variables = X_train_transformed\",\n  \"rows\": 2,\n  \"fields\": [\n    {\n      \"column\": \"Compraventa_Unitario_x\",\n      \"properties\": {\n        \"dtype\": \"number\",\n        \"std\": 0.5713422791987304,\n        \"min\": 0.192,\n        \"max\": 1.0,\n        \"num_unique_values\": 2,\n        \"samples\": [\n          0.192,\n          1.0\n        ],\n        \"semantic_type\": \"\",\n        \"description\": \"\"\n      }\n    },\n    {\n      \"column\": \"Participacion_x\",\n      \"properties\": {\n        \"dtype\": \"number\",\n        \"std\": 0.06406387437550122,\n        \"min\": 0.9094,\n        \"max\": 1.0,\n        \"num_unique_values\": 2,\n        \"samples\": [\n          1.0,\n          0.9094\n        ],\n        \"semantic_type\": \"\",\n        \"description\": \"\"\n      }\n    }\n  ]\n}"
            }
          },
          "metadata": {},
          "execution_count": 79
        }
      ]
    },
    {
      "cell_type": "markdown",
      "source": [
        "Con esta matriz queda claro que la serie temporal de Compraventa_Unitario no causa ni es causada por la otra serie temporal de ParadosReg"
      ],
      "metadata": {
        "id": "wQiupwVinPkB"
      }
    },
    {
      "cell_type": "markdown",
      "source": [
        "###### Diagnosis del modelo\n"
      ],
      "metadata": {
        "id": "nDy2YsunnwBq"
      }
    },
    {
      "cell_type": "markdown",
      "source": [
        "###### Residuos"
      ],
      "metadata": {
        "id": "NGg_mAjNn0qr"
      }
    },
    {
      "cell_type": "code",
      "source": [
        "residuals=res.resid"
      ],
      "metadata": {
        "id": "HBSMx97gn4Hz"
      },
      "execution_count": 81,
      "outputs": []
    },
    {
      "cell_type": "code",
      "source": [
        "fig, axs = plt.subplots(2)\n",
        "fig.suptitle('Gráficos de los residuos',fontsize=20)\n",
        "fig.set_size_inches(18, 10)\n",
        "[axs[i].plot(residuals.iloc[:,i]) for i in range(2)]\n",
        "plt.show()"
      ],
      "metadata": {
        "colab": {
          "base_uri": "https://localhost:8080/",
          "height": 930
        },
        "id": "NfzCXKkYn6Gr",
        "outputId": "986e6575-5e64-42c5-99ee-9b45bff7fc77"
      },
      "execution_count": 82,
      "outputs": [
        {
          "output_type": "display_data",
          "data": {
            "text/plain": [
              "<Figure size 1800x1000 with 2 Axes>"
            ],
            "image/png": "[encoded data removed]"
          },
          "metadata": {}
        }
      ]
    },
    {
      "cell_type": "markdown",
      "source": [
        "###### Dickey - Fuller a los residuos\n"
      ],
      "metadata": {
        "id": "t4CKXz8ooG8x"
      }
    },
    {
      "cell_type": "code",
      "source": [
        "print('ADF de los Residuos, p-valores:')\n",
        "[sts.adfuller(residuals.iloc[:,i])[1] for i in range(2)]"
      ],
      "metadata": {
        "colab": {
          "base_uri": "https://localhost:8080/"
        },
        "id": "DLdcLlT6oM4-",
        "outputId": "04948a9b-5c63-432d-d4bb-a281f8d7dcf3"
      },
      "execution_count": 83,
      "outputs": [
        {
          "output_type": "stream",
          "name": "stdout",
          "text": [
            "ADF de los Residuos, p-valores:\n"
          ]
        },
        {
          "output_type": "execute_result",
          "data": {
            "text/plain": [
              "[1.0021012133094119e-16, 1.0674875805173674e-16]"
            ]
          },
          "metadata": {},
          "execution_count": 83
        }
      ]
    },
    {
      "cell_type": "markdown",
      "source": [
        "Para la primera serie de tiempo, el p-valor es aproximadamente 0.1146, lo que sugiere que no se puede rechazar la hipótesis nula de que hay una raíz unitaria en los residuos. Esto indica que los residuos pueden ser estacionarios.\n",
        "\n",
        "Para la segunda serie de tiempo, el p-valor es muy pequeño (alrededor de 2.2036e-13), lo que indica que se rechaza la hipótesis nula de presencia de una raíz unitaria en los residuos. Por lo tanto, los residuos son estacionarios en este caso.\n",
        "\n"
      ],
      "metadata": {
        "id": "0qESiPJaoRNc"
      }
    },
    {
      "cell_type": "markdown",
      "source": [
        "###### ACF de los Residuos\n"
      ],
      "metadata": {
        "id": "kYU0qFiLohWE"
      }
    },
    {
      "cell_type": "code",
      "source": [
        "import statsmodels.graphics.tsaplots as sgt\n",
        "[sgt.plot_acf(residuals.iloc[:,i], zero = False, lags = 12) for i in range(2)]\n",
        "plt.show()"
      ],
      "metadata": {
        "colab": {
          "base_uri": "https://localhost:8080/",
          "height": 887
        },
        "id": "mZ837R2AolcE",
        "outputId": "61acf794-705c-4a58-ad37-f0381f82fffe"
      },
      "execution_count": 84,
      "outputs": [
        {
          "output_type": "display_data",
          "data": {
            "text/plain": [
              "<Figure size 640x480 with 1 Axes>"
            ],
            "image/png": "[encoded data removed]"
          },
          "metadata": {}
        },
        {
          "output_type": "display_data",
          "data": {
            "text/plain": [
              "<Figure size 640x480 with 1 Axes>"
            ],
            "image/png": "[encoded data removed]"
          },
          "metadata": {}
        }
      ]
    },
    {
      "cell_type": "markdown",
      "source": [
        "Conclusión: Los residuos del modelo no presentan estructura de autocorrelación, son estacionarios según los resultados de la prueba de Dickey - Fuller aumentada y en los gráficos se puede comprobar esto visualmente, entonces puede concluirse que son ruido blanco como es deseable.\n",
        "\n"
      ],
      "metadata": {
        "id": "M2QR5u5jowwd"
      }
    },
    {
      "cell_type": "markdown",
      "source": [
        "#### Valores predichos\n"
      ],
      "metadata": {
        "id": "9-N1tR5Ao5-p"
      }
    },
    {
      "cell_type": "code",
      "source": [
        "y_fitted = res.fittedvalues\n",
        "fig, axs = plt.subplots(2)\n",
        "fig.suptitle('Gráficos de los valores predichos por el modelo',fontsize=15)\n",
        "fig.set_size_inches(18, 10)\n",
        "[axs[i].plot(y_fitted.iloc[:,i]) for i in range(2)]\n",
        "plt.show()"
      ],
      "metadata": {
        "colab": {
          "base_uri": "https://localhost:8080/",
          "height": 930
        },
        "id": "Szcd4nT5o5Mc",
        "outputId": "1ed0f7a4-c7c8-4233-da39-9b5799041587"
      },
      "execution_count": 85,
      "outputs": [
        {
          "output_type": "display_data",
          "data": {
            "text/plain": [
              "<Figure size 1800x1000 with 2 Axes>"
            ],
            "image/png": "[encoded data removed]"
          },
          "metadata": {}
        }
      ]
    },
    {
      "cell_type": "markdown",
      "source": [
        "#### Pronósticos a futuro\n"
      ],
      "metadata": {
        "id": "JsbNOfsKpOUQ"
      }
    },
    {
      "cell_type": "markdown",
      "source": [
        "Para pronosticar, al modelo VAR le podemos pasar hasta el número de orden de retraso de observaciones de los datos pasados. Esto se debe a que los términos en el modelo VAR son esencialmente los retrasos de las diversas series de tiempo en el conjunto de datos, por lo que debemos proporcionar tantos valores anteriores como lo indique el orden de retraso utilizado por el modelo. De lo contrario estaríamos introduciendo poca fiabilidad.\n",
        "\n"
      ],
      "metadata": {
        "id": "Hqj6dbVEpvIJ"
      }
    },
    {
      "cell_type": "code",
      "source": [
        "# Obtener el orden del modelo\n",
        "lag_order = res.k_ar\n",
        "print('Orden del modelo:', lag_order)\n",
        "# Input data para hacer forecasting (pronósticos a futuro)\n",
        "input_data = X_train_transformed.values[-lag_order:]\n",
        "# Forecasting\n",
        "pred = res.forecast(y=input_data, steps=9)\n",
        "pred = (pd.DataFrame(pred, index=X_test.index, columns=X_test.columns + '_pred'))\n",
        "print('Predicciones:')\n",
        "pred"
      ],
      "metadata": {
        "colab": {
          "base_uri": "https://localhost:8080/",
          "height": 398
        },
        "id": "9FK3DAUTp6hb",
        "outputId": "b632b736-8d8c-46d5-ad73-426e69798b0e"
      },
      "execution_count": 86,
      "outputs": [
        {
          "output_type": "stream",
          "name": "stdout",
          "text": [
            "Orden del modelo: 10\n",
            "Predicciones:\n"
          ]
        },
        {
          "output_type": "execute_result",
          "data": {
            "text/plain": [
              "            Compraventa_Unitario_pred  Participacion_pred\n",
              "Fecha                                                    \n",
              "2023-01-01                 198.513266            1.033771\n",
              "2023-02-01                  31.568893            0.101835\n",
              "2023-03-01                  43.021347            0.138778\n",
              "2023-04-01                 178.512187           -0.513384\n",
              "2023-05-01                  30.806383            0.125016\n",
              "2023-06-01                  22.709411            0.108198\n",
              "2023-07-01                -113.844034           -0.713582\n",
              "2023-08-01                   7.455985            0.116154\n",
              "2023-09-01                  -7.137878            0.086836"
            ],
            "text/html": [
              "\n",
              "  <div id=\"df-85a55549-b98f-4fec-8c80-523556cf6440\" class=\"colab-df-container\">\n",
              "    <div>\n",
              "<style scoped>\n",
              "    .dataframe tbody tr th:only-of-type {\n",
              "        vertical-align: middle;\n",
              "    }\n",
              "\n",
              "    .dataframe tbody tr th {\n",
              "        vertical-align: top;\n",
              "    }\n",
              "\n",
              "    .dataframe thead th {\n",
              "        text-align: right;\n",
              "    }\n",
              "</style>\n",
              "<table border=\"1\" class=\"dataframe\">\n",
              "  <thead>\n",
              "    <tr style=\"text-align: right;\">\n",
              "      <th></th>\n",
              "      <th>Compraventa_Unitario_pred</th>\n",
              "      <th>Participacion_pred</th>\n",
              "    </tr>\n",
              "    <tr>\n",
              "      <th>Fecha</th>\n",
              "      <th></th>\n",
              "      <th></th>\n",
              "    </tr>\n",
              "  </thead>\n",
              "  <tbody>\n",
              "    <tr>\n",
              "      <th>2023-01-01</th>\n",
              "      <td>198.513266</td>\n",
              "      <td>1.033771</td>\n",
              "    </tr>\n",
              "    <tr>\n",
              "      <th>2023-02-01</th>\n",
              "      <td>31.568893</td>\n",
              "      <td>0.101835</td>\n",
              "    </tr>\n",
              "    <tr>\n",
              "      <th>2023-03-01</th>\n",
              "      <td>43.021347</td>\n",
              "      <td>0.138778</td>\n",
              "    </tr>\n",
              "    <tr>\n",
              "      <th>2023-04-01</th>\n",
              "      <td>178.512187</td>\n",
              "      <td>-0.513384</td>\n",
              "    </tr>\n",
              "    <tr>\n",
              "      <th>2023-05-01</th>\n",
              "      <td>30.806383</td>\n",
              "      <td>0.125016</td>\n",
              "    </tr>\n",
              "    <tr>\n",
              "      <th>2023-06-01</th>\n",
              "      <td>22.709411</td>\n",
              "      <td>0.108198</td>\n",
              "    </tr>\n",
              "    <tr>\n",
              "      <th>2023-07-01</th>\n",
              "      <td>-113.844034</td>\n",
              "      <td>-0.713582</td>\n",
              "    </tr>\n",
              "    <tr>\n",
              "      <th>2023-08-01</th>\n",
              "      <td>7.455985</td>\n",
              "      <td>0.116154</td>\n",
              "    </tr>\n",
              "    <tr>\n",
              "      <th>2023-09-01</th>\n",
              "      <td>-7.137878</td>\n",
              "      <td>0.086836</td>\n",
              "    </tr>\n",
              "  </tbody>\n",
              "</table>\n",
              "</div>\n",
              "    <div class=\"colab-df-buttons\">\n",
              "\n",
              "  <div class=\"colab-df-container\">\n",
              "    <button class=\"colab-df-convert\" onclick=\"convertToInteractive('df-85a55549-b98f-4fec-8c80-523556cf6440')\"\n",
              "            title=\"Convert this dataframe to an interactive table.\"\n",
              "            style=\"display:none;\">\n",
              "\n",
              "  <svg xmlns=\"http://www.w3.org/2000/svg\" height=\"24px\" viewBox=\"0 -960 960 960\">\n",
              "    <path d=\"M120-120v-720h720v720H120Zm60-500h600v-160H180v160Zm220 220h160v-160H400v160Zm0 220h160v-160H400v160ZM180-400h160v-160H180v160Zm440 0h160v-160H620v160ZM180-180h160v-160H180v160Zm440 0h160v-160H620v160Z\"/>\n",
              "  </svg>\n",
              "    </button>\n",
              "\n",
              "  <style>\n",
              "    .colab-df-container {\n",
              "      display:flex;\n",
              "      gap: 12px;\n",
              "    }\n",
              "\n",
              "    .colab-df-convert {\n",
              "      background-color: #E8F0FE;\n",
              "      border: none;\n",
              "      border-radius: 50%;\n",
              "      cursor: pointer;\n",
              "      display: none;\n",
              "      fill: #1967D2;\n",
              "      height: 32px;\n",
              "      padding: 0 0 0 0;\n",
              "      width: 32px;\n",
              "    }\n",
              "\n",
              "    .colab-df-convert:hover {\n",
              "      background-color: #E2EBFA;\n",
              "      box-shadow: 0px 1px 2px rgba(60, 64, 67, 0.3), 0px 1px 3px 1px rgba(60, 64, 67, 0.15);\n",
              "      fill: #174EA6;\n",
              "    }\n",
              "\n",
              "    .colab-df-buttons div {\n",
              "      margin-bottom: 4px;\n",
              "    }\n",
              "\n",
              "    [theme=dark] .colab-df-convert {\n",
              "      background-color: #3B4455;\n",
              "      fill: #D2E3FC;\n",
              "    }\n",
              "\n",
              "    [theme=dark] .colab-df-convert:hover {\n",
              "      background-color: #434B5C;\n",
              "      box-shadow: 0px 1px 3px 1px rgba(0, 0, 0, 0.15);\n",
              "      filter: drop-shadow(0px 1px 2px rgba(0, 0, 0, 0.3));\n",
              "      fill: #FFFFFF;\n",
              "    }\n",
              "  </style>\n",
              "\n",
              "    <script>\n",
              "      const buttonEl =\n",
              "        document.querySelector('#df-85a55549-b98f-4fec-8c80-523556cf6440 button.colab-df-convert');\n",
              "      buttonEl.style.display =\n",
              "        google.colab.kernel.accessAllowed ? 'block' : 'none';\n",
              "\n",
              "      async function convertToInteractive(key) {\n",
              "        const element = document.querySelector('#df-85a55549-b98f-4fec-8c80-523556cf6440');\n",
              "        const dataTable =\n",
              "          await google.colab.kernel.invokeFunction('convertToInteractive',\n",
              "                                                    [key], {});\n",
              "        if (!dataTable) return;\n",
              "\n",
              "        const docLinkHtml = 'Like what you see? Visit the ' +\n",
              "          '<a target=\"_blank\" href=https://colab.research.google.com/notebooks/data_table.ipynb>data table notebook</a>'\n",
              "          + ' to learn more about interactive tables.';\n",
              "        element.innerHTML = '';\n",
              "        dataTable['output_type'] = 'display_data';\n",
              "        await google.colab.output.renderOutput(dataTable, element);\n",
              "        const docLink = document.createElement('div');\n",
              "        docLink.innerHTML = docLinkHtml;\n",
              "        element.appendChild(docLink);\n",
              "      }\n",
              "    </script>\n",
              "  </div>\n",
              "\n",
              "\n",
              "<div id=\"df-d1c1acfb-4a0c-49ef-954e-9a50cfce1989\">\n",
              "  <button class=\"colab-df-quickchart\" onclick=\"quickchart('df-d1c1acfb-4a0c-49ef-954e-9a50cfce1989')\"\n",
              "            title=\"Suggest charts\"\n",
              "            style=\"display:none;\">\n",
              "\n",
              "<svg xmlns=\"http://www.w3.org/2000/svg\" height=\"24px\"viewBox=\"0 0 24 24\"\n",
              "     width=\"24px\">\n",
              "    <g>\n",
              "        <path d=\"M19 3H5c-1.1 0-2 .9-2 2v14c0 1.1.9 2 2 2h14c1.1 0 2-.9 2-2V5c0-1.1-.9-2-2-2zM9 17H7v-7h2v7zm4 0h-2V7h2v10zm4 0h-2v-4h2v4z\"/>\n",
              "    </g>\n",
              "</svg>\n",
              "  </button>\n",
              "\n",
              "<style>\n",
              "  .colab-df-quickchart {\n",
              "      --bg-color: #E8F0FE;\n",
              "      --fill-color: #1967D2;\n",
              "      --hover-bg-color: #E2EBFA;\n",
              "      --hover-fill-color: #174EA6;\n",
              "      --disabled-fill-color: #AAA;\n",
              "      --disabled-bg-color: #DDD;\n",
              "  }\n",
              "\n",
              "  [theme=dark] .colab-df-quickchart {\n",
              "      --bg-color: #3B4455;\n",
              "      --fill-color: #D2E3FC;\n",
              "      --hover-bg-color: #434B5C;\n",
              "      --hover-fill-color: #FFFFFF;\n",
              "      --disabled-bg-color: #3B4455;\n",
              "      --disabled-fill-color: #666;\n",
              "  }\n",
              "\n",
              "  .colab-df-quickchart {\n",
              "    background-color: var(--bg-color);\n",
              "    border: none;\n",
              "    border-radius: 50%;\n",
              "    cursor: pointer;\n",
              "    display: none;\n",
              "    fill: var(--fill-color);\n",
              "    height: 32px;\n",
              "    padding: 0;\n",
              "    width: 32px;\n",
              "  }\n",
              "\n",
              "  .colab-df-quickchart:hover {\n",
              "    background-color: var(--hover-bg-color);\n",
              "    box-shadow: 0 1px 2px rgba(60, 64, 67, 0.3), 0 1px 3px 1px rgba(60, 64, 67, 0.15);\n",
              "    fill: var(--button-hover-fill-color);\n",
              "  }\n",
              "\n",
              "  .colab-df-quickchart-complete:disabled,\n",
              "  .colab-df-quickchart-complete:disabled:hover {\n",
              "    background-color: var(--disabled-bg-color);\n",
              "    fill: var(--disabled-fill-color);\n",
              "    box-shadow: none;\n",
              "  }\n",
              "\n",
              "  .colab-df-spinner {\n",
              "    border: 2px solid var(--fill-color);\n",
              "    border-color: transparent;\n",
              "    border-bottom-color: var(--fill-color);\n",
              "    animation:\n",
              "      spin 1s steps(1) infinite;\n",
              "  }\n",
              "\n",
              "  @keyframes spin {\n",
              "    0% {\n",
              "      border-color: transparent;\n",
              "      border-bottom-color: var(--fill-color);\n",
              "      border-left-color: var(--fill-color);\n",
              "    }\n",
              "    20% {\n",
              "      border-color: transparent;\n",
              "      border-left-color: var(--fill-color);\n",
              "      border-top-color: var(--fill-color);\n",
              "    }\n",
              "    30% {\n",
              "      border-color: transparent;\n",
              "      border-left-color: var(--fill-color);\n",
              "      border-top-color: var(--fill-color);\n",
              "      border-right-color: var(--fill-color);\n",
              "    }\n",
              "    40% {\n",
              "      border-color: transparent;\n",
              "      border-right-color: var(--fill-color);\n",
              "      border-top-color: var(--fill-color);\n",
              "    }\n",
              "    60% {\n",
              "      border-color: transparent;\n",
              "      border-right-color: var(--fill-color);\n",
              "    }\n",
              "    80% {\n",
              "      border-color: transparent;\n",
              "      border-right-color: var(--fill-color);\n",
              "      border-bottom-color: var(--fill-color);\n",
              "    }\n",
              "    90% {\n",
              "      border-color: transparent;\n",
              "      border-bottom-color: var(--fill-color);\n",
              "    }\n",
              "  }\n",
              "</style>\n",
              "\n",
              "  <script>\n",
              "    async function quickchart(key) {\n",
              "      const quickchartButtonEl =\n",
              "        document.querySelector('#' + key + ' button');\n",
              "      quickchartButtonEl.disabled = true;  // To prevent multiple clicks.\n",
              "      quickchartButtonEl.classList.add('colab-df-spinner');\n",
              "      try {\n",
              "        const charts = await google.colab.kernel.invokeFunction(\n",
              "            'suggestCharts', [key], {});\n",
              "      } catch (error) {\n",
              "        console.error('Error during call to suggestCharts:', error);\n",
              "      }\n",
              "      quickchartButtonEl.classList.remove('colab-df-spinner');\n",
              "      quickchartButtonEl.classList.add('colab-df-quickchart-complete');\n",
              "    }\n",
              "    (() => {\n",
              "      let quickchartButtonEl =\n",
              "        document.querySelector('#df-d1c1acfb-4a0c-49ef-954e-9a50cfce1989 button');\n",
              "      quickchartButtonEl.style.display =\n",
              "        google.colab.kernel.accessAllowed ? 'block' : 'none';\n",
              "    })();\n",
              "  </script>\n",
              "</div>\n",
              "    </div>\n",
              "  </div>\n"
            ],
            "application/vnd.google.colaboratory.intrinsic+json": {
              "type": "dataframe",
              "variable_name": "pred",
              "summary": "{\n  \"name\": \"pred\",\n  \"rows\": 9,\n  \"fields\": [\n    {\n      \"column\": \"Fecha\",\n      \"properties\": {\n        \"dtype\": \"date\",\n        \"min\": \"2023-01-01 00:00:00\",\n        \"max\": \"2023-09-01 00:00:00\",\n        \"num_unique_values\": 9,\n        \"samples\": [\n          \"2023-08-01 00:00:00\",\n          \"2023-02-01 00:00:00\",\n          \"2023-06-01 00:00:00\"\n        ],\n        \"semantic_type\": \"\",\n        \"description\": \"\"\n      }\n    },\n    {\n      \"column\": \"Compraventa_Unitario_pred\",\n      \"properties\": {\n        \"dtype\": \"number\",\n        \"std\": 94.61360211976557,\n        \"min\": -113.8440340419058,\n        \"max\": 198.51326615618365,\n        \"num_unique_values\": 9,\n        \"samples\": [\n          7.455985201215263,\n          31.56889304015765,\n          22.709411153423634\n        ],\n        \"semantic_type\": \"\",\n        \"description\": \"\"\n      }\n    },\n    {\n      \"column\": \"Participacion_pred\",\n      \"properties\": {\n        \"dtype\": \"number\",\n        \"std\": 0.4864997497817845,\n        \"min\": -0.713581954737514,\n        \"max\": 1.0337713393661963,\n        \"num_unique_values\": 9,\n        \"samples\": [\n          0.11615418041372197,\n          0.10183503636760244,\n          0.10819828429133746\n        ],\n        \"semantic_type\": \"\",\n        \"description\": \"\"\n      }\n    }\n  ]\n}"
            }
          },
          "metadata": {},
          "execution_count": 86
        }
      ]
    },
    {
      "cell_type": "code",
      "source": [
        "import matplotlib.pyplot as plt\n",
        "plt.figure(figsize = (12, 10))\n",
        "res.plot_forecast(lag_order)\n",
        "plt.tight_layout(h_pad = 1.15)\n",
        "plt.show()\n"
      ],
      "metadata": {
        "colab": {
          "base_uri": "https://localhost:8080/",
          "height": 1000
        },
        "id": "SokaM9c5qyRn",
        "outputId": "045f3753-fda6-40bb-beb0-3981ccdb9a30"
      },
      "execution_count": 87,
      "outputs": [
        {
          "output_type": "display_data",
          "data": {
            "text/plain": [
              "<Figure size 1200x1000 with 0 Axes>"
            ]
          },
          "metadata": {}
        },
        {
          "output_type": "display_data",
          "data": {
            "text/plain": [
              "<Figure size 1000x1000 with 2 Axes>"
            ],
            "image/png": "[encoded data removed]"
          },
          "metadata": {}
        }
      ]
    },
    {
      "cell_type": "markdown",
      "source": [
        "#### Invirtiendo la transformación de los pronósticos a la escala original\n"
      ],
      "metadata": {
        "id": "3QbukMdrq62v"
      }
    },
    {
      "cell_type": "markdown",
      "source": [
        "Los pronósticos se generan en la escala de los datos de entrenamiento utilizados por el modelo, es decir, son datos transformados. Entonces, para volver a ponerlos en su escala original, necesitamos des-diferenciarlos. La forma de invertir la diferenciación es sumar estas diferencias consecutivamente al número base. Una forma sencilla de hacerlo es determinar primero la suma acumulada y luego sumarla al número base. Este proceso se puede revertir agregando la observación en el paso de tiempo anterior al difference value. inverted(ts) = differenced(ts) + observation(ts-1)\n",
        "\n"
      ],
      "metadata": {
        "id": "Z6w8yKYyq-jF"
      }
    },
    {
      "cell_type": "code",
      "source": [
        "# Invirtiendo la transformación teniendo en cuenta que hemos diferenciado dos veces\n",
        "def invert_transformation(ds, df_forecast, second_diff=False):\n",
        "    for col in ds.columns:\n",
        "        # Undo the 2nd Differencing\n",
        "        if second_diff:\n",
        "            df_forecast[str(col)] = (ds[col].iloc[-1] - ds[col].iloc[-2]) + df_forecast[str(col)].cumsum()\n",
        "\n",
        "        # Undo the 1st Differencing\n",
        "        df_forecast[str(col)] = ds[col].iloc[-1] + df_forecast[str(col)].cumsum()\n",
        "\n",
        "    return df_forecast"
      ],
      "metadata": {
        "id": "fnVeKvm_rIbE"
      },
      "execution_count": 88,
      "outputs": []
    },
    {
      "cell_type": "code",
      "source": [
        "pred.columns=X_test.columns\n",
        "output = invert_transformation(X_train, pred, second_diff=False)\n",
        "output"
      ],
      "metadata": {
        "colab": {
          "base_uri": "https://localhost:8080/",
          "height": 363
        },
        "id": "EYQA2HSNrWuQ",
        "outputId": "ad96e4f9-d421-433e-aac5-da1a4e95f2b7"
      },
      "execution_count": 89,
      "outputs": [
        {
          "output_type": "execute_result",
          "data": {
            "text/plain": [
              "            Compraventa_Unitario  Participacion\n",
              "Fecha                                          \n",
              "2023-01-01           5628.496599      73.533771\n",
              "2023-02-01           5660.065493      73.635606\n",
              "2023-03-01           5703.086839      73.774385\n",
              "2023-04-01           5881.599026      73.261000\n",
              "2023-05-01           5912.405409      73.386016\n",
              "2023-06-01           5935.114820      73.494214\n",
              "2023-07-01           5821.270786      72.780632\n",
              "2023-08-01           5828.726771      72.896787\n",
              "2023-09-01           5821.588893      72.983623"
            ],
            "text/html": [
              "\n",
              "  <div id=\"df-58c0b651-4d32-4e23-a3b7-33fc5b407b1b\" class=\"colab-df-container\">\n",
              "    <div>\n",
              "<style scoped>\n",
              "    .dataframe tbody tr th:only-of-type {\n",
              "        vertical-align: middle;\n",
              "    }\n",
              "\n",
              "    .dataframe tbody tr th {\n",
              "        vertical-align: top;\n",
              "    }\n",
              "\n",
              "    .dataframe thead th {\n",
              "        text-align: right;\n",
              "    }\n",
              "</style>\n",
              "<table border=\"1\" class=\"dataframe\">\n",
              "  <thead>\n",
              "    <tr style=\"text-align: right;\">\n",
              "      <th></th>\n",
              "      <th>Compraventa_Unitario</th>\n",
              "      <th>Participacion</th>\n",
              "    </tr>\n",
              "    <tr>\n",
              "      <th>Fecha</th>\n",
              "      <th></th>\n",
              "      <th></th>\n",
              "    </tr>\n",
              "  </thead>\n",
              "  <tbody>\n",
              "    <tr>\n",
              "      <th>2023-01-01</th>\n",
              "      <td>5628.496599</td>\n",
              "      <td>73.533771</td>\n",
              "    </tr>\n",
              "    <tr>\n",
              "      <th>2023-02-01</th>\n",
              "      <td>5660.065493</td>\n",
              "      <td>73.635606</td>\n",
              "    </tr>\n",
              "    <tr>\n",
              "      <th>2023-03-01</th>\n",
              "      <td>5703.086839</td>\n",
              "      <td>73.774385</td>\n",
              "    </tr>\n",
              "    <tr>\n",
              "      <th>2023-04-01</th>\n",
              "      <td>5881.599026</td>\n",
              "      <td>73.261000</td>\n",
              "    </tr>\n",
              "    <tr>\n",
              "      <th>2023-05-01</th>\n",
              "      <td>5912.405409</td>\n",
              "      <td>73.386016</td>\n",
              "    </tr>\n",
              "    <tr>\n",
              "      <th>2023-06-01</th>\n",
              "      <td>5935.114820</td>\n",
              "      <td>73.494214</td>\n",
              "    </tr>\n",
              "    <tr>\n",
              "      <th>2023-07-01</th>\n",
              "      <td>5821.270786</td>\n",
              "      <td>72.780632</td>\n",
              "    </tr>\n",
              "    <tr>\n",
              "      <th>2023-08-01</th>\n",
              "      <td>5828.726771</td>\n",
              "      <td>72.896787</td>\n",
              "    </tr>\n",
              "    <tr>\n",
              "      <th>2023-09-01</th>\n",
              "      <td>5821.588893</td>\n",
              "      <td>72.983623</td>\n",
              "    </tr>\n",
              "  </tbody>\n",
              "</table>\n",
              "</div>\n",
              "    <div class=\"colab-df-buttons\">\n",
              "\n",
              "  <div class=\"colab-df-container\">\n",
              "    <button class=\"colab-df-convert\" onclick=\"convertToInteractive('df-58c0b651-4d32-4e23-a3b7-33fc5b407b1b')\"\n",
              "            title=\"Convert this dataframe to an interactive table.\"\n",
              "            style=\"display:none;\">\n",
              "\n",
              "  <svg xmlns=\"http://www.w3.org/2000/svg\" height=\"24px\" viewBox=\"0 -960 960 960\">\n",
              "    <path d=\"M120-120v-720h720v720H120Zm60-500h600v-160H180v160Zm220 220h160v-160H400v160Zm0 220h160v-160H400v160ZM180-400h160v-160H180v160Zm440 0h160v-160H620v160ZM180-180h160v-160H180v160Zm440 0h160v-160H620v160Z\"/>\n",
              "  </svg>\n",
              "    </button>\n",
              "\n",
              "  <style>\n",
              "    .colab-df-container {\n",
              "      display:flex;\n",
              "      gap: 12px;\n",
              "    }\n",
              "\n",
              "    .colab-df-convert {\n",
              "      background-color: #E8F0FE;\n",
              "      border: none;\n",
              "      border-radius: 50%;\n",
              "      cursor: pointer;\n",
              "      display: none;\n",
              "      fill: #1967D2;\n",
              "      height: 32px;\n",
              "      padding: 0 0 0 0;\n",
              "      width: 32px;\n",
              "    }\n",
              "\n",
              "    .colab-df-convert:hover {\n",
              "      background-color: #E2EBFA;\n",
              "      box-shadow: 0px 1px 2px rgba(60, 64, 67, 0.3), 0px 1px 3px 1px rgba(60, 64, 67, 0.15);\n",
              "      fill: #174EA6;\n",
              "    }\n",
              "\n",
              "    .colab-df-buttons div {\n",
              "      margin-bottom: 4px;\n",
              "    }\n",
              "\n",
              "    [theme=dark] .colab-df-convert {\n",
              "      background-color: #3B4455;\n",
              "      fill: #D2E3FC;\n",
              "    }\n",
              "\n",
              "    [theme=dark] .colab-df-convert:hover {\n",
              "      background-color: #434B5C;\n",
              "      box-shadow: 0px 1px 3px 1px rgba(0, 0, 0, 0.15);\n",
              "      filter: drop-shadow(0px 1px 2px rgba(0, 0, 0, 0.3));\n",
              "      fill: #FFFFFF;\n",
              "    }\n",
              "  </style>\n",
              "\n",
              "    <script>\n",
              "      const buttonEl =\n",
              "        document.querySelector('#df-58c0b651-4d32-4e23-a3b7-33fc5b407b1b button.colab-df-convert');\n",
              "      buttonEl.style.display =\n",
              "        google.colab.kernel.accessAllowed ? 'block' : 'none';\n",
              "\n",
              "      async function convertToInteractive(key) {\n",
              "        const element = document.querySelector('#df-58c0b651-4d32-4e23-a3b7-33fc5b407b1b');\n",
              "        const dataTable =\n",
              "          await google.colab.kernel.invokeFunction('convertToInteractive',\n",
              "                                                    [key], {});\n",
              "        if (!dataTable) return;\n",
              "\n",
              "        const docLinkHtml = 'Like what you see? Visit the ' +\n",
              "          '<a target=\"_blank\" href=https://colab.research.google.com/notebooks/data_table.ipynb>data table notebook</a>'\n",
              "          + ' to learn more about interactive tables.';\n",
              "        element.innerHTML = '';\n",
              "        dataTable['output_type'] = 'display_data';\n",
              "        await google.colab.output.renderOutput(dataTable, element);\n",
              "        const docLink = document.createElement('div');\n",
              "        docLink.innerHTML = docLinkHtml;\n",
              "        element.appendChild(docLink);\n",
              "      }\n",
              "    </script>\n",
              "  </div>\n",
              "\n",
              "\n",
              "<div id=\"df-6a61752e-bd2b-4b5f-bdf3-abc72247414c\">\n",
              "  <button class=\"colab-df-quickchart\" onclick=\"quickchart('df-6a61752e-bd2b-4b5f-bdf3-abc72247414c')\"\n",
              "            title=\"Suggest charts\"\n",
              "            style=\"display:none;\">\n",
              "\n",
              "<svg xmlns=\"http://www.w3.org/2000/svg\" height=\"24px\"viewBox=\"0 0 24 24\"\n",
              "     width=\"24px\">\n",
              "    <g>\n",
              "        <path d=\"M19 3H5c-1.1 0-2 .9-2 2v14c0 1.1.9 2 2 2h14c1.1 0 2-.9 2-2V5c0-1.1-.9-2-2-2zM9 17H7v-7h2v7zm4 0h-2V7h2v10zm4 0h-2v-4h2v4z\"/>\n",
              "    </g>\n",
              "</svg>\n",
              "  </button>\n",
              "\n",
              "<style>\n",
              "  .colab-df-quickchart {\n",
              "      --bg-color: #E8F0FE;\n",
              "      --fill-color: #1967D2;\n",
              "      --hover-bg-color: #E2EBFA;\n",
              "      --hover-fill-color: #174EA6;\n",
              "      --disabled-fill-color: #AAA;\n",
              "      --disabled-bg-color: #DDD;\n",
              "  }\n",
              "\n",
              "  [theme=dark] .colab-df-quickchart {\n",
              "      --bg-color: #3B4455;\n",
              "      --fill-color: #D2E3FC;\n",
              "      --hover-bg-color: #434B5C;\n",
              "      --hover-fill-color: #FFFFFF;\n",
              "      --disabled-bg-color: #3B4455;\n",
              "      --disabled-fill-color: #666;\n",
              "  }\n",
              "\n",
              "  .colab-df-quickchart {\n",
              "    background-color: var(--bg-color);\n",
              "    border: none;\n",
              "    border-radius: 50%;\n",
              "    cursor: pointer;\n",
              "    display: none;\n",
              "    fill: var(--fill-color);\n",
              "    height: 32px;\n",
              "    padding: 0;\n",
              "    width: 32px;\n",
              "  }\n",
              "\n",
              "  .colab-df-quickchart:hover {\n",
              "    background-color: var(--hover-bg-color);\n",
              "    box-shadow: 0 1px 2px rgba(60, 64, 67, 0.3), 0 1px 3px 1px rgba(60, 64, 67, 0.15);\n",
              "    fill: var(--button-hover-fill-color);\n",
              "  }\n",
              "\n",
              "  .colab-df-quickchart-complete:disabled,\n",
              "  .colab-df-quickchart-complete:disabled:hover {\n",
              "    background-color: var(--disabled-bg-color);\n",
              "    fill: var(--disabled-fill-color);\n",
              "    box-shadow: none;\n",
              "  }\n",
              "\n",
              "  .colab-df-spinner {\n",
              "    border: 2px solid var(--fill-color);\n",
              "    border-color: transparent;\n",
              "    border-bottom-color: var(--fill-color);\n",
              "    animation:\n",
              "      spin 1s steps(1) infinite;\n",
              "  }\n",
              "\n",
              "  @keyframes spin {\n",
              "    0% {\n",
              "      border-color: transparent;\n",
              "      border-bottom-color: var(--fill-color);\n",
              "      border-left-color: var(--fill-color);\n",
              "    }\n",
              "    20% {\n",
              "      border-color: transparent;\n",
              "      border-left-color: var(--fill-color);\n",
              "      border-top-color: var(--fill-color);\n",
              "    }\n",
              "    30% {\n",
              "      border-color: transparent;\n",
              "      border-left-color: var(--fill-color);\n",
              "      border-top-color: var(--fill-color);\n",
              "      border-right-color: var(--fill-color);\n",
              "    }\n",
              "    40% {\n",
              "      border-color: transparent;\n",
              "      border-right-color: var(--fill-color);\n",
              "      border-top-color: var(--fill-color);\n",
              "    }\n",
              "    60% {\n",
              "      border-color: transparent;\n",
              "      border-right-color: var(--fill-color);\n",
              "    }\n",
              "    80% {\n",
              "      border-color: transparent;\n",
              "      border-right-color: var(--fill-color);\n",
              "      border-bottom-color: var(--fill-color);\n",
              "    }\n",
              "    90% {\n",
              "      border-color: transparent;\n",
              "      border-bottom-color: var(--fill-color);\n",
              "    }\n",
              "  }\n",
              "</style>\n",
              "\n",
              "  <script>\n",
              "    async function quickchart(key) {\n",
              "      const quickchartButtonEl =\n",
              "        document.querySelector('#' + key + ' button');\n",
              "      quickchartButtonEl.disabled = true;  // To prevent multiple clicks.\n",
              "      quickchartButtonEl.classList.add('colab-df-spinner');\n",
              "      try {\n",
              "        const charts = await google.colab.kernel.invokeFunction(\n",
              "            'suggestCharts', [key], {});\n",
              "      } catch (error) {\n",
              "        console.error('Error during call to suggestCharts:', error);\n",
              "      }\n",
              "      quickchartButtonEl.classList.remove('colab-df-spinner');\n",
              "      quickchartButtonEl.classList.add('colab-df-quickchart-complete');\n",
              "    }\n",
              "    (() => {\n",
              "      let quickchartButtonEl =\n",
              "        document.querySelector('#df-6a61752e-bd2b-4b5f-bdf3-abc72247414c button');\n",
              "      quickchartButtonEl.style.display =\n",
              "        google.colab.kernel.accessAllowed ? 'block' : 'none';\n",
              "    })();\n",
              "  </script>\n",
              "</div>\n",
              "    </div>\n",
              "  </div>\n"
            ],
            "application/vnd.google.colaboratory.intrinsic+json": {
              "type": "dataframe",
              "variable_name": "pred",
              "summary": "{\n  \"name\": \"pred\",\n  \"rows\": 9,\n  \"fields\": [\n    {\n      \"column\": \"Fecha\",\n      \"properties\": {\n        \"dtype\": \"date\",\n        \"min\": \"2023-01-01 00:00:00\",\n        \"max\": \"2023-09-01 00:00:00\",\n        \"num_unique_values\": 9,\n        \"samples\": [\n          \"2023-08-01 00:00:00\",\n          \"2023-02-01 00:00:00\",\n          \"2023-06-01 00:00:00\"\n        ],\n        \"semantic_type\": \"\",\n        \"description\": \"\"\n      }\n    },\n    {\n      \"column\": \"Compraventa_Unitario\",\n      \"properties\": {\n        \"dtype\": \"number\",\n        \"std\": 110.49541525758308,\n        \"min\": 5628.496599489517,\n        \"max\": 5935.114819882545,\n        \"num_unique_values\": 9,\n        \"samples\": [\n          5828.726771041855,\n          5660.065492529675,\n          5935.114819882545\n        ],\n        \"semantic_type\": \"\",\n        \"description\": \"\"\n      }\n    },\n    {\n      \"column\": \"Participacion\",\n      \"properties\": {\n        \"dtype\": \"number\",\n        \"std\": 0.34841483533437156,\n        \"min\": 72.78063242776552,\n        \"max\": 73.77438477433108,\n        \"num_unique_values\": 9,\n        \"samples\": [\n          72.89678660817924,\n          73.6356063757338,\n          73.49421438250305\n        ],\n        \"semantic_type\": \"\",\n        \"description\": \"\"\n      }\n    }\n  ]\n}"
            }
          },
          "metadata": {},
          "execution_count": 89
        }
      ]
    },
    {
      "cell_type": "code",
      "source": [
        "# Actual vs Forecasted Plots\n",
        "fig, axes = plt.subplots(nrows = int(len(X_train.columns)), ncols = 1, dpi = 100, figsize = (14,10))\n",
        "mi_lista = ['€/m²', '% Participacion']\n",
        "\n",
        "for i, (col,ax) in enumerate(zip(X_train.columns, axes.flatten())):\n",
        "    output[col].plot(color = '#00FF00', legend = True, ax = ax).autoscale(axis =' x',tight = True)\n",
        "    X_test[col].plot(color = '#F4511E', legend = True, ax = ax)\n",
        "    X_train[col].plot(color = '#3949AB', legend = True, ax = ax)\n",
        "\n",
        "    ax.set_title('Variable: ' + col + ' - Actual vs Forecast')\n",
        "    ax.set_ylabel(mi_lista[i])  # Establecer etiqueta del eje y\n",
        "    ax.xaxis.set_ticks_position('none')\n",
        "    ax.yaxis.set_ticks_position('none')\n",
        "\n",
        "    ax.spines[\"top\"].set_alpha(0)\n",
        "    ax.tick_params(labelsize = 6)\n",
        "\n",
        "plt.tight_layout()\n",
        "plt.savefig('actual_forecast.png')\n",
        "plt.show()"
      ],
      "metadata": {
        "colab": {
          "base_uri": "https://localhost:8080/",
          "height": 1000
        },
        "id": "21T4tXbArzmD",
        "outputId": "20d5980d-8244-4d32-fcfa-ee94235bc3f2"
      },
      "execution_count": 90,
      "outputs": [
        {
          "output_type": "display_data",
          "data": {
            "text/plain": [
              "<Figure size 1400x1000 with 2 Axes>"
            ],
            "image/png": "[encoded data removed]"
          },
          "metadata": {}
        }
      ]
    },
    {
      "cell_type": "markdown",
      "source": [
        "#### Evaluando el modelo\n"
      ],
      "metadata": {
        "id": "g7XKm5vYsRXL"
      }
    },
    {
      "cell_type": "code",
      "source": [
        "def timeseries_evaluation_metrics_func(y_true, y_pred):\n",
        "\n",
        "    def mean_absolute_percentage_error(y_true, y_pred):\n",
        "        y_true, y_pred = np.array(y_true), np.array(y_pred)\n",
        "        return np.mean(np.abs((y_true - y_pred) / y_true)) * 100\n",
        "    print('Evaluation metric results:-')\n",
        "    print(f'MSE is : {metrics.mean_squared_error(y_true, y_pred)}')\n",
        "    print(f'MAE is : {metrics.mean_absolute_error(y_true, y_pred)}')\n",
        "    print(f'RMSE is : {np.sqrt(metrics.mean_squared_error(y_true, y_pred))}')\n",
        "    print(f'MAPE is : {mean_absolute_percentage_error(y_true, y_pred)}')\n",
        "    print(f'R2 is : {metrics.r2_score(y_true, y_pred)}',end='\\n\\n')"
      ],
      "metadata": {
        "id": "tZlif6BVyDXn"
      },
      "execution_count": 91,
      "outputs": []
    },
    {
      "cell_type": "code",
      "source": [
        "for i in ['Compraventa_Unitario','Participacion']:\n",
        "    print(f'Evaluation metric for {i}')\n",
        "    timeseries_evaluation_metrics_func(X_test[str(i)] , output[str(i)])"
      ],
      "metadata": {
        "colab": {
          "base_uri": "https://localhost:8080/"
        },
        "id": "1ooDzvgfxqv8",
        "outputId": "f7279ccb-83f6-4c66-ee8b-d3765507af0e"
      },
      "execution_count": 92,
      "outputs": [
        {
          "output_type": "stream",
          "name": "stdout",
          "text": [
            "Evaluation metric for Compraventa_Unitario\n",
            "Evaluation metric results:-\n",
            "MSE is : 154936.45729652423\n",
            "MAE is : 366.2646373581464\n",
            "RMSE is : 393.61968611405126\n",
            "MAPE is : 6.673725422275062\n",
            "R2 is : -0.4077779732987561\n",
            "\n",
            "Evaluation metric for Participacion\n",
            "Evaluation metric results:-\n",
            "MSE is : 9.749644224498603\n",
            "MAE is : 3.1051150424320264\n",
            "RMSE is : 3.122442029005279\n",
            "MAPE is : 4.423240801185223\n",
            "R2 is : 0.0\n",
            "\n"
          ]
        }
      ]
    },
    {
      "cell_type": "markdown",
      "source": [
        "\n",
        "Las métricas de evaluación revelan que el modelo utilizado se ajusta adecuadamente a la serie \"Participacion\", con un bajo error y un coeficiente de determinación (R2) aceptable. Sin embargo, para la serie \"Compraventa_Unitario\", el modelo presenta un rendimiento deficiente, evidenciado por un R2 negativo y un error considerablemente alto."
      ],
      "metadata": {
        "id": "hNm4tQvqAsKw"
      }
    },
    {
      "cell_type": "code",
      "source": [
        "from sklearn.metrics import mean_absolute_error, mean_squared_error\n",
        "print('Mean absolute error:', mean_absolute_error(X_test, output))\n",
        "print('Root mean squared error:', np.sqrt(mean_squared_error(X_test, output)))"
      ],
      "metadata": {
        "colab": {
          "base_uri": "https://localhost:8080/"
        },
        "id": "jJEaSX0EsQLR",
        "outputId": "f64e9672-0cca-4a09-8a3d-e8603a2ed79d"
      },
      "execution_count": 93,
      "outputs": [
        {
          "output_type": "stream",
          "name": "stdout",
          "text": [
            "Mean absolute error: 184.6848762002892\n",
            "Root mean squared error: 278.3399063561931\n"
          ]
        }
      ]
    },
    {
      "cell_type": "markdown",
      "source": [
        "### Modelo VARMAX (Auto Arima)"
      ],
      "metadata": {
        "id": "YlcNq7Vxjgdp"
      }
    },
    {
      "cell_type": "markdown",
      "source": [
        "El modelo VARMAX es una extension del modelo VAR que permite incorporar variebles exogenas, es decir, varibales externas que pueden afectar a las series temporales del sistema, es decir, que ademas de modelar la dependencia entre las variables del sistema, el VARMAX tambien puede capturar la influencia de variables externas sobre las series temporales."
      ],
      "metadata": {
        "id": "eDHgPQ8HXXL3"
      }
    },
    {
      "cell_type": "code",
      "source": [
        "!pip install pmdarima"
      ],
      "metadata": {
        "colab": {
          "base_uri": "https://localhost:8080/"
        },
        "id": "uEX49EBAkjO0",
        "outputId": "9c33ff5d-5abf-482a-dd64-f7c0f1ba1d38"
      },
      "execution_count": 94,
      "outputs": [
        {
          "output_type": "stream",
          "name": "stdout",
          "text": [
            "Collecting pmdarima\n",
            "  Downloading pmdarima-2.0.4-cp310-cp310-manylinux_2_17_x86_64.manylinux2014_x86_64.manylinux_2_28_x86_64.whl (2.1 MB)\n",
            "\u001b[2K     \u001b[90m━━━━━━━━━━━━━━━━━━━━━━━━━━━━━━━━━━━━━━━━\u001b[0m \u001b[32m2.1/2.1 MB\u001b[0m \u001b[31m8.8 MB/s\u001b[0m eta \u001b[36m0:00:00\u001b[0m\n",
            "\u001b[?25hRequirement already satisfied: joblib>=0.11 in /usr/local/lib/python3.10/dist-packages (from pmdarima) (1.4.2)\n",
            "Requirement already satisfied: Cython!=0.29.18,!=0.29.31,>=0.29 in /usr/local/lib/python3.10/dist-packages (from pmdarima) (3.0.10)\n",
            "Requirement already satisfied: numpy>=1.21.2 in /usr/local/lib/python3.10/dist-packages (from pmdarima) (1.25.2)\n",
            "Requirement already satisfied: pandas>=0.19 in /usr/local/lib/python3.10/dist-packages (from pmdarima) (2.0.3)\n",
            "Requirement already satisfied: scikit-learn>=0.22 in /usr/local/lib/python3.10/dist-packages (from pmdarima) (1.2.2)\n",
            "Requirement already satisfied: scipy>=1.3.2 in /usr/local/lib/python3.10/dist-packages (from pmdarima) (1.11.4)\n",
            "Requirement already satisfied: statsmodels>=0.13.2 in /usr/local/lib/python3.10/dist-packages (from pmdarima) (0.14.2)\n",
            "Requirement already satisfied: urllib3 in /usr/local/lib/python3.10/dist-packages (from pmdarima) (2.0.7)\n",
            "Requirement already satisfied: setuptools!=50.0.0,>=38.6.0 in /usr/local/lib/python3.10/dist-packages (from pmdarima) (67.7.2)\n",
            "Requirement already satisfied: packaging>=17.1 in /usr/local/lib/python3.10/dist-packages (from pmdarima) (24.0)\n",
            "Requirement already satisfied: python-dateutil>=2.8.2 in /usr/local/lib/python3.10/dist-packages (from pandas>=0.19->pmdarima) (2.8.2)\n",
            "Requirement already satisfied: pytz>=2020.1 in /usr/local/lib/python3.10/dist-packages (from pandas>=0.19->pmdarima) (2023.4)\n",
            "Requirement already satisfied: tzdata>=2022.1 in /usr/local/lib/python3.10/dist-packages (from pandas>=0.19->pmdarima) (2024.1)\n",
            "Requirement already satisfied: threadpoolctl>=2.0.0 in /usr/local/lib/python3.10/dist-packages (from scikit-learn>=0.22->pmdarima) (3.5.0)\n",
            "Requirement already satisfied: patsy>=0.5.6 in /usr/local/lib/python3.10/dist-packages (from statsmodels>=0.13.2->pmdarima) (0.5.6)\n",
            "Requirement already satisfied: six in /usr/local/lib/python3.10/dist-packages (from patsy>=0.5.6->statsmodels>=0.13.2->pmdarima) (1.16.0)\n",
            "Installing collected packages: pmdarima\n",
            "Successfully installed pmdarima-2.0.4\n"
          ]
        }
      ]
    },
    {
      "cell_type": "markdown",
      "source": [
        "#### Dividir los datos en conjuntos de Entrenamiento Y Prueba"
      ],
      "metadata": {
        "id": "Tpok01pGRdhH"
      }
    },
    {
      "cell_type": "code",
      "source": [
        "fecha_division = '2023-01-01'\n",
        "\n",
        "X_train, X_test = df[df.index<fecha_division], df[df.index>=fecha_division]\n",
        "print(X_train.shape, X_test.shape)"
      ],
      "metadata": {
        "colab": {
          "base_uri": "https://localhost:8080/"
        },
        "id": "VRUGB5c9mjLn",
        "outputId": "54aa2658-dc02-4fdb-e007-bb87e702762d"
      },
      "execution_count": 95,
      "outputs": [
        {
          "output_type": "stream",
          "name": "stdout",
          "text": [
            "(108, 2) (9, 2)\n"
          ]
        }
      ]
    },
    {
      "cell_type": "markdown",
      "source": [
        "#### Prueba de estacionariedad"
      ],
      "metadata": {
        "id": "yApANc3CRuP2"
      }
    },
    {
      "cell_type": "markdown",
      "source": [
        "Necesitamos que los datos sean estacionarios para poder usar el modelo VAR. Vamos a averiguarlo haciendo un Test de Dickey-Fuller aumentado, a cada variable univariante que tiene nuestro dataset."
      ],
      "metadata": {
        "id": "XOYDouwOpjcn"
      }
    },
    {
      "cell_type": "code",
      "source": [
        "def augmented_dickey_fuller_statistics(time_series):\n",
        "  result = sts.adfuller(time_series.values)\n",
        "  print('p-value: %f' % result[1])\n",
        "\n",
        "print('Test de Dickey-Fuller Aumentado:')\n",
        "for i in range(len(X_train.columns)):\n",
        "  print('Serie de tiempo',X_train.columns[i])\n",
        "  augmented_dickey_fuller_statistics(X_train.iloc[:,i])"
      ],
      "metadata": {
        "colab": {
          "base_uri": "https://localhost:8080/"
        },
        "id": "FSWF4aigkwNc",
        "outputId": "521ba716-8ed3-4949-8e6d-7a08e55bec27"
      },
      "execution_count": 96,
      "outputs": [
        {
          "output_type": "stream",
          "name": "stdout",
          "text": [
            "Test de Dickey-Fuller Aumentado:\n",
            "Serie de tiempo Compraventa_Unitario\n",
            "p-value: 0.820608\n",
            "Serie de tiempo Participacion\n",
            "p-value: 0.498925\n"
          ]
        }
      ]
    },
    {
      "cell_type": "markdown",
      "source": [
        "Los p-valores son mayores que 0.05, con lo cual no se rechaza la hipótesis nula de que la serie no es estacionaria. Habría que transformar los datos porque no se puede confirmar estacionariedad."
      ],
      "metadata": {
        "id": "U6ZK0F4EpbzT"
      }
    },
    {
      "cell_type": "code",
      "source": [
        "#Diferenciando por primera vez\n",
        "X_train_transformed=X_train.diff().dropna()\n",
        "X_train_transformed.head()"
      ],
      "metadata": {
        "colab": {
          "base_uri": "https://localhost:8080/",
          "height": 237
        },
        "id": "aLKLxKlBnduc",
        "outputId": "1de7e03f-2120-461a-c621-0c7a44aab55a"
      },
      "execution_count": 97,
      "outputs": [
        {
          "output_type": "execute_result",
          "data": {
            "text/plain": [
              "            Compraventa_Unitario  Participacion\n",
              "Fecha                                          \n",
              "2014-02-01              0.000000            0.0\n",
              "2014-03-01              0.000000            0.0\n",
              "2014-04-01             47.933333            0.0\n",
              "2014-05-01              0.000000            0.0\n",
              "2014-06-01              0.000000            0.0"
            ],
            "text/html": [
              "\n",
              "  <div id=\"df-5b0e4972-79e7-4b72-8b4f-f8dfa3d24894\" class=\"colab-df-container\">\n",
              "    <div>\n",
              "<style scoped>\n",
              "    .dataframe tbody tr th:only-of-type {\n",
              "        vertical-align: middle;\n",
              "    }\n",
              "\n",
              "    .dataframe tbody tr th {\n",
              "        vertical-align: top;\n",
              "    }\n",
              "\n",
              "    .dataframe thead th {\n",
              "        text-align: right;\n",
              "    }\n",
              "</style>\n",
              "<table border=\"1\" class=\"dataframe\">\n",
              "  <thead>\n",
              "    <tr style=\"text-align: right;\">\n",
              "      <th></th>\n",
              "      <th>Compraventa_Unitario</th>\n",
              "      <th>Participacion</th>\n",
              "    </tr>\n",
              "    <tr>\n",
              "      <th>Fecha</th>\n",
              "      <th></th>\n",
              "      <th></th>\n",
              "    </tr>\n",
              "  </thead>\n",
              "  <tbody>\n",
              "    <tr>\n",
              "      <th>2014-02-01</th>\n",
              "      <td>0.000000</td>\n",
              "      <td>0.0</td>\n",
              "    </tr>\n",
              "    <tr>\n",
              "      <th>2014-03-01</th>\n",
              "      <td>0.000000</td>\n",
              "      <td>0.0</td>\n",
              "    </tr>\n",
              "    <tr>\n",
              "      <th>2014-04-01</th>\n",
              "      <td>47.933333</td>\n",
              "      <td>0.0</td>\n",
              "    </tr>\n",
              "    <tr>\n",
              "      <th>2014-05-01</th>\n",
              "      <td>0.000000</td>\n",
              "      <td>0.0</td>\n",
              "    </tr>\n",
              "    <tr>\n",
              "      <th>2014-06-01</th>\n",
              "      <td>0.000000</td>\n",
              "      <td>0.0</td>\n",
              "    </tr>\n",
              "  </tbody>\n",
              "</table>\n",
              "</div>\n",
              "    <div class=\"colab-df-buttons\">\n",
              "\n",
              "  <div class=\"colab-df-container\">\n",
              "    <button class=\"colab-df-convert\" onclick=\"convertToInteractive('df-5b0e4972-79e7-4b72-8b4f-f8dfa3d24894')\"\n",
              "            title=\"Convert this dataframe to an interactive table.\"\n",
              "            style=\"display:none;\">\n",
              "\n",
              "  <svg xmlns=\"http://www.w3.org/2000/svg\" height=\"24px\" viewBox=\"0 -960 960 960\">\n",
              "    <path d=\"M120-120v-720h720v720H120Zm60-500h600v-160H180v160Zm220 220h160v-160H400v160Zm0 220h160v-160H400v160ZM180-400h160v-160H180v160Zm440 0h160v-160H620v160ZM180-180h160v-160H180v160Zm440 0h160v-160H620v160Z\"/>\n",
              "  </svg>\n",
              "    </button>\n",
              "\n",
              "  <style>\n",
              "    .colab-df-container {\n",
              "      display:flex;\n",
              "      gap: 12px;\n",
              "    }\n",
              "\n",
              "    .colab-df-convert {\n",
              "      background-color: #E8F0FE;\n",
              "      border: none;\n",
              "      border-radius: 50%;\n",
              "      cursor: pointer;\n",
              "      display: none;\n",
              "      fill: #1967D2;\n",
              "      height: 32px;\n",
              "      padding: 0 0 0 0;\n",
              "      width: 32px;\n",
              "    }\n",
              "\n",
              "    .colab-df-convert:hover {\n",
              "      background-color: #E2EBFA;\n",
              "      box-shadow: 0px 1px 2px rgba(60, 64, 67, 0.3), 0px 1px 3px 1px rgba(60, 64, 67, 0.15);\n",
              "      fill: #174EA6;\n",
              "    }\n",
              "\n",
              "    .colab-df-buttons div {\n",
              "      margin-bottom: 4px;\n",
              "    }\n",
              "\n",
              "    [theme=dark] .colab-df-convert {\n",
              "      background-color: #3B4455;\n",
              "      fill: #D2E3FC;\n",
              "    }\n",
              "\n",
              "    [theme=dark] .colab-df-convert:hover {\n",
              "      background-color: #434B5C;\n",
              "      box-shadow: 0px 1px 3px 1px rgba(0, 0, 0, 0.15);\n",
              "      filter: drop-shadow(0px 1px 2px rgba(0, 0, 0, 0.3));\n",
              "      fill: #FFFFFF;\n",
              "    }\n",
              "  </style>\n",
              "\n",
              "    <script>\n",
              "      const buttonEl =\n",
              "        document.querySelector('#df-5b0e4972-79e7-4b72-8b4f-f8dfa3d24894 button.colab-df-convert');\n",
              "      buttonEl.style.display =\n",
              "        google.colab.kernel.accessAllowed ? 'block' : 'none';\n",
              "\n",
              "      async function convertToInteractive(key) {\n",
              "        const element = document.querySelector('#df-5b0e4972-79e7-4b72-8b4f-f8dfa3d24894');\n",
              "        const dataTable =\n",
              "          await google.colab.kernel.invokeFunction('convertToInteractive',\n",
              "                                                    [key], {});\n",
              "        if (!dataTable) return;\n",
              "\n",
              "        const docLinkHtml = 'Like what you see? Visit the ' +\n",
              "          '<a target=\"_blank\" href=https://colab.research.google.com/notebooks/data_table.ipynb>data table notebook</a>'\n",
              "          + ' to learn more about interactive tables.';\n",
              "        element.innerHTML = '';\n",
              "        dataTable['output_type'] = 'display_data';\n",
              "        await google.colab.output.renderOutput(dataTable, element);\n",
              "        const docLink = document.createElement('div');\n",
              "        docLink.innerHTML = docLinkHtml;\n",
              "        element.appendChild(docLink);\n",
              "      }\n",
              "    </script>\n",
              "  </div>\n",
              "\n",
              "\n",
              "<div id=\"df-373228a2-7659-4c7c-a2ae-3f2e7b367a32\">\n",
              "  <button class=\"colab-df-quickchart\" onclick=\"quickchart('df-373228a2-7659-4c7c-a2ae-3f2e7b367a32')\"\n",
              "            title=\"Suggest charts\"\n",
              "            style=\"display:none;\">\n",
              "\n",
              "<svg xmlns=\"http://www.w3.org/2000/svg\" height=\"24px\"viewBox=\"0 0 24 24\"\n",
              "     width=\"24px\">\n",
              "    <g>\n",
              "        <path d=\"M19 3H5c-1.1 0-2 .9-2 2v14c0 1.1.9 2 2 2h14c1.1 0 2-.9 2-2V5c0-1.1-.9-2-2-2zM9 17H7v-7h2v7zm4 0h-2V7h2v10zm4 0h-2v-4h2v4z\"/>\n",
              "    </g>\n",
              "</svg>\n",
              "  </button>\n",
              "\n",
              "<style>\n",
              "  .colab-df-quickchart {\n",
              "      --bg-color: #E8F0FE;\n",
              "      --fill-color: #1967D2;\n",
              "      --hover-bg-color: #E2EBFA;\n",
              "      --hover-fill-color: #174EA6;\n",
              "      --disabled-fill-color: #AAA;\n",
              "      --disabled-bg-color: #DDD;\n",
              "  }\n",
              "\n",
              "  [theme=dark] .colab-df-quickchart {\n",
              "      --bg-color: #3B4455;\n",
              "      --fill-color: #D2E3FC;\n",
              "      --hover-bg-color: #434B5C;\n",
              "      --hover-fill-color: #FFFFFF;\n",
              "      --disabled-bg-color: #3B4455;\n",
              "      --disabled-fill-color: #666;\n",
              "  }\n",
              "\n",
              "  .colab-df-quickchart {\n",
              "    background-color: var(--bg-color);\n",
              "    border: none;\n",
              "    border-radius: 50%;\n",
              "    cursor: pointer;\n",
              "    display: none;\n",
              "    fill: var(--fill-color);\n",
              "    height: 32px;\n",
              "    padding: 0;\n",
              "    width: 32px;\n",
              "  }\n",
              "\n",
              "  .colab-df-quickchart:hover {\n",
              "    background-color: var(--hover-bg-color);\n",
              "    box-shadow: 0 1px 2px rgba(60, 64, 67, 0.3), 0 1px 3px 1px rgba(60, 64, 67, 0.15);\n",
              "    fill: var(--button-hover-fill-color);\n",
              "  }\n",
              "\n",
              "  .colab-df-quickchart-complete:disabled,\n",
              "  .colab-df-quickchart-complete:disabled:hover {\n",
              "    background-color: var(--disabled-bg-color);\n",
              "    fill: var(--disabled-fill-color);\n",
              "    box-shadow: none;\n",
              "  }\n",
              "\n",
              "  .colab-df-spinner {\n",
              "    border: 2px solid var(--fill-color);\n",
              "    border-color: transparent;\n",
              "    border-bottom-color: var(--fill-color);\n",
              "    animation:\n",
              "      spin 1s steps(1) infinite;\n",
              "  }\n",
              "\n",
              "  @keyframes spin {\n",
              "    0% {\n",
              "      border-color: transparent;\n",
              "      border-bottom-color: var(--fill-color);\n",
              "      border-left-color: var(--fill-color);\n",
              "    }\n",
              "    20% {\n",
              "      border-color: transparent;\n",
              "      border-left-color: var(--fill-color);\n",
              "      border-top-color: var(--fill-color);\n",
              "    }\n",
              "    30% {\n",
              "      border-color: transparent;\n",
              "      border-left-color: var(--fill-color);\n",
              "      border-top-color: var(--fill-color);\n",
              "      border-right-color: var(--fill-color);\n",
              "    }\n",
              "    40% {\n",
              "      border-color: transparent;\n",
              "      border-right-color: var(--fill-color);\n",
              "      border-top-color: var(--fill-color);\n",
              "    }\n",
              "    60% {\n",
              "      border-color: transparent;\n",
              "      border-right-color: var(--fill-color);\n",
              "    }\n",
              "    80% {\n",
              "      border-color: transparent;\n",
              "      border-right-color: var(--fill-color);\n",
              "      border-bottom-color: var(--fill-color);\n",
              "    }\n",
              "    90% {\n",
              "      border-color: transparent;\n",
              "      border-bottom-color: var(--fill-color);\n",
              "    }\n",
              "  }\n",
              "</style>\n",
              "\n",
              "  <script>\n",
              "    async function quickchart(key) {\n",
              "      const quickchartButtonEl =\n",
              "        document.querySelector('#' + key + ' button');\n",
              "      quickchartButtonEl.disabled = true;  // To prevent multiple clicks.\n",
              "      quickchartButtonEl.classList.add('colab-df-spinner');\n",
              "      try {\n",
              "        const charts = await google.colab.kernel.invokeFunction(\n",
              "            'suggestCharts', [key], {});\n",
              "      } catch (error) {\n",
              "        console.error('Error during call to suggestCharts:', error);\n",
              "      }\n",
              "      quickchartButtonEl.classList.remove('colab-df-spinner');\n",
              "      quickchartButtonEl.classList.add('colab-df-quickchart-complete');\n",
              "    }\n",
              "    (() => {\n",
              "      let quickchartButtonEl =\n",
              "        document.querySelector('#df-373228a2-7659-4c7c-a2ae-3f2e7b367a32 button');\n",
              "      quickchartButtonEl.style.display =\n",
              "        google.colab.kernel.accessAllowed ? 'block' : 'none';\n",
              "    })();\n",
              "  </script>\n",
              "</div>\n",
              "    </div>\n",
              "  </div>\n"
            ],
            "application/vnd.google.colaboratory.intrinsic+json": {
              "type": "dataframe",
              "variable_name": "X_train_transformed",
              "summary": "{\n  \"name\": \"X_train_transformed\",\n  \"rows\": 107,\n  \"fields\": [\n    {\n      \"column\": \"Fecha\",\n      \"properties\": {\n        \"dtype\": \"date\",\n        \"min\": \"2014-02-01 00:00:00\",\n        \"max\": \"2022-12-01 00:00:00\",\n        \"num_unique_values\": 107,\n        \"samples\": [\n          \"2020-06-01 00:00:00\",\n          \"2014-12-01 00:00:00\",\n          \"2014-06-01 00:00:00\"\n        ],\n        \"semantic_type\": \"\",\n        \"description\": \"\"\n      }\n    },\n    {\n      \"column\": \"Compraventa_Unitario\",\n      \"properties\": {\n        \"dtype\": \"number\",\n        \"std\": 148.74409068285175,\n        \"min\": -588.4666666666672,\n        \"max\": 551.1666666666661,\n        \"num_unique_values\": 29,\n        \"samples\": [\n          -33.46666666666715,\n          54.66666666666697,\n          17.550000000000182\n        ],\n        \"semantic_type\": \"\",\n        \"description\": \"\"\n      }\n    },\n    {\n      \"column\": \"Participacion\",\n      \"properties\": {\n        \"dtype\": \"number\",\n        \"std\": 0.7487072265051163,\n        \"min\": 0.0,\n        \"max\": 6.200000000000003,\n        \"num_unique_values\": 3,\n        \"samples\": [\n          0.0,\n          4.699999999999996,\n          6.200000000000003\n        ],\n        \"semantic_type\": \"\",\n        \"description\": \"\"\n      }\n    }\n  ]\n}"
            }
          },
          "metadata": {},
          "execution_count": 97
        }
      ]
    },
    {
      "cell_type": "code",
      "source": [
        "print('Test de Dickey-Fuller Aumentado 2da vez:')\n",
        "for i in range(len(X_train_transformed.columns)):\n",
        "  print('Serie de tiempo transformada', 'Variable', X_train_transformed.columns[i])\n",
        "  augmented_dickey_fuller_statistics(X_train_transformed.iloc[:,i])"
      ],
      "metadata": {
        "colab": {
          "base_uri": "https://localhost:8080/"
        },
        "id": "WVoGomcBn0-j",
        "outputId": "b59ffa47-f0d7-434b-84e7-242ed002bdaa"
      },
      "execution_count": 98,
      "outputs": [
        {
          "output_type": "stream",
          "name": "stdout",
          "text": [
            "Test de Dickey-Fuller Aumentado 2da vez:\n",
            "Serie de tiempo transformada Variable Compraventa_Unitario\n",
            "p-value: 0.000000\n",
            "Serie de tiempo transformada Variable Participacion\n",
            "p-value: 0.000000\n"
          ]
        }
      ]
    },
    {
      "cell_type": "markdown",
      "source": [
        "Todos los p-valores son < 0.05 por lo tanto se podría concluir que con 2 ordenes de diferenciación se obtienen series estacionarias."
      ],
      "metadata": {
        "id": "Q7GhTMnRoAXt"
      }
    },
    {
      "cell_type": "markdown",
      "source": [
        "####Test de Cointegracion"
      ],
      "metadata": {
        "id": "urqrWp78SDxr"
      }
    },
    {
      "cell_type": "markdown",
      "source": [
        "Determinaremos si las dos variables estan relacionadas entre si y si esa relacion es duradera o no"
      ],
      "metadata": {
        "id": "SqHnxteITJdc"
      }
    },
    {
      "cell_type": "code",
      "source": [
        "from statsmodels.tsa.vector_ar.vecm import coint_johansen\n",
        "\n",
        "def cointegration_test(df):\n",
        "    res = coint_johansen(df,-1,5)\n",
        "    d = {'0.90':0, '0.95':1, '0.99':2}\n",
        "    traces = res.lr1\n",
        "    cvts = res.cvt[:, d[str(1-0.05)]]\n",
        "    def adjust(val, length= 6):\n",
        "        return str(val).ljust(length)\n",
        "    print('Column Name   >  Test Stat > C(95%)    =>   Signif  \\n', '--'*20)\n",
        "    for col, trace, cvt in zip(df.columns, traces, cvts):\n",
        "        print(adjust(col), '> ', adjust(round(trace,2), 9), \">\", adjust(cvt, 8), ' =>  ' , trace > cvt)"
      ],
      "metadata": {
        "id": "22atK7y0oPJ5"
      },
      "execution_count": 99,
      "outputs": []
    },
    {
      "cell_type": "code",
      "source": [
        "cointegration_test(X_train_transformed[['Compraventa_Unitario', 'Participacion']])"
      ],
      "metadata": {
        "colab": {
          "base_uri": "https://localhost:8080/"
        },
        "id": "0TCF1hZsoQjO",
        "outputId": "ac6aca83-05d8-4ee7-acc6-9098141aef9b"
      },
      "execution_count": 100,
      "outputs": [
        {
          "output_type": "stream",
          "name": "stdout",
          "text": [
            "Column Name   >  Test Stat > C(95%)    =>   Signif  \n",
            " ----------------------------------------\n",
            "Compraventa_Unitario >  48.97     > 12.3212   =>   True\n",
            "Participacion >  15.05     > 4.1296    =>   True\n"
          ]
        }
      ]
    },
    {
      "cell_type": "markdown",
      "source": [
        "Los resultados del test de Cointegracion entre las dos series temporales son satisfactorios.\n",
        "\n",
        "- Para \"Compraventa_Unitario\", el valor del estadístico de prueba es 48.97, lo cual es mucho mayor que el valor crítico de 12.3212 al 95% de confianza. Esto indica que hay evidencia significativa de cointegración para esta variable.\n",
        "\n",
        "- Para \"Participacion\", el valor del estadístico de prueba es 15.05, nuevamente mucho mayor que el valor crítico de 4.1296 al 95% de confianza. Esto también indica que hay evidencia significativa de cointegración para esta variable.\n",
        "\n",
        "A pesar de las fluctuaciones a corto plazo, ambas variables tienden a moverse juntas en el largo plazo. Esto es importante para la modelización y el análisis de series temporales, ya que proporciona información sobre la relación a largo plazo entre las variables y puede ayudar en la construcción de modelos más precisos y en la formulación de políticas adecuadas."
      ],
      "metadata": {
        "id": "cllQW2eETZMh"
      }
    },
    {
      "cell_type": "markdown",
      "source": [
        "#### Ajustando el modelo"
      ],
      "metadata": {
        "id": "HTxVjAs4Sv4A"
      }
    },
    {
      "cell_type": "markdown",
      "source": [
        "#####Auto Arima"
      ],
      "metadata": {
        "id": "E0a5wSe3tGaG"
      }
    },
    {
      "cell_type": "markdown",
      "source": [
        "Aplicaremos autoarima, para determinar los valores de p, q y d"
      ],
      "metadata": {
        "id": "gyKuUdCETgCb"
      }
    },
    {
      "cell_type": "code",
      "source": [
        "import pmdarima as pm"
      ],
      "metadata": {
        "id": "6Nq7wePOkpAw"
      },
      "execution_count": 101,
      "outputs": []
    },
    {
      "cell_type": "code",
      "source": [
        "\n",
        "pq = []\n",
        "for name in ['Compraventa_Unitario', 'Participacion']:\n",
        "    print(f'Searching order of p and q for : {name}')\n",
        "    # Ajusta un modelo ARIMA para cada columna\n",
        "    stepwise_model = pm.auto_arima(X_train_transformed[name],\n",
        "                                start_p=0, start_q=0,\n",
        "                                max_p=4, max_q=4,\n",
        "                                seasonal=False,\n",
        "                                trace=True,\n",
        "                                error_action='ignore',\n",
        "                                suppress_warnings=True,\n",
        "                                stepwise=True,\n",
        "                                maxiter=1000)\n",
        "    # Obtiene los parámetros óptimos de p y q del modelo\n",
        "    parameter = stepwise_model.get_params().get('order')\n",
        "    print(f'optimal order for:{name} is: {parameter} \\n\\n')\n",
        "    # Agrega los parámetros óptimos a la lista pq\n",
        "    pq.append(stepwise_model.get_params().get('order'))"
      ],
      "metadata": {
        "colab": {
          "base_uri": "https://localhost:8080/"
        },
        "id": "HR5DfxULokMK",
        "outputId": "f5ef67a7-f52d-4764-c562-6748bab8109f"
      },
      "execution_count": 102,
      "outputs": [
        {
          "output_type": "stream",
          "name": "stdout",
          "text": [
            "Searching order of p and q for : Compraventa_Unitario\n",
            "Performing stepwise search to minimize aic\n",
            " ARIMA(0,0,0)(0,0,0)[0]             : AIC=1375.770, Time=0.18 sec\n",
            " ARIMA(1,0,0)(0,0,0)[0]             : AIC=1377.770, Time=0.13 sec\n",
            " ARIMA(0,0,1)(0,0,0)[0]             : AIC=1377.770, Time=0.22 sec\n",
            " ARIMA(1,0,1)(0,0,0)[0]             : AIC=1379.770, Time=0.28 sec\n",
            " ARIMA(0,0,0)(0,0,0)[0] intercept   : AIC=1377.125, Time=0.09 sec\n",
            "\n",
            "Best model:  ARIMA(0,0,0)(0,0,0)[0]          \n",
            "Total fit time: 0.983 seconds\n",
            "optimal order for:Compraventa_Unitario is: (0, 0, 0) \n",
            "\n",
            "\n",
            "Searching order of p and q for : Participacion\n",
            "Performing stepwise search to minimize aic\n",
            " ARIMA(0,0,0)(0,0,0)[0]             : AIC=244.696, Time=0.04 sec\n",
            " ARIMA(1,0,0)(0,0,0)[0]             : AIC=246.696, Time=0.03 sec\n",
            " ARIMA(0,0,1)(0,0,0)[0]             : AIC=246.696, Time=0.16 sec\n",
            " ARIMA(1,0,1)(0,0,0)[0]             : AIC=248.696, Time=0.10 sec\n",
            " ARIMA(0,0,0)(0,0,0)[0] intercept   : AIC=244.715, Time=0.15 sec\n",
            "\n",
            "Best model:  ARIMA(0,0,0)(0,0,0)[0]          \n",
            "Total fit time: 0.495 seconds\n",
            "optimal order for:Participacion is: (0, 0, 0) \n",
            "\n",
            "\n"
          ]
        }
      ]
    },
    {
      "cell_type": "markdown",
      "source": [
        "#####Seleccion del modelo"
      ],
      "metadata": {
        "id": "_wGoixHgT1i1"
      }
    },
    {
      "cell_type": "code",
      "source": [
        "pq"
      ],
      "metadata": {
        "colab": {
          "base_uri": "https://localhost:8080/"
        },
        "id": "P3tgzd5hreCa",
        "outputId": "5249df87-3709-4b9d-960e-598463760551"
      },
      "execution_count": 103,
      "outputs": [
        {
          "output_type": "execute_result",
          "data": {
            "text/plain": [
              "[(0, 0, 0), (0, 0, 0)]"
            ]
          },
          "metadata": {},
          "execution_count": 103
        }
      ]
    },
    {
      "cell_type": "markdown",
      "source": [
        "Los valores obtenidos para p y q en las dos series son 0, lo que:\n",
        "- *p=0:* Indica que no hay términos autoregresivos en el modelo. En otras palabras, el modelo VARMAX no incluye dependencia de los valores pasados de las variables en sí mismas\n",
        "\n",
        "- *q=0:* Indica que no hay términos de medias móviles en el modelo. Esto significa que no hay dependencia de los errores pasados del modelo en sí mismo.\n",
        "\n",
        "En este caso no se puede aplicar el modelo VARMAX, ya que el modelo esta considerando unicamente la tendencia lineal y no esta incorporando autocorrelacion en los residuos del modelo.\n",
        "\n",
        "Por lo que para estos datos, no es posible entrenar un modelo VARMAX"
      ],
      "metadata": {
        "id": "WEKjqoU8CkG0"
      }
    },
    {
      "cell_type": "markdown",
      "source": [
        "##Conclusiones"
      ],
      "metadata": {
        "id": "jupEV8ues2bR"
      }
    },
    {
      "cell_type": "markdown",
      "source": [
        "Como conclusiones de realizar un analisis de datos forecasting a los datos de distrito de **Sarrià-Sant Gervasi** de Barcelona entre las dos series temporales de Compraventa_unitario y Participacion, tenemos que:\n",
        "\n",
        "- Se ha comprobado que las variables apenas tienen correlacion.\n",
        "- Se ha comprobado que la dos series de datos temporales tienen estacionalidad a partir del primer orden de diferenciacion, lo que las hace aptas para aplicar los dos modelos VAR y VARMAX .\n",
        "- En el modelo VAR se ha comprobado la causalidad de Granger, y esta ha salido negativa, lo que quiere decir que ninguna serie temporal puede causar las demas series temporales. Esto en un principio nos advierte que este modelo sera más aconsejable que el modelo VARMAX\n",
        "- No se a podido aplicar el modelo VARMAX, por la nula autocorrelacion de los datos.\n",
        "\n",
        "Con los datos obtenidos unicamente se ha podido entrenar un modelo VAR.\n",
        "\n"
      ],
      "metadata": {
        "id": "tih-GQeKd6yp"
      }
    }
  ],
  "metadata": {
    "colab": {
      "provenance": [],
      "mount_file_id": "1v9UMIa6FhkZeI0OTGPhCle0enpHA01pl",
      "authorship_tag": "ABX9TyOA8rr/lfBc/Jqp9H/yAO5o",
      "include_colab_link": true
    },
    "kernelspec": {
      "display_name": "Python 3",
      "name": "python3"
    },
    "language_info": {
      "name": "python"
    }
  },
  "nbformat": 4,
  "nbformat_minor": 0
}