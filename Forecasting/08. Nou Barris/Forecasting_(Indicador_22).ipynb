{
  "cells": [
    {
      "cell_type": "markdown",
      "metadata": {
        "id": "view-in-github",
        "colab_type": "text"
      },
      "source": [
        "<a href=\"https://colab.research.google.com/github/dmunozbe/TFM_DataScience/blob/main/Forecasting/08.%20Nou%20Barris/Forecasting_(Indicador_22).ipynb\" target=\"_parent\"><img src=\"https://colab.research.google.com/assets/colab-badge.svg\" alt=\"Open In Colab\"/></a>"
      ]
    },
    {
      "cell_type": "markdown",
      "metadata": {
        "id": "0p7EJF28yyC8"
      },
      "source": [
        "# **Forecasting**\n",
        "\n",
        "\n",
        "1. [Importar bibliotecas](#Importar-bibliotecas)\n",
        "2. [Carga de datos](#Carga-de-datos)\n",
        "3. [Preparacion de los datos](#Preparacion-de-los-datos)\n",
        "4. [Analisis por grupo de indicadores (Contaminacion)](#Analisis-por-grupo-de-indicadores-(contaminacion))\n",
        "  - [Preparacion de datos](#Preparacion-de-datos)\n",
        "  - [Analisis Exploratorio](#Analisis-Exploratorio)\n",
        "  - [Modelo VAR](#Modelo-VAR)\n",
        "  - [Modelo VARMAX](#Modelo-VARMAX)\n",
        "5. [Conclusiones](#Conclusiones)\n",
        "\n"
      ]
    },
    {
      "cell_type": "markdown",
      "metadata": {
        "id": "ioTGaiCDEb5i"
      },
      "source": [
        "**Forecasting** es el proceso de predecir eventos futuros basados en patrones históricos y datos existentes.\n",
        "\n",
        "El objetivo principal es el de hacer predicciones precisas sobre el futuro utilizando datos pasados y presentes y se utiliza en una amplia variaedad de constextos, como en finanzas, meteorologia, ventas entre otros"
      ]
    },
    {
      "cell_type": "markdown",
      "metadata": {
        "id": "AV9FZlYWReGR"
      },
      "source": [
        "##Importar bibliotecas"
      ]
    },
    {
      "cell_type": "code",
      "execution_count": 1,
      "metadata": {
        "id": "nQ5PEOwwytuT"
      },
      "outputs": [],
      "source": [
        "import pandas as pd\n",
        "import numpy as np\n",
        "%matplotlib inline\n",
        "import seaborn as sns\n",
        "import matplotlib.pyplot as plt\n",
        "from matplotlib.pyplot import figure\n",
        "from sklearn import metrics\n",
        "\n",
        "\n",
        "import warnings\n",
        "warnings.filterwarnings(\"ignore\")"
      ]
    },
    {
      "cell_type": "markdown",
      "metadata": {
        "id": "7MJ6Iz9XRYGi"
      },
      "source": [
        "##Carga de datos"
      ]
    },
    {
      "cell_type": "code",
      "execution_count": 2,
      "metadata": {
        "colab": {
          "base_uri": "https://localhost:8080/",
          "height": 243
        },
        "id": "sqL1iuYSLMXK",
        "outputId": "8b111b06-8bed-409c-d699-88de140eaa1d"
      },
      "outputs": [
        {
          "output_type": "execute_result",
          "data": {
            "text/plain": [
              "    Any  Trimestre  Mes  Codi_Districte Nom_Districte  Codi_Barri Nom_Barri  \\\n",
              "0  2014          1    1               1  Ciutat Vella           1  el Raval   \n",
              "1  2014          1    2               1  Ciutat Vella           1  el Raval   \n",
              "2  2014          1    3               1  Ciutat Vella           1  el Raval   \n",
              "3  2014          2    4               1  Ciutat Vella           1  el Raval   \n",
              "4  2014          2    5               1  Ciutat Vella           1  el Raval   \n",
              "\n",
              "   Compraventa_Unitario  ParadosReg  Estudios_Obligatorios  ConsumResidencial  \\\n",
              "0                2813.0        4588                    NaN                NaN   \n",
              "1                2813.0        4539                    NaN                NaN   \n",
              "2                2813.0        4572                    NaN                NaN   \n",
              "3                2948.8        4510                    NaN                NaN   \n",
              "4                2948.8        4379                    NaN                NaN   \n",
              "\n",
              "   Pm25  Pm10  Participacion  AñosEspVida  Internet  Movil  Index_Turisme  \\\n",
              "0   NaN   NaN           41.8         80.7       NaN    NaN            NaN   \n",
              "1   NaN   NaN           41.8         80.7       NaN    NaN            NaN   \n",
              "2   NaN   NaN           41.8         80.7       NaN    NaN            NaN   \n",
              "3   NaN   NaN           41.8         80.7       NaN    NaN            NaN   \n",
              "4   NaN   NaN           41.8         80.7       NaN    NaN            NaN   \n",
              "\n",
              "   m² por habitante  \n",
              "0               6.2  \n",
              "1               6.2  \n",
              "2               6.2  \n",
              "3               6.2  \n",
              "4               6.2  "
            ],
            "text/html": [
              "\n",
              "  <div id=\"df-a66b32b3-7e59-43e4-a6d0-f9238b12d2d4\" class=\"colab-df-container\">\n",
              "    <div>\n",
              "<style scoped>\n",
              "    .dataframe tbody tr th:only-of-type {\n",
              "        vertical-align: middle;\n",
              "    }\n",
              "\n",
              "    .dataframe tbody tr th {\n",
              "        vertical-align: top;\n",
              "    }\n",
              "\n",
              "    .dataframe thead th {\n",
              "        text-align: right;\n",
              "    }\n",
              "</style>\n",
              "<table border=\"1\" class=\"dataframe\">\n",
              "  <thead>\n",
              "    <tr style=\"text-align: right;\">\n",
              "      <th></th>\n",
              "      <th>Any</th>\n",
              "      <th>Trimestre</th>\n",
              "      <th>Mes</th>\n",
              "      <th>Codi_Districte</th>\n",
              "      <th>Nom_Districte</th>\n",
              "      <th>Codi_Barri</th>\n",
              "      <th>Nom_Barri</th>\n",
              "      <th>Compraventa_Unitario</th>\n",
              "      <th>ParadosReg</th>\n",
              "      <th>Estudios_Obligatorios</th>\n",
              "      <th>ConsumResidencial</th>\n",
              "      <th>Pm25</th>\n",
              "      <th>Pm10</th>\n",
              "      <th>Participacion</th>\n",
              "      <th>AñosEspVida</th>\n",
              "      <th>Internet</th>\n",
              "      <th>Movil</th>\n",
              "      <th>Index_Turisme</th>\n",
              "      <th>m² por habitante</th>\n",
              "    </tr>\n",
              "  </thead>\n",
              "  <tbody>\n",
              "    <tr>\n",
              "      <th>0</th>\n",
              "      <td>2014</td>\n",
              "      <td>1</td>\n",
              "      <td>1</td>\n",
              "      <td>1</td>\n",
              "      <td>Ciutat Vella</td>\n",
              "      <td>1</td>\n",
              "      <td>el Raval</td>\n",
              "      <td>2813.0</td>\n",
              "      <td>4588</td>\n",
              "      <td>NaN</td>\n",
              "      <td>NaN</td>\n",
              "      <td>NaN</td>\n",
              "      <td>NaN</td>\n",
              "      <td>41.8</td>\n",
              "      <td>80.7</td>\n",
              "      <td>NaN</td>\n",
              "      <td>NaN</td>\n",
              "      <td>NaN</td>\n",
              "      <td>6.2</td>\n",
              "    </tr>\n",
              "    <tr>\n",
              "      <th>1</th>\n",
              "      <td>2014</td>\n",
              "      <td>1</td>\n",
              "      <td>2</td>\n",
              "      <td>1</td>\n",
              "      <td>Ciutat Vella</td>\n",
              "      <td>1</td>\n",
              "      <td>el Raval</td>\n",
              "      <td>2813.0</td>\n",
              "      <td>4539</td>\n",
              "      <td>NaN</td>\n",
              "      <td>NaN</td>\n",
              "      <td>NaN</td>\n",
              "      <td>NaN</td>\n",
              "      <td>41.8</td>\n",
              "      <td>80.7</td>\n",
              "      <td>NaN</td>\n",
              "      <td>NaN</td>\n",
              "      <td>NaN</td>\n",
              "      <td>6.2</td>\n",
              "    </tr>\n",
              "    <tr>\n",
              "      <th>2</th>\n",
              "      <td>2014</td>\n",
              "      <td>1</td>\n",
              "      <td>3</td>\n",
              "      <td>1</td>\n",
              "      <td>Ciutat Vella</td>\n",
              "      <td>1</td>\n",
              "      <td>el Raval</td>\n",
              "      <td>2813.0</td>\n",
              "      <td>4572</td>\n",
              "      <td>NaN</td>\n",
              "      <td>NaN</td>\n",
              "      <td>NaN</td>\n",
              "      <td>NaN</td>\n",
              "      <td>41.8</td>\n",
              "      <td>80.7</td>\n",
              "      <td>NaN</td>\n",
              "      <td>NaN</td>\n",
              "      <td>NaN</td>\n",
              "      <td>6.2</td>\n",
              "    </tr>\n",
              "    <tr>\n",
              "      <th>3</th>\n",
              "      <td>2014</td>\n",
              "      <td>2</td>\n",
              "      <td>4</td>\n",
              "      <td>1</td>\n",
              "      <td>Ciutat Vella</td>\n",
              "      <td>1</td>\n",
              "      <td>el Raval</td>\n",
              "      <td>2948.8</td>\n",
              "      <td>4510</td>\n",
              "      <td>NaN</td>\n",
              "      <td>NaN</td>\n",
              "      <td>NaN</td>\n",
              "      <td>NaN</td>\n",
              "      <td>41.8</td>\n",
              "      <td>80.7</td>\n",
              "      <td>NaN</td>\n",
              "      <td>NaN</td>\n",
              "      <td>NaN</td>\n",
              "      <td>6.2</td>\n",
              "    </tr>\n",
              "    <tr>\n",
              "      <th>4</th>\n",
              "      <td>2014</td>\n",
              "      <td>2</td>\n",
              "      <td>5</td>\n",
              "      <td>1</td>\n",
              "      <td>Ciutat Vella</td>\n",
              "      <td>1</td>\n",
              "      <td>el Raval</td>\n",
              "      <td>2948.8</td>\n",
              "      <td>4379</td>\n",
              "      <td>NaN</td>\n",
              "      <td>NaN</td>\n",
              "      <td>NaN</td>\n",
              "      <td>NaN</td>\n",
              "      <td>41.8</td>\n",
              "      <td>80.7</td>\n",
              "      <td>NaN</td>\n",
              "      <td>NaN</td>\n",
              "      <td>NaN</td>\n",
              "      <td>6.2</td>\n",
              "    </tr>\n",
              "  </tbody>\n",
              "</table>\n",
              "</div>\n",
              "    <div class=\"colab-df-buttons\">\n",
              "\n",
              "  <div class=\"colab-df-container\">\n",
              "    <button class=\"colab-df-convert\" onclick=\"convertToInteractive('df-a66b32b3-7e59-43e4-a6d0-f9238b12d2d4')\"\n",
              "            title=\"Convert this dataframe to an interactive table.\"\n",
              "            style=\"display:none;\">\n",
              "\n",
              "  <svg xmlns=\"http://www.w3.org/2000/svg\" height=\"24px\" viewBox=\"0 -960 960 960\">\n",
              "    <path d=\"M120-120v-720h720v720H120Zm60-500h600v-160H180v160Zm220 220h160v-160H400v160Zm0 220h160v-160H400v160ZM180-400h160v-160H180v160Zm440 0h160v-160H620v160ZM180-180h160v-160H180v160Zm440 0h160v-160H620v160Z\"/>\n",
              "  </svg>\n",
              "    </button>\n",
              "\n",
              "  <style>\n",
              "    .colab-df-container {\n",
              "      display:flex;\n",
              "      gap: 12px;\n",
              "    }\n",
              "\n",
              "    .colab-df-convert {\n",
              "      background-color: #E8F0FE;\n",
              "      border: none;\n",
              "      border-radius: 50%;\n",
              "      cursor: pointer;\n",
              "      display: none;\n",
              "      fill: #1967D2;\n",
              "      height: 32px;\n",
              "      padding: 0 0 0 0;\n",
              "      width: 32px;\n",
              "    }\n",
              "\n",
              "    .colab-df-convert:hover {\n",
              "      background-color: #E2EBFA;\n",
              "      box-shadow: 0px 1px 2px rgba(60, 64, 67, 0.3), 0px 1px 3px 1px rgba(60, 64, 67, 0.15);\n",
              "      fill: #174EA6;\n",
              "    }\n",
              "\n",
              "    .colab-df-buttons div {\n",
              "      margin-bottom: 4px;\n",
              "    }\n",
              "\n",
              "    [theme=dark] .colab-df-convert {\n",
              "      background-color: #3B4455;\n",
              "      fill: #D2E3FC;\n",
              "    }\n",
              "\n",
              "    [theme=dark] .colab-df-convert:hover {\n",
              "      background-color: #434B5C;\n",
              "      box-shadow: 0px 1px 3px 1px rgba(0, 0, 0, 0.15);\n",
              "      filter: drop-shadow(0px 1px 2px rgba(0, 0, 0, 0.3));\n",
              "      fill: #FFFFFF;\n",
              "    }\n",
              "  </style>\n",
              "\n",
              "    <script>\n",
              "      const buttonEl =\n",
              "        document.querySelector('#df-a66b32b3-7e59-43e4-a6d0-f9238b12d2d4 button.colab-df-convert');\n",
              "      buttonEl.style.display =\n",
              "        google.colab.kernel.accessAllowed ? 'block' : 'none';\n",
              "\n",
              "      async function convertToInteractive(key) {\n",
              "        const element = document.querySelector('#df-a66b32b3-7e59-43e4-a6d0-f9238b12d2d4');\n",
              "        const dataTable =\n",
              "          await google.colab.kernel.invokeFunction('convertToInteractive',\n",
              "                                                    [key], {});\n",
              "        if (!dataTable) return;\n",
              "\n",
              "        const docLinkHtml = 'Like what you see? Visit the ' +\n",
              "          '<a target=\"_blank\" href=https://colab.research.google.com/notebooks/data_table.ipynb>data table notebook</a>'\n",
              "          + ' to learn more about interactive tables.';\n",
              "        element.innerHTML = '';\n",
              "        dataTable['output_type'] = 'display_data';\n",
              "        await google.colab.output.renderOutput(dataTable, element);\n",
              "        const docLink = document.createElement('div');\n",
              "        docLink.innerHTML = docLinkHtml;\n",
              "        element.appendChild(docLink);\n",
              "      }\n",
              "    </script>\n",
              "  </div>\n",
              "\n",
              "\n",
              "<div id=\"df-6d4dd637-cee7-4b21-85e4-335f39cad8c2\">\n",
              "  <button class=\"colab-df-quickchart\" onclick=\"quickchart('df-6d4dd637-cee7-4b21-85e4-335f39cad8c2')\"\n",
              "            title=\"Suggest charts\"\n",
              "            style=\"display:none;\">\n",
              "\n",
              "<svg xmlns=\"http://www.w3.org/2000/svg\" height=\"24px\"viewBox=\"0 0 24 24\"\n",
              "     width=\"24px\">\n",
              "    <g>\n",
              "        <path d=\"M19 3H5c-1.1 0-2 .9-2 2v14c0 1.1.9 2 2 2h14c1.1 0 2-.9 2-2V5c0-1.1-.9-2-2-2zM9 17H7v-7h2v7zm4 0h-2V7h2v10zm4 0h-2v-4h2v4z\"/>\n",
              "    </g>\n",
              "</svg>\n",
              "  </button>\n",
              "\n",
              "<style>\n",
              "  .colab-df-quickchart {\n",
              "      --bg-color: #E8F0FE;\n",
              "      --fill-color: #1967D2;\n",
              "      --hover-bg-color: #E2EBFA;\n",
              "      --hover-fill-color: #174EA6;\n",
              "      --disabled-fill-color: #AAA;\n",
              "      --disabled-bg-color: #DDD;\n",
              "  }\n",
              "\n",
              "  [theme=dark] .colab-df-quickchart {\n",
              "      --bg-color: #3B4455;\n",
              "      --fill-color: #D2E3FC;\n",
              "      --hover-bg-color: #434B5C;\n",
              "      --hover-fill-color: #FFFFFF;\n",
              "      --disabled-bg-color: #3B4455;\n",
              "      --disabled-fill-color: #666;\n",
              "  }\n",
              "\n",
              "  .colab-df-quickchart {\n",
              "    background-color: var(--bg-color);\n",
              "    border: none;\n",
              "    border-radius: 50%;\n",
              "    cursor: pointer;\n",
              "    display: none;\n",
              "    fill: var(--fill-color);\n",
              "    height: 32px;\n",
              "    padding: 0;\n",
              "    width: 32px;\n",
              "  }\n",
              "\n",
              "  .colab-df-quickchart:hover {\n",
              "    background-color: var(--hover-bg-color);\n",
              "    box-shadow: 0 1px 2px rgba(60, 64, 67, 0.3), 0 1px 3px 1px rgba(60, 64, 67, 0.15);\n",
              "    fill: var(--button-hover-fill-color);\n",
              "  }\n",
              "\n",
              "  .colab-df-quickchart-complete:disabled,\n",
              "  .colab-df-quickchart-complete:disabled:hover {\n",
              "    background-color: var(--disabled-bg-color);\n",
              "    fill: var(--disabled-fill-color);\n",
              "    box-shadow: none;\n",
              "  }\n",
              "\n",
              "  .colab-df-spinner {\n",
              "    border: 2px solid var(--fill-color);\n",
              "    border-color: transparent;\n",
              "    border-bottom-color: var(--fill-color);\n",
              "    animation:\n",
              "      spin 1s steps(1) infinite;\n",
              "  }\n",
              "\n",
              "  @keyframes spin {\n",
              "    0% {\n",
              "      border-color: transparent;\n",
              "      border-bottom-color: var(--fill-color);\n",
              "      border-left-color: var(--fill-color);\n",
              "    }\n",
              "    20% {\n",
              "      border-color: transparent;\n",
              "      border-left-color: var(--fill-color);\n",
              "      border-top-color: var(--fill-color);\n",
              "    }\n",
              "    30% {\n",
              "      border-color: transparent;\n",
              "      border-left-color: var(--fill-color);\n",
              "      border-top-color: var(--fill-color);\n",
              "      border-right-color: var(--fill-color);\n",
              "    }\n",
              "    40% {\n",
              "      border-color: transparent;\n",
              "      border-right-color: var(--fill-color);\n",
              "      border-top-color: var(--fill-color);\n",
              "    }\n",
              "    60% {\n",
              "      border-color: transparent;\n",
              "      border-right-color: var(--fill-color);\n",
              "    }\n",
              "    80% {\n",
              "      border-color: transparent;\n",
              "      border-right-color: var(--fill-color);\n",
              "      border-bottom-color: var(--fill-color);\n",
              "    }\n",
              "    90% {\n",
              "      border-color: transparent;\n",
              "      border-bottom-color: var(--fill-color);\n",
              "    }\n",
              "  }\n",
              "</style>\n",
              "\n",
              "  <script>\n",
              "    async function quickchart(key) {\n",
              "      const quickchartButtonEl =\n",
              "        document.querySelector('#' + key + ' button');\n",
              "      quickchartButtonEl.disabled = true;  // To prevent multiple clicks.\n",
              "      quickchartButtonEl.classList.add('colab-df-spinner');\n",
              "      try {\n",
              "        const charts = await google.colab.kernel.invokeFunction(\n",
              "            'suggestCharts', [key], {});\n",
              "      } catch (error) {\n",
              "        console.error('Error during call to suggestCharts:', error);\n",
              "      }\n",
              "      quickchartButtonEl.classList.remove('colab-df-spinner');\n",
              "      quickchartButtonEl.classList.add('colab-df-quickchart-complete');\n",
              "    }\n",
              "    (() => {\n",
              "      let quickchartButtonEl =\n",
              "        document.querySelector('#df-6d4dd637-cee7-4b21-85e4-335f39cad8c2 button');\n",
              "      quickchartButtonEl.style.display =\n",
              "        google.colab.kernel.accessAllowed ? 'block' : 'none';\n",
              "    })();\n",
              "  </script>\n",
              "</div>\n",
              "    </div>\n",
              "  </div>\n"
            ],
            "application/vnd.google.colaboratory.intrinsic+json": {
              "type": "dataframe",
              "variable_name": "data",
              "summary": "{\n  \"name\": \"data\",\n  \"rows\": 8541,\n  \"fields\": [\n    {\n      \"column\": \"Any\",\n      \"properties\": {\n        \"dtype\": \"number\",\n        \"std\": 2,\n        \"min\": 2014,\n        \"max\": 2023,\n        \"num_unique_values\": 10,\n        \"samples\": [\n          2022,\n          2015,\n          2019\n        ],\n        \"semantic_type\": \"\",\n        \"description\": \"\"\n      }\n    },\n    {\n      \"column\": \"Trimestre\",\n      \"properties\": {\n        \"dtype\": \"number\",\n        \"std\": 1,\n        \"min\": 1,\n        \"max\": 4,\n        \"num_unique_values\": 4,\n        \"samples\": [\n          2,\n          4,\n          1\n        ],\n        \"semantic_type\": \"\",\n        \"description\": \"\"\n      }\n    },\n    {\n      \"column\": \"Mes\",\n      \"properties\": {\n        \"dtype\": \"number\",\n        \"std\": 3,\n        \"min\": 1,\n        \"max\": 12,\n        \"num_unique_values\": 12,\n        \"samples\": [\n          11,\n          10,\n          1\n        ],\n        \"semantic_type\": \"\",\n        \"description\": \"\"\n      }\n    },\n    {\n      \"column\": \"Codi_Districte\",\n      \"properties\": {\n        \"dtype\": \"number\",\n        \"std\": 2,\n        \"min\": 1,\n        \"max\": 10,\n        \"num_unique_values\": 10,\n        \"samples\": [\n          9,\n          2,\n          6\n        ],\n        \"semantic_type\": \"\",\n        \"description\": \"\"\n      }\n    },\n    {\n      \"column\": \"Nom_Districte\",\n      \"properties\": {\n        \"dtype\": \"category\",\n        \"num_unique_values\": 10,\n        \"samples\": [\n          \"Sant Andreu\",\n          \"Eixample\",\n          \"Gr\\u00e0cia\"\n        ],\n        \"semantic_type\": \"\",\n        \"description\": \"\"\n      }\n    },\n    {\n      \"column\": \"Codi_Barri\",\n      \"properties\": {\n        \"dtype\": \"number\",\n        \"std\": 21,\n        \"min\": 1,\n        \"max\": 73,\n        \"num_unique_values\": 73,\n        \"samples\": [\n          5,\n          64,\n          19\n        ],\n        \"semantic_type\": \"\",\n        \"description\": \"\"\n      }\n    },\n    {\n      \"column\": \"Nom_Barri\",\n      \"properties\": {\n        \"dtype\": \"category\",\n        \"num_unique_values\": 73,\n        \"samples\": [\n          \"el Fort Pienc\",\n          \"el Camp de l'Arpa del Clot\",\n          \"les Corts\"\n        ],\n        \"semantic_type\": \"\",\n        \"description\": \"\"\n      }\n    },\n    {\n      \"column\": \"Compraventa_Unitario\",\n      \"properties\": {\n        \"dtype\": \"number\",\n        \"std\": 1275.0461526307304,\n        \"min\": 217.2,\n        \"max\": 10961.2,\n        \"num_unique_values\": 2170,\n        \"samples\": [\n          4807.2,\n          4193.4,\n          3508.0\n        ],\n        \"semantic_type\": \"\",\n        \"description\": \"\"\n      }\n    },\n    {\n      \"column\": \"ParadosReg\",\n      \"properties\": {\n        \"dtype\": \"number\",\n        \"std\": 748,\n        \"min\": 15,\n        \"max\": 5295,\n        \"num_unique_values\": 2514,\n        \"samples\": [\n          4093,\n          551,\n          1466\n        ],\n        \"semantic_type\": \"\",\n        \"description\": \"\"\n      }\n    },\n    {\n      \"column\": \"Estudios_Obligatorios\",\n      \"properties\": {\n        \"dtype\": \"number\",\n        \"std\": 1.2766390800732295,\n        \"min\": 94.1,\n        \"max\": 99.6,\n        \"num_unique_values\": 37,\n        \"samples\": [\n          98.5,\n          96.0,\n          97.8\n        ],\n        \"semantic_type\": \"\",\n        \"description\": \"\"\n      }\n    },\n    {\n      \"column\": \"ConsumResidencial\",\n      \"properties\": {\n        \"dtype\": \"number\",\n        \"std\": 6641961.276555788,\n        \"min\": 1599307.0,\n        \"max\": 46411373.0,\n        \"num_unique_values\": 3534,\n        \"samples\": [\n          22420192.0,\n          4441625.0,\n          8597173.0\n        ],\n        \"semantic_type\": \"\",\n        \"description\": \"\"\n      }\n    },\n    {\n      \"column\": \"Pm25\",\n      \"properties\": {\n        \"dtype\": \"number\",\n        \"std\": 0.3742695994049139,\n        \"min\": 1.81763826606876,\n        \"max\": 3.4377394636015324,\n        \"num_unique_values\": 50,\n        \"samples\": [\n          2.4966622162883847,\n          2.0293819655521785,\n          2.0183591508892715\n        ],\n        \"semantic_type\": \"\",\n        \"description\": \"\"\n      }\n    },\n    {\n      \"column\": \"Pm10\",\n      \"properties\": {\n        \"dtype\": \"number\",\n        \"std\": 0.23211619238920075,\n        \"min\": 1.379671150971599,\n        \"max\": 2.2308429118773945,\n        \"num_unique_values\": 41,\n        \"samples\": [\n          1.379671150971599,\n          2.0654205607476634,\n          2.020864381520119\n        ],\n        \"semantic_type\": \"\",\n        \"description\": \"\"\n      }\n    },\n    {\n      \"column\": \"Participacion\",\n      \"properties\": {\n        \"dtype\": \"number\",\n        \"std\": 6.123557392018656,\n        \"min\": 41.8,\n        \"max\": 72.5,\n        \"num_unique_values\": 39,\n        \"samples\": [\n          67.8,\n          57.8,\n          61.6\n        ],\n        \"semantic_type\": \"\",\n        \"description\": \"\"\n      }\n    },\n    {\n      \"column\": \"A\\u00f1osEspVida\",\n      \"properties\": {\n        \"dtype\": \"number\",\n        \"std\": 1.7485719359049254,\n        \"min\": 76.4,\n        \"max\": 87.7,\n        \"num_unique_values\": 78,\n        \"samples\": [\n          81.9,\n          80.7,\n          83.2\n        ],\n        \"semantic_type\": \"\",\n        \"description\": \"\"\n      }\n    },\n    {\n      \"column\": \"Internet\",\n      \"properties\": {\n        \"dtype\": \"number\",\n        \"std\": 5.658005470236122,\n        \"min\": 71.5,\n        \"max\": 97.0,\n        \"num_unique_values\": 66,\n        \"samples\": [\n          91.15,\n          97.0,\n          82.8\n        ],\n        \"semantic_type\": \"\",\n        \"description\": \"\"\n      }\n    },\n    {\n      \"column\": \"Movil\",\n      \"properties\": {\n        \"dtype\": \"number\",\n        \"std\": 1.5280518004995411,\n        \"min\": 91.2,\n        \"max\": 99.8,\n        \"num_unique_values\": 30,\n        \"samples\": [\n          98.6,\n          98.8,\n          98.5\n        ],\n        \"semantic_type\": \"\",\n        \"description\": \"\"\n      }\n    },\n    {\n      \"column\": \"Index_Turisme\",\n      \"properties\": {\n        \"dtype\": \"number\",\n        \"std\": 279.99953997435307,\n        \"min\": 120.60571428571428,\n        \"max\": 3241.03,\n        \"num_unique_values\": 219,\n        \"samples\": [\n          295.46500000000003,\n          504.8442857142857,\n          313.5733333333333\n        ],\n        \"semantic_type\": \"\",\n        \"description\": \"\"\n      }\n    },\n    {\n      \"column\": \"m\\u00b2 por habitante\",\n      \"properties\": {\n        \"dtype\": \"number\",\n        \"std\": 4.073146396218761,\n        \"min\": 1.9,\n        \"max\": 18.0,\n        \"num_unique_values\": 36,\n        \"samples\": [\n          8.15,\n          6.4,\n          8.3\n        ],\n        \"semantic_type\": \"\",\n        \"description\": \"\"\n      }\n    }\n  ]\n}"
            }
          },
          "metadata": {},
          "execution_count": 2
        }
      ],
      "source": [
        "# Cargar datos\n",
        "data = pd.read_csv('/content/drive/MyDrive/UOC/TFM/Datasets definitivos/Final.csv')\n",
        "data.head()"
      ]
    },
    {
      "cell_type": "code",
      "source": [
        "print(data.dtypes)"
      ],
      "metadata": {
        "colab": {
          "base_uri": "https://localhost:8080/"
        },
        "id": "eOy5K7SuiIMI",
        "outputId": "4c70a71b-dd07-4ca7-afcc-cdad5adde819"
      },
      "execution_count": 3,
      "outputs": [
        {
          "output_type": "stream",
          "name": "stdout",
          "text": [
            "Any                        int64\n",
            "Trimestre                  int64\n",
            "Mes                        int64\n",
            "Codi_Districte             int64\n",
            "Nom_Districte             object\n",
            "Codi_Barri                 int64\n",
            "Nom_Barri                 object\n",
            "Compraventa_Unitario     float64\n",
            "ParadosReg                 int64\n",
            "Estudios_Obligatorios    float64\n",
            "ConsumResidencial        float64\n",
            "Pm25                     float64\n",
            "Pm10                     float64\n",
            "Participacion            float64\n",
            "AñosEspVida              float64\n",
            "Internet                 float64\n",
            "Movil                    float64\n",
            "Index_Turisme            float64\n",
            "m² por habitante         float64\n",
            "dtype: object\n"
          ]
        }
      ]
    },
    {
      "cell_type": "markdown",
      "source": [
        "## Analisis por grupo de indicadores (Pm 2.5)"
      ],
      "metadata": {
        "id": "9W-lGuXhz2Sc"
      }
    },
    {
      "cell_type": "markdown",
      "source": [
        "### Preparacion de datos"
      ],
      "metadata": {
        "id": "ABOQVXNI0F0F"
      }
    },
    {
      "cell_type": "code",
      "source": [
        "df_sel = data[['Any','Trimestre','Mes','Codi_Districte','Nom_Districte','Codi_Barri','Nom_Barri','Compraventa_Unitario','Pm25']]"
      ],
      "metadata": {
        "id": "m9UKVzU9i2SY"
      },
      "execution_count": 4,
      "outputs": []
    },
    {
      "cell_type": "code",
      "source": [
        "df_cont = df_sel.dropna()"
      ],
      "metadata": {
        "id": "lGWxPwYE5HPP"
      },
      "execution_count": 5,
      "outputs": []
    },
    {
      "cell_type": "code",
      "source": [
        "df_cont.info()"
      ],
      "metadata": {
        "colab": {
          "base_uri": "https://localhost:8080/"
        },
        "id": "tGxdmjiE5QzX",
        "outputId": "64ae703e-3e7d-4e24-e3c0-0471f85877d4"
      },
      "execution_count": 6,
      "outputs": [
        {
          "output_type": "stream",
          "name": "stdout",
          "text": [
            "<class 'pandas.core.frame.DataFrame'>\n",
            "Index: 4380 entries, 3504 to 7883\n",
            "Data columns (total 9 columns):\n",
            " #   Column                Non-Null Count  Dtype  \n",
            "---  ------                --------------  -----  \n",
            " 0   Any                   4380 non-null   int64  \n",
            " 1   Trimestre             4380 non-null   int64  \n",
            " 2   Mes                   4380 non-null   int64  \n",
            " 3   Codi_Districte        4380 non-null   int64  \n",
            " 4   Nom_Districte         4380 non-null   object \n",
            " 5   Codi_Barri            4380 non-null   int64  \n",
            " 6   Nom_Barri             4380 non-null   object \n",
            " 7   Compraventa_Unitario  4380 non-null   float64\n",
            " 8   Pm25                  4380 non-null   float64\n",
            "dtypes: float64(2), int64(5), object(2)\n",
            "memory usage: 342.2+ KB\n"
          ]
        }
      ]
    },
    {
      "cell_type": "code",
      "source": [
        "# Creamos la variable de fecha de la siguiente manera:\n",
        "# Agregar un día fijo para cada mes, por ejemplo, el día 1\n",
        "df_cont['Fecha'] = pd.to_datetime(df_cont['Any'].astype(str) + '-' + df_cont['Mes'].astype(str) + '-1')"
      ],
      "metadata": {
        "id": "EcbK5L-5iX6z"
      },
      "execution_count": 7,
      "outputs": []
    },
    {
      "cell_type": "code",
      "source": [
        "# Modificamos el indice del dataset por la fecha\n",
        "df_contI = df_cont.set_index('Fecha')"
      ],
      "metadata": {
        "id": "bXI9WXEqvfwN"
      },
      "execution_count": 8,
      "outputs": []
    },
    {
      "cell_type": "code",
      "source": [
        "df_contI.head()"
      ],
      "metadata": {
        "colab": {
          "base_uri": "https://localhost:8080/",
          "height": 237
        },
        "id": "B5r0mDv6r1gC",
        "outputId": "91afd0e6-9ab6-49f8-89bb-76d3c0bffd62"
      },
      "execution_count": 9,
      "outputs": [
        {
          "output_type": "execute_result",
          "data": {
            "text/plain": [
              "             Any  Trimestre  Mes  Codi_Districte Nom_Districte  Codi_Barri  \\\n",
              "Fecha                                                                        \n",
              "2018-01-01  2018          1    1               1  Ciutat Vella           1   \n",
              "2018-02-01  2018          1    2               1  Ciutat Vella           1   \n",
              "2018-03-01  2018          1    3               1  Ciutat Vella           1   \n",
              "2018-04-01  2018          2    4               1  Ciutat Vella           1   \n",
              "2018-05-01  2018          2    5               1  Ciutat Vella           1   \n",
              "\n",
              "           Nom_Barri  Compraventa_Unitario      Pm25  \n",
              "Fecha                                                 \n",
              "2018-01-01  el Raval                3534.3  2.282272  \n",
              "2018-02-01  el Raval                3534.3  2.282272  \n",
              "2018-03-01  el Raval                3534.3  2.282272  \n",
              "2018-04-01  el Raval                4675.2  2.282272  \n",
              "2018-05-01  el Raval                4675.2  2.282272  "
            ],
            "text/html": [
              "\n",
              "  <div id=\"df-f8893f3b-ac8b-4e43-a338-8e6c57bc8fb8\" class=\"colab-df-container\">\n",
              "    <div>\n",
              "<style scoped>\n",
              "    .dataframe tbody tr th:only-of-type {\n",
              "        vertical-align: middle;\n",
              "    }\n",
              "\n",
              "    .dataframe tbody tr th {\n",
              "        vertical-align: top;\n",
              "    }\n",
              "\n",
              "    .dataframe thead th {\n",
              "        text-align: right;\n",
              "    }\n",
              "</style>\n",
              "<table border=\"1\" class=\"dataframe\">\n",
              "  <thead>\n",
              "    <tr style=\"text-align: right;\">\n",
              "      <th></th>\n",
              "      <th>Any</th>\n",
              "      <th>Trimestre</th>\n",
              "      <th>Mes</th>\n",
              "      <th>Codi_Districte</th>\n",
              "      <th>Nom_Districte</th>\n",
              "      <th>Codi_Barri</th>\n",
              "      <th>Nom_Barri</th>\n",
              "      <th>Compraventa_Unitario</th>\n",
              "      <th>Pm25</th>\n",
              "    </tr>\n",
              "    <tr>\n",
              "      <th>Fecha</th>\n",
              "      <th></th>\n",
              "      <th></th>\n",
              "      <th></th>\n",
              "      <th></th>\n",
              "      <th></th>\n",
              "      <th></th>\n",
              "      <th></th>\n",
              "      <th></th>\n",
              "      <th></th>\n",
              "    </tr>\n",
              "  </thead>\n",
              "  <tbody>\n",
              "    <tr>\n",
              "      <th>2018-01-01</th>\n",
              "      <td>2018</td>\n",
              "      <td>1</td>\n",
              "      <td>1</td>\n",
              "      <td>1</td>\n",
              "      <td>Ciutat Vella</td>\n",
              "      <td>1</td>\n",
              "      <td>el Raval</td>\n",
              "      <td>3534.3</td>\n",
              "      <td>2.282272</td>\n",
              "    </tr>\n",
              "    <tr>\n",
              "      <th>2018-02-01</th>\n",
              "      <td>2018</td>\n",
              "      <td>1</td>\n",
              "      <td>2</td>\n",
              "      <td>1</td>\n",
              "      <td>Ciutat Vella</td>\n",
              "      <td>1</td>\n",
              "      <td>el Raval</td>\n",
              "      <td>3534.3</td>\n",
              "      <td>2.282272</td>\n",
              "    </tr>\n",
              "    <tr>\n",
              "      <th>2018-03-01</th>\n",
              "      <td>2018</td>\n",
              "      <td>1</td>\n",
              "      <td>3</td>\n",
              "      <td>1</td>\n",
              "      <td>Ciutat Vella</td>\n",
              "      <td>1</td>\n",
              "      <td>el Raval</td>\n",
              "      <td>3534.3</td>\n",
              "      <td>2.282272</td>\n",
              "    </tr>\n",
              "    <tr>\n",
              "      <th>2018-04-01</th>\n",
              "      <td>2018</td>\n",
              "      <td>2</td>\n",
              "      <td>4</td>\n",
              "      <td>1</td>\n",
              "      <td>Ciutat Vella</td>\n",
              "      <td>1</td>\n",
              "      <td>el Raval</td>\n",
              "      <td>4675.2</td>\n",
              "      <td>2.282272</td>\n",
              "    </tr>\n",
              "    <tr>\n",
              "      <th>2018-05-01</th>\n",
              "      <td>2018</td>\n",
              "      <td>2</td>\n",
              "      <td>5</td>\n",
              "      <td>1</td>\n",
              "      <td>Ciutat Vella</td>\n",
              "      <td>1</td>\n",
              "      <td>el Raval</td>\n",
              "      <td>4675.2</td>\n",
              "      <td>2.282272</td>\n",
              "    </tr>\n",
              "  </tbody>\n",
              "</table>\n",
              "</div>\n",
              "    <div class=\"colab-df-buttons\">\n",
              "\n",
              "  <div class=\"colab-df-container\">\n",
              "    <button class=\"colab-df-convert\" onclick=\"convertToInteractive('df-f8893f3b-ac8b-4e43-a338-8e6c57bc8fb8')\"\n",
              "            title=\"Convert this dataframe to an interactive table.\"\n",
              "            style=\"display:none;\">\n",
              "\n",
              "  <svg xmlns=\"http://www.w3.org/2000/svg\" height=\"24px\" viewBox=\"0 -960 960 960\">\n",
              "    <path d=\"M120-120v-720h720v720H120Zm60-500h600v-160H180v160Zm220 220h160v-160H400v160Zm0 220h160v-160H400v160ZM180-400h160v-160H180v160Zm440 0h160v-160H620v160ZM180-180h160v-160H180v160Zm440 0h160v-160H620v160Z\"/>\n",
              "  </svg>\n",
              "    </button>\n",
              "\n",
              "  <style>\n",
              "    .colab-df-container {\n",
              "      display:flex;\n",
              "      gap: 12px;\n",
              "    }\n",
              "\n",
              "    .colab-df-convert {\n",
              "      background-color: #E8F0FE;\n",
              "      border: none;\n",
              "      border-radius: 50%;\n",
              "      cursor: pointer;\n",
              "      display: none;\n",
              "      fill: #1967D2;\n",
              "      height: 32px;\n",
              "      padding: 0 0 0 0;\n",
              "      width: 32px;\n",
              "    }\n",
              "\n",
              "    .colab-df-convert:hover {\n",
              "      background-color: #E2EBFA;\n",
              "      box-shadow: 0px 1px 2px rgba(60, 64, 67, 0.3), 0px 1px 3px 1px rgba(60, 64, 67, 0.15);\n",
              "      fill: #174EA6;\n",
              "    }\n",
              "\n",
              "    .colab-df-buttons div {\n",
              "      margin-bottom: 4px;\n",
              "    }\n",
              "\n",
              "    [theme=dark] .colab-df-convert {\n",
              "      background-color: #3B4455;\n",
              "      fill: #D2E3FC;\n",
              "    }\n",
              "\n",
              "    [theme=dark] .colab-df-convert:hover {\n",
              "      background-color: #434B5C;\n",
              "      box-shadow: 0px 1px 3px 1px rgba(0, 0, 0, 0.15);\n",
              "      filter: drop-shadow(0px 1px 2px rgba(0, 0, 0, 0.3));\n",
              "      fill: #FFFFFF;\n",
              "    }\n",
              "  </style>\n",
              "\n",
              "    <script>\n",
              "      const buttonEl =\n",
              "        document.querySelector('#df-f8893f3b-ac8b-4e43-a338-8e6c57bc8fb8 button.colab-df-convert');\n",
              "      buttonEl.style.display =\n",
              "        google.colab.kernel.accessAllowed ? 'block' : 'none';\n",
              "\n",
              "      async function convertToInteractive(key) {\n",
              "        const element = document.querySelector('#df-f8893f3b-ac8b-4e43-a338-8e6c57bc8fb8');\n",
              "        const dataTable =\n",
              "          await google.colab.kernel.invokeFunction('convertToInteractive',\n",
              "                                                    [key], {});\n",
              "        if (!dataTable) return;\n",
              "\n",
              "        const docLinkHtml = 'Like what you see? Visit the ' +\n",
              "          '<a target=\"_blank\" href=https://colab.research.google.com/notebooks/data_table.ipynb>data table notebook</a>'\n",
              "          + ' to learn more about interactive tables.';\n",
              "        element.innerHTML = '';\n",
              "        dataTable['output_type'] = 'display_data';\n",
              "        await google.colab.output.renderOutput(dataTable, element);\n",
              "        const docLink = document.createElement('div');\n",
              "        docLink.innerHTML = docLinkHtml;\n",
              "        element.appendChild(docLink);\n",
              "      }\n",
              "    </script>\n",
              "  </div>\n",
              "\n",
              "\n",
              "<div id=\"df-c9d78386-e3f6-44a8-bfbb-ab3e3be68360\">\n",
              "  <button class=\"colab-df-quickchart\" onclick=\"quickchart('df-c9d78386-e3f6-44a8-bfbb-ab3e3be68360')\"\n",
              "            title=\"Suggest charts\"\n",
              "            style=\"display:none;\">\n",
              "\n",
              "<svg xmlns=\"http://www.w3.org/2000/svg\" height=\"24px\"viewBox=\"0 0 24 24\"\n",
              "     width=\"24px\">\n",
              "    <g>\n",
              "        <path d=\"M19 3H5c-1.1 0-2 .9-2 2v14c0 1.1.9 2 2 2h14c1.1 0 2-.9 2-2V5c0-1.1-.9-2-2-2zM9 17H7v-7h2v7zm4 0h-2V7h2v10zm4 0h-2v-4h2v4z\"/>\n",
              "    </g>\n",
              "</svg>\n",
              "  </button>\n",
              "\n",
              "<style>\n",
              "  .colab-df-quickchart {\n",
              "      --bg-color: #E8F0FE;\n",
              "      --fill-color: #1967D2;\n",
              "      --hover-bg-color: #E2EBFA;\n",
              "      --hover-fill-color: #174EA6;\n",
              "      --disabled-fill-color: #AAA;\n",
              "      --disabled-bg-color: #DDD;\n",
              "  }\n",
              "\n",
              "  [theme=dark] .colab-df-quickchart {\n",
              "      --bg-color: #3B4455;\n",
              "      --fill-color: #D2E3FC;\n",
              "      --hover-bg-color: #434B5C;\n",
              "      --hover-fill-color: #FFFFFF;\n",
              "      --disabled-bg-color: #3B4455;\n",
              "      --disabled-fill-color: #666;\n",
              "  }\n",
              "\n",
              "  .colab-df-quickchart {\n",
              "    background-color: var(--bg-color);\n",
              "    border: none;\n",
              "    border-radius: 50%;\n",
              "    cursor: pointer;\n",
              "    display: none;\n",
              "    fill: var(--fill-color);\n",
              "    height: 32px;\n",
              "    padding: 0;\n",
              "    width: 32px;\n",
              "  }\n",
              "\n",
              "  .colab-df-quickchart:hover {\n",
              "    background-color: var(--hover-bg-color);\n",
              "    box-shadow: 0 1px 2px rgba(60, 64, 67, 0.3), 0 1px 3px 1px rgba(60, 64, 67, 0.15);\n",
              "    fill: var(--button-hover-fill-color);\n",
              "  }\n",
              "\n",
              "  .colab-df-quickchart-complete:disabled,\n",
              "  .colab-df-quickchart-complete:disabled:hover {\n",
              "    background-color: var(--disabled-bg-color);\n",
              "    fill: var(--disabled-fill-color);\n",
              "    box-shadow: none;\n",
              "  }\n",
              "\n",
              "  .colab-df-spinner {\n",
              "    border: 2px solid var(--fill-color);\n",
              "    border-color: transparent;\n",
              "    border-bottom-color: var(--fill-color);\n",
              "    animation:\n",
              "      spin 1s steps(1) infinite;\n",
              "  }\n",
              "\n",
              "  @keyframes spin {\n",
              "    0% {\n",
              "      border-color: transparent;\n",
              "      border-bottom-color: var(--fill-color);\n",
              "      border-left-color: var(--fill-color);\n",
              "    }\n",
              "    20% {\n",
              "      border-color: transparent;\n",
              "      border-left-color: var(--fill-color);\n",
              "      border-top-color: var(--fill-color);\n",
              "    }\n",
              "    30% {\n",
              "      border-color: transparent;\n",
              "      border-left-color: var(--fill-color);\n",
              "      border-top-color: var(--fill-color);\n",
              "      border-right-color: var(--fill-color);\n",
              "    }\n",
              "    40% {\n",
              "      border-color: transparent;\n",
              "      border-right-color: var(--fill-color);\n",
              "      border-top-color: var(--fill-color);\n",
              "    }\n",
              "    60% {\n",
              "      border-color: transparent;\n",
              "      border-right-color: var(--fill-color);\n",
              "    }\n",
              "    80% {\n",
              "      border-color: transparent;\n",
              "      border-right-color: var(--fill-color);\n",
              "      border-bottom-color: var(--fill-color);\n",
              "    }\n",
              "    90% {\n",
              "      border-color: transparent;\n",
              "      border-bottom-color: var(--fill-color);\n",
              "    }\n",
              "  }\n",
              "</style>\n",
              "\n",
              "  <script>\n",
              "    async function quickchart(key) {\n",
              "      const quickchartButtonEl =\n",
              "        document.querySelector('#' + key + ' button');\n",
              "      quickchartButtonEl.disabled = true;  // To prevent multiple clicks.\n",
              "      quickchartButtonEl.classList.add('colab-df-spinner');\n",
              "      try {\n",
              "        const charts = await google.colab.kernel.invokeFunction(\n",
              "            'suggestCharts', [key], {});\n",
              "      } catch (error) {\n",
              "        console.error('Error during call to suggestCharts:', error);\n",
              "      }\n",
              "      quickchartButtonEl.classList.remove('colab-df-spinner');\n",
              "      quickchartButtonEl.classList.add('colab-df-quickchart-complete');\n",
              "    }\n",
              "    (() => {\n",
              "      let quickchartButtonEl =\n",
              "        document.querySelector('#df-c9d78386-e3f6-44a8-bfbb-ab3e3be68360 button');\n",
              "      quickchartButtonEl.style.display =\n",
              "        google.colab.kernel.accessAllowed ? 'block' : 'none';\n",
              "    })();\n",
              "  </script>\n",
              "</div>\n",
              "    </div>\n",
              "  </div>\n"
            ],
            "application/vnd.google.colaboratory.intrinsic+json": {
              "type": "dataframe",
              "variable_name": "df_contI",
              "summary": "{\n  \"name\": \"df_contI\",\n  \"rows\": 4380,\n  \"fields\": [\n    {\n      \"column\": \"Fecha\",\n      \"properties\": {\n        \"dtype\": \"date\",\n        \"min\": \"2018-01-01 00:00:00\",\n        \"max\": \"2022-12-01 00:00:00\",\n        \"num_unique_values\": 60,\n        \"samples\": [\n          \"2018-01-01 00:00:00\",\n          \"2018-06-01 00:00:00\",\n          \"2021-01-01 00:00:00\"\n        ],\n        \"semantic_type\": \"\",\n        \"description\": \"\"\n      }\n    },\n    {\n      \"column\": \"Any\",\n      \"properties\": {\n        \"dtype\": \"number\",\n        \"std\": 1,\n        \"min\": 2018,\n        \"max\": 2022,\n        \"num_unique_values\": 5,\n        \"samples\": [\n          2019,\n          2022,\n          2020\n        ],\n        \"semantic_type\": \"\",\n        \"description\": \"\"\n      }\n    },\n    {\n      \"column\": \"Trimestre\",\n      \"properties\": {\n        \"dtype\": \"number\",\n        \"std\": 1,\n        \"min\": 1,\n        \"max\": 4,\n        \"num_unique_values\": 4,\n        \"samples\": [\n          2,\n          4,\n          1\n        ],\n        \"semantic_type\": \"\",\n        \"description\": \"\"\n      }\n    },\n    {\n      \"column\": \"Mes\",\n      \"properties\": {\n        \"dtype\": \"number\",\n        \"std\": 3,\n        \"min\": 1,\n        \"max\": 12,\n        \"num_unique_values\": 12,\n        \"samples\": [\n          11,\n          10,\n          1\n        ],\n        \"semantic_type\": \"\",\n        \"description\": \"\"\n      }\n    },\n    {\n      \"column\": \"Codi_Districte\",\n      \"properties\": {\n        \"dtype\": \"number\",\n        \"std\": 2,\n        \"min\": 1,\n        \"max\": 10,\n        \"num_unique_values\": 10,\n        \"samples\": [\n          9,\n          2,\n          6\n        ],\n        \"semantic_type\": \"\",\n        \"description\": \"\"\n      }\n    },\n    {\n      \"column\": \"Nom_Districte\",\n      \"properties\": {\n        \"dtype\": \"category\",\n        \"num_unique_values\": 10,\n        \"samples\": [\n          \"Sant Andreu\",\n          \"Eixample\",\n          \"Gr\\u00e0cia\"\n        ],\n        \"semantic_type\": \"\",\n        \"description\": \"\"\n      }\n    },\n    {\n      \"column\": \"Codi_Barri\",\n      \"properties\": {\n        \"dtype\": \"number\",\n        \"std\": 21,\n        \"min\": 1,\n        \"max\": 73,\n        \"num_unique_values\": 73,\n        \"samples\": [\n          5,\n          64,\n          19\n        ],\n        \"semantic_type\": \"\",\n        \"description\": \"\"\n      }\n    },\n    {\n      \"column\": \"Nom_Barri\",\n      \"properties\": {\n        \"dtype\": \"category\",\n        \"num_unique_values\": 73,\n        \"samples\": [\n          \"el Fort Pienc\",\n          \"el Camp de l'Arpa del Clot\",\n          \"les Corts\"\n        ],\n        \"semantic_type\": \"\",\n        \"description\": \"\"\n      }\n    },\n    {\n      \"column\": \"Compraventa_Unitario\",\n      \"properties\": {\n        \"dtype\": \"number\",\n        \"std\": 1259.7953381376688,\n        \"min\": 471.4,\n        \"max\": 10961.2,\n        \"num_unique_values\": 1436,\n        \"samples\": [\n          3014.3,\n          3406.3,\n          5270.6\n        ],\n        \"semantic_type\": \"\",\n        \"description\": \"\"\n      }\n    },\n    {\n      \"column\": \"Pm25\",\n      \"properties\": {\n        \"dtype\": \"number\",\n        \"std\": 0.3742695994049139,\n        \"min\": 1.81763826606876,\n        \"max\": 3.4377394636015324,\n        \"num_unique_values\": 50,\n        \"samples\": [\n          2.4966622162883847,\n          2.0293819655521785,\n          2.0183591508892715\n        ],\n        \"semantic_type\": \"\",\n        \"description\": \"\"\n      }\n    }\n  ]\n}"
            }
          },
          "metadata": {},
          "execution_count": 9
        }
      ]
    },
    {
      "cell_type": "markdown",
      "source": [
        "### Analisis Exploratorio"
      ],
      "metadata": {
        "id": "a_2OfFZCr-f1"
      }
    },
    {
      "cell_type": "markdown",
      "source": [
        "Filtramos los datos por el distrito de Nou Barris -> Codi_Districte = 8"
      ],
      "metadata": {
        "id": "hqyBpeYNQb-z"
      }
    },
    {
      "cell_type": "code",
      "source": [
        "df_contFiltrado = df_contI[df_contI['Codi_Districte'] == 8]"
      ],
      "metadata": {
        "id": "H1D-pGGuQgKv"
      },
      "execution_count": 10,
      "outputs": []
    },
    {
      "cell_type": "code",
      "source": [
        "# Agrupamos los datos\n",
        "df =df_contFiltrado.drop(columns=['Any','Trimestre','Mes','Codi_Districte','Nom_Districte','Codi_Barri','Nom_Barri']).groupby('Fecha').mean()"
      ],
      "metadata": {
        "id": "IqKIcChGWsd4"
      },
      "execution_count": 11,
      "outputs": []
    },
    {
      "cell_type": "code",
      "source": [
        "df.head()"
      ],
      "metadata": {
        "colab": {
          "base_uri": "https://localhost:8080/",
          "height": 237
        },
        "id": "crqUQcqQXROb",
        "outputId": "0472fc99-2b79-4977-aa67-a060956b96fc"
      },
      "execution_count": 12,
      "outputs": [
        {
          "output_type": "execute_result",
          "data": {
            "text/plain": [
              "            Compraventa_Unitario      Pm25\n",
              "Fecha                                     \n",
              "2018-01-01           2052.276923  2.491202\n",
              "2018-02-01           2052.276923  2.491202\n",
              "2018-03-01           2052.276923  2.491202\n",
              "2018-04-01           2066.823077  2.491202\n",
              "2018-05-01           2066.823077  2.491202"
            ],
            "text/html": [
              "\n",
              "  <div id=\"df-8741362d-6bcd-4390-a17b-e90fe0d4a919\" class=\"colab-df-container\">\n",
              "    <div>\n",
              "<style scoped>\n",
              "    .dataframe tbody tr th:only-of-type {\n",
              "        vertical-align: middle;\n",
              "    }\n",
              "\n",
              "    .dataframe tbody tr th {\n",
              "        vertical-align: top;\n",
              "    }\n",
              "\n",
              "    .dataframe thead th {\n",
              "        text-align: right;\n",
              "    }\n",
              "</style>\n",
              "<table border=\"1\" class=\"dataframe\">\n",
              "  <thead>\n",
              "    <tr style=\"text-align: right;\">\n",
              "      <th></th>\n",
              "      <th>Compraventa_Unitario</th>\n",
              "      <th>Pm25</th>\n",
              "    </tr>\n",
              "    <tr>\n",
              "      <th>Fecha</th>\n",
              "      <th></th>\n",
              "      <th></th>\n",
              "    </tr>\n",
              "  </thead>\n",
              "  <tbody>\n",
              "    <tr>\n",
              "      <th>2018-01-01</th>\n",
              "      <td>2052.276923</td>\n",
              "      <td>2.491202</td>\n",
              "    </tr>\n",
              "    <tr>\n",
              "      <th>2018-02-01</th>\n",
              "      <td>2052.276923</td>\n",
              "      <td>2.491202</td>\n",
              "    </tr>\n",
              "    <tr>\n",
              "      <th>2018-03-01</th>\n",
              "      <td>2052.276923</td>\n",
              "      <td>2.491202</td>\n",
              "    </tr>\n",
              "    <tr>\n",
              "      <th>2018-04-01</th>\n",
              "      <td>2066.823077</td>\n",
              "      <td>2.491202</td>\n",
              "    </tr>\n",
              "    <tr>\n",
              "      <th>2018-05-01</th>\n",
              "      <td>2066.823077</td>\n",
              "      <td>2.491202</td>\n",
              "    </tr>\n",
              "  </tbody>\n",
              "</table>\n",
              "</div>\n",
              "    <div class=\"colab-df-buttons\">\n",
              "\n",
              "  <div class=\"colab-df-container\">\n",
              "    <button class=\"colab-df-convert\" onclick=\"convertToInteractive('df-8741362d-6bcd-4390-a17b-e90fe0d4a919')\"\n",
              "            title=\"Convert this dataframe to an interactive table.\"\n",
              "            style=\"display:none;\">\n",
              "\n",
              "  <svg xmlns=\"http://www.w3.org/2000/svg\" height=\"24px\" viewBox=\"0 -960 960 960\">\n",
              "    <path d=\"M120-120v-720h720v720H120Zm60-500h600v-160H180v160Zm220 220h160v-160H400v160Zm0 220h160v-160H400v160ZM180-400h160v-160H180v160Zm440 0h160v-160H620v160ZM180-180h160v-160H180v160Zm440 0h160v-160H620v160Z\"/>\n",
              "  </svg>\n",
              "    </button>\n",
              "\n",
              "  <style>\n",
              "    .colab-df-container {\n",
              "      display:flex;\n",
              "      gap: 12px;\n",
              "    }\n",
              "\n",
              "    .colab-df-convert {\n",
              "      background-color: #E8F0FE;\n",
              "      border: none;\n",
              "      border-radius: 50%;\n",
              "      cursor: pointer;\n",
              "      display: none;\n",
              "      fill: #1967D2;\n",
              "      height: 32px;\n",
              "      padding: 0 0 0 0;\n",
              "      width: 32px;\n",
              "    }\n",
              "\n",
              "    .colab-df-convert:hover {\n",
              "      background-color: #E2EBFA;\n",
              "      box-shadow: 0px 1px 2px rgba(60, 64, 67, 0.3), 0px 1px 3px 1px rgba(60, 64, 67, 0.15);\n",
              "      fill: #174EA6;\n",
              "    }\n",
              "\n",
              "    .colab-df-buttons div {\n",
              "      margin-bottom: 4px;\n",
              "    }\n",
              "\n",
              "    [theme=dark] .colab-df-convert {\n",
              "      background-color: #3B4455;\n",
              "      fill: #D2E3FC;\n",
              "    }\n",
              "\n",
              "    [theme=dark] .colab-df-convert:hover {\n",
              "      background-color: #434B5C;\n",
              "      box-shadow: 0px 1px 3px 1px rgba(0, 0, 0, 0.15);\n",
              "      filter: drop-shadow(0px 1px 2px rgba(0, 0, 0, 0.3));\n",
              "      fill: #FFFFFF;\n",
              "    }\n",
              "  </style>\n",
              "\n",
              "    <script>\n",
              "      const buttonEl =\n",
              "        document.querySelector('#df-8741362d-6bcd-4390-a17b-e90fe0d4a919 button.colab-df-convert');\n",
              "      buttonEl.style.display =\n",
              "        google.colab.kernel.accessAllowed ? 'block' : 'none';\n",
              "\n",
              "      async function convertToInteractive(key) {\n",
              "        const element = document.querySelector('#df-8741362d-6bcd-4390-a17b-e90fe0d4a919');\n",
              "        const dataTable =\n",
              "          await google.colab.kernel.invokeFunction('convertToInteractive',\n",
              "                                                    [key], {});\n",
              "        if (!dataTable) return;\n",
              "\n",
              "        const docLinkHtml = 'Like what you see? Visit the ' +\n",
              "          '<a target=\"_blank\" href=https://colab.research.google.com/notebooks/data_table.ipynb>data table notebook</a>'\n",
              "          + ' to learn more about interactive tables.';\n",
              "        element.innerHTML = '';\n",
              "        dataTable['output_type'] = 'display_data';\n",
              "        await google.colab.output.renderOutput(dataTable, element);\n",
              "        const docLink = document.createElement('div');\n",
              "        docLink.innerHTML = docLinkHtml;\n",
              "        element.appendChild(docLink);\n",
              "      }\n",
              "    </script>\n",
              "  </div>\n",
              "\n",
              "\n",
              "<div id=\"df-0a20bcf4-3375-4d59-a41a-544eab788015\">\n",
              "  <button class=\"colab-df-quickchart\" onclick=\"quickchart('df-0a20bcf4-3375-4d59-a41a-544eab788015')\"\n",
              "            title=\"Suggest charts\"\n",
              "            style=\"display:none;\">\n",
              "\n",
              "<svg xmlns=\"http://www.w3.org/2000/svg\" height=\"24px\"viewBox=\"0 0 24 24\"\n",
              "     width=\"24px\">\n",
              "    <g>\n",
              "        <path d=\"M19 3H5c-1.1 0-2 .9-2 2v14c0 1.1.9 2 2 2h14c1.1 0 2-.9 2-2V5c0-1.1-.9-2-2-2zM9 17H7v-7h2v7zm4 0h-2V7h2v10zm4 0h-2v-4h2v4z\"/>\n",
              "    </g>\n",
              "</svg>\n",
              "  </button>\n",
              "\n",
              "<style>\n",
              "  .colab-df-quickchart {\n",
              "      --bg-color: #E8F0FE;\n",
              "      --fill-color: #1967D2;\n",
              "      --hover-bg-color: #E2EBFA;\n",
              "      --hover-fill-color: #174EA6;\n",
              "      --disabled-fill-color: #AAA;\n",
              "      --disabled-bg-color: #DDD;\n",
              "  }\n",
              "\n",
              "  [theme=dark] .colab-df-quickchart {\n",
              "      --bg-color: #3B4455;\n",
              "      --fill-color: #D2E3FC;\n",
              "      --hover-bg-color: #434B5C;\n",
              "      --hover-fill-color: #FFFFFF;\n",
              "      --disabled-bg-color: #3B4455;\n",
              "      --disabled-fill-color: #666;\n",
              "  }\n",
              "\n",
              "  .colab-df-quickchart {\n",
              "    background-color: var(--bg-color);\n",
              "    border: none;\n",
              "    border-radius: 50%;\n",
              "    cursor: pointer;\n",
              "    display: none;\n",
              "    fill: var(--fill-color);\n",
              "    height: 32px;\n",
              "    padding: 0;\n",
              "    width: 32px;\n",
              "  }\n",
              "\n",
              "  .colab-df-quickchart:hover {\n",
              "    background-color: var(--hover-bg-color);\n",
              "    box-shadow: 0 1px 2px rgba(60, 64, 67, 0.3), 0 1px 3px 1px rgba(60, 64, 67, 0.15);\n",
              "    fill: var(--button-hover-fill-color);\n",
              "  }\n",
              "\n",
              "  .colab-df-quickchart-complete:disabled,\n",
              "  .colab-df-quickchart-complete:disabled:hover {\n",
              "    background-color: var(--disabled-bg-color);\n",
              "    fill: var(--disabled-fill-color);\n",
              "    box-shadow: none;\n",
              "  }\n",
              "\n",
              "  .colab-df-spinner {\n",
              "    border: 2px solid var(--fill-color);\n",
              "    border-color: transparent;\n",
              "    border-bottom-color: var(--fill-color);\n",
              "    animation:\n",
              "      spin 1s steps(1) infinite;\n",
              "  }\n",
              "\n",
              "  @keyframes spin {\n",
              "    0% {\n",
              "      border-color: transparent;\n",
              "      border-bottom-color: var(--fill-color);\n",
              "      border-left-color: var(--fill-color);\n",
              "    }\n",
              "    20% {\n",
              "      border-color: transparent;\n",
              "      border-left-color: var(--fill-color);\n",
              "      border-top-color: var(--fill-color);\n",
              "    }\n",
              "    30% {\n",
              "      border-color: transparent;\n",
              "      border-left-color: var(--fill-color);\n",
              "      border-top-color: var(--fill-color);\n",
              "      border-right-color: var(--fill-color);\n",
              "    }\n",
              "    40% {\n",
              "      border-color: transparent;\n",
              "      border-right-color: var(--fill-color);\n",
              "      border-top-color: var(--fill-color);\n",
              "    }\n",
              "    60% {\n",
              "      border-color: transparent;\n",
              "      border-right-color: var(--fill-color);\n",
              "    }\n",
              "    80% {\n",
              "      border-color: transparent;\n",
              "      border-right-color: var(--fill-color);\n",
              "      border-bottom-color: var(--fill-color);\n",
              "    }\n",
              "    90% {\n",
              "      border-color: transparent;\n",
              "      border-bottom-color: var(--fill-color);\n",
              "    }\n",
              "  }\n",
              "</style>\n",
              "\n",
              "  <script>\n",
              "    async function quickchart(key) {\n",
              "      const quickchartButtonEl =\n",
              "        document.querySelector('#' + key + ' button');\n",
              "      quickchartButtonEl.disabled = true;  // To prevent multiple clicks.\n",
              "      quickchartButtonEl.classList.add('colab-df-spinner');\n",
              "      try {\n",
              "        const charts = await google.colab.kernel.invokeFunction(\n",
              "            'suggestCharts', [key], {});\n",
              "      } catch (error) {\n",
              "        console.error('Error during call to suggestCharts:', error);\n",
              "      }\n",
              "      quickchartButtonEl.classList.remove('colab-df-spinner');\n",
              "      quickchartButtonEl.classList.add('colab-df-quickchart-complete');\n",
              "    }\n",
              "    (() => {\n",
              "      let quickchartButtonEl =\n",
              "        document.querySelector('#df-0a20bcf4-3375-4d59-a41a-544eab788015 button');\n",
              "      quickchartButtonEl.style.display =\n",
              "        google.colab.kernel.accessAllowed ? 'block' : 'none';\n",
              "    })();\n",
              "  </script>\n",
              "</div>\n",
              "    </div>\n",
              "  </div>\n"
            ],
            "application/vnd.google.colaboratory.intrinsic+json": {
              "type": "dataframe",
              "variable_name": "df",
              "summary": "{\n  \"name\": \"df\",\n  \"rows\": 60,\n  \"fields\": [\n    {\n      \"column\": \"Fecha\",\n      \"properties\": {\n        \"dtype\": \"date\",\n        \"min\": \"2018-01-01 00:00:00\",\n        \"max\": \"2022-12-01 00:00:00\",\n        \"num_unique_values\": 60,\n        \"samples\": [\n          \"2018-01-01 00:00:00\",\n          \"2018-06-01 00:00:00\",\n          \"2021-01-01 00:00:00\"\n        ],\n        \"semantic_type\": \"\",\n        \"description\": \"\"\n      }\n    },\n    {\n      \"column\": \"Compraventa_Unitario\",\n      \"properties\": {\n        \"dtype\": \"number\",\n        \"std\": 102.21239240190847,\n        \"min\": 2052.276923076923,\n        \"max\": 2445.223076923077,\n        \"num_unique_values\": 36,\n        \"samples\": [\n          2295.222770276217,\n          2375.5978396456658,\n          2349.240184535955\n        ],\n        \"semantic_type\": \"\",\n        \"description\": \"\"\n      }\n    },\n    {\n      \"column\": \"Pm25\",\n      \"properties\": {\n        \"dtype\": \"number\",\n        \"std\": 0.22346694637606315,\n        \"min\": 2.0161290322580645,\n        \"max\": 2.513929618768329,\n        \"num_unique_values\": 5,\n        \"samples\": [\n          2.513929618768329,\n          2.10850439882698,\n          2.039589442815249\n        ],\n        \"semantic_type\": \"\",\n        \"description\": \"\"\n      }\n    }\n  ]\n}"
            }
          },
          "metadata": {},
          "execution_count": 12
        }
      ]
    },
    {
      "cell_type": "code",
      "source": [
        "df.info()"
      ],
      "metadata": {
        "colab": {
          "base_uri": "https://localhost:8080/"
        },
        "id": "uhQMgsgaLmhN",
        "outputId": "5816e893-383d-4a96-e5d6-402b771c764e"
      },
      "execution_count": 13,
      "outputs": [
        {
          "output_type": "stream",
          "name": "stdout",
          "text": [
            "<class 'pandas.core.frame.DataFrame'>\n",
            "DatetimeIndex: 60 entries, 2018-01-01 to 2022-12-01\n",
            "Data columns (total 2 columns):\n",
            " #   Column                Non-Null Count  Dtype  \n",
            "---  ------                --------------  -----  \n",
            " 0   Compraventa_Unitario  60 non-null     float64\n",
            " 1   Pm25                  60 non-null     float64\n",
            "dtypes: float64(2)\n",
            "memory usage: 1.4 KB\n"
          ]
        }
      ]
    },
    {
      "cell_type": "code",
      "source": [
        "fig, axes = plt.subplots(nrows = int(len(df.columns)), ncols = 1, dpi = 100, figsize = (14,10))\n",
        "unidades = ['€/m²', '']\n",
        "colores = ['#FF5733', '#3498DB']\n",
        "\n",
        "for i, (col,ax) in enumerate(zip(df.columns, axes.flatten())):\n",
        "    df[col].plot(color = colores[i], legend = True, ax = ax)\n",
        "    ax.set_ylabel(unidades[i])  # Establecer etiqueta del eje y\n",
        "plt.show()"
      ],
      "metadata": {
        "colab": {
          "base_uri": "https://localhost:8080/",
          "height": 850
        },
        "id": "fGqh8sGPU0l3",
        "outputId": "2bf120e2-306a-4c2b-a773-06ed6e1298e4"
      },
      "execution_count": 14,
      "outputs": [
        {
          "output_type": "display_data",
          "data": {
            "text/plain": [
              "<Figure size 1400x1000 with 2 Axes>"
            ],
            "image/png": "[encoded data removed]"
          },
          "metadata": {}
        }
      ]
    },
    {
      "cell_type": "markdown",
      "source": [
        "Cada una de las series tiene patrones de tendencia muy diferentes entre si"
      ],
      "metadata": {
        "id": "pQPjDjNRN8PE"
      }
    },
    {
      "cell_type": "code",
      "source": [
        "corr=df.corr()\n",
        "corr"
      ],
      "metadata": {
        "colab": {
          "base_uri": "https://localhost:8080/",
          "height": 112
        },
        "id": "levxFlFsrUpd",
        "outputId": "7450fced-8df2-4ac6-92bc-9472b7ae6f6c"
      },
      "execution_count": 15,
      "outputs": [
        {
          "output_type": "execute_result",
          "data": {
            "text/plain": [
              "                      Compraventa_Unitario      Pm25\n",
              "Compraventa_Unitario              1.000000 -0.324708\n",
              "Pm25                             -0.324708  1.000000"
            ],
            "text/html": [
              "\n",
              "  <div id=\"df-bc7e2ba1-6505-43df-8d7f-b5e5bbd35008\" class=\"colab-df-container\">\n",
              "    <div>\n",
              "<style scoped>\n",
              "    .dataframe tbody tr th:only-of-type {\n",
              "        vertical-align: middle;\n",
              "    }\n",
              "\n",
              "    .dataframe tbody tr th {\n",
              "        vertical-align: top;\n",
              "    }\n",
              "\n",
              "    .dataframe thead th {\n",
              "        text-align: right;\n",
              "    }\n",
              "</style>\n",
              "<table border=\"1\" class=\"dataframe\">\n",
              "  <thead>\n",
              "    <tr style=\"text-align: right;\">\n",
              "      <th></th>\n",
              "      <th>Compraventa_Unitario</th>\n",
              "      <th>Pm25</th>\n",
              "    </tr>\n",
              "  </thead>\n",
              "  <tbody>\n",
              "    <tr>\n",
              "      <th>Compraventa_Unitario</th>\n",
              "      <td>1.000000</td>\n",
              "      <td>-0.324708</td>\n",
              "    </tr>\n",
              "    <tr>\n",
              "      <th>Pm25</th>\n",
              "      <td>-0.324708</td>\n",
              "      <td>1.000000</td>\n",
              "    </tr>\n",
              "  </tbody>\n",
              "</table>\n",
              "</div>\n",
              "    <div class=\"colab-df-buttons\">\n",
              "\n",
              "  <div class=\"colab-df-container\">\n",
              "    <button class=\"colab-df-convert\" onclick=\"convertToInteractive('df-bc7e2ba1-6505-43df-8d7f-b5e5bbd35008')\"\n",
              "            title=\"Convert this dataframe to an interactive table.\"\n",
              "            style=\"display:none;\">\n",
              "\n",
              "  <svg xmlns=\"http://www.w3.org/2000/svg\" height=\"24px\" viewBox=\"0 -960 960 960\">\n",
              "    <path d=\"M120-120v-720h720v720H120Zm60-500h600v-160H180v160Zm220 220h160v-160H400v160Zm0 220h160v-160H400v160ZM180-400h160v-160H180v160Zm440 0h160v-160H620v160ZM180-180h160v-160H180v160Zm440 0h160v-160H620v160Z\"/>\n",
              "  </svg>\n",
              "    </button>\n",
              "\n",
              "  <style>\n",
              "    .colab-df-container {\n",
              "      display:flex;\n",
              "      gap: 12px;\n",
              "    }\n",
              "\n",
              "    .colab-df-convert {\n",
              "      background-color: #E8F0FE;\n",
              "      border: none;\n",
              "      border-radius: 50%;\n",
              "      cursor: pointer;\n",
              "      display: none;\n",
              "      fill: #1967D2;\n",
              "      height: 32px;\n",
              "      padding: 0 0 0 0;\n",
              "      width: 32px;\n",
              "    }\n",
              "\n",
              "    .colab-df-convert:hover {\n",
              "      background-color: #E2EBFA;\n",
              "      box-shadow: 0px 1px 2px rgba(60, 64, 67, 0.3), 0px 1px 3px 1px rgba(60, 64, 67, 0.15);\n",
              "      fill: #174EA6;\n",
              "    }\n",
              "\n",
              "    .colab-df-buttons div {\n",
              "      margin-bottom: 4px;\n",
              "    }\n",
              "\n",
              "    [theme=dark] .colab-df-convert {\n",
              "      background-color: #3B4455;\n",
              "      fill: #D2E3FC;\n",
              "    }\n",
              "\n",
              "    [theme=dark] .colab-df-convert:hover {\n",
              "      background-color: #434B5C;\n",
              "      box-shadow: 0px 1px 3px 1px rgba(0, 0, 0, 0.15);\n",
              "      filter: drop-shadow(0px 1px 2px rgba(0, 0, 0, 0.3));\n",
              "      fill: #FFFFFF;\n",
              "    }\n",
              "  </style>\n",
              "\n",
              "    <script>\n",
              "      const buttonEl =\n",
              "        document.querySelector('#df-bc7e2ba1-6505-43df-8d7f-b5e5bbd35008 button.colab-df-convert');\n",
              "      buttonEl.style.display =\n",
              "        google.colab.kernel.accessAllowed ? 'block' : 'none';\n",
              "\n",
              "      async function convertToInteractive(key) {\n",
              "        const element = document.querySelector('#df-bc7e2ba1-6505-43df-8d7f-b5e5bbd35008');\n",
              "        const dataTable =\n",
              "          await google.colab.kernel.invokeFunction('convertToInteractive',\n",
              "                                                    [key], {});\n",
              "        if (!dataTable) return;\n",
              "\n",
              "        const docLinkHtml = 'Like what you see? Visit the ' +\n",
              "          '<a target=\"_blank\" href=https://colab.research.google.com/notebooks/data_table.ipynb>data table notebook</a>'\n",
              "          + ' to learn more about interactive tables.';\n",
              "        element.innerHTML = '';\n",
              "        dataTable['output_type'] = 'display_data';\n",
              "        await google.colab.output.renderOutput(dataTable, element);\n",
              "        const docLink = document.createElement('div');\n",
              "        docLink.innerHTML = docLinkHtml;\n",
              "        element.appendChild(docLink);\n",
              "      }\n",
              "    </script>\n",
              "  </div>\n",
              "\n",
              "\n",
              "<div id=\"df-687eab34-acf4-4a01-bb85-79f1664a6b86\">\n",
              "  <button class=\"colab-df-quickchart\" onclick=\"quickchart('df-687eab34-acf4-4a01-bb85-79f1664a6b86')\"\n",
              "            title=\"Suggest charts\"\n",
              "            style=\"display:none;\">\n",
              "\n",
              "<svg xmlns=\"http://www.w3.org/2000/svg\" height=\"24px\"viewBox=\"0 0 24 24\"\n",
              "     width=\"24px\">\n",
              "    <g>\n",
              "        <path d=\"M19 3H5c-1.1 0-2 .9-2 2v14c0 1.1.9 2 2 2h14c1.1 0 2-.9 2-2V5c0-1.1-.9-2-2-2zM9 17H7v-7h2v7zm4 0h-2V7h2v10zm4 0h-2v-4h2v4z\"/>\n",
              "    </g>\n",
              "</svg>\n",
              "  </button>\n",
              "\n",
              "<style>\n",
              "  .colab-df-quickchart {\n",
              "      --bg-color: #E8F0FE;\n",
              "      --fill-color: #1967D2;\n",
              "      --hover-bg-color: #E2EBFA;\n",
              "      --hover-fill-color: #174EA6;\n",
              "      --disabled-fill-color: #AAA;\n",
              "      --disabled-bg-color: #DDD;\n",
              "  }\n",
              "\n",
              "  [theme=dark] .colab-df-quickchart {\n",
              "      --bg-color: #3B4455;\n",
              "      --fill-color: #D2E3FC;\n",
              "      --hover-bg-color: #434B5C;\n",
              "      --hover-fill-color: #FFFFFF;\n",
              "      --disabled-bg-color: #3B4455;\n",
              "      --disabled-fill-color: #666;\n",
              "  }\n",
              "\n",
              "  .colab-df-quickchart {\n",
              "    background-color: var(--bg-color);\n",
              "    border: none;\n",
              "    border-radius: 50%;\n",
              "    cursor: pointer;\n",
              "    display: none;\n",
              "    fill: var(--fill-color);\n",
              "    height: 32px;\n",
              "    padding: 0;\n",
              "    width: 32px;\n",
              "  }\n",
              "\n",
              "  .colab-df-quickchart:hover {\n",
              "    background-color: var(--hover-bg-color);\n",
              "    box-shadow: 0 1px 2px rgba(60, 64, 67, 0.3), 0 1px 3px 1px rgba(60, 64, 67, 0.15);\n",
              "    fill: var(--button-hover-fill-color);\n",
              "  }\n",
              "\n",
              "  .colab-df-quickchart-complete:disabled,\n",
              "  .colab-df-quickchart-complete:disabled:hover {\n",
              "    background-color: var(--disabled-bg-color);\n",
              "    fill: var(--disabled-fill-color);\n",
              "    box-shadow: none;\n",
              "  }\n",
              "\n",
              "  .colab-df-spinner {\n",
              "    border: 2px solid var(--fill-color);\n",
              "    border-color: transparent;\n",
              "    border-bottom-color: var(--fill-color);\n",
              "    animation:\n",
              "      spin 1s steps(1) infinite;\n",
              "  }\n",
              "\n",
              "  @keyframes spin {\n",
              "    0% {\n",
              "      border-color: transparent;\n",
              "      border-bottom-color: var(--fill-color);\n",
              "      border-left-color: var(--fill-color);\n",
              "    }\n",
              "    20% {\n",
              "      border-color: transparent;\n",
              "      border-left-color: var(--fill-color);\n",
              "      border-top-color: var(--fill-color);\n",
              "    }\n",
              "    30% {\n",
              "      border-color: transparent;\n",
              "      border-left-color: var(--fill-color);\n",
              "      border-top-color: var(--fill-color);\n",
              "      border-right-color: var(--fill-color);\n",
              "    }\n",
              "    40% {\n",
              "      border-color: transparent;\n",
              "      border-right-color: var(--fill-color);\n",
              "      border-top-color: var(--fill-color);\n",
              "    }\n",
              "    60% {\n",
              "      border-color: transparent;\n",
              "      border-right-color: var(--fill-color);\n",
              "    }\n",
              "    80% {\n",
              "      border-color: transparent;\n",
              "      border-right-color: var(--fill-color);\n",
              "      border-bottom-color: var(--fill-color);\n",
              "    }\n",
              "    90% {\n",
              "      border-color: transparent;\n",
              "      border-bottom-color: var(--fill-color);\n",
              "    }\n",
              "  }\n",
              "</style>\n",
              "\n",
              "  <script>\n",
              "    async function quickchart(key) {\n",
              "      const quickchartButtonEl =\n",
              "        document.querySelector('#' + key + ' button');\n",
              "      quickchartButtonEl.disabled = true;  // To prevent multiple clicks.\n",
              "      quickchartButtonEl.classList.add('colab-df-spinner');\n",
              "      try {\n",
              "        const charts = await google.colab.kernel.invokeFunction(\n",
              "            'suggestCharts', [key], {});\n",
              "      } catch (error) {\n",
              "        console.error('Error during call to suggestCharts:', error);\n",
              "      }\n",
              "      quickchartButtonEl.classList.remove('colab-df-spinner');\n",
              "      quickchartButtonEl.classList.add('colab-df-quickchart-complete');\n",
              "    }\n",
              "    (() => {\n",
              "      let quickchartButtonEl =\n",
              "        document.querySelector('#df-687eab34-acf4-4a01-bb85-79f1664a6b86 button');\n",
              "      quickchartButtonEl.style.display =\n",
              "        google.colab.kernel.accessAllowed ? 'block' : 'none';\n",
              "    })();\n",
              "  </script>\n",
              "</div>\n",
              "    </div>\n",
              "  </div>\n"
            ],
            "application/vnd.google.colaboratory.intrinsic+json": {
              "type": "dataframe",
              "variable_name": "corr",
              "summary": "{\n  \"name\": \"corr\",\n  \"rows\": 2,\n  \"fields\": [\n    {\n      \"column\": \"Compraventa_Unitario\",\n      \"properties\": {\n        \"dtype\": \"number\",\n        \"std\": 0.936710083138006,\n        \"min\": -0.32470810358539737,\n        \"max\": 1.0,\n        \"num_unique_values\": 2,\n        \"samples\": [\n          -0.32470810358539737,\n          1.0\n        ],\n        \"semantic_type\": \"\",\n        \"description\": \"\"\n      }\n    },\n    {\n      \"column\": \"Pm25\",\n      \"properties\": {\n        \"dtype\": \"number\",\n        \"std\": 0.936710083138006,\n        \"min\": -0.32470810358539737,\n        \"max\": 1.0,\n        \"num_unique_values\": 2,\n        \"samples\": [\n          1.0,\n          -0.32470810358539737\n        ],\n        \"semantic_type\": \"\",\n        \"description\": \"\"\n      }\n    }\n  ]\n}"
            }
          },
          "metadata": {},
          "execution_count": 15
        }
      ]
    },
    {
      "cell_type": "code",
      "source": [
        "import seaborn as sb\n",
        "fig, ax = plt.subplots(figsize=(12, 10))\n",
        "\n",
        "sb.heatmap(corr, xticklabels=corr.columns.values, yticklabels=corr.columns.values, annot=True,vmax=1, vmin=-1, cmap =sb.diverging_palette(220, 10, as_cmap=True),center=0,ax=ax )\n",
        "plt.show()"
      ],
      "metadata": {
        "colab": {
          "base_uri": "https://localhost:8080/",
          "height": 836
        },
        "id": "-snhTk3AzH69",
        "outputId": "a0f220cf-4347-46f5-ec6b-2be17159c628"
      },
      "execution_count": 16,
      "outputs": [
        {
          "output_type": "display_data",
          "data": {
            "text/plain": [
              "<Figure size 1200x1000 with 2 Axes>"
            ],
            "image/png": "[encoded data removed]"
          },
          "metadata": {}
        }
      ]
    },
    {
      "cell_type": "markdown",
      "source": [
        "La correlación entre \"Compraventa_Unitario\" y \"Pm25\" es de -0.324708, lo que sugiere una correlación negativa moderada entre estas dos variables en tu modelo."
      ],
      "metadata": {
        "id": "17ib49lFVZX-"
      }
    },
    {
      "cell_type": "markdown",
      "source": [
        "### Modelo VAR"
      ],
      "metadata": {
        "id": "NwY4i2qnaNTw"
      }
    },
    {
      "cell_type": "markdown",
      "source": [
        "El modelo VAR es una extension del modelo ARIMA para multiples series temporales, es decir en vez de modelar una sola srie temporal, el VAR modela simultaneamente todas las series temporales de un sistema.\n",
        "Cada serie temporal se regresa en función de usus propios valores pasados y de los valores pasados de las otras series temporales.\n",
        "**Es util cuando las diferentes series temporales estan interrelacionadas y se influyen mutuamente.**\n",
        "\n",
        "\n"
      ],
      "metadata": {
        "id": "0VwfWqC6aSvt"
      }
    },
    {
      "cell_type": "markdown",
      "source": [
        "##### Dividir los datos en conjunto de Entrenamiento y Prueba\n"
      ],
      "metadata": {
        "id": "5NpmqItO11jH"
      }
    },
    {
      "cell_type": "markdown",
      "source": [
        "El modelo VAR se ajustará al conjunto de entrenamiento X_train y luego se utilizará el modelo para pronosticar las observaciones futuras. Estos pronósticos se compararán con los datos reales del conjunto de prueba.\n",
        "\n",
        "\n",
        "\n",
        "---\n",
        "\n"
      ],
      "metadata": {
        "id": "IMwi617mPp7g"
      }
    },
    {
      "cell_type": "code",
      "source": [
        "fecha_division = '2022-01-01'\n",
        "\n",
        "X_train, X_test = df[df.index<fecha_division], df[df.index>=fecha_division]\n",
        "print(X_train.shape, X_test.shape)\n"
      ],
      "metadata": {
        "colab": {
          "base_uri": "https://localhost:8080/"
        },
        "id": "zyaebvtrPnx_",
        "outputId": "7ed0cc47-a59f-40bb-cc94-17d8431c8824"
      },
      "execution_count": 17,
      "outputs": [
        {
          "output_type": "stream",
          "name": "stdout",
          "text": [
            "(48, 2) (12, 2)\n"
          ]
        }
      ]
    },
    {
      "cell_type": "markdown",
      "source": [
        "##### Prueba de estacionariedad"
      ],
      "metadata": {
        "id": "5SVv-ZRJQyjz"
      }
    },
    {
      "cell_type": "markdown",
      "source": [
        "Necesitamos que los datos sean estacionarios para poder usar el modelo VAR. Vamos a averiguarlo haciendo un Test de Dickey-Fuller aumentado, a cada variable univariante que tiene nuestro dataset."
      ],
      "metadata": {
        "id": "_ono9B4fQ18F"
      }
    },
    {
      "cell_type": "code",
      "source": [
        "import statsmodels.tsa.stattools as sts"
      ],
      "metadata": {
        "id": "S4tuHEeYQyLb"
      },
      "execution_count": 18,
      "outputs": []
    },
    {
      "cell_type": "code",
      "source": [
        "def augmented_dickey_fuller_statistics(time_series):\n",
        "  result = sts.adfuller(time_series.values)\n",
        "  print('p-value: %f' % result[1])\n",
        "\n",
        "print('Test de Dickey-Fuller Aumentado:')\n",
        "for i in range(len(X_train.columns)):\n",
        "  print('Serie de tiempo',X_train.columns[i])\n",
        "  augmented_dickey_fuller_statistics(X_train.iloc[:,i])"
      ],
      "metadata": {
        "colab": {
          "base_uri": "https://localhost:8080/"
        },
        "id": "FD7cALeyQ9ci",
        "outputId": "88170b2d-1bab-4c1e-de0b-f847dbcb21ae"
      },
      "execution_count": 19,
      "outputs": [
        {
          "output_type": "stream",
          "name": "stdout",
          "text": [
            "Test de Dickey-Fuller Aumentado:\n",
            "Serie de tiempo Compraventa_Unitario\n",
            "p-value: 0.087699\n",
            "Serie de tiempo Pm25\n",
            "p-value: 0.778140\n"
          ]
        }
      ]
    },
    {
      "cell_type": "markdown",
      "source": [
        "Los p-valores son mayores que 0.05, con lo cual no se rechaza la hipótesis nula de que la serie no es estacionaria. Habría que transformar los datos porque no se puede confirmar estacionariedad."
      ],
      "metadata": {
        "id": "SeyX4SiHTwly"
      }
    },
    {
      "cell_type": "code",
      "source": [
        "#Diferenciando por primera vez\n",
        "X_train_transformed=X_train.diff().dropna()\n",
        "X_train_transformed.head()"
      ],
      "metadata": {
        "colab": {
          "base_uri": "https://localhost:8080/",
          "height": 237
        },
        "id": "kFiZxufeTvXa",
        "outputId": "53c25d1f-1b61-409d-fc7e-4b7b9eb2bb84"
      },
      "execution_count": 20,
      "outputs": [
        {
          "output_type": "execute_result",
          "data": {
            "text/plain": [
              "            Compraventa_Unitario  Pm25\n",
              "Fecha                                 \n",
              "2018-02-01              0.000000   0.0\n",
              "2018-03-01              0.000000   0.0\n",
              "2018-04-01             14.546154   0.0\n",
              "2018-05-01              0.000000   0.0\n",
              "2018-06-01              0.000000   0.0"
            ],
            "text/html": [
              "\n",
              "  <div id=\"df-da8d1906-70d8-495a-bbd3-33366f87a09e\" class=\"colab-df-container\">\n",
              "    <div>\n",
              "<style scoped>\n",
              "    .dataframe tbody tr th:only-of-type {\n",
              "        vertical-align: middle;\n",
              "    }\n",
              "\n",
              "    .dataframe tbody tr th {\n",
              "        vertical-align: top;\n",
              "    }\n",
              "\n",
              "    .dataframe thead th {\n",
              "        text-align: right;\n",
              "    }\n",
              "</style>\n",
              "<table border=\"1\" class=\"dataframe\">\n",
              "  <thead>\n",
              "    <tr style=\"text-align: right;\">\n",
              "      <th></th>\n",
              "      <th>Compraventa_Unitario</th>\n",
              "      <th>Pm25</th>\n",
              "    </tr>\n",
              "    <tr>\n",
              "      <th>Fecha</th>\n",
              "      <th></th>\n",
              "      <th></th>\n",
              "    </tr>\n",
              "  </thead>\n",
              "  <tbody>\n",
              "    <tr>\n",
              "      <th>2018-02-01</th>\n",
              "      <td>0.000000</td>\n",
              "      <td>0.0</td>\n",
              "    </tr>\n",
              "    <tr>\n",
              "      <th>2018-03-01</th>\n",
              "      <td>0.000000</td>\n",
              "      <td>0.0</td>\n",
              "    </tr>\n",
              "    <tr>\n",
              "      <th>2018-04-01</th>\n",
              "      <td>14.546154</td>\n",
              "      <td>0.0</td>\n",
              "    </tr>\n",
              "    <tr>\n",
              "      <th>2018-05-01</th>\n",
              "      <td>0.000000</td>\n",
              "      <td>0.0</td>\n",
              "    </tr>\n",
              "    <tr>\n",
              "      <th>2018-06-01</th>\n",
              "      <td>0.000000</td>\n",
              "      <td>0.0</td>\n",
              "    </tr>\n",
              "  </tbody>\n",
              "</table>\n",
              "</div>\n",
              "    <div class=\"colab-df-buttons\">\n",
              "\n",
              "  <div class=\"colab-df-container\">\n",
              "    <button class=\"colab-df-convert\" onclick=\"convertToInteractive('df-da8d1906-70d8-495a-bbd3-33366f87a09e')\"\n",
              "            title=\"Convert this dataframe to an interactive table.\"\n",
              "            style=\"display:none;\">\n",
              "\n",
              "  <svg xmlns=\"http://www.w3.org/2000/svg\" height=\"24px\" viewBox=\"0 -960 960 960\">\n",
              "    <path d=\"M120-120v-720h720v720H120Zm60-500h600v-160H180v160Zm220 220h160v-160H400v160Zm0 220h160v-160H400v160ZM180-400h160v-160H180v160Zm440 0h160v-160H620v160ZM180-180h160v-160H180v160Zm440 0h160v-160H620v160Z\"/>\n",
              "  </svg>\n",
              "    </button>\n",
              "\n",
              "  <style>\n",
              "    .colab-df-container {\n",
              "      display:flex;\n",
              "      gap: 12px;\n",
              "    }\n",
              "\n",
              "    .colab-df-convert {\n",
              "      background-color: #E8F0FE;\n",
              "      border: none;\n",
              "      border-radius: 50%;\n",
              "      cursor: pointer;\n",
              "      display: none;\n",
              "      fill: #1967D2;\n",
              "      height: 32px;\n",
              "      padding: 0 0 0 0;\n",
              "      width: 32px;\n",
              "    }\n",
              "\n",
              "    .colab-df-convert:hover {\n",
              "      background-color: #E2EBFA;\n",
              "      box-shadow: 0px 1px 2px rgba(60, 64, 67, 0.3), 0px 1px 3px 1px rgba(60, 64, 67, 0.15);\n",
              "      fill: #174EA6;\n",
              "    }\n",
              "\n",
              "    .colab-df-buttons div {\n",
              "      margin-bottom: 4px;\n",
              "    }\n",
              "\n",
              "    [theme=dark] .colab-df-convert {\n",
              "      background-color: #3B4455;\n",
              "      fill: #D2E3FC;\n",
              "    }\n",
              "\n",
              "    [theme=dark] .colab-df-convert:hover {\n",
              "      background-color: #434B5C;\n",
              "      box-shadow: 0px 1px 3px 1px rgba(0, 0, 0, 0.15);\n",
              "      filter: drop-shadow(0px 1px 2px rgba(0, 0, 0, 0.3));\n",
              "      fill: #FFFFFF;\n",
              "    }\n",
              "  </style>\n",
              "\n",
              "    <script>\n",
              "      const buttonEl =\n",
              "        document.querySelector('#df-da8d1906-70d8-495a-bbd3-33366f87a09e button.colab-df-convert');\n",
              "      buttonEl.style.display =\n",
              "        google.colab.kernel.accessAllowed ? 'block' : 'none';\n",
              "\n",
              "      async function convertToInteractive(key) {\n",
              "        const element = document.querySelector('#df-da8d1906-70d8-495a-bbd3-33366f87a09e');\n",
              "        const dataTable =\n",
              "          await google.colab.kernel.invokeFunction('convertToInteractive',\n",
              "                                                    [key], {});\n",
              "        if (!dataTable) return;\n",
              "\n",
              "        const docLinkHtml = 'Like what you see? Visit the ' +\n",
              "          '<a target=\"_blank\" href=https://colab.research.google.com/notebooks/data_table.ipynb>data table notebook</a>'\n",
              "          + ' to learn more about interactive tables.';\n",
              "        element.innerHTML = '';\n",
              "        dataTable['output_type'] = 'display_data';\n",
              "        await google.colab.output.renderOutput(dataTable, element);\n",
              "        const docLink = document.createElement('div');\n",
              "        docLink.innerHTML = docLinkHtml;\n",
              "        element.appendChild(docLink);\n",
              "      }\n",
              "    </script>\n",
              "  </div>\n",
              "\n",
              "\n",
              "<div id=\"df-1147f1a4-1da3-4df8-a5a3-9dc6eba04263\">\n",
              "  <button class=\"colab-df-quickchart\" onclick=\"quickchart('df-1147f1a4-1da3-4df8-a5a3-9dc6eba04263')\"\n",
              "            title=\"Suggest charts\"\n",
              "            style=\"display:none;\">\n",
              "\n",
              "<svg xmlns=\"http://www.w3.org/2000/svg\" height=\"24px\"viewBox=\"0 0 24 24\"\n",
              "     width=\"24px\">\n",
              "    <g>\n",
              "        <path d=\"M19 3H5c-1.1 0-2 .9-2 2v14c0 1.1.9 2 2 2h14c1.1 0 2-.9 2-2V5c0-1.1-.9-2-2-2zM9 17H7v-7h2v7zm4 0h-2V7h2v10zm4 0h-2v-4h2v4z\"/>\n",
              "    </g>\n",
              "</svg>\n",
              "  </button>\n",
              "\n",
              "<style>\n",
              "  .colab-df-quickchart {\n",
              "      --bg-color: #E8F0FE;\n",
              "      --fill-color: #1967D2;\n",
              "      --hover-bg-color: #E2EBFA;\n",
              "      --hover-fill-color: #174EA6;\n",
              "      --disabled-fill-color: #AAA;\n",
              "      --disabled-bg-color: #DDD;\n",
              "  }\n",
              "\n",
              "  [theme=dark] .colab-df-quickchart {\n",
              "      --bg-color: #3B4455;\n",
              "      --fill-color: #D2E3FC;\n",
              "      --hover-bg-color: #434B5C;\n",
              "      --hover-fill-color: #FFFFFF;\n",
              "      --disabled-bg-color: #3B4455;\n",
              "      --disabled-fill-color: #666;\n",
              "  }\n",
              "\n",
              "  .colab-df-quickchart {\n",
              "    background-color: var(--bg-color);\n",
              "    border: none;\n",
              "    border-radius: 50%;\n",
              "    cursor: pointer;\n",
              "    display: none;\n",
              "    fill: var(--fill-color);\n",
              "    height: 32px;\n",
              "    padding: 0;\n",
              "    width: 32px;\n",
              "  }\n",
              "\n",
              "  .colab-df-quickchart:hover {\n",
              "    background-color: var(--hover-bg-color);\n",
              "    box-shadow: 0 1px 2px rgba(60, 64, 67, 0.3), 0 1px 3px 1px rgba(60, 64, 67, 0.15);\n",
              "    fill: var(--button-hover-fill-color);\n",
              "  }\n",
              "\n",
              "  .colab-df-quickchart-complete:disabled,\n",
              "  .colab-df-quickchart-complete:disabled:hover {\n",
              "    background-color: var(--disabled-bg-color);\n",
              "    fill: var(--disabled-fill-color);\n",
              "    box-shadow: none;\n",
              "  }\n",
              "\n",
              "  .colab-df-spinner {\n",
              "    border: 2px solid var(--fill-color);\n",
              "    border-color: transparent;\n",
              "    border-bottom-color: var(--fill-color);\n",
              "    animation:\n",
              "      spin 1s steps(1) infinite;\n",
              "  }\n",
              "\n",
              "  @keyframes spin {\n",
              "    0% {\n",
              "      border-color: transparent;\n",
              "      border-bottom-color: var(--fill-color);\n",
              "      border-left-color: var(--fill-color);\n",
              "    }\n",
              "    20% {\n",
              "      border-color: transparent;\n",
              "      border-left-color: var(--fill-color);\n",
              "      border-top-color: var(--fill-color);\n",
              "    }\n",
              "    30% {\n",
              "      border-color: transparent;\n",
              "      border-left-color: var(--fill-color);\n",
              "      border-top-color: var(--fill-color);\n",
              "      border-right-color: var(--fill-color);\n",
              "    }\n",
              "    40% {\n",
              "      border-color: transparent;\n",
              "      border-right-color: var(--fill-color);\n",
              "      border-top-color: var(--fill-color);\n",
              "    }\n",
              "    60% {\n",
              "      border-color: transparent;\n",
              "      border-right-color: var(--fill-color);\n",
              "    }\n",
              "    80% {\n",
              "      border-color: transparent;\n",
              "      border-right-color: var(--fill-color);\n",
              "      border-bottom-color: var(--fill-color);\n",
              "    }\n",
              "    90% {\n",
              "      border-color: transparent;\n",
              "      border-bottom-color: var(--fill-color);\n",
              "    }\n",
              "  }\n",
              "</style>\n",
              "\n",
              "  <script>\n",
              "    async function quickchart(key) {\n",
              "      const quickchartButtonEl =\n",
              "        document.querySelector('#' + key + ' button');\n",
              "      quickchartButtonEl.disabled = true;  // To prevent multiple clicks.\n",
              "      quickchartButtonEl.classList.add('colab-df-spinner');\n",
              "      try {\n",
              "        const charts = await google.colab.kernel.invokeFunction(\n",
              "            'suggestCharts', [key], {});\n",
              "      } catch (error) {\n",
              "        console.error('Error during call to suggestCharts:', error);\n",
              "      }\n",
              "      quickchartButtonEl.classList.remove('colab-df-spinner');\n",
              "      quickchartButtonEl.classList.add('colab-df-quickchart-complete');\n",
              "    }\n",
              "    (() => {\n",
              "      let quickchartButtonEl =\n",
              "        document.querySelector('#df-1147f1a4-1da3-4df8-a5a3-9dc6eba04263 button');\n",
              "      quickchartButtonEl.style.display =\n",
              "        google.colab.kernel.accessAllowed ? 'block' : 'none';\n",
              "    })();\n",
              "  </script>\n",
              "</div>\n",
              "    </div>\n",
              "  </div>\n"
            ],
            "application/vnd.google.colaboratory.intrinsic+json": {
              "type": "dataframe",
              "variable_name": "X_train_transformed",
              "summary": "{\n  \"name\": \"X_train_transformed\",\n  \"rows\": 47,\n  \"fields\": [\n    {\n      \"column\": \"Fecha\",\n      \"properties\": {\n        \"dtype\": \"date\",\n        \"min\": \"2018-02-01 00:00:00\",\n        \"max\": \"2021-12-01 00:00:00\",\n        \"num_unique_values\": 47,\n        \"samples\": [\n          \"2020-05-01 00:00:00\",\n          \"2021-05-01 00:00:00\",\n          \"2020-04-01 00:00:00\"\n        ],\n        \"semantic_type\": \"\",\n        \"description\": \"\"\n      }\n    },\n    {\n      \"column\": \"Compraventa_Unitario\",\n      \"properties\": {\n        \"dtype\": \"number\",\n        \"std\": 68.86828774393386,\n        \"min\": -96.95384615384637,\n        \"max\": 299.72307692307686,\n        \"num_unique_values\": 22,\n        \"samples\": [\n          0.0,\n          -3.197234023321016,\n          -83.56923076923067\n        ],\n        \"semantic_type\": \"\",\n        \"description\": \"\"\n      }\n    },\n    {\n      \"column\": \"Pm25\",\n      \"properties\": {\n        \"dtype\": \"number\",\n        \"std\": 0.06935471339249569,\n        \"min\": -0.4743401759530803,\n        \"max\": 0.02272727272727293,\n        \"num_unique_values\": 4,\n        \"samples\": [\n          0.02272727272727293,\n          -0.023460410557184286,\n          0.0\n        ],\n        \"semantic_type\": \"\",\n        \"description\": \"\"\n      }\n    }\n  ]\n}"
            }
          },
          "metadata": {},
          "execution_count": 20
        }
      ]
    },
    {
      "cell_type": "code",
      "source": [
        "# Plot\n",
        "fig, axes = plt.subplots(nrows=2, ncols=1, dpi=120, figsize=(12,6))\n",
        "for i, ax in enumerate(axes.flatten()):\n",
        "    data = X_train_transformed[X_train_transformed.columns[i]]\n",
        "    ax.plot(data, color='red', linewidth=1)\n",
        "    # Decorations\n",
        "    ax.set_title(X_train_transformed.columns[i])\n",
        "    ax.xaxis.set_ticks_position('none')\n",
        "    ax.yaxis.set_ticks_position('none')\n",
        "    ax.spines[\"top\"].set_alpha(0)\n",
        "    ax.tick_params(labelsize=6)\n",
        "\n",
        "plt.tight_layout();"
      ],
      "metadata": {
        "colab": {
          "base_uri": "https://localhost:8080/",
          "height": 724
        },
        "id": "pxjCD3UiVntH",
        "outputId": "aaf0f0d4-222c-4dd2-8d02-f6846dbf3828"
      },
      "execution_count": 21,
      "outputs": [
        {
          "output_type": "display_data",
          "data": {
            "text/plain": [
              "<Figure size 1440x720 with 2 Axes>"
            ],
            "image/png": "[encoded data removed]"
          },
          "metadata": {}
        }
      ]
    },
    {
      "cell_type": "code",
      "source": [
        "print('Test de Dickey-Fuller Aumentado 2da vez:')\n",
        "for i in range(len(X_train_transformed.columns)):\n",
        "  print('Serie de tiempo transformada', 'Variable', X_train_transformed.columns[i])\n",
        "  augmented_dickey_fuller_statistics(X_train_transformed.iloc[:,i])"
      ],
      "metadata": {
        "colab": {
          "base_uri": "https://localhost:8080/"
        },
        "id": "IpD-XMEyYlzG",
        "outputId": "179b41d3-b24d-4058-91d3-a1572f23a101"
      },
      "execution_count": 22,
      "outputs": [
        {
          "output_type": "stream",
          "name": "stdout",
          "text": [
            "Test de Dickey-Fuller Aumentado 2da vez:\n",
            "Serie de tiempo transformada Variable Compraventa_Unitario\n",
            "p-value: 0.000087\n",
            "Serie de tiempo transformada Variable Pm25\n",
            "p-value: 0.000000\n"
          ]
        }
      ]
    },
    {
      "cell_type": "markdown",
      "source": [
        "Todos los p-valores son < 0.05 por lo tanto se podría concluir que con 1 orden de diferenciación se obtienen series estacionarias."
      ],
      "metadata": {
        "id": "dOMQKGKvaFTC"
      }
    },
    {
      "cell_type": "code",
      "source": [
        "from statsmodels.tsa.api import VAR"
      ],
      "metadata": {
        "id": "coq_4K-UaWtz"
      },
      "execution_count": 23,
      "outputs": []
    },
    {
      "cell_type": "code",
      "source": [
        "model = VAR(X_train_transformed)"
      ],
      "metadata": {
        "colab": {
          "base_uri": "https://localhost:8080/"
        },
        "id": "eU2dchNIaX_2",
        "outputId": "daae7caa-05ca-475f-ddf3-8dbc081dbdb1"
      },
      "execution_count": 24,
      "outputs": [
        {
          "output_type": "stream",
          "name": "stderr",
          "text": [
            "/usr/local/lib/python3.10/dist-packages/statsmodels/tsa/base/tsa_model.py:473: ValueWarning: No frequency information was provided, so inferred frequency MS will be used.\n",
            "  self._init_dates(dates, freq)\n"
          ]
        }
      ]
    },
    {
      "cell_type": "markdown",
      "source": [
        "#### Seleccionando el orden del modelo"
      ],
      "metadata": {
        "id": "kDdnofXtacuY"
      }
    },
    {
      "cell_type": "markdown",
      "source": [
        "Se establece un valor de 12 como número óptimo de rezagos, teniendo encuenta, que los datos de las dos series temporales parecen tener un ciclo anual es decir 12 meses"
      ],
      "metadata": {
        "id": "TCVjD-jChieb"
      }
    },
    {
      "cell_type": "code",
      "source": [
        "modelsel=model.select_order(13)\n",
        "modelsel.summary()"
      ],
      "metadata": {
        "colab": {
          "base_uri": "https://localhost:8080/",
          "height": 359
        },
        "id": "vwWHPsSUamSH",
        "outputId": "7fd1dc31-c919-4474-a59e-9506e0408d75"
      },
      "execution_count": 37,
      "outputs": [
        {
          "output_type": "execute_result",
          "data": {
            "text/plain": [
              "<class 'statsmodels.iolib.table.SimpleTable'>"
            ],
            "text/html": [
              "<table class=\"simpletable\">\n",
              "<caption>VAR Order Selection (* highlights the minimums)</caption>\n",
              "<tr>\n",
              "   <td></td>      <th>AIC</th>         <th>BIC</th>         <th>FPE</th>        <th>HQIC</th>    \n",
              "</tr>\n",
              "<tr>\n",
              "  <th>0</th>  <td>     3.494</td>  <td>     3.584*</td> <td>     32.93</td>  <td>     3.525*</td>\n",
              "</tr>\n",
              "<tr>\n",
              "  <th>1</th>  <td>     3.728</td>  <td>     3.997</td>  <td>     41.62</td>  <td>     3.820</td> \n",
              "</tr>\n",
              "<tr>\n",
              "  <th>2</th>  <td>     3.961</td>  <td>     4.410</td>  <td>     52.74</td>  <td>     4.114</td> \n",
              "</tr>\n",
              "<tr>\n",
              "  <th>3</th>  <td>     3.976</td>  <td>     4.605</td>  <td>     53.95</td>  <td>     4.191</td> \n",
              "</tr>\n",
              "<tr>\n",
              "  <th>4</th>  <td>     4.207</td>  <td>     5.015</td>  <td>     68.94</td>  <td>     4.483</td> \n",
              "</tr>\n",
              "<tr>\n",
              "  <th>5</th>  <td>     4.438</td>  <td>     5.426</td>  <td>     88.82</td>  <td>     4.775</td> \n",
              "</tr>\n",
              "<tr>\n",
              "  <th>6</th>  <td>     3.398</td>  <td>     4.565</td>  <td>     32.45*</td> <td>     3.796</td> \n",
              "</tr>\n",
              "<tr>\n",
              "  <th>7</th>  <td>     3.624</td>  <td>     4.971</td>  <td>     42.69</td>  <td>     4.083</td> \n",
              "</tr>\n",
              "<tr>\n",
              "  <th>8</th>  <td>     3.843</td>  <td>     5.369</td>  <td>     56.84</td>  <td>     4.364</td> \n",
              "</tr>\n",
              "<tr>\n",
              "  <th>9</th>  <td>     3.734</td>  <td>     5.440</td>  <td>     55.89</td>  <td>     4.316</td> \n",
              "</tr>\n",
              "<tr>\n",
              "  <th>10</th> <td>     3.783</td>  <td>     5.669</td>  <td>     66.52</td>  <td>     4.426</td> \n",
              "</tr>\n",
              "<tr>\n",
              "  <th>11</th> <td>     3.210*</td> <td>     5.275</td>  <td>     44.43</td>  <td>     3.914</td> \n",
              "</tr>\n",
              "<tr>\n",
              "  <th>12</th> <td>     3.266</td>  <td>     5.511</td>  <td>     59.47</td>  <td>     4.032</td> \n",
              "</tr>\n",
              "<tr>\n",
              "  <th>13</th> <td>     3.364</td>  <td>     5.788</td>  <td>     91.60</td>  <td>     4.191</td> \n",
              "</tr>\n",
              "</table>"
            ],
            "text/latex": "\\begin{center}\n\\begin{tabular}{lcccc}\n\\toprule\n            & \\textbf{AIC} & \\textbf{BIC} & \\textbf{FPE} & \\textbf{HQIC}  \\\\\n\\midrule\n\\textbf{0}  &       3.494  &      3.584*  &       32.93  &       3.525*   \\\\\n\\textbf{1}  &       3.728  &       3.997  &       41.62  &        3.820   \\\\\n\\textbf{2}  &       3.961  &       4.410  &       52.74  &        4.114   \\\\\n\\textbf{3}  &       3.976  &       4.605  &       53.95  &        4.191   \\\\\n\\textbf{4}  &       4.207  &       5.015  &       68.94  &        4.483   \\\\\n\\textbf{5}  &       4.438  &       5.426  &       88.82  &        4.775   \\\\\n\\textbf{6}  &       3.398  &       4.565  &      32.45*  &        3.796   \\\\\n\\textbf{7}  &       3.624  &       4.971  &       42.69  &        4.083   \\\\\n\\textbf{8}  &       3.843  &       5.369  &       56.84  &        4.364   \\\\\n\\textbf{9}  &       3.734  &       5.440  &       55.89  &        4.316   \\\\\n\\textbf{10} &       3.783  &       5.669  &       66.52  &        4.426   \\\\\n\\textbf{11} &      3.210*  &       5.275  &       44.43  &        3.914   \\\\\n\\textbf{12} &       3.266  &       5.511  &       59.47  &        4.032   \\\\\n\\textbf{13} &       3.364  &       5.788  &       91.60  &        4.191   \\\\\n\\bottomrule\n\\end{tabular}\n%\\caption{VAR Order Selection (* highlights the minimums)}\n\\end{center}"
          },
          "metadata": {},
          "execution_count": 37
        }
      ]
    },
    {
      "cell_type": "markdown",
      "source": [
        "El modelo no parece encontrar un valor optimo de maxlags.\n",
        "\n",
        "En este caso se adpta modelo VAR(12), ya que tiene los valores más bajos en los criterios AIC, BIC y FPE, y uno de los valores más bajos en HQIC."
      ],
      "metadata": {
        "id": "wozzizEsMQZS"
      }
    },
    {
      "cell_type": "markdown",
      "source": [
        "#### Ajustando el modelo"
      ],
      "metadata": {
        "id": "hAeKlnonlm_N"
      }
    },
    {
      "cell_type": "code",
      "source": [
        "res = model.fit(maxlags=12, ic='aic')\n",
        "res.summary()"
      ],
      "metadata": {
        "colab": {
          "base_uri": "https://localhost:8080/"
        },
        "id": "fCWBWJIolkt7",
        "outputId": "1ce9d796-3ee5-4867-cc0b-627dbb0f81a6"
      },
      "execution_count": 44,
      "outputs": [
        {
          "output_type": "execute_result",
          "data": {
            "text/plain": [
              "  Summary of Regression Results   \n",
              "==================================\n",
              "Model:                         VAR\n",
              "Method:                        OLS\n",
              "Date:           Sat, 11, May, 2024\n",
              "Time:                     10:28:40\n",
              "--------------------------------------------------------------------\n",
              "No. of Equations:         2.00000    BIC:                    5.58287\n",
              "Nobs:                     36.0000    HQIC:                   4.26570\n",
              "Log likelihood:          -120.234    FPE:                    56.2107\n",
              "AIC:                      3.55949    Det(Omega_mle):         20.9276\n",
              "--------------------------------------------------------------------\n",
              "Results for equation Compraventa_Unitario\n",
              "===========================================================================================\n",
              "                              coefficient       std. error           t-stat            prob\n",
              "-------------------------------------------------------------------------------------------\n",
              "const                           84.570206        19.056808            4.438           0.000\n",
              "L1.Compraventa_Unitario         -0.644875         0.218510           -2.951           0.003\n",
              "L1.Pm25                        201.471048       160.651794            1.254           0.210\n",
              "L2.Compraventa_Unitario         -0.660904         0.220704           -2.995           0.003\n",
              "L2.Pm25                        200.259741       160.611131            1.247           0.212\n",
              "L3.Compraventa_Unitario         -0.973320         0.179709           -5.416           0.000\n",
              "L3.Pm25                         58.144767       148.779355            0.391           0.696\n",
              "L4.Compraventa_Unitario         -0.801431         0.258440           -3.101           0.002\n",
              "L4.Pm25                         -4.109345       154.548615           -0.027           0.979\n",
              "L5.Compraventa_Unitario         -0.821417         0.261263           -3.144           0.002\n",
              "L5.Pm25                         -4.474095       154.547364           -0.029           0.977\n",
              "L6.Compraventa_Unitario         -0.888921         0.155065           -5.733           0.000\n",
              "L6.Pm25                        565.340245       137.385434            4.115           0.000\n",
              "L7.Compraventa_Unitario         -0.589962         0.222963           -2.646           0.008\n",
              "L7.Pm25                        469.459630       163.059749            2.879           0.004\n",
              "L8.Compraventa_Unitario         -0.605978         0.224817           -2.695           0.007\n",
              "L8.Pm25                        476.289139       163.951247            2.905           0.004\n",
              "L9.Compraventa_Unitario         -0.686632         0.197308           -3.480           0.001\n",
              "L9.Pm25                        457.135403       135.842322            3.365           0.001\n",
              "L10.Compraventa_Unitario        -0.667499         0.236933           -2.817           0.005\n",
              "L10.Pm25                       418.200531       153.431647            2.726           0.006\n",
              "L11.Compraventa_Unitario        -0.678346         0.238332           -2.846           0.004\n",
              "L11.Pm25                       423.600260       154.109250            2.749           0.006\n",
              "===========================================================================================\n",
              "\n",
              "Results for equation Pm25\n",
              "===========================================================================================\n",
              "                              coefficient       std. error           t-stat            prob\n",
              "-------------------------------------------------------------------------------------------\n",
              "const                           -0.036210         0.032832           -1.103           0.270\n",
              "L1.Compraventa_Unitario          0.000244         0.000376            0.649           0.516\n",
              "L1.Pm25                         -0.086635         0.276776           -0.313           0.754\n",
              "L2.Compraventa_Unitario          0.000250         0.000380            0.659           0.510\n",
              "L2.Pm25                         -0.085866         0.276706           -0.310           0.756\n",
              "L3.Compraventa_Unitario          0.000310         0.000310            1.000           0.317\n",
              "L3.Pm25                          0.259961         0.256322            1.014           0.310\n",
              "L4.Compraventa_Unitario          0.000310         0.000445            0.696           0.486\n",
              "L4.Pm25                         -0.004845         0.266262           -0.018           0.985\n",
              "L5.Compraventa_Unitario          0.000317         0.000450            0.704           0.481\n",
              "L5.Pm25                         -0.005058         0.266259           -0.019           0.985\n",
              "L6.Compraventa_Unitario         -0.000458         0.000267           -1.713           0.087\n",
              "L6.Pm25                         -0.093178         0.236692           -0.394           0.694\n",
              "L7.Compraventa_Unitario          0.000224         0.000384            0.584           0.559\n",
              "L7.Pm25                         -0.187072         0.280925           -0.666           0.505\n",
              "L8.Compraventa_Unitario          0.000231         0.000387            0.595           0.552\n",
              "L8.Pm25                         -0.189595         0.282461           -0.671           0.502\n",
              "L9.Compraventa_Unitario          0.000502         0.000340            1.475           0.140\n",
              "L9.Pm25                         -0.203202         0.234034           -0.868           0.385\n",
              "L10.Compraventa_Unitario         0.000258         0.000408            0.633           0.527\n",
              "L10.Pm25                        -0.168161         0.264337           -0.636           0.525\n",
              "L11.Compraventa_Unitario         0.000262         0.000411            0.637           0.524\n",
              "L11.Pm25                        -0.169999         0.265505           -0.640           0.522\n",
              "===========================================================================================\n",
              "\n",
              "Correlation matrix of residuals\n",
              "                        Compraventa_Unitario      Pm25\n",
              "Compraventa_Unitario                1.000000  0.385780\n",
              "Pm25                                0.385780  1.000000\n",
              "\n"
            ]
          },
          "metadata": {},
          "execution_count": 44
        }
      ]
    },
    {
      "cell_type": "markdown",
      "source": [
        "La correlación entre los residuos de \"Compraventa_Unitario\" y los residuos de \"Pm25\" es de 0.385780, lo que sugiere una correlación positiva moderada entre los residuos de estas dos variables en tu modelo."
      ],
      "metadata": {
        "id": "St6EOWfjZgYw"
      }
    },
    {
      "cell_type": "code",
      "source": [
        "X_train.columns"
      ],
      "metadata": {
        "colab": {
          "base_uri": "https://localhost:8080/"
        },
        "id": "7tDQSMh_mGv5",
        "outputId": "42aa586b-33e4-4d70-dfdb-147ab3b2254e"
      },
      "execution_count": 33,
      "outputs": [
        {
          "output_type": "execute_result",
          "data": {
            "text/plain": [
              "Index(['Compraventa_Unitario', 'Pm25'], dtype='object')"
            ]
          },
          "metadata": {},
          "execution_count": 33
        }
      ]
    },
    {
      "cell_type": "markdown",
      "source": [
        "###### Causalidad de Granger"
      ],
      "metadata": {
        "id": "UeWh9NUMmOsp"
      }
    },
    {
      "cell_type": "code",
      "source": [
        "grangercaus=res.test_causality(['Pm25'],['Compraventa_Unitario'],kind='f')\n",
        "grangercaus.summary()"
      ],
      "metadata": {
        "colab": {
          "base_uri": "https://localhost:8080/",
          "height": 128
        },
        "id": "FFpAEu7nmN73",
        "outputId": "1992946c-bf58-41e3-b3a4-20cef2a50a70"
      },
      "execution_count": 45,
      "outputs": [
        {
          "output_type": "execute_result",
          "data": {
            "text/plain": [
              "<class 'statsmodels.iolib.table.SimpleTable'>"
            ],
            "text/html": [
              "<table class=\"simpletable\">\n",
              "<caption>Granger causality F-test. H_0: Compraventa_Unitario does not Granger-cause Pm25. Conclusion: fail to reject H_0 at 5% significance level.</caption>\n",
              "<tr>\n",
              "  <th>Test statistic</th> <th>Critical value</th> <th>p-value</th>    <th>df</th>   \n",
              "</tr>\n",
              "<tr>\n",
              "       <td>1.128</td>          <td>2.181</td>      <td>0.380</td>  <td>(11, 26)</td>\n",
              "</tr>\n",
              "</table>"
            ],
            "text/latex": "\\begin{center}\n\\begin{tabular}{cccc}\n\\toprule\n\\textbf{Test statistic} & \\textbf{Critical value} & \\textbf{p-value} & \\textbf{df}  \\\\\n\\midrule\n         1.128          &          2.181          &      0.380       &   (11, 26)   \\\\\n\\bottomrule\n\\end{tabular}\n%\\caption{Granger causality F-test. H_0: Compraventa_Unitario does not Granger-cause Pm25. Conclusion: fail to reject H_0 at 5% significance level.}\n\\end{center}"
          },
          "metadata": {},
          "execution_count": 45
        }
      ]
    },
    {
      "cell_type": "code",
      "source": [
        "grangercaus=res.test_causality(['Compraventa_Unitario'],['Pm25'],kind='f')\n",
        "grangercaus.summary()"
      ],
      "metadata": {
        "colab": {
          "base_uri": "https://localhost:8080/",
          "height": 128
        },
        "id": "d_xNfS2umz-Y",
        "outputId": "17f60804-86af-4328-b935-97beaa6894bd"
      },
      "execution_count": 46,
      "outputs": [
        {
          "output_type": "execute_result",
          "data": {
            "text/plain": [
              "<class 'statsmodels.iolib.table.SimpleTable'>"
            ],
            "text/html": [
              "<table class=\"simpletable\">\n",
              "<caption>Granger causality F-test. H_0: Pm25 does not Granger-cause Compraventa_Unitario. Conclusion: reject H_0 at 5% significance level.</caption>\n",
              "<tr>\n",
              "  <th>Test statistic</th> <th>Critical value</th> <th>p-value</th>    <th>df</th>   \n",
              "</tr>\n",
              "<tr>\n",
              "       <td>2.322</td>          <td>2.181</td>      <td>0.038</td>  <td>(11, 26)</td>\n",
              "</tr>\n",
              "</table>"
            ],
            "text/latex": "\\begin{center}\n\\begin{tabular}{cccc}\n\\toprule\n\\textbf{Test statistic} & \\textbf{Critical value} & \\textbf{p-value} & \\textbf{df}  \\\\\n\\midrule\n         2.322          &          2.181          &      0.038       &   (11, 26)   \\\\\n\\bottomrule\n\\end{tabular}\n%\\caption{Granger causality F-test. H_0: Pm25 does not Granger-cause Compraventa_Unitario. Conclusion: reject H_0 at 5% significance level.}\n\\end{center}"
          },
          "metadata": {},
          "execution_count": 46
        }
      ]
    },
    {
      "cell_type": "markdown",
      "source": [
        "Como se puede observar, la causalidad de Granger nos indica que ninguna de las series temporales puede predecir la otra serie temporal"
      ],
      "metadata": {
        "id": "deyfDA4UeXxJ"
      }
    },
    {
      "cell_type": "markdown",
      "source": [
        "###### Matriz de causalidad de Granger\n"
      ],
      "metadata": {
        "id": "WNGM-fVxm8bh"
      }
    },
    {
      "cell_type": "code",
      "source": [
        "import pandas as pd\n",
        "import numpy as np\n",
        "from statsmodels.tsa.stattools import grangercausalitytests\n",
        "import warnings\n",
        "warnings.filterwarnings(\"ignore\")\n",
        "maxlag=12\n",
        "test = 'ssr_chi2test'\n",
        "def grangers_causality_matrix(X_train_transformed, variables, test = 'ssr_chi2test', verbose=False):\n",
        "  dataset = pd.DataFrame(np.zeros((len(variables), len(variables))), columns=variables, index=variables)\n",
        "  for c in dataset.columns:\n",
        "    for r in dataset.index:\n",
        "      test_result = grangercausalitytests(X_train_transformed[[r,c]], maxlag=maxlag, verbose=False)\n",
        "      p_values = [round(test_result[i+1][0][test][1],4) for i in range(maxlag)]\n",
        "      if verbose:\n",
        "        print(f'Y = {r}, X = {c}, P Values = {p_values}')\n",
        "      min_p_value = np.min(p_values)\n",
        "      dataset.loc[r,c] = min_p_value\n",
        "  dataset.columns = [var + '_x' for var in variables]\n",
        "  dataset.index = [var + '_y' for var in variables]\n",
        "  return dataset\n",
        "grangers_causality_matrix(X_train_transformed, variables = X_train_transformed.columns)"
      ],
      "metadata": {
        "colab": {
          "base_uri": "https://localhost:8080/",
          "height": 112
        },
        "id": "EsRJys5vnAGl",
        "outputId": "866d387c-4b91-45b8-b696-099481c450bb"
      },
      "execution_count": 47,
      "outputs": [
        {
          "output_type": "execute_result",
          "data": {
            "text/plain": [
              "                        Compraventa_Unitario_x  Pm25_x\n",
              "Compraventa_Unitario_y                     1.0     0.0\n",
              "Pm25_y                                     0.0     1.0"
            ],
            "text/html": [
              "\n",
              "  <div id=\"df-07f9f52d-2c7e-4fc8-bbd9-2c7db34cc7da\" class=\"colab-df-container\">\n",
              "    <div>\n",
              "<style scoped>\n",
              "    .dataframe tbody tr th:only-of-type {\n",
              "        vertical-align: middle;\n",
              "    }\n",
              "\n",
              "    .dataframe tbody tr th {\n",
              "        vertical-align: top;\n",
              "    }\n",
              "\n",
              "    .dataframe thead th {\n",
              "        text-align: right;\n",
              "    }\n",
              "</style>\n",
              "<table border=\"1\" class=\"dataframe\">\n",
              "  <thead>\n",
              "    <tr style=\"text-align: right;\">\n",
              "      <th></th>\n",
              "      <th>Compraventa_Unitario_x</th>\n",
              "      <th>Pm25_x</th>\n",
              "    </tr>\n",
              "  </thead>\n",
              "  <tbody>\n",
              "    <tr>\n",
              "      <th>Compraventa_Unitario_y</th>\n",
              "      <td>1.0</td>\n",
              "      <td>0.0</td>\n",
              "    </tr>\n",
              "    <tr>\n",
              "      <th>Pm25_y</th>\n",
              "      <td>0.0</td>\n",
              "      <td>1.0</td>\n",
              "    </tr>\n",
              "  </tbody>\n",
              "</table>\n",
              "</div>\n",
              "    <div class=\"colab-df-buttons\">\n",
              "\n",
              "  <div class=\"colab-df-container\">\n",
              "    <button class=\"colab-df-convert\" onclick=\"convertToInteractive('df-07f9f52d-2c7e-4fc8-bbd9-2c7db34cc7da')\"\n",
              "            title=\"Convert this dataframe to an interactive table.\"\n",
              "            style=\"display:none;\">\n",
              "\n",
              "  <svg xmlns=\"http://www.w3.org/2000/svg\" height=\"24px\" viewBox=\"0 -960 960 960\">\n",
              "    <path d=\"M120-120v-720h720v720H120Zm60-500h600v-160H180v160Zm220 220h160v-160H400v160Zm0 220h160v-160H400v160ZM180-400h160v-160H180v160Zm440 0h160v-160H620v160ZM180-180h160v-160H180v160Zm440 0h160v-160H620v160Z\"/>\n",
              "  </svg>\n",
              "    </button>\n",
              "\n",
              "  <style>\n",
              "    .colab-df-container {\n",
              "      display:flex;\n",
              "      gap: 12px;\n",
              "    }\n",
              "\n",
              "    .colab-df-convert {\n",
              "      background-color: #E8F0FE;\n",
              "      border: none;\n",
              "      border-radius: 50%;\n",
              "      cursor: pointer;\n",
              "      display: none;\n",
              "      fill: #1967D2;\n",
              "      height: 32px;\n",
              "      padding: 0 0 0 0;\n",
              "      width: 32px;\n",
              "    }\n",
              "\n",
              "    .colab-df-convert:hover {\n",
              "      background-color: #E2EBFA;\n",
              "      box-shadow: 0px 1px 2px rgba(60, 64, 67, 0.3), 0px 1px 3px 1px rgba(60, 64, 67, 0.15);\n",
              "      fill: #174EA6;\n",
              "    }\n",
              "\n",
              "    .colab-df-buttons div {\n",
              "      margin-bottom: 4px;\n",
              "    }\n",
              "\n",
              "    [theme=dark] .colab-df-convert {\n",
              "      background-color: #3B4455;\n",
              "      fill: #D2E3FC;\n",
              "    }\n",
              "\n",
              "    [theme=dark] .colab-df-convert:hover {\n",
              "      background-color: #434B5C;\n",
              "      box-shadow: 0px 1px 3px 1px rgba(0, 0, 0, 0.15);\n",
              "      filter: drop-shadow(0px 1px 2px rgba(0, 0, 0, 0.3));\n",
              "      fill: #FFFFFF;\n",
              "    }\n",
              "  </style>\n",
              "\n",
              "    <script>\n",
              "      const buttonEl =\n",
              "        document.querySelector('#df-07f9f52d-2c7e-4fc8-bbd9-2c7db34cc7da button.colab-df-convert');\n",
              "      buttonEl.style.display =\n",
              "        google.colab.kernel.accessAllowed ? 'block' : 'none';\n",
              "\n",
              "      async function convertToInteractive(key) {\n",
              "        const element = document.querySelector('#df-07f9f52d-2c7e-4fc8-bbd9-2c7db34cc7da');\n",
              "        const dataTable =\n",
              "          await google.colab.kernel.invokeFunction('convertToInteractive',\n",
              "                                                    [key], {});\n",
              "        if (!dataTable) return;\n",
              "\n",
              "        const docLinkHtml = 'Like what you see? Visit the ' +\n",
              "          '<a target=\"_blank\" href=https://colab.research.google.com/notebooks/data_table.ipynb>data table notebook</a>'\n",
              "          + ' to learn more about interactive tables.';\n",
              "        element.innerHTML = '';\n",
              "        dataTable['output_type'] = 'display_data';\n",
              "        await google.colab.output.renderOutput(dataTable, element);\n",
              "        const docLink = document.createElement('div');\n",
              "        docLink.innerHTML = docLinkHtml;\n",
              "        element.appendChild(docLink);\n",
              "      }\n",
              "    </script>\n",
              "  </div>\n",
              "\n",
              "\n",
              "<div id=\"df-5be83764-82ca-450a-91fa-912c76dfba91\">\n",
              "  <button class=\"colab-df-quickchart\" onclick=\"quickchart('df-5be83764-82ca-450a-91fa-912c76dfba91')\"\n",
              "            title=\"Suggest charts\"\n",
              "            style=\"display:none;\">\n",
              "\n",
              "<svg xmlns=\"http://www.w3.org/2000/svg\" height=\"24px\"viewBox=\"0 0 24 24\"\n",
              "     width=\"24px\">\n",
              "    <g>\n",
              "        <path d=\"M19 3H5c-1.1 0-2 .9-2 2v14c0 1.1.9 2 2 2h14c1.1 0 2-.9 2-2V5c0-1.1-.9-2-2-2zM9 17H7v-7h2v7zm4 0h-2V7h2v10zm4 0h-2v-4h2v4z\"/>\n",
              "    </g>\n",
              "</svg>\n",
              "  </button>\n",
              "\n",
              "<style>\n",
              "  .colab-df-quickchart {\n",
              "      --bg-color: #E8F0FE;\n",
              "      --fill-color: #1967D2;\n",
              "      --hover-bg-color: #E2EBFA;\n",
              "      --hover-fill-color: #174EA6;\n",
              "      --disabled-fill-color: #AAA;\n",
              "      --disabled-bg-color: #DDD;\n",
              "  }\n",
              "\n",
              "  [theme=dark] .colab-df-quickchart {\n",
              "      --bg-color: #3B4455;\n",
              "      --fill-color: #D2E3FC;\n",
              "      --hover-bg-color: #434B5C;\n",
              "      --hover-fill-color: #FFFFFF;\n",
              "      --disabled-bg-color: #3B4455;\n",
              "      --disabled-fill-color: #666;\n",
              "  }\n",
              "\n",
              "  .colab-df-quickchart {\n",
              "    background-color: var(--bg-color);\n",
              "    border: none;\n",
              "    border-radius: 50%;\n",
              "    cursor: pointer;\n",
              "    display: none;\n",
              "    fill: var(--fill-color);\n",
              "    height: 32px;\n",
              "    padding: 0;\n",
              "    width: 32px;\n",
              "  }\n",
              "\n",
              "  .colab-df-quickchart:hover {\n",
              "    background-color: var(--hover-bg-color);\n",
              "    box-shadow: 0 1px 2px rgba(60, 64, 67, 0.3), 0 1px 3px 1px rgba(60, 64, 67, 0.15);\n",
              "    fill: var(--button-hover-fill-color);\n",
              "  }\n",
              "\n",
              "  .colab-df-quickchart-complete:disabled,\n",
              "  .colab-df-quickchart-complete:disabled:hover {\n",
              "    background-color: var(--disabled-bg-color);\n",
              "    fill: var(--disabled-fill-color);\n",
              "    box-shadow: none;\n",
              "  }\n",
              "\n",
              "  .colab-df-spinner {\n",
              "    border: 2px solid var(--fill-color);\n",
              "    border-color: transparent;\n",
              "    border-bottom-color: var(--fill-color);\n",
              "    animation:\n",
              "      spin 1s steps(1) infinite;\n",
              "  }\n",
              "\n",
              "  @keyframes spin {\n",
              "    0% {\n",
              "      border-color: transparent;\n",
              "      border-bottom-color: var(--fill-color);\n",
              "      border-left-color: var(--fill-color);\n",
              "    }\n",
              "    20% {\n",
              "      border-color: transparent;\n",
              "      border-left-color: var(--fill-color);\n",
              "      border-top-color: var(--fill-color);\n",
              "    }\n",
              "    30% {\n",
              "      border-color: transparent;\n",
              "      border-left-color: var(--fill-color);\n",
              "      border-top-color: var(--fill-color);\n",
              "      border-right-color: var(--fill-color);\n",
              "    }\n",
              "    40% {\n",
              "      border-color: transparent;\n",
              "      border-right-color: var(--fill-color);\n",
              "      border-top-color: var(--fill-color);\n",
              "    }\n",
              "    60% {\n",
              "      border-color: transparent;\n",
              "      border-right-color: var(--fill-color);\n",
              "    }\n",
              "    80% {\n",
              "      border-color: transparent;\n",
              "      border-right-color: var(--fill-color);\n",
              "      border-bottom-color: var(--fill-color);\n",
              "    }\n",
              "    90% {\n",
              "      border-color: transparent;\n",
              "      border-bottom-color: var(--fill-color);\n",
              "    }\n",
              "  }\n",
              "</style>\n",
              "\n",
              "  <script>\n",
              "    async function quickchart(key) {\n",
              "      const quickchartButtonEl =\n",
              "        document.querySelector('#' + key + ' button');\n",
              "      quickchartButtonEl.disabled = true;  // To prevent multiple clicks.\n",
              "      quickchartButtonEl.classList.add('colab-df-spinner');\n",
              "      try {\n",
              "        const charts = await google.colab.kernel.invokeFunction(\n",
              "            'suggestCharts', [key], {});\n",
              "      } catch (error) {\n",
              "        console.error('Error during call to suggestCharts:', error);\n",
              "      }\n",
              "      quickchartButtonEl.classList.remove('colab-df-spinner');\n",
              "      quickchartButtonEl.classList.add('colab-df-quickchart-complete');\n",
              "    }\n",
              "    (() => {\n",
              "      let quickchartButtonEl =\n",
              "        document.querySelector('#df-5be83764-82ca-450a-91fa-912c76dfba91 button');\n",
              "      quickchartButtonEl.style.display =\n",
              "        google.colab.kernel.accessAllowed ? 'block' : 'none';\n",
              "    })();\n",
              "  </script>\n",
              "</div>\n",
              "    </div>\n",
              "  </div>\n"
            ],
            "application/vnd.google.colaboratory.intrinsic+json": {
              "type": "dataframe",
              "summary": "{\n  \"name\": \"grangers_causality_matrix(X_train_transformed, variables = X_train_transformed\",\n  \"rows\": 2,\n  \"fields\": [\n    {\n      \"column\": \"Compraventa_Unitario_x\",\n      \"properties\": {\n        \"dtype\": \"number\",\n        \"std\": 0.7071067811865476,\n        \"min\": 0.0,\n        \"max\": 1.0,\n        \"num_unique_values\": 2,\n        \"samples\": [\n          0.0,\n          1.0\n        ],\n        \"semantic_type\": \"\",\n        \"description\": \"\"\n      }\n    },\n    {\n      \"column\": \"Pm25_x\",\n      \"properties\": {\n        \"dtype\": \"number\",\n        \"std\": 0.7071067811865476,\n        \"min\": 0.0,\n        \"max\": 1.0,\n        \"num_unique_values\": 2,\n        \"samples\": [\n          1.0,\n          0.0\n        ],\n        \"semantic_type\": \"\",\n        \"description\": \"\"\n      }\n    }\n  ]\n}"
            }
          },
          "metadata": {},
          "execution_count": 47
        }
      ]
    },
    {
      "cell_type": "markdown",
      "source": [
        "Con esta matriz queda claro que la serie temporal de Compraventa_Unitario no causa ni es causada por la otra serie temporal de ParadosReg"
      ],
      "metadata": {
        "id": "wQiupwVinPkB"
      }
    },
    {
      "cell_type": "markdown",
      "source": [
        "###### Diagnosis del modelo\n"
      ],
      "metadata": {
        "id": "nDy2YsunnwBq"
      }
    },
    {
      "cell_type": "markdown",
      "source": [
        "###### Residuos"
      ],
      "metadata": {
        "id": "NGg_mAjNn0qr"
      }
    },
    {
      "cell_type": "code",
      "source": [
        "residuals=res.resid"
      ],
      "metadata": {
        "id": "HBSMx97gn4Hz"
      },
      "execution_count": 48,
      "outputs": []
    },
    {
      "cell_type": "code",
      "source": [
        "fig, axs = plt.subplots(2)\n",
        "fig.suptitle('Gráficos de los residuos',fontsize=20)\n",
        "fig.set_size_inches(18, 10)\n",
        "[axs[i].plot(residuals.iloc[:,i]) for i in range(2)]\n",
        "plt.show()"
      ],
      "metadata": {
        "colab": {
          "base_uri": "https://localhost:8080/",
          "height": 930
        },
        "id": "NfzCXKkYn6Gr",
        "outputId": "ffaee414-e25c-43cd-c115-505c58856522"
      },
      "execution_count": 49,
      "outputs": [
        {
          "output_type": "display_data",
          "data": {
            "text/plain": [
              "<Figure size 1800x1000 with 2 Axes>"
            ],
            "image/png": "[encoded data removed]"
          },
          "metadata": {}
        }
      ]
    },
    {
      "cell_type": "markdown",
      "source": [
        "###### Dickey - Fuller a los residuos\n"
      ],
      "metadata": {
        "id": "t4CKXz8ooG8x"
      }
    },
    {
      "cell_type": "code",
      "source": [
        "print('ADF de los Residuos, p-valores:')\n",
        "[sts.adfuller(residuals.iloc[:,i])[1] for i in range(2)]"
      ],
      "metadata": {
        "colab": {
          "base_uri": "https://localhost:8080/"
        },
        "id": "DLdcLlT6oM4-",
        "outputId": "c58f78d8-dce4-4ed7-f0c7-57dcce5f1635"
      },
      "execution_count": 50,
      "outputs": [
        {
          "output_type": "stream",
          "name": "stdout",
          "text": [
            "ADF de los Residuos, p-valores:\n"
          ]
        },
        {
          "output_type": "execute_result",
          "data": {
            "text/plain": [
              "[2.6181268075493787e-06, 1.584046765368869e-08]"
            ]
          },
          "metadata": {},
          "execution_count": 50
        }
      ]
    },
    {
      "cell_type": "markdown",
      "source": [
        "Todos los p-valores son < 0.1 por tanto se rechaza la hipótesis nula de que las 2 series de residuos no son estacionarias, por lo cual con un 90% de confianza se cree que son estacionarias.\n",
        "\n"
      ],
      "metadata": {
        "id": "0qESiPJaoRNc"
      }
    },
    {
      "cell_type": "markdown",
      "source": [
        "###### ACF de los Residuos\n"
      ],
      "metadata": {
        "id": "kYU0qFiLohWE"
      }
    },
    {
      "cell_type": "code",
      "source": [
        "import statsmodels.graphics.tsaplots as sgt\n",
        "[sgt.plot_acf(residuals.iloc[:,i], zero = False, lags = 12) for i in range(2)]\n",
        "plt.show()"
      ],
      "metadata": {
        "colab": {
          "base_uri": "https://localhost:8080/",
          "height": 887
        },
        "id": "mZ837R2AolcE",
        "outputId": "0f8455fd-1fa6-4911-bf24-9cea3d6bd3c3"
      },
      "execution_count": 51,
      "outputs": [
        {
          "output_type": "display_data",
          "data": {
            "text/plain": [
              "<Figure size 640x480 with 1 Axes>"
            ],
            "image/png": "[encoded data removed]"
          },
          "metadata": {}
        },
        {
          "output_type": "display_data",
          "data": {
            "text/plain": [
              "<Figure size 640x480 with 1 Axes>"
            ],
            "image/png": "[encoded data removed]"
          },
          "metadata": {}
        }
      ]
    },
    {
      "cell_type": "markdown",
      "source": [
        "Conclusión: Los residuos del modelo no presentan estructura de autocorrelación, son estacionarios según los resultados de la prueba de Dickey - Fuller aumentada y en los gráficos se puede comprobar esto visualmente, entonces puede concluirse que son ruido blanco como es deseable.\n",
        "\n"
      ],
      "metadata": {
        "id": "M2QR5u5jowwd"
      }
    },
    {
      "cell_type": "markdown",
      "source": [
        "#### Valores predichos\n"
      ],
      "metadata": {
        "id": "9-N1tR5Ao5-p"
      }
    },
    {
      "cell_type": "code",
      "source": [
        "y_fitted = res.fittedvalues\n",
        "fig, axs = plt.subplots(2)\n",
        "fig.suptitle('Gráficos de los valores predichos por el modelo',fontsize=15)\n",
        "fig.set_size_inches(18, 10)\n",
        "[axs[i].plot(y_fitted.iloc[:,i]) for i in range(2)]\n",
        "plt.show()"
      ],
      "metadata": {
        "colab": {
          "base_uri": "https://localhost:8080/",
          "height": 930
        },
        "id": "Szcd4nT5o5Mc",
        "outputId": "ba263c5f-3e38-43cf-ec4d-059929598df3"
      },
      "execution_count": 52,
      "outputs": [
        {
          "output_type": "display_data",
          "data": {
            "text/plain": [
              "<Figure size 1800x1000 with 2 Axes>"
            ],
            "image/png": "[encoded data removed]"
          },
          "metadata": {}
        }
      ]
    },
    {
      "cell_type": "markdown",
      "source": [
        "#### Pronósticos a futuro\n"
      ],
      "metadata": {
        "id": "JsbNOfsKpOUQ"
      }
    },
    {
      "cell_type": "markdown",
      "source": [
        "Para pronosticar, al modelo VAR le podemos pasar hasta el número de orden de retraso de observaciones de los datos pasados. Esto se debe a que los términos en el modelo VAR son esencialmente los retrasos de las diversas series de tiempo en el conjunto de datos, por lo que debemos proporcionar tantos valores anteriores como lo indique el orden de retraso utilizado por el modelo. De lo contrario estaríamos introduciendo poca fiabilidad.\n",
        "\n"
      ],
      "metadata": {
        "id": "Hqj6dbVEpvIJ"
      }
    },
    {
      "cell_type": "code",
      "source": [
        "# Obtener el orden del modelo\n",
        "lag_order = res.k_ar\n",
        "print('Orden del modelo:', lag_order)\n",
        "# Input data para hacer forecasting (pronósticos a futuro)\n",
        "input_data = X_train_transformed.values[-lag_order:]\n",
        "# Forecasting\n",
        "pred = res.forecast(y=input_data, steps=12)\n",
        "pred = (pd.DataFrame(pred, index=X_test.index, columns=X_test.columns + '_pred'))\n",
        "print('Predicciones:')\n",
        "pred"
      ],
      "metadata": {
        "colab": {
          "base_uri": "https://localhost:8080/",
          "height": 492
        },
        "id": "9FK3DAUTp6hb",
        "outputId": "b0ada7f5-28bc-489d-b84d-fd68cdd249b6"
      },
      "execution_count": 53,
      "outputs": [
        {
          "output_type": "stream",
          "name": "stdout",
          "text": [
            "Orden del modelo: 11\n",
            "Predicciones:\n"
          ]
        },
        {
          "output_type": "execute_result",
          "data": {
            "text/plain": [
              "            Compraventa_Unitario_pred  Pm25_pred\n",
              "Fecha                                           \n",
              "2022-01-01                  60.229838   0.001707\n",
              "2022-02-01                  26.696205  -0.009701\n",
              "2022-03-01                   3.097507  -0.000809\n",
              "2022-04-01                 -26.521099  -0.087155\n",
              "2022-05-01                   2.145385  -0.004595\n",
              "2022-06-01                  -3.214840   0.001452\n",
              "2022-07-01                 -23.377146  -0.041715\n",
              "2022-08-01                  -7.215053  -0.025465\n",
              "2022-09-01                  -3.127893  -0.004735\n",
              "2022-10-01                  25.909417   0.001021\n",
              "2022-11-01                   6.304538  -0.007646\n",
              "2022-12-01                   0.398823  -0.000321"
            ],
            "text/html": [
              "\n",
              "  <div id=\"df-39a8801c-4acf-46f5-b403-0243ec84ca68\" class=\"colab-df-container\">\n",
              "    <div>\n",
              "<style scoped>\n",
              "    .dataframe tbody tr th:only-of-type {\n",
              "        vertical-align: middle;\n",
              "    }\n",
              "\n",
              "    .dataframe tbody tr th {\n",
              "        vertical-align: top;\n",
              "    }\n",
              "\n",
              "    .dataframe thead th {\n",
              "        text-align: right;\n",
              "    }\n",
              "</style>\n",
              "<table border=\"1\" class=\"dataframe\">\n",
              "  <thead>\n",
              "    <tr style=\"text-align: right;\">\n",
              "      <th></th>\n",
              "      <th>Compraventa_Unitario_pred</th>\n",
              "      <th>Pm25_pred</th>\n",
              "    </tr>\n",
              "    <tr>\n",
              "      <th>Fecha</th>\n",
              "      <th></th>\n",
              "      <th></th>\n",
              "    </tr>\n",
              "  </thead>\n",
              "  <tbody>\n",
              "    <tr>\n",
              "      <th>2022-01-01</th>\n",
              "      <td>60.229838</td>\n",
              "      <td>0.001707</td>\n",
              "    </tr>\n",
              "    <tr>\n",
              "      <th>2022-02-01</th>\n",
              "      <td>26.696205</td>\n",
              "      <td>-0.009701</td>\n",
              "    </tr>\n",
              "    <tr>\n",
              "      <th>2022-03-01</th>\n",
              "      <td>3.097507</td>\n",
              "      <td>-0.000809</td>\n",
              "    </tr>\n",
              "    <tr>\n",
              "      <th>2022-04-01</th>\n",
              "      <td>-26.521099</td>\n",
              "      <td>-0.087155</td>\n",
              "    </tr>\n",
              "    <tr>\n",
              "      <th>2022-05-01</th>\n",
              "      <td>2.145385</td>\n",
              "      <td>-0.004595</td>\n",
              "    </tr>\n",
              "    <tr>\n",
              "      <th>2022-06-01</th>\n",
              "      <td>-3.214840</td>\n",
              "      <td>0.001452</td>\n",
              "    </tr>\n",
              "    <tr>\n",
              "      <th>2022-07-01</th>\n",
              "      <td>-23.377146</td>\n",
              "      <td>-0.041715</td>\n",
              "    </tr>\n",
              "    <tr>\n",
              "      <th>2022-08-01</th>\n",
              "      <td>-7.215053</td>\n",
              "      <td>-0.025465</td>\n",
              "    </tr>\n",
              "    <tr>\n",
              "      <th>2022-09-01</th>\n",
              "      <td>-3.127893</td>\n",
              "      <td>-0.004735</td>\n",
              "    </tr>\n",
              "    <tr>\n",
              "      <th>2022-10-01</th>\n",
              "      <td>25.909417</td>\n",
              "      <td>0.001021</td>\n",
              "    </tr>\n",
              "    <tr>\n",
              "      <th>2022-11-01</th>\n",
              "      <td>6.304538</td>\n",
              "      <td>-0.007646</td>\n",
              "    </tr>\n",
              "    <tr>\n",
              "      <th>2022-12-01</th>\n",
              "      <td>0.398823</td>\n",
              "      <td>-0.000321</td>\n",
              "    </tr>\n",
              "  </tbody>\n",
              "</table>\n",
              "</div>\n",
              "    <div class=\"colab-df-buttons\">\n",
              "\n",
              "  <div class=\"colab-df-container\">\n",
              "    <button class=\"colab-df-convert\" onclick=\"convertToInteractive('df-39a8801c-4acf-46f5-b403-0243ec84ca68')\"\n",
              "            title=\"Convert this dataframe to an interactive table.\"\n",
              "            style=\"display:none;\">\n",
              "\n",
              "  <svg xmlns=\"http://www.w3.org/2000/svg\" height=\"24px\" viewBox=\"0 -960 960 960\">\n",
              "    <path d=\"M120-120v-720h720v720H120Zm60-500h600v-160H180v160Zm220 220h160v-160H400v160Zm0 220h160v-160H400v160ZM180-400h160v-160H180v160Zm440 0h160v-160H620v160ZM180-180h160v-160H180v160Zm440 0h160v-160H620v160Z\"/>\n",
              "  </svg>\n",
              "    </button>\n",
              "\n",
              "  <style>\n",
              "    .colab-df-container {\n",
              "      display:flex;\n",
              "      gap: 12px;\n",
              "    }\n",
              "\n",
              "    .colab-df-convert {\n",
              "      background-color: #E8F0FE;\n",
              "      border: none;\n",
              "      border-radius: 50%;\n",
              "      cursor: pointer;\n",
              "      display: none;\n",
              "      fill: #1967D2;\n",
              "      height: 32px;\n",
              "      padding: 0 0 0 0;\n",
              "      width: 32px;\n",
              "    }\n",
              "\n",
              "    .colab-df-convert:hover {\n",
              "      background-color: #E2EBFA;\n",
              "      box-shadow: 0px 1px 2px rgba(60, 64, 67, 0.3), 0px 1px 3px 1px rgba(60, 64, 67, 0.15);\n",
              "      fill: #174EA6;\n",
              "    }\n",
              "\n",
              "    .colab-df-buttons div {\n",
              "      margin-bottom: 4px;\n",
              "    }\n",
              "\n",
              "    [theme=dark] .colab-df-convert {\n",
              "      background-color: #3B4455;\n",
              "      fill: #D2E3FC;\n",
              "    }\n",
              "\n",
              "    [theme=dark] .colab-df-convert:hover {\n",
              "      background-color: #434B5C;\n",
              "      box-shadow: 0px 1px 3px 1px rgba(0, 0, 0, 0.15);\n",
              "      filter: drop-shadow(0px 1px 2px rgba(0, 0, 0, 0.3));\n",
              "      fill: #FFFFFF;\n",
              "    }\n",
              "  </style>\n",
              "\n",
              "    <script>\n",
              "      const buttonEl =\n",
              "        document.querySelector('#df-39a8801c-4acf-46f5-b403-0243ec84ca68 button.colab-df-convert');\n",
              "      buttonEl.style.display =\n",
              "        google.colab.kernel.accessAllowed ? 'block' : 'none';\n",
              "\n",
              "      async function convertToInteractive(key) {\n",
              "        const element = document.querySelector('#df-39a8801c-4acf-46f5-b403-0243ec84ca68');\n",
              "        const dataTable =\n",
              "          await google.colab.kernel.invokeFunction('convertToInteractive',\n",
              "                                                    [key], {});\n",
              "        if (!dataTable) return;\n",
              "\n",
              "        const docLinkHtml = 'Like what you see? Visit the ' +\n",
              "          '<a target=\"_blank\" href=https://colab.research.google.com/notebooks/data_table.ipynb>data table notebook</a>'\n",
              "          + ' to learn more about interactive tables.';\n",
              "        element.innerHTML = '';\n",
              "        dataTable['output_type'] = 'display_data';\n",
              "        await google.colab.output.renderOutput(dataTable, element);\n",
              "        const docLink = document.createElement('div');\n",
              "        docLink.innerHTML = docLinkHtml;\n",
              "        element.appendChild(docLink);\n",
              "      }\n",
              "    </script>\n",
              "  </div>\n",
              "\n",
              "\n",
              "<div id=\"df-836da295-8bd4-4216-a83d-d95d52129083\">\n",
              "  <button class=\"colab-df-quickchart\" onclick=\"quickchart('df-836da295-8bd4-4216-a83d-d95d52129083')\"\n",
              "            title=\"Suggest charts\"\n",
              "            style=\"display:none;\">\n",
              "\n",
              "<svg xmlns=\"http://www.w3.org/2000/svg\" height=\"24px\"viewBox=\"0 0 24 24\"\n",
              "     width=\"24px\">\n",
              "    <g>\n",
              "        <path d=\"M19 3H5c-1.1 0-2 .9-2 2v14c0 1.1.9 2 2 2h14c1.1 0 2-.9 2-2V5c0-1.1-.9-2-2-2zM9 17H7v-7h2v7zm4 0h-2V7h2v10zm4 0h-2v-4h2v4z\"/>\n",
              "    </g>\n",
              "</svg>\n",
              "  </button>\n",
              "\n",
              "<style>\n",
              "  .colab-df-quickchart {\n",
              "      --bg-color: #E8F0FE;\n",
              "      --fill-color: #1967D2;\n",
              "      --hover-bg-color: #E2EBFA;\n",
              "      --hover-fill-color: #174EA6;\n",
              "      --disabled-fill-color: #AAA;\n",
              "      --disabled-bg-color: #DDD;\n",
              "  }\n",
              "\n",
              "  [theme=dark] .colab-df-quickchart {\n",
              "      --bg-color: #3B4455;\n",
              "      --fill-color: #D2E3FC;\n",
              "      --hover-bg-color: #434B5C;\n",
              "      --hover-fill-color: #FFFFFF;\n",
              "      --disabled-bg-color: #3B4455;\n",
              "      --disabled-fill-color: #666;\n",
              "  }\n",
              "\n",
              "  .colab-df-quickchart {\n",
              "    background-color: var(--bg-color);\n",
              "    border: none;\n",
              "    border-radius: 50%;\n",
              "    cursor: pointer;\n",
              "    display: none;\n",
              "    fill: var(--fill-color);\n",
              "    height: 32px;\n",
              "    padding: 0;\n",
              "    width: 32px;\n",
              "  }\n",
              "\n",
              "  .colab-df-quickchart:hover {\n",
              "    background-color: var(--hover-bg-color);\n",
              "    box-shadow: 0 1px 2px rgba(60, 64, 67, 0.3), 0 1px 3px 1px rgba(60, 64, 67, 0.15);\n",
              "    fill: var(--button-hover-fill-color);\n",
              "  }\n",
              "\n",
              "  .colab-df-quickchart-complete:disabled,\n",
              "  .colab-df-quickchart-complete:disabled:hover {\n",
              "    background-color: var(--disabled-bg-color);\n",
              "    fill: var(--disabled-fill-color);\n",
              "    box-shadow: none;\n",
              "  }\n",
              "\n",
              "  .colab-df-spinner {\n",
              "    border: 2px solid var(--fill-color);\n",
              "    border-color: transparent;\n",
              "    border-bottom-color: var(--fill-color);\n",
              "    animation:\n",
              "      spin 1s steps(1) infinite;\n",
              "  }\n",
              "\n",
              "  @keyframes spin {\n",
              "    0% {\n",
              "      border-color: transparent;\n",
              "      border-bottom-color: var(--fill-color);\n",
              "      border-left-color: var(--fill-color);\n",
              "    }\n",
              "    20% {\n",
              "      border-color: transparent;\n",
              "      border-left-color: var(--fill-color);\n",
              "      border-top-color: var(--fill-color);\n",
              "    }\n",
              "    30% {\n",
              "      border-color: transparent;\n",
              "      border-left-color: var(--fill-color);\n",
              "      border-top-color: var(--fill-color);\n",
              "      border-right-color: var(--fill-color);\n",
              "    }\n",
              "    40% {\n",
              "      border-color: transparent;\n",
              "      border-right-color: var(--fill-color);\n",
              "      border-top-color: var(--fill-color);\n",
              "    }\n",
              "    60% {\n",
              "      border-color: transparent;\n",
              "      border-right-color: var(--fill-color);\n",
              "    }\n",
              "    80% {\n",
              "      border-color: transparent;\n",
              "      border-right-color: var(--fill-color);\n",
              "      border-bottom-color: var(--fill-color);\n",
              "    }\n",
              "    90% {\n",
              "      border-color: transparent;\n",
              "      border-bottom-color: var(--fill-color);\n",
              "    }\n",
              "  }\n",
              "</style>\n",
              "\n",
              "  <script>\n",
              "    async function quickchart(key) {\n",
              "      const quickchartButtonEl =\n",
              "        document.querySelector('#' + key + ' button');\n",
              "      quickchartButtonEl.disabled = true;  // To prevent multiple clicks.\n",
              "      quickchartButtonEl.classList.add('colab-df-spinner');\n",
              "      try {\n",
              "        const charts = await google.colab.kernel.invokeFunction(\n",
              "            'suggestCharts', [key], {});\n",
              "      } catch (error) {\n",
              "        console.error('Error during call to suggestCharts:', error);\n",
              "      }\n",
              "      quickchartButtonEl.classList.remove('colab-df-spinner');\n",
              "      quickchartButtonEl.classList.add('colab-df-quickchart-complete');\n",
              "    }\n",
              "    (() => {\n",
              "      let quickchartButtonEl =\n",
              "        document.querySelector('#df-836da295-8bd4-4216-a83d-d95d52129083 button');\n",
              "      quickchartButtonEl.style.display =\n",
              "        google.colab.kernel.accessAllowed ? 'block' : 'none';\n",
              "    })();\n",
              "  </script>\n",
              "</div>\n",
              "    </div>\n",
              "  </div>\n"
            ],
            "application/vnd.google.colaboratory.intrinsic+json": {
              "type": "dataframe",
              "variable_name": "pred",
              "summary": "{\n  \"name\": \"pred\",\n  \"rows\": 12,\n  \"fields\": [\n    {\n      \"column\": \"Fecha\",\n      \"properties\": {\n        \"dtype\": \"date\",\n        \"min\": \"2022-01-01 00:00:00\",\n        \"max\": \"2022-12-01 00:00:00\",\n        \"num_unique_values\": 12,\n        \"samples\": [\n          \"2022-11-01 00:00:00\",\n          \"2022-10-01 00:00:00\",\n          \"2022-01-01 00:00:00\"\n        ],\n        \"semantic_type\": \"\",\n        \"description\": \"\"\n      }\n    },\n    {\n      \"column\": \"Compraventa_Unitario_pred\",\n      \"properties\": {\n        \"dtype\": \"number\",\n        \"std\": 23.49923475936468,\n        \"min\": -26.521099286169168,\n        \"max\": 60.22983775568825,\n        \"num_unique_values\": 12,\n        \"samples\": [\n          6.304537688611185,\n          25.90941710116851,\n          60.22983775568825\n        ],\n        \"semantic_type\": \"\",\n        \"description\": \"\"\n      }\n    },\n    {\n      \"column\": \"Pm25_pred\",\n      \"properties\": {\n        \"dtype\": \"number\",\n        \"std\": 0.026195645050232735,\n        \"min\": -0.08715518380575663,\n        \"max\": 0.001707331348645372,\n        \"num_unique_values\": 12,\n        \"samples\": [\n          -0.007645654216802286,\n          0.0010209836011998603,\n          0.001707331348645372\n        ],\n        \"semantic_type\": \"\",\n        \"description\": \"\"\n      }\n    }\n  ]\n}"
            }
          },
          "metadata": {},
          "execution_count": 53
        }
      ]
    },
    {
      "cell_type": "code",
      "source": [
        "import matplotlib.pyplot as plt\n",
        "plt.figure(figsize = (12, 10))\n",
        "res.plot_forecast(lag_order)\n",
        "plt.tight_layout(h_pad = 1.15)\n",
        "plt.show()\n"
      ],
      "metadata": {
        "colab": {
          "base_uri": "https://localhost:8080/",
          "height": 1000
        },
        "id": "SokaM9c5qyRn",
        "outputId": "3b709a78-bcdb-40c3-9733-74ac9b430cc3"
      },
      "execution_count": 54,
      "outputs": [
        {
          "output_type": "display_data",
          "data": {
            "text/plain": [
              "<Figure size 1200x1000 with 0 Axes>"
            ]
          },
          "metadata": {}
        },
        {
          "output_type": "display_data",
          "data": {
            "text/plain": [
              "<Figure size 1000x1000 with 2 Axes>"
            ],
            "image/png": "[encoded data removed]"
          },
          "metadata": {}
        }
      ]
    },
    {
      "cell_type": "markdown",
      "source": [
        "#### Invirtiendo la transformación de los pronósticos a la escala original\n"
      ],
      "metadata": {
        "id": "3QbukMdrq62v"
      }
    },
    {
      "cell_type": "markdown",
      "source": [
        "Los pronósticos se generan en la escala de los datos de entrenamiento utilizados por el modelo, es decir, son datos transformados. Entonces, para volver a ponerlos en su escala original, necesitamos des-diferenciarlos. La forma de invertir la diferenciación es sumar estas diferencias consecutivamente al número base. Una forma sencilla de hacerlo es determinar primero la suma acumulada y luego sumarla al número base. Este proceso se puede revertir agregando la observación en el paso de tiempo anterior al difference value. inverted(ts) = differenced(ts) + observation(ts-1)\n",
        "\n"
      ],
      "metadata": {
        "id": "Z6w8yKYyq-jF"
      }
    },
    {
      "cell_type": "code",
      "source": [
        "# Invirtiendo la transformación teniendo en cuenta que hemos diferenciado dos veces\n",
        "def invert_transformation(ds, df_forecast, second_diff=False):\n",
        "    for col in ds.columns:\n",
        "        # Undo the 2nd Differencing\n",
        "        if second_diff:\n",
        "            df_forecast[str(col)] = (ds[col].iloc[-1] - ds[col].iloc[-2]) + df_forecast[str(col)].cumsum()\n",
        "\n",
        "        # Undo the 1st Differencing\n",
        "        df_forecast[str(col)] = ds[col].iloc[-1] + df_forecast[str(col)].cumsum()\n",
        "\n",
        "    return df_forecast"
      ],
      "metadata": {
        "id": "fnVeKvm_rIbE"
      },
      "execution_count": 55,
      "outputs": []
    },
    {
      "cell_type": "code",
      "source": [
        "pred.columns=X_test.columns\n",
        "output = invert_transformation(X_train, pred, second_diff=False)\n",
        "output"
      ],
      "metadata": {
        "colab": {
          "base_uri": "https://localhost:8080/",
          "height": 457
        },
        "id": "EYQA2HSNrWuQ",
        "outputId": "f68960d4-60d0-497d-bba5-774019c45c11"
      },
      "execution_count": 56,
      "outputs": [
        {
          "output_type": "execute_result",
          "data": {
            "text/plain": [
              "            Compraventa_Unitario      Pm25\n",
              "Fecha                                     \n",
              "2022-01-01           2445.973648  2.017836\n",
              "2022-02-01           2472.669852  2.008135\n",
              "2022-03-01           2475.767359  2.007325\n",
              "2022-04-01           2449.246260  1.920170\n",
              "2022-05-01           2451.391645  1.915575\n",
              "2022-06-01           2448.176805  1.917027\n",
              "2022-07-01           2424.799659  1.875312\n",
              "2022-08-01           2417.584606  1.849848\n",
              "2022-09-01           2414.456713  1.845113\n",
              "2022-10-01           2440.366130  1.846134\n",
              "2022-11-01           2446.670668  1.838488\n",
              "2022-12-01           2447.069490  1.838167"
            ],
            "text/html": [
              "\n",
              "  <div id=\"df-ab8fa5af-4969-4782-a2ea-bde860f42148\" class=\"colab-df-container\">\n",
              "    <div>\n",
              "<style scoped>\n",
              "    .dataframe tbody tr th:only-of-type {\n",
              "        vertical-align: middle;\n",
              "    }\n",
              "\n",
              "    .dataframe tbody tr th {\n",
              "        vertical-align: top;\n",
              "    }\n",
              "\n",
              "    .dataframe thead th {\n",
              "        text-align: right;\n",
              "    }\n",
              "</style>\n",
              "<table border=\"1\" class=\"dataframe\">\n",
              "  <thead>\n",
              "    <tr style=\"text-align: right;\">\n",
              "      <th></th>\n",
              "      <th>Compraventa_Unitario</th>\n",
              "      <th>Pm25</th>\n",
              "    </tr>\n",
              "    <tr>\n",
              "      <th>Fecha</th>\n",
              "      <th></th>\n",
              "      <th></th>\n",
              "    </tr>\n",
              "  </thead>\n",
              "  <tbody>\n",
              "    <tr>\n",
              "      <th>2022-01-01</th>\n",
              "      <td>2445.973648</td>\n",
              "      <td>2.017836</td>\n",
              "    </tr>\n",
              "    <tr>\n",
              "      <th>2022-02-01</th>\n",
              "      <td>2472.669852</td>\n",
              "      <td>2.008135</td>\n",
              "    </tr>\n",
              "    <tr>\n",
              "      <th>2022-03-01</th>\n",
              "      <td>2475.767359</td>\n",
              "      <td>2.007325</td>\n",
              "    </tr>\n",
              "    <tr>\n",
              "      <th>2022-04-01</th>\n",
              "      <td>2449.246260</td>\n",
              "      <td>1.920170</td>\n",
              "    </tr>\n",
              "    <tr>\n",
              "      <th>2022-05-01</th>\n",
              "      <td>2451.391645</td>\n",
              "      <td>1.915575</td>\n",
              "    </tr>\n",
              "    <tr>\n",
              "      <th>2022-06-01</th>\n",
              "      <td>2448.176805</td>\n",
              "      <td>1.917027</td>\n",
              "    </tr>\n",
              "    <tr>\n",
              "      <th>2022-07-01</th>\n",
              "      <td>2424.799659</td>\n",
              "      <td>1.875312</td>\n",
              "    </tr>\n",
              "    <tr>\n",
              "      <th>2022-08-01</th>\n",
              "      <td>2417.584606</td>\n",
              "      <td>1.849848</td>\n",
              "    </tr>\n",
              "    <tr>\n",
              "      <th>2022-09-01</th>\n",
              "      <td>2414.456713</td>\n",
              "      <td>1.845113</td>\n",
              "    </tr>\n",
              "    <tr>\n",
              "      <th>2022-10-01</th>\n",
              "      <td>2440.366130</td>\n",
              "      <td>1.846134</td>\n",
              "    </tr>\n",
              "    <tr>\n",
              "      <th>2022-11-01</th>\n",
              "      <td>2446.670668</td>\n",
              "      <td>1.838488</td>\n",
              "    </tr>\n",
              "    <tr>\n",
              "      <th>2022-12-01</th>\n",
              "      <td>2447.069490</td>\n",
              "      <td>1.838167</td>\n",
              "    </tr>\n",
              "  </tbody>\n",
              "</table>\n",
              "</div>\n",
              "    <div class=\"colab-df-buttons\">\n",
              "\n",
              "  <div class=\"colab-df-container\">\n",
              "    <button class=\"colab-df-convert\" onclick=\"convertToInteractive('df-ab8fa5af-4969-4782-a2ea-bde860f42148')\"\n",
              "            title=\"Convert this dataframe to an interactive table.\"\n",
              "            style=\"display:none;\">\n",
              "\n",
              "  <svg xmlns=\"http://www.w3.org/2000/svg\" height=\"24px\" viewBox=\"0 -960 960 960\">\n",
              "    <path d=\"M120-120v-720h720v720H120Zm60-500h600v-160H180v160Zm220 220h160v-160H400v160Zm0 220h160v-160H400v160ZM180-400h160v-160H180v160Zm440 0h160v-160H620v160ZM180-180h160v-160H180v160Zm440 0h160v-160H620v160Z\"/>\n",
              "  </svg>\n",
              "    </button>\n",
              "\n",
              "  <style>\n",
              "    .colab-df-container {\n",
              "      display:flex;\n",
              "      gap: 12px;\n",
              "    }\n",
              "\n",
              "    .colab-df-convert {\n",
              "      background-color: #E8F0FE;\n",
              "      border: none;\n",
              "      border-radius: 50%;\n",
              "      cursor: pointer;\n",
              "      display: none;\n",
              "      fill: #1967D2;\n",
              "      height: 32px;\n",
              "      padding: 0 0 0 0;\n",
              "      width: 32px;\n",
              "    }\n",
              "\n",
              "    .colab-df-convert:hover {\n",
              "      background-color: #E2EBFA;\n",
              "      box-shadow: 0px 1px 2px rgba(60, 64, 67, 0.3), 0px 1px 3px 1px rgba(60, 64, 67, 0.15);\n",
              "      fill: #174EA6;\n",
              "    }\n",
              "\n",
              "    .colab-df-buttons div {\n",
              "      margin-bottom: 4px;\n",
              "    }\n",
              "\n",
              "    [theme=dark] .colab-df-convert {\n",
              "      background-color: #3B4455;\n",
              "      fill: #D2E3FC;\n",
              "    }\n",
              "\n",
              "    [theme=dark] .colab-df-convert:hover {\n",
              "      background-color: #434B5C;\n",
              "      box-shadow: 0px 1px 3px 1px rgba(0, 0, 0, 0.15);\n",
              "      filter: drop-shadow(0px 1px 2px rgba(0, 0, 0, 0.3));\n",
              "      fill: #FFFFFF;\n",
              "    }\n",
              "  </style>\n",
              "\n",
              "    <script>\n",
              "      const buttonEl =\n",
              "        document.querySelector('#df-ab8fa5af-4969-4782-a2ea-bde860f42148 button.colab-df-convert');\n",
              "      buttonEl.style.display =\n",
              "        google.colab.kernel.accessAllowed ? 'block' : 'none';\n",
              "\n",
              "      async function convertToInteractive(key) {\n",
              "        const element = document.querySelector('#df-ab8fa5af-4969-4782-a2ea-bde860f42148');\n",
              "        const dataTable =\n",
              "          await google.colab.kernel.invokeFunction('convertToInteractive',\n",
              "                                                    [key], {});\n",
              "        if (!dataTable) return;\n",
              "\n",
              "        const docLinkHtml = 'Like what you see? Visit the ' +\n",
              "          '<a target=\"_blank\" href=https://colab.research.google.com/notebooks/data_table.ipynb>data table notebook</a>'\n",
              "          + ' to learn more about interactive tables.';\n",
              "        element.innerHTML = '';\n",
              "        dataTable['output_type'] = 'display_data';\n",
              "        await google.colab.output.renderOutput(dataTable, element);\n",
              "        const docLink = document.createElement('div');\n",
              "        docLink.innerHTML = docLinkHtml;\n",
              "        element.appendChild(docLink);\n",
              "      }\n",
              "    </script>\n",
              "  </div>\n",
              "\n",
              "\n",
              "<div id=\"df-b53fdcd4-9daa-44f7-82eb-fc0e5da22c92\">\n",
              "  <button class=\"colab-df-quickchart\" onclick=\"quickchart('df-b53fdcd4-9daa-44f7-82eb-fc0e5da22c92')\"\n",
              "            title=\"Suggest charts\"\n",
              "            style=\"display:none;\">\n",
              "\n",
              "<svg xmlns=\"http://www.w3.org/2000/svg\" height=\"24px\"viewBox=\"0 0 24 24\"\n",
              "     width=\"24px\">\n",
              "    <g>\n",
              "        <path d=\"M19 3H5c-1.1 0-2 .9-2 2v14c0 1.1.9 2 2 2h14c1.1 0 2-.9 2-2V5c0-1.1-.9-2-2-2zM9 17H7v-7h2v7zm4 0h-2V7h2v10zm4 0h-2v-4h2v4z\"/>\n",
              "    </g>\n",
              "</svg>\n",
              "  </button>\n",
              "\n",
              "<style>\n",
              "  .colab-df-quickchart {\n",
              "      --bg-color: #E8F0FE;\n",
              "      --fill-color: #1967D2;\n",
              "      --hover-bg-color: #E2EBFA;\n",
              "      --hover-fill-color: #174EA6;\n",
              "      --disabled-fill-color: #AAA;\n",
              "      --disabled-bg-color: #DDD;\n",
              "  }\n",
              "\n",
              "  [theme=dark] .colab-df-quickchart {\n",
              "      --bg-color: #3B4455;\n",
              "      --fill-color: #D2E3FC;\n",
              "      --hover-bg-color: #434B5C;\n",
              "      --hover-fill-color: #FFFFFF;\n",
              "      --disabled-bg-color: #3B4455;\n",
              "      --disabled-fill-color: #666;\n",
              "  }\n",
              "\n",
              "  .colab-df-quickchart {\n",
              "    background-color: var(--bg-color);\n",
              "    border: none;\n",
              "    border-radius: 50%;\n",
              "    cursor: pointer;\n",
              "    display: none;\n",
              "    fill: var(--fill-color);\n",
              "    height: 32px;\n",
              "    padding: 0;\n",
              "    width: 32px;\n",
              "  }\n",
              "\n",
              "  .colab-df-quickchart:hover {\n",
              "    background-color: var(--hover-bg-color);\n",
              "    box-shadow: 0 1px 2px rgba(60, 64, 67, 0.3), 0 1px 3px 1px rgba(60, 64, 67, 0.15);\n",
              "    fill: var(--button-hover-fill-color);\n",
              "  }\n",
              "\n",
              "  .colab-df-quickchart-complete:disabled,\n",
              "  .colab-df-quickchart-complete:disabled:hover {\n",
              "    background-color: var(--disabled-bg-color);\n",
              "    fill: var(--disabled-fill-color);\n",
              "    box-shadow: none;\n",
              "  }\n",
              "\n",
              "  .colab-df-spinner {\n",
              "    border: 2px solid var(--fill-color);\n",
              "    border-color: transparent;\n",
              "    border-bottom-color: var(--fill-color);\n",
              "    animation:\n",
              "      spin 1s steps(1) infinite;\n",
              "  }\n",
              "\n",
              "  @keyframes spin {\n",
              "    0% {\n",
              "      border-color: transparent;\n",
              "      border-bottom-color: var(--fill-color);\n",
              "      border-left-color: var(--fill-color);\n",
              "    }\n",
              "    20% {\n",
              "      border-color: transparent;\n",
              "      border-left-color: var(--fill-color);\n",
              "      border-top-color: var(--fill-color);\n",
              "    }\n",
              "    30% {\n",
              "      border-color: transparent;\n",
              "      border-left-color: var(--fill-color);\n",
              "      border-top-color: var(--fill-color);\n",
              "      border-right-color: var(--fill-color);\n",
              "    }\n",
              "    40% {\n",
              "      border-color: transparent;\n",
              "      border-right-color: var(--fill-color);\n",
              "      border-top-color: var(--fill-color);\n",
              "    }\n",
              "    60% {\n",
              "      border-color: transparent;\n",
              "      border-right-color: var(--fill-color);\n",
              "    }\n",
              "    80% {\n",
              "      border-color: transparent;\n",
              "      border-right-color: var(--fill-color);\n",
              "      border-bottom-color: var(--fill-color);\n",
              "    }\n",
              "    90% {\n",
              "      border-color: transparent;\n",
              "      border-bottom-color: var(--fill-color);\n",
              "    }\n",
              "  }\n",
              "</style>\n",
              "\n",
              "  <script>\n",
              "    async function quickchart(key) {\n",
              "      const quickchartButtonEl =\n",
              "        document.querySelector('#' + key + ' button');\n",
              "      quickchartButtonEl.disabled = true;  // To prevent multiple clicks.\n",
              "      quickchartButtonEl.classList.add('colab-df-spinner');\n",
              "      try {\n",
              "        const charts = await google.colab.kernel.invokeFunction(\n",
              "            'suggestCharts', [key], {});\n",
              "      } catch (error) {\n",
              "        console.error('Error during call to suggestCharts:', error);\n",
              "      }\n",
              "      quickchartButtonEl.classList.remove('colab-df-spinner');\n",
              "      quickchartButtonEl.classList.add('colab-df-quickchart-complete');\n",
              "    }\n",
              "    (() => {\n",
              "      let quickchartButtonEl =\n",
              "        document.querySelector('#df-b53fdcd4-9daa-44f7-82eb-fc0e5da22c92 button');\n",
              "      quickchartButtonEl.style.display =\n",
              "        google.colab.kernel.accessAllowed ? 'block' : 'none';\n",
              "    })();\n",
              "  </script>\n",
              "</div>\n",
              "    </div>\n",
              "  </div>\n"
            ],
            "application/vnd.google.colaboratory.intrinsic+json": {
              "type": "dataframe",
              "variable_name": "pred",
              "summary": "{\n  \"name\": \"pred\",\n  \"rows\": 12,\n  \"fields\": [\n    {\n      \"column\": \"Fecha\",\n      \"properties\": {\n        \"dtype\": \"date\",\n        \"min\": \"2022-01-01 00:00:00\",\n        \"max\": \"2022-12-01 00:00:00\",\n        \"num_unique_values\": 12,\n        \"samples\": [\n          \"2022-11-01 00:00:00\",\n          \"2022-10-01 00:00:00\",\n          \"2022-01-01 00:00:00\"\n        ],\n        \"semantic_type\": \"\",\n        \"description\": \"\"\n      }\n    },\n    {\n      \"column\": \"Compraventa_Unitario\",\n      \"properties\": {\n        \"dtype\": \"number\",\n        \"std\": 18.830444490451708,\n        \"min\": 2414.4567127489877,\n        \"max\": 2475.7673591471453,\n        \"num_unique_values\": 12,\n        \"samples\": [\n          2446.6706675387672,\n          2440.366129850156,\n          2445.973647596549\n        ],\n        \"semantic_type\": \"\",\n        \"description\": \"\"\n      }\n    },\n    {\n      \"column\": \"Pm25\",\n      \"properties\": {\n        \"dtype\": \"number\",\n        \"std\": 0.07016909283611081,\n        \"min\": 1.8381673485979917,\n        \"max\": 2.01783636360671,\n        \"num_unique_values\": 12,\n        \"samples\": [\n          1.838488271798173,\n          1.8461339260149752,\n          2.01783636360671\n        ],\n        \"semantic_type\": \"\",\n        \"description\": \"\"\n      }\n    }\n  ]\n}"
            }
          },
          "metadata": {},
          "execution_count": 56
        }
      ]
    },
    {
      "cell_type": "code",
      "source": [
        "# Actual vs Forecasted Plots\n",
        "fig, axes = plt.subplots(nrows = int(len(X_train.columns)), ncols = 1, dpi = 100, figsize = (14,10))\n",
        "mi_lista = ['€/m²', '']\n",
        "\n",
        "for i, (col,ax) in enumerate(zip(X_train.columns, axes.flatten())):\n",
        "    output[col].plot(color = '#00FF00', legend = True, ax = ax).autoscale(axis =' x',tight = True)\n",
        "    X_test[col].plot(color = '#F4511E', legend = True, ax = ax)\n",
        "    X_train[col].plot(color = '#3949AB', legend = True, ax = ax)\n",
        "\n",
        "    ax.set_title('Variable: ' + col + ' - Actual vs Forecast')\n",
        "    ax.set_ylabel(mi_lista[i])  # Establecer etiqueta del eje y\n",
        "    ax.xaxis.set_ticks_position('none')\n",
        "    ax.yaxis.set_ticks_position('none')\n",
        "\n",
        "    ax.spines[\"top\"].set_alpha(0)\n",
        "    ax.tick_params(labelsize = 6)\n",
        "\n",
        "plt.tight_layout()\n",
        "plt.savefig('actual_forecast.png')\n",
        "plt.show()"
      ],
      "metadata": {
        "colab": {
          "base_uri": "https://localhost:8080/",
          "height": 1000
        },
        "id": "21T4tXbArzmD",
        "outputId": "9cb6a073-5eec-464c-c73b-3b2a62fdafb1"
      },
      "execution_count": 57,
      "outputs": [
        {
          "output_type": "display_data",
          "data": {
            "text/plain": [
              "<Figure size 1400x1000 with 2 Axes>"
            ],
            "image/png": "[encoded data removed]"
          },
          "metadata": {}
        }
      ]
    },
    {
      "cell_type": "markdown",
      "source": [
        "#### Evaluando el modelo\n"
      ],
      "metadata": {
        "id": "g7XKm5vYsRXL"
      }
    },
    {
      "cell_type": "code",
      "source": [
        "def timeseries_evaluation_metrics_func(y_true, y_pred):\n",
        "\n",
        "    def mean_absolute_percentage_error(y_true, y_pred):\n",
        "        y_true, y_pred = np.array(y_true), np.array(y_pred)\n",
        "        return np.mean(np.abs((y_true - y_pred) / y_true)) * 100\n",
        "    print('Evaluation metric results:-')\n",
        "    print(f'MSE is : {metrics.mean_squared_error(y_true, y_pred)}')\n",
        "    print(f'MAE is : {metrics.mean_absolute_error(y_true, y_pred)}')\n",
        "    print(f'RMSE is : {np.sqrt(metrics.mean_squared_error(y_true, y_pred))}')\n",
        "    print(f'MAPE is : {mean_absolute_percentage_error(y_true, y_pred)}')\n",
        "    print(f'R2 is : {metrics.r2_score(y_true, y_pred)}',end='\\n\\n')"
      ],
      "metadata": {
        "id": "tZlif6BVyDXn"
      },
      "execution_count": null,
      "outputs": []
    },
    {
      "cell_type": "code",
      "source": [
        "for i in ['Compraventa_Unitario','Pm25']:\n",
        "    print(f'Evaluation metric for {i}')\n",
        "    timeseries_evaluation_metrics_func(X_test[str(i)] , output[str(i)])"
      ],
      "metadata": {
        "colab": {
          "base_uri": "https://localhost:8080/"
        },
        "id": "1ooDzvgfxqv8",
        "outputId": "91fddb84-4249-49e7-84c2-0cd40c3ebb2b"
      },
      "execution_count": null,
      "outputs": [
        {
          "output_type": "stream",
          "name": "stdout",
          "text": [
            "Evaluation metric for Compraventa_Unitario\n",
            "Evaluation metric results:-\n",
            "MSE is : 17587.20399165942\n",
            "MAE is : 121.8398015043221\n",
            "RMSE is : 132.61675607425866\n",
            "MAPE is : 5.287715095187844\n",
            "R2 is : -8.174384417375233\n",
            "\n",
            "Evaluation metric for Pm25\n",
            "Evaluation metric results:-\n",
            "MSE is : 0.04528108003494887\n",
            "MAE is : 0.2019100961103556\n",
            "RMSE is : 0.21279351502089736\n",
            "MAPE is : 9.575986477556501\n",
            "R2 is : 0.0\n",
            "\n"
          ]
        }
      ]
    },
    {
      "cell_type": "markdown",
      "source": [
        "Las métricas de evaluación muestran que el modelo para \"Compraventa_Unitario\" tiene un desempeño moderado con un MSE de 17587.20 y un R2 negativo, lo que sugiere que el modelo no explica bien la variabilidad de los datos y puede necesitar mejoras. Por otro lado, el modelo para \"Pm25\" parece tener un desempeño deficiente, con un MSE alto de 0.045 y un R2 nulo, lo que indica que el modelo no se ajusta adecuadamente a los datos."
      ],
      "metadata": {
        "id": "X3gBk6yZxW4d"
      }
    },
    {
      "cell_type": "code",
      "source": [
        "from sklearn.metrics import mean_absolute_error, mean_squared_error\n",
        "print('Mean absolute error:', mean_absolute_error(X_test, output))\n",
        "print('Root mean squared error:', np.sqrt(mean_squared_error(X_test, output)))"
      ],
      "metadata": {
        "colab": {
          "base_uri": "https://localhost:8080/"
        },
        "id": "jJEaSX0EsQLR",
        "outputId": "60561b23-1ce8-4f43-fcdd-05569fdc286f"
      },
      "execution_count": 58,
      "outputs": [
        {
          "output_type": "stream",
          "name": "stdout",
          "text": [
            "Mean absolute error: 61.020855800216225\n",
            "Root mean squared error: 93.7743282373685\n"
          ]
        }
      ]
    },
    {
      "cell_type": "markdown",
      "source": [
        "### Modelo VARMAX (Auto Arima)"
      ],
      "metadata": {
        "id": "YlcNq7Vxjgdp"
      }
    },
    {
      "cell_type": "markdown",
      "source": [
        "El modelo VARMAX es una extension del modelo VAR que permite incorporar variebles exogenas, es decir, varibales externas que pueden afectar a las series temporales del sistema, es decir, que ademas de modelar la dependencia entre las variables del sistema, el VARMAX tambien puede capturar la influencia de variables externas sobre las series temporales."
      ],
      "metadata": {
        "id": "eDHgPQ8HXXL3"
      }
    },
    {
      "cell_type": "code",
      "source": [
        "!pip install pmdarima"
      ],
      "metadata": {
        "colab": {
          "base_uri": "https://localhost:8080/"
        },
        "id": "uEX49EBAkjO0",
        "outputId": "194b5bc5-14ad-4c88-957c-b4b32fa4d57f"
      },
      "execution_count": 59,
      "outputs": [
        {
          "output_type": "stream",
          "name": "stdout",
          "text": [
            "Collecting pmdarima\n",
            "  Downloading pmdarima-2.0.4-cp310-cp310-manylinux_2_17_x86_64.manylinux2014_x86_64.manylinux_2_28_x86_64.whl (2.1 MB)\n",
            "\u001b[2K     \u001b[90m━━━━━━━━━━━━━━━━━━━━━━━━━━━━━━━━━━━━━━━━\u001b[0m \u001b[32m2.1/2.1 MB\u001b[0m \u001b[31m18.5 MB/s\u001b[0m eta \u001b[36m0:00:00\u001b[0m\n",
            "\u001b[?25hRequirement already satisfied: joblib>=0.11 in /usr/local/lib/python3.10/dist-packages (from pmdarima) (1.4.2)\n",
            "Requirement already satisfied: Cython!=0.29.18,!=0.29.31,>=0.29 in /usr/local/lib/python3.10/dist-packages (from pmdarima) (3.0.10)\n",
            "Requirement already satisfied: numpy>=1.21.2 in /usr/local/lib/python3.10/dist-packages (from pmdarima) (1.25.2)\n",
            "Requirement already satisfied: pandas>=0.19 in /usr/local/lib/python3.10/dist-packages (from pmdarima) (2.0.3)\n",
            "Requirement already satisfied: scikit-learn>=0.22 in /usr/local/lib/python3.10/dist-packages (from pmdarima) (1.2.2)\n",
            "Requirement already satisfied: scipy>=1.3.2 in /usr/local/lib/python3.10/dist-packages (from pmdarima) (1.11.4)\n",
            "Requirement already satisfied: statsmodels>=0.13.2 in /usr/local/lib/python3.10/dist-packages (from pmdarima) (0.14.2)\n",
            "Requirement already satisfied: urllib3 in /usr/local/lib/python3.10/dist-packages (from pmdarima) (2.0.7)\n",
            "Requirement already satisfied: setuptools!=50.0.0,>=38.6.0 in /usr/local/lib/python3.10/dist-packages (from pmdarima) (67.7.2)\n",
            "Requirement already satisfied: packaging>=17.1 in /usr/local/lib/python3.10/dist-packages (from pmdarima) (24.0)\n",
            "Requirement already satisfied: python-dateutil>=2.8.2 in /usr/local/lib/python3.10/dist-packages (from pandas>=0.19->pmdarima) (2.8.2)\n",
            "Requirement already satisfied: pytz>=2020.1 in /usr/local/lib/python3.10/dist-packages (from pandas>=0.19->pmdarima) (2023.4)\n",
            "Requirement already satisfied: tzdata>=2022.1 in /usr/local/lib/python3.10/dist-packages (from pandas>=0.19->pmdarima) (2024.1)\n",
            "Requirement already satisfied: threadpoolctl>=2.0.0 in /usr/local/lib/python3.10/dist-packages (from scikit-learn>=0.22->pmdarima) (3.5.0)\n",
            "Requirement already satisfied: patsy>=0.5.6 in /usr/local/lib/python3.10/dist-packages (from statsmodels>=0.13.2->pmdarima) (0.5.6)\n",
            "Requirement already satisfied: six in /usr/local/lib/python3.10/dist-packages (from patsy>=0.5.6->statsmodels>=0.13.2->pmdarima) (1.16.0)\n",
            "Installing collected packages: pmdarima\n",
            "Successfully installed pmdarima-2.0.4\n"
          ]
        }
      ]
    },
    {
      "cell_type": "markdown",
      "source": [
        "#### Dividir los datos en conjuntos de Entrenamiento Y Prueba"
      ],
      "metadata": {
        "id": "Tpok01pGRdhH"
      }
    },
    {
      "cell_type": "code",
      "source": [
        "fecha_division = '2022-01-01'\n",
        "\n",
        "X_train, X_test = df[df.index<fecha_division], df[df.index>=fecha_division]\n",
        "print(X_train.shape, X_test.shape)"
      ],
      "metadata": {
        "colab": {
          "base_uri": "https://localhost:8080/"
        },
        "id": "VRUGB5c9mjLn",
        "outputId": "6da324fe-bae6-4f00-82cf-cf587047644a"
      },
      "execution_count": 60,
      "outputs": [
        {
          "output_type": "stream",
          "name": "stdout",
          "text": [
            "(48, 2) (12, 2)\n"
          ]
        }
      ]
    },
    {
      "cell_type": "markdown",
      "source": [
        "#### Prueba de estacionariedad"
      ],
      "metadata": {
        "id": "yApANc3CRuP2"
      }
    },
    {
      "cell_type": "markdown",
      "source": [
        "Necesitamos que los datos sean estacionarios para poder usar el modelo VAR. Vamos a averiguarlo haciendo un Test de Dickey-Fuller aumentado, a cada variable univariante que tiene nuestro dataset."
      ],
      "metadata": {
        "id": "XOYDouwOpjcn"
      }
    },
    {
      "cell_type": "code",
      "source": [
        "def augmented_dickey_fuller_statistics(time_series):\n",
        "  result = sts.adfuller(time_series.values)\n",
        "  print('p-value: %f' % result[1])\n",
        "\n",
        "print('Test de Dickey-Fuller Aumentado:')\n",
        "for i in range(len(X_train.columns)):\n",
        "  print('Serie de tiempo',X_train.columns[i])\n",
        "  augmented_dickey_fuller_statistics(X_train.iloc[:,i])"
      ],
      "metadata": {
        "colab": {
          "base_uri": "https://localhost:8080/"
        },
        "id": "FSWF4aigkwNc",
        "outputId": "504498ee-3e61-493d-b563-fe462dfe7ca2"
      },
      "execution_count": 61,
      "outputs": [
        {
          "output_type": "stream",
          "name": "stdout",
          "text": [
            "Test de Dickey-Fuller Aumentado:\n",
            "Serie de tiempo Compraventa_Unitario\n",
            "p-value: 0.087699\n",
            "Serie de tiempo Pm25\n",
            "p-value: 0.778140\n"
          ]
        }
      ]
    },
    {
      "cell_type": "markdown",
      "source": [
        "Los p-valores son mayores que 0.05, con lo cual no se rechaza la hipótesis nula de que la serie no es estacionaria. Habría que transformar los datos porque no se puede confirmar estacionariedad."
      ],
      "metadata": {
        "id": "U6ZK0F4EpbzT"
      }
    },
    {
      "cell_type": "code",
      "source": [
        "#Diferenciando por primera vez\n",
        "X_train_transformed=X_train.diff().dropna()\n",
        "X_train_transformed.head()"
      ],
      "metadata": {
        "colab": {
          "base_uri": "https://localhost:8080/",
          "height": 237
        },
        "id": "aLKLxKlBnduc",
        "outputId": "aab37e20-7d32-4123-f67f-1d14f3496acf"
      },
      "execution_count": 62,
      "outputs": [
        {
          "output_type": "execute_result",
          "data": {
            "text/plain": [
              "            Compraventa_Unitario  Pm25\n",
              "Fecha                                 \n",
              "2018-02-01              0.000000   0.0\n",
              "2018-03-01              0.000000   0.0\n",
              "2018-04-01             14.546154   0.0\n",
              "2018-05-01              0.000000   0.0\n",
              "2018-06-01              0.000000   0.0"
            ],
            "text/html": [
              "\n",
              "  <div id=\"df-cac90db5-49ae-4455-a90f-55eaceea0e81\" class=\"colab-df-container\">\n",
              "    <div>\n",
              "<style scoped>\n",
              "    .dataframe tbody tr th:only-of-type {\n",
              "        vertical-align: middle;\n",
              "    }\n",
              "\n",
              "    .dataframe tbody tr th {\n",
              "        vertical-align: top;\n",
              "    }\n",
              "\n",
              "    .dataframe thead th {\n",
              "        text-align: right;\n",
              "    }\n",
              "</style>\n",
              "<table border=\"1\" class=\"dataframe\">\n",
              "  <thead>\n",
              "    <tr style=\"text-align: right;\">\n",
              "      <th></th>\n",
              "      <th>Compraventa_Unitario</th>\n",
              "      <th>Pm25</th>\n",
              "    </tr>\n",
              "    <tr>\n",
              "      <th>Fecha</th>\n",
              "      <th></th>\n",
              "      <th></th>\n",
              "    </tr>\n",
              "  </thead>\n",
              "  <tbody>\n",
              "    <tr>\n",
              "      <th>2018-02-01</th>\n",
              "      <td>0.000000</td>\n",
              "      <td>0.0</td>\n",
              "    </tr>\n",
              "    <tr>\n",
              "      <th>2018-03-01</th>\n",
              "      <td>0.000000</td>\n",
              "      <td>0.0</td>\n",
              "    </tr>\n",
              "    <tr>\n",
              "      <th>2018-04-01</th>\n",
              "      <td>14.546154</td>\n",
              "      <td>0.0</td>\n",
              "    </tr>\n",
              "    <tr>\n",
              "      <th>2018-05-01</th>\n",
              "      <td>0.000000</td>\n",
              "      <td>0.0</td>\n",
              "    </tr>\n",
              "    <tr>\n",
              "      <th>2018-06-01</th>\n",
              "      <td>0.000000</td>\n",
              "      <td>0.0</td>\n",
              "    </tr>\n",
              "  </tbody>\n",
              "</table>\n",
              "</div>\n",
              "    <div class=\"colab-df-buttons\">\n",
              "\n",
              "  <div class=\"colab-df-container\">\n",
              "    <button class=\"colab-df-convert\" onclick=\"convertToInteractive('df-cac90db5-49ae-4455-a90f-55eaceea0e81')\"\n",
              "            title=\"Convert this dataframe to an interactive table.\"\n",
              "            style=\"display:none;\">\n",
              "\n",
              "  <svg xmlns=\"http://www.w3.org/2000/svg\" height=\"24px\" viewBox=\"0 -960 960 960\">\n",
              "    <path d=\"M120-120v-720h720v720H120Zm60-500h600v-160H180v160Zm220 220h160v-160H400v160Zm0 220h160v-160H400v160ZM180-400h160v-160H180v160Zm440 0h160v-160H620v160ZM180-180h160v-160H180v160Zm440 0h160v-160H620v160Z\"/>\n",
              "  </svg>\n",
              "    </button>\n",
              "\n",
              "  <style>\n",
              "    .colab-df-container {\n",
              "      display:flex;\n",
              "      gap: 12px;\n",
              "    }\n",
              "\n",
              "    .colab-df-convert {\n",
              "      background-color: #E8F0FE;\n",
              "      border: none;\n",
              "      border-radius: 50%;\n",
              "      cursor: pointer;\n",
              "      display: none;\n",
              "      fill: #1967D2;\n",
              "      height: 32px;\n",
              "      padding: 0 0 0 0;\n",
              "      width: 32px;\n",
              "    }\n",
              "\n",
              "    .colab-df-convert:hover {\n",
              "      background-color: #E2EBFA;\n",
              "      box-shadow: 0px 1px 2px rgba(60, 64, 67, 0.3), 0px 1px 3px 1px rgba(60, 64, 67, 0.15);\n",
              "      fill: #174EA6;\n",
              "    }\n",
              "\n",
              "    .colab-df-buttons div {\n",
              "      margin-bottom: 4px;\n",
              "    }\n",
              "\n",
              "    [theme=dark] .colab-df-convert {\n",
              "      background-color: #3B4455;\n",
              "      fill: #D2E3FC;\n",
              "    }\n",
              "\n",
              "    [theme=dark] .colab-df-convert:hover {\n",
              "      background-color: #434B5C;\n",
              "      box-shadow: 0px 1px 3px 1px rgba(0, 0, 0, 0.15);\n",
              "      filter: drop-shadow(0px 1px 2px rgba(0, 0, 0, 0.3));\n",
              "      fill: #FFFFFF;\n",
              "    }\n",
              "  </style>\n",
              "\n",
              "    <script>\n",
              "      const buttonEl =\n",
              "        document.querySelector('#df-cac90db5-49ae-4455-a90f-55eaceea0e81 button.colab-df-convert');\n",
              "      buttonEl.style.display =\n",
              "        google.colab.kernel.accessAllowed ? 'block' : 'none';\n",
              "\n",
              "      async function convertToInteractive(key) {\n",
              "        const element = document.querySelector('#df-cac90db5-49ae-4455-a90f-55eaceea0e81');\n",
              "        const dataTable =\n",
              "          await google.colab.kernel.invokeFunction('convertToInteractive',\n",
              "                                                    [key], {});\n",
              "        if (!dataTable) return;\n",
              "\n",
              "        const docLinkHtml = 'Like what you see? Visit the ' +\n",
              "          '<a target=\"_blank\" href=https://colab.research.google.com/notebooks/data_table.ipynb>data table notebook</a>'\n",
              "          + ' to learn more about interactive tables.';\n",
              "        element.innerHTML = '';\n",
              "        dataTable['output_type'] = 'display_data';\n",
              "        await google.colab.output.renderOutput(dataTable, element);\n",
              "        const docLink = document.createElement('div');\n",
              "        docLink.innerHTML = docLinkHtml;\n",
              "        element.appendChild(docLink);\n",
              "      }\n",
              "    </script>\n",
              "  </div>\n",
              "\n",
              "\n",
              "<div id=\"df-f18c36da-6946-44e2-ac7f-b22cfaeba675\">\n",
              "  <button class=\"colab-df-quickchart\" onclick=\"quickchart('df-f18c36da-6946-44e2-ac7f-b22cfaeba675')\"\n",
              "            title=\"Suggest charts\"\n",
              "            style=\"display:none;\">\n",
              "\n",
              "<svg xmlns=\"http://www.w3.org/2000/svg\" height=\"24px\"viewBox=\"0 0 24 24\"\n",
              "     width=\"24px\">\n",
              "    <g>\n",
              "        <path d=\"M19 3H5c-1.1 0-2 .9-2 2v14c0 1.1.9 2 2 2h14c1.1 0 2-.9 2-2V5c0-1.1-.9-2-2-2zM9 17H7v-7h2v7zm4 0h-2V7h2v10zm4 0h-2v-4h2v4z\"/>\n",
              "    </g>\n",
              "</svg>\n",
              "  </button>\n",
              "\n",
              "<style>\n",
              "  .colab-df-quickchart {\n",
              "      --bg-color: #E8F0FE;\n",
              "      --fill-color: #1967D2;\n",
              "      --hover-bg-color: #E2EBFA;\n",
              "      --hover-fill-color: #174EA6;\n",
              "      --disabled-fill-color: #AAA;\n",
              "      --disabled-bg-color: #DDD;\n",
              "  }\n",
              "\n",
              "  [theme=dark] .colab-df-quickchart {\n",
              "      --bg-color: #3B4455;\n",
              "      --fill-color: #D2E3FC;\n",
              "      --hover-bg-color: #434B5C;\n",
              "      --hover-fill-color: #FFFFFF;\n",
              "      --disabled-bg-color: #3B4455;\n",
              "      --disabled-fill-color: #666;\n",
              "  }\n",
              "\n",
              "  .colab-df-quickchart {\n",
              "    background-color: var(--bg-color);\n",
              "    border: none;\n",
              "    border-radius: 50%;\n",
              "    cursor: pointer;\n",
              "    display: none;\n",
              "    fill: var(--fill-color);\n",
              "    height: 32px;\n",
              "    padding: 0;\n",
              "    width: 32px;\n",
              "  }\n",
              "\n",
              "  .colab-df-quickchart:hover {\n",
              "    background-color: var(--hover-bg-color);\n",
              "    box-shadow: 0 1px 2px rgba(60, 64, 67, 0.3), 0 1px 3px 1px rgba(60, 64, 67, 0.15);\n",
              "    fill: var(--button-hover-fill-color);\n",
              "  }\n",
              "\n",
              "  .colab-df-quickchart-complete:disabled,\n",
              "  .colab-df-quickchart-complete:disabled:hover {\n",
              "    background-color: var(--disabled-bg-color);\n",
              "    fill: var(--disabled-fill-color);\n",
              "    box-shadow: none;\n",
              "  }\n",
              "\n",
              "  .colab-df-spinner {\n",
              "    border: 2px solid var(--fill-color);\n",
              "    border-color: transparent;\n",
              "    border-bottom-color: var(--fill-color);\n",
              "    animation:\n",
              "      spin 1s steps(1) infinite;\n",
              "  }\n",
              "\n",
              "  @keyframes spin {\n",
              "    0% {\n",
              "      border-color: transparent;\n",
              "      border-bottom-color: var(--fill-color);\n",
              "      border-left-color: var(--fill-color);\n",
              "    }\n",
              "    20% {\n",
              "      border-color: transparent;\n",
              "      border-left-color: var(--fill-color);\n",
              "      border-top-color: var(--fill-color);\n",
              "    }\n",
              "    30% {\n",
              "      border-color: transparent;\n",
              "      border-left-color: var(--fill-color);\n",
              "      border-top-color: var(--fill-color);\n",
              "      border-right-color: var(--fill-color);\n",
              "    }\n",
              "    40% {\n",
              "      border-color: transparent;\n",
              "      border-right-color: var(--fill-color);\n",
              "      border-top-color: var(--fill-color);\n",
              "    }\n",
              "    60% {\n",
              "      border-color: transparent;\n",
              "      border-right-color: var(--fill-color);\n",
              "    }\n",
              "    80% {\n",
              "      border-color: transparent;\n",
              "      border-right-color: var(--fill-color);\n",
              "      border-bottom-color: var(--fill-color);\n",
              "    }\n",
              "    90% {\n",
              "      border-color: transparent;\n",
              "      border-bottom-color: var(--fill-color);\n",
              "    }\n",
              "  }\n",
              "</style>\n",
              "\n",
              "  <script>\n",
              "    async function quickchart(key) {\n",
              "      const quickchartButtonEl =\n",
              "        document.querySelector('#' + key + ' button');\n",
              "      quickchartButtonEl.disabled = true;  // To prevent multiple clicks.\n",
              "      quickchartButtonEl.classList.add('colab-df-spinner');\n",
              "      try {\n",
              "        const charts = await google.colab.kernel.invokeFunction(\n",
              "            'suggestCharts', [key], {});\n",
              "      } catch (error) {\n",
              "        console.error('Error during call to suggestCharts:', error);\n",
              "      }\n",
              "      quickchartButtonEl.classList.remove('colab-df-spinner');\n",
              "      quickchartButtonEl.classList.add('colab-df-quickchart-complete');\n",
              "    }\n",
              "    (() => {\n",
              "      let quickchartButtonEl =\n",
              "        document.querySelector('#df-f18c36da-6946-44e2-ac7f-b22cfaeba675 button');\n",
              "      quickchartButtonEl.style.display =\n",
              "        google.colab.kernel.accessAllowed ? 'block' : 'none';\n",
              "    })();\n",
              "  </script>\n",
              "</div>\n",
              "    </div>\n",
              "  </div>\n"
            ],
            "application/vnd.google.colaboratory.intrinsic+json": {
              "type": "dataframe",
              "variable_name": "X_train_transformed",
              "summary": "{\n  \"name\": \"X_train_transformed\",\n  \"rows\": 47,\n  \"fields\": [\n    {\n      \"column\": \"Fecha\",\n      \"properties\": {\n        \"dtype\": \"date\",\n        \"min\": \"2018-02-01 00:00:00\",\n        \"max\": \"2021-12-01 00:00:00\",\n        \"num_unique_values\": 47,\n        \"samples\": [\n          \"2020-05-01 00:00:00\",\n          \"2021-05-01 00:00:00\",\n          \"2020-04-01 00:00:00\"\n        ],\n        \"semantic_type\": \"\",\n        \"description\": \"\"\n      }\n    },\n    {\n      \"column\": \"Compraventa_Unitario\",\n      \"properties\": {\n        \"dtype\": \"number\",\n        \"std\": 68.86828774393386,\n        \"min\": -96.95384615384637,\n        \"max\": 299.72307692307686,\n        \"num_unique_values\": 22,\n        \"samples\": [\n          0.0,\n          -3.197234023321016,\n          -83.56923076923067\n        ],\n        \"semantic_type\": \"\",\n        \"description\": \"\"\n      }\n    },\n    {\n      \"column\": \"Pm25\",\n      \"properties\": {\n        \"dtype\": \"number\",\n        \"std\": 0.06935471339249569,\n        \"min\": -0.4743401759530803,\n        \"max\": 0.02272727272727293,\n        \"num_unique_values\": 4,\n        \"samples\": [\n          0.02272727272727293,\n          -0.023460410557184286,\n          0.0\n        ],\n        \"semantic_type\": \"\",\n        \"description\": \"\"\n      }\n    }\n  ]\n}"
            }
          },
          "metadata": {},
          "execution_count": 62
        }
      ]
    },
    {
      "cell_type": "code",
      "source": [
        "print('Test de Dickey-Fuller Aumentado 2da vez:')\n",
        "for i in range(len(X_train_transformed.columns)):\n",
        "  print('Serie de tiempo transformada', 'Variable', X_train_transformed.columns[i])\n",
        "  augmented_dickey_fuller_statistics(X_train_transformed.iloc[:,i])"
      ],
      "metadata": {
        "colab": {
          "base_uri": "https://localhost:8080/"
        },
        "id": "WVoGomcBn0-j",
        "outputId": "dd19ca54-af3d-4dad-cdbe-35fb56aee6d1"
      },
      "execution_count": 63,
      "outputs": [
        {
          "output_type": "stream",
          "name": "stdout",
          "text": [
            "Test de Dickey-Fuller Aumentado 2da vez:\n",
            "Serie de tiempo transformada Variable Compraventa_Unitario\n",
            "p-value: 0.000087\n",
            "Serie de tiempo transformada Variable Pm25\n",
            "p-value: 0.000000\n"
          ]
        }
      ]
    },
    {
      "cell_type": "markdown",
      "source": [
        "Todos los p-valores son < 0.05 por lo tanto se podría concluir que con 1 orden de diferenciación se obtienen series estacionarias."
      ],
      "metadata": {
        "id": "Q7GhTMnRoAXt"
      }
    },
    {
      "cell_type": "markdown",
      "source": [
        "####Test de Cointegracion"
      ],
      "metadata": {
        "id": "urqrWp78SDxr"
      }
    },
    {
      "cell_type": "markdown",
      "source": [
        "Determinaremos si las dos variables estan relacionadas entre si y si esa relacion es duradera o no"
      ],
      "metadata": {
        "id": "SqHnxteITJdc"
      }
    },
    {
      "cell_type": "code",
      "source": [
        "from statsmodels.tsa.vector_ar.vecm import coint_johansen\n",
        "\n",
        "def cointegration_test(df):\n",
        "    res = coint_johansen(df,-1,5)\n",
        "    d = {'0.90':0, '0.95':1, '0.99':2}\n",
        "    traces = res.lr1\n",
        "    cvts = res.cvt[:, d[str(1-0.05)]]\n",
        "    def adjust(val, length= 6):\n",
        "        return str(val).ljust(length)\n",
        "    print('Column Name   >  Test Stat > C(95%)    =>   Signif  \\n', '--'*20)\n",
        "    for col, trace, cvt in zip(df.columns, traces, cvts):\n",
        "        print(adjust(col), '> ', adjust(round(trace,2), 9), \">\", adjust(cvt, 8), ' =>  ' , trace > cvt)"
      ],
      "metadata": {
        "id": "22atK7y0oPJ5"
      },
      "execution_count": 64,
      "outputs": []
    },
    {
      "cell_type": "code",
      "source": [
        "cointegration_test(X_train_transformed[['Compraventa_Unitario', 'Pm25']])"
      ],
      "metadata": {
        "colab": {
          "base_uri": "https://localhost:8080/"
        },
        "id": "0TCF1hZsoQjO",
        "outputId": "f469851d-76fc-47af-e48d-52f52f054684"
      },
      "execution_count": 65,
      "outputs": [
        {
          "output_type": "stream",
          "name": "stdout",
          "text": [
            "Column Name   >  Test Stat > C(95%)    =>   Signif  \n",
            " ----------------------------------------\n",
            "Compraventa_Unitario >  33.03     > 12.3212   =>   True\n",
            "Pm25   >  6.72      > 4.1296    =>   True\n"
          ]
        }
      ]
    },
    {
      "cell_type": "markdown",
      "source": [
        "- Para la variable \"Compraventa_Unitario\", el valor estadístico del test es 33.03, y el valor crítico en el nivel de confianza del 95% es 12.3212. Dado que el valor estadístico es mayor que el valor crítico, hay suficiente evidencia para rechazar la hipótesis nula de no cointegración. Por lo tanto, se concluye que hay evidencia de cointegración para esta variable.\n",
        "\n",
        "- Para la variable \"Pm25\", el valor estadístico del test es 6.72, y el valor crítico en el nivel de confianza del 95% es 4.1296. De manera similar, el valor estadístico es mayor que el valor crítico, lo que indica que hay suficiente evidencia para rechazar la hipótesis nula de no cointegración. Por lo tanto, se concluye que hay evidencia de cointegración para esta variable."
      ],
      "metadata": {
        "id": "cllQW2eETZMh"
      }
    },
    {
      "cell_type": "markdown",
      "source": [
        "#### Ajustando el modelo"
      ],
      "metadata": {
        "id": "HTxVjAs4Sv4A"
      }
    },
    {
      "cell_type": "markdown",
      "source": [
        "#####Auto Arima"
      ],
      "metadata": {
        "id": "E0a5wSe3tGaG"
      }
    },
    {
      "cell_type": "markdown",
      "source": [
        "Aplicaremos autoarima, para determinar los valores de p, q y d"
      ],
      "metadata": {
        "id": "gyKuUdCETgCb"
      }
    },
    {
      "cell_type": "code",
      "source": [
        "import pmdarima as pm"
      ],
      "metadata": {
        "id": "6Nq7wePOkpAw"
      },
      "execution_count": 66,
      "outputs": []
    },
    {
      "cell_type": "code",
      "source": [
        "\n",
        "pq = []\n",
        "for name in ['Compraventa_Unitario', 'Pm25']:\n",
        "    print(f'Searching order of p and q for : {name}')\n",
        "    # Ajusta un modelo ARIMA para cada columna\n",
        "    stepwise_model = pm.auto_arima(X_train_transformed[name],\n",
        "                                start_p=0, start_q=0,\n",
        "                                max_p=4, max_q=4,\n",
        "                                seasonal=False,\n",
        "                                trace=True,\n",
        "                                error_action='ignore',\n",
        "                                suppress_warnings=True,\n",
        "                                stepwise=True,\n",
        "                                maxiter=1000)\n",
        "    # Obtiene los parámetros óptimos de p y q del modelo\n",
        "    parameter = stepwise_model.get_params().get('order')\n",
        "    print(f'optimal order for:{name} is: {parameter} \\n\\n')\n",
        "    # Agrega los parámetros óptimos a la lista pq\n",
        "    pq.append(stepwise_model.get_params().get('order'))"
      ],
      "metadata": {
        "colab": {
          "base_uri": "https://localhost:8080/"
        },
        "id": "HR5DfxULokMK",
        "outputId": "b6091c29-5b40-4beb-9120-80d62c33ce29"
      },
      "execution_count": 67,
      "outputs": [
        {
          "output_type": "stream",
          "name": "stdout",
          "text": [
            "Searching order of p and q for : Compraventa_Unitario\n",
            "Performing stepwise search to minimize aic\n",
            " ARIMA(0,0,0)(0,0,0)[0]             : AIC=532.703, Time=0.06 sec\n",
            " ARIMA(1,0,0)(0,0,0)[0]             : AIC=534.702, Time=0.03 sec\n",
            " ARIMA(0,0,1)(0,0,0)[0]             : AIC=534.702, Time=0.14 sec\n",
            " ARIMA(1,0,1)(0,0,0)[0]             : AIC=534.900, Time=0.21 sec\n",
            " ARIMA(0,0,0)(0,0,0)[0] intercept   : AIC=534.196, Time=0.06 sec\n",
            "\n",
            "Best model:  ARIMA(0,0,0)(0,0,0)[0]          \n",
            "Total fit time: 0.553 seconds\n",
            "optimal order for:Compraventa_Unitario is: (0, 0, 0) \n",
            "\n",
            "\n",
            "Searching order of p and q for : Pm25\n",
            "Performing stepwise search to minimize aic\n",
            " ARIMA(0,0,0)(0,0,0)[0]             : AIC=-115.462, Time=0.10 sec\n",
            " ARIMA(1,0,0)(0,0,0)[0]             : AIC=-113.462, Time=0.02 sec\n",
            " ARIMA(0,0,1)(0,0,0)[0]             : AIC=-113.462, Time=0.08 sec\n",
            " ARIMA(1,0,1)(0,0,0)[0]             : AIC=-111.462, Time=0.40 sec\n",
            " ARIMA(0,0,0)(0,0,0)[0] intercept   : AIC=-114.472, Time=0.14 sec\n",
            "\n",
            "Best model:  ARIMA(0,0,0)(0,0,0)[0]          \n",
            "Total fit time: 0.760 seconds\n",
            "optimal order for:Pm25 is: (0, 0, 0) \n",
            "\n",
            "\n"
          ]
        }
      ]
    },
    {
      "cell_type": "markdown",
      "source": [
        "#####Seleccion del modelo"
      ],
      "metadata": {
        "id": "_wGoixHgT1i1"
      }
    },
    {
      "cell_type": "code",
      "source": [
        "def inverse_diff(actual_df, pred_df, second_diff=False):\n",
        "    df_res = pred_df.copy()\n",
        "    columns = actual_df.columns\n",
        "    for col in columns:\n",
        "        if second_diff:\n",
        "          df_res[str(col)] = (actual_df[col].iloc[-1]- actual_df[col].iloc[-2]) + df_res[str(col)].cumsum()\n",
        "\n",
        "        df_res[str(col)] = actual_df[col].iloc[-1] + df_res[str(col)].cumsum()\n",
        "    return df_res"
      ],
      "metadata": {
        "id": "crkldIG2rZ2v"
      },
      "execution_count": 68,
      "outputs": []
    },
    {
      "cell_type": "code",
      "source": [
        "pq"
      ],
      "metadata": {
        "colab": {
          "base_uri": "https://localhost:8080/"
        },
        "id": "P3tgzd5hreCa",
        "outputId": "26b2a443-ea63-42dc-e55c-4fd96c2ea5fc"
      },
      "execution_count": 69,
      "outputs": [
        {
          "output_type": "execute_result",
          "data": {
            "text/plain": [
              "[(0, 0, 0), (0, 0, 0)]"
            ]
          },
          "metadata": {},
          "execution_count": 69
        }
      ]
    },
    {
      "cell_type": "markdown",
      "source": [
        "- *p=0:* Indica que no hay términos autoregresivos en el modelo. En otras palabras, el modelo VARMAX no incluye dependencia de los valores pasados de las variables en sí mismas.\n",
        "\n",
        "- *q=0:* Indica que no hay términos de medias móviles en el modelo. Esto significa que no hay dependencia de los errores pasados del modelo en sí mismo."
      ],
      "metadata": {
        "id": "2NHmaXDXaAad"
      }
    },
    {
      "cell_type": "markdown",
      "source": [
        "En este caso no se puede aplicar el modelo VARMAX, ya que el modelo esta considerando unicamente la tendencia lineal y no esta incorporando autocorrelacion en los residuos del modelo."
      ],
      "metadata": {
        "id": "cBmU2HBNNdtE"
      }
    },
    {
      "cell_type": "markdown",
      "source": [
        "Por lo que para estos datos, no es posible entrenar un modelo VARMAX"
      ],
      "metadata": {
        "id": "ikvDqjfXOCp_"
      }
    },
    {
      "cell_type": "markdown",
      "source": [
        "##Conclusiones"
      ],
      "metadata": {
        "id": "jupEV8ues2bR"
      }
    },
    {
      "cell_type": "markdown",
      "source": [
        "Como conclusiones de realizar un analisis de datos forecasting a los datos de distrito de **Nou Barris** de Barcelona entre las dos series temporales de Compraventa_Unitario y concentracion de particulas Pm 2.5 tenemos que:\n",
        "\n",
        "- Se ha comprobado que las variables tienen una moderada correlacion inversa.\n",
        "- Se ha comprobado que la dos series de datos temporales tienen estacionalidad, con un orden de 1 diferenciacion, lo que las hace aptas para aplicar los dos modelos VAR y VARMAX .\n",
        "- En el modelo VAR se ha comprobado la causalidad de Granger, y esta ha salido negativa, lo que quiere decir que ninguna serie temporal puede predecir las demas series temporales. Esto en un principio nos advierte que este modelo sera más aconsejable que el modelo VARMAX\n",
        "- No se a podido aplicar el modelo VARMAX, por la nula autocorrelacion de los datos.\n",
        "\n",
        "Con los datos obtenidos unicamente se ha podido entrenar un modelo VAR.\n",
        "\n"
      ],
      "metadata": {
        "id": "tih-GQeKd6yp"
      }
    }
  ],
  "metadata": {
    "colab": {
      "provenance": [],
      "toc_visible": true,
      "mount_file_id": "12X7vUkEhoeFjz3cG1amlvwt15NI_p0ci",
      "authorship_tag": "ABX9TyN25/Cmq8FVjmxegpoUQem8",
      "include_colab_link": true
    },
    "kernelspec": {
      "display_name": "Python 3",
      "name": "python3"
    },
    "language_info": {
      "name": "python"
    }
  },
  "nbformat": 4,
  "nbformat_minor": 0
}