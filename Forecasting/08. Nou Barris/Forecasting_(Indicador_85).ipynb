{
  "cells": [
    {
      "cell_type": "markdown",
      "metadata": {
        "id": "view-in-github",
        "colab_type": "text"
      },
      "source": [
        "<a href=\"https://colab.research.google.com/github/dmunozbe/TFM_DataScience/blob/main/Forecasting/08.%20Nou%20Barris/Forecasting_(Indicador_85).ipynb\" target=\"_parent\"><img src=\"https://colab.research.google.com/assets/colab-badge.svg\" alt=\"Open In Colab\"/></a>"
      ]
    },
    {
      "cell_type": "markdown",
      "metadata": {
        "id": "0p7EJF28yyC8"
      },
      "source": [
        "# **Forecasting**\n",
        "\n",
        "\n"
      ]
    },
    {
      "cell_type": "markdown",
      "metadata": {
        "id": "ioTGaiCDEb5i"
      },
      "source": [
        "**Forecasting** es el proceso de predecir eventos futuros basados en patrones históricos y datos existentes.\n",
        "\n",
        "El objetivo principal es el de hacer predicciones precisas sobre el futuro utilizando datos pasados y presentes y se utiliza en una amplia variaedad de constextos, como en finanzas, meteorologia, ventas entre otros\n",
        "\n",
        "Se realizaran comprobaciones de cointegracion, estacionariedad, para determinar que modelo aplicar entre los seleccionados:\n",
        "\n",
        "* Modelos VAR (Vector Autoregressive)\n",
        "* Modelos VARMA (Vector Autoregressive Moving Average)\n",
        "* Modelos VARMAx (VARMA con Variables Exógenas)\n",
        "* Modelos VECM (Vector Error Correlation Model)"
      ]
    },
    {
      "cell_type": "markdown",
      "metadata": {
        "id": "AV9FZlYWReGR"
      },
      "source": [
        "##Importar bibliotecas"
      ]
    },
    {
      "cell_type": "code",
      "execution_count": null,
      "metadata": {
        "id": "nQ5PEOwwytuT"
      },
      "outputs": [],
      "source": [
        "import pandas as pd\n",
        "import numpy as np\n",
        "%matplotlib inline\n",
        "import seaborn as sns\n",
        "import matplotlib.pyplot as plt\n",
        "from matplotlib.pyplot import figure\n",
        "from sklearn import metrics\n",
        "\n",
        "\n",
        "import warnings\n",
        "warnings.filterwarnings(\"ignore\")"
      ]
    },
    {
      "cell_type": "markdown",
      "metadata": {
        "id": "7MJ6Iz9XRYGi"
      },
      "source": [
        "##Carga de datos"
      ]
    },
    {
      "cell_type": "code",
      "execution_count": null,
      "metadata": {
        "colab": {
          "base_uri": "https://localhost:8080/",
          "height": 243
        },
        "id": "sqL1iuYSLMXK",
        "outputId": "648aec49-bd44-4890-c1ee-23c5ef3c2b4a"
      },
      "outputs": [
        {
          "output_type": "execute_result",
          "data": {
            "text/plain": [
              "    Any  Trimestre  Mes  Codi_Districte Nom_Districte  Codi_Barri Nom_Barri  \\\n",
              "0  2014          1    1               1  Ciutat Vella           1  el Raval   \n",
              "1  2014          1    2               1  Ciutat Vella           1  el Raval   \n",
              "2  2014          1    3               1  Ciutat Vella           1  el Raval   \n",
              "3  2014          2    4               1  Ciutat Vella           1  el Raval   \n",
              "4  2014          2    5               1  Ciutat Vella           1  el Raval   \n",
              "\n",
              "   Compraventa_Unitario  ParadosReg  Estudios_Obligatorios  ConsumResidencial  \\\n",
              "0                2813.0        4588                    NaN                NaN   \n",
              "1                2813.0        4539                    NaN                NaN   \n",
              "2                2813.0        4572                    NaN                NaN   \n",
              "3                2948.8        4510                    NaN                NaN   \n",
              "4                2948.8        4379                    NaN                NaN   \n",
              "\n",
              "   Pm25  Pm10  Participacion  AñosEspVida  Internet  Movil  Index_Turisme  \\\n",
              "0   NaN   NaN           41.8         80.7       NaN    NaN            NaN   \n",
              "1   NaN   NaN           41.8         80.7       NaN    NaN            NaN   \n",
              "2   NaN   NaN           41.8         80.7       NaN    NaN            NaN   \n",
              "3   NaN   NaN           41.8         80.7       NaN    NaN            NaN   \n",
              "4   NaN   NaN           41.8         80.7       NaN    NaN            NaN   \n",
              "\n",
              "   m² por habitante  \n",
              "0               6.2  \n",
              "1               6.2  \n",
              "2               6.2  \n",
              "3               6.2  \n",
              "4               6.2  "
            ],
            "text/html": [
              "\n",
              "  <div id=\"df-b4b3f3a3-eef1-436f-af4d-00f599cad3e5\" class=\"colab-df-container\">\n",
              "    <div>\n",
              "<style scoped>\n",
              "    .dataframe tbody tr th:only-of-type {\n",
              "        vertical-align: middle;\n",
              "    }\n",
              "\n",
              "    .dataframe tbody tr th {\n",
              "        vertical-align: top;\n",
              "    }\n",
              "\n",
              "    .dataframe thead th {\n",
              "        text-align: right;\n",
              "    }\n",
              "</style>\n",
              "<table border=\"1\" class=\"dataframe\">\n",
              "  <thead>\n",
              "    <tr style=\"text-align: right;\">\n",
              "      <th></th>\n",
              "      <th>Any</th>\n",
              "      <th>Trimestre</th>\n",
              "      <th>Mes</th>\n",
              "      <th>Codi_Districte</th>\n",
              "      <th>Nom_Districte</th>\n",
              "      <th>Codi_Barri</th>\n",
              "      <th>Nom_Barri</th>\n",
              "      <th>Compraventa_Unitario</th>\n",
              "      <th>ParadosReg</th>\n",
              "      <th>Estudios_Obligatorios</th>\n",
              "      <th>ConsumResidencial</th>\n",
              "      <th>Pm25</th>\n",
              "      <th>Pm10</th>\n",
              "      <th>Participacion</th>\n",
              "      <th>AñosEspVida</th>\n",
              "      <th>Internet</th>\n",
              "      <th>Movil</th>\n",
              "      <th>Index_Turisme</th>\n",
              "      <th>m² por habitante</th>\n",
              "    </tr>\n",
              "  </thead>\n",
              "  <tbody>\n",
              "    <tr>\n",
              "      <th>0</th>\n",
              "      <td>2014</td>\n",
              "      <td>1</td>\n",
              "      <td>1</td>\n",
              "      <td>1</td>\n",
              "      <td>Ciutat Vella</td>\n",
              "      <td>1</td>\n",
              "      <td>el Raval</td>\n",
              "      <td>2813.0</td>\n",
              "      <td>4588</td>\n",
              "      <td>NaN</td>\n",
              "      <td>NaN</td>\n",
              "      <td>NaN</td>\n",
              "      <td>NaN</td>\n",
              "      <td>41.8</td>\n",
              "      <td>80.7</td>\n",
              "      <td>NaN</td>\n",
              "      <td>NaN</td>\n",
              "      <td>NaN</td>\n",
              "      <td>6.2</td>\n",
              "    </tr>\n",
              "    <tr>\n",
              "      <th>1</th>\n",
              "      <td>2014</td>\n",
              "      <td>1</td>\n",
              "      <td>2</td>\n",
              "      <td>1</td>\n",
              "      <td>Ciutat Vella</td>\n",
              "      <td>1</td>\n",
              "      <td>el Raval</td>\n",
              "      <td>2813.0</td>\n",
              "      <td>4539</td>\n",
              "      <td>NaN</td>\n",
              "      <td>NaN</td>\n",
              "      <td>NaN</td>\n",
              "      <td>NaN</td>\n",
              "      <td>41.8</td>\n",
              "      <td>80.7</td>\n",
              "      <td>NaN</td>\n",
              "      <td>NaN</td>\n",
              "      <td>NaN</td>\n",
              "      <td>6.2</td>\n",
              "    </tr>\n",
              "    <tr>\n",
              "      <th>2</th>\n",
              "      <td>2014</td>\n",
              "      <td>1</td>\n",
              "      <td>3</td>\n",
              "      <td>1</td>\n",
              "      <td>Ciutat Vella</td>\n",
              "      <td>1</td>\n",
              "      <td>el Raval</td>\n",
              "      <td>2813.0</td>\n",
              "      <td>4572</td>\n",
              "      <td>NaN</td>\n",
              "      <td>NaN</td>\n",
              "      <td>NaN</td>\n",
              "      <td>NaN</td>\n",
              "      <td>41.8</td>\n",
              "      <td>80.7</td>\n",
              "      <td>NaN</td>\n",
              "      <td>NaN</td>\n",
              "      <td>NaN</td>\n",
              "      <td>6.2</td>\n",
              "    </tr>\n",
              "    <tr>\n",
              "      <th>3</th>\n",
              "      <td>2014</td>\n",
              "      <td>2</td>\n",
              "      <td>4</td>\n",
              "      <td>1</td>\n",
              "      <td>Ciutat Vella</td>\n",
              "      <td>1</td>\n",
              "      <td>el Raval</td>\n",
              "      <td>2948.8</td>\n",
              "      <td>4510</td>\n",
              "      <td>NaN</td>\n",
              "      <td>NaN</td>\n",
              "      <td>NaN</td>\n",
              "      <td>NaN</td>\n",
              "      <td>41.8</td>\n",
              "      <td>80.7</td>\n",
              "      <td>NaN</td>\n",
              "      <td>NaN</td>\n",
              "      <td>NaN</td>\n",
              "      <td>6.2</td>\n",
              "    </tr>\n",
              "    <tr>\n",
              "      <th>4</th>\n",
              "      <td>2014</td>\n",
              "      <td>2</td>\n",
              "      <td>5</td>\n",
              "      <td>1</td>\n",
              "      <td>Ciutat Vella</td>\n",
              "      <td>1</td>\n",
              "      <td>el Raval</td>\n",
              "      <td>2948.8</td>\n",
              "      <td>4379</td>\n",
              "      <td>NaN</td>\n",
              "      <td>NaN</td>\n",
              "      <td>NaN</td>\n",
              "      <td>NaN</td>\n",
              "      <td>41.8</td>\n",
              "      <td>80.7</td>\n",
              "      <td>NaN</td>\n",
              "      <td>NaN</td>\n",
              "      <td>NaN</td>\n",
              "      <td>6.2</td>\n",
              "    </tr>\n",
              "  </tbody>\n",
              "</table>\n",
              "</div>\n",
              "    <div class=\"colab-df-buttons\">\n",
              "\n",
              "  <div class=\"colab-df-container\">\n",
              "    <button class=\"colab-df-convert\" onclick=\"convertToInteractive('df-b4b3f3a3-eef1-436f-af4d-00f599cad3e5')\"\n",
              "            title=\"Convert this dataframe to an interactive table.\"\n",
              "            style=\"display:none;\">\n",
              "\n",
              "  <svg xmlns=\"http://www.w3.org/2000/svg\" height=\"24px\" viewBox=\"0 -960 960 960\">\n",
              "    <path d=\"M120-120v-720h720v720H120Zm60-500h600v-160H180v160Zm220 220h160v-160H400v160Zm0 220h160v-160H400v160ZM180-400h160v-160H180v160Zm440 0h160v-160H620v160ZM180-180h160v-160H180v160Zm440 0h160v-160H620v160Z\"/>\n",
              "  </svg>\n",
              "    </button>\n",
              "\n",
              "  <style>\n",
              "    .colab-df-container {\n",
              "      display:flex;\n",
              "      gap: 12px;\n",
              "    }\n",
              "\n",
              "    .colab-df-convert {\n",
              "      background-color: #E8F0FE;\n",
              "      border: none;\n",
              "      border-radius: 50%;\n",
              "      cursor: pointer;\n",
              "      display: none;\n",
              "      fill: #1967D2;\n",
              "      height: 32px;\n",
              "      padding: 0 0 0 0;\n",
              "      width: 32px;\n",
              "    }\n",
              "\n",
              "    .colab-df-convert:hover {\n",
              "      background-color: #E2EBFA;\n",
              "      box-shadow: 0px 1px 2px rgba(60, 64, 67, 0.3), 0px 1px 3px 1px rgba(60, 64, 67, 0.15);\n",
              "      fill: #174EA6;\n",
              "    }\n",
              "\n",
              "    .colab-df-buttons div {\n",
              "      margin-bottom: 4px;\n",
              "    }\n",
              "\n",
              "    [theme=dark] .colab-df-convert {\n",
              "      background-color: #3B4455;\n",
              "      fill: #D2E3FC;\n",
              "    }\n",
              "\n",
              "    [theme=dark] .colab-df-convert:hover {\n",
              "      background-color: #434B5C;\n",
              "      box-shadow: 0px 1px 3px 1px rgba(0, 0, 0, 0.15);\n",
              "      filter: drop-shadow(0px 1px 2px rgba(0, 0, 0, 0.3));\n",
              "      fill: #FFFFFF;\n",
              "    }\n",
              "  </style>\n",
              "\n",
              "    <script>\n",
              "      const buttonEl =\n",
              "        document.querySelector('#df-b4b3f3a3-eef1-436f-af4d-00f599cad3e5 button.colab-df-convert');\n",
              "      buttonEl.style.display =\n",
              "        google.colab.kernel.accessAllowed ? 'block' : 'none';\n",
              "\n",
              "      async function convertToInteractive(key) {\n",
              "        const element = document.querySelector('#df-b4b3f3a3-eef1-436f-af4d-00f599cad3e5');\n",
              "        const dataTable =\n",
              "          await google.colab.kernel.invokeFunction('convertToInteractive',\n",
              "                                                    [key], {});\n",
              "        if (!dataTable) return;\n",
              "\n",
              "        const docLinkHtml = 'Like what you see? Visit the ' +\n",
              "          '<a target=\"_blank\" href=https://colab.research.google.com/notebooks/data_table.ipynb>data table notebook</a>'\n",
              "          + ' to learn more about interactive tables.';\n",
              "        element.innerHTML = '';\n",
              "        dataTable['output_type'] = 'display_data';\n",
              "        await google.colab.output.renderOutput(dataTable, element);\n",
              "        const docLink = document.createElement('div');\n",
              "        docLink.innerHTML = docLinkHtml;\n",
              "        element.appendChild(docLink);\n",
              "      }\n",
              "    </script>\n",
              "  </div>\n",
              "\n",
              "\n",
              "<div id=\"df-3d709174-9861-4261-8a62-fc50d4eef73a\">\n",
              "  <button class=\"colab-df-quickchart\" onclick=\"quickchart('df-3d709174-9861-4261-8a62-fc50d4eef73a')\"\n",
              "            title=\"Suggest charts\"\n",
              "            style=\"display:none;\">\n",
              "\n",
              "<svg xmlns=\"http://www.w3.org/2000/svg\" height=\"24px\"viewBox=\"0 0 24 24\"\n",
              "     width=\"24px\">\n",
              "    <g>\n",
              "        <path d=\"M19 3H5c-1.1 0-2 .9-2 2v14c0 1.1.9 2 2 2h14c1.1 0 2-.9 2-2V5c0-1.1-.9-2-2-2zM9 17H7v-7h2v7zm4 0h-2V7h2v10zm4 0h-2v-4h2v4z\"/>\n",
              "    </g>\n",
              "</svg>\n",
              "  </button>\n",
              "\n",
              "<style>\n",
              "  .colab-df-quickchart {\n",
              "      --bg-color: #E8F0FE;\n",
              "      --fill-color: #1967D2;\n",
              "      --hover-bg-color: #E2EBFA;\n",
              "      --hover-fill-color: #174EA6;\n",
              "      --disabled-fill-color: #AAA;\n",
              "      --disabled-bg-color: #DDD;\n",
              "  }\n",
              "\n",
              "  [theme=dark] .colab-df-quickchart {\n",
              "      --bg-color: #3B4455;\n",
              "      --fill-color: #D2E3FC;\n",
              "      --hover-bg-color: #434B5C;\n",
              "      --hover-fill-color: #FFFFFF;\n",
              "      --disabled-bg-color: #3B4455;\n",
              "      --disabled-fill-color: #666;\n",
              "  }\n",
              "\n",
              "  .colab-df-quickchart {\n",
              "    background-color: var(--bg-color);\n",
              "    border: none;\n",
              "    border-radius: 50%;\n",
              "    cursor: pointer;\n",
              "    display: none;\n",
              "    fill: var(--fill-color);\n",
              "    height: 32px;\n",
              "    padding: 0;\n",
              "    width: 32px;\n",
              "  }\n",
              "\n",
              "  .colab-df-quickchart:hover {\n",
              "    background-color: var(--hover-bg-color);\n",
              "    box-shadow: 0 1px 2px rgba(60, 64, 67, 0.3), 0 1px 3px 1px rgba(60, 64, 67, 0.15);\n",
              "    fill: var(--button-hover-fill-color);\n",
              "  }\n",
              "\n",
              "  .colab-df-quickchart-complete:disabled,\n",
              "  .colab-df-quickchart-complete:disabled:hover {\n",
              "    background-color: var(--disabled-bg-color);\n",
              "    fill: var(--disabled-fill-color);\n",
              "    box-shadow: none;\n",
              "  }\n",
              "\n",
              "  .colab-df-spinner {\n",
              "    border: 2px solid var(--fill-color);\n",
              "    border-color: transparent;\n",
              "    border-bottom-color: var(--fill-color);\n",
              "    animation:\n",
              "      spin 1s steps(1) infinite;\n",
              "  }\n",
              "\n",
              "  @keyframes spin {\n",
              "    0% {\n",
              "      border-color: transparent;\n",
              "      border-bottom-color: var(--fill-color);\n",
              "      border-left-color: var(--fill-color);\n",
              "    }\n",
              "    20% {\n",
              "      border-color: transparent;\n",
              "      border-left-color: var(--fill-color);\n",
              "      border-top-color: var(--fill-color);\n",
              "    }\n",
              "    30% {\n",
              "      border-color: transparent;\n",
              "      border-left-color: var(--fill-color);\n",
              "      border-top-color: var(--fill-color);\n",
              "      border-right-color: var(--fill-color);\n",
              "    }\n",
              "    40% {\n",
              "      border-color: transparent;\n",
              "      border-right-color: var(--fill-color);\n",
              "      border-top-color: var(--fill-color);\n",
              "    }\n",
              "    60% {\n",
              "      border-color: transparent;\n",
              "      border-right-color: var(--fill-color);\n",
              "    }\n",
              "    80% {\n",
              "      border-color: transparent;\n",
              "      border-right-color: var(--fill-color);\n",
              "      border-bottom-color: var(--fill-color);\n",
              "    }\n",
              "    90% {\n",
              "      border-color: transparent;\n",
              "      border-bottom-color: var(--fill-color);\n",
              "    }\n",
              "  }\n",
              "</style>\n",
              "\n",
              "  <script>\n",
              "    async function quickchart(key) {\n",
              "      const quickchartButtonEl =\n",
              "        document.querySelector('#' + key + ' button');\n",
              "      quickchartButtonEl.disabled = true;  // To prevent multiple clicks.\n",
              "      quickchartButtonEl.classList.add('colab-df-spinner');\n",
              "      try {\n",
              "        const charts = await google.colab.kernel.invokeFunction(\n",
              "            'suggestCharts', [key], {});\n",
              "      } catch (error) {\n",
              "        console.error('Error during call to suggestCharts:', error);\n",
              "      }\n",
              "      quickchartButtonEl.classList.remove('colab-df-spinner');\n",
              "      quickchartButtonEl.classList.add('colab-df-quickchart-complete');\n",
              "    }\n",
              "    (() => {\n",
              "      let quickchartButtonEl =\n",
              "        document.querySelector('#df-3d709174-9861-4261-8a62-fc50d4eef73a button');\n",
              "      quickchartButtonEl.style.display =\n",
              "        google.colab.kernel.accessAllowed ? 'block' : 'none';\n",
              "    })();\n",
              "  </script>\n",
              "</div>\n",
              "    </div>\n",
              "  </div>\n"
            ],
            "application/vnd.google.colaboratory.intrinsic+json": {
              "type": "dataframe",
              "variable_name": "data",
              "summary": "{\n  \"name\": \"data\",\n  \"rows\": 8541,\n  \"fields\": [\n    {\n      \"column\": \"Any\",\n      \"properties\": {\n        \"dtype\": \"number\",\n        \"std\": 2,\n        \"min\": 2014,\n        \"max\": 2023,\n        \"num_unique_values\": 10,\n        \"samples\": [\n          2022,\n          2015,\n          2019\n        ],\n        \"semantic_type\": \"\",\n        \"description\": \"\"\n      }\n    },\n    {\n      \"column\": \"Trimestre\",\n      \"properties\": {\n        \"dtype\": \"number\",\n        \"std\": 1,\n        \"min\": 1,\n        \"max\": 4,\n        \"num_unique_values\": 4,\n        \"samples\": [\n          2,\n          4,\n          1\n        ],\n        \"semantic_type\": \"\",\n        \"description\": \"\"\n      }\n    },\n    {\n      \"column\": \"Mes\",\n      \"properties\": {\n        \"dtype\": \"number\",\n        \"std\": 3,\n        \"min\": 1,\n        \"max\": 12,\n        \"num_unique_values\": 12,\n        \"samples\": [\n          11,\n          10,\n          1\n        ],\n        \"semantic_type\": \"\",\n        \"description\": \"\"\n      }\n    },\n    {\n      \"column\": \"Codi_Districte\",\n      \"properties\": {\n        \"dtype\": \"number\",\n        \"std\": 2,\n        \"min\": 1,\n        \"max\": 10,\n        \"num_unique_values\": 10,\n        \"samples\": [\n          9,\n          2,\n          6\n        ],\n        \"semantic_type\": \"\",\n        \"description\": \"\"\n      }\n    },\n    {\n      \"column\": \"Nom_Districte\",\n      \"properties\": {\n        \"dtype\": \"category\",\n        \"num_unique_values\": 10,\n        \"samples\": [\n          \"Sant Andreu\",\n          \"Eixample\",\n          \"Gr\\u00e0cia\"\n        ],\n        \"semantic_type\": \"\",\n        \"description\": \"\"\n      }\n    },\n    {\n      \"column\": \"Codi_Barri\",\n      \"properties\": {\n        \"dtype\": \"number\",\n        \"std\": 21,\n        \"min\": 1,\n        \"max\": 73,\n        \"num_unique_values\": 73,\n        \"samples\": [\n          5,\n          64,\n          19\n        ],\n        \"semantic_type\": \"\",\n        \"description\": \"\"\n      }\n    },\n    {\n      \"column\": \"Nom_Barri\",\n      \"properties\": {\n        \"dtype\": \"category\",\n        \"num_unique_values\": 73,\n        \"samples\": [\n          \"el Fort Pienc\",\n          \"el Camp de l'Arpa del Clot\",\n          \"les Corts\"\n        ],\n        \"semantic_type\": \"\",\n        \"description\": \"\"\n      }\n    },\n    {\n      \"column\": \"Compraventa_Unitario\",\n      \"properties\": {\n        \"dtype\": \"number\",\n        \"std\": 1275.0461526307304,\n        \"min\": 217.2,\n        \"max\": 10961.2,\n        \"num_unique_values\": 2170,\n        \"samples\": [\n          4807.2,\n          4193.4,\n          3508.0\n        ],\n        \"semantic_type\": \"\",\n        \"description\": \"\"\n      }\n    },\n    {\n      \"column\": \"ParadosReg\",\n      \"properties\": {\n        \"dtype\": \"number\",\n        \"std\": 748,\n        \"min\": 15,\n        \"max\": 5295,\n        \"num_unique_values\": 2514,\n        \"samples\": [\n          4093,\n          551,\n          1466\n        ],\n        \"semantic_type\": \"\",\n        \"description\": \"\"\n      }\n    },\n    {\n      \"column\": \"Estudios_Obligatorios\",\n      \"properties\": {\n        \"dtype\": \"number\",\n        \"std\": 1.2766390800732295,\n        \"min\": 94.1,\n        \"max\": 99.6,\n        \"num_unique_values\": 37,\n        \"samples\": [\n          98.5,\n          96.0,\n          97.8\n        ],\n        \"semantic_type\": \"\",\n        \"description\": \"\"\n      }\n    },\n    {\n      \"column\": \"ConsumResidencial\",\n      \"properties\": {\n        \"dtype\": \"number\",\n        \"std\": 6641961.276555788,\n        \"min\": 1599307.0,\n        \"max\": 46411373.0,\n        \"num_unique_values\": 3534,\n        \"samples\": [\n          22420192.0,\n          4441625.0,\n          8597173.0\n        ],\n        \"semantic_type\": \"\",\n        \"description\": \"\"\n      }\n    },\n    {\n      \"column\": \"Pm25\",\n      \"properties\": {\n        \"dtype\": \"number\",\n        \"std\": 0.3742695994049139,\n        \"min\": 1.81763826606876,\n        \"max\": 3.4377394636015324,\n        \"num_unique_values\": 50,\n        \"samples\": [\n          2.4966622162883847,\n          2.0293819655521785,\n          2.0183591508892715\n        ],\n        \"semantic_type\": \"\",\n        \"description\": \"\"\n      }\n    },\n    {\n      \"column\": \"Pm10\",\n      \"properties\": {\n        \"dtype\": \"number\",\n        \"std\": 0.23211619238920075,\n        \"min\": 1.379671150971599,\n        \"max\": 2.2308429118773945,\n        \"num_unique_values\": 41,\n        \"samples\": [\n          1.379671150971599,\n          2.0654205607476634,\n          2.020864381520119\n        ],\n        \"semantic_type\": \"\",\n        \"description\": \"\"\n      }\n    },\n    {\n      \"column\": \"Participacion\",\n      \"properties\": {\n        \"dtype\": \"number\",\n        \"std\": 6.123557392018656,\n        \"min\": 41.8,\n        \"max\": 72.5,\n        \"num_unique_values\": 39,\n        \"samples\": [\n          67.8,\n          57.8,\n          61.6\n        ],\n        \"semantic_type\": \"\",\n        \"description\": \"\"\n      }\n    },\n    {\n      \"column\": \"A\\u00f1osEspVida\",\n      \"properties\": {\n        \"dtype\": \"number\",\n        \"std\": 1.7485719359049254,\n        \"min\": 76.4,\n        \"max\": 87.7,\n        \"num_unique_values\": 78,\n        \"samples\": [\n          81.9,\n          80.7,\n          83.2\n        ],\n        \"semantic_type\": \"\",\n        \"description\": \"\"\n      }\n    },\n    {\n      \"column\": \"Internet\",\n      \"properties\": {\n        \"dtype\": \"number\",\n        \"std\": 5.658005470236122,\n        \"min\": 71.5,\n        \"max\": 97.0,\n        \"num_unique_values\": 66,\n        \"samples\": [\n          91.15,\n          97.0,\n          82.8\n        ],\n        \"semantic_type\": \"\",\n        \"description\": \"\"\n      }\n    },\n    {\n      \"column\": \"Movil\",\n      \"properties\": {\n        \"dtype\": \"number\",\n        \"std\": 1.5280518004995411,\n        \"min\": 91.2,\n        \"max\": 99.8,\n        \"num_unique_values\": 30,\n        \"samples\": [\n          98.6,\n          98.8,\n          98.5\n        ],\n        \"semantic_type\": \"\",\n        \"description\": \"\"\n      }\n    },\n    {\n      \"column\": \"Index_Turisme\",\n      \"properties\": {\n        \"dtype\": \"number\",\n        \"std\": 279.99953997435307,\n        \"min\": 120.60571428571428,\n        \"max\": 3241.03,\n        \"num_unique_values\": 219,\n        \"samples\": [\n          295.46500000000003,\n          504.8442857142857,\n          313.5733333333333\n        ],\n        \"semantic_type\": \"\",\n        \"description\": \"\"\n      }\n    },\n    {\n      \"column\": \"m\\u00b2 por habitante\",\n      \"properties\": {\n        \"dtype\": \"number\",\n        \"std\": 4.073146396218761,\n        \"min\": 1.9,\n        \"max\": 18.0,\n        \"num_unique_values\": 36,\n        \"samples\": [\n          8.15,\n          6.4,\n          8.3\n        ],\n        \"semantic_type\": \"\",\n        \"description\": \"\"\n      }\n    }\n  ]\n}"
            }
          },
          "metadata": {},
          "execution_count": 2
        }
      ],
      "source": [
        "# Cargar datos\n",
        "data = pd.read_csv('/content/drive/MyDrive/UOC/TFM/Datasets definitivos/Final.csv')\n",
        "data.head()"
      ]
    },
    {
      "cell_type": "code",
      "source": [
        "print(data.dtypes)"
      ],
      "metadata": {
        "colab": {
          "base_uri": "https://localhost:8080/"
        },
        "id": "eOy5K7SuiIMI",
        "outputId": "626ea4bd-8f14-4456-9017-8cb7ab6a0a79"
      },
      "execution_count": null,
      "outputs": [
        {
          "output_type": "stream",
          "name": "stdout",
          "text": [
            "Any                        int64\n",
            "Trimestre                  int64\n",
            "Mes                        int64\n",
            "Codi_Districte             int64\n",
            "Nom_Districte             object\n",
            "Codi_Barri                 int64\n",
            "Nom_Barri                 object\n",
            "Compraventa_Unitario     float64\n",
            "ParadosReg                 int64\n",
            "Estudios_Obligatorios    float64\n",
            "ConsumResidencial        float64\n",
            "Pm25                     float64\n",
            "Pm10                     float64\n",
            "Participacion            float64\n",
            "AñosEspVida              float64\n",
            "Internet                 float64\n",
            "Movil                    float64\n",
            "Index_Turisme            float64\n",
            "m² por habitante         float64\n",
            "dtype: object\n"
          ]
        }
      ]
    },
    {
      "cell_type": "markdown",
      "source": [
        "## Analisis por grupo de indicadores (m² por habitante de Zonas Verdes)"
      ],
      "metadata": {
        "id": "9W-lGuXhz2Sc"
      }
    },
    {
      "cell_type": "markdown",
      "source": [
        "### Preparacion de datos"
      ],
      "metadata": {
        "id": "ABOQVXNI0F0F"
      }
    },
    {
      "cell_type": "code",
      "source": [
        "df_sel = data[['Any','Trimestre','Mes','Codi_Districte','Nom_Districte','Codi_Barri','Nom_Barri','Compraventa_Unitario','m² por habitante']]"
      ],
      "metadata": {
        "id": "m9UKVzU9i2SY"
      },
      "execution_count": null,
      "outputs": []
    },
    {
      "cell_type": "code",
      "source": [
        "df_cont = df_sel.dropna()"
      ],
      "metadata": {
        "id": "lGWxPwYE5HPP"
      },
      "execution_count": null,
      "outputs": []
    },
    {
      "cell_type": "code",
      "source": [
        "df_cont.info()"
      ],
      "metadata": {
        "colab": {
          "base_uri": "https://localhost:8080/"
        },
        "id": "tGxdmjiE5QzX",
        "outputId": "2d642027-7959-42d7-c82c-482791e2a5c4"
      },
      "execution_count": null,
      "outputs": [
        {
          "output_type": "stream",
          "name": "stdout",
          "text": [
            "<class 'pandas.core.frame.DataFrame'>\n",
            "Index: 7008 entries, 0 to 7007\n",
            "Data columns (total 9 columns):\n",
            " #   Column                Non-Null Count  Dtype  \n",
            "---  ------                --------------  -----  \n",
            " 0   Any                   7008 non-null   int64  \n",
            " 1   Trimestre             7008 non-null   int64  \n",
            " 2   Mes                   7008 non-null   int64  \n",
            " 3   Codi_Districte        7008 non-null   int64  \n",
            " 4   Nom_Districte         7008 non-null   object \n",
            " 5   Codi_Barri            7008 non-null   int64  \n",
            " 6   Nom_Barri             7008 non-null   object \n",
            " 7   Compraventa_Unitario  7008 non-null   float64\n",
            " 8   m² por habitante      7008 non-null   float64\n",
            "dtypes: float64(2), int64(5), object(2)\n",
            "memory usage: 547.5+ KB\n"
          ]
        }
      ]
    },
    {
      "cell_type": "code",
      "source": [
        "# Creamos la variable de fecha de la siguiente manera:\n",
        "# Agregar un día fijo para cada mes, por ejemplo, el día 1\n",
        "df_cont['Fecha'] = pd.to_datetime(df_cont['Any'].astype(str) + '-' + df_cont['Mes'].astype(str) + '-1')"
      ],
      "metadata": {
        "id": "EcbK5L-5iX6z"
      },
      "execution_count": null,
      "outputs": []
    },
    {
      "cell_type": "code",
      "source": [
        "# Modificamos el indice del dataset por la fecha\n",
        "df_contI = df_cont.set_index('Fecha')"
      ],
      "metadata": {
        "id": "bXI9WXEqvfwN"
      },
      "execution_count": null,
      "outputs": []
    },
    {
      "cell_type": "code",
      "source": [
        "df_contI.head()"
      ],
      "metadata": {
        "colab": {
          "base_uri": "https://localhost:8080/",
          "height": 237
        },
        "id": "B5r0mDv6r1gC",
        "outputId": "3784f3d7-6b0b-45b2-a75a-fee347fbc0ce"
      },
      "execution_count": null,
      "outputs": [
        {
          "output_type": "execute_result",
          "data": {
            "text/plain": [
              "             Any  Trimestre  Mes  Codi_Districte Nom_Districte  Codi_Barri  \\\n",
              "Fecha                                                                        \n",
              "2014-01-01  2014          1    1               1  Ciutat Vella           1   \n",
              "2014-02-01  2014          1    2               1  Ciutat Vella           1   \n",
              "2014-03-01  2014          1    3               1  Ciutat Vella           1   \n",
              "2014-04-01  2014          2    4               1  Ciutat Vella           1   \n",
              "2014-05-01  2014          2    5               1  Ciutat Vella           1   \n",
              "\n",
              "           Nom_Barri  Compraventa_Unitario  m² por habitante  \n",
              "Fecha                                                         \n",
              "2014-01-01  el Raval                2813.0               6.2  \n",
              "2014-02-01  el Raval                2813.0               6.2  \n",
              "2014-03-01  el Raval                2813.0               6.2  \n",
              "2014-04-01  el Raval                2948.8               6.2  \n",
              "2014-05-01  el Raval                2948.8               6.2  "
            ],
            "text/html": [
              "\n",
              "  <div id=\"df-37c30a3c-5cfc-42ef-b9cc-682bd3793fe6\" class=\"colab-df-container\">\n",
              "    <div>\n",
              "<style scoped>\n",
              "    .dataframe tbody tr th:only-of-type {\n",
              "        vertical-align: middle;\n",
              "    }\n",
              "\n",
              "    .dataframe tbody tr th {\n",
              "        vertical-align: top;\n",
              "    }\n",
              "\n",
              "    .dataframe thead th {\n",
              "        text-align: right;\n",
              "    }\n",
              "</style>\n",
              "<table border=\"1\" class=\"dataframe\">\n",
              "  <thead>\n",
              "    <tr style=\"text-align: right;\">\n",
              "      <th></th>\n",
              "      <th>Any</th>\n",
              "      <th>Trimestre</th>\n",
              "      <th>Mes</th>\n",
              "      <th>Codi_Districte</th>\n",
              "      <th>Nom_Districte</th>\n",
              "      <th>Codi_Barri</th>\n",
              "      <th>Nom_Barri</th>\n",
              "      <th>Compraventa_Unitario</th>\n",
              "      <th>m² por habitante</th>\n",
              "    </tr>\n",
              "    <tr>\n",
              "      <th>Fecha</th>\n",
              "      <th></th>\n",
              "      <th></th>\n",
              "      <th></th>\n",
              "      <th></th>\n",
              "      <th></th>\n",
              "      <th></th>\n",
              "      <th></th>\n",
              "      <th></th>\n",
              "      <th></th>\n",
              "    </tr>\n",
              "  </thead>\n",
              "  <tbody>\n",
              "    <tr>\n",
              "      <th>2014-01-01</th>\n",
              "      <td>2014</td>\n",
              "      <td>1</td>\n",
              "      <td>1</td>\n",
              "      <td>1</td>\n",
              "      <td>Ciutat Vella</td>\n",
              "      <td>1</td>\n",
              "      <td>el Raval</td>\n",
              "      <td>2813.0</td>\n",
              "      <td>6.2</td>\n",
              "    </tr>\n",
              "    <tr>\n",
              "      <th>2014-02-01</th>\n",
              "      <td>2014</td>\n",
              "      <td>1</td>\n",
              "      <td>2</td>\n",
              "      <td>1</td>\n",
              "      <td>Ciutat Vella</td>\n",
              "      <td>1</td>\n",
              "      <td>el Raval</td>\n",
              "      <td>2813.0</td>\n",
              "      <td>6.2</td>\n",
              "    </tr>\n",
              "    <tr>\n",
              "      <th>2014-03-01</th>\n",
              "      <td>2014</td>\n",
              "      <td>1</td>\n",
              "      <td>3</td>\n",
              "      <td>1</td>\n",
              "      <td>Ciutat Vella</td>\n",
              "      <td>1</td>\n",
              "      <td>el Raval</td>\n",
              "      <td>2813.0</td>\n",
              "      <td>6.2</td>\n",
              "    </tr>\n",
              "    <tr>\n",
              "      <th>2014-04-01</th>\n",
              "      <td>2014</td>\n",
              "      <td>2</td>\n",
              "      <td>4</td>\n",
              "      <td>1</td>\n",
              "      <td>Ciutat Vella</td>\n",
              "      <td>1</td>\n",
              "      <td>el Raval</td>\n",
              "      <td>2948.8</td>\n",
              "      <td>6.2</td>\n",
              "    </tr>\n",
              "    <tr>\n",
              "      <th>2014-05-01</th>\n",
              "      <td>2014</td>\n",
              "      <td>2</td>\n",
              "      <td>5</td>\n",
              "      <td>1</td>\n",
              "      <td>Ciutat Vella</td>\n",
              "      <td>1</td>\n",
              "      <td>el Raval</td>\n",
              "      <td>2948.8</td>\n",
              "      <td>6.2</td>\n",
              "    </tr>\n",
              "  </tbody>\n",
              "</table>\n",
              "</div>\n",
              "    <div class=\"colab-df-buttons\">\n",
              "\n",
              "  <div class=\"colab-df-container\">\n",
              "    <button class=\"colab-df-convert\" onclick=\"convertToInteractive('df-37c30a3c-5cfc-42ef-b9cc-682bd3793fe6')\"\n",
              "            title=\"Convert this dataframe to an interactive table.\"\n",
              "            style=\"display:none;\">\n",
              "\n",
              "  <svg xmlns=\"http://www.w3.org/2000/svg\" height=\"24px\" viewBox=\"0 -960 960 960\">\n",
              "    <path d=\"M120-120v-720h720v720H120Zm60-500h600v-160H180v160Zm220 220h160v-160H400v160Zm0 220h160v-160H400v160ZM180-400h160v-160H180v160Zm440 0h160v-160H620v160ZM180-180h160v-160H180v160Zm440 0h160v-160H620v160Z\"/>\n",
              "  </svg>\n",
              "    </button>\n",
              "\n",
              "  <style>\n",
              "    .colab-df-container {\n",
              "      display:flex;\n",
              "      gap: 12px;\n",
              "    }\n",
              "\n",
              "    .colab-df-convert {\n",
              "      background-color: #E8F0FE;\n",
              "      border: none;\n",
              "      border-radius: 50%;\n",
              "      cursor: pointer;\n",
              "      display: none;\n",
              "      fill: #1967D2;\n",
              "      height: 32px;\n",
              "      padding: 0 0 0 0;\n",
              "      width: 32px;\n",
              "    }\n",
              "\n",
              "    .colab-df-convert:hover {\n",
              "      background-color: #E2EBFA;\n",
              "      box-shadow: 0px 1px 2px rgba(60, 64, 67, 0.3), 0px 1px 3px 1px rgba(60, 64, 67, 0.15);\n",
              "      fill: #174EA6;\n",
              "    }\n",
              "\n",
              "    .colab-df-buttons div {\n",
              "      margin-bottom: 4px;\n",
              "    }\n",
              "\n",
              "    [theme=dark] .colab-df-convert {\n",
              "      background-color: #3B4455;\n",
              "      fill: #D2E3FC;\n",
              "    }\n",
              "\n",
              "    [theme=dark] .colab-df-convert:hover {\n",
              "      background-color: #434B5C;\n",
              "      box-shadow: 0px 1px 3px 1px rgba(0, 0, 0, 0.15);\n",
              "      filter: drop-shadow(0px 1px 2px rgba(0, 0, 0, 0.3));\n",
              "      fill: #FFFFFF;\n",
              "    }\n",
              "  </style>\n",
              "\n",
              "    <script>\n",
              "      const buttonEl =\n",
              "        document.querySelector('#df-37c30a3c-5cfc-42ef-b9cc-682bd3793fe6 button.colab-df-convert');\n",
              "      buttonEl.style.display =\n",
              "        google.colab.kernel.accessAllowed ? 'block' : 'none';\n",
              "\n",
              "      async function convertToInteractive(key) {\n",
              "        const element = document.querySelector('#df-37c30a3c-5cfc-42ef-b9cc-682bd3793fe6');\n",
              "        const dataTable =\n",
              "          await google.colab.kernel.invokeFunction('convertToInteractive',\n",
              "                                                    [key], {});\n",
              "        if (!dataTable) return;\n",
              "\n",
              "        const docLinkHtml = 'Like what you see? Visit the ' +\n",
              "          '<a target=\"_blank\" href=https://colab.research.google.com/notebooks/data_table.ipynb>data table notebook</a>'\n",
              "          + ' to learn more about interactive tables.';\n",
              "        element.innerHTML = '';\n",
              "        dataTable['output_type'] = 'display_data';\n",
              "        await google.colab.output.renderOutput(dataTable, element);\n",
              "        const docLink = document.createElement('div');\n",
              "        docLink.innerHTML = docLinkHtml;\n",
              "        element.appendChild(docLink);\n",
              "      }\n",
              "    </script>\n",
              "  </div>\n",
              "\n",
              "\n",
              "<div id=\"df-5e626016-2f8e-47e5-90fb-a13a4de94a45\">\n",
              "  <button class=\"colab-df-quickchart\" onclick=\"quickchart('df-5e626016-2f8e-47e5-90fb-a13a4de94a45')\"\n",
              "            title=\"Suggest charts\"\n",
              "            style=\"display:none;\">\n",
              "\n",
              "<svg xmlns=\"http://www.w3.org/2000/svg\" height=\"24px\"viewBox=\"0 0 24 24\"\n",
              "     width=\"24px\">\n",
              "    <g>\n",
              "        <path d=\"M19 3H5c-1.1 0-2 .9-2 2v14c0 1.1.9 2 2 2h14c1.1 0 2-.9 2-2V5c0-1.1-.9-2-2-2zM9 17H7v-7h2v7zm4 0h-2V7h2v10zm4 0h-2v-4h2v4z\"/>\n",
              "    </g>\n",
              "</svg>\n",
              "  </button>\n",
              "\n",
              "<style>\n",
              "  .colab-df-quickchart {\n",
              "      --bg-color: #E8F0FE;\n",
              "      --fill-color: #1967D2;\n",
              "      --hover-bg-color: #E2EBFA;\n",
              "      --hover-fill-color: #174EA6;\n",
              "      --disabled-fill-color: #AAA;\n",
              "      --disabled-bg-color: #DDD;\n",
              "  }\n",
              "\n",
              "  [theme=dark] .colab-df-quickchart {\n",
              "      --bg-color: #3B4455;\n",
              "      --fill-color: #D2E3FC;\n",
              "      --hover-bg-color: #434B5C;\n",
              "      --hover-fill-color: #FFFFFF;\n",
              "      --disabled-bg-color: #3B4455;\n",
              "      --disabled-fill-color: #666;\n",
              "  }\n",
              "\n",
              "  .colab-df-quickchart {\n",
              "    background-color: var(--bg-color);\n",
              "    border: none;\n",
              "    border-radius: 50%;\n",
              "    cursor: pointer;\n",
              "    display: none;\n",
              "    fill: var(--fill-color);\n",
              "    height: 32px;\n",
              "    padding: 0;\n",
              "    width: 32px;\n",
              "  }\n",
              "\n",
              "  .colab-df-quickchart:hover {\n",
              "    background-color: var(--hover-bg-color);\n",
              "    box-shadow: 0 1px 2px rgba(60, 64, 67, 0.3), 0 1px 3px 1px rgba(60, 64, 67, 0.15);\n",
              "    fill: var(--button-hover-fill-color);\n",
              "  }\n",
              "\n",
              "  .colab-df-quickchart-complete:disabled,\n",
              "  .colab-df-quickchart-complete:disabled:hover {\n",
              "    background-color: var(--disabled-bg-color);\n",
              "    fill: var(--disabled-fill-color);\n",
              "    box-shadow: none;\n",
              "  }\n",
              "\n",
              "  .colab-df-spinner {\n",
              "    border: 2px solid var(--fill-color);\n",
              "    border-color: transparent;\n",
              "    border-bottom-color: var(--fill-color);\n",
              "    animation:\n",
              "      spin 1s steps(1) infinite;\n",
              "  }\n",
              "\n",
              "  @keyframes spin {\n",
              "    0% {\n",
              "      border-color: transparent;\n",
              "      border-bottom-color: var(--fill-color);\n",
              "      border-left-color: var(--fill-color);\n",
              "    }\n",
              "    20% {\n",
              "      border-color: transparent;\n",
              "      border-left-color: var(--fill-color);\n",
              "      border-top-color: var(--fill-color);\n",
              "    }\n",
              "    30% {\n",
              "      border-color: transparent;\n",
              "      border-left-color: var(--fill-color);\n",
              "      border-top-color: var(--fill-color);\n",
              "      border-right-color: var(--fill-color);\n",
              "    }\n",
              "    40% {\n",
              "      border-color: transparent;\n",
              "      border-right-color: var(--fill-color);\n",
              "      border-top-color: var(--fill-color);\n",
              "    }\n",
              "    60% {\n",
              "      border-color: transparent;\n",
              "      border-right-color: var(--fill-color);\n",
              "    }\n",
              "    80% {\n",
              "      border-color: transparent;\n",
              "      border-right-color: var(--fill-color);\n",
              "      border-bottom-color: var(--fill-color);\n",
              "    }\n",
              "    90% {\n",
              "      border-color: transparent;\n",
              "      border-bottom-color: var(--fill-color);\n",
              "    }\n",
              "  }\n",
              "</style>\n",
              "\n",
              "  <script>\n",
              "    async function quickchart(key) {\n",
              "      const quickchartButtonEl =\n",
              "        document.querySelector('#' + key + ' button');\n",
              "      quickchartButtonEl.disabled = true;  // To prevent multiple clicks.\n",
              "      quickchartButtonEl.classList.add('colab-df-spinner');\n",
              "      try {\n",
              "        const charts = await google.colab.kernel.invokeFunction(\n",
              "            'suggestCharts', [key], {});\n",
              "      } catch (error) {\n",
              "        console.error('Error during call to suggestCharts:', error);\n",
              "      }\n",
              "      quickchartButtonEl.classList.remove('colab-df-spinner');\n",
              "      quickchartButtonEl.classList.add('colab-df-quickchart-complete');\n",
              "    }\n",
              "    (() => {\n",
              "      let quickchartButtonEl =\n",
              "        document.querySelector('#df-5e626016-2f8e-47e5-90fb-a13a4de94a45 button');\n",
              "      quickchartButtonEl.style.display =\n",
              "        google.colab.kernel.accessAllowed ? 'block' : 'none';\n",
              "    })();\n",
              "  </script>\n",
              "</div>\n",
              "    </div>\n",
              "  </div>\n"
            ],
            "application/vnd.google.colaboratory.intrinsic+json": {
              "type": "dataframe",
              "variable_name": "df_contI",
              "summary": "{\n  \"name\": \"df_contI\",\n  \"rows\": 7008,\n  \"fields\": [\n    {\n      \"column\": \"Fecha\",\n      \"properties\": {\n        \"dtype\": \"date\",\n        \"min\": \"2014-01-01 00:00:00\",\n        \"max\": \"2021-12-01 00:00:00\",\n        \"num_unique_values\": 96,\n        \"samples\": [\n          \"2020-09-01 00:00:00\",\n          \"2020-06-01 00:00:00\",\n          \"2020-02-01 00:00:00\"\n        ],\n        \"semantic_type\": \"\",\n        \"description\": \"\"\n      }\n    },\n    {\n      \"column\": \"Any\",\n      \"properties\": {\n        \"dtype\": \"number\",\n        \"std\": 2,\n        \"min\": 2014,\n        \"max\": 2021,\n        \"num_unique_values\": 8,\n        \"samples\": [\n          2015,\n          2019,\n          2014\n        ],\n        \"semantic_type\": \"\",\n        \"description\": \"\"\n      }\n    },\n    {\n      \"column\": \"Trimestre\",\n      \"properties\": {\n        \"dtype\": \"number\",\n        \"std\": 1,\n        \"min\": 1,\n        \"max\": 4,\n        \"num_unique_values\": 4,\n        \"samples\": [\n          2,\n          4,\n          1\n        ],\n        \"semantic_type\": \"\",\n        \"description\": \"\"\n      }\n    },\n    {\n      \"column\": \"Mes\",\n      \"properties\": {\n        \"dtype\": \"number\",\n        \"std\": 3,\n        \"min\": 1,\n        \"max\": 12,\n        \"num_unique_values\": 12,\n        \"samples\": [\n          11,\n          10,\n          1\n        ],\n        \"semantic_type\": \"\",\n        \"description\": \"\"\n      }\n    },\n    {\n      \"column\": \"Codi_Districte\",\n      \"properties\": {\n        \"dtype\": \"number\",\n        \"std\": 2,\n        \"min\": 1,\n        \"max\": 10,\n        \"num_unique_values\": 10,\n        \"samples\": [\n          9,\n          2,\n          6\n        ],\n        \"semantic_type\": \"\",\n        \"description\": \"\"\n      }\n    },\n    {\n      \"column\": \"Nom_Districte\",\n      \"properties\": {\n        \"dtype\": \"category\",\n        \"num_unique_values\": 10,\n        \"samples\": [\n          \"Sant Andreu\",\n          \"Eixample\",\n          \"Gr\\u00e0cia\"\n        ],\n        \"semantic_type\": \"\",\n        \"description\": \"\"\n      }\n    },\n    {\n      \"column\": \"Codi_Barri\",\n      \"properties\": {\n        \"dtype\": \"number\",\n        \"std\": 21,\n        \"min\": 1,\n        \"max\": 73,\n        \"num_unique_values\": 73,\n        \"samples\": [\n          5,\n          64,\n          19\n        ],\n        \"semantic_type\": \"\",\n        \"description\": \"\"\n      }\n    },\n    {\n      \"column\": \"Nom_Barri\",\n      \"properties\": {\n        \"dtype\": \"category\",\n        \"num_unique_values\": 73,\n        \"samples\": [\n          \"el Fort Pienc\",\n          \"el Camp de l'Arpa del Clot\",\n          \"les Corts\"\n        ],\n        \"semantic_type\": \"\",\n        \"description\": \"\"\n      }\n    },\n    {\n      \"column\": \"Compraventa_Unitario\",\n      \"properties\": {\n        \"dtype\": \"number\",\n        \"std\": 1255.7142930120256,\n        \"min\": 217.2,\n        \"max\": 10961.2,\n        \"num_unique_values\": 1660,\n        \"samples\": [\n          2690.5,\n          5739.3,\n          3546.4\n        ],\n        \"semantic_type\": \"\",\n        \"description\": \"\"\n      }\n    },\n    {\n      \"column\": \"m\\u00b2 por habitante\",\n      \"properties\": {\n        \"dtype\": \"number\",\n        \"std\": 4.073146396218761,\n        \"min\": 1.9,\n        \"max\": 18.0,\n        \"num_unique_values\": 36,\n        \"samples\": [\n          8.15,\n          6.4,\n          8.3\n        ],\n        \"semantic_type\": \"\",\n        \"description\": \"\"\n      }\n    }\n  ]\n}"
            }
          },
          "metadata": {},
          "execution_count": 9
        }
      ]
    },
    {
      "cell_type": "markdown",
      "source": [
        "### Analisis Exploratorio"
      ],
      "metadata": {
        "id": "a_2OfFZCr-f1"
      }
    },
    {
      "cell_type": "markdown",
      "source": [
        "Filtramos los datos por el distrito de Nou Barris -> Codi_Districte = 8"
      ],
      "metadata": {
        "id": "hqyBpeYNQb-z"
      }
    },
    {
      "cell_type": "code",
      "source": [
        "df_contFiltrado = df_contI[df_contI['Codi_Districte'] == 8]"
      ],
      "metadata": {
        "id": "H1D-pGGuQgKv"
      },
      "execution_count": null,
      "outputs": []
    },
    {
      "cell_type": "code",
      "source": [
        "# Agrupamos los datos\n",
        "df =df_contFiltrado.drop(columns=['Any','Trimestre','Mes','Codi_Districte','Nom_Districte','Codi_Barri','Nom_Barri']).groupby('Fecha').mean()"
      ],
      "metadata": {
        "id": "IqKIcChGWsd4"
      },
      "execution_count": null,
      "outputs": []
    },
    {
      "cell_type": "code",
      "source": [
        "df.head()"
      ],
      "metadata": {
        "colab": {
          "base_uri": "https://localhost:8080/",
          "height": 237
        },
        "id": "crqUQcqQXROb",
        "outputId": "9b2e0d93-c83e-4b62-ad31-b47f685ff53c"
      },
      "execution_count": null,
      "outputs": [
        {
          "output_type": "execute_result",
          "data": {
            "text/plain": [
              "            Compraventa_Unitario  m² por habitante\n",
              "Fecha                                             \n",
              "2014-01-01           1511.900000               6.9\n",
              "2014-02-01           1511.900000               6.9\n",
              "2014-03-01           1511.900000               6.9\n",
              "2014-04-01           1633.069231               6.9\n",
              "2014-05-01           1633.069231               6.9"
            ],
            "text/html": [
              "\n",
              "  <div id=\"df-082e00f1-5465-46b8-9529-fce5cf89c2f8\" class=\"colab-df-container\">\n",
              "    <div>\n",
              "<style scoped>\n",
              "    .dataframe tbody tr th:only-of-type {\n",
              "        vertical-align: middle;\n",
              "    }\n",
              "\n",
              "    .dataframe tbody tr th {\n",
              "        vertical-align: top;\n",
              "    }\n",
              "\n",
              "    .dataframe thead th {\n",
              "        text-align: right;\n",
              "    }\n",
              "</style>\n",
              "<table border=\"1\" class=\"dataframe\">\n",
              "  <thead>\n",
              "    <tr style=\"text-align: right;\">\n",
              "      <th></th>\n",
              "      <th>Compraventa_Unitario</th>\n",
              "      <th>m² por habitante</th>\n",
              "    </tr>\n",
              "    <tr>\n",
              "      <th>Fecha</th>\n",
              "      <th></th>\n",
              "      <th></th>\n",
              "    </tr>\n",
              "  </thead>\n",
              "  <tbody>\n",
              "    <tr>\n",
              "      <th>2014-01-01</th>\n",
              "      <td>1511.900000</td>\n",
              "      <td>6.9</td>\n",
              "    </tr>\n",
              "    <tr>\n",
              "      <th>2014-02-01</th>\n",
              "      <td>1511.900000</td>\n",
              "      <td>6.9</td>\n",
              "    </tr>\n",
              "    <tr>\n",
              "      <th>2014-03-01</th>\n",
              "      <td>1511.900000</td>\n",
              "      <td>6.9</td>\n",
              "    </tr>\n",
              "    <tr>\n",
              "      <th>2014-04-01</th>\n",
              "      <td>1633.069231</td>\n",
              "      <td>6.9</td>\n",
              "    </tr>\n",
              "    <tr>\n",
              "      <th>2014-05-01</th>\n",
              "      <td>1633.069231</td>\n",
              "      <td>6.9</td>\n",
              "    </tr>\n",
              "  </tbody>\n",
              "</table>\n",
              "</div>\n",
              "    <div class=\"colab-df-buttons\">\n",
              "\n",
              "  <div class=\"colab-df-container\">\n",
              "    <button class=\"colab-df-convert\" onclick=\"convertToInteractive('df-082e00f1-5465-46b8-9529-fce5cf89c2f8')\"\n",
              "            title=\"Convert this dataframe to an interactive table.\"\n",
              "            style=\"display:none;\">\n",
              "\n",
              "  <svg xmlns=\"http://www.w3.org/2000/svg\" height=\"24px\" viewBox=\"0 -960 960 960\">\n",
              "    <path d=\"M120-120v-720h720v720H120Zm60-500h600v-160H180v160Zm220 220h160v-160H400v160Zm0 220h160v-160H400v160ZM180-400h160v-160H180v160Zm440 0h160v-160H620v160ZM180-180h160v-160H180v160Zm440 0h160v-160H620v160Z\"/>\n",
              "  </svg>\n",
              "    </button>\n",
              "\n",
              "  <style>\n",
              "    .colab-df-container {\n",
              "      display:flex;\n",
              "      gap: 12px;\n",
              "    }\n",
              "\n",
              "    .colab-df-convert {\n",
              "      background-color: #E8F0FE;\n",
              "      border: none;\n",
              "      border-radius: 50%;\n",
              "      cursor: pointer;\n",
              "      display: none;\n",
              "      fill: #1967D2;\n",
              "      height: 32px;\n",
              "      padding: 0 0 0 0;\n",
              "      width: 32px;\n",
              "    }\n",
              "\n",
              "    .colab-df-convert:hover {\n",
              "      background-color: #E2EBFA;\n",
              "      box-shadow: 0px 1px 2px rgba(60, 64, 67, 0.3), 0px 1px 3px 1px rgba(60, 64, 67, 0.15);\n",
              "      fill: #174EA6;\n",
              "    }\n",
              "\n",
              "    .colab-df-buttons div {\n",
              "      margin-bottom: 4px;\n",
              "    }\n",
              "\n",
              "    [theme=dark] .colab-df-convert {\n",
              "      background-color: #3B4455;\n",
              "      fill: #D2E3FC;\n",
              "    }\n",
              "\n",
              "    [theme=dark] .colab-df-convert:hover {\n",
              "      background-color: #434B5C;\n",
              "      box-shadow: 0px 1px 3px 1px rgba(0, 0, 0, 0.15);\n",
              "      filter: drop-shadow(0px 1px 2px rgba(0, 0, 0, 0.3));\n",
              "      fill: #FFFFFF;\n",
              "    }\n",
              "  </style>\n",
              "\n",
              "    <script>\n",
              "      const buttonEl =\n",
              "        document.querySelector('#df-082e00f1-5465-46b8-9529-fce5cf89c2f8 button.colab-df-convert');\n",
              "      buttonEl.style.display =\n",
              "        google.colab.kernel.accessAllowed ? 'block' : 'none';\n",
              "\n",
              "      async function convertToInteractive(key) {\n",
              "        const element = document.querySelector('#df-082e00f1-5465-46b8-9529-fce5cf89c2f8');\n",
              "        const dataTable =\n",
              "          await google.colab.kernel.invokeFunction('convertToInteractive',\n",
              "                                                    [key], {});\n",
              "        if (!dataTable) return;\n",
              "\n",
              "        const docLinkHtml = 'Like what you see? Visit the ' +\n",
              "          '<a target=\"_blank\" href=https://colab.research.google.com/notebooks/data_table.ipynb>data table notebook</a>'\n",
              "          + ' to learn more about interactive tables.';\n",
              "        element.innerHTML = '';\n",
              "        dataTable['output_type'] = 'display_data';\n",
              "        await google.colab.output.renderOutput(dataTable, element);\n",
              "        const docLink = document.createElement('div');\n",
              "        docLink.innerHTML = docLinkHtml;\n",
              "        element.appendChild(docLink);\n",
              "      }\n",
              "    </script>\n",
              "  </div>\n",
              "\n",
              "\n",
              "<div id=\"df-4caffa1d-dccb-4e83-bbae-dcc007f9108f\">\n",
              "  <button class=\"colab-df-quickchart\" onclick=\"quickchart('df-4caffa1d-dccb-4e83-bbae-dcc007f9108f')\"\n",
              "            title=\"Suggest charts\"\n",
              "            style=\"display:none;\">\n",
              "\n",
              "<svg xmlns=\"http://www.w3.org/2000/svg\" height=\"24px\"viewBox=\"0 0 24 24\"\n",
              "     width=\"24px\">\n",
              "    <g>\n",
              "        <path d=\"M19 3H5c-1.1 0-2 .9-2 2v14c0 1.1.9 2 2 2h14c1.1 0 2-.9 2-2V5c0-1.1-.9-2-2-2zM9 17H7v-7h2v7zm4 0h-2V7h2v10zm4 0h-2v-4h2v4z\"/>\n",
              "    </g>\n",
              "</svg>\n",
              "  </button>\n",
              "\n",
              "<style>\n",
              "  .colab-df-quickchart {\n",
              "      --bg-color: #E8F0FE;\n",
              "      --fill-color: #1967D2;\n",
              "      --hover-bg-color: #E2EBFA;\n",
              "      --hover-fill-color: #174EA6;\n",
              "      --disabled-fill-color: #AAA;\n",
              "      --disabled-bg-color: #DDD;\n",
              "  }\n",
              "\n",
              "  [theme=dark] .colab-df-quickchart {\n",
              "      --bg-color: #3B4455;\n",
              "      --fill-color: #D2E3FC;\n",
              "      --hover-bg-color: #434B5C;\n",
              "      --hover-fill-color: #FFFFFF;\n",
              "      --disabled-bg-color: #3B4455;\n",
              "      --disabled-fill-color: #666;\n",
              "  }\n",
              "\n",
              "  .colab-df-quickchart {\n",
              "    background-color: var(--bg-color);\n",
              "    border: none;\n",
              "    border-radius: 50%;\n",
              "    cursor: pointer;\n",
              "    display: none;\n",
              "    fill: var(--fill-color);\n",
              "    height: 32px;\n",
              "    padding: 0;\n",
              "    width: 32px;\n",
              "  }\n",
              "\n",
              "  .colab-df-quickchart:hover {\n",
              "    background-color: var(--hover-bg-color);\n",
              "    box-shadow: 0 1px 2px rgba(60, 64, 67, 0.3), 0 1px 3px 1px rgba(60, 64, 67, 0.15);\n",
              "    fill: var(--button-hover-fill-color);\n",
              "  }\n",
              "\n",
              "  .colab-df-quickchart-complete:disabled,\n",
              "  .colab-df-quickchart-complete:disabled:hover {\n",
              "    background-color: var(--disabled-bg-color);\n",
              "    fill: var(--disabled-fill-color);\n",
              "    box-shadow: none;\n",
              "  }\n",
              "\n",
              "  .colab-df-spinner {\n",
              "    border: 2px solid var(--fill-color);\n",
              "    border-color: transparent;\n",
              "    border-bottom-color: var(--fill-color);\n",
              "    animation:\n",
              "      spin 1s steps(1) infinite;\n",
              "  }\n",
              "\n",
              "  @keyframes spin {\n",
              "    0% {\n",
              "      border-color: transparent;\n",
              "      border-bottom-color: var(--fill-color);\n",
              "      border-left-color: var(--fill-color);\n",
              "    }\n",
              "    20% {\n",
              "      border-color: transparent;\n",
              "      border-left-color: var(--fill-color);\n",
              "      border-top-color: var(--fill-color);\n",
              "    }\n",
              "    30% {\n",
              "      border-color: transparent;\n",
              "      border-left-color: var(--fill-color);\n",
              "      border-top-color: var(--fill-color);\n",
              "      border-right-color: var(--fill-color);\n",
              "    }\n",
              "    40% {\n",
              "      border-color: transparent;\n",
              "      border-right-color: var(--fill-color);\n",
              "      border-top-color: var(--fill-color);\n",
              "    }\n",
              "    60% {\n",
              "      border-color: transparent;\n",
              "      border-right-color: var(--fill-color);\n",
              "    }\n",
              "    80% {\n",
              "      border-color: transparent;\n",
              "      border-right-color: var(--fill-color);\n",
              "      border-bottom-color: var(--fill-color);\n",
              "    }\n",
              "    90% {\n",
              "      border-color: transparent;\n",
              "      border-bottom-color: var(--fill-color);\n",
              "    }\n",
              "  }\n",
              "</style>\n",
              "\n",
              "  <script>\n",
              "    async function quickchart(key) {\n",
              "      const quickchartButtonEl =\n",
              "        document.querySelector('#' + key + ' button');\n",
              "      quickchartButtonEl.disabled = true;  // To prevent multiple clicks.\n",
              "      quickchartButtonEl.classList.add('colab-df-spinner');\n",
              "      try {\n",
              "        const charts = await google.colab.kernel.invokeFunction(\n",
              "            'suggestCharts', [key], {});\n",
              "      } catch (error) {\n",
              "        console.error('Error during call to suggestCharts:', error);\n",
              "      }\n",
              "      quickchartButtonEl.classList.remove('colab-df-spinner');\n",
              "      quickchartButtonEl.classList.add('colab-df-quickchart-complete');\n",
              "    }\n",
              "    (() => {\n",
              "      let quickchartButtonEl =\n",
              "        document.querySelector('#df-4caffa1d-dccb-4e83-bbae-dcc007f9108f button');\n",
              "      quickchartButtonEl.style.display =\n",
              "        google.colab.kernel.accessAllowed ? 'block' : 'none';\n",
              "    })();\n",
              "  </script>\n",
              "</div>\n",
              "    </div>\n",
              "  </div>\n"
            ],
            "application/vnd.google.colaboratory.intrinsic+json": {
              "type": "dataframe",
              "variable_name": "df",
              "summary": "{\n  \"name\": \"df\",\n  \"rows\": 96,\n  \"fields\": [\n    {\n      \"column\": \"Fecha\",\n      \"properties\": {\n        \"dtype\": \"date\",\n        \"min\": \"2014-01-01 00:00:00\",\n        \"max\": \"2021-12-01 00:00:00\",\n        \"num_unique_values\": 96,\n        \"samples\": [\n          \"2020-09-01 00:00:00\",\n          \"2020-06-01 00:00:00\",\n          \"2020-02-01 00:00:00\"\n        ],\n        \"semantic_type\": \"\",\n        \"description\": \"\"\n      }\n    },\n    {\n      \"column\": \"Compraventa_Unitario\",\n      \"properties\": {\n        \"dtype\": \"number\",\n        \"std\": 327.2177727649367,\n        \"min\": 1511.9,\n        \"max\": 2445.223076923077,\n        \"num_unique_values\": 32,\n        \"samples\": [\n          2398.712677248375,\n          2361.330769230769,\n          2363.4334556513313\n        ],\n        \"semantic_type\": \"\",\n        \"description\": \"\"\n      }\n    },\n    {\n      \"column\": \"m\\u00b2 por habitante\",\n      \"properties\": {\n        \"dtype\": \"number\",\n        \"std\": 0.12247448713915872,\n        \"min\": 6.700000000000001,\n        \"max\": 7.1,\n        \"num_unique_values\": 5,\n        \"samples\": [\n          7.0,\n          6.700000000000001,\n          7.1\n        ],\n        \"semantic_type\": \"\",\n        \"description\": \"\"\n      }\n    }\n  ]\n}"
            }
          },
          "metadata": {},
          "execution_count": 12
        }
      ]
    },
    {
      "cell_type": "code",
      "source": [
        "df.info()"
      ],
      "metadata": {
        "colab": {
          "base_uri": "https://localhost:8080/"
        },
        "id": "Y21QaIpB3fVR",
        "outputId": "57dff690-ce16-4f4e-ae4e-f51f6fa16a46"
      },
      "execution_count": null,
      "outputs": [
        {
          "output_type": "stream",
          "name": "stdout",
          "text": [
            "<class 'pandas.core.frame.DataFrame'>\n",
            "DatetimeIndex: 96 entries, 2014-01-01 to 2021-12-01\n",
            "Data columns (total 2 columns):\n",
            " #   Column                Non-Null Count  Dtype  \n",
            "---  ------                --------------  -----  \n",
            " 0   Compraventa_Unitario  96 non-null     float64\n",
            " 1   m² por habitante      96 non-null     float64\n",
            "dtypes: float64(2)\n",
            "memory usage: 2.2 KB\n"
          ]
        }
      ]
    },
    {
      "cell_type": "code",
      "source": [
        "fig, axes = plt.subplots(nrows = int(len(df.columns)), ncols = 1, dpi = 100, figsize = (14,10))\n",
        "unidades = ['€/m²','m²/habitante']\n",
        "colores = ['#FF5733', '#3498DB']\n",
        "\n",
        "for i, (col,ax) in enumerate(zip(df.columns, axes.flatten())):\n",
        "    df[col].plot(color = colores[i], legend = True, ax = ax)\n",
        "    ax.set_ylabel(unidades[i])  # Establecer etiqueta del eje y\n",
        "plt.show()"
      ],
      "metadata": {
        "colab": {
          "base_uri": "https://localhost:8080/",
          "height": 850
        },
        "id": "fGqh8sGPU0l3",
        "outputId": "37f99959-122a-41b4-9d46-9f7c24fb8615"
      },
      "execution_count": null,
      "outputs": [
        {
          "output_type": "display_data",
          "data": {
            "text/plain": [
              "<Figure size 1400x1000 with 2 Axes>"
            ],
            "image/png": "[encoded data removed]"
          },
          "metadata": {}
        }
      ]
    },
    {
      "cell_type": "markdown",
      "source": [
        "Cada una de las series tiene patrones de tendencia muy diferentes entre si"
      ],
      "metadata": {
        "id": "pQPjDjNRN8PE"
      }
    },
    {
      "cell_type": "code",
      "source": [
        "corr=df.corr()\n",
        "corr"
      ],
      "metadata": {
        "colab": {
          "base_uri": "https://localhost:8080/",
          "height": 112
        },
        "id": "levxFlFsrUpd",
        "outputId": "2547ffe9-2f54-4d26-b133-ccde5ca79cb1"
      },
      "execution_count": null,
      "outputs": [
        {
          "output_type": "execute_result",
          "data": {
            "text/plain": [
              "                      Compraventa_Unitario  m² por habitante\n",
              "Compraventa_Unitario              1.000000         -0.475285\n",
              "m² por habitante                 -0.475285          1.000000"
            ],
            "text/html": [
              "\n",
              "  <div id=\"df-327b4f57-833c-494c-8d38-65b9a98185c7\" class=\"colab-df-container\">\n",
              "    <div>\n",
              "<style scoped>\n",
              "    .dataframe tbody tr th:only-of-type {\n",
              "        vertical-align: middle;\n",
              "    }\n",
              "\n",
              "    .dataframe tbody tr th {\n",
              "        vertical-align: top;\n",
              "    }\n",
              "\n",
              "    .dataframe thead th {\n",
              "        text-align: right;\n",
              "    }\n",
              "</style>\n",
              "<table border=\"1\" class=\"dataframe\">\n",
              "  <thead>\n",
              "    <tr style=\"text-align: right;\">\n",
              "      <th></th>\n",
              "      <th>Compraventa_Unitario</th>\n",
              "      <th>m² por habitante</th>\n",
              "    </tr>\n",
              "  </thead>\n",
              "  <tbody>\n",
              "    <tr>\n",
              "      <th>Compraventa_Unitario</th>\n",
              "      <td>1.000000</td>\n",
              "      <td>-0.475285</td>\n",
              "    </tr>\n",
              "    <tr>\n",
              "      <th>m² por habitante</th>\n",
              "      <td>-0.475285</td>\n",
              "      <td>1.000000</td>\n",
              "    </tr>\n",
              "  </tbody>\n",
              "</table>\n",
              "</div>\n",
              "    <div class=\"colab-df-buttons\">\n",
              "\n",
              "  <div class=\"colab-df-container\">\n",
              "    <button class=\"colab-df-convert\" onclick=\"convertToInteractive('df-327b4f57-833c-494c-8d38-65b9a98185c7')\"\n",
              "            title=\"Convert this dataframe to an interactive table.\"\n",
              "            style=\"display:none;\">\n",
              "\n",
              "  <svg xmlns=\"http://www.w3.org/2000/svg\" height=\"24px\" viewBox=\"0 -960 960 960\">\n",
              "    <path d=\"M120-120v-720h720v720H120Zm60-500h600v-160H180v160Zm220 220h160v-160H400v160Zm0 220h160v-160H400v160ZM180-400h160v-160H180v160Zm440 0h160v-160H620v160ZM180-180h160v-160H180v160Zm440 0h160v-160H620v160Z\"/>\n",
              "  </svg>\n",
              "    </button>\n",
              "\n",
              "  <style>\n",
              "    .colab-df-container {\n",
              "      display:flex;\n",
              "      gap: 12px;\n",
              "    }\n",
              "\n",
              "    .colab-df-convert {\n",
              "      background-color: #E8F0FE;\n",
              "      border: none;\n",
              "      border-radius: 50%;\n",
              "      cursor: pointer;\n",
              "      display: none;\n",
              "      fill: #1967D2;\n",
              "      height: 32px;\n",
              "      padding: 0 0 0 0;\n",
              "      width: 32px;\n",
              "    }\n",
              "\n",
              "    .colab-df-convert:hover {\n",
              "      background-color: #E2EBFA;\n",
              "      box-shadow: 0px 1px 2px rgba(60, 64, 67, 0.3), 0px 1px 3px 1px rgba(60, 64, 67, 0.15);\n",
              "      fill: #174EA6;\n",
              "    }\n",
              "\n",
              "    .colab-df-buttons div {\n",
              "      margin-bottom: 4px;\n",
              "    }\n",
              "\n",
              "    [theme=dark] .colab-df-convert {\n",
              "      background-color: #3B4455;\n",
              "      fill: #D2E3FC;\n",
              "    }\n",
              "\n",
              "    [theme=dark] .colab-df-convert:hover {\n",
              "      background-color: #434B5C;\n",
              "      box-shadow: 0px 1px 3px 1px rgba(0, 0, 0, 0.15);\n",
              "      filter: drop-shadow(0px 1px 2px rgba(0, 0, 0, 0.3));\n",
              "      fill: #FFFFFF;\n",
              "    }\n",
              "  </style>\n",
              "\n",
              "    <script>\n",
              "      const buttonEl =\n",
              "        document.querySelector('#df-327b4f57-833c-494c-8d38-65b9a98185c7 button.colab-df-convert');\n",
              "      buttonEl.style.display =\n",
              "        google.colab.kernel.accessAllowed ? 'block' : 'none';\n",
              "\n",
              "      async function convertToInteractive(key) {\n",
              "        const element = document.querySelector('#df-327b4f57-833c-494c-8d38-65b9a98185c7');\n",
              "        const dataTable =\n",
              "          await google.colab.kernel.invokeFunction('convertToInteractive',\n",
              "                                                    [key], {});\n",
              "        if (!dataTable) return;\n",
              "\n",
              "        const docLinkHtml = 'Like what you see? Visit the ' +\n",
              "          '<a target=\"_blank\" href=https://colab.research.google.com/notebooks/data_table.ipynb>data table notebook</a>'\n",
              "          + ' to learn more about interactive tables.';\n",
              "        element.innerHTML = '';\n",
              "        dataTable['output_type'] = 'display_data';\n",
              "        await google.colab.output.renderOutput(dataTable, element);\n",
              "        const docLink = document.createElement('div');\n",
              "        docLink.innerHTML = docLinkHtml;\n",
              "        element.appendChild(docLink);\n",
              "      }\n",
              "    </script>\n",
              "  </div>\n",
              "\n",
              "\n",
              "<div id=\"df-d4375382-bed4-4ea2-9788-ddcc3dcb218a\">\n",
              "  <button class=\"colab-df-quickchart\" onclick=\"quickchart('df-d4375382-bed4-4ea2-9788-ddcc3dcb218a')\"\n",
              "            title=\"Suggest charts\"\n",
              "            style=\"display:none;\">\n",
              "\n",
              "<svg xmlns=\"http://www.w3.org/2000/svg\" height=\"24px\"viewBox=\"0 0 24 24\"\n",
              "     width=\"24px\">\n",
              "    <g>\n",
              "        <path d=\"M19 3H5c-1.1 0-2 .9-2 2v14c0 1.1.9 2 2 2h14c1.1 0 2-.9 2-2V5c0-1.1-.9-2-2-2zM9 17H7v-7h2v7zm4 0h-2V7h2v10zm4 0h-2v-4h2v4z\"/>\n",
              "    </g>\n",
              "</svg>\n",
              "  </button>\n",
              "\n",
              "<style>\n",
              "  .colab-df-quickchart {\n",
              "      --bg-color: #E8F0FE;\n",
              "      --fill-color: #1967D2;\n",
              "      --hover-bg-color: #E2EBFA;\n",
              "      --hover-fill-color: #174EA6;\n",
              "      --disabled-fill-color: #AAA;\n",
              "      --disabled-bg-color: #DDD;\n",
              "  }\n",
              "\n",
              "  [theme=dark] .colab-df-quickchart {\n",
              "      --bg-color: #3B4455;\n",
              "      --fill-color: #D2E3FC;\n",
              "      --hover-bg-color: #434B5C;\n",
              "      --hover-fill-color: #FFFFFF;\n",
              "      --disabled-bg-color: #3B4455;\n",
              "      --disabled-fill-color: #666;\n",
              "  }\n",
              "\n",
              "  .colab-df-quickchart {\n",
              "    background-color: var(--bg-color);\n",
              "    border: none;\n",
              "    border-radius: 50%;\n",
              "    cursor: pointer;\n",
              "    display: none;\n",
              "    fill: var(--fill-color);\n",
              "    height: 32px;\n",
              "    padding: 0;\n",
              "    width: 32px;\n",
              "  }\n",
              "\n",
              "  .colab-df-quickchart:hover {\n",
              "    background-color: var(--hover-bg-color);\n",
              "    box-shadow: 0 1px 2px rgba(60, 64, 67, 0.3), 0 1px 3px 1px rgba(60, 64, 67, 0.15);\n",
              "    fill: var(--button-hover-fill-color);\n",
              "  }\n",
              "\n",
              "  .colab-df-quickchart-complete:disabled,\n",
              "  .colab-df-quickchart-complete:disabled:hover {\n",
              "    background-color: var(--disabled-bg-color);\n",
              "    fill: var(--disabled-fill-color);\n",
              "    box-shadow: none;\n",
              "  }\n",
              "\n",
              "  .colab-df-spinner {\n",
              "    border: 2px solid var(--fill-color);\n",
              "    border-color: transparent;\n",
              "    border-bottom-color: var(--fill-color);\n",
              "    animation:\n",
              "      spin 1s steps(1) infinite;\n",
              "  }\n",
              "\n",
              "  @keyframes spin {\n",
              "    0% {\n",
              "      border-color: transparent;\n",
              "      border-bottom-color: var(--fill-color);\n",
              "      border-left-color: var(--fill-color);\n",
              "    }\n",
              "    20% {\n",
              "      border-color: transparent;\n",
              "      border-left-color: var(--fill-color);\n",
              "      border-top-color: var(--fill-color);\n",
              "    }\n",
              "    30% {\n",
              "      border-color: transparent;\n",
              "      border-left-color: var(--fill-color);\n",
              "      border-top-color: var(--fill-color);\n",
              "      border-right-color: var(--fill-color);\n",
              "    }\n",
              "    40% {\n",
              "      border-color: transparent;\n",
              "      border-right-color: var(--fill-color);\n",
              "      border-top-color: var(--fill-color);\n",
              "    }\n",
              "    60% {\n",
              "      border-color: transparent;\n",
              "      border-right-color: var(--fill-color);\n",
              "    }\n",
              "    80% {\n",
              "      border-color: transparent;\n",
              "      border-right-color: var(--fill-color);\n",
              "      border-bottom-color: var(--fill-color);\n",
              "    }\n",
              "    90% {\n",
              "      border-color: transparent;\n",
              "      border-bottom-color: var(--fill-color);\n",
              "    }\n",
              "  }\n",
              "</style>\n",
              "\n",
              "  <script>\n",
              "    async function quickchart(key) {\n",
              "      const quickchartButtonEl =\n",
              "        document.querySelector('#' + key + ' button');\n",
              "      quickchartButtonEl.disabled = true;  // To prevent multiple clicks.\n",
              "      quickchartButtonEl.classList.add('colab-df-spinner');\n",
              "      try {\n",
              "        const charts = await google.colab.kernel.invokeFunction(\n",
              "            'suggestCharts', [key], {});\n",
              "      } catch (error) {\n",
              "        console.error('Error during call to suggestCharts:', error);\n",
              "      }\n",
              "      quickchartButtonEl.classList.remove('colab-df-spinner');\n",
              "      quickchartButtonEl.classList.add('colab-df-quickchart-complete');\n",
              "    }\n",
              "    (() => {\n",
              "      let quickchartButtonEl =\n",
              "        document.querySelector('#df-d4375382-bed4-4ea2-9788-ddcc3dcb218a button');\n",
              "      quickchartButtonEl.style.display =\n",
              "        google.colab.kernel.accessAllowed ? 'block' : 'none';\n",
              "    })();\n",
              "  </script>\n",
              "</div>\n",
              "    </div>\n",
              "  </div>\n"
            ],
            "application/vnd.google.colaboratory.intrinsic+json": {
              "type": "dataframe",
              "variable_name": "corr",
              "summary": "{\n  \"name\": \"corr\",\n  \"rows\": 2,\n  \"fields\": [\n    {\n      \"column\": \"Compraventa_Unitario\",\n      \"properties\": {\n        \"dtype\": \"number\",\n        \"std\": 1.043184008321235,\n        \"min\": -0.4752849726186179,\n        \"max\": 1.0,\n        \"num_unique_values\": 2,\n        \"samples\": [\n          -0.4752849726186179,\n          1.0\n        ],\n        \"semantic_type\": \"\",\n        \"description\": \"\"\n      }\n    },\n    {\n      \"column\": \"m\\u00b2 por habitante\",\n      \"properties\": {\n        \"dtype\": \"number\",\n        \"std\": 1.043184008321235,\n        \"min\": -0.4752849726186179,\n        \"max\": 1.0,\n        \"num_unique_values\": 2,\n        \"samples\": [\n          1.0,\n          -0.4752849726186179\n        ],\n        \"semantic_type\": \"\",\n        \"description\": \"\"\n      }\n    }\n  ]\n}"
            }
          },
          "metadata": {},
          "execution_count": 15
        }
      ]
    },
    {
      "cell_type": "code",
      "source": [
        "import seaborn as sb\n",
        "fig, ax = plt.subplots(figsize=(12, 10))\n",
        "\n",
        "sb.heatmap(corr, xticklabels=corr.columns.values, yticklabels=corr.columns.values, annot=True,vmax=1, vmin=-1, cmap =sb.diverging_palette(220, 10, as_cmap=True),center=0,ax=ax )\n",
        "plt.show()"
      ],
      "metadata": {
        "colab": {
          "base_uri": "https://localhost:8080/",
          "height": 836
        },
        "id": "-snhTk3AzH69",
        "outputId": "3a153dbe-e778-4069-c135-b8d2d265d4a2"
      },
      "execution_count": null,
      "outputs": [
        {
          "output_type": "display_data",
          "data": {
            "text/plain": [
              "<Figure size 1200x1000 with 2 Axes>"
            ],
            "image/png": "[encoded data removed]"
          },
          "metadata": {}
        }
      ]
    },
    {
      "cell_type": "markdown",
      "source": [
        "La correlación entre \"Compraventa_Unitario\" y \"m² por habitante\" es de -0.475285. Esto sugiere una correlación negativa moderada entre estas dos variables. Cuando una variable aumenta, la otra tiende a disminuir, y viceversa, pero no de manera perfectamente lineal."
      ],
      "metadata": {
        "id": "17ib49lFVZX-"
      }
    },
    {
      "cell_type": "markdown",
      "source": [
        "### Dividir los datos en conjunto de Entrenamiento y Prueba\n"
      ],
      "metadata": {
        "id": "EjYimuY2jS8K"
      }
    },
    {
      "cell_type": "code",
      "source": [
        "fecha_division = '2021-07-01'\n",
        "\n",
        "X_train, X_test = df[df.index<fecha_division], df[df.index>=fecha_division]\n",
        "print(X_train.shape, X_test.shape)\n"
      ],
      "metadata": {
        "colab": {
          "base_uri": "https://localhost:8080/"
        },
        "outputId": "0f2cc403-5de6-4613-b862-500da54e67e3",
        "id": "ptgu2DN9jS8Q"
      },
      "execution_count": null,
      "outputs": [
        {
          "output_type": "stream",
          "name": "stdout",
          "text": [
            "(90, 2) (6, 2)\n"
          ]
        }
      ]
    },
    {
      "cell_type": "markdown",
      "source": [
        "Los modelos siguientes se ajustarán al conjunto de entrenamiento X_train y luego se utilizará el modelo para pronosticar las observaciones futuras. Estos pronósticos se compararán con los datos reales del conjunto de prueba.\n",
        "\n"
      ],
      "metadata": {
        "id": "W6qpbBh3jS8Q"
      }
    },
    {
      "cell_type": "markdown",
      "source": [
        "###Test de Cointegracion"
      ],
      "metadata": {
        "id": "NDAg-GA1jdFi"
      }
    },
    {
      "cell_type": "markdown",
      "source": [
        "Determinaremos si las dos variables estan relacionadas entre si y si esa relacion es duradera o no"
      ],
      "metadata": {
        "id": "OTJVwjy5jdFo"
      }
    },
    {
      "cell_type": "code",
      "source": [
        "from statsmodels.tsa.vector_ar.vecm import coint_johansen\n",
        "\n",
        "def cointegration_test(df):\n",
        "    res = coint_johansen(df,-1,5)\n",
        "    d = {'0.90':0, '0.95':1, '0.99':2}\n",
        "    traces = res.lr1\n",
        "    cvts = res.cvt[:, d[str(1-0.05)]]\n",
        "    def adjust(val, length= 6):\n",
        "        return str(val).ljust(length)\n",
        "    print('Column Name   >  Test Stat > C(95%)    =>   Signif  \\n', '--'*20)\n",
        "    for col, trace, cvt in zip(df.columns, traces, cvts):\n",
        "        print(adjust(col), '> ', adjust(round(trace,2), 9), \">\", adjust(cvt, 8), ' =>  ' , trace > cvt)"
      ],
      "metadata": {
        "id": "_oHXnsV-jdFo"
      },
      "execution_count": null,
      "outputs": []
    },
    {
      "cell_type": "code",
      "source": [
        "cointegration_test(X_train[['Compraventa_Unitario','m² por habitante']])"
      ],
      "metadata": {
        "colab": {
          "base_uri": "https://localhost:8080/"
        },
        "outputId": "1c3f4678-8774-4e83-fbc1-4a1614d184b9",
        "id": "nQ_DLCEnjdFp"
      },
      "execution_count": null,
      "outputs": [
        {
          "output_type": "stream",
          "name": "stdout",
          "text": [
            "Column Name   >  Test Stat > C(95%)    =>   Signif  \n",
            " ----------------------------------------\n",
            "Compraventa_Unitario >  9.25      > 12.3212   =>   False\n",
            "m² por habitante >  2.53      > 4.1296    =>   False\n"
          ]
        }
      ]
    },
    {
      "cell_type": "markdown",
      "source": [
        "* **Compraventa_Unitario**: No hay suficiente evidencia estadística para rechazar la hipótesis nula de no cointegración. Esto sugiere que \"Compraventa_Unitario\" no tiene una relación de equilibrio estacionario de largo plazo con las otras series en el sistema.\n",
        "* **m² por habitante**: Similarmente, \"m² por habitante\" tampoco muestra evidencia de cointegración. No existe una combinación lineal estacionaria que vincule esta serie con otras en el sistema a largo plazo."
      ],
      "metadata": {
        "id": "0PMNglcLjqg4"
      }
    },
    {
      "cell_type": "markdown",
      "source": [
        "Para un análisis conjunto que aún considera las interacciones entre múltiples series no cointegradas, usaremos un modelo VAR (Vector Autoregressive) o VARMA (Vector Autoregressive Moving Average) y descartaremos el modelo VECM (Vector Error Correlation Model), pero primero transformaremos comprobaremos y transformaremos por diferenciacion las veces necesrarias para convertir las series en estacionarias\n",
        "\n"
      ],
      "metadata": {
        "id": "xQCqkDr7jdFp"
      }
    },
    {
      "cell_type": "markdown",
      "source": [
        "##### Prueba de estacionariedad"
      ],
      "metadata": {
        "id": "5f0FGrQdj1Fz"
      }
    },
    {
      "cell_type": "markdown",
      "source": [
        "Necesitamos que los datos sean estacionarios para poder usar el modelo VAR. Vamos a averiguarlo haciendo un Test de Dickey-Fuller aumentado, a cada variable univariante que tiene nuestro dataset."
      ],
      "metadata": {
        "id": "0BndrkL-j1F5"
      }
    },
    {
      "cell_type": "code",
      "source": [
        "import statsmodels.tsa.stattools as sts"
      ],
      "metadata": {
        "id": "4qLr1-GNj1F5"
      },
      "execution_count": null,
      "outputs": []
    },
    {
      "cell_type": "code",
      "source": [
        "def augmented_dickey_fuller_statistics(time_series):\n",
        "  result = sts.adfuller(time_series.values)\n",
        "  print('p-value: %f' % result[1])\n",
        "\n",
        "print('Test de Dickey-Fuller Aumentado:')\n",
        "for i in range(len(X_train.columns)):\n",
        "  print('Serie de tiempo',X_train.columns[i])\n",
        "  augmented_dickey_fuller_statistics(X_train.iloc[:,i])"
      ],
      "metadata": {
        "colab": {
          "base_uri": "https://localhost:8080/"
        },
        "outputId": "a7f5fa13-95d3-456f-d517-dc7a4ce72164",
        "id": "A1OKdUVJj1F5"
      },
      "execution_count": null,
      "outputs": [
        {
          "output_type": "stream",
          "name": "stdout",
          "text": [
            "Test de Dickey-Fuller Aumentado:\n",
            "Serie de tiempo Compraventa_Unitario\n",
            "p-value: 0.745433\n",
            "Serie de tiempo m² por habitante\n",
            "p-value: 0.926895\n"
          ]
        }
      ]
    },
    {
      "cell_type": "markdown",
      "source": [
        "Los p-valores son mayores que 0.05, con lo cual no se rechaza la hipótesis nula de que la serie no es estacionaria. Habría que transformar los datos porque no se puede confirmar estacionariedad."
      ],
      "metadata": {
        "id": "mV1E4bmjj1F6"
      }
    },
    {
      "cell_type": "code",
      "source": [
        "#Diferenciando por primera vez\n",
        "X_train_transformed=X_train.diff().dropna()\n",
        "X_train_transformed.head()"
      ],
      "metadata": {
        "colab": {
          "base_uri": "https://localhost:8080/",
          "height": 237
        },
        "outputId": "0e8edf29-eabf-4ddf-9913-6608ed50b57a",
        "id": "TFf3wjuEj1F6"
      },
      "execution_count": null,
      "outputs": [
        {
          "output_type": "execute_result",
          "data": {
            "text/plain": [
              "            Compraventa_Unitario  m² por habitante\n",
              "Fecha                                             \n",
              "2014-02-01              0.000000               0.0\n",
              "2014-03-01              0.000000               0.0\n",
              "2014-04-01            121.169231               0.0\n",
              "2014-05-01              0.000000               0.0\n",
              "2014-06-01              0.000000               0.0"
            ],
            "text/html": [
              "\n",
              "  <div id=\"df-da8145a6-e055-48a2-8e4f-260f760fbf45\" class=\"colab-df-container\">\n",
              "    <div>\n",
              "<style scoped>\n",
              "    .dataframe tbody tr th:only-of-type {\n",
              "        vertical-align: middle;\n",
              "    }\n",
              "\n",
              "    .dataframe tbody tr th {\n",
              "        vertical-align: top;\n",
              "    }\n",
              "\n",
              "    .dataframe thead th {\n",
              "        text-align: right;\n",
              "    }\n",
              "</style>\n",
              "<table border=\"1\" class=\"dataframe\">\n",
              "  <thead>\n",
              "    <tr style=\"text-align: right;\">\n",
              "      <th></th>\n",
              "      <th>Compraventa_Unitario</th>\n",
              "      <th>m² por habitante</th>\n",
              "    </tr>\n",
              "    <tr>\n",
              "      <th>Fecha</th>\n",
              "      <th></th>\n",
              "      <th></th>\n",
              "    </tr>\n",
              "  </thead>\n",
              "  <tbody>\n",
              "    <tr>\n",
              "      <th>2014-02-01</th>\n",
              "      <td>0.000000</td>\n",
              "      <td>0.0</td>\n",
              "    </tr>\n",
              "    <tr>\n",
              "      <th>2014-03-01</th>\n",
              "      <td>0.000000</td>\n",
              "      <td>0.0</td>\n",
              "    </tr>\n",
              "    <tr>\n",
              "      <th>2014-04-01</th>\n",
              "      <td>121.169231</td>\n",
              "      <td>0.0</td>\n",
              "    </tr>\n",
              "    <tr>\n",
              "      <th>2014-05-01</th>\n",
              "      <td>0.000000</td>\n",
              "      <td>0.0</td>\n",
              "    </tr>\n",
              "    <tr>\n",
              "      <th>2014-06-01</th>\n",
              "      <td>0.000000</td>\n",
              "      <td>0.0</td>\n",
              "    </tr>\n",
              "  </tbody>\n",
              "</table>\n",
              "</div>\n",
              "    <div class=\"colab-df-buttons\">\n",
              "\n",
              "  <div class=\"colab-df-container\">\n",
              "    <button class=\"colab-df-convert\" onclick=\"convertToInteractive('df-da8145a6-e055-48a2-8e4f-260f760fbf45')\"\n",
              "            title=\"Convert this dataframe to an interactive table.\"\n",
              "            style=\"display:none;\">\n",
              "\n",
              "  <svg xmlns=\"http://www.w3.org/2000/svg\" height=\"24px\" viewBox=\"0 -960 960 960\">\n",
              "    <path d=\"M120-120v-720h720v720H120Zm60-500h600v-160H180v160Zm220 220h160v-160H400v160Zm0 220h160v-160H400v160ZM180-400h160v-160H180v160Zm440 0h160v-160H620v160ZM180-180h160v-160H180v160Zm440 0h160v-160H620v160Z\"/>\n",
              "  </svg>\n",
              "    </button>\n",
              "\n",
              "  <style>\n",
              "    .colab-df-container {\n",
              "      display:flex;\n",
              "      gap: 12px;\n",
              "    }\n",
              "\n",
              "    .colab-df-convert {\n",
              "      background-color: #E8F0FE;\n",
              "      border: none;\n",
              "      border-radius: 50%;\n",
              "      cursor: pointer;\n",
              "      display: none;\n",
              "      fill: #1967D2;\n",
              "      height: 32px;\n",
              "      padding: 0 0 0 0;\n",
              "      width: 32px;\n",
              "    }\n",
              "\n",
              "    .colab-df-convert:hover {\n",
              "      background-color: #E2EBFA;\n",
              "      box-shadow: 0px 1px 2px rgba(60, 64, 67, 0.3), 0px 1px 3px 1px rgba(60, 64, 67, 0.15);\n",
              "      fill: #174EA6;\n",
              "    }\n",
              "\n",
              "    .colab-df-buttons div {\n",
              "      margin-bottom: 4px;\n",
              "    }\n",
              "\n",
              "    [theme=dark] .colab-df-convert {\n",
              "      background-color: #3B4455;\n",
              "      fill: #D2E3FC;\n",
              "    }\n",
              "\n",
              "    [theme=dark] .colab-df-convert:hover {\n",
              "      background-color: #434B5C;\n",
              "      box-shadow: 0px 1px 3px 1px rgba(0, 0, 0, 0.15);\n",
              "      filter: drop-shadow(0px 1px 2px rgba(0, 0, 0, 0.3));\n",
              "      fill: #FFFFFF;\n",
              "    }\n",
              "  </style>\n",
              "\n",
              "    <script>\n",
              "      const buttonEl =\n",
              "        document.querySelector('#df-da8145a6-e055-48a2-8e4f-260f760fbf45 button.colab-df-convert');\n",
              "      buttonEl.style.display =\n",
              "        google.colab.kernel.accessAllowed ? 'block' : 'none';\n",
              "\n",
              "      async function convertToInteractive(key) {\n",
              "        const element = document.querySelector('#df-da8145a6-e055-48a2-8e4f-260f760fbf45');\n",
              "        const dataTable =\n",
              "          await google.colab.kernel.invokeFunction('convertToInteractive',\n",
              "                                                    [key], {});\n",
              "        if (!dataTable) return;\n",
              "\n",
              "        const docLinkHtml = 'Like what you see? Visit the ' +\n",
              "          '<a target=\"_blank\" href=https://colab.research.google.com/notebooks/data_table.ipynb>data table notebook</a>'\n",
              "          + ' to learn more about interactive tables.';\n",
              "        element.innerHTML = '';\n",
              "        dataTable['output_type'] = 'display_data';\n",
              "        await google.colab.output.renderOutput(dataTable, element);\n",
              "        const docLink = document.createElement('div');\n",
              "        docLink.innerHTML = docLinkHtml;\n",
              "        element.appendChild(docLink);\n",
              "      }\n",
              "    </script>\n",
              "  </div>\n",
              "\n",
              "\n",
              "<div id=\"df-4240bb26-f6e5-4dd1-b64c-db4bc457f5b7\">\n",
              "  <button class=\"colab-df-quickchart\" onclick=\"quickchart('df-4240bb26-f6e5-4dd1-b64c-db4bc457f5b7')\"\n",
              "            title=\"Suggest charts\"\n",
              "            style=\"display:none;\">\n",
              "\n",
              "<svg xmlns=\"http://www.w3.org/2000/svg\" height=\"24px\"viewBox=\"0 0 24 24\"\n",
              "     width=\"24px\">\n",
              "    <g>\n",
              "        <path d=\"M19 3H5c-1.1 0-2 .9-2 2v14c0 1.1.9 2 2 2h14c1.1 0 2-.9 2-2V5c0-1.1-.9-2-2-2zM9 17H7v-7h2v7zm4 0h-2V7h2v10zm4 0h-2v-4h2v4z\"/>\n",
              "    </g>\n",
              "</svg>\n",
              "  </button>\n",
              "\n",
              "<style>\n",
              "  .colab-df-quickchart {\n",
              "      --bg-color: #E8F0FE;\n",
              "      --fill-color: #1967D2;\n",
              "      --hover-bg-color: #E2EBFA;\n",
              "      --hover-fill-color: #174EA6;\n",
              "      --disabled-fill-color: #AAA;\n",
              "      --disabled-bg-color: #DDD;\n",
              "  }\n",
              "\n",
              "  [theme=dark] .colab-df-quickchart {\n",
              "      --bg-color: #3B4455;\n",
              "      --fill-color: #D2E3FC;\n",
              "      --hover-bg-color: #434B5C;\n",
              "      --hover-fill-color: #FFFFFF;\n",
              "      --disabled-bg-color: #3B4455;\n",
              "      --disabled-fill-color: #666;\n",
              "  }\n",
              "\n",
              "  .colab-df-quickchart {\n",
              "    background-color: var(--bg-color);\n",
              "    border: none;\n",
              "    border-radius: 50%;\n",
              "    cursor: pointer;\n",
              "    display: none;\n",
              "    fill: var(--fill-color);\n",
              "    height: 32px;\n",
              "    padding: 0;\n",
              "    width: 32px;\n",
              "  }\n",
              "\n",
              "  .colab-df-quickchart:hover {\n",
              "    background-color: var(--hover-bg-color);\n",
              "    box-shadow: 0 1px 2px rgba(60, 64, 67, 0.3), 0 1px 3px 1px rgba(60, 64, 67, 0.15);\n",
              "    fill: var(--button-hover-fill-color);\n",
              "  }\n",
              "\n",
              "  .colab-df-quickchart-complete:disabled,\n",
              "  .colab-df-quickchart-complete:disabled:hover {\n",
              "    background-color: var(--disabled-bg-color);\n",
              "    fill: var(--disabled-fill-color);\n",
              "    box-shadow: none;\n",
              "  }\n",
              "\n",
              "  .colab-df-spinner {\n",
              "    border: 2px solid var(--fill-color);\n",
              "    border-color: transparent;\n",
              "    border-bottom-color: var(--fill-color);\n",
              "    animation:\n",
              "      spin 1s steps(1) infinite;\n",
              "  }\n",
              "\n",
              "  @keyframes spin {\n",
              "    0% {\n",
              "      border-color: transparent;\n",
              "      border-bottom-color: var(--fill-color);\n",
              "      border-left-color: var(--fill-color);\n",
              "    }\n",
              "    20% {\n",
              "      border-color: transparent;\n",
              "      border-left-color: var(--fill-color);\n",
              "      border-top-color: var(--fill-color);\n",
              "    }\n",
              "    30% {\n",
              "      border-color: transparent;\n",
              "      border-left-color: var(--fill-color);\n",
              "      border-top-color: var(--fill-color);\n",
              "      border-right-color: var(--fill-color);\n",
              "    }\n",
              "    40% {\n",
              "      border-color: transparent;\n",
              "      border-right-color: var(--fill-color);\n",
              "      border-top-color: var(--fill-color);\n",
              "    }\n",
              "    60% {\n",
              "      border-color: transparent;\n",
              "      border-right-color: var(--fill-color);\n",
              "    }\n",
              "    80% {\n",
              "      border-color: transparent;\n",
              "      border-right-color: var(--fill-color);\n",
              "      border-bottom-color: var(--fill-color);\n",
              "    }\n",
              "    90% {\n",
              "      border-color: transparent;\n",
              "      border-bottom-color: var(--fill-color);\n",
              "    }\n",
              "  }\n",
              "</style>\n",
              "\n",
              "  <script>\n",
              "    async function quickchart(key) {\n",
              "      const quickchartButtonEl =\n",
              "        document.querySelector('#' + key + ' button');\n",
              "      quickchartButtonEl.disabled = true;  // To prevent multiple clicks.\n",
              "      quickchartButtonEl.classList.add('colab-df-spinner');\n",
              "      try {\n",
              "        const charts = await google.colab.kernel.invokeFunction(\n",
              "            'suggestCharts', [key], {});\n",
              "      } catch (error) {\n",
              "        console.error('Error during call to suggestCharts:', error);\n",
              "      }\n",
              "      quickchartButtonEl.classList.remove('colab-df-spinner');\n",
              "      quickchartButtonEl.classList.add('colab-df-quickchart-complete');\n",
              "    }\n",
              "    (() => {\n",
              "      let quickchartButtonEl =\n",
              "        document.querySelector('#df-4240bb26-f6e5-4dd1-b64c-db4bc457f5b7 button');\n",
              "      quickchartButtonEl.style.display =\n",
              "        google.colab.kernel.accessAllowed ? 'block' : 'none';\n",
              "    })();\n",
              "  </script>\n",
              "</div>\n",
              "    </div>\n",
              "  </div>\n"
            ],
            "application/vnd.google.colaboratory.intrinsic+json": {
              "type": "dataframe",
              "variable_name": "X_train_transformed",
              "summary": "{\n  \"name\": \"X_train_transformed\",\n  \"rows\": 89,\n  \"fields\": [\n    {\n      \"column\": \"Fecha\",\n      \"properties\": {\n        \"dtype\": \"date\",\n        \"min\": \"2014-02-01 00:00:00\",\n        \"max\": \"2021-06-01 00:00:00\",\n        \"num_unique_values\": 89,\n        \"samples\": [\n          \"2017-10-01 00:00:00\",\n          \"2018-07-01 00:00:00\",\n          \"2016-08-01 00:00:00\"\n        ],\n        \"semantic_type\": \"\",\n        \"description\": \"\"\n      }\n    },\n    {\n      \"column\": \"Compraventa_Unitario\",\n      \"properties\": {\n        \"dtype\": \"number\",\n        \"std\": 67.85796290804377,\n        \"min\": -124.00769230769242,\n        \"max\": 299.72307692307686,\n        \"num_unique_values\": 27,\n        \"samples\": [\n          -124.00769230769242,\n          -57.384615384615245,\n          227.19230769230785\n        ],\n        \"semantic_type\": \"\",\n        \"description\": \"\"\n      }\n    },\n    {\n      \"column\": \"m\\u00b2 por habitante\",\n      \"properties\": {\n        \"dtype\": \"number\",\n        \"std\": 0.03006632097202189,\n        \"min\": -0.20000000000000107,\n        \"max\": 0.09999999999999964,\n        \"num_unique_values\": 5,\n        \"samples\": [\n          0.09999999999999964,\n          -0.09999999999999787,\n          -0.09999999999999964\n        ],\n        \"semantic_type\": \"\",\n        \"description\": \"\"\n      }\n    }\n  ]\n}"
            }
          },
          "metadata": {},
          "execution_count": 22
        }
      ]
    },
    {
      "cell_type": "code",
      "source": [
        "# Plot\n",
        "fig, axes = plt.subplots(nrows=2, ncols=1, dpi=120, figsize=(12,6))\n",
        "for i, ax in enumerate(axes.flatten()):\n",
        "    data = X_train_transformed[X_train_transformed.columns[i]]\n",
        "    ax.plot(data, color='red', linewidth=1)\n",
        "    # Decorations\n",
        "    ax.set_title(X_train_transformed.columns[i])\n",
        "    ax.xaxis.set_ticks_position('none')\n",
        "    ax.yaxis.set_ticks_position('none')\n",
        "    ax.spines[\"top\"].set_alpha(0)\n",
        "    ax.tick_params(labelsize=6)\n",
        "\n",
        "plt.tight_layout();"
      ],
      "metadata": {
        "colab": {
          "base_uri": "https://localhost:8080/",
          "height": 724
        },
        "outputId": "85fcb70b-8114-491b-ad2a-4bfe9c11b933",
        "id": "9zQkAN9Oj1F6"
      },
      "execution_count": null,
      "outputs": [
        {
          "output_type": "display_data",
          "data": {
            "text/plain": [
              "<Figure size 1440x720 with 2 Axes>"
            ],
            "image/png": "[encoded data removed]"
          },
          "metadata": {}
        }
      ]
    },
    {
      "cell_type": "code",
      "source": [
        "print('Test de Dickey-Fuller Aumentado 2da vez:')\n",
        "for i in range(len(X_train_transformed.columns)):\n",
        "  print('Serie de tiempo transformada', 'Variable', X_train_transformed.columns[i])\n",
        "  augmented_dickey_fuller_statistics(X_train_transformed.iloc[:,i])"
      ],
      "metadata": {
        "colab": {
          "base_uri": "https://localhost:8080/"
        },
        "outputId": "af845965-b3ef-4e1a-df10-38a2e1df6b6d",
        "id": "vhzn_COlj1F6"
      },
      "execution_count": null,
      "outputs": [
        {
          "output_type": "stream",
          "name": "stdout",
          "text": [
            "Test de Dickey-Fuller Aumentado 2da vez:\n",
            "Serie de tiempo transformada Variable Compraventa_Unitario\n",
            "p-value: 0.000000\n",
            "Serie de tiempo transformada Variable m² por habitante\n",
            "p-value: 0.000000\n"
          ]
        }
      ]
    },
    {
      "cell_type": "markdown",
      "source": [
        "Todos los p-valores son < 0.05 por lo tanto se podría concluir que con 2 ordenes de diferenciación se obtienen series estacionarias."
      ],
      "metadata": {
        "id": "VVu0ZT2ij1F6"
      }
    },
    {
      "cell_type": "markdown",
      "source": [
        "### Modelo VAR"
      ],
      "metadata": {
        "id": "NwY4i2qnaNTw"
      }
    },
    {
      "cell_type": "markdown",
      "source": [
        "El modelo VAR es una extension del modelo ARIMA para multiples series temporales, es decir en vez de modelar una sola srie temporal, el VAR modela simultaneamente todas las series temporales de un sistema.\n",
        "Cada serie temporal se regresa en función de usus propios valores pasados y de los valores pasados de las otras series temporales.\n",
        "**Es util cuando las diferentes series temporales estan interrelacionadas y se influyen mutuamente.**\n",
        "\n",
        "\n"
      ],
      "metadata": {
        "id": "0VwfWqC6aSvt"
      }
    },
    {
      "cell_type": "code",
      "source": [
        "from statsmodels.tsa.api import VAR"
      ],
      "metadata": {
        "id": "RasXLEEkj1F6"
      },
      "execution_count": null,
      "outputs": []
    },
    {
      "cell_type": "code",
      "source": [
        "model = VAR(X_train_transformed)"
      ],
      "metadata": {
        "colab": {
          "base_uri": "https://localhost:8080/"
        },
        "outputId": "a59c8778-ac46-4112-b356-7c33d6470160",
        "id": "ar294Eiaj1F6"
      },
      "execution_count": null,
      "outputs": [
        {
          "output_type": "stream",
          "name": "stderr",
          "text": [
            "/usr/local/lib/python3.10/dist-packages/statsmodels/tsa/base/tsa_model.py:473: ValueWarning: No frequency information was provided, so inferred frequency MS will be used.\n",
            "  self._init_dates(dates, freq)\n"
          ]
        }
      ]
    },
    {
      "cell_type": "markdown",
      "source": [
        "#### Seleccionando el orden del modelo"
      ],
      "metadata": {
        "id": "kDdnofXtacuY"
      }
    },
    {
      "cell_type": "code",
      "source": [
        "modelsel=model.select_order(8)\n",
        "modelsel.summary()"
      ],
      "metadata": {
        "colab": {
          "base_uri": "https://localhost:8080/",
          "height": 257
        },
        "id": "vwWHPsSUamSH",
        "outputId": "c7b353c4-cc6b-4890-acd0-aa891be96b88"
      },
      "execution_count": null,
      "outputs": [
        {
          "output_type": "execute_result",
          "data": {
            "text/plain": [
              "<class 'statsmodels.iolib.table.SimpleTable'>"
            ],
            "text/html": [
              "<table class=\"simpletable\">\n",
              "<caption>VAR Order Selection (* highlights the minimums)</caption>\n",
              "<tr>\n",
              "  <td></td>      <th>AIC</th>         <th>BIC</th>         <th>FPE</th>        <th>HQIC</th>    \n",
              "</tr>\n",
              "<tr>\n",
              "  <th>0</th> <td>     1.589*</td> <td>     1.648*</td> <td>     4.898*</td> <td>     1.613*</td>\n",
              "</tr>\n",
              "<tr>\n",
              "  <th>1</th> <td>     1.687</td>  <td>     1.865</td>  <td>     5.405</td>  <td>     1.758</td> \n",
              "</tr>\n",
              "<tr>\n",
              "  <th>2</th> <td>     1.786</td>  <td>     2.081</td>  <td>     5.965</td>  <td>     1.904</td> \n",
              "</tr>\n",
              "<tr>\n",
              "  <th>3</th> <td>     1.823</td>  <td>     2.237</td>  <td>     6.197</td>  <td>     1.989</td> \n",
              "</tr>\n",
              "<tr>\n",
              "  <th>4</th> <td>     1.921</td>  <td>     2.453</td>  <td>     6.837</td>  <td>     2.134</td> \n",
              "</tr>\n",
              "<tr>\n",
              "  <th>5</th> <td>     2.018</td>  <td>     2.668</td>  <td>     7.547</td>  <td>     2.279</td> \n",
              "</tr>\n",
              "<tr>\n",
              "  <th>6</th> <td>     1.916</td>  <td>     2.684</td>  <td>     6.829</td>  <td>     2.224</td> \n",
              "</tr>\n",
              "<tr>\n",
              "  <th>7</th> <td>     2.012</td>  <td>     2.899</td>  <td>     7.544</td>  <td>     2.368</td> \n",
              "</tr>\n",
              "<tr>\n",
              "  <th>8</th> <td>     2.108</td>  <td>     3.114</td>  <td>     8.341</td>  <td>     2.512</td> \n",
              "</tr>\n",
              "</table>"
            ],
            "text/latex": "\\begin{center}\n\\begin{tabular}{lcccc}\n\\toprule\n           & \\textbf{AIC} & \\textbf{BIC} & \\textbf{FPE} & \\textbf{HQIC}  \\\\\n\\midrule\n\\textbf{0} &      1.589*  &      1.648*  &      4.898*  &       1.613*   \\\\\n\\textbf{1} &       1.687  &       1.865  &       5.405  &        1.758   \\\\\n\\textbf{2} &       1.786  &       2.081  &       5.965  &        1.904   \\\\\n\\textbf{3} &       1.823  &       2.237  &       6.197  &        1.989   \\\\\n\\textbf{4} &       1.921  &       2.453  &       6.837  &        2.134   \\\\\n\\textbf{5} &       2.018  &       2.668  &       7.547  &        2.279   \\\\\n\\textbf{6} &       1.916  &       2.684  &       6.829  &        2.224   \\\\\n\\textbf{7} &       2.012  &       2.899  &       7.544  &        2.368   \\\\\n\\textbf{8} &       2.108  &       3.114  &       8.341  &        2.512   \\\\\n\\bottomrule\n\\end{tabular}\n%\\caption{VAR Order Selection (* highlights the minimums)}\n\\end{center}"
          },
          "metadata": {},
          "execution_count": 27
        }
      ]
    },
    {
      "cell_type": "markdown",
      "source": [
        "Basado en todos estos criterios, el modelo VAR de orden 0 sería el seleccionado. Esto podría sugerir que las variables no presentan dependencias significativas de sus propios valores pasados o entre sí a intervalos de tiempo anteriores. Sin embargo, este resultado es inusual por lo que se probara con otro select_order. Este resultado tampoco es extraño, dada que la longitud de las series temporales es muy reducida.\n",
        "\n"
      ],
      "metadata": {
        "id": "W-WASImS4O7i"
      }
    },
    {
      "cell_type": "code",
      "source": [
        "modelsel=model.select_order(12)\n",
        "modelsel.summary()"
      ],
      "metadata": {
        "colab": {
          "base_uri": "https://localhost:8080/",
          "height": 339
        },
        "id": "NEfoDvsAkPsZ",
        "outputId": "b8226b1e-fffb-41cd-d0b3-d86f60037f63"
      },
      "execution_count": null,
      "outputs": [
        {
          "output_type": "execute_result",
          "data": {
            "text/plain": [
              "<class 'statsmodels.iolib.table.SimpleTable'>"
            ],
            "text/html": [
              "<table class=\"simpletable\">\n",
              "<caption>VAR Order Selection (* highlights the minimums)</caption>\n",
              "<tr>\n",
              "   <td></td>      <th>AIC</th>         <th>BIC</th>         <th>FPE</th>        <th>HQIC</th>    \n",
              "</tr>\n",
              "<tr>\n",
              "  <th>0</th>  <td>     1.510*</td> <td>     1.571*</td> <td>     4.526*</td> <td>     1.534*</td>\n",
              "</tr>\n",
              "<tr>\n",
              "  <th>1</th>  <td>     1.613</td>  <td>     1.795</td>  <td>     5.017</td>  <td>     1.686</td> \n",
              "</tr>\n",
              "<tr>\n",
              "  <th>2</th>  <td>     1.716</td>  <td>     2.020</td>  <td>     5.562</td>  <td>     1.837</td> \n",
              "</tr>\n",
              "<tr>\n",
              "  <th>3</th>  <td>     1.730</td>  <td>     2.156</td>  <td>     5.645</td>  <td>     1.900</td> \n",
              "</tr>\n",
              "<tr>\n",
              "  <th>4</th>  <td>     1.831</td>  <td>     2.379</td>  <td>     6.254</td>  <td>     2.050</td> \n",
              "</tr>\n",
              "<tr>\n",
              "  <th>5</th>  <td>     1.932</td>  <td>     2.602</td>  <td>     6.931</td>  <td>     2.200</td> \n",
              "</tr>\n",
              "<tr>\n",
              "  <th>6</th>  <td>     1.827</td>  <td>     2.618</td>  <td>     6.255</td>  <td>     2.143</td> \n",
              "</tr>\n",
              "<tr>\n",
              "  <th>7</th>  <td>     1.928</td>  <td>     2.841</td>  <td>     6.945</td>  <td>     2.293</td> \n",
              "</tr>\n",
              "<tr>\n",
              "  <th>8</th>  <td>     2.029</td>  <td>     3.064</td>  <td>     7.717</td>  <td>     2.443</td> \n",
              "</tr>\n",
              "<tr>\n",
              "  <th>9</th>  <td>     2.118</td>  <td>     3.275</td>  <td>     8.489</td>  <td>     2.581</td> \n",
              "</tr>\n",
              "<tr>\n",
              "  <th>10</th> <td>     2.218</td>  <td>     3.496</td>  <td>     9.452</td>  <td>     2.729</td> \n",
              "</tr>\n",
              "<tr>\n",
              "  <th>11</th> <td>     2.317</td>  <td>     3.718</td>  <td>     10.54</td>  <td>     2.878</td> \n",
              "</tr>\n",
              "<tr>\n",
              "  <th>12</th> <td>     2.191</td>  <td>     3.713</td>  <td>     9.394</td>  <td>     2.800</td> \n",
              "</tr>\n",
              "</table>"
            ],
            "text/latex": "\\begin{center}\n\\begin{tabular}{lcccc}\n\\toprule\n            & \\textbf{AIC} & \\textbf{BIC} & \\textbf{FPE} & \\textbf{HQIC}  \\\\\n\\midrule\n\\textbf{0}  &      1.510*  &      1.571*  &      4.526*  &       1.534*   \\\\\n\\textbf{1}  &       1.613  &       1.795  &       5.017  &        1.686   \\\\\n\\textbf{2}  &       1.716  &       2.020  &       5.562  &        1.837   \\\\\n\\textbf{3}  &       1.730  &       2.156  &       5.645  &        1.900   \\\\\n\\textbf{4}  &       1.831  &       2.379  &       6.254  &        2.050   \\\\\n\\textbf{5}  &       1.932  &       2.602  &       6.931  &        2.200   \\\\\n\\textbf{6}  &       1.827  &       2.618  &       6.255  &        2.143   \\\\\n\\textbf{7}  &       1.928  &       2.841  &       6.945  &        2.293   \\\\\n\\textbf{8}  &       2.029  &       3.064  &       7.717  &        2.443   \\\\\n\\textbf{9}  &       2.118  &       3.275  &       8.489  &        2.581   \\\\\n\\textbf{10} &       2.218  &       3.496  &       9.452  &        2.729   \\\\\n\\textbf{11} &       2.317  &       3.718  &       10.54  &        2.878   \\\\\n\\textbf{12} &       2.191  &       3.713  &       9.394  &        2.800   \\\\\n\\bottomrule\n\\end{tabular}\n%\\caption{VAR Order Selection (* highlights the minimums)}\n\\end{center}"
          },
          "metadata": {},
          "execution_count": 49
        }
      ]
    },
    {
      "cell_type": "markdown",
      "source": [
        "#### Ajustando el modelo"
      ],
      "metadata": {
        "id": "hAeKlnonlm_N"
      }
    },
    {
      "cell_type": "code",
      "source": [
        "res = model.fit(maxlags=12)\n",
        "res.summary()"
      ],
      "metadata": {
        "colab": {
          "base_uri": "https://localhost:8080/"
        },
        "id": "fCWBWJIolkt7",
        "outputId": "4c7ac2a0-503b-4767-9972-2de8eaf64cf8"
      },
      "execution_count": null,
      "outputs": [
        {
          "output_type": "execute_result",
          "data": {
            "text/plain": [
              "  Summary of Regression Results   \n",
              "==================================\n",
              "Model:                         VAR\n",
              "Method:                        OLS\n",
              "Date:           Wed, 15, May, 2024\n",
              "Time:                     14:06:51\n",
              "--------------------------------------------------------------------\n",
              "No. of Equations:         2.00000    BIC:                    3.71325\n",
              "Nobs:                     77.0000    HQIC:                   2.80007\n",
              "Log likelihood:          -252.882    FPE:                    9.39386\n",
              "AIC:                      2.19130    Det(Omega_mle):         5.35334\n",
              "--------------------------------------------------------------------\n",
              "Results for equation Compraventa_Unitario\n",
              "===========================================================================================\n",
              "                              coefficient       std. error           t-stat            prob\n",
              "-------------------------------------------------------------------------------------------\n",
              "const                           13.184232        10.022307            1.315           0.188\n",
              "L1.Compraventa_Unitario         -0.041224         0.124964           -0.330           0.741\n",
              "L1.m² por habitante             19.161675       271.093644            0.071           0.944\n",
              "L2.Compraventa_Unitario         -0.041532         0.125014           -0.332           0.740\n",
              "L2.m² por habitante             18.769414       271.097160            0.069           0.945\n",
              "L3.Compraventa_Unitario         -0.237974         0.125463           -1.897           0.058\n",
              "L3.m² por habitante            257.188405       271.216221            0.948           0.343\n",
              "L4.Compraventa_Unitario         -0.047879         0.127843           -0.375           0.708\n",
              "L4.m² por habitante             26.239080       272.858971            0.096           0.923\n",
              "L5.Compraventa_Unitario         -0.048202         0.127884           -0.377           0.706\n",
              "L5.m² por habitante             26.891728       272.875695            0.099           0.921\n",
              "L6.Compraventa_Unitario         -0.126209         0.130428           -0.968           0.333\n",
              "L6.m² por habitante            461.155141       293.757380            1.570           0.116\n",
              "L7.Compraventa_Unitario         -0.039723         0.135098           -0.294           0.769\n",
              "L7.m² por habitante             41.415662       274.168794            0.151           0.880\n",
              "L8.Compraventa_Unitario         -0.039893         0.135104           -0.295           0.768\n",
              "L8.m² por habitante             41.520023       274.174481            0.151           0.880\n",
              "L9.Compraventa_Unitario          0.072971         0.135074            0.540           0.589\n",
              "L9.m² por habitante           -212.131687       274.219387           -0.774           0.439\n",
              "L10.Compraventa_Unitario        -0.036793         0.131622           -0.280           0.780\n",
              "L10.m² por habitante            23.501327       271.819282            0.086           0.931\n",
              "L11.Compraventa_Unitario        -0.036702         0.131614           -0.279           0.780\n",
              "L11.m² por habitante            23.509573       271.817424            0.086           0.931\n",
              "L12.Compraventa_Unitario         0.450820         0.133505            3.377           0.001\n",
              "L12.m² por habitante          -261.187456       271.818982           -0.961           0.337\n",
              "===========================================================================================\n",
              "\n",
              "Results for equation m² por habitante\n",
              "===========================================================================================\n",
              "                              coefficient       std. error           t-stat            prob\n",
              "-------------------------------------------------------------------------------------------\n",
              "const                           -0.004243         0.004706           -0.902           0.367\n",
              "L1.Compraventa_Unitario          0.000012         0.000059            0.213           0.831\n",
              "L1.m² por habitante             -0.004997         0.127286           -0.039           0.969\n",
              "L2.Compraventa_Unitario          0.000013         0.000059            0.214           0.830\n",
              "L2.m² por habitante             -0.005022         0.127288           -0.039           0.969\n",
              "L3.Compraventa_Unitario          0.000068         0.000059            1.149           0.250\n",
              "L3.m² por habitante              0.064507         0.127344            0.507           0.612\n",
              "L4.Compraventa_Unitario          0.000015         0.000060            0.245           0.807\n",
              "L4.m² por habitante             -0.005484         0.128115           -0.043           0.966\n",
              "L5.Compraventa_Unitario          0.000015         0.000060            0.245           0.806\n",
              "L5.m² por habitante             -0.005595         0.128123           -0.044           0.965\n",
              "L6.Compraventa_Unitario         -0.000151         0.000061           -2.469           0.014\n",
              "L6.m² por habitante             -0.071860         0.137927           -0.521           0.602\n",
              "L7.Compraventa_Unitario          0.000013         0.000063            0.205           0.838\n",
              "L7.m² por habitante             -0.013100         0.128730           -0.102           0.919\n",
              "L8.Compraventa_Unitario          0.000013         0.000063            0.205           0.838\n",
              "L8.m² por habitante             -0.013120         0.128733           -0.102           0.919\n",
              "L9.Compraventa_Unitario          0.000030         0.000063            0.479           0.632\n",
              "L9.m² por habitante              0.062859         0.128754            0.488           0.625\n",
              "L10.Compraventa_Unitario         0.000012         0.000062            0.200           0.842\n",
              "L10.m² por habitante            -0.007776         0.127627           -0.061           0.951\n",
              "L11.Compraventa_Unitario         0.000012         0.000062            0.199           0.842\n",
              "L11.m² por habitante            -0.007763         0.127626           -0.061           0.951\n",
              "L12.Compraventa_Unitario        -0.000028         0.000063           -0.442           0.658\n",
              "L12.m² por habitante             0.136016         0.127627            1.066           0.287\n",
              "===========================================================================================\n",
              "\n",
              "Correlation matrix of residuals\n",
              "                        Compraventa_Unitario  m² por habitante\n",
              "Compraventa_Unitario                1.000000         -0.098289\n",
              "m² por habitante                   -0.098289          1.000000\n",
              "\n"
            ]
          },
          "metadata": {},
          "execution_count": 50
        }
      ]
    },
    {
      "cell_type": "markdown",
      "source": [
        "En la matriz de correlación de los residuos, observamos que la correlación entre \"Compraventa_Unitario\" y \"m² por habitante\" es bastante baja, con un valor de -0.098289. Esto sugiere que los residuos de estas dos variables apenas están correlacionados entre sí después de ajustar el modelo."
      ],
      "metadata": {
        "id": "Hp2oED6VxtgB"
      }
    },
    {
      "cell_type": "code",
      "source": [
        "res.is_stable()"
      ],
      "metadata": {
        "colab": {
          "base_uri": "https://localhost:8080/"
        },
        "id": "rT1tZO5jkjgU",
        "outputId": "92edf3ad-b029-4c97-851f-83acfee4b7c9"
      },
      "execution_count": null,
      "outputs": [
        {
          "output_type": "execute_result",
          "data": {
            "text/plain": [
              "True"
            ]
          },
          "metadata": {},
          "execution_count": 51
        }
      ]
    },
    {
      "cell_type": "code",
      "source": [
        "X_train.columns"
      ],
      "metadata": {
        "colab": {
          "base_uri": "https://localhost:8080/"
        },
        "id": "7tDQSMh_mGv5",
        "outputId": "d037bf98-b92e-4037-d553-6536ad9e19b6"
      },
      "execution_count": null,
      "outputs": [
        {
          "output_type": "execute_result",
          "data": {
            "text/plain": [
              "Index(['Compraventa_Unitario', 'm² por habitante'], dtype='object')"
            ]
          },
          "metadata": {},
          "execution_count": 52
        }
      ]
    },
    {
      "cell_type": "markdown",
      "source": [
        "###### Causalidad de Granger"
      ],
      "metadata": {
        "id": "UeWh9NUMmOsp"
      }
    },
    {
      "cell_type": "code",
      "source": [
        "grangercaus=res.test_causality(['m² por habitante'],['Compraventa_Unitario'],kind='f')\n",
        "grangercaus.summary()"
      ],
      "metadata": {
        "colab": {
          "base_uri": "https://localhost:8080/",
          "height": 128
        },
        "id": "FFpAEu7nmN73",
        "outputId": "4d985424-f440-4e0f-f1ce-cbf1cf261fba"
      },
      "execution_count": null,
      "outputs": [
        {
          "output_type": "execute_result",
          "data": {
            "text/plain": [
              "<class 'statsmodels.iolib.table.SimpleTable'>"
            ],
            "text/html": [
              "<table class=\"simpletable\">\n",
              "<caption>Granger causality F-test. H_0: Compraventa_Unitario does not Granger-cause m² por habitante. Conclusion: fail to reject H_0 at 5% significance level.</caption>\n",
              "<tr>\n",
              "  <th>Test statistic</th> <th>Critical value</th> <th>p-value</th>    <th>df</th>    \n",
              "</tr>\n",
              "<tr>\n",
              "      <td>0.8164</td>          <td>1.846</td>      <td>0.633</td>  <td>(12, 104)</td>\n",
              "</tr>\n",
              "</table>"
            ],
            "text/latex": "\\begin{center}\n\\begin{tabular}{cccc}\n\\toprule\n\\textbf{Test statistic} & \\textbf{Critical value} & \\textbf{p-value} & \\textbf{df}  \\\\\n\\midrule\n         0.8164         &          1.846          &      0.633       &  (12, 104)   \\\\\n\\bottomrule\n\\end{tabular}\n%\\caption{Granger causality F-test. H_0: Compraventa_Unitario does not Granger-cause m² por habitante. Conclusion: fail to reject H_0 at 5% significance level.}\n\\end{center}"
          },
          "metadata": {},
          "execution_count": 53
        }
      ]
    },
    {
      "cell_type": "code",
      "source": [
        "grangercaus=res.test_causality(['Compraventa_Unitario'],['m² por habitante'],kind='f')\n",
        "grangercaus.summary()"
      ],
      "metadata": {
        "colab": {
          "base_uri": "https://localhost:8080/",
          "height": 128
        },
        "id": "gFdT5YoAkGvY",
        "outputId": "96bc9ac5-de1e-4750-ae1c-9de316890672"
      },
      "execution_count": null,
      "outputs": [
        {
          "output_type": "execute_result",
          "data": {
            "text/plain": [
              "<class 'statsmodels.iolib.table.SimpleTable'>"
            ],
            "text/html": [
              "<table class=\"simpletable\">\n",
              "<caption>Granger causality F-test. H_0: m² por habitante does not Granger-cause Compraventa_Unitario. Conclusion: fail to reject H_0 at 5% significance level.</caption>\n",
              "<tr>\n",
              "  <th>Test statistic</th> <th>Critical value</th> <th>p-value</th>    <th>df</th>    \n",
              "</tr>\n",
              "<tr>\n",
              "      <td>0.4375</td>          <td>1.846</td>      <td>0.945</td>  <td>(12, 104)</td>\n",
              "</tr>\n",
              "</table>"
            ],
            "text/latex": "\\begin{center}\n\\begin{tabular}{cccc}\n\\toprule\n\\textbf{Test statistic} & \\textbf{Critical value} & \\textbf{p-value} & \\textbf{df}  \\\\\n\\midrule\n         0.4375         &          1.846          &      0.945       &  (12, 104)   \\\\\n\\bottomrule\n\\end{tabular}\n%\\caption{Granger causality F-test. H_0: m² por habitante does not Granger-cause Compraventa_Unitario. Conclusion: fail to reject H_0 at 5% significance level.}\n\\end{center}"
          },
          "metadata": {},
          "execution_count": 54
        }
      ]
    },
    {
      "cell_type": "markdown",
      "source": [
        "Como se puede observar, la causalidad de Granger nos indica que ninguna de las series temporales puede predecir la otra serie temporal"
      ],
      "metadata": {
        "id": "deyfDA4UeXxJ"
      }
    },
    {
      "cell_type": "markdown",
      "source": [
        "###### Matriz de causalidad de Granger\n"
      ],
      "metadata": {
        "id": "WNGM-fVxm8bh"
      }
    },
    {
      "cell_type": "code",
      "source": [
        "import pandas as pd\n",
        "import numpy as np\n",
        "from statsmodels.tsa.stattools import grangercausalitytests\n",
        "import warnings\n",
        "warnings.filterwarnings(\"ignore\")\n",
        "maxlag=1\n",
        "test = 'ssr_chi2test'\n",
        "def grangers_causality_matrix(X_train_transformed, variables, test = 'ssr_chi2test', verbose=False):\n",
        "  dataset = pd.DataFrame(np.zeros((len(variables), len(variables))), columns=variables, index=variables)\n",
        "  for c in dataset.columns:\n",
        "    for r in dataset.index:\n",
        "      test_result = grangercausalitytests(X_train_transformed[[r,c]], maxlag=maxlag, verbose=False)\n",
        "      p_values = [round(test_result[i+1][0][test][1],4) for i in range(maxlag)]\n",
        "      if verbose:\n",
        "        print(f'Y = {r}, X = {c}, P Values = {p_values}')\n",
        "      min_p_value = np.min(p_values)\n",
        "      dataset.loc[r,c] = min_p_value\n",
        "  dataset.columns = [var + '_x' for var in variables]\n",
        "  dataset.index = [var + '_y' for var in variables]\n",
        "  return dataset\n",
        "grangers_causality_matrix(X_train_transformed, variables = X_train_transformed.columns)"
      ],
      "metadata": {
        "colab": {
          "base_uri": "https://localhost:8080/",
          "height": 112
        },
        "id": "EsRJys5vnAGl",
        "outputId": "d568ec2a-f34b-43d8-e12f-2ffd64459b23"
      },
      "execution_count": null,
      "outputs": [
        {
          "output_type": "execute_result",
          "data": {
            "text/plain": [
              "                        Compraventa_Unitario_x  m² por habitante_x\n",
              "Compraventa_Unitario_y                  1.0000               0.925\n",
              "m² por habitante_y                      0.9239               1.000"
            ],
            "text/html": [
              "\n",
              "  <div id=\"df-3e12866b-8ccc-4ad0-90fb-b23ab62d43ca\" class=\"colab-df-container\">\n",
              "    <div>\n",
              "<style scoped>\n",
              "    .dataframe tbody tr th:only-of-type {\n",
              "        vertical-align: middle;\n",
              "    }\n",
              "\n",
              "    .dataframe tbody tr th {\n",
              "        vertical-align: top;\n",
              "    }\n",
              "\n",
              "    .dataframe thead th {\n",
              "        text-align: right;\n",
              "    }\n",
              "</style>\n",
              "<table border=\"1\" class=\"dataframe\">\n",
              "  <thead>\n",
              "    <tr style=\"text-align: right;\">\n",
              "      <th></th>\n",
              "      <th>Compraventa_Unitario_x</th>\n",
              "      <th>m² por habitante_x</th>\n",
              "    </tr>\n",
              "  </thead>\n",
              "  <tbody>\n",
              "    <tr>\n",
              "      <th>Compraventa_Unitario_y</th>\n",
              "      <td>1.0000</td>\n",
              "      <td>0.925</td>\n",
              "    </tr>\n",
              "    <tr>\n",
              "      <th>m² por habitante_y</th>\n",
              "      <td>0.9239</td>\n",
              "      <td>1.000</td>\n",
              "    </tr>\n",
              "  </tbody>\n",
              "</table>\n",
              "</div>\n",
              "    <div class=\"colab-df-buttons\">\n",
              "\n",
              "  <div class=\"colab-df-container\">\n",
              "    <button class=\"colab-df-convert\" onclick=\"convertToInteractive('df-3e12866b-8ccc-4ad0-90fb-b23ab62d43ca')\"\n",
              "            title=\"Convert this dataframe to an interactive table.\"\n",
              "            style=\"display:none;\">\n",
              "\n",
              "  <svg xmlns=\"http://www.w3.org/2000/svg\" height=\"24px\" viewBox=\"0 -960 960 960\">\n",
              "    <path d=\"M120-120v-720h720v720H120Zm60-500h600v-160H180v160Zm220 220h160v-160H400v160Zm0 220h160v-160H400v160ZM180-400h160v-160H180v160Zm440 0h160v-160H620v160ZM180-180h160v-160H180v160Zm440 0h160v-160H620v160Z\"/>\n",
              "  </svg>\n",
              "    </button>\n",
              "\n",
              "  <style>\n",
              "    .colab-df-container {\n",
              "      display:flex;\n",
              "      gap: 12px;\n",
              "    }\n",
              "\n",
              "    .colab-df-convert {\n",
              "      background-color: #E8F0FE;\n",
              "      border: none;\n",
              "      border-radius: 50%;\n",
              "      cursor: pointer;\n",
              "      display: none;\n",
              "      fill: #1967D2;\n",
              "      height: 32px;\n",
              "      padding: 0 0 0 0;\n",
              "      width: 32px;\n",
              "    }\n",
              "\n",
              "    .colab-df-convert:hover {\n",
              "      background-color: #E2EBFA;\n",
              "      box-shadow: 0px 1px 2px rgba(60, 64, 67, 0.3), 0px 1px 3px 1px rgba(60, 64, 67, 0.15);\n",
              "      fill: #174EA6;\n",
              "    }\n",
              "\n",
              "    .colab-df-buttons div {\n",
              "      margin-bottom: 4px;\n",
              "    }\n",
              "\n",
              "    [theme=dark] .colab-df-convert {\n",
              "      background-color: #3B4455;\n",
              "      fill: #D2E3FC;\n",
              "    }\n",
              "\n",
              "    [theme=dark] .colab-df-convert:hover {\n",
              "      background-color: #434B5C;\n",
              "      box-shadow: 0px 1px 3px 1px rgba(0, 0, 0, 0.15);\n",
              "      filter: drop-shadow(0px 1px 2px rgba(0, 0, 0, 0.3));\n",
              "      fill: #FFFFFF;\n",
              "    }\n",
              "  </style>\n",
              "\n",
              "    <script>\n",
              "      const buttonEl =\n",
              "        document.querySelector('#df-3e12866b-8ccc-4ad0-90fb-b23ab62d43ca button.colab-df-convert');\n",
              "      buttonEl.style.display =\n",
              "        google.colab.kernel.accessAllowed ? 'block' : 'none';\n",
              "\n",
              "      async function convertToInteractive(key) {\n",
              "        const element = document.querySelector('#df-3e12866b-8ccc-4ad0-90fb-b23ab62d43ca');\n",
              "        const dataTable =\n",
              "          await google.colab.kernel.invokeFunction('convertToInteractive',\n",
              "                                                    [key], {});\n",
              "        if (!dataTable) return;\n",
              "\n",
              "        const docLinkHtml = 'Like what you see? Visit the ' +\n",
              "          '<a target=\"_blank\" href=https://colab.research.google.com/notebooks/data_table.ipynb>data table notebook</a>'\n",
              "          + ' to learn more about interactive tables.';\n",
              "        element.innerHTML = '';\n",
              "        dataTable['output_type'] = 'display_data';\n",
              "        await google.colab.output.renderOutput(dataTable, element);\n",
              "        const docLink = document.createElement('div');\n",
              "        docLink.innerHTML = docLinkHtml;\n",
              "        element.appendChild(docLink);\n",
              "      }\n",
              "    </script>\n",
              "  </div>\n",
              "\n",
              "\n",
              "<div id=\"df-f4f2ccea-4421-4747-9199-c14e01a03a37\">\n",
              "  <button class=\"colab-df-quickchart\" onclick=\"quickchart('df-f4f2ccea-4421-4747-9199-c14e01a03a37')\"\n",
              "            title=\"Suggest charts\"\n",
              "            style=\"display:none;\">\n",
              "\n",
              "<svg xmlns=\"http://www.w3.org/2000/svg\" height=\"24px\"viewBox=\"0 0 24 24\"\n",
              "     width=\"24px\">\n",
              "    <g>\n",
              "        <path d=\"M19 3H5c-1.1 0-2 .9-2 2v14c0 1.1.9 2 2 2h14c1.1 0 2-.9 2-2V5c0-1.1-.9-2-2-2zM9 17H7v-7h2v7zm4 0h-2V7h2v10zm4 0h-2v-4h2v4z\"/>\n",
              "    </g>\n",
              "</svg>\n",
              "  </button>\n",
              "\n",
              "<style>\n",
              "  .colab-df-quickchart {\n",
              "      --bg-color: #E8F0FE;\n",
              "      --fill-color: #1967D2;\n",
              "      --hover-bg-color: #E2EBFA;\n",
              "      --hover-fill-color: #174EA6;\n",
              "      --disabled-fill-color: #AAA;\n",
              "      --disabled-bg-color: #DDD;\n",
              "  }\n",
              "\n",
              "  [theme=dark] .colab-df-quickchart {\n",
              "      --bg-color: #3B4455;\n",
              "      --fill-color: #D2E3FC;\n",
              "      --hover-bg-color: #434B5C;\n",
              "      --hover-fill-color: #FFFFFF;\n",
              "      --disabled-bg-color: #3B4455;\n",
              "      --disabled-fill-color: #666;\n",
              "  }\n",
              "\n",
              "  .colab-df-quickchart {\n",
              "    background-color: var(--bg-color);\n",
              "    border: none;\n",
              "    border-radius: 50%;\n",
              "    cursor: pointer;\n",
              "    display: none;\n",
              "    fill: var(--fill-color);\n",
              "    height: 32px;\n",
              "    padding: 0;\n",
              "    width: 32px;\n",
              "  }\n",
              "\n",
              "  .colab-df-quickchart:hover {\n",
              "    background-color: var(--hover-bg-color);\n",
              "    box-shadow: 0 1px 2px rgba(60, 64, 67, 0.3), 0 1px 3px 1px rgba(60, 64, 67, 0.15);\n",
              "    fill: var(--button-hover-fill-color);\n",
              "  }\n",
              "\n",
              "  .colab-df-quickchart-complete:disabled,\n",
              "  .colab-df-quickchart-complete:disabled:hover {\n",
              "    background-color: var(--disabled-bg-color);\n",
              "    fill: var(--disabled-fill-color);\n",
              "    box-shadow: none;\n",
              "  }\n",
              "\n",
              "  .colab-df-spinner {\n",
              "    border: 2px solid var(--fill-color);\n",
              "    border-color: transparent;\n",
              "    border-bottom-color: var(--fill-color);\n",
              "    animation:\n",
              "      spin 1s steps(1) infinite;\n",
              "  }\n",
              "\n",
              "  @keyframes spin {\n",
              "    0% {\n",
              "      border-color: transparent;\n",
              "      border-bottom-color: var(--fill-color);\n",
              "      border-left-color: var(--fill-color);\n",
              "    }\n",
              "    20% {\n",
              "      border-color: transparent;\n",
              "      border-left-color: var(--fill-color);\n",
              "      border-top-color: var(--fill-color);\n",
              "    }\n",
              "    30% {\n",
              "      border-color: transparent;\n",
              "      border-left-color: var(--fill-color);\n",
              "      border-top-color: var(--fill-color);\n",
              "      border-right-color: var(--fill-color);\n",
              "    }\n",
              "    40% {\n",
              "      border-color: transparent;\n",
              "      border-right-color: var(--fill-color);\n",
              "      border-top-color: var(--fill-color);\n",
              "    }\n",
              "    60% {\n",
              "      border-color: transparent;\n",
              "      border-right-color: var(--fill-color);\n",
              "    }\n",
              "    80% {\n",
              "      border-color: transparent;\n",
              "      border-right-color: var(--fill-color);\n",
              "      border-bottom-color: var(--fill-color);\n",
              "    }\n",
              "    90% {\n",
              "      border-color: transparent;\n",
              "      border-bottom-color: var(--fill-color);\n",
              "    }\n",
              "  }\n",
              "</style>\n",
              "\n",
              "  <script>\n",
              "    async function quickchart(key) {\n",
              "      const quickchartButtonEl =\n",
              "        document.querySelector('#' + key + ' button');\n",
              "      quickchartButtonEl.disabled = true;  // To prevent multiple clicks.\n",
              "      quickchartButtonEl.classList.add('colab-df-spinner');\n",
              "      try {\n",
              "        const charts = await google.colab.kernel.invokeFunction(\n",
              "            'suggestCharts', [key], {});\n",
              "      } catch (error) {\n",
              "        console.error('Error during call to suggestCharts:', error);\n",
              "      }\n",
              "      quickchartButtonEl.classList.remove('colab-df-spinner');\n",
              "      quickchartButtonEl.classList.add('colab-df-quickchart-complete');\n",
              "    }\n",
              "    (() => {\n",
              "      let quickchartButtonEl =\n",
              "        document.querySelector('#df-f4f2ccea-4421-4747-9199-c14e01a03a37 button');\n",
              "      quickchartButtonEl.style.display =\n",
              "        google.colab.kernel.accessAllowed ? 'block' : 'none';\n",
              "    })();\n",
              "  </script>\n",
              "</div>\n",
              "    </div>\n",
              "  </div>\n"
            ],
            "application/vnd.google.colaboratory.intrinsic+json": {
              "type": "dataframe",
              "summary": "{\n  \"name\": \"grangers_causality_matrix(X_train_transformed, variables = X_train_transformed\",\n  \"rows\": 2,\n  \"fields\": [\n    {\n      \"column\": \"Compraventa_Unitario_x\",\n      \"properties\": {\n        \"dtype\": \"number\",\n        \"std\": 0.05381082604829623,\n        \"min\": 0.9239,\n        \"max\": 1.0,\n        \"num_unique_values\": 2,\n        \"samples\": [\n          0.9239,\n          1.0\n        ],\n        \"semantic_type\": \"\",\n        \"description\": \"\"\n      }\n    },\n    {\n      \"column\": \"m\\u00b2 por habitante_x\",\n      \"properties\": {\n        \"dtype\": \"number\",\n        \"std\": 0.053033008588991036,\n        \"min\": 0.925,\n        \"max\": 1.0,\n        \"num_unique_values\": 2,\n        \"samples\": [\n          1.0,\n          0.925\n        ],\n        \"semantic_type\": \"\",\n        \"description\": \"\"\n      }\n    }\n  ]\n}"
            }
          },
          "metadata": {},
          "execution_count": 55
        }
      ]
    },
    {
      "cell_type": "markdown",
      "source": [
        "Con esta matriz queda claro que la serie temporal de Compraventa_Unitario no causa ni es causada por la otra serie temporal de ParadosReg"
      ],
      "metadata": {
        "id": "wQiupwVinPkB"
      }
    },
    {
      "cell_type": "markdown",
      "source": [
        "#### Diagnosis del modelo\n"
      ],
      "metadata": {
        "id": "nDy2YsunnwBq"
      }
    },
    {
      "cell_type": "markdown",
      "source": [
        "###### Residuos"
      ],
      "metadata": {
        "id": "NGg_mAjNn0qr"
      }
    },
    {
      "cell_type": "code",
      "source": [
        "residuals=res.resid"
      ],
      "metadata": {
        "id": "HBSMx97gn4Hz"
      },
      "execution_count": null,
      "outputs": []
    },
    {
      "cell_type": "code",
      "source": [
        "fig, axs = plt.subplots(2)\n",
        "fig.suptitle('Gráficos de los residuos',fontsize=20)\n",
        "fig.set_size_inches(18, 10)\n",
        "[axs[i].plot(residuals.iloc[:,i]) for i in range(2)]\n",
        "plt.show()"
      ],
      "metadata": {
        "colab": {
          "base_uri": "https://localhost:8080/",
          "height": 930
        },
        "id": "NfzCXKkYn6Gr",
        "outputId": "de7da28a-d0fd-430b-c715-dd9200558408"
      },
      "execution_count": null,
      "outputs": [
        {
          "output_type": "display_data",
          "data": {
            "text/plain": [
              "<Figure size 1800x1000 with 2 Axes>"
            ],
            "image/png": "[encoded data removed]"
          },
          "metadata": {}
        }
      ]
    },
    {
      "cell_type": "markdown",
      "source": [
        "###### Dickey - Fuller a los residuos\n"
      ],
      "metadata": {
        "id": "t4CKXz8ooG8x"
      }
    },
    {
      "cell_type": "code",
      "source": [
        "print('ADF de los Residuos, p-valores:')\n",
        "[sts.adfuller(residuals.iloc[:,i])[1] for i in range(2)]"
      ],
      "metadata": {
        "colab": {
          "base_uri": "https://localhost:8080/"
        },
        "id": "DLdcLlT6oM4-",
        "outputId": "7a1d15f5-5471-4528-82d0-b111c34dbff7"
      },
      "execution_count": null,
      "outputs": [
        {
          "output_type": "stream",
          "name": "stdout",
          "text": [
            "ADF de los Residuos, p-valores:\n"
          ]
        },
        {
          "output_type": "execute_result",
          "data": {
            "text/plain": [
              "[8.452755579346261e-14, 4.458816791292714e-14]"
            ]
          },
          "metadata": {},
          "execution_count": 58
        }
      ]
    },
    {
      "cell_type": "markdown",
      "source": [
        "Todos los p-valores son < 0.1 por tanto se rechaza la hipótesis nula de que las 3 series de residuos no son estacionarias, por lo cual con un 90% de confianza se cree que son estacionarias.\n",
        "\n"
      ],
      "metadata": {
        "id": "0qESiPJaoRNc"
      }
    },
    {
      "cell_type": "markdown",
      "source": [
        "###### ACF de los Residuos\n"
      ],
      "metadata": {
        "id": "kYU0qFiLohWE"
      }
    },
    {
      "cell_type": "code",
      "source": [
        "import statsmodels.graphics.tsaplots as sgt\n",
        "[sgt.plot_acf(residuals.iloc[:,i], zero = False, lags = 12) for i in range(2)]\n",
        "plt.show()"
      ],
      "metadata": {
        "colab": {
          "base_uri": "https://localhost:8080/",
          "height": 887
        },
        "id": "mZ837R2AolcE",
        "outputId": "4454f139-ce56-498a-a6a5-c7c1d746c81e"
      },
      "execution_count": null,
      "outputs": [
        {
          "output_type": "display_data",
          "data": {
            "text/plain": [
              "<Figure size 640x480 with 1 Axes>"
            ],
            "image/png": "[encoded data removed]"
          },
          "metadata": {}
        },
        {
          "output_type": "display_data",
          "data": {
            "text/plain": [
              "<Figure size 640x480 with 1 Axes>"
            ],
            "image/png": "[encoded data removed]"
          },
          "metadata": {}
        }
      ]
    },
    {
      "cell_type": "markdown",
      "source": [
        "Conclusión: Los residuos del modelo no presentan estructura de autocorrelación, son estacionarios según los resultados de la prueba de Dickey - Fuller aumentada y en los gráficos se puede comprobar esto visualmente, entonces puede concluirse que son ruido blanco como es deseable.\n",
        "\n"
      ],
      "metadata": {
        "id": "M2QR5u5jowwd"
      }
    },
    {
      "cell_type": "markdown",
      "source": [
        "#### Valores predichos\n"
      ],
      "metadata": {
        "id": "9-N1tR5Ao5-p"
      }
    },
    {
      "cell_type": "code",
      "source": [
        "y_fitted = res.fittedvalues\n",
        "fig, axs = plt.subplots(2)\n",
        "fig.suptitle('Gráficos de los valores predichos por el modelo',fontsize=15)\n",
        "fig.set_size_inches(18, 10)\n",
        "[axs[i].plot(y_fitted.iloc[:,i]) for i in range(2)]\n",
        "plt.show()"
      ],
      "metadata": {
        "colab": {
          "base_uri": "https://localhost:8080/",
          "height": 930
        },
        "id": "Szcd4nT5o5Mc",
        "outputId": "46ff259d-e0e9-49cc-9387-f07bab71508b"
      },
      "execution_count": null,
      "outputs": [
        {
          "output_type": "display_data",
          "data": {
            "text/plain": [
              "<Figure size 1800x1000 with 2 Axes>"
            ],
            "image/png": "[encoded data removed]"
          },
          "metadata": {}
        }
      ]
    },
    {
      "cell_type": "markdown",
      "source": [
        "#### Pronósticos a futuro\n"
      ],
      "metadata": {
        "id": "JsbNOfsKpOUQ"
      }
    },
    {
      "cell_type": "markdown",
      "source": [
        "Para pronosticar, al modelo VAR le podemos pasar hasta el número de orden de retraso de observaciones de los datos pasados. Esto se debe a que los términos en el modelo VAR son esencialmente los retrasos de las diversas series de tiempo en el conjunto de datos, por lo que debemos proporcionar tantos valores anteriores como lo indique el orden de retraso utilizado por el modelo. De lo contrario estaríamos introduciendo poca fiabilidad.\n",
        "\n"
      ],
      "metadata": {
        "id": "Hqj6dbVEpvIJ"
      }
    },
    {
      "cell_type": "code",
      "source": [
        "# Obtener el orden del modelo\n",
        "lag_order = res.k_ar\n",
        "print('Orden del modelo:', lag_order)\n",
        "# Input data para hacer forecasting (pronósticos a futuro)\n",
        "input_data = X_train_transformed.values[-lag_order:]\n",
        "# Forecasting\n",
        "pred = res.forecast(y=input_data, steps=6)\n",
        "pred = (pd.DataFrame(pred, index=X_test.index, columns=X_test.columns + '_pred'))\n",
        "print('Predicciones:')\n",
        "pred"
      ],
      "metadata": {
        "colab": {
          "base_uri": "https://localhost:8080/",
          "height": 303
        },
        "id": "9FK3DAUTp6hb",
        "outputId": "d78fdbe9-854c-4da1-f4e4-22ae7e2e1593"
      },
      "execution_count": null,
      "outputs": [
        {
          "output_type": "stream",
          "name": "stdout",
          "text": [
            "Orden del modelo: 12\n",
            "Predicciones:\n"
          ]
        },
        {
          "output_type": "execute_result",
          "data": {
            "text/plain": [
              "            Compraventa_Unitario_pred  m² por habitante_pred\n",
              "Fecha                                                       \n",
              "2021-07-01                 -79.852402              -0.024506\n",
              "2021-08-01                   8.272424              -0.001954\n",
              "2021-09-01                   7.915887              -0.001913\n",
              "2021-10-01                  46.723890              -0.010741\n",
              "2021-11-01                   3.480710              -0.000387\n",
              "2021-12-01                   3.345661              -0.000287"
            ],
            "text/html": [
              "\n",
              "  <div id=\"df-5761d685-10fb-4300-9f85-cf88fa40b5c5\" class=\"colab-df-container\">\n",
              "    <div>\n",
              "<style scoped>\n",
              "    .dataframe tbody tr th:only-of-type {\n",
              "        vertical-align: middle;\n",
              "    }\n",
              "\n",
              "    .dataframe tbody tr th {\n",
              "        vertical-align: top;\n",
              "    }\n",
              "\n",
              "    .dataframe thead th {\n",
              "        text-align: right;\n",
              "    }\n",
              "</style>\n",
              "<table border=\"1\" class=\"dataframe\">\n",
              "  <thead>\n",
              "    <tr style=\"text-align: right;\">\n",
              "      <th></th>\n",
              "      <th>Compraventa_Unitario_pred</th>\n",
              "      <th>m² por habitante_pred</th>\n",
              "    </tr>\n",
              "    <tr>\n",
              "      <th>Fecha</th>\n",
              "      <th></th>\n",
              "      <th></th>\n",
              "    </tr>\n",
              "  </thead>\n",
              "  <tbody>\n",
              "    <tr>\n",
              "      <th>2021-07-01</th>\n",
              "      <td>-79.852402</td>\n",
              "      <td>-0.024506</td>\n",
              "    </tr>\n",
              "    <tr>\n",
              "      <th>2021-08-01</th>\n",
              "      <td>8.272424</td>\n",
              "      <td>-0.001954</td>\n",
              "    </tr>\n",
              "    <tr>\n",
              "      <th>2021-09-01</th>\n",
              "      <td>7.915887</td>\n",
              "      <td>-0.001913</td>\n",
              "    </tr>\n",
              "    <tr>\n",
              "      <th>2021-10-01</th>\n",
              "      <td>46.723890</td>\n",
              "      <td>-0.010741</td>\n",
              "    </tr>\n",
              "    <tr>\n",
              "      <th>2021-11-01</th>\n",
              "      <td>3.480710</td>\n",
              "      <td>-0.000387</td>\n",
              "    </tr>\n",
              "    <tr>\n",
              "      <th>2021-12-01</th>\n",
              "      <td>3.345661</td>\n",
              "      <td>-0.000287</td>\n",
              "    </tr>\n",
              "  </tbody>\n",
              "</table>\n",
              "</div>\n",
              "    <div class=\"colab-df-buttons\">\n",
              "\n",
              "  <div class=\"colab-df-container\">\n",
              "    <button class=\"colab-df-convert\" onclick=\"convertToInteractive('df-5761d685-10fb-4300-9f85-cf88fa40b5c5')\"\n",
              "            title=\"Convert this dataframe to an interactive table.\"\n",
              "            style=\"display:none;\">\n",
              "\n",
              "  <svg xmlns=\"http://www.w3.org/2000/svg\" height=\"24px\" viewBox=\"0 -960 960 960\">\n",
              "    <path d=\"M120-120v-720h720v720H120Zm60-500h600v-160H180v160Zm220 220h160v-160H400v160Zm0 220h160v-160H400v160ZM180-400h160v-160H180v160Zm440 0h160v-160H620v160ZM180-180h160v-160H180v160Zm440 0h160v-160H620v160Z\"/>\n",
              "  </svg>\n",
              "    </button>\n",
              "\n",
              "  <style>\n",
              "    .colab-df-container {\n",
              "      display:flex;\n",
              "      gap: 12px;\n",
              "    }\n",
              "\n",
              "    .colab-df-convert {\n",
              "      background-color: #E8F0FE;\n",
              "      border: none;\n",
              "      border-radius: 50%;\n",
              "      cursor: pointer;\n",
              "      display: none;\n",
              "      fill: #1967D2;\n",
              "      height: 32px;\n",
              "      padding: 0 0 0 0;\n",
              "      width: 32px;\n",
              "    }\n",
              "\n",
              "    .colab-df-convert:hover {\n",
              "      background-color: #E2EBFA;\n",
              "      box-shadow: 0px 1px 2px rgba(60, 64, 67, 0.3), 0px 1px 3px 1px rgba(60, 64, 67, 0.15);\n",
              "      fill: #174EA6;\n",
              "    }\n",
              "\n",
              "    .colab-df-buttons div {\n",
              "      margin-bottom: 4px;\n",
              "    }\n",
              "\n",
              "    [theme=dark] .colab-df-convert {\n",
              "      background-color: #3B4455;\n",
              "      fill: #D2E3FC;\n",
              "    }\n",
              "\n",
              "    [theme=dark] .colab-df-convert:hover {\n",
              "      background-color: #434B5C;\n",
              "      box-shadow: 0px 1px 3px 1px rgba(0, 0, 0, 0.15);\n",
              "      filter: drop-shadow(0px 1px 2px rgba(0, 0, 0, 0.3));\n",
              "      fill: #FFFFFF;\n",
              "    }\n",
              "  </style>\n",
              "\n",
              "    <script>\n",
              "      const buttonEl =\n",
              "        document.querySelector('#df-5761d685-10fb-4300-9f85-cf88fa40b5c5 button.colab-df-convert');\n",
              "      buttonEl.style.display =\n",
              "        google.colab.kernel.accessAllowed ? 'block' : 'none';\n",
              "\n",
              "      async function convertToInteractive(key) {\n",
              "        const element = document.querySelector('#df-5761d685-10fb-4300-9f85-cf88fa40b5c5');\n",
              "        const dataTable =\n",
              "          await google.colab.kernel.invokeFunction('convertToInteractive',\n",
              "                                                    [key], {});\n",
              "        if (!dataTable) return;\n",
              "\n",
              "        const docLinkHtml = 'Like what you see? Visit the ' +\n",
              "          '<a target=\"_blank\" href=https://colab.research.google.com/notebooks/data_table.ipynb>data table notebook</a>'\n",
              "          + ' to learn more about interactive tables.';\n",
              "        element.innerHTML = '';\n",
              "        dataTable['output_type'] = 'display_data';\n",
              "        await google.colab.output.renderOutput(dataTable, element);\n",
              "        const docLink = document.createElement('div');\n",
              "        docLink.innerHTML = docLinkHtml;\n",
              "        element.appendChild(docLink);\n",
              "      }\n",
              "    </script>\n",
              "  </div>\n",
              "\n",
              "\n",
              "<div id=\"df-74d1d920-39ec-48f8-9409-ab2441e844e6\">\n",
              "  <button class=\"colab-df-quickchart\" onclick=\"quickchart('df-74d1d920-39ec-48f8-9409-ab2441e844e6')\"\n",
              "            title=\"Suggest charts\"\n",
              "            style=\"display:none;\">\n",
              "\n",
              "<svg xmlns=\"http://www.w3.org/2000/svg\" height=\"24px\"viewBox=\"0 0 24 24\"\n",
              "     width=\"24px\">\n",
              "    <g>\n",
              "        <path d=\"M19 3H5c-1.1 0-2 .9-2 2v14c0 1.1.9 2 2 2h14c1.1 0 2-.9 2-2V5c0-1.1-.9-2-2-2zM9 17H7v-7h2v7zm4 0h-2V7h2v10zm4 0h-2v-4h2v4z\"/>\n",
              "    </g>\n",
              "</svg>\n",
              "  </button>\n",
              "\n",
              "<style>\n",
              "  .colab-df-quickchart {\n",
              "      --bg-color: #E8F0FE;\n",
              "      --fill-color: #1967D2;\n",
              "      --hover-bg-color: #E2EBFA;\n",
              "      --hover-fill-color: #174EA6;\n",
              "      --disabled-fill-color: #AAA;\n",
              "      --disabled-bg-color: #DDD;\n",
              "  }\n",
              "\n",
              "  [theme=dark] .colab-df-quickchart {\n",
              "      --bg-color: #3B4455;\n",
              "      --fill-color: #D2E3FC;\n",
              "      --hover-bg-color: #434B5C;\n",
              "      --hover-fill-color: #FFFFFF;\n",
              "      --disabled-bg-color: #3B4455;\n",
              "      --disabled-fill-color: #666;\n",
              "  }\n",
              "\n",
              "  .colab-df-quickchart {\n",
              "    background-color: var(--bg-color);\n",
              "    border: none;\n",
              "    border-radius: 50%;\n",
              "    cursor: pointer;\n",
              "    display: none;\n",
              "    fill: var(--fill-color);\n",
              "    height: 32px;\n",
              "    padding: 0;\n",
              "    width: 32px;\n",
              "  }\n",
              "\n",
              "  .colab-df-quickchart:hover {\n",
              "    background-color: var(--hover-bg-color);\n",
              "    box-shadow: 0 1px 2px rgba(60, 64, 67, 0.3), 0 1px 3px 1px rgba(60, 64, 67, 0.15);\n",
              "    fill: var(--button-hover-fill-color);\n",
              "  }\n",
              "\n",
              "  .colab-df-quickchart-complete:disabled,\n",
              "  .colab-df-quickchart-complete:disabled:hover {\n",
              "    background-color: var(--disabled-bg-color);\n",
              "    fill: var(--disabled-fill-color);\n",
              "    box-shadow: none;\n",
              "  }\n",
              "\n",
              "  .colab-df-spinner {\n",
              "    border: 2px solid var(--fill-color);\n",
              "    border-color: transparent;\n",
              "    border-bottom-color: var(--fill-color);\n",
              "    animation:\n",
              "      spin 1s steps(1) infinite;\n",
              "  }\n",
              "\n",
              "  @keyframes spin {\n",
              "    0% {\n",
              "      border-color: transparent;\n",
              "      border-bottom-color: var(--fill-color);\n",
              "      border-left-color: var(--fill-color);\n",
              "    }\n",
              "    20% {\n",
              "      border-color: transparent;\n",
              "      border-left-color: var(--fill-color);\n",
              "      border-top-color: var(--fill-color);\n",
              "    }\n",
              "    30% {\n",
              "      border-color: transparent;\n",
              "      border-left-color: var(--fill-color);\n",
              "      border-top-color: var(--fill-color);\n",
              "      border-right-color: var(--fill-color);\n",
              "    }\n",
              "    40% {\n",
              "      border-color: transparent;\n",
              "      border-right-color: var(--fill-color);\n",
              "      border-top-color: var(--fill-color);\n",
              "    }\n",
              "    60% {\n",
              "      border-color: transparent;\n",
              "      border-right-color: var(--fill-color);\n",
              "    }\n",
              "    80% {\n",
              "      border-color: transparent;\n",
              "      border-right-color: var(--fill-color);\n",
              "      border-bottom-color: var(--fill-color);\n",
              "    }\n",
              "    90% {\n",
              "      border-color: transparent;\n",
              "      border-bottom-color: var(--fill-color);\n",
              "    }\n",
              "  }\n",
              "</style>\n",
              "\n",
              "  <script>\n",
              "    async function quickchart(key) {\n",
              "      const quickchartButtonEl =\n",
              "        document.querySelector('#' + key + ' button');\n",
              "      quickchartButtonEl.disabled = true;  // To prevent multiple clicks.\n",
              "      quickchartButtonEl.classList.add('colab-df-spinner');\n",
              "      try {\n",
              "        const charts = await google.colab.kernel.invokeFunction(\n",
              "            'suggestCharts', [key], {});\n",
              "      } catch (error) {\n",
              "        console.error('Error during call to suggestCharts:', error);\n",
              "      }\n",
              "      quickchartButtonEl.classList.remove('colab-df-spinner');\n",
              "      quickchartButtonEl.classList.add('colab-df-quickchart-complete');\n",
              "    }\n",
              "    (() => {\n",
              "      let quickchartButtonEl =\n",
              "        document.querySelector('#df-74d1d920-39ec-48f8-9409-ab2441e844e6 button');\n",
              "      quickchartButtonEl.style.display =\n",
              "        google.colab.kernel.accessAllowed ? 'block' : 'none';\n",
              "    })();\n",
              "  </script>\n",
              "</div>\n",
              "    </div>\n",
              "  </div>\n"
            ],
            "application/vnd.google.colaboratory.intrinsic+json": {
              "type": "dataframe",
              "variable_name": "pred",
              "summary": "{\n  \"name\": \"pred\",\n  \"rows\": 6,\n  \"fields\": [\n    {\n      \"column\": \"Fecha\",\n      \"properties\": {\n        \"dtype\": \"date\",\n        \"min\": \"2021-07-01 00:00:00\",\n        \"max\": \"2021-12-01 00:00:00\",\n        \"num_unique_values\": 6,\n        \"samples\": [\n          \"2021-07-01 00:00:00\",\n          \"2021-08-01 00:00:00\",\n          \"2021-12-01 00:00:00\"\n        ],\n        \"semantic_type\": \"\",\n        \"description\": \"\"\n      }\n    },\n    {\n      \"column\": \"Compraventa_Unitario_pred\",\n      \"properties\": {\n        \"dtype\": \"number\",\n        \"std\": 41.705833651124294,\n        \"min\": -79.8524016693824,\n        \"max\": 46.72389049960302,\n        \"num_unique_values\": 6,\n        \"samples\": [\n          -79.8524016693824,\n          8.272423764530451,\n          3.3456612322568535\n        ],\n        \"semantic_type\": \"\",\n        \"description\": \"\"\n      }\n    },\n    {\n      \"column\": \"m\\u00b2 por habitante_pred\",\n      \"properties\": {\n        \"dtype\": \"number\",\n        \"std\": 0.009589391798018376,\n        \"min\": -0.024505855660326474,\n        \"max\": -0.00028654504327145155,\n        \"num_unique_values\": 6,\n        \"samples\": [\n          -0.024505855660326474,\n          -0.0019536580750431883,\n          -0.00028654504327145155\n        ],\n        \"semantic_type\": \"\",\n        \"description\": \"\"\n      }\n    }\n  ]\n}"
            }
          },
          "metadata": {},
          "execution_count": 61
        }
      ]
    },
    {
      "cell_type": "code",
      "source": [
        "import matplotlib.pyplot as plt\n",
        "plt.figure(figsize = (12, 10))\n",
        "res.plot_forecast(lag_order)\n",
        "plt.tight_layout(h_pad = 1.15)\n",
        "plt.show()\n"
      ],
      "metadata": {
        "colab": {
          "base_uri": "https://localhost:8080/",
          "height": 1000
        },
        "id": "SokaM9c5qyRn",
        "outputId": "160500f1-01fc-43e8-bf05-5c77f401d449"
      },
      "execution_count": null,
      "outputs": [
        {
          "output_type": "display_data",
          "data": {
            "text/plain": [
              "<Figure size 1200x1000 with 0 Axes>"
            ]
          },
          "metadata": {}
        },
        {
          "output_type": "display_data",
          "data": {
            "text/plain": [
              "<Figure size 1000x1000 with 2 Axes>"
            ],
            "image/png": "[encoded data removed]"
          },
          "metadata": {}
        }
      ]
    },
    {
      "cell_type": "markdown",
      "source": [
        "#### Invirtiendo la transformación de los pronósticos a la escala original\n"
      ],
      "metadata": {
        "id": "3QbukMdrq62v"
      }
    },
    {
      "cell_type": "markdown",
      "source": [
        "Los pronósticos se generan en la escala de los datos de entrenamiento utilizados por el modelo, es decir, son datos transformados. Entonces, para volver a ponerlos en su escala original, necesitamos des-diferenciarlos. La forma de invertir la diferenciación es sumar estas diferencias consecutivamente al número base. Una forma sencilla de hacerlo es determinar primero la suma acumulada y luego sumarla al número base. Este proceso se puede revertir agregando la observación en el paso de tiempo anterior al difference value. inverted(ts) = differenced(ts) + observation(ts-1)\n",
        "\n"
      ],
      "metadata": {
        "id": "Z6w8yKYyq-jF"
      }
    },
    {
      "cell_type": "code",
      "source": [
        "# Invirtiendo la transformación teniendo en cuenta que hemos diferenciado dos veces\n",
        "def invert_transformation(ds, df_forecast, second_diff=False):\n",
        "    for col in ds.columns:\n",
        "        # Undo the 2nd Differencing\n",
        "        if second_diff:\n",
        "            df_forecast[str(col)] = (ds[col].iloc[-1] - ds[col].iloc[-2]) + df_forecast[str(col)].cumsum()\n",
        "\n",
        "        # Undo the 1st Differencing\n",
        "        df_forecast[str(col)] = ds[col].iloc[-1] + df_forecast[str(col)].cumsum()\n",
        "\n",
        "    return df_forecast"
      ],
      "metadata": {
        "id": "fnVeKvm_rIbE"
      },
      "execution_count": null,
      "outputs": []
    },
    {
      "cell_type": "code",
      "source": [
        "pred.columns=X_test.columns\n",
        "output = invert_transformation(X_train, pred, second_diff=False)\n",
        "output"
      ],
      "metadata": {
        "colab": {
          "base_uri": "https://localhost:8080/",
          "height": 269
        },
        "id": "EYQA2HSNrWuQ",
        "outputId": "6502aeed-8fef-4950-835e-e244637207b6"
      },
      "execution_count": null,
      "outputs": [
        {
          "output_type": "execute_result",
          "data": {
            "text/plain": [
              "            Compraventa_Unitario  m² por habitante\n",
              "Fecha                                             \n",
              "2021-07-01           2276.990318          6.675494\n",
              "2021-08-01           2285.262742          6.673540\n",
              "2021-09-01           2293.178629          6.671627\n",
              "2021-10-01           2339.902520          6.660887\n",
              "2021-11-01           2343.383230          6.660500\n",
              "2021-12-01           2346.728891          6.660214"
            ],
            "text/html": [
              "\n",
              "  <div id=\"df-2fbf396b-56b6-469f-a997-7f4769f4f02b\" class=\"colab-df-container\">\n",
              "    <div>\n",
              "<style scoped>\n",
              "    .dataframe tbody tr th:only-of-type {\n",
              "        vertical-align: middle;\n",
              "    }\n",
              "\n",
              "    .dataframe tbody tr th {\n",
              "        vertical-align: top;\n",
              "    }\n",
              "\n",
              "    .dataframe thead th {\n",
              "        text-align: right;\n",
              "    }\n",
              "</style>\n",
              "<table border=\"1\" class=\"dataframe\">\n",
              "  <thead>\n",
              "    <tr style=\"text-align: right;\">\n",
              "      <th></th>\n",
              "      <th>Compraventa_Unitario</th>\n",
              "      <th>m² por habitante</th>\n",
              "    </tr>\n",
              "    <tr>\n",
              "      <th>Fecha</th>\n",
              "      <th></th>\n",
              "      <th></th>\n",
              "    </tr>\n",
              "  </thead>\n",
              "  <tbody>\n",
              "    <tr>\n",
              "      <th>2021-07-01</th>\n",
              "      <td>2276.990318</td>\n",
              "      <td>6.675494</td>\n",
              "    </tr>\n",
              "    <tr>\n",
              "      <th>2021-08-01</th>\n",
              "      <td>2285.262742</td>\n",
              "      <td>6.673540</td>\n",
              "    </tr>\n",
              "    <tr>\n",
              "      <th>2021-09-01</th>\n",
              "      <td>2293.178629</td>\n",
              "      <td>6.671627</td>\n",
              "    </tr>\n",
              "    <tr>\n",
              "      <th>2021-10-01</th>\n",
              "      <td>2339.902520</td>\n",
              "      <td>6.660887</td>\n",
              "    </tr>\n",
              "    <tr>\n",
              "      <th>2021-11-01</th>\n",
              "      <td>2343.383230</td>\n",
              "      <td>6.660500</td>\n",
              "    </tr>\n",
              "    <tr>\n",
              "      <th>2021-12-01</th>\n",
              "      <td>2346.728891</td>\n",
              "      <td>6.660214</td>\n",
              "    </tr>\n",
              "  </tbody>\n",
              "</table>\n",
              "</div>\n",
              "    <div class=\"colab-df-buttons\">\n",
              "\n",
              "  <div class=\"colab-df-container\">\n",
              "    <button class=\"colab-df-convert\" onclick=\"convertToInteractive('df-2fbf396b-56b6-469f-a997-7f4769f4f02b')\"\n",
              "            title=\"Convert this dataframe to an interactive table.\"\n",
              "            style=\"display:none;\">\n",
              "\n",
              "  <svg xmlns=\"http://www.w3.org/2000/svg\" height=\"24px\" viewBox=\"0 -960 960 960\">\n",
              "    <path d=\"M120-120v-720h720v720H120Zm60-500h600v-160H180v160Zm220 220h160v-160H400v160Zm0 220h160v-160H400v160ZM180-400h160v-160H180v160Zm440 0h160v-160H620v160ZM180-180h160v-160H180v160Zm440 0h160v-160H620v160Z\"/>\n",
              "  </svg>\n",
              "    </button>\n",
              "\n",
              "  <style>\n",
              "    .colab-df-container {\n",
              "      display:flex;\n",
              "      gap: 12px;\n",
              "    }\n",
              "\n",
              "    .colab-df-convert {\n",
              "      background-color: #E8F0FE;\n",
              "      border: none;\n",
              "      border-radius: 50%;\n",
              "      cursor: pointer;\n",
              "      display: none;\n",
              "      fill: #1967D2;\n",
              "      height: 32px;\n",
              "      padding: 0 0 0 0;\n",
              "      width: 32px;\n",
              "    }\n",
              "\n",
              "    .colab-df-convert:hover {\n",
              "      background-color: #E2EBFA;\n",
              "      box-shadow: 0px 1px 2px rgba(60, 64, 67, 0.3), 0px 1px 3px 1px rgba(60, 64, 67, 0.15);\n",
              "      fill: #174EA6;\n",
              "    }\n",
              "\n",
              "    .colab-df-buttons div {\n",
              "      margin-bottom: 4px;\n",
              "    }\n",
              "\n",
              "    [theme=dark] .colab-df-convert {\n",
              "      background-color: #3B4455;\n",
              "      fill: #D2E3FC;\n",
              "    }\n",
              "\n",
              "    [theme=dark] .colab-df-convert:hover {\n",
              "      background-color: #434B5C;\n",
              "      box-shadow: 0px 1px 3px 1px rgba(0, 0, 0, 0.15);\n",
              "      filter: drop-shadow(0px 1px 2px rgba(0, 0, 0, 0.3));\n",
              "      fill: #FFFFFF;\n",
              "    }\n",
              "  </style>\n",
              "\n",
              "    <script>\n",
              "      const buttonEl =\n",
              "        document.querySelector('#df-2fbf396b-56b6-469f-a997-7f4769f4f02b button.colab-df-convert');\n",
              "      buttonEl.style.display =\n",
              "        google.colab.kernel.accessAllowed ? 'block' : 'none';\n",
              "\n",
              "      async function convertToInteractive(key) {\n",
              "        const element = document.querySelector('#df-2fbf396b-56b6-469f-a997-7f4769f4f02b');\n",
              "        const dataTable =\n",
              "          await google.colab.kernel.invokeFunction('convertToInteractive',\n",
              "                                                    [key], {});\n",
              "        if (!dataTable) return;\n",
              "\n",
              "        const docLinkHtml = 'Like what you see? Visit the ' +\n",
              "          '<a target=\"_blank\" href=https://colab.research.google.com/notebooks/data_table.ipynb>data table notebook</a>'\n",
              "          + ' to learn more about interactive tables.';\n",
              "        element.innerHTML = '';\n",
              "        dataTable['output_type'] = 'display_data';\n",
              "        await google.colab.output.renderOutput(dataTable, element);\n",
              "        const docLink = document.createElement('div');\n",
              "        docLink.innerHTML = docLinkHtml;\n",
              "        element.appendChild(docLink);\n",
              "      }\n",
              "    </script>\n",
              "  </div>\n",
              "\n",
              "\n",
              "<div id=\"df-6afc545a-75ec-47f3-a865-9c56a4967774\">\n",
              "  <button class=\"colab-df-quickchart\" onclick=\"quickchart('df-6afc545a-75ec-47f3-a865-9c56a4967774')\"\n",
              "            title=\"Suggest charts\"\n",
              "            style=\"display:none;\">\n",
              "\n",
              "<svg xmlns=\"http://www.w3.org/2000/svg\" height=\"24px\"viewBox=\"0 0 24 24\"\n",
              "     width=\"24px\">\n",
              "    <g>\n",
              "        <path d=\"M19 3H5c-1.1 0-2 .9-2 2v14c0 1.1.9 2 2 2h14c1.1 0 2-.9 2-2V5c0-1.1-.9-2-2-2zM9 17H7v-7h2v7zm4 0h-2V7h2v10zm4 0h-2v-4h2v4z\"/>\n",
              "    </g>\n",
              "</svg>\n",
              "  </button>\n",
              "\n",
              "<style>\n",
              "  .colab-df-quickchart {\n",
              "      --bg-color: #E8F0FE;\n",
              "      --fill-color: #1967D2;\n",
              "      --hover-bg-color: #E2EBFA;\n",
              "      --hover-fill-color: #174EA6;\n",
              "      --disabled-fill-color: #AAA;\n",
              "      --disabled-bg-color: #DDD;\n",
              "  }\n",
              "\n",
              "  [theme=dark] .colab-df-quickchart {\n",
              "      --bg-color: #3B4455;\n",
              "      --fill-color: #D2E3FC;\n",
              "      --hover-bg-color: #434B5C;\n",
              "      --hover-fill-color: #FFFFFF;\n",
              "      --disabled-bg-color: #3B4455;\n",
              "      --disabled-fill-color: #666;\n",
              "  }\n",
              "\n",
              "  .colab-df-quickchart {\n",
              "    background-color: var(--bg-color);\n",
              "    border: none;\n",
              "    border-radius: 50%;\n",
              "    cursor: pointer;\n",
              "    display: none;\n",
              "    fill: var(--fill-color);\n",
              "    height: 32px;\n",
              "    padding: 0;\n",
              "    width: 32px;\n",
              "  }\n",
              "\n",
              "  .colab-df-quickchart:hover {\n",
              "    background-color: var(--hover-bg-color);\n",
              "    box-shadow: 0 1px 2px rgba(60, 64, 67, 0.3), 0 1px 3px 1px rgba(60, 64, 67, 0.15);\n",
              "    fill: var(--button-hover-fill-color);\n",
              "  }\n",
              "\n",
              "  .colab-df-quickchart-complete:disabled,\n",
              "  .colab-df-quickchart-complete:disabled:hover {\n",
              "    background-color: var(--disabled-bg-color);\n",
              "    fill: var(--disabled-fill-color);\n",
              "    box-shadow: none;\n",
              "  }\n",
              "\n",
              "  .colab-df-spinner {\n",
              "    border: 2px solid var(--fill-color);\n",
              "    border-color: transparent;\n",
              "    border-bottom-color: var(--fill-color);\n",
              "    animation:\n",
              "      spin 1s steps(1) infinite;\n",
              "  }\n",
              "\n",
              "  @keyframes spin {\n",
              "    0% {\n",
              "      border-color: transparent;\n",
              "      border-bottom-color: var(--fill-color);\n",
              "      border-left-color: var(--fill-color);\n",
              "    }\n",
              "    20% {\n",
              "      border-color: transparent;\n",
              "      border-left-color: var(--fill-color);\n",
              "      border-top-color: var(--fill-color);\n",
              "    }\n",
              "    30% {\n",
              "      border-color: transparent;\n",
              "      border-left-color: var(--fill-color);\n",
              "      border-top-color: var(--fill-color);\n",
              "      border-right-color: var(--fill-color);\n",
              "    }\n",
              "    40% {\n",
              "      border-color: transparent;\n",
              "      border-right-color: var(--fill-color);\n",
              "      border-top-color: var(--fill-color);\n",
              "    }\n",
              "    60% {\n",
              "      border-color: transparent;\n",
              "      border-right-color: var(--fill-color);\n",
              "    }\n",
              "    80% {\n",
              "      border-color: transparent;\n",
              "      border-right-color: var(--fill-color);\n",
              "      border-bottom-color: var(--fill-color);\n",
              "    }\n",
              "    90% {\n",
              "      border-color: transparent;\n",
              "      border-bottom-color: var(--fill-color);\n",
              "    }\n",
              "  }\n",
              "</style>\n",
              "\n",
              "  <script>\n",
              "    async function quickchart(key) {\n",
              "      const quickchartButtonEl =\n",
              "        document.querySelector('#' + key + ' button');\n",
              "      quickchartButtonEl.disabled = true;  // To prevent multiple clicks.\n",
              "      quickchartButtonEl.classList.add('colab-df-spinner');\n",
              "      try {\n",
              "        const charts = await google.colab.kernel.invokeFunction(\n",
              "            'suggestCharts', [key], {});\n",
              "      } catch (error) {\n",
              "        console.error('Error during call to suggestCharts:', error);\n",
              "      }\n",
              "      quickchartButtonEl.classList.remove('colab-df-spinner');\n",
              "      quickchartButtonEl.classList.add('colab-df-quickchart-complete');\n",
              "    }\n",
              "    (() => {\n",
              "      let quickchartButtonEl =\n",
              "        document.querySelector('#df-6afc545a-75ec-47f3-a865-9c56a4967774 button');\n",
              "      quickchartButtonEl.style.display =\n",
              "        google.colab.kernel.accessAllowed ? 'block' : 'none';\n",
              "    })();\n",
              "  </script>\n",
              "</div>\n",
              "    </div>\n",
              "  </div>\n"
            ],
            "application/vnd.google.colaboratory.intrinsic+json": {
              "type": "dataframe",
              "variable_name": "pred",
              "summary": "{\n  \"name\": \"pred\",\n  \"rows\": 6,\n  \"fields\": [\n    {\n      \"column\": \"Fecha\",\n      \"properties\": {\n        \"dtype\": \"date\",\n        \"min\": \"2021-07-01 00:00:00\",\n        \"max\": \"2021-12-01 00:00:00\",\n        \"num_unique_values\": 6,\n        \"samples\": [\n          \"2021-07-01 00:00:00\",\n          \"2021-08-01 00:00:00\",\n          \"2021-12-01 00:00:00\"\n        ],\n        \"semantic_type\": \"\",\n        \"description\": \"\"\n      }\n    },\n    {\n      \"column\": \"Compraventa_Unitario\",\n      \"properties\": {\n        \"dtype\": \"number\",\n        \"std\": 32.354976328203115,\n        \"min\": 2276.9903180863275,\n        \"max\": 2346.7288913546577,\n        \"num_unique_values\": 6,\n        \"samples\": [\n          2276.9903180863275,\n          2285.2627418508578,\n          2346.7288913546577\n        ],\n        \"semantic_type\": \"\",\n        \"description\": \"\"\n      }\n    },\n    {\n      \"column\": \"m\\u00b2 por habitante\",\n      \"properties\": {\n        \"dtype\": \"number\",\n        \"std\": 0.00723883777758784,\n        \"min\": 6.660213658805696,\n        \"max\": 6.675494144339675,\n        \"num_unique_values\": 6,\n        \"samples\": [\n          6.675494144339675,\n          6.673540486264631,\n          6.660213658805696\n        ],\n        \"semantic_type\": \"\",\n        \"description\": \"\"\n      }\n    }\n  ]\n}"
            }
          },
          "metadata": {},
          "execution_count": 64
        }
      ]
    },
    {
      "cell_type": "code",
      "source": [
        "# Actual vs Forecasted Plots\n",
        "fig, axes = plt.subplots(nrows = int(len(X_train.columns)), ncols = 1, dpi = 100, figsize = (14,10))\n",
        "mi_lista = ['€/m²','m²/habitante']\n",
        "\n",
        "for i, (col,ax) in enumerate(zip(X_train.columns, axes.flatten())):\n",
        "    output[col].plot(color = '#00FF00', legend = True, ax = ax).autoscale(axis =' x',tight = True)\n",
        "    X_test[col].plot(color = '#F4511E', legend = True, ax = ax)\n",
        "    X_train[col].plot(color = '#3949AB', legend = True, ax = ax)\n",
        "\n",
        "    ax.set_title('Variable: ' + col + ' - Actual vs Forecast')\n",
        "    ax.set_ylabel(mi_lista[i])  # Establecer etiqueta del eje y\n",
        "    ax.xaxis.set_ticks_position('none')\n",
        "    ax.yaxis.set_ticks_position('none')\n",
        "\n",
        "    ax.spines[\"top\"].set_alpha(0)\n",
        "    ax.tick_params(labelsize = 6)\n",
        "\n",
        "plt.tight_layout()\n",
        "plt.savefig('actual_forecast.png')\n",
        "plt.show()"
      ],
      "metadata": {
        "colab": {
          "base_uri": "https://localhost:8080/",
          "height": 1000
        },
        "id": "21T4tXbArzmD",
        "outputId": "ec35c119-9d70-4d5d-84f9-484e95435ad7"
      },
      "execution_count": null,
      "outputs": [
        {
          "output_type": "display_data",
          "data": {
            "text/plain": [
              "<Figure size 1400x1000 with 2 Axes>"
            ],
            "image/png": "[encoded data removed]"
          },
          "metadata": {}
        }
      ]
    },
    {
      "cell_type": "markdown",
      "source": [
        "#### Evaluando el modelo\n"
      ],
      "metadata": {
        "id": "g7XKm5vYsRXL"
      }
    },
    {
      "cell_type": "code",
      "source": [
        "def timeseries_evaluation_metrics_func(y_true, y_pred):\n",
        "\n",
        "    def mean_absolute_percentage_error(y_true, y_pred):\n",
        "        y_true, y_pred = np.array(y_true), np.array(y_pred)\n",
        "        return np.mean(np.abs((y_true - y_pred) / y_true)) * 100\n",
        "    print('Evaluation metric results:-')\n",
        "    print(f'MSE is : {metrics.mean_squared_error(y_true, y_pred)}')\n",
        "    print(f'MAE is : {metrics.mean_absolute_error(y_true, y_pred)}')\n",
        "    print(f'RMSE is : {np.sqrt(metrics.mean_squared_error(y_true, y_pred))}')\n",
        "    print(f'MAPE is : {mean_absolute_percentage_error(y_true, y_pred)}')\n",
        "    print(f'R2 is : {metrics.r2_score(y_true, y_pred)}',end='\\n\\n')"
      ],
      "metadata": {
        "id": "tZlif6BVyDXn"
      },
      "execution_count": null,
      "outputs": []
    },
    {
      "cell_type": "code",
      "source": [
        "for i in ['Compraventa_Unitario','m² por habitante']:\n",
        "    print(f'Evaluation metric for {i}')\n",
        "    timeseries_evaluation_metrics_func(X_test[str(i)] , output[str(i)])"
      ],
      "metadata": {
        "colab": {
          "base_uri": "https://localhost:8080/"
        },
        "id": "1ooDzvgfxqv8",
        "outputId": "5effc6bf-4d7e-4755-c3bf-8cb0b03dd6ed"
      },
      "execution_count": null,
      "outputs": [
        {
          "output_type": "stream",
          "name": "stdout",
          "text": [
            "Evaluation metric for Compraventa_Unitario\n",
            "Evaluation metric results:-\n",
            "MSE is : 1508.6685020670263\n",
            "MAE is : 34.69227588276643\n",
            "RMSE is : 38.84158212620884\n",
            "MAPE is : 1.4653576209436865\n",
            "R2 is : 0.20591336216622447\n",
            "\n",
            "Evaluation metric for m² por habitante\n",
            "Evaluation metric results:-\n",
            "MSE is : 0.0011297794198223982\n",
            "MAE is : 0.032956215036224513\n",
            "RMSE is : 0.0336121915355485\n",
            "MAPE is : 0.4918838065108136\n",
            "R2 is : -1.432165559663364e+27\n",
            "\n"
          ]
        }
      ]
    },
    {
      "cell_type": "markdown",
      "source": [
        "Los resultados de evaluación para \"Compraventa_Unitario\" indican que el modelo tiene un error significativo en sus predicciones, con un MSE de 1508.67 y un RMSE de 38.84, sugiriendo desviaciones notables del valor real. El MAE de 34.69 y un R2 de 0.206 también reflejan una precisión moderada y una capacidad limitada del modelo para explicar la variabilidad de los datos. En contraste, para \"m² por habitante\", los valores de MSE, MAE y RMSE son muy bajos, mostrando errores pequeños, pero un valor R2 extremadamente negativo (aproximadamente -1.43e+27) sugiere problemas con el modelo o la adaptación de la métrica R2 en este contexto específico."
      ],
      "metadata": {
        "id": "mWegyD2DyQcq"
      }
    },
    {
      "cell_type": "code",
      "source": [
        "from sklearn.metrics import mean_absolute_error, mean_squared_error\n",
        "print('Mean absolute error:', mean_absolute_error(X_test, output))\n",
        "print('Root mean squared error:', np.sqrt(mean_squared_error(X_test, output)))"
      ],
      "metadata": {
        "colab": {
          "base_uri": "https://localhost:8080/"
        },
        "id": "jJEaSX0EsQLR",
        "outputId": "6fe4917d-dc51-419a-aa94-78af7e34be02"
      },
      "execution_count": 68,
      "outputs": [
        {
          "output_type": "stream",
          "name": "stdout",
          "text": [
            "Mean absolute error: 17.362616048901327\n",
            "Root mean squared error: 27.465156397210322\n"
          ]
        }
      ]
    },
    {
      "cell_type": "markdown",
      "source": [
        "### Modelo VARMA (Auto Arima)"
      ],
      "metadata": {
        "id": "YlcNq7Vxjgdp"
      }
    },
    {
      "cell_type": "markdown",
      "source": [
        "El modelo VARMA (Vector Autoregressive Moving Average) es una técnica estadística utilizada en análisis de series temporales que combina los modelos VAR (Vector Autoregressive) y MA (Moving Average). Es especialmente útil cuando se trata de series temporales múltiples, permitiendo modelar la interdependencia entre varias series a lo largo del tiempo junto con términos de error autocorrelacionados.\n",
        "\n"
      ],
      "metadata": {
        "id": "eDHgPQ8HXXL3"
      }
    },
    {
      "cell_type": "code",
      "source": [
        "!pip install pmdarima"
      ],
      "metadata": {
        "colab": {
          "base_uri": "https://localhost:8080/"
        },
        "id": "uEX49EBAkjO0",
        "outputId": "a552a191-37ab-4363-e1c6-d975b9aa15bc"
      },
      "execution_count": 69,
      "outputs": [
        {
          "output_type": "stream",
          "name": "stdout",
          "text": [
            "Collecting pmdarima\n",
            "  Downloading pmdarima-2.0.4-cp310-cp310-manylinux_2_17_x86_64.manylinux2014_x86_64.manylinux_2_28_x86_64.whl (2.1 MB)\n",
            "\u001b[2K     \u001b[90m━━━━━━━━━━━━━━━━━━━━━━━━━━━━━━━━━━━━━━━━\u001b[0m \u001b[32m2.1/2.1 MB\u001b[0m \u001b[31m9.8 MB/s\u001b[0m eta \u001b[36m0:00:00\u001b[0m\n",
            "\u001b[?25hRequirement already satisfied: joblib>=0.11 in /usr/local/lib/python3.10/dist-packages (from pmdarima) (1.4.2)\n",
            "Requirement already satisfied: Cython!=0.29.18,!=0.29.31,>=0.29 in /usr/local/lib/python3.10/dist-packages (from pmdarima) (3.0.10)\n",
            "Requirement already satisfied: numpy>=1.21.2 in /usr/local/lib/python3.10/dist-packages (from pmdarima) (1.25.2)\n",
            "Requirement already satisfied: pandas>=0.19 in /usr/local/lib/python3.10/dist-packages (from pmdarima) (2.0.3)\n",
            "Requirement already satisfied: scikit-learn>=0.22 in /usr/local/lib/python3.10/dist-packages (from pmdarima) (1.2.2)\n",
            "Requirement already satisfied: scipy>=1.3.2 in /usr/local/lib/python3.10/dist-packages (from pmdarima) (1.11.4)\n",
            "Requirement already satisfied: statsmodels>=0.13.2 in /usr/local/lib/python3.10/dist-packages (from pmdarima) (0.14.2)\n",
            "Requirement already satisfied: urllib3 in /usr/local/lib/python3.10/dist-packages (from pmdarima) (2.0.7)\n",
            "Requirement already satisfied: setuptools!=50.0.0,>=38.6.0 in /usr/local/lib/python3.10/dist-packages (from pmdarima) (67.7.2)\n",
            "Requirement already satisfied: packaging>=17.1 in /usr/local/lib/python3.10/dist-packages (from pmdarima) (24.0)\n",
            "Requirement already satisfied: python-dateutil>=2.8.2 in /usr/local/lib/python3.10/dist-packages (from pandas>=0.19->pmdarima) (2.8.2)\n",
            "Requirement already satisfied: pytz>=2020.1 in /usr/local/lib/python3.10/dist-packages (from pandas>=0.19->pmdarima) (2023.4)\n",
            "Requirement already satisfied: tzdata>=2022.1 in /usr/local/lib/python3.10/dist-packages (from pandas>=0.19->pmdarima) (2024.1)\n",
            "Requirement already satisfied: threadpoolctl>=2.0.0 in /usr/local/lib/python3.10/dist-packages (from scikit-learn>=0.22->pmdarima) (3.5.0)\n",
            "Requirement already satisfied: patsy>=0.5.6 in /usr/local/lib/python3.10/dist-packages (from statsmodels>=0.13.2->pmdarima) (0.5.6)\n",
            "Requirement already satisfied: six in /usr/local/lib/python3.10/dist-packages (from patsy>=0.5.6->statsmodels>=0.13.2->pmdarima) (1.16.0)\n",
            "Installing collected packages: pmdarima\n",
            "Successfully installed pmdarima-2.0.4\n"
          ]
        }
      ]
    },
    {
      "cell_type": "markdown",
      "source": [
        "#### Ajustando el modelo"
      ],
      "metadata": {
        "id": "HTxVjAs4Sv4A"
      }
    },
    {
      "cell_type": "markdown",
      "source": [
        "#####Auto Arima"
      ],
      "metadata": {
        "id": "E0a5wSe3tGaG"
      }
    },
    {
      "cell_type": "markdown",
      "source": [
        "Aplicaremos autoarima, para determinar los valores de p, q y d"
      ],
      "metadata": {
        "id": "gyKuUdCETgCb"
      }
    },
    {
      "cell_type": "code",
      "source": [
        "import pmdarima as pm"
      ],
      "metadata": {
        "id": "6Nq7wePOkpAw"
      },
      "execution_count": 72,
      "outputs": []
    },
    {
      "cell_type": "code",
      "source": [
        "\n",
        "pq = []\n",
        "for name in ['Compraventa_Unitario', 'm² por habitante']:\n",
        "    print(f'Searching order of p and q for : {name}')\n",
        "    # Ajusta un modelo ARIMA para cada columna\n",
        "    stepwise_model = pm.auto_arima(X_train_transformed[name],\n",
        "                                start_p=0, start_q=0,\n",
        "                                max_p=4, max_q=4,\n",
        "                                d=0,\n",
        "                                seasonal=False,\n",
        "                                trace=True,\n",
        "                                error_action='ignore',\n",
        "                                suppress_warnings=True,\n",
        "                                stepwise=True\n",
        "                                )\n",
        "    # Obtiene los parámetros óptimos de p y q del modelo\n",
        "    parameter = stepwise_model.get_params().get('order')\n",
        "    print(f'optimal order for:{name} is: {parameter} \\n\\n')\n",
        "    # Agrega los parámetros óptimos a la lista pq\n",
        "    pq.append(stepwise_model.get_params().get('order'))"
      ],
      "metadata": {
        "colab": {
          "base_uri": "https://localhost:8080/"
        },
        "id": "HR5DfxULokMK",
        "outputId": "7b05748c-14d6-47c6-8cce-e473cf8e0d91"
      },
      "execution_count": 77,
      "outputs": [
        {
          "output_type": "stream",
          "name": "stdout",
          "text": [
            "Searching order of p and q for : Compraventa_Unitario\n",
            "Performing stepwise search to minimize aic\n",
            " ARIMA(0,0,0)(0,0,0)[0]             : AIC=1006.010, Time=0.06 sec\n",
            " ARIMA(1,0,0)(0,0,0)[0]             : AIC=1008.010, Time=0.07 sec\n",
            " ARIMA(0,0,1)(0,0,0)[0]             : AIC=1008.010, Time=0.17 sec\n",
            " ARIMA(1,0,1)(0,0,0)[0]             : AIC=1010.010, Time=0.12 sec\n",
            " ARIMA(0,0,0)(0,0,0)[0] intercept   : AIC=1006.266, Time=0.06 sec\n",
            "\n",
            "Best model:  ARIMA(0,0,0)(0,0,0)[0]          \n",
            "Total fit time: 0.504 seconds\n",
            "optimal order for:Compraventa_Unitario is: (0, 0, 0) \n",
            "\n",
            "\n",
            "Searching order of p and q for : m² por habitante\n",
            "Performing stepwise search to minimize aic\n",
            " ARIMA(0,0,0)(0,0,0)[0]             : AIC=-369.707, Time=0.06 sec\n",
            " ARIMA(1,0,0)(0,0,0)[0]             : AIC=-367.707, Time=0.07 sec\n",
            " ARIMA(0,0,1)(0,0,0)[0]             : AIC=-367.707, Time=0.48 sec\n",
            " ARIMA(1,0,1)(0,0,0)[0]             : AIC=-365.707, Time=0.24 sec\n",
            " ARIMA(0,0,0)(0,0,0)[0] intercept   : AIC=-368.209, Time=0.21 sec\n",
            "\n",
            "Best model:  ARIMA(0,0,0)(0,0,0)[0]          \n",
            "Total fit time: 1.079 seconds\n",
            "optimal order for:m² por habitante is: (0, 0, 0) \n",
            "\n",
            "\n"
          ]
        }
      ]
    },
    {
      "cell_type": "code",
      "source": [
        "pq"
      ],
      "metadata": {
        "colab": {
          "base_uri": "https://localhost:8080/"
        },
        "id": "P3tgzd5hreCa",
        "outputId": "d86099c2-17e1-4c31-9c1d-807f72ecef57"
      },
      "execution_count": 78,
      "outputs": [
        {
          "output_type": "execute_result",
          "data": {
            "text/plain": [
              "[(0, 0, 0), (0, 0, 0)]"
            ]
          },
          "metadata": {},
          "execution_count": 78
        }
      ]
    },
    {
      "cell_type": "markdown",
      "source": [
        "- *p=0:* Indica que no hay términos autoregresivos en el modelo. En otras palabras, el modelo VARMAX no incluye dependencia de los valores pasados de las variables en sí mismas.\n",
        "\n",
        "- *q=0:* Indica que no hay términos de medias móviles en el modelo. Esto significa que no hay dependencia de los errores pasados del modelo en sí mismo.\n",
        "\n",
        "En este caso no se puede aplicar el modelo VARMAX, ya que el modelo esta considerando unicamente la tendencia lineal y no esta incorporando autocorrelacion en los residuos del modelo."
      ],
      "metadata": {
        "id": "qzRhRafEzGCc"
      }
    },
    {
      "cell_type": "markdown",
      "source": [
        "##Conclusiones"
      ],
      "metadata": {
        "id": "jupEV8ues2bR"
      }
    },
    {
      "cell_type": "markdown",
      "source": [
        "Como conclusiones de realizar un analisis de datos forecasting a los datos de distrito de **Nou Barris** de Barcelona entre las dos series temporales de Compraventa_unitario y m² por habitante de zonas verdes, tenemos que:\n",
        "\n",
        "- Se ha comprobado que las variables tienen alta correlacion inversa.\n",
        "- Se ha realizado el test de Cointegracion y se ha demostrado que las series no estan cointegradas, lo que desestima la opcion de aplicar un modelo VECM\n",
        "- Se ha comprobado que la dos series de datos temporales tienen estacionalidad a partir del segundo orden de diferenciacion, lo que las hace aptas para aplicar los dos modelos VAR y VARMA.\n",
        "- Modelo VAR: Las metricas de evaluacion del modelo VAR, son bastante satisfactorias para la variable de de zonas verdes, y no tanto para la variable del de valor de compraventa unitario\n",
        "\n"
      ],
      "metadata": {
        "id": "tih-GQeKd6yp"
      }
    }
  ],
  "metadata": {
    "colab": {
      "provenance": [],
      "toc_visible": true,
      "mount_file_id": "1XaGTPwNGj5gULe9QO04kLDwc_VF6q2c1",
      "authorship_tag": "ABX9TyMRjZyR5tgrcCrHJAYpMGyO",
      "include_colab_link": true
    },
    "kernelspec": {
      "display_name": "Python 3",
      "name": "python3"
    },
    "language_info": {
      "name": "python"
    }
  },
  "nbformat": 4,
  "nbformat_minor": 0
}